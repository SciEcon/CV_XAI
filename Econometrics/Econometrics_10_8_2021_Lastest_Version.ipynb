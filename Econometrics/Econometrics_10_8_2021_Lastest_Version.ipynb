{
  "nbformat": 4,
  "nbformat_minor": 0,
  "metadata": {
    "colab": {
      "name": "Econometrics_10_8_2021 Lastest Version.ipynb",
      "provenance": [],
      "collapsed_sections": [
        "xuOtNV6fallr",
        "Q2fSREFrfMg1",
        "wiO58pjdk9A3"
      ],
      "machine_shape": "hm",
      "authorship_tag": "ABX9TyO8JCpxXVFN4me3wvSh9RkX",
      "include_colab_link": true
    },
    "kernelspec": {
      "name": "python3",
      "display_name": "Python 3"
    },
    "language_info": {
      "name": "python"
    }
  },
  "cells": [
    {
      "cell_type": "markdown",
      "metadata": {
        "id": "view-in-github",
        "colab_type": "text"
      },
      "source": [
        "<a href=\"https://colab.research.google.com/github/sunshineluyao/CV_XAI/blob/master/Econometrics/Econometrics_10_8_2021_Lastest_Version.ipynb\" target=\"_parent\"><img src=\"https://colab.research.google.com/assets/colab-badge.svg\" alt=\"Open In Colab\"/></a>"
      ]
    },
    {
      "cell_type": "markdown",
      "metadata": {
        "id": "a1FcpD04FeT_"
      },
      "source": [
        "# data source: \n",
        "\n",
        "https://github.com/sunshineluyao/CVML2021\n",
        "\n",
        "# Code Source: For previous updates:\n",
        "\n",
        "https://github.com/sunshineluyao/CV_ML/tree/master/Data2020"
      ]
    },
    {
      "cell_type": "code",
      "metadata": {
        "id": "5I7kRf91D3j5"
      },
      "source": [
        "import pandas as pd \n",
        "import numpy as np\n",
        "###show all columns\n",
        "pd.set_option('display.max_columns', None)\n",
        "pd.set_option('display.max_rows', None)"
      ],
      "execution_count": null,
      "outputs": []
    },
    {
      "cell_type": "code",
      "metadata": {
        "colab": {
          "base_uri": "https://localhost:8080/",
          "height": 356
        },
        "id": "4qgRXfieWjQ5",
        "outputId": "51425bdf-1ddc-4144-f18e-0c3e31a686d7"
      },
      "source": [
        "from google.colab import drive\n",
        "drive.mount('/content/drive')\n",
        "print('Authenticated')"
      ],
      "execution_count": null,
      "outputs": [
        {
          "output_type": "error",
          "ename": "KeyboardInterrupt",
          "evalue": "ignored",
          "traceback": [
            "\u001b[0;31m---------------------------------------------------------------------------\u001b[0m",
            "\u001b[0;31mKeyboardInterrupt\u001b[0m                         Traceback (most recent call last)",
            "\u001b[0;32m<ipython-input-3-0d9966ea20d9>\u001b[0m in \u001b[0;36m<module>\u001b[0;34m()\u001b[0m\n\u001b[1;32m      1\u001b[0m \u001b[0;32mfrom\u001b[0m \u001b[0mgoogle\u001b[0m\u001b[0;34m.\u001b[0m\u001b[0mcolab\u001b[0m \u001b[0;32mimport\u001b[0m \u001b[0mdrive\u001b[0m\u001b[0;34m\u001b[0m\u001b[0;34m\u001b[0m\u001b[0m\n\u001b[0;32m----> 2\u001b[0;31m \u001b[0mdrive\u001b[0m\u001b[0;34m.\u001b[0m\u001b[0mmount\u001b[0m\u001b[0;34m(\u001b[0m\u001b[0;34m'/content/drive'\u001b[0m\u001b[0;34m)\u001b[0m\u001b[0;34m\u001b[0m\u001b[0;34m\u001b[0m\u001b[0m\n\u001b[0m\u001b[1;32m      3\u001b[0m \u001b[0mprint\u001b[0m\u001b[0;34m(\u001b[0m\u001b[0;34m'Authenticated'\u001b[0m\u001b[0;34m)\u001b[0m\u001b[0;34m\u001b[0m\u001b[0;34m\u001b[0m\u001b[0m\n",
            "\u001b[0;32m/usr/local/lib/python3.7/dist-packages/google/colab/drive.py\u001b[0m in \u001b[0;36mmount\u001b[0;34m(mountpoint, force_remount, timeout_ms, use_metadata_server)\u001b[0m\n\u001b[1;32m    111\u001b[0m       \u001b[0mtimeout_ms\u001b[0m\u001b[0;34m=\u001b[0m\u001b[0mtimeout_ms\u001b[0m\u001b[0;34m,\u001b[0m\u001b[0;34m\u001b[0m\u001b[0;34m\u001b[0m\u001b[0m\n\u001b[1;32m    112\u001b[0m       \u001b[0muse_metadata_server\u001b[0m\u001b[0;34m=\u001b[0m\u001b[0muse_metadata_server\u001b[0m\u001b[0;34m,\u001b[0m\u001b[0;34m\u001b[0m\u001b[0;34m\u001b[0m\u001b[0m\n\u001b[0;32m--> 113\u001b[0;31m       ephemeral=ephemeral)\n\u001b[0m\u001b[1;32m    114\u001b[0m \u001b[0;34m\u001b[0m\u001b[0m\n\u001b[1;32m    115\u001b[0m \u001b[0;34m\u001b[0m\u001b[0m\n",
            "\u001b[0;32m/usr/local/lib/python3.7/dist-packages/google/colab/drive.py\u001b[0m in \u001b[0;36m_mount\u001b[0;34m(mountpoint, force_remount, timeout_ms, use_metadata_server, ephemeral)\u001b[0m\n\u001b[1;32m    134\u001b[0m   \u001b[0;32mif\u001b[0m \u001b[0mephemeral\u001b[0m\u001b[0;34m:\u001b[0m\u001b[0;34m\u001b[0m\u001b[0;34m\u001b[0m\u001b[0m\n\u001b[1;32m    135\u001b[0m     _message.blocking_request(\n\u001b[0;32m--> 136\u001b[0;31m         'request_auth', request={'authType': 'dfs_ephemeral'}, timeout_sec=None)\n\u001b[0m\u001b[1;32m    137\u001b[0m \u001b[0;34m\u001b[0m\u001b[0m\n\u001b[1;32m    138\u001b[0m   \u001b[0mmountpoint\u001b[0m \u001b[0;34m=\u001b[0m \u001b[0m_os\u001b[0m\u001b[0;34m.\u001b[0m\u001b[0mpath\u001b[0m\u001b[0;34m.\u001b[0m\u001b[0mexpanduser\u001b[0m\u001b[0;34m(\u001b[0m\u001b[0mmountpoint\u001b[0m\u001b[0;34m)\u001b[0m\u001b[0;34m\u001b[0m\u001b[0;34m\u001b[0m\u001b[0m\n",
            "\u001b[0;32m/usr/local/lib/python3.7/dist-packages/google/colab/_message.py\u001b[0m in \u001b[0;36mblocking_request\u001b[0;34m(request_type, request, timeout_sec, parent)\u001b[0m\n\u001b[1;32m    173\u001b[0m   request_id = send_request(\n\u001b[1;32m    174\u001b[0m       request_type, request, parent=parent, expect_reply=True)\n\u001b[0;32m--> 175\u001b[0;31m   \u001b[0;32mreturn\u001b[0m \u001b[0mread_reply_from_input\u001b[0m\u001b[0;34m(\u001b[0m\u001b[0mrequest_id\u001b[0m\u001b[0;34m,\u001b[0m \u001b[0mtimeout_sec\u001b[0m\u001b[0;34m)\u001b[0m\u001b[0;34m\u001b[0m\u001b[0;34m\u001b[0m\u001b[0m\n\u001b[0m",
            "\u001b[0;32m/usr/local/lib/python3.7/dist-packages/google/colab/_message.py\u001b[0m in \u001b[0;36mread_reply_from_input\u001b[0;34m(message_id, timeout_sec)\u001b[0m\n\u001b[1;32m     99\u001b[0m     \u001b[0mreply\u001b[0m \u001b[0;34m=\u001b[0m \u001b[0m_read_next_input_message\u001b[0m\u001b[0;34m(\u001b[0m\u001b[0;34m)\u001b[0m\u001b[0;34m\u001b[0m\u001b[0;34m\u001b[0m\u001b[0m\n\u001b[1;32m    100\u001b[0m     \u001b[0;32mif\u001b[0m \u001b[0mreply\u001b[0m \u001b[0;34m==\u001b[0m \u001b[0m_NOT_READY\u001b[0m \u001b[0;32mor\u001b[0m \u001b[0;32mnot\u001b[0m \u001b[0misinstance\u001b[0m\u001b[0;34m(\u001b[0m\u001b[0mreply\u001b[0m\u001b[0;34m,\u001b[0m \u001b[0mdict\u001b[0m\u001b[0;34m)\u001b[0m\u001b[0;34m:\u001b[0m\u001b[0;34m\u001b[0m\u001b[0;34m\u001b[0m\u001b[0m\n\u001b[0;32m--> 101\u001b[0;31m       \u001b[0mtime\u001b[0m\u001b[0;34m.\u001b[0m\u001b[0msleep\u001b[0m\u001b[0;34m(\u001b[0m\u001b[0;36m0.025\u001b[0m\u001b[0;34m)\u001b[0m\u001b[0;34m\u001b[0m\u001b[0;34m\u001b[0m\u001b[0m\n\u001b[0m\u001b[1;32m    102\u001b[0m       \u001b[0;32mcontinue\u001b[0m\u001b[0;34m\u001b[0m\u001b[0;34m\u001b[0m\u001b[0m\n\u001b[1;32m    103\u001b[0m     if (reply.get('type') == 'colab_reply' and\n",
            "\u001b[0;31mKeyboardInterrupt\u001b[0m: "
          ]
        }
      ]
    },
    {
      "cell_type": "code",
      "metadata": {
        "colab": {
          "base_uri": "https://localhost:8080/",
          "height": 444
        },
        "id": "82AjWbhAG7kk",
        "outputId": "3b194556-d1d5-4905-d7de-250c4af226dc"
      },
      "source": [
        "df=pd.read_csv('https://raw.githubusercontent.com/sunshineluyao/CVML2021/main/BTC_2020_12_31.csv',index_col='Unnamed: 0')\n",
        "df.head()"
      ],
      "execution_count": null,
      "outputs": [
        {
          "output_type": "execute_result",
          "data": {
            "text/html": [
              "\n",
              "  <div id=\"df-7e3aa5a1-9d6a-415a-9c2f-03268d849330\">\n",
              "    <div class=\"colab-df-container\">\n",
              "      <div>\n",
              "<style scoped>\n",
              "    .dataframe tbody tr th:only-of-type {\n",
              "        vertical-align: middle;\n",
              "    }\n",
              "\n",
              "    .dataframe tbody tr th {\n",
              "        vertical-align: top;\n",
              "    }\n",
              "\n",
              "    .dataframe thead th {\n",
              "        text-align: right;\n",
              "    }\n",
              "</style>\n",
              "<table border=\"1\" class=\"dataframe\">\n",
              "  <thead>\n",
              "    <tr style=\"text-align: right;\">\n",
              "      <th></th>\n",
              "      <th>AdrActCnt</th>\n",
              "      <th>BlkCnt</th>\n",
              "      <th>BlkSizeByte</th>\n",
              "      <th>BlkSizeMeanByte</th>\n",
              "      <th>CapMVRVCur</th>\n",
              "      <th>CapMrktCurUSD</th>\n",
              "      <th>CapRealUSD</th>\n",
              "      <th>DiffMean</th>\n",
              "      <th>FeeMeanNtv</th>\n",
              "      <th>FeeMeanUSD</th>\n",
              "      <th>FeeMedNtv</th>\n",
              "      <th>FeeMedUSD</th>\n",
              "      <th>FeeTotNtv</th>\n",
              "      <th>FeeTotUSD</th>\n",
              "      <th>HashRate</th>\n",
              "      <th>IssContNtv</th>\n",
              "      <th>IssContPctAnn</th>\n",
              "      <th>IssContUSD</th>\n",
              "      <th>IssTotNtv</th>\n",
              "      <th>IssTotUSD</th>\n",
              "      <th>NVTAdj</th>\n",
              "      <th>NVTAdj90</th>\n",
              "      <th>PriceBTC</th>\n",
              "      <th>PriceUSD</th>\n",
              "      <th>ROI1yr</th>\n",
              "      <th>ROI30d</th>\n",
              "      <th>SplyCur</th>\n",
              "      <th>SplyExpFut10yrCMBI</th>\n",
              "      <th>SplyFF</th>\n",
              "      <th>TxCnt</th>\n",
              "      <th>TxTfrCnt</th>\n",
              "      <th>TxTfrValAdjNtv</th>\n",
              "      <th>TxTfrValAdjUSD</th>\n",
              "      <th>TxTfrValMeanNtv</th>\n",
              "      <th>TxTfrValMeanUSD</th>\n",
              "      <th>TxTfrValMedNtv</th>\n",
              "      <th>TxTfrValMedUSD</th>\n",
              "      <th>TxTfrValNtv</th>\n",
              "      <th>TxTfrValUSD</th>\n",
              "      <th>VtyDayRet180d</th>\n",
              "      <th>VtyDayRet30d</th>\n",
              "      <th>VtyDayRet60d</th>\n",
              "      <th>Volume</th>\n",
              "      <th>Annualized_DilutionRate</th>\n",
              "      <th>Total daily transaction volume</th>\n",
              "      <th>Velocity</th>\n",
              "      <th>The daily revenue of bitcoin miners</th>\n",
              "      <th>The accumulated revenue of bitcoin miners</th>\n",
              "      <th>P/E Ratio</th>\n",
              "      <th>Metcalfe</th>\n",
              "      <th>PM</th>\n",
              "      <th>&lt;1d</th>\n",
              "      <th>1d ~ 1m</th>\n",
              "      <th>1m ~ 1q</th>\n",
              "      <th>1q ~ 6m</th>\n",
              "      <th>6m ~ 1y</th>\n",
              "      <th>1y ~ 2y</th>\n",
              "      <th>2y ~ 3y</th>\n",
              "      <th>3y ~ 4y</th>\n",
              "      <th>4y ~ 5y</th>\n",
              "      <th>5y~10y</th>\n",
              "      <th>&gt;10y</th>\n",
              "      <th>One-year staking ratio</th>\n",
              "      <th>Two-year staking ratio</th>\n",
              "      <th>Three-year staking ratio</th>\n",
              "      <th>Four-year staking ratio</th>\n",
              "      <th>Five-year staking ratio</th>\n",
              "      <th>Ten-year staking ratio</th>\n",
              "      <th>Token Utility</th>\n",
              "      <th>PU Ratio</th>\n",
              "      <th>volatility30</th>\n",
              "      <th>volatility60</th>\n",
              "      <th>volatility90</th>\n",
              "      <th>volatility180</th>\n",
              "      <th>Token Utility_volatility</th>\n",
              "      <th>PU Ratio_volatility</th>\n",
              "    </tr>\n",
              "  </thead>\n",
              "  <tbody>\n",
              "    <tr>\n",
              "      <th>2009-01-03</th>\n",
              "      <td>0.0</td>\n",
              "      <td>0.0</td>\n",
              "      <td>0.0</td>\n",
              "      <td>NaN</td>\n",
              "      <td>NaN</td>\n",
              "      <td>NaN</td>\n",
              "      <td>0.0</td>\n",
              "      <td>NaN</td>\n",
              "      <td>NaN</td>\n",
              "      <td>NaN</td>\n",
              "      <td>NaN</td>\n",
              "      <td>NaN</td>\n",
              "      <td>0.0</td>\n",
              "      <td>NaN</td>\n",
              "      <td>NaN</td>\n",
              "      <td>NaN</td>\n",
              "      <td>NaN</td>\n",
              "      <td>NaN</td>\n",
              "      <td>NaN</td>\n",
              "      <td>NaN</td>\n",
              "      <td>NaN</td>\n",
              "      <td>NaN</td>\n",
              "      <td>1.0</td>\n",
              "      <td>NaN</td>\n",
              "      <td>NaN</td>\n",
              "      <td>NaN</td>\n",
              "      <td>0.0</td>\n",
              "      <td>NaN</td>\n",
              "      <td>0.0</td>\n",
              "      <td>0.0</td>\n",
              "      <td>0.0</td>\n",
              "      <td>0.0</td>\n",
              "      <td>NaN</td>\n",
              "      <td>NaN</td>\n",
              "      <td>NaN</td>\n",
              "      <td>NaN</td>\n",
              "      <td>NaN</td>\n",
              "      <td>0.0</td>\n",
              "      <td>NaN</td>\n",
              "      <td>NaN</td>\n",
              "      <td>NaN</td>\n",
              "      <td>NaN</td>\n",
              "      <td>NaN</td>\n",
              "      <td>NaN</td>\n",
              "      <td>NaN</td>\n",
              "      <td>NaN</td>\n",
              "      <td>NaN</td>\n",
              "      <td>NaN</td>\n",
              "      <td>NaN</td>\n",
              "      <td>0.0</td>\n",
              "      <td>NaN</td>\n",
              "      <td>1.0</td>\n",
              "      <td>0.0</td>\n",
              "      <td>0.0</td>\n",
              "      <td>0.0</td>\n",
              "      <td>0.0</td>\n",
              "      <td>0.0</td>\n",
              "      <td>0.0</td>\n",
              "      <td>0.0</td>\n",
              "      <td>0.0</td>\n",
              "      <td>0.0</td>\n",
              "      <td>0.0</td>\n",
              "      <td>0.0</td>\n",
              "      <td>0.0</td>\n",
              "      <td>0.0</td>\n",
              "      <td>0.0</td>\n",
              "      <td>0.0</td>\n",
              "      <td>0.0</td>\n",
              "      <td>NaN</td>\n",
              "      <td>NaN</td>\n",
              "      <td>NaN</td>\n",
              "      <td>NaN</td>\n",
              "      <td>NaN</td>\n",
              "      <td>NaN</td>\n",
              "      <td>NaN</td>\n",
              "      <td>NaN</td>\n",
              "    </tr>\n",
              "    <tr>\n",
              "      <th>2009-01-04</th>\n",
              "      <td>0.0</td>\n",
              "      <td>0.0</td>\n",
              "      <td>0.0</td>\n",
              "      <td>NaN</td>\n",
              "      <td>NaN</td>\n",
              "      <td>NaN</td>\n",
              "      <td>0.0</td>\n",
              "      <td>NaN</td>\n",
              "      <td>NaN</td>\n",
              "      <td>NaN</td>\n",
              "      <td>NaN</td>\n",
              "      <td>NaN</td>\n",
              "      <td>0.0</td>\n",
              "      <td>NaN</td>\n",
              "      <td>NaN</td>\n",
              "      <td>NaN</td>\n",
              "      <td>NaN</td>\n",
              "      <td>NaN</td>\n",
              "      <td>NaN</td>\n",
              "      <td>NaN</td>\n",
              "      <td>NaN</td>\n",
              "      <td>NaN</td>\n",
              "      <td>1.0</td>\n",
              "      <td>NaN</td>\n",
              "      <td>NaN</td>\n",
              "      <td>NaN</td>\n",
              "      <td>0.0</td>\n",
              "      <td>NaN</td>\n",
              "      <td>0.0</td>\n",
              "      <td>0.0</td>\n",
              "      <td>0.0</td>\n",
              "      <td>0.0</td>\n",
              "      <td>NaN</td>\n",
              "      <td>NaN</td>\n",
              "      <td>NaN</td>\n",
              "      <td>NaN</td>\n",
              "      <td>NaN</td>\n",
              "      <td>0.0</td>\n",
              "      <td>NaN</td>\n",
              "      <td>NaN</td>\n",
              "      <td>NaN</td>\n",
              "      <td>NaN</td>\n",
              "      <td>NaN</td>\n",
              "      <td>NaN</td>\n",
              "      <td>NaN</td>\n",
              "      <td>NaN</td>\n",
              "      <td>NaN</td>\n",
              "      <td>NaN</td>\n",
              "      <td>NaN</td>\n",
              "      <td>0.0</td>\n",
              "      <td>NaN</td>\n",
              "      <td>0.0</td>\n",
              "      <td>1.0</td>\n",
              "      <td>0.0</td>\n",
              "      <td>0.0</td>\n",
              "      <td>0.0</td>\n",
              "      <td>0.0</td>\n",
              "      <td>0.0</td>\n",
              "      <td>0.0</td>\n",
              "      <td>0.0</td>\n",
              "      <td>0.0</td>\n",
              "      <td>0.0</td>\n",
              "      <td>0.0</td>\n",
              "      <td>0.0</td>\n",
              "      <td>0.0</td>\n",
              "      <td>0.0</td>\n",
              "      <td>0.0</td>\n",
              "      <td>0.0</td>\n",
              "      <td>NaN</td>\n",
              "      <td>NaN</td>\n",
              "      <td>NaN</td>\n",
              "      <td>NaN</td>\n",
              "      <td>NaN</td>\n",
              "      <td>NaN</td>\n",
              "      <td>NaN</td>\n",
              "      <td>NaN</td>\n",
              "    </tr>\n",
              "    <tr>\n",
              "      <th>2009-01-05</th>\n",
              "      <td>0.0</td>\n",
              "      <td>0.0</td>\n",
              "      <td>0.0</td>\n",
              "      <td>NaN</td>\n",
              "      <td>NaN</td>\n",
              "      <td>NaN</td>\n",
              "      <td>0.0</td>\n",
              "      <td>NaN</td>\n",
              "      <td>NaN</td>\n",
              "      <td>NaN</td>\n",
              "      <td>NaN</td>\n",
              "      <td>NaN</td>\n",
              "      <td>0.0</td>\n",
              "      <td>NaN</td>\n",
              "      <td>NaN</td>\n",
              "      <td>NaN</td>\n",
              "      <td>NaN</td>\n",
              "      <td>NaN</td>\n",
              "      <td>NaN</td>\n",
              "      <td>NaN</td>\n",
              "      <td>NaN</td>\n",
              "      <td>NaN</td>\n",
              "      <td>1.0</td>\n",
              "      <td>NaN</td>\n",
              "      <td>NaN</td>\n",
              "      <td>NaN</td>\n",
              "      <td>0.0</td>\n",
              "      <td>NaN</td>\n",
              "      <td>0.0</td>\n",
              "      <td>0.0</td>\n",
              "      <td>0.0</td>\n",
              "      <td>0.0</td>\n",
              "      <td>NaN</td>\n",
              "      <td>NaN</td>\n",
              "      <td>NaN</td>\n",
              "      <td>NaN</td>\n",
              "      <td>NaN</td>\n",
              "      <td>0.0</td>\n",
              "      <td>NaN</td>\n",
              "      <td>NaN</td>\n",
              "      <td>NaN</td>\n",
              "      <td>NaN</td>\n",
              "      <td>NaN</td>\n",
              "      <td>NaN</td>\n",
              "      <td>NaN</td>\n",
              "      <td>NaN</td>\n",
              "      <td>NaN</td>\n",
              "      <td>NaN</td>\n",
              "      <td>NaN</td>\n",
              "      <td>0.0</td>\n",
              "      <td>NaN</td>\n",
              "      <td>0.0</td>\n",
              "      <td>1.0</td>\n",
              "      <td>0.0</td>\n",
              "      <td>0.0</td>\n",
              "      <td>0.0</td>\n",
              "      <td>0.0</td>\n",
              "      <td>0.0</td>\n",
              "      <td>0.0</td>\n",
              "      <td>0.0</td>\n",
              "      <td>0.0</td>\n",
              "      <td>0.0</td>\n",
              "      <td>0.0</td>\n",
              "      <td>0.0</td>\n",
              "      <td>0.0</td>\n",
              "      <td>0.0</td>\n",
              "      <td>0.0</td>\n",
              "      <td>0.0</td>\n",
              "      <td>NaN</td>\n",
              "      <td>NaN</td>\n",
              "      <td>NaN</td>\n",
              "      <td>NaN</td>\n",
              "      <td>NaN</td>\n",
              "      <td>NaN</td>\n",
              "      <td>NaN</td>\n",
              "      <td>NaN</td>\n",
              "    </tr>\n",
              "    <tr>\n",
              "      <th>2009-01-06</th>\n",
              "      <td>0.0</td>\n",
              "      <td>0.0</td>\n",
              "      <td>0.0</td>\n",
              "      <td>NaN</td>\n",
              "      <td>NaN</td>\n",
              "      <td>NaN</td>\n",
              "      <td>0.0</td>\n",
              "      <td>NaN</td>\n",
              "      <td>NaN</td>\n",
              "      <td>NaN</td>\n",
              "      <td>NaN</td>\n",
              "      <td>NaN</td>\n",
              "      <td>0.0</td>\n",
              "      <td>NaN</td>\n",
              "      <td>NaN</td>\n",
              "      <td>NaN</td>\n",
              "      <td>NaN</td>\n",
              "      <td>NaN</td>\n",
              "      <td>NaN</td>\n",
              "      <td>NaN</td>\n",
              "      <td>NaN</td>\n",
              "      <td>NaN</td>\n",
              "      <td>1.0</td>\n",
              "      <td>NaN</td>\n",
              "      <td>NaN</td>\n",
              "      <td>NaN</td>\n",
              "      <td>0.0</td>\n",
              "      <td>NaN</td>\n",
              "      <td>0.0</td>\n",
              "      <td>0.0</td>\n",
              "      <td>0.0</td>\n",
              "      <td>0.0</td>\n",
              "      <td>NaN</td>\n",
              "      <td>NaN</td>\n",
              "      <td>NaN</td>\n",
              "      <td>NaN</td>\n",
              "      <td>NaN</td>\n",
              "      <td>0.0</td>\n",
              "      <td>NaN</td>\n",
              "      <td>NaN</td>\n",
              "      <td>NaN</td>\n",
              "      <td>NaN</td>\n",
              "      <td>NaN</td>\n",
              "      <td>NaN</td>\n",
              "      <td>NaN</td>\n",
              "      <td>NaN</td>\n",
              "      <td>NaN</td>\n",
              "      <td>NaN</td>\n",
              "      <td>NaN</td>\n",
              "      <td>0.0</td>\n",
              "      <td>NaN</td>\n",
              "      <td>0.0</td>\n",
              "      <td>1.0</td>\n",
              "      <td>0.0</td>\n",
              "      <td>0.0</td>\n",
              "      <td>0.0</td>\n",
              "      <td>0.0</td>\n",
              "      <td>0.0</td>\n",
              "      <td>0.0</td>\n",
              "      <td>0.0</td>\n",
              "      <td>0.0</td>\n",
              "      <td>0.0</td>\n",
              "      <td>0.0</td>\n",
              "      <td>0.0</td>\n",
              "      <td>0.0</td>\n",
              "      <td>0.0</td>\n",
              "      <td>0.0</td>\n",
              "      <td>0.0</td>\n",
              "      <td>NaN</td>\n",
              "      <td>NaN</td>\n",
              "      <td>NaN</td>\n",
              "      <td>NaN</td>\n",
              "      <td>NaN</td>\n",
              "      <td>NaN</td>\n",
              "      <td>NaN</td>\n",
              "      <td>NaN</td>\n",
              "    </tr>\n",
              "    <tr>\n",
              "      <th>2009-01-07</th>\n",
              "      <td>0.0</td>\n",
              "      <td>0.0</td>\n",
              "      <td>0.0</td>\n",
              "      <td>NaN</td>\n",
              "      <td>NaN</td>\n",
              "      <td>NaN</td>\n",
              "      <td>0.0</td>\n",
              "      <td>NaN</td>\n",
              "      <td>NaN</td>\n",
              "      <td>NaN</td>\n",
              "      <td>NaN</td>\n",
              "      <td>NaN</td>\n",
              "      <td>0.0</td>\n",
              "      <td>NaN</td>\n",
              "      <td>NaN</td>\n",
              "      <td>NaN</td>\n",
              "      <td>NaN</td>\n",
              "      <td>NaN</td>\n",
              "      <td>NaN</td>\n",
              "      <td>NaN</td>\n",
              "      <td>NaN</td>\n",
              "      <td>NaN</td>\n",
              "      <td>1.0</td>\n",
              "      <td>NaN</td>\n",
              "      <td>NaN</td>\n",
              "      <td>NaN</td>\n",
              "      <td>0.0</td>\n",
              "      <td>NaN</td>\n",
              "      <td>0.0</td>\n",
              "      <td>0.0</td>\n",
              "      <td>0.0</td>\n",
              "      <td>0.0</td>\n",
              "      <td>NaN</td>\n",
              "      <td>NaN</td>\n",
              "      <td>NaN</td>\n",
              "      <td>NaN</td>\n",
              "      <td>NaN</td>\n",
              "      <td>0.0</td>\n",
              "      <td>NaN</td>\n",
              "      <td>NaN</td>\n",
              "      <td>NaN</td>\n",
              "      <td>NaN</td>\n",
              "      <td>NaN</td>\n",
              "      <td>NaN</td>\n",
              "      <td>NaN</td>\n",
              "      <td>NaN</td>\n",
              "      <td>NaN</td>\n",
              "      <td>NaN</td>\n",
              "      <td>NaN</td>\n",
              "      <td>0.0</td>\n",
              "      <td>NaN</td>\n",
              "      <td>0.0</td>\n",
              "      <td>1.0</td>\n",
              "      <td>0.0</td>\n",
              "      <td>0.0</td>\n",
              "      <td>0.0</td>\n",
              "      <td>0.0</td>\n",
              "      <td>0.0</td>\n",
              "      <td>0.0</td>\n",
              "      <td>0.0</td>\n",
              "      <td>0.0</td>\n",
              "      <td>0.0</td>\n",
              "      <td>0.0</td>\n",
              "      <td>0.0</td>\n",
              "      <td>0.0</td>\n",
              "      <td>0.0</td>\n",
              "      <td>0.0</td>\n",
              "      <td>0.0</td>\n",
              "      <td>NaN</td>\n",
              "      <td>NaN</td>\n",
              "      <td>NaN</td>\n",
              "      <td>NaN</td>\n",
              "      <td>NaN</td>\n",
              "      <td>NaN</td>\n",
              "      <td>NaN</td>\n",
              "      <td>NaN</td>\n",
              "    </tr>\n",
              "  </tbody>\n",
              "</table>\n",
              "</div>\n",
              "      <button class=\"colab-df-convert\" onclick=\"convertToInteractive('df-7e3aa5a1-9d6a-415a-9c2f-03268d849330')\"\n",
              "              title=\"Convert this dataframe to an interactive table.\"\n",
              "              style=\"display:none;\">\n",
              "        \n",
              "  <svg xmlns=\"http://www.w3.org/2000/svg\" height=\"24px\"viewBox=\"0 0 24 24\"\n",
              "       width=\"24px\">\n",
              "    <path d=\"M0 0h24v24H0V0z\" fill=\"none\"/>\n",
              "    <path d=\"M18.56 5.44l.94 2.06.94-2.06 2.06-.94-2.06-.94-.94-2.06-.94 2.06-2.06.94zm-11 1L8.5 8.5l.94-2.06 2.06-.94-2.06-.94L8.5 2.5l-.94 2.06-2.06.94zm10 10l.94 2.06.94-2.06 2.06-.94-2.06-.94-.94-2.06-.94 2.06-2.06.94z\"/><path d=\"M17.41 7.96l-1.37-1.37c-.4-.4-.92-.59-1.43-.59-.52 0-1.04.2-1.43.59L10.3 9.45l-7.72 7.72c-.78.78-.78 2.05 0 2.83L4 21.41c.39.39.9.59 1.41.59.51 0 1.02-.2 1.41-.59l7.78-7.78 2.81-2.81c.8-.78.8-2.07 0-2.86zM5.41 20L4 18.59l7.72-7.72 1.47 1.35L5.41 20z\"/>\n",
              "  </svg>\n",
              "      </button>\n",
              "      \n",
              "  <style>\n",
              "    .colab-df-container {\n",
              "      display:flex;\n",
              "      flex-wrap:wrap;\n",
              "      gap: 12px;\n",
              "    }\n",
              "\n",
              "    .colab-df-convert {\n",
              "      background-color: #E8F0FE;\n",
              "      border: none;\n",
              "      border-radius: 50%;\n",
              "      cursor: pointer;\n",
              "      display: none;\n",
              "      fill: #1967D2;\n",
              "      height: 32px;\n",
              "      padding: 0 0 0 0;\n",
              "      width: 32px;\n",
              "    }\n",
              "\n",
              "    .colab-df-convert:hover {\n",
              "      background-color: #E2EBFA;\n",
              "      box-shadow: 0px 1px 2px rgba(60, 64, 67, 0.3), 0px 1px 3px 1px rgba(60, 64, 67, 0.15);\n",
              "      fill: #174EA6;\n",
              "    }\n",
              "\n",
              "    [theme=dark] .colab-df-convert {\n",
              "      background-color: #3B4455;\n",
              "      fill: #D2E3FC;\n",
              "    }\n",
              "\n",
              "    [theme=dark] .colab-df-convert:hover {\n",
              "      background-color: #434B5C;\n",
              "      box-shadow: 0px 1px 3px 1px rgba(0, 0, 0, 0.15);\n",
              "      filter: drop-shadow(0px 1px 2px rgba(0, 0, 0, 0.3));\n",
              "      fill: #FFFFFF;\n",
              "    }\n",
              "  </style>\n",
              "\n",
              "      <script>\n",
              "        const buttonEl =\n",
              "          document.querySelector('#df-7e3aa5a1-9d6a-415a-9c2f-03268d849330 button.colab-df-convert');\n",
              "        buttonEl.style.display =\n",
              "          google.colab.kernel.accessAllowed ? 'block' : 'none';\n",
              "\n",
              "        async function convertToInteractive(key) {\n",
              "          const element = document.querySelector('#df-7e3aa5a1-9d6a-415a-9c2f-03268d849330');\n",
              "          const dataTable =\n",
              "            await google.colab.kernel.invokeFunction('convertToInteractive',\n",
              "                                                     [key], {});\n",
              "          if (!dataTable) return;\n",
              "\n",
              "          const docLinkHtml = 'Like what you see? Visit the ' +\n",
              "            '<a target=\"_blank\" href=https://colab.research.google.com/notebooks/data_table.ipynb>data table notebook</a>'\n",
              "            + ' to learn more about interactive tables.';\n",
              "          element.innerHTML = '';\n",
              "          dataTable['output_type'] = 'display_data';\n",
              "          await google.colab.output.renderOutput(dataTable, element);\n",
              "          const docLink = document.createElement('div');\n",
              "          docLink.innerHTML = docLinkHtml;\n",
              "          element.appendChild(docLink);\n",
              "        }\n",
              "      </script>\n",
              "    </div>\n",
              "  </div>\n",
              "  "
            ],
            "text/plain": [
              "            AdrActCnt  BlkCnt  BlkSizeByte  BlkSizeMeanByte  CapMVRVCur  \\\n",
              "2009-01-03        0.0     0.0          0.0              NaN         NaN   \n",
              "2009-01-04        0.0     0.0          0.0              NaN         NaN   \n",
              "2009-01-05        0.0     0.0          0.0              NaN         NaN   \n",
              "2009-01-06        0.0     0.0          0.0              NaN         NaN   \n",
              "2009-01-07        0.0     0.0          0.0              NaN         NaN   \n",
              "\n",
              "            CapMrktCurUSD  CapRealUSD  DiffMean  FeeMeanNtv  FeeMeanUSD  \\\n",
              "2009-01-03            NaN         0.0       NaN         NaN         NaN   \n",
              "2009-01-04            NaN         0.0       NaN         NaN         NaN   \n",
              "2009-01-05            NaN         0.0       NaN         NaN         NaN   \n",
              "2009-01-06            NaN         0.0       NaN         NaN         NaN   \n",
              "2009-01-07            NaN         0.0       NaN         NaN         NaN   \n",
              "\n",
              "            FeeMedNtv  FeeMedUSD  FeeTotNtv  FeeTotUSD  HashRate  IssContNtv  \\\n",
              "2009-01-03        NaN        NaN        0.0        NaN       NaN         NaN   \n",
              "2009-01-04        NaN        NaN        0.0        NaN       NaN         NaN   \n",
              "2009-01-05        NaN        NaN        0.0        NaN       NaN         NaN   \n",
              "2009-01-06        NaN        NaN        0.0        NaN       NaN         NaN   \n",
              "2009-01-07        NaN        NaN        0.0        NaN       NaN         NaN   \n",
              "\n",
              "            IssContPctAnn  IssContUSD  IssTotNtv  IssTotUSD  NVTAdj  NVTAdj90  \\\n",
              "2009-01-03            NaN         NaN        NaN        NaN     NaN       NaN   \n",
              "2009-01-04            NaN         NaN        NaN        NaN     NaN       NaN   \n",
              "2009-01-05            NaN         NaN        NaN        NaN     NaN       NaN   \n",
              "2009-01-06            NaN         NaN        NaN        NaN     NaN       NaN   \n",
              "2009-01-07            NaN         NaN        NaN        NaN     NaN       NaN   \n",
              "\n",
              "            PriceBTC  PriceUSD  ROI1yr  ROI30d  SplyCur  SplyExpFut10yrCMBI  \\\n",
              "2009-01-03       1.0       NaN     NaN     NaN      0.0                 NaN   \n",
              "2009-01-04       1.0       NaN     NaN     NaN      0.0                 NaN   \n",
              "2009-01-05       1.0       NaN     NaN     NaN      0.0                 NaN   \n",
              "2009-01-06       1.0       NaN     NaN     NaN      0.0                 NaN   \n",
              "2009-01-07       1.0       NaN     NaN     NaN      0.0                 NaN   \n",
              "\n",
              "            SplyFF  TxCnt  TxTfrCnt  TxTfrValAdjNtv  TxTfrValAdjUSD  \\\n",
              "2009-01-03     0.0    0.0       0.0             0.0             NaN   \n",
              "2009-01-04     0.0    0.0       0.0             0.0             NaN   \n",
              "2009-01-05     0.0    0.0       0.0             0.0             NaN   \n",
              "2009-01-06     0.0    0.0       0.0             0.0             NaN   \n",
              "2009-01-07     0.0    0.0       0.0             0.0             NaN   \n",
              "\n",
              "            TxTfrValMeanNtv  TxTfrValMeanUSD  TxTfrValMedNtv  TxTfrValMedUSD  \\\n",
              "2009-01-03              NaN              NaN             NaN             NaN   \n",
              "2009-01-04              NaN              NaN             NaN             NaN   \n",
              "2009-01-05              NaN              NaN             NaN             NaN   \n",
              "2009-01-06              NaN              NaN             NaN             NaN   \n",
              "2009-01-07              NaN              NaN             NaN             NaN   \n",
              "\n",
              "            TxTfrValNtv  TxTfrValUSD  VtyDayRet180d  VtyDayRet30d  \\\n",
              "2009-01-03          0.0          NaN            NaN           NaN   \n",
              "2009-01-04          0.0          NaN            NaN           NaN   \n",
              "2009-01-05          0.0          NaN            NaN           NaN   \n",
              "2009-01-06          0.0          NaN            NaN           NaN   \n",
              "2009-01-07          0.0          NaN            NaN           NaN   \n",
              "\n",
              "            VtyDayRet60d  Volume  Annualized_DilutionRate  \\\n",
              "2009-01-03           NaN     NaN                      NaN   \n",
              "2009-01-04           NaN     NaN                      NaN   \n",
              "2009-01-05           NaN     NaN                      NaN   \n",
              "2009-01-06           NaN     NaN                      NaN   \n",
              "2009-01-07           NaN     NaN                      NaN   \n",
              "\n",
              "            Total daily transaction volume  Velocity  \\\n",
              "2009-01-03                             NaN       NaN   \n",
              "2009-01-04                             NaN       NaN   \n",
              "2009-01-05                             NaN       NaN   \n",
              "2009-01-06                             NaN       NaN   \n",
              "2009-01-07                             NaN       NaN   \n",
              "\n",
              "            The daily revenue of bitcoin miners  \\\n",
              "2009-01-03                                  NaN   \n",
              "2009-01-04                                  NaN   \n",
              "2009-01-05                                  NaN   \n",
              "2009-01-06                                  NaN   \n",
              "2009-01-07                                  NaN   \n",
              "\n",
              "            The accumulated revenue of bitcoin miners  P/E Ratio  Metcalfe  \\\n",
              "2009-01-03                                        NaN        NaN       0.0   \n",
              "2009-01-04                                        NaN        NaN       0.0   \n",
              "2009-01-05                                        NaN        NaN       0.0   \n",
              "2009-01-06                                        NaN        NaN       0.0   \n",
              "2009-01-07                                        NaN        NaN       0.0   \n",
              "\n",
              "            PM  <1d  1d ~ 1m  1m ~ 1q  1q ~ 6m  6m ~ 1y  1y ~ 2y  2y ~ 3y  \\\n",
              "2009-01-03 NaN  1.0      0.0      0.0      0.0      0.0      0.0      0.0   \n",
              "2009-01-04 NaN  0.0      1.0      0.0      0.0      0.0      0.0      0.0   \n",
              "2009-01-05 NaN  0.0      1.0      0.0      0.0      0.0      0.0      0.0   \n",
              "2009-01-06 NaN  0.0      1.0      0.0      0.0      0.0      0.0      0.0   \n",
              "2009-01-07 NaN  0.0      1.0      0.0      0.0      0.0      0.0      0.0   \n",
              "\n",
              "            3y ~ 4y  4y ~ 5y   5y~10y  >10y  One-year staking ratio  \\\n",
              "2009-01-03      0.0      0.0      0.0   0.0                     0.0   \n",
              "2009-01-04      0.0      0.0      0.0   0.0                     0.0   \n",
              "2009-01-05      0.0      0.0      0.0   0.0                     0.0   \n",
              "2009-01-06      0.0      0.0      0.0   0.0                     0.0   \n",
              "2009-01-07      0.0      0.0      0.0   0.0                     0.0   \n",
              "\n",
              "            Two-year staking ratio  Three-year staking ratio  \\\n",
              "2009-01-03                     0.0                       0.0   \n",
              "2009-01-04                     0.0                       0.0   \n",
              "2009-01-05                     0.0                       0.0   \n",
              "2009-01-06                     0.0                       0.0   \n",
              "2009-01-07                     0.0                       0.0   \n",
              "\n",
              "            Four-year staking ratio  Five-year staking ratio  \\\n",
              "2009-01-03                      0.0                      0.0   \n",
              "2009-01-04                      0.0                      0.0   \n",
              "2009-01-05                      0.0                      0.0   \n",
              "2009-01-06                      0.0                      0.0   \n",
              "2009-01-07                      0.0                      0.0   \n",
              "\n",
              "            Ten-year staking ratio  Token Utility  PU Ratio  volatility30  \\\n",
              "2009-01-03                     0.0            NaN       NaN           NaN   \n",
              "2009-01-04                     0.0            NaN       NaN           NaN   \n",
              "2009-01-05                     0.0            NaN       NaN           NaN   \n",
              "2009-01-06                     0.0            NaN       NaN           NaN   \n",
              "2009-01-07                     0.0            NaN       NaN           NaN   \n",
              "\n",
              "            volatility60  volatility90  volatility180  \\\n",
              "2009-01-03           NaN           NaN            NaN   \n",
              "2009-01-04           NaN           NaN            NaN   \n",
              "2009-01-05           NaN           NaN            NaN   \n",
              "2009-01-06           NaN           NaN            NaN   \n",
              "2009-01-07           NaN           NaN            NaN   \n",
              "\n",
              "            Token Utility_volatility  PU Ratio_volatility  \n",
              "2009-01-03                       NaN                  NaN  \n",
              "2009-01-04                       NaN                  NaN  \n",
              "2009-01-05                       NaN                  NaN  \n",
              "2009-01-06                       NaN                  NaN  \n",
              "2009-01-07                       NaN                  NaN  "
            ]
          },
          "metadata": {},
          "execution_count": 5
        }
      ]
    },
    {
      "cell_type": "markdown",
      "metadata": {
        "id": "Vp25IlObHVgx"
      },
      "source": [
        "# Generate return for different time ranges"
      ]
    },
    {
      "cell_type": "code",
      "metadata": {
        "id": "CQodJ-cZG-p5"
      },
      "source": [
        "df[\"ROI1\"] =df['PriceUSD'].pct_change(1)\n",
        "df[\"ROI7\"] =df['PriceUSD'].pct_change(7)\n",
        "df[\"ROI30\"] =df['PriceUSD'].pct_change(30)\n",
        "df[\"ROI90\"] =df['PriceUSD'].pct_change(90)\n",
        "df[\"ROI180\"] =df['PriceUSD'].pct_change(180)\n",
        "df[\"ROI360\"] =df['PriceUSD'].pct_change(360)"
      ],
      "execution_count": null,
      "outputs": []
    },
    {
      "cell_type": "code",
      "metadata": {
        "colab": {
          "base_uri": "https://localhost:8080/",
          "height": 206
        },
        "id": "nMmA9hZXJG2A",
        "outputId": "5d649031-2cf0-4ab9-cd7c-b09768dbaa60"
      },
      "source": [
        "columns_ROI = [\"ROI1\", \"ROI7\",\"ROI30\",\"ROI90\",\"ROI180\",\"ROI360\"]\n",
        "df_ROI = df[columns_ROI].dropna()\n",
        "df_ROI.head()"
      ],
      "execution_count": null,
      "outputs": [
        {
          "output_type": "execute_result",
          "data": {
            "text/html": [
              "\n",
              "  <div id=\"df-d926e432-e0be-4faa-8b49-88e8ea01b785\">\n",
              "    <div class=\"colab-df-container\">\n",
              "      <div>\n",
              "<style scoped>\n",
              "    .dataframe tbody tr th:only-of-type {\n",
              "        vertical-align: middle;\n",
              "    }\n",
              "\n",
              "    .dataframe tbody tr th {\n",
              "        vertical-align: top;\n",
              "    }\n",
              "\n",
              "    .dataframe thead th {\n",
              "        text-align: right;\n",
              "    }\n",
              "</style>\n",
              "<table border=\"1\" class=\"dataframe\">\n",
              "  <thead>\n",
              "    <tr style=\"text-align: right;\">\n",
              "      <th></th>\n",
              "      <th>ROI1</th>\n",
              "      <th>ROI7</th>\n",
              "      <th>ROI30</th>\n",
              "      <th>ROI90</th>\n",
              "      <th>ROI180</th>\n",
              "      <th>ROI360</th>\n",
              "    </tr>\n",
              "  </thead>\n",
              "  <tbody>\n",
              "    <tr>\n",
              "      <th>2011-07-13</th>\n",
              "      <td>-0.003553</td>\n",
              "      <td>-0.050516</td>\n",
              "      <td>-0.285067</td>\n",
              "      <td>12.990625</td>\n",
              "      <td>33.929509</td>\n",
              "      <td>161.761586</td>\n",
              "    </tr>\n",
              "    <tr>\n",
              "      <th>2011-07-14</th>\n",
              "      <td>0.001898</td>\n",
              "      <td>-0.054018</td>\n",
              "      <td>-0.273125</td>\n",
              "      <td>13.230311</td>\n",
              "      <td>35.264183</td>\n",
              "      <td>172.242259</td>\n",
              "    </tr>\n",
              "    <tr>\n",
              "      <th>2011-07-15</th>\n",
              "      <td>-0.013687</td>\n",
              "      <td>-0.034453</td>\n",
              "      <td>-0.290676</td>\n",
              "      <td>12.191245</td>\n",
              "      <td>34.694797</td>\n",
              "      <td>183.736145</td>\n",
              "    </tr>\n",
              "    <tr>\n",
              "      <th>2011-07-16</th>\n",
              "      <td>-0.006759</td>\n",
              "      <td>-0.046478</td>\n",
              "      <td>-0.235161</td>\n",
              "      <td>11.487755</td>\n",
              "      <td>38.236278</td>\n",
              "      <td>172.160546</td>\n",
              "    </tr>\n",
              "    <tr>\n",
              "      <th>2011-07-17</th>\n",
              "      <td>-0.033176</td>\n",
              "      <td>-0.093333</td>\n",
              "      <td>-0.141110</td>\n",
              "      <td>10.534497</td>\n",
              "      <td>41.359613</td>\n",
              "      <td>225.752004</td>\n",
              "    </tr>\n",
              "  </tbody>\n",
              "</table>\n",
              "</div>\n",
              "      <button class=\"colab-df-convert\" onclick=\"convertToInteractive('df-d926e432-e0be-4faa-8b49-88e8ea01b785')\"\n",
              "              title=\"Convert this dataframe to an interactive table.\"\n",
              "              style=\"display:none;\">\n",
              "        \n",
              "  <svg xmlns=\"http://www.w3.org/2000/svg\" height=\"24px\"viewBox=\"0 0 24 24\"\n",
              "       width=\"24px\">\n",
              "    <path d=\"M0 0h24v24H0V0z\" fill=\"none\"/>\n",
              "    <path d=\"M18.56 5.44l.94 2.06.94-2.06 2.06-.94-2.06-.94-.94-2.06-.94 2.06-2.06.94zm-11 1L8.5 8.5l.94-2.06 2.06-.94-2.06-.94L8.5 2.5l-.94 2.06-2.06.94zm10 10l.94 2.06.94-2.06 2.06-.94-2.06-.94-.94-2.06-.94 2.06-2.06.94z\"/><path d=\"M17.41 7.96l-1.37-1.37c-.4-.4-.92-.59-1.43-.59-.52 0-1.04.2-1.43.59L10.3 9.45l-7.72 7.72c-.78.78-.78 2.05 0 2.83L4 21.41c.39.39.9.59 1.41.59.51 0 1.02-.2 1.41-.59l7.78-7.78 2.81-2.81c.8-.78.8-2.07 0-2.86zM5.41 20L4 18.59l7.72-7.72 1.47 1.35L5.41 20z\"/>\n",
              "  </svg>\n",
              "      </button>\n",
              "      \n",
              "  <style>\n",
              "    .colab-df-container {\n",
              "      display:flex;\n",
              "      flex-wrap:wrap;\n",
              "      gap: 12px;\n",
              "    }\n",
              "\n",
              "    .colab-df-convert {\n",
              "      background-color: #E8F0FE;\n",
              "      border: none;\n",
              "      border-radius: 50%;\n",
              "      cursor: pointer;\n",
              "      display: none;\n",
              "      fill: #1967D2;\n",
              "      height: 32px;\n",
              "      padding: 0 0 0 0;\n",
              "      width: 32px;\n",
              "    }\n",
              "\n",
              "    .colab-df-convert:hover {\n",
              "      background-color: #E2EBFA;\n",
              "      box-shadow: 0px 1px 2px rgba(60, 64, 67, 0.3), 0px 1px 3px 1px rgba(60, 64, 67, 0.15);\n",
              "      fill: #174EA6;\n",
              "    }\n",
              "\n",
              "    [theme=dark] .colab-df-convert {\n",
              "      background-color: #3B4455;\n",
              "      fill: #D2E3FC;\n",
              "    }\n",
              "\n",
              "    [theme=dark] .colab-df-convert:hover {\n",
              "      background-color: #434B5C;\n",
              "      box-shadow: 0px 1px 3px 1px rgba(0, 0, 0, 0.15);\n",
              "      filter: drop-shadow(0px 1px 2px rgba(0, 0, 0, 0.3));\n",
              "      fill: #FFFFFF;\n",
              "    }\n",
              "  </style>\n",
              "\n",
              "      <script>\n",
              "        const buttonEl =\n",
              "          document.querySelector('#df-d926e432-e0be-4faa-8b49-88e8ea01b785 button.colab-df-convert');\n",
              "        buttonEl.style.display =\n",
              "          google.colab.kernel.accessAllowed ? 'block' : 'none';\n",
              "\n",
              "        async function convertToInteractive(key) {\n",
              "          const element = document.querySelector('#df-d926e432-e0be-4faa-8b49-88e8ea01b785');\n",
              "          const dataTable =\n",
              "            await google.colab.kernel.invokeFunction('convertToInteractive',\n",
              "                                                     [key], {});\n",
              "          if (!dataTable) return;\n",
              "\n",
              "          const docLinkHtml = 'Like what you see? Visit the ' +\n",
              "            '<a target=\"_blank\" href=https://colab.research.google.com/notebooks/data_table.ipynb>data table notebook</a>'\n",
              "            + ' to learn more about interactive tables.';\n",
              "          element.innerHTML = '';\n",
              "          dataTable['output_type'] = 'display_data';\n",
              "          await google.colab.output.renderOutput(dataTable, element);\n",
              "          const docLink = document.createElement('div');\n",
              "          docLink.innerHTML = docLinkHtml;\n",
              "          element.appendChild(docLink);\n",
              "        }\n",
              "      </script>\n",
              "    </div>\n",
              "  </div>\n",
              "  "
            ],
            "text/plain": [
              "                ROI1      ROI7     ROI30      ROI90     ROI180      ROI360\n",
              "2011-07-13 -0.003553 -0.050516 -0.285067  12.990625  33.929509  161.761586\n",
              "2011-07-14  0.001898 -0.054018 -0.273125  13.230311  35.264183  172.242259\n",
              "2011-07-15 -0.013687 -0.034453 -0.290676  12.191245  34.694797  183.736145\n",
              "2011-07-16 -0.006759 -0.046478 -0.235161  11.487755  38.236278  172.160546\n",
              "2011-07-17 -0.033176 -0.093333 -0.141110  10.534497  41.359613  225.752004"
            ]
          },
          "metadata": {},
          "execution_count": 7
        }
      ]
    },
    {
      "cell_type": "code",
      "metadata": {
        "colab": {
          "base_uri": "https://localhost:8080/",
          "height": 206
        },
        "id": "NENzZ0XLZ09x",
        "outputId": "24f1f700-6c9c-4bdc-9de2-d3c5d26d2da1"
      },
      "source": [
        "df_ROI.tail()"
      ],
      "execution_count": null,
      "outputs": [
        {
          "output_type": "execute_result",
          "data": {
            "text/html": [
              "\n",
              "  <div id=\"df-d2f08c7b-0855-4a29-8448-18e4ddc505ce\">\n",
              "    <div class=\"colab-df-container\">\n",
              "      <div>\n",
              "<style scoped>\n",
              "    .dataframe tbody tr th:only-of-type {\n",
              "        vertical-align: middle;\n",
              "    }\n",
              "\n",
              "    .dataframe tbody tr th {\n",
              "        vertical-align: top;\n",
              "    }\n",
              "\n",
              "    .dataframe thead th {\n",
              "        text-align: right;\n",
              "    }\n",
              "</style>\n",
              "<table border=\"1\" class=\"dataframe\">\n",
              "  <thead>\n",
              "    <tr style=\"text-align: right;\">\n",
              "      <th></th>\n",
              "      <th>ROI1</th>\n",
              "      <th>ROI7</th>\n",
              "      <th>ROI30</th>\n",
              "      <th>ROI90</th>\n",
              "      <th>ROI180</th>\n",
              "      <th>ROI360</th>\n",
              "    </tr>\n",
              "  </thead>\n",
              "  <tbody>\n",
              "    <tr>\n",
              "      <th>2020-12-27</th>\n",
              "      <td>-0.001783</td>\n",
              "      <td>0.123353</td>\n",
              "      <td>0.545519</td>\n",
              "      <td>1.463870</td>\n",
              "      <td>1.890524</td>\n",
              "      <td>2.804739</td>\n",
              "    </tr>\n",
              "    <tr>\n",
              "      <th>2020-12-28</th>\n",
              "      <td>0.023022</td>\n",
              "      <td>0.178831</td>\n",
              "      <td>0.523740</td>\n",
              "      <td>1.494142</td>\n",
              "      <td>1.925912</td>\n",
              "      <td>2.696269</td>\n",
              "    </tr>\n",
              "    <tr>\n",
              "      <th>2020-12-29</th>\n",
              "      <td>0.007095</td>\n",
              "      <td>0.146245</td>\n",
              "      <td>0.496971</td>\n",
              "      <td>1.527879</td>\n",
              "      <td>1.994287</td>\n",
              "      <td>2.708375</td>\n",
              "    </tr>\n",
              "    <tr>\n",
              "      <th>2020-12-30</th>\n",
              "      <td>0.059249</td>\n",
              "      <td>0.237580</td>\n",
              "      <td>0.466844</td>\n",
              "      <td>1.719492</td>\n",
              "      <td>2.181383</td>\n",
              "      <td>2.926825</td>\n",
              "    </tr>\n",
              "    <tr>\n",
              "      <th>2020-12-31</th>\n",
              "      <td>0.006173</td>\n",
              "      <td>0.224191</td>\n",
              "      <td>0.542069</td>\n",
              "      <td>1.745731</td>\n",
              "      <td>2.180142</td>\n",
              "      <td>2.737243</td>\n",
              "    </tr>\n",
              "  </tbody>\n",
              "</table>\n",
              "</div>\n",
              "      <button class=\"colab-df-convert\" onclick=\"convertToInteractive('df-d2f08c7b-0855-4a29-8448-18e4ddc505ce')\"\n",
              "              title=\"Convert this dataframe to an interactive table.\"\n",
              "              style=\"display:none;\">\n",
              "        \n",
              "  <svg xmlns=\"http://www.w3.org/2000/svg\" height=\"24px\"viewBox=\"0 0 24 24\"\n",
              "       width=\"24px\">\n",
              "    <path d=\"M0 0h24v24H0V0z\" fill=\"none\"/>\n",
              "    <path d=\"M18.56 5.44l.94 2.06.94-2.06 2.06-.94-2.06-.94-.94-2.06-.94 2.06-2.06.94zm-11 1L8.5 8.5l.94-2.06 2.06-.94-2.06-.94L8.5 2.5l-.94 2.06-2.06.94zm10 10l.94 2.06.94-2.06 2.06-.94-2.06-.94-.94-2.06-.94 2.06-2.06.94z\"/><path d=\"M17.41 7.96l-1.37-1.37c-.4-.4-.92-.59-1.43-.59-.52 0-1.04.2-1.43.59L10.3 9.45l-7.72 7.72c-.78.78-.78 2.05 0 2.83L4 21.41c.39.39.9.59 1.41.59.51 0 1.02-.2 1.41-.59l7.78-7.78 2.81-2.81c.8-.78.8-2.07 0-2.86zM5.41 20L4 18.59l7.72-7.72 1.47 1.35L5.41 20z\"/>\n",
              "  </svg>\n",
              "      </button>\n",
              "      \n",
              "  <style>\n",
              "    .colab-df-container {\n",
              "      display:flex;\n",
              "      flex-wrap:wrap;\n",
              "      gap: 12px;\n",
              "    }\n",
              "\n",
              "    .colab-df-convert {\n",
              "      background-color: #E8F0FE;\n",
              "      border: none;\n",
              "      border-radius: 50%;\n",
              "      cursor: pointer;\n",
              "      display: none;\n",
              "      fill: #1967D2;\n",
              "      height: 32px;\n",
              "      padding: 0 0 0 0;\n",
              "      width: 32px;\n",
              "    }\n",
              "\n",
              "    .colab-df-convert:hover {\n",
              "      background-color: #E2EBFA;\n",
              "      box-shadow: 0px 1px 2px rgba(60, 64, 67, 0.3), 0px 1px 3px 1px rgba(60, 64, 67, 0.15);\n",
              "      fill: #174EA6;\n",
              "    }\n",
              "\n",
              "    [theme=dark] .colab-df-convert {\n",
              "      background-color: #3B4455;\n",
              "      fill: #D2E3FC;\n",
              "    }\n",
              "\n",
              "    [theme=dark] .colab-df-convert:hover {\n",
              "      background-color: #434B5C;\n",
              "      box-shadow: 0px 1px 3px 1px rgba(0, 0, 0, 0.15);\n",
              "      filter: drop-shadow(0px 1px 2px rgba(0, 0, 0, 0.3));\n",
              "      fill: #FFFFFF;\n",
              "    }\n",
              "  </style>\n",
              "\n",
              "      <script>\n",
              "        const buttonEl =\n",
              "          document.querySelector('#df-d2f08c7b-0855-4a29-8448-18e4ddc505ce button.colab-df-convert');\n",
              "        buttonEl.style.display =\n",
              "          google.colab.kernel.accessAllowed ? 'block' : 'none';\n",
              "\n",
              "        async function convertToInteractive(key) {\n",
              "          const element = document.querySelector('#df-d2f08c7b-0855-4a29-8448-18e4ddc505ce');\n",
              "          const dataTable =\n",
              "            await google.colab.kernel.invokeFunction('convertToInteractive',\n",
              "                                                     [key], {});\n",
              "          if (!dataTable) return;\n",
              "\n",
              "          const docLinkHtml = 'Like what you see? Visit the ' +\n",
              "            '<a target=\"_blank\" href=https://colab.research.google.com/notebooks/data_table.ipynb>data table notebook</a>'\n",
              "            + ' to learn more about interactive tables.';\n",
              "          element.innerHTML = '';\n",
              "          dataTable['output_type'] = 'display_data';\n",
              "          await google.colab.output.renderOutput(dataTable, element);\n",
              "          const docLink = document.createElement('div');\n",
              "          docLink.innerHTML = docLinkHtml;\n",
              "          element.appendChild(docLink);\n",
              "        }\n",
              "      </script>\n",
              "    </div>\n",
              "  </div>\n",
              "  "
            ],
            "text/plain": [
              "                ROI1      ROI7     ROI30     ROI90    ROI180    ROI360\n",
              "2020-12-27 -0.001783  0.123353  0.545519  1.463870  1.890524  2.804739\n",
              "2020-12-28  0.023022  0.178831  0.523740  1.494142  1.925912  2.696269\n",
              "2020-12-29  0.007095  0.146245  0.496971  1.527879  1.994287  2.708375\n",
              "2020-12-30  0.059249  0.237580  0.466844  1.719492  2.181383  2.926825\n",
              "2020-12-31  0.006173  0.224191  0.542069  1.745731  2.180142  2.737243"
            ]
          },
          "metadata": {},
          "execution_count": 8
        }
      ]
    },
    {
      "cell_type": "code",
      "metadata": {
        "colab": {
          "base_uri": "https://localhost:8080/"
        },
        "id": "5wUcHHRtaFzz",
        "outputId": "6e878468-4949-4d74-d23f-174e05f18269"
      },
      "source": [
        "df_ROI['ROI1'].count()"
      ],
      "execution_count": null,
      "outputs": [
        {
          "output_type": "execute_result",
          "data": {
            "text/plain": [
              "3460"
            ]
          },
          "metadata": {},
          "execution_count": 9
        }
      ]
    },
    {
      "cell_type": "code",
      "metadata": {
        "colab": {
          "base_uri": "https://localhost:8080/",
          "height": 1000
        },
        "id": "WRVwF4B2OYDA",
        "outputId": "4b4290aa-2020-4c47-8f2f-994fd7884860"
      },
      "source": [
        "import matplotlib.pyplot as plt\n",
        "import seaborn as sns, numpy as np\n",
        "sns.set_style(\"white\")\n",
        "fig, ax = plt.subplots(2, 3, figsize=(18, 10))\n",
        "sns.distplot(ax=ax[0, 0],x=df_ROI.ROI1, axlabel=\"daily return\")\n",
        "sns.distplot(ax=ax[0, 1],x=df_ROI.ROI7, axlabel=\"7-day return\")\n",
        "sns.distplot(ax=ax[0, 2],x=df_ROI.ROI30, axlabel=\"30-day return\")\n",
        "sns.distplot(ax=ax[1, 0],x=df_ROI.ROI90, axlabel=\"90-day return\")\n",
        "sns.distplot(ax=ax[1, 1],x=df_ROI.ROI180, axlabel=\"180-day return\")\n",
        "sns.distplot(ax=ax[1, 2],x=df_ROI.ROI360, axlabel=\"360-day return\")\n",
        "plt.savefig('/content/drive/MyDrive/DeFi/CVML2021/ROI.png')\n",
        "plt.show()"
      ],
      "execution_count": null,
      "outputs": [
        {
          "output_type": "stream",
          "name": "stderr",
          "text": [
            "/usr/local/lib/python3.7/dist-packages/seaborn/distributions.py:2619: FutureWarning: `distplot` is a deprecated function and will be removed in a future version. Please adapt your code to use either `displot` (a figure-level function with similar flexibility) or `histplot` (an axes-level function for histograms).\n",
            "  warnings.warn(msg, FutureWarning)\n",
            "/usr/local/lib/python3.7/dist-packages/seaborn/distributions.py:2619: FutureWarning: `distplot` is a deprecated function and will be removed in a future version. Please adapt your code to use either `displot` (a figure-level function with similar flexibility) or `histplot` (an axes-level function for histograms).\n",
            "  warnings.warn(msg, FutureWarning)\n",
            "/usr/local/lib/python3.7/dist-packages/seaborn/distributions.py:2619: FutureWarning: `distplot` is a deprecated function and will be removed in a future version. Please adapt your code to use either `displot` (a figure-level function with similar flexibility) or `histplot` (an axes-level function for histograms).\n",
            "  warnings.warn(msg, FutureWarning)\n",
            "/usr/local/lib/python3.7/dist-packages/seaborn/distributions.py:2619: FutureWarning: `distplot` is a deprecated function and will be removed in a future version. Please adapt your code to use either `displot` (a figure-level function with similar flexibility) or `histplot` (an axes-level function for histograms).\n",
            "  warnings.warn(msg, FutureWarning)\n",
            "/usr/local/lib/python3.7/dist-packages/seaborn/distributions.py:2619: FutureWarning: `distplot` is a deprecated function and will be removed in a future version. Please adapt your code to use either `displot` (a figure-level function with similar flexibility) or `histplot` (an axes-level function for histograms).\n",
            "  warnings.warn(msg, FutureWarning)\n",
            "/usr/local/lib/python3.7/dist-packages/seaborn/distributions.py:2619: FutureWarning: `distplot` is a deprecated function and will be removed in a future version. Please adapt your code to use either `displot` (a figure-level function with similar flexibility) or `histplot` (an axes-level function for histograms).\n",
            "  warnings.warn(msg, FutureWarning)\n"
          ]
        },
        {
          "output_type": "error",
          "ename": "FileNotFoundError",
          "evalue": "ignored",
          "traceback": [
            "\u001b[0;31m---------------------------------------------------------------------------\u001b[0m",
            "\u001b[0;31mFileNotFoundError\u001b[0m                         Traceback (most recent call last)",
            "\u001b[0;32m<ipython-input-10-97ac8c7259d8>\u001b[0m in \u001b[0;36m<module>\u001b[0;34m()\u001b[0m\n\u001b[1;32m      9\u001b[0m \u001b[0msns\u001b[0m\u001b[0;34m.\u001b[0m\u001b[0mdistplot\u001b[0m\u001b[0;34m(\u001b[0m\u001b[0max\u001b[0m\u001b[0;34m=\u001b[0m\u001b[0max\u001b[0m\u001b[0;34m[\u001b[0m\u001b[0;36m1\u001b[0m\u001b[0;34m,\u001b[0m \u001b[0;36m1\u001b[0m\u001b[0;34m]\u001b[0m\u001b[0;34m,\u001b[0m\u001b[0mx\u001b[0m\u001b[0;34m=\u001b[0m\u001b[0mdf_ROI\u001b[0m\u001b[0;34m.\u001b[0m\u001b[0mROI180\u001b[0m\u001b[0;34m,\u001b[0m \u001b[0maxlabel\u001b[0m\u001b[0;34m=\u001b[0m\u001b[0;34m\"180-day return\"\u001b[0m\u001b[0;34m)\u001b[0m\u001b[0;34m\u001b[0m\u001b[0;34m\u001b[0m\u001b[0m\n\u001b[1;32m     10\u001b[0m \u001b[0msns\u001b[0m\u001b[0;34m.\u001b[0m\u001b[0mdistplot\u001b[0m\u001b[0;34m(\u001b[0m\u001b[0max\u001b[0m\u001b[0;34m=\u001b[0m\u001b[0max\u001b[0m\u001b[0;34m[\u001b[0m\u001b[0;36m1\u001b[0m\u001b[0;34m,\u001b[0m \u001b[0;36m2\u001b[0m\u001b[0;34m]\u001b[0m\u001b[0;34m,\u001b[0m\u001b[0mx\u001b[0m\u001b[0;34m=\u001b[0m\u001b[0mdf_ROI\u001b[0m\u001b[0;34m.\u001b[0m\u001b[0mROI360\u001b[0m\u001b[0;34m,\u001b[0m \u001b[0maxlabel\u001b[0m\u001b[0;34m=\u001b[0m\u001b[0;34m\"360-day return\"\u001b[0m\u001b[0;34m)\u001b[0m\u001b[0;34m\u001b[0m\u001b[0;34m\u001b[0m\u001b[0m\n\u001b[0;32m---> 11\u001b[0;31m \u001b[0mplt\u001b[0m\u001b[0;34m.\u001b[0m\u001b[0msavefig\u001b[0m\u001b[0;34m(\u001b[0m\u001b[0;34m'/content/drive/MyDrive/DeFi/CVML2021/ROI.png'\u001b[0m\u001b[0;34m)\u001b[0m\u001b[0;34m\u001b[0m\u001b[0;34m\u001b[0m\u001b[0m\n\u001b[0m\u001b[1;32m     12\u001b[0m \u001b[0mplt\u001b[0m\u001b[0;34m.\u001b[0m\u001b[0mshow\u001b[0m\u001b[0;34m(\u001b[0m\u001b[0;34m)\u001b[0m\u001b[0;34m\u001b[0m\u001b[0;34m\u001b[0m\u001b[0m\n",
            "\u001b[0;32m/usr/local/lib/python3.7/dist-packages/matplotlib/pyplot.py\u001b[0m in \u001b[0;36msavefig\u001b[0;34m(*args, **kwargs)\u001b[0m\n\u001b[1;32m    721\u001b[0m \u001b[0;32mdef\u001b[0m \u001b[0msavefig\u001b[0m\u001b[0;34m(\u001b[0m\u001b[0;34m*\u001b[0m\u001b[0margs\u001b[0m\u001b[0;34m,\u001b[0m \u001b[0;34m**\u001b[0m\u001b[0mkwargs\u001b[0m\u001b[0;34m)\u001b[0m\u001b[0;34m:\u001b[0m\u001b[0;34m\u001b[0m\u001b[0;34m\u001b[0m\u001b[0m\n\u001b[1;32m    722\u001b[0m     \u001b[0mfig\u001b[0m \u001b[0;34m=\u001b[0m \u001b[0mgcf\u001b[0m\u001b[0;34m(\u001b[0m\u001b[0;34m)\u001b[0m\u001b[0;34m\u001b[0m\u001b[0;34m\u001b[0m\u001b[0m\n\u001b[0;32m--> 723\u001b[0;31m     \u001b[0mres\u001b[0m \u001b[0;34m=\u001b[0m \u001b[0mfig\u001b[0m\u001b[0;34m.\u001b[0m\u001b[0msavefig\u001b[0m\u001b[0;34m(\u001b[0m\u001b[0;34m*\u001b[0m\u001b[0margs\u001b[0m\u001b[0;34m,\u001b[0m \u001b[0;34m**\u001b[0m\u001b[0mkwargs\u001b[0m\u001b[0;34m)\u001b[0m\u001b[0;34m\u001b[0m\u001b[0;34m\u001b[0m\u001b[0m\n\u001b[0m\u001b[1;32m    724\u001b[0m     \u001b[0mfig\u001b[0m\u001b[0;34m.\u001b[0m\u001b[0mcanvas\u001b[0m\u001b[0;34m.\u001b[0m\u001b[0mdraw_idle\u001b[0m\u001b[0;34m(\u001b[0m\u001b[0;34m)\u001b[0m   \u001b[0;31m# need this if 'transparent=True' to reset colors\u001b[0m\u001b[0;34m\u001b[0m\u001b[0;34m\u001b[0m\u001b[0m\n\u001b[1;32m    725\u001b[0m     \u001b[0;32mreturn\u001b[0m \u001b[0mres\u001b[0m\u001b[0;34m\u001b[0m\u001b[0;34m\u001b[0m\u001b[0m\n",
            "\u001b[0;32m/usr/local/lib/python3.7/dist-packages/matplotlib/figure.py\u001b[0m in \u001b[0;36msavefig\u001b[0;34m(self, fname, transparent, **kwargs)\u001b[0m\n\u001b[1;32m   2201\u001b[0m             \u001b[0mself\u001b[0m\u001b[0;34m.\u001b[0m\u001b[0mpatch\u001b[0m\u001b[0;34m.\u001b[0m\u001b[0mset_visible\u001b[0m\u001b[0;34m(\u001b[0m\u001b[0mframeon\u001b[0m\u001b[0;34m)\u001b[0m\u001b[0;34m\u001b[0m\u001b[0;34m\u001b[0m\u001b[0m\n\u001b[1;32m   2202\u001b[0m \u001b[0;34m\u001b[0m\u001b[0m\n\u001b[0;32m-> 2203\u001b[0;31m         \u001b[0mself\u001b[0m\u001b[0;34m.\u001b[0m\u001b[0mcanvas\u001b[0m\u001b[0;34m.\u001b[0m\u001b[0mprint_figure\u001b[0m\u001b[0;34m(\u001b[0m\u001b[0mfname\u001b[0m\u001b[0;34m,\u001b[0m \u001b[0;34m**\u001b[0m\u001b[0mkwargs\u001b[0m\u001b[0;34m)\u001b[0m\u001b[0;34m\u001b[0m\u001b[0;34m\u001b[0m\u001b[0m\n\u001b[0m\u001b[1;32m   2204\u001b[0m \u001b[0;34m\u001b[0m\u001b[0m\n\u001b[1;32m   2205\u001b[0m         \u001b[0;32mif\u001b[0m \u001b[0mframeon\u001b[0m\u001b[0;34m:\u001b[0m\u001b[0;34m\u001b[0m\u001b[0;34m\u001b[0m\u001b[0m\n",
            "\u001b[0;32m/usr/local/lib/python3.7/dist-packages/matplotlib/backend_bases.py\u001b[0m in \u001b[0;36mprint_figure\u001b[0;34m(self, filename, dpi, facecolor, edgecolor, orientation, format, bbox_inches, **kwargs)\u001b[0m\n\u001b[1;32m   2124\u001b[0m                     \u001b[0morientation\u001b[0m\u001b[0;34m=\u001b[0m\u001b[0morientation\u001b[0m\u001b[0;34m,\u001b[0m\u001b[0;34m\u001b[0m\u001b[0;34m\u001b[0m\u001b[0m\n\u001b[1;32m   2125\u001b[0m                     \u001b[0mbbox_inches_restore\u001b[0m\u001b[0;34m=\u001b[0m\u001b[0m_bbox_inches_restore\u001b[0m\u001b[0;34m,\u001b[0m\u001b[0;34m\u001b[0m\u001b[0;34m\u001b[0m\u001b[0m\n\u001b[0;32m-> 2126\u001b[0;31m                     **kwargs)\n\u001b[0m\u001b[1;32m   2127\u001b[0m             \u001b[0;32mfinally\u001b[0m\u001b[0;34m:\u001b[0m\u001b[0;34m\u001b[0m\u001b[0;34m\u001b[0m\u001b[0m\n\u001b[1;32m   2128\u001b[0m                 \u001b[0;32mif\u001b[0m \u001b[0mbbox_inches\u001b[0m \u001b[0;32mand\u001b[0m \u001b[0mrestore_bbox\u001b[0m\u001b[0;34m:\u001b[0m\u001b[0;34m\u001b[0m\u001b[0;34m\u001b[0m\u001b[0m\n",
            "\u001b[0;32m/usr/local/lib/python3.7/dist-packages/matplotlib/backends/backend_agg.py\u001b[0m in \u001b[0;36mprint_png\u001b[0;34m(self, filename_or_obj, metadata, pil_kwargs, *args, **kwargs)\u001b[0m\n\u001b[1;32m    533\u001b[0m         \u001b[0;32melse\u001b[0m\u001b[0;34m:\u001b[0m\u001b[0;34m\u001b[0m\u001b[0;34m\u001b[0m\u001b[0m\n\u001b[1;32m    534\u001b[0m             \u001b[0mrenderer\u001b[0m \u001b[0;34m=\u001b[0m \u001b[0mself\u001b[0m\u001b[0;34m.\u001b[0m\u001b[0mget_renderer\u001b[0m\u001b[0;34m(\u001b[0m\u001b[0;34m)\u001b[0m\u001b[0;34m\u001b[0m\u001b[0;34m\u001b[0m\u001b[0m\n\u001b[0;32m--> 535\u001b[0;31m             \u001b[0;32mwith\u001b[0m \u001b[0mcbook\u001b[0m\u001b[0;34m.\u001b[0m\u001b[0mopen_file_cm\u001b[0m\u001b[0;34m(\u001b[0m\u001b[0mfilename_or_obj\u001b[0m\u001b[0;34m,\u001b[0m \u001b[0;34m\"wb\"\u001b[0m\u001b[0;34m)\u001b[0m \u001b[0;32mas\u001b[0m \u001b[0mfh\u001b[0m\u001b[0;34m:\u001b[0m\u001b[0;34m\u001b[0m\u001b[0;34m\u001b[0m\u001b[0m\n\u001b[0m\u001b[1;32m    536\u001b[0m                 _png.write_png(renderer._renderer, fh, self.figure.dpi,\n\u001b[1;32m    537\u001b[0m                                metadata={**default_metadata, **metadata})\n",
            "\u001b[0;32m/usr/lib/python3.7/contextlib.py\u001b[0m in \u001b[0;36m__enter__\u001b[0;34m(self)\u001b[0m\n\u001b[1;32m    110\u001b[0m         \u001b[0;32mdel\u001b[0m \u001b[0mself\u001b[0m\u001b[0;34m.\u001b[0m\u001b[0margs\u001b[0m\u001b[0;34m,\u001b[0m \u001b[0mself\u001b[0m\u001b[0;34m.\u001b[0m\u001b[0mkwds\u001b[0m\u001b[0;34m,\u001b[0m \u001b[0mself\u001b[0m\u001b[0;34m.\u001b[0m\u001b[0mfunc\u001b[0m\u001b[0;34m\u001b[0m\u001b[0;34m\u001b[0m\u001b[0m\n\u001b[1;32m    111\u001b[0m         \u001b[0;32mtry\u001b[0m\u001b[0;34m:\u001b[0m\u001b[0;34m\u001b[0m\u001b[0;34m\u001b[0m\u001b[0m\n\u001b[0;32m--> 112\u001b[0;31m             \u001b[0;32mreturn\u001b[0m \u001b[0mnext\u001b[0m\u001b[0;34m(\u001b[0m\u001b[0mself\u001b[0m\u001b[0;34m.\u001b[0m\u001b[0mgen\u001b[0m\u001b[0;34m)\u001b[0m\u001b[0;34m\u001b[0m\u001b[0;34m\u001b[0m\u001b[0m\n\u001b[0m\u001b[1;32m    113\u001b[0m         \u001b[0;32mexcept\u001b[0m \u001b[0mStopIteration\u001b[0m\u001b[0;34m:\u001b[0m\u001b[0;34m\u001b[0m\u001b[0;34m\u001b[0m\u001b[0m\n\u001b[1;32m    114\u001b[0m             \u001b[0;32mraise\u001b[0m \u001b[0mRuntimeError\u001b[0m\u001b[0;34m(\u001b[0m\u001b[0;34m\"generator didn't yield\"\u001b[0m\u001b[0;34m)\u001b[0m \u001b[0;32mfrom\u001b[0m \u001b[0;32mNone\u001b[0m\u001b[0;34m\u001b[0m\u001b[0;34m\u001b[0m\u001b[0m\n",
            "\u001b[0;32m/usr/local/lib/python3.7/dist-packages/matplotlib/cbook/__init__.py\u001b[0m in \u001b[0;36mopen_file_cm\u001b[0;34m(path_or_file, mode, encoding)\u001b[0m\n\u001b[1;32m    416\u001b[0m \u001b[0;32mdef\u001b[0m \u001b[0mopen_file_cm\u001b[0m\u001b[0;34m(\u001b[0m\u001b[0mpath_or_file\u001b[0m\u001b[0;34m,\u001b[0m \u001b[0mmode\u001b[0m\u001b[0;34m=\u001b[0m\u001b[0;34m\"r\"\u001b[0m\u001b[0;34m,\u001b[0m \u001b[0mencoding\u001b[0m\u001b[0;34m=\u001b[0m\u001b[0;32mNone\u001b[0m\u001b[0;34m)\u001b[0m\u001b[0;34m:\u001b[0m\u001b[0;34m\u001b[0m\u001b[0;34m\u001b[0m\u001b[0m\n\u001b[1;32m    417\u001b[0m     \u001b[0;34mr\"\"\"Pass through file objects and context-manage `.PathLike`\\s.\"\"\"\u001b[0m\u001b[0;34m\u001b[0m\u001b[0;34m\u001b[0m\u001b[0m\n\u001b[0;32m--> 418\u001b[0;31m     \u001b[0mfh\u001b[0m\u001b[0;34m,\u001b[0m \u001b[0mopened\u001b[0m \u001b[0;34m=\u001b[0m \u001b[0mto_filehandle\u001b[0m\u001b[0;34m(\u001b[0m\u001b[0mpath_or_file\u001b[0m\u001b[0;34m,\u001b[0m \u001b[0mmode\u001b[0m\u001b[0;34m,\u001b[0m \u001b[0;32mTrue\u001b[0m\u001b[0;34m,\u001b[0m \u001b[0mencoding\u001b[0m\u001b[0;34m)\u001b[0m\u001b[0;34m\u001b[0m\u001b[0;34m\u001b[0m\u001b[0m\n\u001b[0m\u001b[1;32m    419\u001b[0m     \u001b[0;32mif\u001b[0m \u001b[0mopened\u001b[0m\u001b[0;34m:\u001b[0m\u001b[0;34m\u001b[0m\u001b[0;34m\u001b[0m\u001b[0m\n\u001b[1;32m    420\u001b[0m         \u001b[0;32mwith\u001b[0m \u001b[0mfh\u001b[0m\u001b[0;34m:\u001b[0m\u001b[0;34m\u001b[0m\u001b[0;34m\u001b[0m\u001b[0m\n",
            "\u001b[0;32m/usr/local/lib/python3.7/dist-packages/matplotlib/cbook/__init__.py\u001b[0m in \u001b[0;36mto_filehandle\u001b[0;34m(fname, flag, return_opened, encoding)\u001b[0m\n\u001b[1;32m    401\u001b[0m             \u001b[0mfh\u001b[0m \u001b[0;34m=\u001b[0m \u001b[0mbz2\u001b[0m\u001b[0;34m.\u001b[0m\u001b[0mBZ2File\u001b[0m\u001b[0;34m(\u001b[0m\u001b[0mfname\u001b[0m\u001b[0;34m,\u001b[0m \u001b[0mflag\u001b[0m\u001b[0;34m)\u001b[0m\u001b[0;34m\u001b[0m\u001b[0;34m\u001b[0m\u001b[0m\n\u001b[1;32m    402\u001b[0m         \u001b[0;32melse\u001b[0m\u001b[0;34m:\u001b[0m\u001b[0;34m\u001b[0m\u001b[0;34m\u001b[0m\u001b[0m\n\u001b[0;32m--> 403\u001b[0;31m             \u001b[0mfh\u001b[0m \u001b[0;34m=\u001b[0m \u001b[0mopen\u001b[0m\u001b[0;34m(\u001b[0m\u001b[0mfname\u001b[0m\u001b[0;34m,\u001b[0m \u001b[0mflag\u001b[0m\u001b[0;34m,\u001b[0m \u001b[0mencoding\u001b[0m\u001b[0;34m=\u001b[0m\u001b[0mencoding\u001b[0m\u001b[0;34m)\u001b[0m\u001b[0;34m\u001b[0m\u001b[0;34m\u001b[0m\u001b[0m\n\u001b[0m\u001b[1;32m    404\u001b[0m         \u001b[0mopened\u001b[0m \u001b[0;34m=\u001b[0m \u001b[0;32mTrue\u001b[0m\u001b[0;34m\u001b[0m\u001b[0;34m\u001b[0m\u001b[0m\n\u001b[1;32m    405\u001b[0m     \u001b[0;32melif\u001b[0m \u001b[0mhasattr\u001b[0m\u001b[0;34m(\u001b[0m\u001b[0mfname\u001b[0m\u001b[0;34m,\u001b[0m \u001b[0;34m'seek'\u001b[0m\u001b[0;34m)\u001b[0m\u001b[0;34m:\u001b[0m\u001b[0;34m\u001b[0m\u001b[0;34m\u001b[0m\u001b[0m\n",
            "\u001b[0;31mFileNotFoundError\u001b[0m: [Errno 2] No such file or directory: '/content/drive/MyDrive/DeFi/CVML2021/ROI.png'"
          ]
        },
        {
          "output_type": "display_data",
          "data": {
            "image/png": "[encoded data removed]",
            "text/plain": [
              "<Figure size 1296x720 with 6 Axes>"
            ]
          },
          "metadata": {}
        }
      ]
    },
    {
      "cell_type": "code",
      "metadata": {
        "id": "YEYgzhhLJ1ya"
      },
      "source": [
        "df_ROI_agg=df_ROI.agg([\"mean\",\"std\",\"skew\",\"kurt\"], axis=0)"
      ],
      "execution_count": null,
      "outputs": []
    },
    {
      "cell_type": "code",
      "metadata": {
        "colab": {
          "base_uri": "https://localhost:8080/",
          "height": 237
        },
        "id": "O04bM3diL6fj",
        "outputId": "865b2b21-b24b-4307-b2fa-22fd4bc196b2"
      },
      "source": [
        "df_ROI_agg =df_ROI_agg.transpose()\n",
        "df_ROI_agg"
      ],
      "execution_count": null,
      "outputs": [
        {
          "output_type": "execute_result",
          "data": {
            "text/html": [
              "\n",
              "  <div id=\"df-dfa654f4-e069-412a-b82d-ae8f16d02a30\">\n",
              "    <div class=\"colab-df-container\">\n",
              "      <div>\n",
              "<style scoped>\n",
              "    .dataframe tbody tr th:only-of-type {\n",
              "        vertical-align: middle;\n",
              "    }\n",
              "\n",
              "    .dataframe tbody tr th {\n",
              "        vertical-align: top;\n",
              "    }\n",
              "\n",
              "    .dataframe thead th {\n",
              "        text-align: right;\n",
              "    }\n",
              "</style>\n",
              "<table border=\"1\" class=\"dataframe\">\n",
              "  <thead>\n",
              "    <tr style=\"text-align: right;\">\n",
              "      <th></th>\n",
              "      <th>mean</th>\n",
              "      <th>std</th>\n",
              "      <th>skew</th>\n",
              "      <th>kurt</th>\n",
              "    </tr>\n",
              "  </thead>\n",
              "  <tbody>\n",
              "    <tr>\n",
              "      <th>ROI1</th>\n",
              "      <td>0.003343</td>\n",
              "      <td>0.047077</td>\n",
              "      <td>-0.206956</td>\n",
              "      <td>13.327667</td>\n",
              "    </tr>\n",
              "    <tr>\n",
              "      <th>ROI7</th>\n",
              "      <td>0.023624</td>\n",
              "      <td>0.132050</td>\n",
              "      <td>1.117996</td>\n",
              "      <td>7.291459</td>\n",
              "    </tr>\n",
              "    <tr>\n",
              "      <th>ROI30</th>\n",
              "      <td>0.118321</td>\n",
              "      <td>0.430599</td>\n",
              "      <td>4.155114</td>\n",
              "      <td>28.805420</td>\n",
              "    </tr>\n",
              "    <tr>\n",
              "      <th>ROI90</th>\n",
              "      <td>0.517465</td>\n",
              "      <td>1.393044</td>\n",
              "      <td>4.190716</td>\n",
              "      <td>23.867260</td>\n",
              "    </tr>\n",
              "    <tr>\n",
              "      <th>ROI180</th>\n",
              "      <td>1.394251</td>\n",
              "      <td>3.261427</td>\n",
              "      <td>5.832102</td>\n",
              "      <td>50.868819</td>\n",
              "    </tr>\n",
              "    <tr>\n",
              "      <th>ROI360</th>\n",
              "      <td>8.085476</td>\n",
              "      <td>24.853241</td>\n",
              "      <td>5.987535</td>\n",
              "      <td>41.536407</td>\n",
              "    </tr>\n",
              "  </tbody>\n",
              "</table>\n",
              "</div>\n",
              "      <button class=\"colab-df-convert\" onclick=\"convertToInteractive('df-dfa654f4-e069-412a-b82d-ae8f16d02a30')\"\n",
              "              title=\"Convert this dataframe to an interactive table.\"\n",
              "              style=\"display:none;\">\n",
              "        \n",
              "  <svg xmlns=\"http://www.w3.org/2000/svg\" height=\"24px\"viewBox=\"0 0 24 24\"\n",
              "       width=\"24px\">\n",
              "    <path d=\"M0 0h24v24H0V0z\" fill=\"none\"/>\n",
              "    <path d=\"M18.56 5.44l.94 2.06.94-2.06 2.06-.94-2.06-.94-.94-2.06-.94 2.06-2.06.94zm-11 1L8.5 8.5l.94-2.06 2.06-.94-2.06-.94L8.5 2.5l-.94 2.06-2.06.94zm10 10l.94 2.06.94-2.06 2.06-.94-2.06-.94-.94-2.06-.94 2.06-2.06.94z\"/><path d=\"M17.41 7.96l-1.37-1.37c-.4-.4-.92-.59-1.43-.59-.52 0-1.04.2-1.43.59L10.3 9.45l-7.72 7.72c-.78.78-.78 2.05 0 2.83L4 21.41c.39.39.9.59 1.41.59.51 0 1.02-.2 1.41-.59l7.78-7.78 2.81-2.81c.8-.78.8-2.07 0-2.86zM5.41 20L4 18.59l7.72-7.72 1.47 1.35L5.41 20z\"/>\n",
              "  </svg>\n",
              "      </button>\n",
              "      \n",
              "  <style>\n",
              "    .colab-df-container {\n",
              "      display:flex;\n",
              "      flex-wrap:wrap;\n",
              "      gap: 12px;\n",
              "    }\n",
              "\n",
              "    .colab-df-convert {\n",
              "      background-color: #E8F0FE;\n",
              "      border: none;\n",
              "      border-radius: 50%;\n",
              "      cursor: pointer;\n",
              "      display: none;\n",
              "      fill: #1967D2;\n",
              "      height: 32px;\n",
              "      padding: 0 0 0 0;\n",
              "      width: 32px;\n",
              "    }\n",
              "\n",
              "    .colab-df-convert:hover {\n",
              "      background-color: #E2EBFA;\n",
              "      box-shadow: 0px 1px 2px rgba(60, 64, 67, 0.3), 0px 1px 3px 1px rgba(60, 64, 67, 0.15);\n",
              "      fill: #174EA6;\n",
              "    }\n",
              "\n",
              "    [theme=dark] .colab-df-convert {\n",
              "      background-color: #3B4455;\n",
              "      fill: #D2E3FC;\n",
              "    }\n",
              "\n",
              "    [theme=dark] .colab-df-convert:hover {\n",
              "      background-color: #434B5C;\n",
              "      box-shadow: 0px 1px 3px 1px rgba(0, 0, 0, 0.15);\n",
              "      filter: drop-shadow(0px 1px 2px rgba(0, 0, 0, 0.3));\n",
              "      fill: #FFFFFF;\n",
              "    }\n",
              "  </style>\n",
              "\n",
              "      <script>\n",
              "        const buttonEl =\n",
              "          document.querySelector('#df-dfa654f4-e069-412a-b82d-ae8f16d02a30 button.colab-df-convert');\n",
              "        buttonEl.style.display =\n",
              "          google.colab.kernel.accessAllowed ? 'block' : 'none';\n",
              "\n",
              "        async function convertToInteractive(key) {\n",
              "          const element = document.querySelector('#df-dfa654f4-e069-412a-b82d-ae8f16d02a30');\n",
              "          const dataTable =\n",
              "            await google.colab.kernel.invokeFunction('convertToInteractive',\n",
              "                                                     [key], {});\n",
              "          if (!dataTable) return;\n",
              "\n",
              "          const docLinkHtml = 'Like what you see? Visit the ' +\n",
              "            '<a target=\"_blank\" href=https://colab.research.google.com/notebooks/data_table.ipynb>data table notebook</a>'\n",
              "            + ' to learn more about interactive tables.';\n",
              "          element.innerHTML = '';\n",
              "          dataTable['output_type'] = 'display_data';\n",
              "          await google.colab.output.renderOutput(dataTable, element);\n",
              "          const docLink = document.createElement('div');\n",
              "          docLink.innerHTML = docLinkHtml;\n",
              "          element.appendChild(docLink);\n",
              "        }\n",
              "      </script>\n",
              "    </div>\n",
              "  </div>\n",
              "  "
            ],
            "text/plain": [
              "            mean        std      skew       kurt\n",
              "ROI1    0.003343   0.047077 -0.206956  13.327667\n",
              "ROI7    0.023624   0.132050  1.117996   7.291459\n",
              "ROI30   0.118321   0.430599  4.155114  28.805420\n",
              "ROI90   0.517465   1.393044  4.190716  23.867260\n",
              "ROI180  1.394251   3.261427  5.832102  50.868819\n",
              "ROI360  8.085476  24.853241  5.987535  41.536407"
            ]
          },
          "metadata": {},
          "execution_count": 12
        }
      ]
    },
    {
      "cell_type": "code",
      "metadata": {
        "colab": {
          "base_uri": "https://localhost:8080/"
        },
        "id": "MYnjiyYmNFw7",
        "outputId": "1fcbd577-d247-4a3d-8578-6b57cdff4d40"
      },
      "source": [
        "df_ROI_agg.columns"
      ],
      "execution_count": null,
      "outputs": [
        {
          "output_type": "execute_result",
          "data": {
            "text/plain": [
              "Index(['mean', 'std', 'skew', 'kurt'], dtype='object')"
            ]
          },
          "metadata": {},
          "execution_count": 13
        }
      ]
    },
    {
      "cell_type": "code",
      "metadata": {
        "colab": {
          "base_uri": "https://localhost:8080/"
        },
        "id": "FseVJyQZNKRW",
        "outputId": "ab526574-9544-4e87-d662-2e8224fd21fe"
      },
      "source": [
        "df_ROI_agg = df_ROI_agg.astype(\"float64\")\n",
        "df_ROI_agg.dtypes"
      ],
      "execution_count": null,
      "outputs": [
        {
          "output_type": "execute_result",
          "data": {
            "text/plain": [
              "mean    float64\n",
              "std     float64\n",
              "skew    float64\n",
              "kurt    float64\n",
              "dtype: object"
            ]
          },
          "metadata": {},
          "execution_count": 14
        }
      ]
    },
    {
      "cell_type": "code",
      "metadata": {
        "colab": {
          "base_uri": "https://localhost:8080/",
          "height": 237
        },
        "id": "hnhmntYZM1PL",
        "outputId": "f6c4f6f6-ee7b-46c3-d9f6-67dba98ee431"
      },
      "source": [
        "df_ROI_agg[\"shape_ratio\"] = df_ROI_agg[\"mean\"]/df_ROI_agg[\"std\"]\n",
        "pd.options.display.float_format = '{:.2%}'.format\n",
        "df_ROI_agg"
      ],
      "execution_count": null,
      "outputs": [
        {
          "output_type": "execute_result",
          "data": {
            "text/html": [
              "\n",
              "  <div id=\"df-d07bee93-18be-4718-b877-9f046fa50607\">\n",
              "    <div class=\"colab-df-container\">\n",
              "      <div>\n",
              "<style scoped>\n",
              "    .dataframe tbody tr th:only-of-type {\n",
              "        vertical-align: middle;\n",
              "    }\n",
              "\n",
              "    .dataframe tbody tr th {\n",
              "        vertical-align: top;\n",
              "    }\n",
              "\n",
              "    .dataframe thead th {\n",
              "        text-align: right;\n",
              "    }\n",
              "</style>\n",
              "<table border=\"1\" class=\"dataframe\">\n",
              "  <thead>\n",
              "    <tr style=\"text-align: right;\">\n",
              "      <th></th>\n",
              "      <th>mean</th>\n",
              "      <th>std</th>\n",
              "      <th>skew</th>\n",
              "      <th>kurt</th>\n",
              "      <th>shape_ratio</th>\n",
              "    </tr>\n",
              "  </thead>\n",
              "  <tbody>\n",
              "    <tr>\n",
              "      <th>ROI1</th>\n",
              "      <td>0.33%</td>\n",
              "      <td>4.71%</td>\n",
              "      <td>-20.70%</td>\n",
              "      <td>1332.77%</td>\n",
              "      <td>7.10%</td>\n",
              "    </tr>\n",
              "    <tr>\n",
              "      <th>ROI7</th>\n",
              "      <td>2.36%</td>\n",
              "      <td>13.20%</td>\n",
              "      <td>111.80%</td>\n",
              "      <td>729.15%</td>\n",
              "      <td>17.89%</td>\n",
              "    </tr>\n",
              "    <tr>\n",
              "      <th>ROI30</th>\n",
              "      <td>11.83%</td>\n",
              "      <td>43.06%</td>\n",
              "      <td>415.51%</td>\n",
              "      <td>2880.54%</td>\n",
              "      <td>27.48%</td>\n",
              "    </tr>\n",
              "    <tr>\n",
              "      <th>ROI90</th>\n",
              "      <td>51.75%</td>\n",
              "      <td>139.30%</td>\n",
              "      <td>419.07%</td>\n",
              "      <td>2386.73%</td>\n",
              "      <td>37.15%</td>\n",
              "    </tr>\n",
              "    <tr>\n",
              "      <th>ROI180</th>\n",
              "      <td>139.43%</td>\n",
              "      <td>326.14%</td>\n",
              "      <td>583.21%</td>\n",
              "      <td>5086.88%</td>\n",
              "      <td>42.75%</td>\n",
              "    </tr>\n",
              "    <tr>\n",
              "      <th>ROI360</th>\n",
              "      <td>808.55%</td>\n",
              "      <td>2485.32%</td>\n",
              "      <td>598.75%</td>\n",
              "      <td>4153.64%</td>\n",
              "      <td>32.53%</td>\n",
              "    </tr>\n",
              "  </tbody>\n",
              "</table>\n",
              "</div>\n",
              "      <button class=\"colab-df-convert\" onclick=\"convertToInteractive('df-d07bee93-18be-4718-b877-9f046fa50607')\"\n",
              "              title=\"Convert this dataframe to an interactive table.\"\n",
              "              style=\"display:none;\">\n",
              "        \n",
              "  <svg xmlns=\"http://www.w3.org/2000/svg\" height=\"24px\"viewBox=\"0 0 24 24\"\n",
              "       width=\"24px\">\n",
              "    <path d=\"M0 0h24v24H0V0z\" fill=\"none\"/>\n",
              "    <path d=\"M18.56 5.44l.94 2.06.94-2.06 2.06-.94-2.06-.94-.94-2.06-.94 2.06-2.06.94zm-11 1L8.5 8.5l.94-2.06 2.06-.94-2.06-.94L8.5 2.5l-.94 2.06-2.06.94zm10 10l.94 2.06.94-2.06 2.06-.94-2.06-.94-.94-2.06-.94 2.06-2.06.94z\"/><path d=\"M17.41 7.96l-1.37-1.37c-.4-.4-.92-.59-1.43-.59-.52 0-1.04.2-1.43.59L10.3 9.45l-7.72 7.72c-.78.78-.78 2.05 0 2.83L4 21.41c.39.39.9.59 1.41.59.51 0 1.02-.2 1.41-.59l7.78-7.78 2.81-2.81c.8-.78.8-2.07 0-2.86zM5.41 20L4 18.59l7.72-7.72 1.47 1.35L5.41 20z\"/>\n",
              "  </svg>\n",
              "      </button>\n",
              "      \n",
              "  <style>\n",
              "    .colab-df-container {\n",
              "      display:flex;\n",
              "      flex-wrap:wrap;\n",
              "      gap: 12px;\n",
              "    }\n",
              "\n",
              "    .colab-df-convert {\n",
              "      background-color: #E8F0FE;\n",
              "      border: none;\n",
              "      border-radius: 50%;\n",
              "      cursor: pointer;\n",
              "      display: none;\n",
              "      fill: #1967D2;\n",
              "      height: 32px;\n",
              "      padding: 0 0 0 0;\n",
              "      width: 32px;\n",
              "    }\n",
              "\n",
              "    .colab-df-convert:hover {\n",
              "      background-color: #E2EBFA;\n",
              "      box-shadow: 0px 1px 2px rgba(60, 64, 67, 0.3), 0px 1px 3px 1px rgba(60, 64, 67, 0.15);\n",
              "      fill: #174EA6;\n",
              "    }\n",
              "\n",
              "    [theme=dark] .colab-df-convert {\n",
              "      background-color: #3B4455;\n",
              "      fill: #D2E3FC;\n",
              "    }\n",
              "\n",
              "    [theme=dark] .colab-df-convert:hover {\n",
              "      background-color: #434B5C;\n",
              "      box-shadow: 0px 1px 3px 1px rgba(0, 0, 0, 0.15);\n",
              "      filter: drop-shadow(0px 1px 2px rgba(0, 0, 0, 0.3));\n",
              "      fill: #FFFFFF;\n",
              "    }\n",
              "  </style>\n",
              "\n",
              "      <script>\n",
              "        const buttonEl =\n",
              "          document.querySelector('#df-d07bee93-18be-4718-b877-9f046fa50607 button.colab-df-convert');\n",
              "        buttonEl.style.display =\n",
              "          google.colab.kernel.accessAllowed ? 'block' : 'none';\n",
              "\n",
              "        async function convertToInteractive(key) {\n",
              "          const element = document.querySelector('#df-d07bee93-18be-4718-b877-9f046fa50607');\n",
              "          const dataTable =\n",
              "            await google.colab.kernel.invokeFunction('convertToInteractive',\n",
              "                                                     [key], {});\n",
              "          if (!dataTable) return;\n",
              "\n",
              "          const docLinkHtml = 'Like what you see? Visit the ' +\n",
              "            '<a target=\"_blank\" href=https://colab.research.google.com/notebooks/data_table.ipynb>data table notebook</a>'\n",
              "            + ' to learn more about interactive tables.';\n",
              "          element.innerHTML = '';\n",
              "          dataTable['output_type'] = 'display_data';\n",
              "          await google.colab.output.renderOutput(dataTable, element);\n",
              "          const docLink = document.createElement('div');\n",
              "          docLink.innerHTML = docLinkHtml;\n",
              "          element.appendChild(docLink);\n",
              "        }\n",
              "      </script>\n",
              "    </div>\n",
              "  </div>\n",
              "  "
            ],
            "text/plain": [
              "          mean      std    skew     kurt  shape_ratio\n",
              "ROI1     0.33%    4.71% -20.70% 1332.77%        7.10%\n",
              "ROI7     2.36%   13.20% 111.80%  729.15%       17.89%\n",
              "ROI30   11.83%   43.06% 415.51% 2880.54%       27.48%\n",
              "ROI90   51.75%  139.30% 419.07% 2386.73%       37.15%\n",
              "ROI180 139.43%  326.14% 583.21% 5086.88%       42.75%\n",
              "ROI360 808.55% 2485.32% 598.75% 4153.64%       32.53%"
            ]
          },
          "metadata": {},
          "execution_count": 15
        }
      ]
    },
    {
      "cell_type": "code",
      "metadata": {
        "id": "m-5C2Q9IUUAa"
      },
      "source": [
        "pd.options.display.float_format = '{:.4f}'.format"
      ],
      "execution_count": null,
      "outputs": []
    },
    {
      "cell_type": "code",
      "metadata": {
        "colab": {
          "base_uri": "https://localhost:8080/",
          "height": 237
        },
        "id": "MlgbVrVXUghK",
        "outputId": "70745b4c-a62b-48cc-c795-10c6e7261cc1"
      },
      "source": [
        "df_ROI_agg"
      ],
      "execution_count": null,
      "outputs": [
        {
          "output_type": "execute_result",
          "data": {
            "text/html": [
              "\n",
              "  <div id=\"df-4f60420d-ddb6-4d76-84ea-d6b6483efb11\">\n",
              "    <div class=\"colab-df-container\">\n",
              "      <div>\n",
              "<style scoped>\n",
              "    .dataframe tbody tr th:only-of-type {\n",
              "        vertical-align: middle;\n",
              "    }\n",
              "\n",
              "    .dataframe tbody tr th {\n",
              "        vertical-align: top;\n",
              "    }\n",
              "\n",
              "    .dataframe thead th {\n",
              "        text-align: right;\n",
              "    }\n",
              "</style>\n",
              "<table border=\"1\" class=\"dataframe\">\n",
              "  <thead>\n",
              "    <tr style=\"text-align: right;\">\n",
              "      <th></th>\n",
              "      <th>mean</th>\n",
              "      <th>std</th>\n",
              "      <th>skew</th>\n",
              "      <th>kurt</th>\n",
              "      <th>shape_ratio</th>\n",
              "    </tr>\n",
              "  </thead>\n",
              "  <tbody>\n",
              "    <tr>\n",
              "      <th>ROI1</th>\n",
              "      <td>0.0033</td>\n",
              "      <td>0.0471</td>\n",
              "      <td>-0.2070</td>\n",
              "      <td>13.3277</td>\n",
              "      <td>0.0710</td>\n",
              "    </tr>\n",
              "    <tr>\n",
              "      <th>ROI7</th>\n",
              "      <td>0.0236</td>\n",
              "      <td>0.1320</td>\n",
              "      <td>1.1180</td>\n",
              "      <td>7.2915</td>\n",
              "      <td>0.1789</td>\n",
              "    </tr>\n",
              "    <tr>\n",
              "      <th>ROI30</th>\n",
              "      <td>0.1183</td>\n",
              "      <td>0.4306</td>\n",
              "      <td>4.1551</td>\n",
              "      <td>28.8054</td>\n",
              "      <td>0.2748</td>\n",
              "    </tr>\n",
              "    <tr>\n",
              "      <th>ROI90</th>\n",
              "      <td>0.5175</td>\n",
              "      <td>1.3930</td>\n",
              "      <td>4.1907</td>\n",
              "      <td>23.8673</td>\n",
              "      <td>0.3715</td>\n",
              "    </tr>\n",
              "    <tr>\n",
              "      <th>ROI180</th>\n",
              "      <td>1.3943</td>\n",
              "      <td>3.2614</td>\n",
              "      <td>5.8321</td>\n",
              "      <td>50.8688</td>\n",
              "      <td>0.4275</td>\n",
              "    </tr>\n",
              "    <tr>\n",
              "      <th>ROI360</th>\n",
              "      <td>8.0855</td>\n",
              "      <td>24.8532</td>\n",
              "      <td>5.9875</td>\n",
              "      <td>41.5364</td>\n",
              "      <td>0.3253</td>\n",
              "    </tr>\n",
              "  </tbody>\n",
              "</table>\n",
              "</div>\n",
              "      <button class=\"colab-df-convert\" onclick=\"convertToInteractive('df-4f60420d-ddb6-4d76-84ea-d6b6483efb11')\"\n",
              "              title=\"Convert this dataframe to an interactive table.\"\n",
              "              style=\"display:none;\">\n",
              "        \n",
              "  <svg xmlns=\"http://www.w3.org/2000/svg\" height=\"24px\"viewBox=\"0 0 24 24\"\n",
              "       width=\"24px\">\n",
              "    <path d=\"M0 0h24v24H0V0z\" fill=\"none\"/>\n",
              "    <path d=\"M18.56 5.44l.94 2.06.94-2.06 2.06-.94-2.06-.94-.94-2.06-.94 2.06-2.06.94zm-11 1L8.5 8.5l.94-2.06 2.06-.94-2.06-.94L8.5 2.5l-.94 2.06-2.06.94zm10 10l.94 2.06.94-2.06 2.06-.94-2.06-.94-.94-2.06-.94 2.06-2.06.94z\"/><path d=\"M17.41 7.96l-1.37-1.37c-.4-.4-.92-.59-1.43-.59-.52 0-1.04.2-1.43.59L10.3 9.45l-7.72 7.72c-.78.78-.78 2.05 0 2.83L4 21.41c.39.39.9.59 1.41.59.51 0 1.02-.2 1.41-.59l7.78-7.78 2.81-2.81c.8-.78.8-2.07 0-2.86zM5.41 20L4 18.59l7.72-7.72 1.47 1.35L5.41 20z\"/>\n",
              "  </svg>\n",
              "      </button>\n",
              "      \n",
              "  <style>\n",
              "    .colab-df-container {\n",
              "      display:flex;\n",
              "      flex-wrap:wrap;\n",
              "      gap: 12px;\n",
              "    }\n",
              "\n",
              "    .colab-df-convert {\n",
              "      background-color: #E8F0FE;\n",
              "      border: none;\n",
              "      border-radius: 50%;\n",
              "      cursor: pointer;\n",
              "      display: none;\n",
              "      fill: #1967D2;\n",
              "      height: 32px;\n",
              "      padding: 0 0 0 0;\n",
              "      width: 32px;\n",
              "    }\n",
              "\n",
              "    .colab-df-convert:hover {\n",
              "      background-color: #E2EBFA;\n",
              "      box-shadow: 0px 1px 2px rgba(60, 64, 67, 0.3), 0px 1px 3px 1px rgba(60, 64, 67, 0.15);\n",
              "      fill: #174EA6;\n",
              "    }\n",
              "\n",
              "    [theme=dark] .colab-df-convert {\n",
              "      background-color: #3B4455;\n",
              "      fill: #D2E3FC;\n",
              "    }\n",
              "\n",
              "    [theme=dark] .colab-df-convert:hover {\n",
              "      background-color: #434B5C;\n",
              "      box-shadow: 0px 1px 3px 1px rgba(0, 0, 0, 0.15);\n",
              "      filter: drop-shadow(0px 1px 2px rgba(0, 0, 0, 0.3));\n",
              "      fill: #FFFFFF;\n",
              "    }\n",
              "  </style>\n",
              "\n",
              "      <script>\n",
              "        const buttonEl =\n",
              "          document.querySelector('#df-4f60420d-ddb6-4d76-84ea-d6b6483efb11 button.colab-df-convert');\n",
              "        buttonEl.style.display =\n",
              "          google.colab.kernel.accessAllowed ? 'block' : 'none';\n",
              "\n",
              "        async function convertToInteractive(key) {\n",
              "          const element = document.querySelector('#df-4f60420d-ddb6-4d76-84ea-d6b6483efb11');\n",
              "          const dataTable =\n",
              "            await google.colab.kernel.invokeFunction('convertToInteractive',\n",
              "                                                     [key], {});\n",
              "          if (!dataTable) return;\n",
              "\n",
              "          const docLinkHtml = 'Like what you see? Visit the ' +\n",
              "            '<a target=\"_blank\" href=https://colab.research.google.com/notebooks/data_table.ipynb>data table notebook</a>'\n",
              "            + ' to learn more about interactive tables.';\n",
              "          element.innerHTML = '';\n",
              "          dataTable['output_type'] = 'display_data';\n",
              "          await google.colab.output.renderOutput(dataTable, element);\n",
              "          const docLink = document.createElement('div');\n",
              "          docLink.innerHTML = docLinkHtml;\n",
              "          element.appendChild(docLink);\n",
              "        }\n",
              "      </script>\n",
              "    </div>\n",
              "  </div>\n",
              "  "
            ],
            "text/plain": [
              "         mean     std    skew    kurt  shape_ratio\n",
              "ROI1   0.0033  0.0471 -0.2070 13.3277       0.0710\n",
              "ROI7   0.0236  0.1320  1.1180  7.2915       0.1789\n",
              "ROI30  0.1183  0.4306  4.1551 28.8054       0.2748\n",
              "ROI90  0.5175  1.3930  4.1907 23.8673       0.3715\n",
              "ROI180 1.3943  3.2614  5.8321 50.8688       0.4275\n",
              "ROI360 8.0855 24.8532  5.9875 41.5364       0.3253"
            ]
          },
          "metadata": {},
          "execution_count": 17
        }
      ]
    },
    {
      "cell_type": "markdown",
      "metadata": {
        "id": "ssy6Yt1Qfniu"
      },
      "source": [
        "# calculate t-statistics"
      ]
    },
    {
      "cell_type": "code",
      "metadata": {
        "colab": {
          "base_uri": "https://localhost:8080/"
        },
        "id": "3gkhVw5nfxQi",
        "outputId": "026a5d3f-87a8-4494-8cad-8b6b821322c9"
      },
      "source": [
        "import statsmodels.api as sm\n",
        "import statsmodels.formula.api as smf"
      ],
      "execution_count": null,
      "outputs": [
        {
          "output_type": "stream",
          "name": "stderr",
          "text": [
            "/usr/local/lib/python3.7/dist-packages/statsmodels/tools/_testing.py:19: FutureWarning: pandas.util.testing is deprecated. Use the functions in the public API at pandas.testing instead.\n",
            "  import pandas.util.testing as tm\n"
          ]
        }
      ]
    },
    {
      "cell_type": "code",
      "metadata": {
        "colab": {
          "base_uri": "https://localhost:8080/"
        },
        "id": "N39wU-YOfmsJ",
        "outputId": "22d3b6bc-e3ae-457e-fb51-83473cf76585"
      },
      "source": [
        "reg = smf.ols('ROI360 ~ 1', data=df_ROI).fit(cov_type='HAC',cov_kwds={'maxlags':1})\n",
        "print(reg.summary())"
      ],
      "execution_count": null,
      "outputs": [
        {
          "output_type": "stream",
          "name": "stdout",
          "text": [
            "                            OLS Regression Results                            \n",
            "==============================================================================\n",
            "Dep. Variable:                 ROI360   R-squared:                       0.000\n",
            "Model:                            OLS   Adj. R-squared:                  0.000\n",
            "Method:                 Least Squares   F-statistic:                       nan\n",
            "Date:                Sun, 30 Jan 2022   Prob (F-statistic):                nan\n",
            "Time:                        18:54:46   Log-Likelihood:                -16026.\n",
            "No. Observations:                3460   AIC:                         3.205e+04\n",
            "Df Residuals:                    3459   BIC:                         3.206e+04\n",
            "Df Model:                           0                                         \n",
            "Covariance Type:                  HAC                                         \n",
            "==============================================================================\n",
            "                 coef    std err          z      P>|z|      [0.025      0.975]\n",
            "------------------------------------------------------------------------------\n",
            "Intercept      8.0855      0.596     13.569      0.000       6.918       9.253\n",
            "==============================================================================\n",
            "Omnibus:                     3912.349   Durbin-Watson:                   0.010\n",
            "Prob(Omnibus):                  0.000   Jarque-Bera (JB):           268643.995\n",
            "Skew:                           5.985   Prob(JB):                         0.00\n",
            "Kurtosis:                      44.475   Cond. No.                         1.00\n",
            "==============================================================================\n",
            "\n",
            "Warnings:\n",
            "[1] Standard Errors are heteroscedasticity and autocorrelation robust (HAC) using 1 lags and without small sample correction\n"
          ]
        }
      ]
    },
    {
      "cell_type": "code",
      "metadata": {
        "colab": {
          "base_uri": "https://localhost:8080/"
        },
        "id": "L0WXDPtOY9XP",
        "outputId": "e696e931-b492-4280-fe61-4beadf45dd4f"
      },
      "source": [
        "cd /content/drive/MyDrive/DeFi/CVML2021"
      ],
      "execution_count": null,
      "outputs": [
        {
          "output_type": "stream",
          "name": "stdout",
          "text": [
            "[Errno 2] No such file or directory: '/content/drive/MyDrive/DeFi/CVML2021'\n",
            "/content\n"
          ]
        }
      ]
    },
    {
      "cell_type": "code",
      "metadata": {
        "id": "esgA3ISTUh_S"
      },
      "source": [
        "df_ROI_agg.to_excel(\"output.xlsx\") "
      ],
      "execution_count": null,
      "outputs": []
    },
    {
      "cell_type": "markdown",
      "metadata": {
        "id": "xuOtNV6fallr"
      },
      "source": [
        "# miracles and disasters"
      ]
    },
    {
      "cell_type": "code",
      "metadata": {
        "id": "cGXUSmIzY7zg"
      },
      "source": [
        "disaster5=df_ROI[df_ROI[\"ROI1\"]<=-0.05].count()[\"ROI1\"]\n",
        "disaster10=df_ROI[df_ROI[\"ROI1\"]<=-0.1].count()[\"ROI1\"]\n",
        "disaster20=df_ROI[df_ROI[\"ROI1\"]<=-0.2].count()[\"ROI1\"]\n",
        "disaster30=df_ROI[df_ROI[\"ROI1\"]<=-0.3].count()[\"ROI1\"]"
      ],
      "execution_count": null,
      "outputs": []
    },
    {
      "cell_type": "code",
      "metadata": {
        "colab": {
          "base_uri": "https://localhost:8080/"
        },
        "id": "m_GdTqApbN8S",
        "outputId": "1967f20d-d564-49c1-cd20-aabf30ec4444"
      },
      "source": [
        "[disaster5, disaster10,disaster20, disaster30]"
      ],
      "execution_count": null,
      "outputs": [
        {
          "output_type": "execute_result",
          "data": {
            "text/plain": [
              "[255, 70, 12, 4]"
            ]
          },
          "metadata": {},
          "execution_count": 23
        }
      ]
    },
    {
      "cell_type": "code",
      "metadata": {
        "colab": {
          "base_uri": "https://localhost:8080/"
        },
        "id": "lt9CvNFXc1WV",
        "outputId": "203e77c3-0f37-4663-cda0-6bb52b952a9a"
      },
      "source": [
        "[disaster5, disaster10,disaster20, disaster30]/df_ROI['ROI1'].count()"
      ],
      "execution_count": null,
      "outputs": [
        {
          "output_type": "execute_result",
          "data": {
            "text/plain": [
              "array([0.07369942, 0.02023121, 0.00346821, 0.00115607])"
            ]
          },
          "metadata": {},
          "execution_count": 24
        }
      ]
    },
    {
      "cell_type": "code",
      "metadata": {
        "id": "-_u0mAAHdFp4"
      },
      "source": [
        "miracle5=df_ROI[df_ROI[\"ROI1\"]>=0.05].count()[\"ROI1\"]\n",
        "miracle10=df_ROI[df_ROI[\"ROI1\"]>=0.1].count()[\"ROI1\"]\n",
        "miracle20=df_ROI[df_ROI[\"ROI1\"]>=0.2].count()[\"ROI1\"]\n",
        "miracle30=df_ROI[df_ROI[\"ROI1\"]>=0.3].count()[\"ROI1\"]"
      ],
      "execution_count": null,
      "outputs": []
    },
    {
      "cell_type": "code",
      "metadata": {
        "colab": {
          "base_uri": "https://localhost:8080/"
        },
        "id": "23vAFw9YdlI5",
        "outputId": "212a9b34-0f25-4173-a034-44159a0165e5"
      },
      "source": [
        "[miracle5, miracle10,miracle20, miracle30]"
      ],
      "execution_count": null,
      "outputs": [
        {
          "output_type": "execute_result",
          "data": {
            "text/plain": [
              "[309, 96, 16, 4]"
            ]
          },
          "metadata": {},
          "execution_count": 26
        }
      ]
    },
    {
      "cell_type": "code",
      "metadata": {
        "colab": {
          "base_uri": "https://localhost:8080/"
        },
        "id": "vhozjegwdpq7",
        "outputId": "eaf2e266-1c67-446a-c00f-a507f0b31f06"
      },
      "source": [
        "[miracle5, miracle10,miracle20, miracle30]/df_ROI['ROI1'].count()"
      ],
      "execution_count": null,
      "outputs": [
        {
          "output_type": "execute_result",
          "data": {
            "text/plain": [
              "array([0.08930636, 0.02774566, 0.00462428, 0.00115607])"
            ]
          },
          "metadata": {},
          "execution_count": 27
        }
      ]
    },
    {
      "cell_type": "code",
      "metadata": {
        "colab": {
          "base_uri": "https://localhost:8080/"
        },
        "id": "ZgJ_Lyn7gN7g",
        "outputId": "c6068cd4-a6e9-4f5f-d048-5c27e0ccc473"
      },
      "source": [
        "df_ROI[df_ROI[\"ROI1\"]>=0].count()[\"ROI1\"]/df[\"ROI1\"].count()"
      ],
      "execution_count": null,
      "outputs": [
        {
          "output_type": "execute_result",
          "data": {
            "text/plain": [
              "0.49227546478135636"
            ]
          },
          "metadata": {},
          "execution_count": 28
        }
      ]
    },
    {
      "cell_type": "code",
      "metadata": {
        "colab": {
          "base_uri": "https://localhost:8080/"
        },
        "id": "dkNw19tfgXdy",
        "outputId": "e0030ac9-1fc1-4198-8b4b-df6755a3e3cb"
      },
      "source": [
        "df_ROI[df_ROI[\"ROI7\"]>=0].count()[\"ROI7\"]/df[\"ROI7\"].count()"
      ],
      "execution_count": null,
      "outputs": [
        {
          "output_type": "execute_result",
          "data": {
            "text/plain": [
              "0.5145554681353265"
            ]
          },
          "metadata": {},
          "execution_count": 29
        }
      ]
    },
    {
      "cell_type": "code",
      "metadata": {
        "colab": {
          "base_uri": "https://localhost:8080/"
        },
        "id": "DNQB2nxggadh",
        "outputId": "ad704e66-6408-45e5-cd92-764bcd48b4bc"
      },
      "source": [
        "df_ROI[df_ROI[\"ROI30\"]>=0].count()[\"ROI7\"]/df[\"ROI7\"].count()"
      ],
      "execution_count": null,
      "outputs": [
        {
          "output_type": "execute_result",
          "data": {
            "text/plain": [
              "0.5234723314975085"
            ]
          },
          "metadata": {},
          "execution_count": 30
        }
      ]
    },
    {
      "cell_type": "code",
      "metadata": {
        "colab": {
          "base_uri": "https://localhost:8080/"
        },
        "id": "q-mA17cJgcuy",
        "outputId": "c72d08e9-0f1f-4beb-d15d-b42b4982037f"
      },
      "source": [
        "df_ROI[df_ROI[\"ROI90\"]>=0].count()[\"ROI7\"]/df[\"ROI7\"].count()"
      ],
      "execution_count": null,
      "outputs": [
        {
          "output_type": "execute_result",
          "data": {
            "text/plain": [
              "0.5654340414371886"
            ]
          },
          "metadata": {},
          "execution_count": 31
        }
      ]
    },
    {
      "cell_type": "code",
      "metadata": {
        "colab": {
          "base_uri": "https://localhost:8080/"
        },
        "id": "NoGmBdz5gd_h",
        "outputId": "5d4903bc-bcbb-4142-9ac1-41a58278b00b"
      },
      "source": [
        "df_ROI[df_ROI[\"ROI180\"]>=0].count()[\"ROI7\"]/df[\"ROI7\"].count()"
      ],
      "execution_count": null,
      "outputs": [
        {
          "output_type": "execute_result",
          "data": {
            "text/plain": [
              "0.6060844479412536"
            ]
          },
          "metadata": {},
          "execution_count": 32
        }
      ]
    },
    {
      "cell_type": "code",
      "metadata": {
        "colab": {
          "base_uri": "https://localhost:8080/"
        },
        "id": "v0xkJn7lgf8O",
        "outputId": "fcab5b25-7b17-4551-a060-c8a76e321c3c"
      },
      "source": [
        "df_ROI[df_ROI[\"ROI360\"]>=0].count()[\"ROI7\"]/df[\"ROI7\"].count()"
      ],
      "execution_count": null,
      "outputs": [
        {
          "output_type": "execute_result",
          "data": {
            "text/plain": [
              "0.7149226330972988"
            ]
          },
          "metadata": {},
          "execution_count": 33
        }
      ]
    },
    {
      "cell_type": "markdown",
      "metadata": {
        "id": "Q2fSREFrfMg1"
      },
      "source": [
        "# Cryptocurrency Value Ratios"
      ]
    },
    {
      "cell_type": "code",
      "metadata": {
        "id": "dAy_mE-LfR5O"
      },
      "source": [
        "df[\"Past100\"]=-df[\"PriceUSD\"].pct_change(700)"
      ],
      "execution_count": null,
      "outputs": []
    },
    {
      "cell_type": "code",
      "metadata": {
        "id": "sHe1escSg93p"
      },
      "source": [
        "df[\"AMR\"] = df[\"AdrActCnt\"]/df[\"CapMrktCurUSD\"]"
      ],
      "execution_count": null,
      "outputs": []
    },
    {
      "cell_type": "code",
      "metadata": {
        "id": "zjBh5xxmhgJN"
      },
      "source": [
        "df['TMR'] = df[\"TxTfrValAdjUSD\"]/df[\"CapMrktCurUSD\"]"
      ],
      "execution_count": null,
      "outputs": []
    },
    {
      "cell_type": "code",
      "metadata": {
        "id": "3deBsMUZjmGh"
      },
      "source": [
        "df['PMR'] = df['TxTfrCnt']/df[\"CapMrktCurUSD\"]"
      ],
      "execution_count": null,
      "outputs": []
    },
    {
      "cell_type": "code",
      "metadata": {
        "id": "Nxw0dKyZj31f"
      },
      "source": [
        "df['EPR'] =1/df[\"P/E Ratio\"]"
      ],
      "execution_count": null,
      "outputs": []
    },
    {
      "cell_type": "code",
      "metadata": {
        "id": "vcKlcB32j_-L"
      },
      "source": [
        "df['TVN']=1/df['NVTAdj90']"
      ],
      "execution_count": null,
      "outputs": []
    },
    {
      "cell_type": "code",
      "metadata": {
        "id": "o9aHi8WekOLW"
      },
      "source": [
        "df[\"MPR\"]=1/df['PM']"
      ],
      "execution_count": null,
      "outputs": []
    },
    {
      "cell_type": "code",
      "metadata": {
        "id": "f-xw8WAikX6R"
      },
      "source": [
        "df['UPR']=1/df[\"PU Ratio\"]"
      ],
      "execution_count": null,
      "outputs": []
    },
    {
      "cell_type": "code",
      "metadata": {
        "id": "rsuxHTHEkbmO"
      },
      "source": [
        "columns_Ratio = [\"Past100\",\"AMR\",'TMR','PMR','EPR','TVN',\"MPR\",'UPR']"
      ],
      "execution_count": null,
      "outputs": []
    },
    {
      "cell_type": "code",
      "metadata": {
        "id": "nDCrGYQZknu8",
        "colab": {
          "base_uri": "https://localhost:8080/"
        },
        "outputId": "4b3f7526-ac6f-4aea-dc91-2f5c14cef5d1"
      },
      "source": [
        "df_Ratio =df[columns_Ratio]\n",
        "df_Ratio.head()"
      ],
      "execution_count": null,
      "outputs": [
        {
          "output_type": "execute_result",
          "data": {
            "text/html": [
              "\n",
              "  <div id=\"df-431c39a3-ff0e-4c42-9771-96aad16ab888\">\n",
              "    <div class=\"colab-df-container\">\n",
              "      <div>\n",
              "<style scoped>\n",
              "    .dataframe tbody tr th:only-of-type {\n",
              "        vertical-align: middle;\n",
              "    }\n",
              "\n",
              "    .dataframe tbody tr th {\n",
              "        vertical-align: top;\n",
              "    }\n",
              "\n",
              "    .dataframe thead th {\n",
              "        text-align: right;\n",
              "    }\n",
              "</style>\n",
              "<table border=\"1\" class=\"dataframe\">\n",
              "  <thead>\n",
              "    <tr style=\"text-align: right;\">\n",
              "      <th></th>\n",
              "      <th>Past100</th>\n",
              "      <th>AMR</th>\n",
              "      <th>TMR</th>\n",
              "      <th>PMR</th>\n",
              "      <th>EPR</th>\n",
              "      <th>TVN</th>\n",
              "      <th>MPR</th>\n",
              "      <th>UPR</th>\n",
              "    </tr>\n",
              "  </thead>\n",
              "  <tbody>\n",
              "    <tr>\n",
              "      <th>2009-01-03</th>\n",
              "      <td>nan</td>\n",
              "      <td>nan</td>\n",
              "      <td>nan</td>\n",
              "      <td>nan</td>\n",
              "      <td>nan</td>\n",
              "      <td>nan</td>\n",
              "      <td>nan</td>\n",
              "      <td>nan</td>\n",
              "    </tr>\n",
              "    <tr>\n",
              "      <th>2009-01-04</th>\n",
              "      <td>nan</td>\n",
              "      <td>nan</td>\n",
              "      <td>nan</td>\n",
              "      <td>nan</td>\n",
              "      <td>nan</td>\n",
              "      <td>nan</td>\n",
              "      <td>nan</td>\n",
              "      <td>nan</td>\n",
              "    </tr>\n",
              "    <tr>\n",
              "      <th>2009-01-05</th>\n",
              "      <td>nan</td>\n",
              "      <td>nan</td>\n",
              "      <td>nan</td>\n",
              "      <td>nan</td>\n",
              "      <td>nan</td>\n",
              "      <td>nan</td>\n",
              "      <td>nan</td>\n",
              "      <td>nan</td>\n",
              "    </tr>\n",
              "    <tr>\n",
              "      <th>2009-01-06</th>\n",
              "      <td>nan</td>\n",
              "      <td>nan</td>\n",
              "      <td>nan</td>\n",
              "      <td>nan</td>\n",
              "      <td>nan</td>\n",
              "      <td>nan</td>\n",
              "      <td>nan</td>\n",
              "      <td>nan</td>\n",
              "    </tr>\n",
              "    <tr>\n",
              "      <th>2009-01-07</th>\n",
              "      <td>nan</td>\n",
              "      <td>nan</td>\n",
              "      <td>nan</td>\n",
              "      <td>nan</td>\n",
              "      <td>nan</td>\n",
              "      <td>nan</td>\n",
              "      <td>nan</td>\n",
              "      <td>nan</td>\n",
              "    </tr>\n",
              "  </tbody>\n",
              "</table>\n",
              "</div>\n",
              "      <button class=\"colab-df-convert\" onclick=\"convertToInteractive('df-431c39a3-ff0e-4c42-9771-96aad16ab888')\"\n",
              "              title=\"Convert this dataframe to an interactive table.\"\n",
              "              style=\"display:none;\">\n",
              "        \n",
              "  <svg xmlns=\"http://www.w3.org/2000/svg\" height=\"24px\"viewBox=\"0 0 24 24\"\n",
              "       width=\"24px\">\n",
              "    <path d=\"M0 0h24v24H0V0z\" fill=\"none\"/>\n",
              "    <path d=\"M18.56 5.44l.94 2.06.94-2.06 2.06-.94-2.06-.94-.94-2.06-.94 2.06-2.06.94zm-11 1L8.5 8.5l.94-2.06 2.06-.94-2.06-.94L8.5 2.5l-.94 2.06-2.06.94zm10 10l.94 2.06.94-2.06 2.06-.94-2.06-.94-.94-2.06-.94 2.06-2.06.94z\"/><path d=\"M17.41 7.96l-1.37-1.37c-.4-.4-.92-.59-1.43-.59-.52 0-1.04.2-1.43.59L10.3 9.45l-7.72 7.72c-.78.78-.78 2.05 0 2.83L4 21.41c.39.39.9.59 1.41.59.51 0 1.02-.2 1.41-.59l7.78-7.78 2.81-2.81c.8-.78.8-2.07 0-2.86zM5.41 20L4 18.59l7.72-7.72 1.47 1.35L5.41 20z\"/>\n",
              "  </svg>\n",
              "      </button>\n",
              "      \n",
              "  <style>\n",
              "    .colab-df-container {\n",
              "      display:flex;\n",
              "      flex-wrap:wrap;\n",
              "      gap: 12px;\n",
              "    }\n",
              "\n",
              "    .colab-df-convert {\n",
              "      background-color: #E8F0FE;\n",
              "      border: none;\n",
              "      border-radius: 50%;\n",
              "      cursor: pointer;\n",
              "      display: none;\n",
              "      fill: #1967D2;\n",
              "      height: 32px;\n",
              "      padding: 0 0 0 0;\n",
              "      width: 32px;\n",
              "    }\n",
              "\n",
              "    .colab-df-convert:hover {\n",
              "      background-color: #E2EBFA;\n",
              "      box-shadow: 0px 1px 2px rgba(60, 64, 67, 0.3), 0px 1px 3px 1px rgba(60, 64, 67, 0.15);\n",
              "      fill: #174EA6;\n",
              "    }\n",
              "\n",
              "    [theme=dark] .colab-df-convert {\n",
              "      background-color: #3B4455;\n",
              "      fill: #D2E3FC;\n",
              "    }\n",
              "\n",
              "    [theme=dark] .colab-df-convert:hover {\n",
              "      background-color: #434B5C;\n",
              "      box-shadow: 0px 1px 3px 1px rgba(0, 0, 0, 0.15);\n",
              "      filter: drop-shadow(0px 1px 2px rgba(0, 0, 0, 0.3));\n",
              "      fill: #FFFFFF;\n",
              "    }\n",
              "  </style>\n",
              "\n",
              "      <script>\n",
              "        const buttonEl =\n",
              "          document.querySelector('#df-431c39a3-ff0e-4c42-9771-96aad16ab888 button.colab-df-convert');\n",
              "        buttonEl.style.display =\n",
              "          google.colab.kernel.accessAllowed ? 'block' : 'none';\n",
              "\n",
              "        async function convertToInteractive(key) {\n",
              "          const element = document.querySelector('#df-431c39a3-ff0e-4c42-9771-96aad16ab888');\n",
              "          const dataTable =\n",
              "            await google.colab.kernel.invokeFunction('convertToInteractive',\n",
              "                                                     [key], {});\n",
              "          if (!dataTable) return;\n",
              "\n",
              "          const docLinkHtml = 'Like what you see? Visit the ' +\n",
              "            '<a target=\"_blank\" href=https://colab.research.google.com/notebooks/data_table.ipynb>data table notebook</a>'\n",
              "            + ' to learn more about interactive tables.';\n",
              "          element.innerHTML = '';\n",
              "          dataTable['output_type'] = 'display_data';\n",
              "          await google.colab.output.renderOutput(dataTable, element);\n",
              "          const docLink = document.createElement('div');\n",
              "          docLink.innerHTML = docLinkHtml;\n",
              "          element.appendChild(docLink);\n",
              "        }\n",
              "      </script>\n",
              "    </div>\n",
              "  </div>\n",
              "  "
            ],
            "text/plain": [
              "            Past100  AMR  TMR  PMR  EPR  TVN  MPR  UPR\n",
              "2009-01-03      nan  nan  nan  nan  nan  nan  nan  nan\n",
              "2009-01-04      nan  nan  nan  nan  nan  nan  nan  nan\n",
              "2009-01-05      nan  nan  nan  nan  nan  nan  nan  nan\n",
              "2009-01-06      nan  nan  nan  nan  nan  nan  nan  nan\n",
              "2009-01-07      nan  nan  nan  nan  nan  nan  nan  nan"
            ]
          },
          "metadata": {},
          "execution_count": 43
        }
      ]
    },
    {
      "cell_type": "code",
      "metadata": {
        "id": "VAnw47D8l8IP",
        "colab": {
          "base_uri": "https://localhost:8080/"
        },
        "outputId": "d77783bc-fdbc-4cf5-b418-1e822ebd87c9"
      },
      "source": [
        "df_Ratio = df_Ratio.dropna()\n",
        "df_Ratio.head()"
      ],
      "execution_count": null,
      "outputs": [
        {
          "output_type": "execute_result",
          "data": {
            "text/html": [
              "\n",
              "  <div id=\"df-2e971a27-a9b1-497e-8aeb-0fa925956f01\">\n",
              "    <div class=\"colab-df-container\">\n",
              "      <div>\n",
              "<style scoped>\n",
              "    .dataframe tbody tr th:only-of-type {\n",
              "        vertical-align: middle;\n",
              "    }\n",
              "\n",
              "    .dataframe tbody tr th {\n",
              "        vertical-align: top;\n",
              "    }\n",
              "\n",
              "    .dataframe thead th {\n",
              "        text-align: right;\n",
              "    }\n",
              "</style>\n",
              "<table border=\"1\" class=\"dataframe\">\n",
              "  <thead>\n",
              "    <tr style=\"text-align: right;\">\n",
              "      <th></th>\n",
              "      <th>Past100</th>\n",
              "      <th>AMR</th>\n",
              "      <th>TMR</th>\n",
              "      <th>PMR</th>\n",
              "      <th>EPR</th>\n",
              "      <th>TVN</th>\n",
              "      <th>MPR</th>\n",
              "      <th>UPR</th>\n",
              "    </tr>\n",
              "  </thead>\n",
              "  <tbody>\n",
              "    <tr>\n",
              "      <th>2012-06-17</th>\n",
              "      <td>-71.2270</td>\n",
              "      <td>0.0007</td>\n",
              "      <td>0.0297</td>\n",
              "      <td>0.0017</td>\n",
              "      <td>0.3245</td>\n",
              "      <td>0.0226</td>\n",
              "      <td>2.5450</td>\n",
              "      <td>0.5313</td>\n",
              "    </tr>\n",
              "    <tr>\n",
              "      <th>2012-06-18</th>\n",
              "      <td>-77.1045</td>\n",
              "      <td>0.0006</td>\n",
              "      <td>0.0322</td>\n",
              "      <td>0.0014</td>\n",
              "      <td>0.3459</td>\n",
              "      <td>0.0224</td>\n",
              "      <td>2.1455</td>\n",
              "      <td>0.5155</td>\n",
              "    </tr>\n",
              "    <tr>\n",
              "      <th>2012-06-19</th>\n",
              "      <td>-85.9039</td>\n",
              "      <td>0.0006</td>\n",
              "      <td>0.0365</td>\n",
              "      <td>0.0013</td>\n",
              "      <td>0.2905</td>\n",
              "      <td>0.0219</td>\n",
              "      <td>2.0391</td>\n",
              "      <td>0.4916</td>\n",
              "    </tr>\n",
              "    <tr>\n",
              "      <th>2012-06-20</th>\n",
              "      <td>-83.5222</td>\n",
              "      <td>0.0005</td>\n",
              "      <td>0.0400</td>\n",
              "      <td>0.0012</td>\n",
              "      <td>0.2862</td>\n",
              "      <td>0.0215</td>\n",
              "      <td>1.6022</td>\n",
              "      <td>0.4686</td>\n",
              "    </tr>\n",
              "    <tr>\n",
              "      <th>2012-06-21</th>\n",
              "      <td>-113.1148</td>\n",
              "      <td>0.0005</td>\n",
              "      <td>0.0285</td>\n",
              "      <td>0.0010</td>\n",
              "      <td>0.2686</td>\n",
              "      <td>0.0218</td>\n",
              "      <td>1.3094</td>\n",
              "      <td>0.4751</td>\n",
              "    </tr>\n",
              "  </tbody>\n",
              "</table>\n",
              "</div>\n",
              "      <button class=\"colab-df-convert\" onclick=\"convertToInteractive('df-2e971a27-a9b1-497e-8aeb-0fa925956f01')\"\n",
              "              title=\"Convert this dataframe to an interactive table.\"\n",
              "              style=\"display:none;\">\n",
              "        \n",
              "  <svg xmlns=\"http://www.w3.org/2000/svg\" height=\"24px\"viewBox=\"0 0 24 24\"\n",
              "       width=\"24px\">\n",
              "    <path d=\"M0 0h24v24H0V0z\" fill=\"none\"/>\n",
              "    <path d=\"M18.56 5.44l.94 2.06.94-2.06 2.06-.94-2.06-.94-.94-2.06-.94 2.06-2.06.94zm-11 1L8.5 8.5l.94-2.06 2.06-.94-2.06-.94L8.5 2.5l-.94 2.06-2.06.94zm10 10l.94 2.06.94-2.06 2.06-.94-2.06-.94-.94-2.06-.94 2.06-2.06.94z\"/><path d=\"M17.41 7.96l-1.37-1.37c-.4-.4-.92-.59-1.43-.59-.52 0-1.04.2-1.43.59L10.3 9.45l-7.72 7.72c-.78.78-.78 2.05 0 2.83L4 21.41c.39.39.9.59 1.41.59.51 0 1.02-.2 1.41-.59l7.78-7.78 2.81-2.81c.8-.78.8-2.07 0-2.86zM5.41 20L4 18.59l7.72-7.72 1.47 1.35L5.41 20z\"/>\n",
              "  </svg>\n",
              "      </button>\n",
              "      \n",
              "  <style>\n",
              "    .colab-df-container {\n",
              "      display:flex;\n",
              "      flex-wrap:wrap;\n",
              "      gap: 12px;\n",
              "    }\n",
              "\n",
              "    .colab-df-convert {\n",
              "      background-color: #E8F0FE;\n",
              "      border: none;\n",
              "      border-radius: 50%;\n",
              "      cursor: pointer;\n",
              "      display: none;\n",
              "      fill: #1967D2;\n",
              "      height: 32px;\n",
              "      padding: 0 0 0 0;\n",
              "      width: 32px;\n",
              "    }\n",
              "\n",
              "    .colab-df-convert:hover {\n",
              "      background-color: #E2EBFA;\n",
              "      box-shadow: 0px 1px 2px rgba(60, 64, 67, 0.3), 0px 1px 3px 1px rgba(60, 64, 67, 0.15);\n",
              "      fill: #174EA6;\n",
              "    }\n",
              "\n",
              "    [theme=dark] .colab-df-convert {\n",
              "      background-color: #3B4455;\n",
              "      fill: #D2E3FC;\n",
              "    }\n",
              "\n",
              "    [theme=dark] .colab-df-convert:hover {\n",
              "      background-color: #434B5C;\n",
              "      box-shadow: 0px 1px 3px 1px rgba(0, 0, 0, 0.15);\n",
              "      filter: drop-shadow(0px 1px 2px rgba(0, 0, 0, 0.3));\n",
              "      fill: #FFFFFF;\n",
              "    }\n",
              "  </style>\n",
              "\n",
              "      <script>\n",
              "        const buttonEl =\n",
              "          document.querySelector('#df-2e971a27-a9b1-497e-8aeb-0fa925956f01 button.colab-df-convert');\n",
              "        buttonEl.style.display =\n",
              "          google.colab.kernel.accessAllowed ? 'block' : 'none';\n",
              "\n",
              "        async function convertToInteractive(key) {\n",
              "          const element = document.querySelector('#df-2e971a27-a9b1-497e-8aeb-0fa925956f01');\n",
              "          const dataTable =\n",
              "            await google.colab.kernel.invokeFunction('convertToInteractive',\n",
              "                                                     [key], {});\n",
              "          if (!dataTable) return;\n",
              "\n",
              "          const docLinkHtml = 'Like what you see? Visit the ' +\n",
              "            '<a target=\"_blank\" href=https://colab.research.google.com/notebooks/data_table.ipynb>data table notebook</a>'\n",
              "            + ' to learn more about interactive tables.';\n",
              "          element.innerHTML = '';\n",
              "          dataTable['output_type'] = 'display_data';\n",
              "          await google.colab.output.renderOutput(dataTable, element);\n",
              "          const docLink = document.createElement('div');\n",
              "          docLink.innerHTML = docLinkHtml;\n",
              "          element.appendChild(docLink);\n",
              "        }\n",
              "      </script>\n",
              "    </div>\n",
              "  </div>\n",
              "  "
            ],
            "text/plain": [
              "             Past100    AMR    TMR    PMR    EPR    TVN    MPR    UPR\n",
              "2012-06-17  -71.2270 0.0007 0.0297 0.0017 0.3245 0.0226 2.5450 0.5313\n",
              "2012-06-18  -77.1045 0.0006 0.0322 0.0014 0.3459 0.0224 2.1455 0.5155\n",
              "2012-06-19  -85.9039 0.0006 0.0365 0.0013 0.2905 0.0219 2.0391 0.4916\n",
              "2012-06-20  -83.5222 0.0005 0.0400 0.0012 0.2862 0.0215 1.6022 0.4686\n",
              "2012-06-21 -113.1148 0.0005 0.0285 0.0010 0.2686 0.0218 1.3094 0.4751"
            ]
          },
          "metadata": {},
          "execution_count": 44
        }
      ]
    },
    {
      "cell_type": "markdown",
      "metadata": {
        "id": "wiO58pjdk9A3"
      },
      "source": [
        "# first principal component\n",
        "\n",
        "https://scikit-learn.org/stable/auto_examples/cross_decomposition/plot_pcr_vs_pls.html"
      ]
    },
    {
      "cell_type": "code",
      "metadata": {
        "id": "C3S3EJZYkql4"
      },
      "source": [
        "import numpy as np\n",
        "import matplotlib.pyplot as plt\n",
        "from sklearn.decomposition import PCA\n",
        "from sklearn import preprocessing"
      ],
      "execution_count": null,
      "outputs": []
    },
    {
      "cell_type": "code",
      "metadata": {
        "id": "QZDGtRLs1Ggu"
      },
      "source": [
        "scaler = preprocessing.MinMaxScaler()\n",
        "min_max_scaler = preprocessing.MinMaxScaler()"
      ],
      "execution_count": null,
      "outputs": []
    },
    {
      "cell_type": "code",
      "metadata": {
        "colab": {
          "base_uri": "https://localhost:8080/",
          "height": 206
        },
        "id": "aOTNEHj22udr",
        "outputId": "cdd8dbc4-8b8e-4a40-c758-b139fd64e2d4"
      },
      "source": [
        "scaled_df_Ratio = pd.DataFrame(min_max_scaler.fit_transform(df_Ratio), columns=df_Ratio.columns, index=df_Ratio.index)\n",
        "scaled_df_Ratio.head()"
      ],
      "execution_count": null,
      "outputs": [
        {
          "output_type": "execute_result",
          "data": {
            "text/html": [
              "\n",
              "  <div id=\"df-4222c485-d151-4778-9063-72cac9e42e62\">\n",
              "    <div class=\"colab-df-container\">\n",
              "      <div>\n",
              "<style scoped>\n",
              "    .dataframe tbody tr th:only-of-type {\n",
              "        vertical-align: middle;\n",
              "    }\n",
              "\n",
              "    .dataframe tbody tr th {\n",
              "        vertical-align: top;\n",
              "    }\n",
              "\n",
              "    .dataframe thead th {\n",
              "        text-align: right;\n",
              "    }\n",
              "</style>\n",
              "<table border=\"1\" class=\"dataframe\">\n",
              "  <thead>\n",
              "    <tr style=\"text-align: right;\">\n",
              "      <th></th>\n",
              "      <th>Past100</th>\n",
              "      <th>AMR</th>\n",
              "      <th>TMR</th>\n",
              "      <th>PMR</th>\n",
              "      <th>EPR</th>\n",
              "      <th>TVN</th>\n",
              "      <th>MPR</th>\n",
              "      <th>UPR</th>\n",
              "    </tr>\n",
              "  </thead>\n",
              "  <tbody>\n",
              "    <tr>\n",
              "      <th>2012-06-17</th>\n",
              "      <td>0.7249</td>\n",
              "      <td>0.9112</td>\n",
              "      <td>0.2433</td>\n",
              "      <td>1.0000</td>\n",
              "      <td>0.9354</td>\n",
              "      <td>0.4158</td>\n",
              "      <td>0.1997</td>\n",
              "      <td>0.6279</td>\n",
              "    </tr>\n",
              "    <tr>\n",
              "      <th>2012-06-18</th>\n",
              "      <td>0.7025</td>\n",
              "      <td>0.8282</td>\n",
              "      <td>0.2683</td>\n",
              "      <td>0.8367</td>\n",
              "      <td>1.0000</td>\n",
              "      <td>0.4099</td>\n",
              "      <td>0.1668</td>\n",
              "      <td>0.6092</td>\n",
              "    </tr>\n",
              "    <tr>\n",
              "      <th>2012-06-19</th>\n",
              "      <td>0.6688</td>\n",
              "      <td>0.7952</td>\n",
              "      <td>0.3105</td>\n",
              "      <td>0.8080</td>\n",
              "      <td>0.8326</td>\n",
              "      <td>0.3990</td>\n",
              "      <td>0.1580</td>\n",
              "      <td>0.5808</td>\n",
              "    </tr>\n",
              "    <tr>\n",
              "      <th>2012-06-20</th>\n",
              "      <td>0.6779</td>\n",
              "      <td>0.6934</td>\n",
              "      <td>0.3444</td>\n",
              "      <td>0.7261</td>\n",
              "      <td>0.8196</td>\n",
              "      <td>0.3888</td>\n",
              "      <td>0.1220</td>\n",
              "      <td>0.5536</td>\n",
              "    </tr>\n",
              "    <tr>\n",
              "      <th>2012-06-21</th>\n",
              "      <td>0.5648</td>\n",
              "      <td>0.6272</td>\n",
              "      <td>0.2319</td>\n",
              "      <td>0.5862</td>\n",
              "      <td>0.7667</td>\n",
              "      <td>0.3948</td>\n",
              "      <td>0.0978</td>\n",
              "      <td>0.5613</td>\n",
              "    </tr>\n",
              "  </tbody>\n",
              "</table>\n",
              "</div>\n",
              "      <button class=\"colab-df-convert\" onclick=\"convertToInteractive('df-4222c485-d151-4778-9063-72cac9e42e62')\"\n",
              "              title=\"Convert this dataframe to an interactive table.\"\n",
              "              style=\"display:none;\">\n",
              "        \n",
              "  <svg xmlns=\"http://www.w3.org/2000/svg\" height=\"24px\"viewBox=\"0 0 24 24\"\n",
              "       width=\"24px\">\n",
              "    <path d=\"M0 0h24v24H0V0z\" fill=\"none\"/>\n",
              "    <path d=\"M18.56 5.44l.94 2.06.94-2.06 2.06-.94-2.06-.94-.94-2.06-.94 2.06-2.06.94zm-11 1L8.5 8.5l.94-2.06 2.06-.94-2.06-.94L8.5 2.5l-.94 2.06-2.06.94zm10 10l.94 2.06.94-2.06 2.06-.94-2.06-.94-.94-2.06-.94 2.06-2.06.94z\"/><path d=\"M17.41 7.96l-1.37-1.37c-.4-.4-.92-.59-1.43-.59-.52 0-1.04.2-1.43.59L10.3 9.45l-7.72 7.72c-.78.78-.78 2.05 0 2.83L4 21.41c.39.39.9.59 1.41.59.51 0 1.02-.2 1.41-.59l7.78-7.78 2.81-2.81c.8-.78.8-2.07 0-2.86zM5.41 20L4 18.59l7.72-7.72 1.47 1.35L5.41 20z\"/>\n",
              "  </svg>\n",
              "      </button>\n",
              "      \n",
              "  <style>\n",
              "    .colab-df-container {\n",
              "      display:flex;\n",
              "      flex-wrap:wrap;\n",
              "      gap: 12px;\n",
              "    }\n",
              "\n",
              "    .colab-df-convert {\n",
              "      background-color: #E8F0FE;\n",
              "      border: none;\n",
              "      border-radius: 50%;\n",
              "      cursor: pointer;\n",
              "      display: none;\n",
              "      fill: #1967D2;\n",
              "      height: 32px;\n",
              "      padding: 0 0 0 0;\n",
              "      width: 32px;\n",
              "    }\n",
              "\n",
              "    .colab-df-convert:hover {\n",
              "      background-color: #E2EBFA;\n",
              "      box-shadow: 0px 1px 2px rgba(60, 64, 67, 0.3), 0px 1px 3px 1px rgba(60, 64, 67, 0.15);\n",
              "      fill: #174EA6;\n",
              "    }\n",
              "\n",
              "    [theme=dark] .colab-df-convert {\n",
              "      background-color: #3B4455;\n",
              "      fill: #D2E3FC;\n",
              "    }\n",
              "\n",
              "    [theme=dark] .colab-df-convert:hover {\n",
              "      background-color: #434B5C;\n",
              "      box-shadow: 0px 1px 3px 1px rgba(0, 0, 0, 0.15);\n",
              "      filter: drop-shadow(0px 1px 2px rgba(0, 0, 0, 0.3));\n",
              "      fill: #FFFFFF;\n",
              "    }\n",
              "  </style>\n",
              "\n",
              "      <script>\n",
              "        const buttonEl =\n",
              "          document.querySelector('#df-4222c485-d151-4778-9063-72cac9e42e62 button.colab-df-convert');\n",
              "        buttonEl.style.display =\n",
              "          google.colab.kernel.accessAllowed ? 'block' : 'none';\n",
              "\n",
              "        async function convertToInteractive(key) {\n",
              "          const element = document.querySelector('#df-4222c485-d151-4778-9063-72cac9e42e62');\n",
              "          const dataTable =\n",
              "            await google.colab.kernel.invokeFunction('convertToInteractive',\n",
              "                                                     [key], {});\n",
              "          if (!dataTable) return;\n",
              "\n",
              "          const docLinkHtml = 'Like what you see? Visit the ' +\n",
              "            '<a target=\"_blank\" href=https://colab.research.google.com/notebooks/data_table.ipynb>data table notebook</a>'\n",
              "            + ' to learn more about interactive tables.';\n",
              "          element.innerHTML = '';\n",
              "          dataTable['output_type'] = 'display_data';\n",
              "          await google.colab.output.renderOutput(dataTable, element);\n",
              "          const docLink = document.createElement('div');\n",
              "          docLink.innerHTML = docLinkHtml;\n",
              "          element.appendChild(docLink);\n",
              "        }\n",
              "      </script>\n",
              "    </div>\n",
              "  </div>\n",
              "  "
            ],
            "text/plain": [
              "            Past100    AMR    TMR    PMR    EPR    TVN    MPR    UPR\n",
              "2012-06-17   0.7249 0.9112 0.2433 1.0000 0.9354 0.4158 0.1997 0.6279\n",
              "2012-06-18   0.7025 0.8282 0.2683 0.8367 1.0000 0.4099 0.1668 0.6092\n",
              "2012-06-19   0.6688 0.7952 0.3105 0.8080 0.8326 0.3990 0.1580 0.5808\n",
              "2012-06-20   0.6779 0.6934 0.3444 0.7261 0.8196 0.3888 0.1220 0.5536\n",
              "2012-06-21   0.5648 0.6272 0.2319 0.5862 0.7667 0.3948 0.0978 0.5613"
            ]
          },
          "metadata": {},
          "execution_count": 47
        }
      ]
    },
    {
      "cell_type": "code",
      "metadata": {
        "id": "KsPx2u1PlDml"
      },
      "source": [
        "scaled_df_Ratio[\"FPC\"] = PCA(n_components=1).fit_transform(scaled_df_Ratio)"
      ],
      "execution_count": null,
      "outputs": []
    },
    {
      "cell_type": "code",
      "metadata": {
        "colab": {
          "base_uri": "https://localhost:8080/",
          "height": 331
        },
        "id": "_j7kkWI5ocDB",
        "outputId": "caf5d2c4-34dc-45cb-ca37-159cb7b11bbd"
      },
      "source": [
        "scaled_df_Ratio.corr()"
      ],
      "execution_count": null,
      "outputs": [
        {
          "output_type": "execute_result",
          "data": {
            "text/html": [
              "\n",
              "  <div id=\"df-7c436461-1a88-45c8-81aa-f8d16e28f4a2\">\n",
              "    <div class=\"colab-df-container\">\n",
              "      <div>\n",
              "<style scoped>\n",
              "    .dataframe tbody tr th:only-of-type {\n",
              "        vertical-align: middle;\n",
              "    }\n",
              "\n",
              "    .dataframe tbody tr th {\n",
              "        vertical-align: top;\n",
              "    }\n",
              "\n",
              "    .dataframe thead th {\n",
              "        text-align: right;\n",
              "    }\n",
              "</style>\n",
              "<table border=\"1\" class=\"dataframe\">\n",
              "  <thead>\n",
              "    <tr style=\"text-align: right;\">\n",
              "      <th></th>\n",
              "      <th>Past100</th>\n",
              "      <th>AMR</th>\n",
              "      <th>TMR</th>\n",
              "      <th>PMR</th>\n",
              "      <th>EPR</th>\n",
              "      <th>TVN</th>\n",
              "      <th>MPR</th>\n",
              "      <th>UPR</th>\n",
              "      <th>FPC</th>\n",
              "    </tr>\n",
              "  </thead>\n",
              "  <tbody>\n",
              "    <tr>\n",
              "      <th>Past100</th>\n",
              "      <td>1.0000</td>\n",
              "      <td>-0.3930</td>\n",
              "      <td>-0.1559</td>\n",
              "      <td>-0.3949</td>\n",
              "      <td>-0.6487</td>\n",
              "      <td>-0.0300</td>\n",
              "      <td>0.2995</td>\n",
              "      <td>-0.2310</td>\n",
              "      <td>-0.5459</td>\n",
              "    </tr>\n",
              "    <tr>\n",
              "      <th>AMR</th>\n",
              "      <td>-0.3930</td>\n",
              "      <td>1.0000</td>\n",
              "      <td>0.4830</td>\n",
              "      <td>0.9757</td>\n",
              "      <td>0.8081</td>\n",
              "      <td>0.4153</td>\n",
              "      <td>0.1655</td>\n",
              "      <td>0.8822</td>\n",
              "      <td>0.9356</td>\n",
              "    </tr>\n",
              "    <tr>\n",
              "      <th>TMR</th>\n",
              "      <td>-0.1559</td>\n",
              "      <td>0.4830</td>\n",
              "      <td>1.0000</td>\n",
              "      <td>0.4469</td>\n",
              "      <td>0.3863</td>\n",
              "      <td>0.4788</td>\n",
              "      <td>0.4131</td>\n",
              "      <td>0.3994</td>\n",
              "      <td>0.5509</td>\n",
              "    </tr>\n",
              "    <tr>\n",
              "      <th>PMR</th>\n",
              "      <td>-0.3949</td>\n",
              "      <td>0.9757</td>\n",
              "      <td>0.4469</td>\n",
              "      <td>1.0000</td>\n",
              "      <td>0.7830</td>\n",
              "      <td>0.3710</td>\n",
              "      <td>0.0708</td>\n",
              "      <td>0.8947</td>\n",
              "      <td>0.9146</td>\n",
              "    </tr>\n",
              "    <tr>\n",
              "      <th>EPR</th>\n",
              "      <td>-0.6487</td>\n",
              "      <td>0.8081</td>\n",
              "      <td>0.3863</td>\n",
              "      <td>0.7830</td>\n",
              "      <td>1.0000</td>\n",
              "      <td>0.3704</td>\n",
              "      <td>-0.0157</td>\n",
              "      <td>0.6206</td>\n",
              "      <td>0.9094</td>\n",
              "    </tr>\n",
              "    <tr>\n",
              "      <th>TVN</th>\n",
              "      <td>-0.0300</td>\n",
              "      <td>0.4153</td>\n",
              "      <td>0.4788</td>\n",
              "      <td>0.3710</td>\n",
              "      <td>0.3704</td>\n",
              "      <td>1.0000</td>\n",
              "      <td>0.4092</td>\n",
              "      <td>0.4166</td>\n",
              "      <td>0.5771</td>\n",
              "    </tr>\n",
              "    <tr>\n",
              "      <th>MPR</th>\n",
              "      <td>0.2995</td>\n",
              "      <td>0.1655</td>\n",
              "      <td>0.4131</td>\n",
              "      <td>0.0708</td>\n",
              "      <td>-0.0157</td>\n",
              "      <td>0.4092</td>\n",
              "      <td>1.0000</td>\n",
              "      <td>0.0473</td>\n",
              "      <td>0.1330</td>\n",
              "    </tr>\n",
              "    <tr>\n",
              "      <th>UPR</th>\n",
              "      <td>-0.2310</td>\n",
              "      <td>0.8822</td>\n",
              "      <td>0.3994</td>\n",
              "      <td>0.8947</td>\n",
              "      <td>0.6206</td>\n",
              "      <td>0.4166</td>\n",
              "      <td>0.0473</td>\n",
              "      <td>1.0000</td>\n",
              "      <td>0.8324</td>\n",
              "    </tr>\n",
              "    <tr>\n",
              "      <th>FPC</th>\n",
              "      <td>-0.5459</td>\n",
              "      <td>0.9356</td>\n",
              "      <td>0.5509</td>\n",
              "      <td>0.9146</td>\n",
              "      <td>0.9094</td>\n",
              "      <td>0.5771</td>\n",
              "      <td>0.1330</td>\n",
              "      <td>0.8324</td>\n",
              "      <td>1.0000</td>\n",
              "    </tr>\n",
              "  </tbody>\n",
              "</table>\n",
              "</div>\n",
              "      <button class=\"colab-df-convert\" onclick=\"convertToInteractive('df-7c436461-1a88-45c8-81aa-f8d16e28f4a2')\"\n",
              "              title=\"Convert this dataframe to an interactive table.\"\n",
              "              style=\"display:none;\">\n",
              "        \n",
              "  <svg xmlns=\"http://www.w3.org/2000/svg\" height=\"24px\"viewBox=\"0 0 24 24\"\n",
              "       width=\"24px\">\n",
              "    <path d=\"M0 0h24v24H0V0z\" fill=\"none\"/>\n",
              "    <path d=\"M18.56 5.44l.94 2.06.94-2.06 2.06-.94-2.06-.94-.94-2.06-.94 2.06-2.06.94zm-11 1L8.5 8.5l.94-2.06 2.06-.94-2.06-.94L8.5 2.5l-.94 2.06-2.06.94zm10 10l.94 2.06.94-2.06 2.06-.94-2.06-.94-.94-2.06-.94 2.06-2.06.94z\"/><path d=\"M17.41 7.96l-1.37-1.37c-.4-.4-.92-.59-1.43-.59-.52 0-1.04.2-1.43.59L10.3 9.45l-7.72 7.72c-.78.78-.78 2.05 0 2.83L4 21.41c.39.39.9.59 1.41.59.51 0 1.02-.2 1.41-.59l7.78-7.78 2.81-2.81c.8-.78.8-2.07 0-2.86zM5.41 20L4 18.59l7.72-7.72 1.47 1.35L5.41 20z\"/>\n",
              "  </svg>\n",
              "      </button>\n",
              "      \n",
              "  <style>\n",
              "    .colab-df-container {\n",
              "      display:flex;\n",
              "      flex-wrap:wrap;\n",
              "      gap: 12px;\n",
              "    }\n",
              "\n",
              "    .colab-df-convert {\n",
              "      background-color: #E8F0FE;\n",
              "      border: none;\n",
              "      border-radius: 50%;\n",
              "      cursor: pointer;\n",
              "      display: none;\n",
              "      fill: #1967D2;\n",
              "      height: 32px;\n",
              "      padding: 0 0 0 0;\n",
              "      width: 32px;\n",
              "    }\n",
              "\n",
              "    .colab-df-convert:hover {\n",
              "      background-color: #E2EBFA;\n",
              "      box-shadow: 0px 1px 2px rgba(60, 64, 67, 0.3), 0px 1px 3px 1px rgba(60, 64, 67, 0.15);\n",
              "      fill: #174EA6;\n",
              "    }\n",
              "\n",
              "    [theme=dark] .colab-df-convert {\n",
              "      background-color: #3B4455;\n",
              "      fill: #D2E3FC;\n",
              "    }\n",
              "\n",
              "    [theme=dark] .colab-df-convert:hover {\n",
              "      background-color: #434B5C;\n",
              "      box-shadow: 0px 1px 3px 1px rgba(0, 0, 0, 0.15);\n",
              "      filter: drop-shadow(0px 1px 2px rgba(0, 0, 0, 0.3));\n",
              "      fill: #FFFFFF;\n",
              "    }\n",
              "  </style>\n",
              "\n",
              "      <script>\n",
              "        const buttonEl =\n",
              "          document.querySelector('#df-7c436461-1a88-45c8-81aa-f8d16e28f4a2 button.colab-df-convert');\n",
              "        buttonEl.style.display =\n",
              "          google.colab.kernel.accessAllowed ? 'block' : 'none';\n",
              "\n",
              "        async function convertToInteractive(key) {\n",
              "          const element = document.querySelector('#df-7c436461-1a88-45c8-81aa-f8d16e28f4a2');\n",
              "          const dataTable =\n",
              "            await google.colab.kernel.invokeFunction('convertToInteractive',\n",
              "                                                     [key], {});\n",
              "          if (!dataTable) return;\n",
              "\n",
              "          const docLinkHtml = 'Like what you see? Visit the ' +\n",
              "            '<a target=\"_blank\" href=https://colab.research.google.com/notebooks/data_table.ipynb>data table notebook</a>'\n",
              "            + ' to learn more about interactive tables.';\n",
              "          element.innerHTML = '';\n",
              "          dataTable['output_type'] = 'display_data';\n",
              "          await google.colab.output.renderOutput(dataTable, element);\n",
              "          const docLink = document.createElement('div');\n",
              "          docLink.innerHTML = docLinkHtml;\n",
              "          element.appendChild(docLink);\n",
              "        }\n",
              "      </script>\n",
              "    </div>\n",
              "  </div>\n",
              "  "
            ],
            "text/plain": [
              "         Past100     AMR     TMR     PMR     EPR     TVN     MPR     UPR  \\\n",
              "Past100   1.0000 -0.3930 -0.1559 -0.3949 -0.6487 -0.0300  0.2995 -0.2310   \n",
              "AMR      -0.3930  1.0000  0.4830  0.9757  0.8081  0.4153  0.1655  0.8822   \n",
              "TMR      -0.1559  0.4830  1.0000  0.4469  0.3863  0.4788  0.4131  0.3994   \n",
              "PMR      -0.3949  0.9757  0.4469  1.0000  0.7830  0.3710  0.0708  0.8947   \n",
              "EPR      -0.6487  0.8081  0.3863  0.7830  1.0000  0.3704 -0.0157  0.6206   \n",
              "TVN      -0.0300  0.4153  0.4788  0.3710  0.3704  1.0000  0.4092  0.4166   \n",
              "MPR       0.2995  0.1655  0.4131  0.0708 -0.0157  0.4092  1.0000  0.0473   \n",
              "UPR      -0.2310  0.8822  0.3994  0.8947  0.6206  0.4166  0.0473  1.0000   \n",
              "FPC      -0.5459  0.9356  0.5509  0.9146  0.9094  0.5771  0.1330  0.8324   \n",
              "\n",
              "            FPC  \n",
              "Past100 -0.5459  \n",
              "AMR      0.9356  \n",
              "TMR      0.5509  \n",
              "PMR      0.9146  \n",
              "EPR      0.9094  \n",
              "TVN      0.5771  \n",
              "MPR      0.1330  \n",
              "UPR      0.8324  \n",
              "FPC      1.0000  "
            ]
          },
          "metadata": {},
          "execution_count": 49
        }
      ]
    },
    {
      "cell_type": "code",
      "metadata": {
        "id": "11Xs20RXmApl",
        "colab": {
          "base_uri": "https://localhost:8080/",
          "height": 585
        },
        "outputId": "93095555-c0cb-4854-f687-e6bbf690ad5e"
      },
      "source": [
        "import seaborn as sns\n",
        "import matplotlib.pyplot as plt\n",
        "# Increase the size of the heatmap.\n",
        "plt.figure(figsize=(18, 8))\n",
        "#triangle\n",
        "import numpy as np\n",
        "mask = np.triu(np.ones_like(scaled_df_Ratio.corr(), dtype=np.bool))\n",
        "fig, ax = plt.subplots(figsize=(16,9))\n",
        "ax = sns.heatmap(scaled_df_Ratio.corr(), mask=mask, vmin=-1, vmax=1, annot=True, cmap='YlGnBu') #control colors: https://www.python-graph-gallery.com/92-control-color-in-seaborn-heatmaps/#:~:text=You%20can%20customize%20the%20colors,heatmap()%20function%20in%20seaborn.&text=It%20is%20also%20possible%20to,vmin%20parameters%20in%20the%20function.\n",
        "ax.set_title('Triangle Correlation Heatmap: Network Features', fontdict={'fontsize':18}, pad=16);"
      ],
      "execution_count": null,
      "outputs": [
        {
          "output_type": "display_data",
          "data": {
            "text/plain": [
              "<Figure size 1296x576 with 0 Axes>"
            ]
          },
          "metadata": {}
        },
        {
          "output_type": "display_data",
          "data": {
            "image/png": "[encoded data removed]",
            "text/plain": [
              "<Figure size 1152x648 with 2 Axes>"
            ]
          },
          "metadata": {}
        }
      ]
    },
    {
      "cell_type": "code",
      "metadata": {
        "id": "44__7YGXkogo"
      },
      "source": [
        "fig.savefig('heatmap_nocbar.png')"
      ],
      "execution_count": null,
      "outputs": []
    },
    {
      "cell_type": "markdown",
      "metadata": {
        "id": "lgS50L_Niz1O"
      },
      "source": [
        "# Regressions"
      ]
    },
    {
      "cell_type": "code",
      "metadata": {
        "id": "__86ICZ4qaHh"
      },
      "source": [
        "import statsmodels.api as sm\n",
        "import statsmodels.formula.api as smf"
      ],
      "execution_count": null,
      "outputs": []
    },
    {
      "cell_type": "code",
      "metadata": {
        "colab": {
          "base_uri": "https://localhost:8080/",
          "height": 204
        },
        "id": "7bng0DGSuIfu",
        "outputId": "516d2f85-e654-403a-807d-7fda72eb1268"
      },
      "source": [
        "df_Regression=df[columns_ROI].merge(scaled_df_Ratio, left_index=True, right_index=True)\n",
        "df_Regression.head()"
      ],
      "execution_count": null,
      "outputs": [
        {
          "output_type": "execute_result",
          "data": {
            "text/html": [
              "<div>\n",
              "<style scoped>\n",
              "    .dataframe tbody tr th:only-of-type {\n",
              "        vertical-align: middle;\n",
              "    }\n",
              "\n",
              "    .dataframe tbody tr th {\n",
              "        vertical-align: top;\n",
              "    }\n",
              "\n",
              "    .dataframe thead th {\n",
              "        text-align: right;\n",
              "    }\n",
              "</style>\n",
              "<table border=\"1\" class=\"dataframe\">\n",
              "  <thead>\n",
              "    <tr style=\"text-align: right;\">\n",
              "      <th></th>\n",
              "      <th>ROI1</th>\n",
              "      <th>ROI7</th>\n",
              "      <th>ROI30</th>\n",
              "      <th>ROI90</th>\n",
              "      <th>ROI180</th>\n",
              "      <th>ROI360</th>\n",
              "      <th>Past100</th>\n",
              "      <th>AMR</th>\n",
              "      <th>TMR</th>\n",
              "      <th>PMR</th>\n",
              "      <th>EPR</th>\n",
              "      <th>TVN</th>\n",
              "      <th>MPR</th>\n",
              "      <th>UPR</th>\n",
              "      <th>PC_ratios</th>\n",
              "    </tr>\n",
              "  </thead>\n",
              "  <tbody>\n",
              "    <tr>\n",
              "      <th>2012-06-17</th>\n",
              "      <td>-0.0379</td>\n",
              "      <td>0.1360</td>\n",
              "      <td>0.2113</td>\n",
              "      <td>0.3252</td>\n",
              "      <td>0.5686</td>\n",
              "      <td>-0.6459</td>\n",
              "      <td>0.7249</td>\n",
              "      <td>0.9112</td>\n",
              "      <td>0.2433</td>\n",
              "      <td>1.0000</td>\n",
              "      <td>0.9354</td>\n",
              "      <td>0.4158</td>\n",
              "      <td>0.1997</td>\n",
              "      <td>0.6279</td>\n",
              "      <td>1.3883</td>\n",
              "    </tr>\n",
              "    <tr>\n",
              "      <th>2012-06-18</th>\n",
              "      <td>0.0179</td>\n",
              "      <td>0.1296</td>\n",
              "      <td>0.2344</td>\n",
              "      <td>0.3064</td>\n",
              "      <td>0.6227</td>\n",
              "      <td>-0.6396</td>\n",
              "      <td>0.7025</td>\n",
              "      <td>0.8282</td>\n",
              "      <td>0.2683</td>\n",
              "      <td>0.8367</td>\n",
              "      <td>1.0000</td>\n",
              "      <td>0.4099</td>\n",
              "      <td>0.1668</td>\n",
              "      <td>0.6092</td>\n",
              "      <td>1.3381</td>\n",
              "    </tr>\n",
              "    <tr>\n",
              "      <th>2012-06-19</th>\n",
              "      <td>0.0292</td>\n",
              "      <td>0.1340</td>\n",
              "      <td>0.2749</td>\n",
              "      <td>0.3482</td>\n",
              "      <td>0.6640</td>\n",
              "      <td>-0.6291</td>\n",
              "      <td>0.6688</td>\n",
              "      <td>0.7952</td>\n",
              "      <td>0.3105</td>\n",
              "      <td>0.8080</td>\n",
              "      <td>0.8326</td>\n",
              "      <td>0.3990</td>\n",
              "      <td>0.1580</td>\n",
              "      <td>0.5808</td>\n",
              "      <td>1.2215</td>\n",
              "    </tr>\n",
              "    <tr>\n",
              "      <th>2012-06-20</th>\n",
              "      <td>0.0306</td>\n",
              "      <td>0.1327</td>\n",
              "      <td>0.3139</td>\n",
              "      <td>0.4152</td>\n",
              "      <td>0.6997</td>\n",
              "      <td>-0.5909</td>\n",
              "      <td>0.6779</td>\n",
              "      <td>0.6934</td>\n",
              "      <td>0.3444</td>\n",
              "      <td>0.7261</td>\n",
              "      <td>0.8196</td>\n",
              "      <td>0.3888</td>\n",
              "      <td>0.1220</td>\n",
              "      <td>0.5536</td>\n",
              "      <td>1.1335</td>\n",
              "    </tr>\n",
              "    <tr>\n",
              "      <th>2012-06-21</th>\n",
              "      <td>-0.0032</td>\n",
              "      <td>0.1191</td>\n",
              "      <td>0.3111</td>\n",
              "      <td>0.4222</td>\n",
              "      <td>0.6937</td>\n",
              "      <td>-0.6017</td>\n",
              "      <td>0.5648</td>\n",
              "      <td>0.6272</td>\n",
              "      <td>0.2319</td>\n",
              "      <td>0.5862</td>\n",
              "      <td>0.7667</td>\n",
              "      <td>0.3948</td>\n",
              "      <td>0.0978</td>\n",
              "      <td>0.5613</td>\n",
              "      <td>1.0456</td>\n",
              "    </tr>\n",
              "  </tbody>\n",
              "</table>\n",
              "</div>"
            ],
            "text/plain": [
              "              ROI1   ROI7  ROI30  ROI90  ROI180  ROI360  Past100    AMR  \\\n",
              "2012-06-17 -0.0379 0.1360 0.2113 0.3252  0.5686 -0.6459   0.7249 0.9112   \n",
              "2012-06-18  0.0179 0.1296 0.2344 0.3064  0.6227 -0.6396   0.7025 0.8282   \n",
              "2012-06-19  0.0292 0.1340 0.2749 0.3482  0.6640 -0.6291   0.6688 0.7952   \n",
              "2012-06-20  0.0306 0.1327 0.3139 0.4152  0.6997 -0.5909   0.6779 0.6934   \n",
              "2012-06-21 -0.0032 0.1191 0.3111 0.4222  0.6937 -0.6017   0.5648 0.6272   \n",
              "\n",
              "              TMR    PMR    EPR    TVN    MPR    UPR  PC_ratios  \n",
              "2012-06-17 0.2433 1.0000 0.9354 0.4158 0.1997 0.6279     1.3883  \n",
              "2012-06-18 0.2683 0.8367 1.0000 0.4099 0.1668 0.6092     1.3381  \n",
              "2012-06-19 0.3105 0.8080 0.8326 0.3990 0.1580 0.5808     1.2215  \n",
              "2012-06-20 0.3444 0.7261 0.8196 0.3888 0.1220 0.5536     1.1335  \n",
              "2012-06-21 0.2319 0.5862 0.7667 0.3948 0.0978 0.5613     1.0456  "
            ]
          },
          "metadata": {},
          "execution_count": 121
        }
      ]
    },
    {
      "cell_type": "code",
      "metadata": {
        "id": "NVvzcHnqqaZ7"
      },
      "source": [
        "df_Regression[\"ROI1_future\"] = df_Regression[\"ROI1\"].shift(-1)\n",
        "df_Regression[\"ROI7_future\"] = df_Regression[\"ROI7\"].shift(-7)\n",
        "df_Regression[\"ROI30_future\"] = df_Regression[\"ROI30\"].shift(-30)\n",
        "df_Regression[\"ROI90_future\"] = df_Regression[\"ROI90\"].shift(-90)\n",
        "df_Regression[\"ROI180_future\"] = df_Regression[\"ROI180\"].shift(-180)\n",
        "df_Regression[\"ROI360_future\"] = df_Regression[\"ROI360\"].shift(-360)"
      ],
      "execution_count": null,
      "outputs": []
    },
    {
      "cell_type": "code",
      "metadata": {
        "id": "niOCRUIg5hGt"
      },
      "source": [
        "columns_Ratio =columns_Ratio+[\"PC_ratios\"]"
      ],
      "execution_count": null,
      "outputs": []
    },
    {
      "cell_type": "code",
      "metadata": {
        "id": "HDO876DarzWR"
      },
      "source": [
        "df_Regression =df_Regression.dropna()"
      ],
      "execution_count": null,
      "outputs": []
    },
    {
      "cell_type": "code",
      "metadata": {
        "id": "j9CdQqfGlVRO"
      },
      "source": [
        "df_Regression.to_csv(\"regression.csv\")"
      ],
      "execution_count": null,
      "outputs": []
    },
    {
      "cell_type": "code",
      "metadata": {
        "colab": {
          "base_uri": "https://localhost:8080/"
        },
        "id": "B9jFen5qtJV9",
        "outputId": "0f54c230-7903-4c78-f2b9-7479dba72126"
      },
      "source": [
        "!pip install stargazer\n",
        "from stargazer.stargazer import Stargazer\n",
        "from IPython.core.display import HTML\n",
        "from IPython.core.display import Latex"
      ],
      "execution_count": null,
      "outputs": [
        {
          "output_type": "stream",
          "name": "stdout",
          "text": [
            "Requirement already satisfied: stargazer in /usr/local/lib/python3.7/dist-packages (0.0.5)\n"
          ]
        }
      ]
    },
    {
      "cell_type": "code",
      "metadata": {
        "id": "YrCs6KWHrktr"
      },
      "source": [
        "results1 = smf.ols('ROI7_future ~ 1+ Past100', data=df_Regression).fit(cov_type='HAC',cov_kwds={'maxlags':1})\n",
        "results2 = smf.ols('ROI7_future ~ 1+ AMR', data=df_Regression).fit(cov_type='HAC',cov_kwds={'maxlags':1})\n",
        "results3 = smf.ols('ROI7_future ~ 1+ TMR', data=df_Regression).fit(cov_type='HAC',cov_kwds={'maxlags':1})\n",
        "results4 = smf.ols('ROI7_future ~ 1+ PMR', data=df_Regression).fit(cov_type='HAC',cov_kwds={'maxlags':1})\n",
        "results5 = smf.ols('ROI7_future ~ 1+ EPR', data=df_Regression).fit(cov_type='HAC',cov_kwds={'maxlags':1})\n",
        "results6 = smf.ols('ROI7_future ~ 1+ TVN', data=df_Regression).fit(cov_type='HAC',cov_kwds={'maxlags':1})\n",
        "results7 = smf.ols('ROI7_future ~ 1+ MPR', data=df_Regression).fit(cov_type='HAC',cov_kwds={'maxlags':1})\n",
        "results8 = smf.ols('ROI7_future ~ 1+ UPR', data=df_Regression).fit(cov_type='HAC',cov_kwds={'maxlags':1})\n",
        "results9 = smf.ols('ROI7_future ~ 1+ PC_ratios', data=df_Regression).fit(cov_type='HAC',cov_kwds={'maxlags':1})"
      ],
      "execution_count": null,
      "outputs": []
    },
    {
      "cell_type": "code",
      "metadata": {
        "colab": {
          "base_uri": "https://localhost:8080/"
        },
        "id": "MG3o_0-xlzA0",
        "outputId": "4b89bea6-d6ac-4885-cbff-894275418f15"
      },
      "source": [
        "print(results1.summary())"
      ],
      "execution_count": null,
      "outputs": [
        {
          "output_type": "stream",
          "name": "stdout",
          "text": [
            "                            OLS Regression Results                            \n",
            "==============================================================================\n",
            "Dep. Variable:            ROI7_future   R-squared:                       0.002\n",
            "Model:                            OLS   Adj. R-squared:                  0.002\n",
            "Method:                 Least Squares   F-statistic:                     1.510\n",
            "Date:                Fri, 08 Oct 2021   Prob (F-statistic):              0.219\n",
            "Time:                        11:20:48   Log-Likelihood:                 1668.3\n",
            "No. Observations:                2760   AIC:                            -3333.\n",
            "Df Residuals:                    2758   BIC:                            -3321.\n",
            "Df Model:                           1                                         \n",
            "Covariance Type:                  HAC                                         \n",
            "==============================================================================\n",
            "                 coef    std err          z      P>|z|      [0.025      0.975]\n",
            "------------------------------------------------------------------------------\n",
            "Intercept      0.0585      0.028      2.115      0.034       0.004       0.113\n",
            "Past100       -0.0358      0.029     -1.229      0.219      -0.093       0.021\n",
            "==============================================================================\n",
            "Omnibus:                      963.916   Durbin-Watson:                   0.276\n",
            "Prob(Omnibus):                  0.000   Jarque-Bera (JB):             8296.044\n",
            "Skew:                           1.408   Prob(JB):                         0.00\n",
            "Kurtosis:                      11.013   Cond. No.                         11.4\n",
            "==============================================================================\n",
            "\n",
            "Warnings:\n",
            "[1] Standard Errors are heteroscedasticity and autocorrelation robust (HAC) using 1 lags and without small sample correction\n"
          ]
        }
      ]
    },
    {
      "cell_type": "code",
      "metadata": {
        "colab": {
          "base_uri": "https://localhost:8080/",
          "height": 681
        },
        "id": "GMaTAp26tPvR",
        "outputId": "fbc6a56b-94a4-427a-dcce-d0f1cc4982d4"
      },
      "source": [
        "stargazer_weekly = Stargazer([results1,results2,results3,results4,results5,results6,results7,results8,results9])\n",
        "stargazer_weekly.title('Prediction on Future 1-week return')\n",
        "stargazer_weekly.significant_digits(3)\n",
        "stargazer_weekly.covariate_order(columns_Ratio)\n",
        "HTML(stargazer_weekly.render_html())"
      ],
      "execution_count": null,
      "outputs": [
        {
          "output_type": "execute_result",
          "data": {
            "text/html": [
              "Prediction on Future 1-week return<br><table style=\"text-align:center\"><tr><td colspan=\"10\" style=\"border-bottom: 1px solid black\"></td></tr><tr><td style=\"text-align:left\"></td><td colspan=\"9\"><em>Dependent variable:ROI7_future</em></td></tr><tr><td style=\"text-align:left\"></td><tr><td style=\"text-align:left\"></td><td>(1)</td><td>(2)</td><td>(3)</td><td>(4)</td><td>(5)</td><td>(6)</td><td>(7)</td><td>(8)</td><td>(9)</td></tr><tr><td colspan=\"10\" style=\"border-bottom: 1px solid black\"></td></tr><tr><td style=\"text-align:left\">Past100</td><td>-0.036<sup></sup></td><td></td><td></td><td></td><td></td><td></td><td></td><td></td><td></td></tr><tr><td style=\"text-align:left\"></td><td>(0.029)</td><td></td><td></td><td></td><td></td><td></td><td></td><td></td><td></td></tr><tr><td style=\"text-align:left\">AMR</td><td></td><td>0.084<sup>***</sup></td><td></td><td></td><td></td><td></td><td></td><td></td><td></td></tr><tr><td style=\"text-align:left\"></td><td></td><td>(0.020)</td><td></td><td></td><td></td><td></td><td></td><td></td><td></td></tr><tr><td style=\"text-align:left\">TMR</td><td></td><td></td><td>0.253<sup>***</sup></td><td></td><td></td><td></td><td></td><td></td><td></td></tr><tr><td style=\"text-align:left\"></td><td></td><td></td><td>(0.040)</td><td></td><td></td><td></td><td></td><td></td><td></td></tr><tr><td style=\"text-align:left\">PMR</td><td></td><td></td><td></td><td>0.102<sup>***</sup></td><td></td><td></td><td></td><td></td><td></td></tr><tr><td style=\"text-align:left\"></td><td></td><td></td><td></td><td>(0.025)</td><td></td><td></td><td></td><td></td><td></td></tr><tr><td style=\"text-align:left\">EPR</td><td></td><td></td><td></td><td></td><td>0.060<sup>***</sup></td><td></td><td></td><td></td><td></td></tr><tr><td style=\"text-align:left\"></td><td></td><td></td><td></td><td></td><td>(0.017)</td><td></td><td></td><td></td><td></td></tr><tr><td style=\"text-align:left\">TVN</td><td></td><td></td><td></td><td></td><td></td><td>0.032<sup></sup></td><td></td><td></td><td></td></tr><tr><td style=\"text-align:left\"></td><td></td><td></td><td></td><td></td><td></td><td>(0.025)</td><td></td><td></td><td></td></tr><tr><td style=\"text-align:left\">MPR</td><td></td><td></td><td></td><td></td><td></td><td></td><td>0.016<sup></sup></td><td></td><td></td></tr><tr><td style=\"text-align:left\"></td><td></td><td></td><td></td><td></td><td></td><td></td><td>(0.019)</td><td></td><td></td></tr><tr><td style=\"text-align:left\">UPR</td><td></td><td></td><td></td><td></td><td></td><td></td><td></td><td>0.071<sup>***</sup></td><td></td></tr><tr><td style=\"text-align:left\"></td><td></td><td></td><td></td><td></td><td></td><td></td><td></td><td>(0.015)</td><td></td></tr><tr><td style=\"text-align:left\">PC_ratios</td><td></td><td></td><td></td><td></td><td></td><td></td><td></td><td></td><td>0.045<sup>***</sup></td></tr><tr><td style=\"text-align:left\"></td><td></td><td></td><td></td><td></td><td></td><td></td><td></td><td></td><td>(0.009)</td></tr><td colspan=\"10\" style=\"border-bottom: 1px solid black\"></td></tr><tr><td style=\"text-align: left\">Observations</td><td>2,760</td><td>2,760</td><td>2,760</td><td>2,760</td><td>2,760</td><td>2,760</td><td>2,760</td><td>2,760</td><td>2,760</td></tr><tr><td style=\"text-align: left\">R<sup>2</sup></td><td>0.002</td><td>0.007</td><td>0.039</td><td>0.007</td><td>0.007</td><td>0.002</td><td>0.000</td><td>0.007</td><td>0.010</td></tr><tr><td style=\"text-align: left\">Adjusted R<sup>2</sup></td><td>0.002</td><td>0.007</td><td>0.039</td><td>0.007</td><td>0.007</td><td>0.001</td><td>-0.000</td><td>0.007</td><td>0.010</td></tr><tr><td style=\"text-align: left\">Residual Std. Error</td><td>0.132 (df=2758)</td><td>0.132 (df=2758)</td><td>0.130 (df=2758)</td><td>0.132 (df=2758)</td><td>0.132 (df=2758)</td><td>0.132 (df=2758)</td><td>0.132 (df=2758)</td><td>0.132 (df=2758)</td><td>0.132 (df=2758)</td></tr><tr><td style=\"text-align: left\">F Statistic</td><td>1.510<sup></sup> (df=1; 2758)</td><td>17.881<sup>***</sup> (df=1; 2758)</td><td>39.622<sup>***</sup> (df=1; 2758)</td><td>17.406<sup>***</sup> (df=1; 2758)</td><td>12.411<sup>***</sup> (df=1; 2758)</td><td>1.737<sup></sup> (df=1; 2758)</td><td>0.714<sup></sup> (df=1; 2758)</td><td>23.190<sup>***</sup> (df=1; 2758)</td><td>26.118<sup>***</sup> (df=1; 2758)</td></tr><tr><td colspan=\"10\" style=\"border-bottom: 1px solid black\"></td></tr><tr><td style=\"text-align: left\">Note:</td>\n",
              " <td colspan=\"9\" style=\"text-align: right\">\n",
              "  <sup>*</sup>p&lt;0.1;\n",
              "  <sup>**</sup>p&lt;0.05;\n",
              "  <sup>***</sup>p&lt;0.01\n",
              " </td></tr></table>"
            ],
            "text/plain": [
              "<IPython.core.display.HTML object>"
            ]
          },
          "metadata": {},
          "execution_count": 144
        }
      ]
    },
    {
      "cell_type": "code",
      "metadata": {
        "id": "rdqpKSt7toq4"
      },
      "source": [
        "results1 = smf.ols('ROI30_future ~ 1+ Past100', data=df_Regression).fit(cov_type='HAC',cov_kwds={'maxlags':1})\n",
        "results2 = smf.ols('ROI30_future ~ 1+ AMR', data=df_Regression).fit(cov_type='HAC',cov_kwds={'maxlags':1})\n",
        "results3 = smf.ols('ROI30_future ~ 1+ TMR', data=df_Regression).fit(cov_type='HAC',cov_kwds={'maxlags':1})\n",
        "results4 = smf.ols('ROI30_future ~ 1+ PMR', data=df_Regression).fit(cov_type='HAC',cov_kwds={'maxlags':1})\n",
        "results5 = smf.ols('ROI30_future ~ 1+ EPR', data=df_Regression).fit(cov_type='HAC',cov_kwds={'maxlags':1})\n",
        "results6 = smf.ols('ROI30_future ~ 1+ TVN', data=df_Regression).fit(cov_type='HAC',cov_kwds={'maxlags':1})\n",
        "results7 = smf.ols('ROI30_future ~ 1+ MPR', data=df_Regression).fit(cov_type='HAC',cov_kwds={'maxlags':1})\n",
        "results8 = smf.ols('ROI30_future ~ 1+ UPR', data=df_Regression).fit(cov_type='HAC',cov_kwds={'maxlags':1})\n",
        "results9 = smf.ols('ROI30_future ~ 1+ PC_ratios', data=df_Regression).fit(cov_type='HAC',cov_kwds={'maxlags':1})"
      ],
      "execution_count": null,
      "outputs": []
    },
    {
      "cell_type": "code",
      "metadata": {
        "colab": {
          "base_uri": "https://localhost:8080/",
          "height": 681
        },
        "id": "kJq-OM31yV3_",
        "outputId": "f9b67e27-b77a-49b9-fb2c-0f2930fe7ebf"
      },
      "source": [
        "stargazer_weekly = Stargazer([results1,results2,results3,results4,results5,results6,results7,results8,results9])\n",
        "stargazer_weekly.title('Prediction on Future 1-week return')\n",
        "stargazer_weekly.significant_digits(3)\n",
        "stargazer_weekly.covariate_order(columns_Ratio)\n",
        "HTML(stargazer_weekly.render_html())"
      ],
      "execution_count": null,
      "outputs": [
        {
          "output_type": "execute_result",
          "data": {
            "text/html": [
              "Prediction on Future 1-week return<br><table style=\"text-align:center\"><tr><td colspan=\"10\" style=\"border-bottom: 1px solid black\"></td></tr><tr><td style=\"text-align:left\"></td><td colspan=\"9\"><em>Dependent variable:ROI30_future</em></td></tr><tr><td style=\"text-align:left\"></td><tr><td style=\"text-align:left\"></td><td>(1)</td><td>(2)</td><td>(3)</td><td>(4)</td><td>(5)</td><td>(6)</td><td>(7)</td><td>(8)</td><td>(9)</td></tr><tr><td colspan=\"10\" style=\"border-bottom: 1px solid black\"></td></tr><tr><td style=\"text-align:left\">Past100</td><td>-0.137<sup>*</sup></td><td></td><td></td><td></td><td></td><td></td><td></td><td></td><td></td></tr><tr><td style=\"text-align:left\"></td><td>(0.082)</td><td></td><td></td><td></td><td></td><td></td><td></td><td></td><td></td></tr><tr><td style=\"text-align:left\">AMR</td><td></td><td>0.448<sup>***</sup></td><td></td><td></td><td></td><td></td><td></td><td></td><td></td></tr><tr><td style=\"text-align:left\"></td><td></td><td>(0.063)</td><td></td><td></td><td></td><td></td><td></td><td></td><td></td></tr><tr><td style=\"text-align:left\">TMR</td><td></td><td></td><td>1.000<sup>***</sup></td><td></td><td></td><td></td><td></td><td></td><td></td></tr><tr><td style=\"text-align:left\"></td><td></td><td></td><td>(0.119)</td><td></td><td></td><td></td><td></td><td></td><td></td></tr><tr><td style=\"text-align:left\">PMR</td><td></td><td></td><td></td><td>0.614<sup>***</sup></td><td></td><td></td><td></td><td></td><td></td></tr><tr><td style=\"text-align:left\"></td><td></td><td></td><td></td><td>(0.087)</td><td></td><td></td><td></td><td></td><td></td></tr><tr><td style=\"text-align:left\">EPR</td><td></td><td></td><td></td><td></td><td>0.327<sup>***</sup></td><td></td><td></td><td></td><td></td></tr><tr><td style=\"text-align:left\"></td><td></td><td></td><td></td><td></td><td>(0.063)</td><td></td><td></td><td></td><td></td></tr><tr><td style=\"text-align:left\">TVN</td><td></td><td></td><td></td><td></td><td></td><td>0.144<sup>**</sup></td><td></td><td></td><td></td></tr><tr><td style=\"text-align:left\"></td><td></td><td></td><td></td><td></td><td></td><td>(0.067)</td><td></td><td></td><td></td></tr><tr><td style=\"text-align:left\">MPR</td><td></td><td></td><td></td><td></td><td></td><td></td><td>-0.021<sup></sup></td><td></td><td></td></tr><tr><td style=\"text-align:left\"></td><td></td><td></td><td></td><td></td><td></td><td></td><td>(0.066)</td><td></td><td></td></tr><tr><td style=\"text-align:left\">UPR</td><td></td><td></td><td></td><td></td><td></td><td></td><td></td><td>0.455<sup>***</sup></td><td></td></tr><tr><td style=\"text-align:left\"></td><td></td><td></td><td></td><td></td><td></td><td></td><td></td><td>(0.055)</td><td></td></tr><tr><td style=\"text-align:left\">PC_ratios</td><td></td><td></td><td></td><td></td><td></td><td></td><td></td><td></td><td>0.238<sup>***</sup></td></tr><tr><td style=\"text-align:left\"></td><td></td><td></td><td></td><td></td><td></td><td></td><td></td><td></td><td>(0.029)</td></tr><td colspan=\"10\" style=\"border-bottom: 1px solid black\"></td></tr><tr><td style=\"text-align: left\">Observations</td><td>2,760</td><td>2,760</td><td>2,760</td><td>2,760</td><td>2,760</td><td>2,760</td><td>2,760</td><td>2,760</td><td>2,760</td></tr><tr><td style=\"text-align: left\">R<sup>2</sup></td><td>0.002</td><td>0.017</td><td>0.052</td><td>0.022</td><td>0.018</td><td>0.003</td><td>0.000</td><td>0.026</td><td>0.025</td></tr><tr><td style=\"text-align: left\">Adjusted R<sup>2</sup></td><td>0.002</td><td>0.017</td><td>0.052</td><td>0.022</td><td>0.018</td><td>0.002</td><td>-0.000</td><td>0.025</td><td>0.024</td></tr><tr><td style=\"text-align: left\">Residual Std. Error</td><td>0.454 (df=2758)</td><td>0.451 (df=2758)</td><td>0.442 (df=2758)</td><td>0.449 (df=2758)</td><td>0.450 (df=2758)</td><td>0.454 (df=2758)</td><td>0.454 (df=2758)</td><td>0.449 (df=2758)</td><td>0.449 (df=2758)</td></tr><tr><td style=\"text-align: left\">F Statistic</td><td>2.767<sup>*</sup> (df=1; 2758)</td><td>50.343<sup>***</sup> (df=1; 2758)</td><td>70.071<sup>***</sup> (df=1; 2758)</td><td>49.955<sup>***</sup> (df=1; 2758)</td><td>26.651<sup>***</sup> (df=1; 2758)</td><td>4.664<sup>**</sup> (df=1; 2758)</td><td>0.103<sup></sup> (df=1; 2758)</td><td>67.975<sup>***</sup> (df=1; 2758)</td><td>66.692<sup>***</sup> (df=1; 2758)</td></tr><tr><td colspan=\"10\" style=\"border-bottom: 1px solid black\"></td></tr><tr><td style=\"text-align: left\">Note:</td>\n",
              " <td colspan=\"9\" style=\"text-align: right\">\n",
              "  <sup>*</sup>p&lt;0.1;\n",
              "  <sup>**</sup>p&lt;0.05;\n",
              "  <sup>***</sup>p&lt;0.01\n",
              " </td></tr></table>"
            ],
            "text/plain": [
              "<IPython.core.display.HTML object>"
            ]
          },
          "metadata": {},
          "execution_count": 155
        }
      ]
    },
    {
      "cell_type": "code",
      "metadata": {
        "colab": {
          "base_uri": "https://localhost:8080/"
        },
        "id": "vXh5JMbopJCQ",
        "outputId": "50b47804-1c33-45f4-9946-8bf1eb16583b"
      },
      "source": [
        "print(results9.summary())"
      ],
      "execution_count": null,
      "outputs": [
        {
          "output_type": "stream",
          "name": "stdout",
          "text": [
            "                            OLS Regression Results                            \n",
            "==============================================================================\n",
            "Dep. Variable:           ROI30_future   R-squared:                       0.025\n",
            "Model:                            OLS   Adj. R-squared:                  0.024\n",
            "Method:                 Least Squares   F-statistic:                     66.69\n",
            "Date:                Fri, 08 Oct 2021   Prob (F-statistic):           4.78e-16\n",
            "Time:                        11:25:13   Log-Likelihood:                -1704.4\n",
            "No. Observations:                2760   AIC:                             3413.\n",
            "Df Residuals:                    2758   BIC:                             3425.\n",
            "Df Model:                           1                                         \n",
            "Covariance Type:                  HAC                                         \n",
            "==============================================================================\n",
            "                 coef    std err          z      P>|z|      [0.025      0.975]\n",
            "------------------------------------------------------------------------------\n",
            "Intercept      0.1281      0.012     10.903      0.000       0.105       0.151\n",
            "PC_ratios      0.2380      0.029      8.166      0.000       0.181       0.295\n",
            "==============================================================================\n",
            "Omnibus:                     2547.202   Durbin-Watson:                   0.048\n",
            "Prob(Omnibus):                  0.000   Jarque-Bera (JB):           106031.397\n",
            "Skew:                           4.373   Prob(JB):                         0.00\n",
            "Kurtosis:                      32.078   Cond. No.                         3.34\n",
            "==============================================================================\n",
            "\n",
            "Warnings:\n",
            "[1] Standard Errors are heteroscedasticity and autocorrelation robust (HAC) using 1 lags and without small sample correction\n"
          ]
        }
      ]
    },
    {
      "cell_type": "code",
      "metadata": {
        "id": "x-K_rTfbyZMC"
      },
      "source": [
        "results1 = smf.ols('ROI90_future ~ 1+ Past100', data=df_Regression).fit(cov_type='HAC',cov_kwds={'maxlags':1})\n",
        "results2 = smf.ols('ROI90_future ~ 1+ AMR', data=df_Regression).fit(cov_type='HAC',cov_kwds={'maxlags':1})\n",
        "results3 = smf.ols('ROI90_future ~ 1+ TMR', data=df_Regression).fit(cov_type='HAC',cov_kwds={'maxlags':1})\n",
        "results4 = smf.ols('ROI90_future ~ 1+ PMR', data=df_Regression).fit(cov_type='HAC',cov_kwds={'maxlags':1})\n",
        "results5 = smf.ols('ROI90_future ~ 1+ EPR', data=df_Regression).fit(cov_type='HAC',cov_kwds={'maxlags':1})\n",
        "results6 = smf.ols('ROI90_future ~ 1+ TVN', data=df_Regression).fit(cov_type='HAC',cov_kwds={'maxlags':1})\n",
        "results7 = smf.ols('ROI90_future ~ 1+ MPR', data=df_Regression).fit(cov_type='HAC',cov_kwds={'maxlags':1})\n",
        "results8 = smf.ols('ROI90_future ~ 1+ UPR', data=df_Regression).fit(cov_type='HAC',cov_kwds={'maxlags':1})\n",
        "results9 = smf.ols('ROI90_future ~ 1+ PC_ratios', data=df_Regression).fit(cov_type='HAC',cov_kwds={'maxlags':1})"
      ],
      "execution_count": null,
      "outputs": []
    },
    {
      "cell_type": "code",
      "metadata": {
        "colab": {
          "base_uri": "https://localhost:8080/",
          "height": 681
        },
        "id": "JACvx5I8yguL",
        "outputId": "d566aa22-b91e-4e04-ad77-25c2edf905ec"
      },
      "source": [
        "stargazer_weekly = Stargazer([results1,results2,results3,results4,results5,results6,results7,results8,results9])\n",
        "stargazer_weekly.title('Prediction on Future 1-week return')\n",
        "stargazer_weekly.significant_digits(3)\n",
        "stargazer_weekly.covariate_order(columns_Ratio)\n",
        "HTML(stargazer_weekly.render_html())"
      ],
      "execution_count": null,
      "outputs": [
        {
          "output_type": "execute_result",
          "data": {
            "text/html": [
              "Prediction on Future 1-week return<br><table style=\"text-align:center\"><tr><td colspan=\"10\" style=\"border-bottom: 1px solid black\"></td></tr><tr><td style=\"text-align:left\"></td><td colspan=\"9\"><em>Dependent variable:ROI90_future</em></td></tr><tr><td style=\"text-align:left\"></td><tr><td style=\"text-align:left\"></td><td>(1)</td><td>(2)</td><td>(3)</td><td>(4)</td><td>(5)</td><td>(6)</td><td>(7)</td><td>(8)</td><td>(9)</td></tr><tr><td colspan=\"10\" style=\"border-bottom: 1px solid black\"></td></tr><tr><td style=\"text-align:left\">Past100</td><td>0.361<sup>***</sup></td><td></td><td></td><td></td><td></td><td></td><td></td><td></td><td></td></tr><tr><td style=\"text-align:left\"></td><td>(0.115)</td><td></td><td></td><td></td><td></td><td></td><td></td><td></td><td></td></tr><tr><td style=\"text-align:left\">AMR</td><td></td><td>2.813<sup>***</sup></td><td></td><td></td><td></td><td></td><td></td><td></td><td></td></tr><tr><td style=\"text-align:left\"></td><td></td><td>(0.470)</td><td></td><td></td><td></td><td></td><td></td><td></td><td></td></tr><tr><td style=\"text-align:left\">TMR</td><td></td><td></td><td>3.587<sup>***</sup></td><td></td><td></td><td></td><td></td><td></td><td></td></tr><tr><td style=\"text-align:left\"></td><td></td><td></td><td>(0.433)</td><td></td><td></td><td></td><td></td><td></td><td></td></tr><tr><td style=\"text-align:left\">PMR</td><td></td><td></td><td></td><td>3.767<sup>***</sup></td><td></td><td></td><td></td><td></td><td></td></tr><tr><td style=\"text-align:left\"></td><td></td><td></td><td></td><td>(0.581)</td><td></td><td></td><td></td><td></td><td></td></tr><tr><td style=\"text-align:left\">EPR</td><td></td><td></td><td></td><td></td><td>1.174<sup>***</sup></td><td></td><td></td><td></td><td></td></tr><tr><td style=\"text-align:left\"></td><td></td><td></td><td></td><td></td><td>(0.177)</td><td></td><td></td><td></td><td></td></tr><tr><td style=\"text-align:left\">TVN</td><td></td><td></td><td></td><td></td><td></td><td>1.586<sup>***</sup></td><td></td><td></td><td></td></tr><tr><td style=\"text-align:left\"></td><td></td><td></td><td></td><td></td><td></td><td>(0.181)</td><td></td><td></td><td></td></tr><tr><td style=\"text-align:left\">MPR</td><td></td><td></td><td></td><td></td><td></td><td></td><td>-0.202<sup></sup></td><td></td><td></td></tr><tr><td style=\"text-align:left\"></td><td></td><td></td><td></td><td></td><td></td><td></td><td>(0.162)</td><td></td><td></td></tr><tr><td style=\"text-align:left\">UPR</td><td></td><td></td><td></td><td></td><td></td><td></td><td></td><td>3.906<sup>***</sup></td><td></td></tr><tr><td style=\"text-align:left\"></td><td></td><td></td><td></td><td></td><td></td><td></td><td></td><td>(0.453)</td><td></td></tr><tr><td style=\"text-align:left\">PC_ratios</td><td></td><td></td><td></td><td></td><td></td><td></td><td></td><td></td><td>1.334<sup>***</sup></td></tr><tr><td style=\"text-align:left\"></td><td></td><td></td><td></td><td></td><td></td><td></td><td></td><td></td><td>(0.186)</td></tr><td colspan=\"10\" style=\"border-bottom: 1px solid black\"></td></tr><tr><td style=\"text-align: left\">Observations</td><td>2,760</td><td>2,760</td><td>2,760</td><td>2,760</td><td>2,760</td><td>2,760</td><td>2,760</td><td>2,760</td><td>2,760</td></tr><tr><td style=\"text-align: left\">R<sup>2</sup></td><td>0.002</td><td>0.076</td><td>0.075</td><td>0.093</td><td>0.026</td><td>0.038</td><td>0.000</td><td>0.211</td><td>0.086</td></tr><tr><td style=\"text-align: left\">Adjusted R<sup>2</sup></td><td>0.001</td><td>0.076</td><td>0.074</td><td>0.093</td><td>0.025</td><td>0.037</td><td>0.000</td><td>0.211</td><td>0.086</td></tr><tr><td style=\"text-align: left\">Residual Std. Error</td><td>1.360 (df=2758)</td><td>1.308 (df=2758)</td><td>1.309 (df=2758)</td><td>1.296 (df=2758)</td><td>1.343 (df=2758)</td><td>1.335 (df=2758)</td><td>1.361 (df=2758)</td><td>1.209 (df=2758)</td><td>1.301 (df=2758)</td></tr><tr><td style=\"text-align: left\">F Statistic</td><td>9.883<sup>***</sup> (df=1; 2758)</td><td>35.788<sup>***</sup> (df=1; 2758)</td><td>68.705<sup>***</sup> (df=1; 2758)</td><td>41.969<sup>***</sup> (df=1; 2758)</td><td>43.981<sup>***</sup> (df=1; 2758)</td><td>77.141<sup>***</sup> (df=1; 2758)</td><td>1.571<sup></sup> (df=1; 2758)</td><td>74.373<sup>***</sup> (df=1; 2758)</td><td>51.233<sup>***</sup> (df=1; 2758)</td></tr><tr><td colspan=\"10\" style=\"border-bottom: 1px solid black\"></td></tr><tr><td style=\"text-align: left\">Note:</td>\n",
              " <td colspan=\"9\" style=\"text-align: right\">\n",
              "  <sup>*</sup>p&lt;0.1;\n",
              "  <sup>**</sup>p&lt;0.05;\n",
              "  <sup>***</sup>p&lt;0.01\n",
              " </td></tr></table>"
            ],
            "text/plain": [
              "<IPython.core.display.HTML object>"
            ]
          },
          "metadata": {},
          "execution_count": 166
        }
      ]
    },
    {
      "cell_type": "code",
      "metadata": {
        "colab": {
          "base_uri": "https://localhost:8080/"
        },
        "id": "syAkoOnTjCyE",
        "outputId": "c85cbfac-35d7-4cca-f2d0-cc50fa1a0d6f"
      },
      "source": [
        "print(results9.summary())"
      ],
      "execution_count": null,
      "outputs": [
        {
          "output_type": "stream",
          "name": "stdout",
          "text": [
            "                            OLS Regression Results                            \n",
            "==============================================================================\n",
            "Dep. Variable:           ROI90_future   R-squared:                       0.086\n",
            "Model:                            OLS   Adj. R-squared:                  0.086\n",
            "Method:                 Least Squares   F-statistic:                     51.23\n",
            "Date:                Fri, 08 Oct 2021   Prob (F-statistic):           1.05e-12\n",
            "Time:                        11:30:38   Log-Likelihood:                -4641.5\n",
            "No. Observations:                2760   AIC:                             9287.\n",
            "Df Residuals:                    2758   BIC:                             9299.\n",
            "Df Model:                           1                                         \n",
            "Covariance Type:                  HAC                                         \n",
            "==============================================================================\n",
            "                 coef    std err          z      P>|z|      [0.025      0.975]\n",
            "------------------------------------------------------------------------------\n",
            "Intercept      0.4874      0.031     15.615      0.000       0.426       0.549\n",
            "PC_ratios      1.3343      0.186      7.158      0.000       0.969       1.700\n",
            "==============================================================================\n",
            "Omnibus:                     2029.046   Durbin-Watson:                   0.032\n",
            "Prob(Omnibus):                  0.000   Jarque-Bera (JB):            36969.447\n",
            "Skew:                           3.357   Prob(JB):                         0.00\n",
            "Kurtosis:                      19.625   Cond. No.                         3.34\n",
            "==============================================================================\n",
            "\n",
            "Warnings:\n",
            "[1] Standard Errors are heteroscedasticity and autocorrelation robust (HAC) using 1 lags and without small sample correction\n"
          ]
        }
      ]
    },
    {
      "cell_type": "code",
      "metadata": {
        "id": "daJtESP-yigh"
      },
      "source": [
        "results1 = smf.ols('ROI180_future ~ 1+ Past100', data=df_Regression).fit(cov_type='HAC',cov_kwds={'maxlags':1})\n",
        "results2 = smf.ols('ROI180_future ~ 1+ AMR', data=df_Regression).fit(cov_type='HAC',cov_kwds={'maxlags':1})\n",
        "results3 = smf.ols('ROI180_future ~ 1+ TMR', data=df_Regression).fit(cov_type='HAC',cov_kwds={'maxlags':1})\n",
        "results4 = smf.ols('ROI180_future ~ 1+ PMR', data=df_Regression).fit(cov_type='HAC',cov_kwds={'maxlags':1})\n",
        "results5 = smf.ols('ROI180_future ~ 1+ EPR', data=df_Regression).fit(cov_type='HAC',cov_kwds={'maxlags':1})\n",
        "results6 = smf.ols('ROI180_future ~ 1+ TVN', data=df_Regression).fit(cov_type='HAC',cov_kwds={'maxlags':1})\n",
        "results7 = smf.ols('ROI180_future ~ 1+ MPR', data=df_Regression).fit(cov_type='HAC',cov_kwds={'maxlags':1})\n",
        "results8 = smf.ols('ROI180_future ~ 1+ UPR', data=df_Regression).fit(cov_type='HAC',cov_kwds={'maxlags':1})\n",
        "results9 = smf.ols('ROI180_future ~ 1+ PC_ratios', data=df_Regression).fit(cov_type='HAC',cov_kwds={'maxlags':1})"
      ],
      "execution_count": null,
      "outputs": []
    },
    {
      "cell_type": "code",
      "metadata": {
        "colab": {
          "base_uri": "https://localhost:8080/",
          "height": 681
        },
        "id": "03fvB-0gyryY",
        "outputId": "315f6139-8e75-40fd-c9c4-a8469005fca8"
      },
      "source": [
        "stargazer_weekly = Stargazer([results1,results2,results3,results4,results5,results6,results7,results8,results9])\n",
        "stargazer_weekly.title('Prediction on Future 1-week return')\n",
        "stargazer_weekly.significant_digits(3)\n",
        "stargazer_weekly.covariate_order(columns_Ratio)\n",
        "HTML(stargazer_weekly.render_html())"
      ],
      "execution_count": null,
      "outputs": [
        {
          "output_type": "execute_result",
          "data": {
            "text/html": [
              "Prediction on Future 1-week return<br><table style=\"text-align:center\"><tr><td colspan=\"10\" style=\"border-bottom: 1px solid black\"></td></tr><tr><td style=\"text-align:left\"></td><td colspan=\"9\"><em>Dependent variable:ROI180_future</em></td></tr><tr><td style=\"text-align:left\"></td><tr><td style=\"text-align:left\"></td><td>(1)</td><td>(2)</td><td>(3)</td><td>(4)</td><td>(5)</td><td>(6)</td><td>(7)</td><td>(8)</td><td>(9)</td></tr><tr><td colspan=\"10\" style=\"border-bottom: 1px solid black\"></td></tr><tr><td style=\"text-align:left\">Past100</td><td>0.663<sup>***</sup></td><td></td><td></td><td></td><td></td><td></td><td></td><td></td><td></td></tr><tr><td style=\"text-align:left\"></td><td>(0.235)</td><td></td><td></td><td></td><td></td><td></td><td></td><td></td><td></td></tr><tr><td style=\"text-align:left\">AMR</td><td></td><td>7.521<sup>***</sup></td><td></td><td></td><td></td><td></td><td></td><td></td><td></td></tr><tr><td style=\"text-align:left\"></td><td></td><td>(0.803)</td><td></td><td></td><td></td><td></td><td></td><td></td><td></td></tr><tr><td style=\"text-align:left\">TMR</td><td></td><td></td><td>7.285<sup>***</sup></td><td></td><td></td><td></td><td></td><td></td><td></td></tr><tr><td style=\"text-align:left\"></td><td></td><td></td><td>(0.597)</td><td></td><td></td><td></td><td></td><td></td><td></td></tr><tr><td style=\"text-align:left\">PMR</td><td></td><td></td><td></td><td>9.286<sup>***</sup></td><td></td><td></td><td></td><td></td><td></td></tr><tr><td style=\"text-align:left\"></td><td></td><td></td><td></td><td>(0.994)</td><td></td><td></td><td></td><td></td><td></td></tr><tr><td style=\"text-align:left\">EPR</td><td></td><td></td><td></td><td></td><td>4.755<sup>***</sup></td><td></td><td></td><td></td><td></td></tr><tr><td style=\"text-align:left\"></td><td></td><td></td><td></td><td></td><td>(0.485)</td><td></td><td></td><td></td><td></td></tr><tr><td style=\"text-align:left\">TVN</td><td></td><td></td><td></td><td></td><td></td><td>6.925<sup>***</sup></td><td></td><td></td><td></td></tr><tr><td style=\"text-align:left\"></td><td></td><td></td><td></td><td></td><td></td><td>(0.473)</td><td></td><td></td><td></td></tr><tr><td style=\"text-align:left\">MPR</td><td></td><td></td><td></td><td></td><td></td><td></td><td>0.184<sup></sup></td><td></td><td></td></tr><tr><td style=\"text-align:left\"></td><td></td><td></td><td></td><td></td><td></td><td></td><td>(0.282)</td><td></td><td></td></tr><tr><td style=\"text-align:left\">UPR</td><td></td><td></td><td></td><td></td><td></td><td></td><td></td><td>8.159<sup>***</sup></td><td></td></tr><tr><td style=\"text-align:left\"></td><td></td><td></td><td></td><td></td><td></td><td></td><td></td><td>(0.544)</td><td></td></tr><tr><td style=\"text-align:left\">PC_ratios</td><td></td><td></td><td></td><td></td><td></td><td></td><td></td><td></td><td>3.873<sup>***</sup></td></tr><tr><td style=\"text-align:left\"></td><td></td><td></td><td></td><td></td><td></td><td></td><td></td><td></td><td>(0.323)</td></tr><td colspan=\"10\" style=\"border-bottom: 1px solid black\"></td></tr><tr><td style=\"text-align: left\">Observations</td><td>2,760</td><td>2,760</td><td>2,760</td><td>2,760</td><td>2,760</td><td>2,760</td><td>2,760</td><td>2,760</td><td>2,760</td></tr><tr><td style=\"text-align: left\">R<sup>2</sup></td><td>0.002</td><td>0.197</td><td>0.112</td><td>0.206</td><td>0.154</td><td>0.260</td><td>0.000</td><td>0.335</td><td>0.264</td></tr><tr><td style=\"text-align: left\">Adjusted R<sup>2</sup></td><td>0.002</td><td>0.197</td><td>0.112</td><td>0.206</td><td>0.154</td><td>0.260</td><td>-0.000</td><td>0.334</td><td>0.264</td></tr><tr><td style=\"text-align: left\">Residual Std. Error</td><td>2.255 (df=2758)</td><td>2.023 (df=2758)</td><td>2.127 (df=2758)</td><td>2.012 (df=2758)</td><td>2.076 (df=2758)</td><td>1.942 (df=2758)</td><td>2.258 (df=2758)</td><td>1.842 (df=2758)</td><td>1.937 (df=2758)</td></tr><tr><td style=\"text-align: left\">F Statistic</td><td>7.965<sup>***</sup> (df=1; 2758)</td><td>87.791<sup>***</sup> (df=1; 2758)</td><td>148.964<sup>***</sup> (df=1; 2758)</td><td>87.283<sup>***</sup> (df=1; 2758)</td><td>95.930<sup>***</sup> (df=1; 2758)</td><td>214.745<sup>***</sup> (df=1; 2758)</td><td>0.425<sup></sup> (df=1; 2758)</td><td>225.172<sup>***</sup> (df=1; 2758)</td><td>143.751<sup>***</sup> (df=1; 2758)</td></tr><tr><td colspan=\"10\" style=\"border-bottom: 1px solid black\"></td></tr><tr><td style=\"text-align: left\">Note:</td>\n",
              " <td colspan=\"9\" style=\"text-align: right\">\n",
              "  <sup>*</sup>p&lt;0.1;\n",
              "  <sup>**</sup>p&lt;0.05;\n",
              "  <sup>***</sup>p&lt;0.01\n",
              " </td></tr></table>"
            ],
            "text/plain": [
              "<IPython.core.display.HTML object>"
            ]
          },
          "metadata": {},
          "execution_count": 177
        }
      ]
    },
    {
      "cell_type": "code",
      "metadata": {
        "colab": {
          "base_uri": "https://localhost:8080/"
        },
        "id": "KpT6GWiLrYmH",
        "outputId": "f9d8e7b6-36f2-4908-ceb6-ee0524f4a36f"
      },
      "source": [
        "print(results9.summary())"
      ],
      "execution_count": null,
      "outputs": [
        {
          "output_type": "stream",
          "name": "stdout",
          "text": [
            "                            OLS Regression Results                            \n",
            "==============================================================================\n",
            "Dep. Variable:          ROI180_future   R-squared:                       0.264\n",
            "Model:                            OLS   Adj. R-squared:                  0.264\n",
            "Method:                 Least Squares   F-statistic:                     143.8\n",
            "Date:                Fri, 08 Oct 2021   Prob (F-statistic):           2.53e-32\n",
            "Time:                        11:35:24   Log-Likelihood:                -5740.2\n",
            "No. Observations:                2760   AIC:                         1.148e+04\n",
            "Df Residuals:                    2758   BIC:                         1.150e+04\n",
            "Df Model:                           1                                         \n",
            "Covariance Type:                  HAC                                         \n",
            "==============================================================================\n",
            "                 coef    std err          z      P>|z|      [0.025      0.975]\n",
            "------------------------------------------------------------------------------\n",
            "Intercept      1.0846      0.046     23.536      0.000       0.994       1.175\n",
            "PC_ratios      3.8730      0.323     11.990      0.000       3.240       4.506\n",
            "==============================================================================\n",
            "Omnibus:                      818.247   Durbin-Watson:                   0.026\n",
            "Prob(Omnibus):                  0.000   Jarque-Bera (JB):             2729.066\n",
            "Skew:                           1.475   Prob(JB):                         0.00\n",
            "Kurtosis:                       6.877   Cond. No.                         3.34\n",
            "==============================================================================\n",
            "\n",
            "Warnings:\n",
            "[1] Standard Errors are heteroscedasticity and autocorrelation robust (HAC) using 1 lags and without small sample correction\n"
          ]
        }
      ]
    },
    {
      "cell_type": "code",
      "metadata": {
        "id": "wDLN81fyzCxH"
      },
      "source": [
        "results1 = smf.ols('ROI360_future ~ 1+ Past100', data=df_Regression).fit(cov_type='HAC',cov_kwds={'maxlags':1})\n",
        "results2 = smf.ols('ROI360_future ~ 1+ AMR', data=df_Regression).fit(cov_type='HAC',cov_kwds={'maxlags':1})\n",
        "results3 = smf.ols('ROI360_future ~ 1+ TMR', data=df_Regression).fit(cov_type='HAC',cov_kwds={'maxlags':1})\n",
        "results4 = smf.ols('ROI360_future ~ 1+ PMR', data=df_Regression).fit(cov_type='HAC',cov_kwds={'maxlags':1})\n",
        "results5 = smf.ols('ROI360_future ~ 1+ EPR', data=df_Regression).fit(cov_type='HAC',cov_kwds={'maxlags':1})\n",
        "results6 = smf.ols('ROI360_future ~ 1+ TVN', data=df_Regression).fit(cov_type='HAC',cov_kwds={'maxlags':1})\n",
        "results7 = smf.ols('ROI360_future ~ 1+ MPR', data=df_Regression).fit(cov_type='HAC',cov_kwds={'maxlags':1})\n",
        "results8 = smf.ols('ROI360_future ~ 1+ UPR', data=df_Regression).fit(cov_type='HAC',cov_kwds={'maxlags':1})\n",
        "results9 = smf.ols('ROI360_future ~ 1+ PC_ratios', data=df_Regression).fit(cov_type='HAC',cov_kwds={'maxlags':1})"
      ],
      "execution_count": null,
      "outputs": []
    },
    {
      "cell_type": "code",
      "metadata": {
        "colab": {
          "base_uri": "https://localhost:8080/",
          "height": 681
        },
        "id": "dWOUPNcjytGR",
        "outputId": "6a3807bd-6dfe-4fd9-b258-5ba17535cc08"
      },
      "source": [
        "stargazer_weekly = Stargazer([results1,results2,results3,results4,results5,results6,results7,results8,results9])\n",
        "stargazer_weekly.title('Prediction on Future 1-week return')\n",
        "stargazer_weekly.significant_digits(3)\n",
        "stargazer_weekly.covariate_order(columns_Ratio)\n",
        "HTML(stargazer_weekly.render_html())"
      ],
      "execution_count": null,
      "outputs": [
        {
          "output_type": "execute_result",
          "data": {
            "text/html": [
              "Prediction on Future 1-week return<br><table style=\"text-align:center\"><tr><td colspan=\"10\" style=\"border-bottom: 1px solid black\"></td></tr><tr><td style=\"text-align:left\"></td><td colspan=\"9\"><em>Dependent variable:ROI360_future</em></td></tr><tr><td style=\"text-align:left\"></td><tr><td style=\"text-align:left\"></td><td>(1)</td><td>(2)</td><td>(3)</td><td>(4)</td><td>(5)</td><td>(6)</td><td>(7)</td><td>(8)</td><td>(9)</td></tr><tr><td colspan=\"10\" style=\"border-bottom: 1px solid black\"></td></tr><tr><td style=\"text-align:left\">Past100</td><td>-2.217<sup>**</sup></td><td></td><td></td><td></td><td></td><td></td><td></td><td></td><td></td></tr><tr><td style=\"text-align:left\"></td><td>(0.981)</td><td></td><td></td><td></td><td></td><td></td><td></td><td></td><td></td></tr><tr><td style=\"text-align:left\">AMR</td><td></td><td>44.139<sup>***</sup></td><td></td><td></td><td></td><td></td><td></td><td></td><td></td></tr><tr><td style=\"text-align:left\"></td><td></td><td>(4.121)</td><td></td><td></td><td></td><td></td><td></td><td></td><td></td></tr><tr><td style=\"text-align:left\">TMR</td><td></td><td></td><td>33.053<sup>***</sup></td><td></td><td></td><td></td><td></td><td></td><td></td></tr><tr><td style=\"text-align:left\"></td><td></td><td></td><td>(3.249)</td><td></td><td></td><td></td><td></td><td></td><td></td></tr><tr><td style=\"text-align:left\">PMR</td><td></td><td></td><td></td><td>56.428<sup>***</sup></td><td></td><td></td><td></td><td></td><td></td></tr><tr><td style=\"text-align:left\"></td><td></td><td></td><td></td><td>(5.280)</td><td></td><td></td><td></td><td></td><td></td></tr><tr><td style=\"text-align:left\">EPR</td><td></td><td></td><td></td><td></td><td>15.392<sup>***</sup></td><td></td><td></td><td></td><td></td></tr><tr><td style=\"text-align:left\"></td><td></td><td></td><td></td><td></td><td>(1.278)</td><td></td><td></td><td></td><td></td></tr><tr><td style=\"text-align:left\">TVN</td><td></td><td></td><td></td><td></td><td></td><td>19.048<sup>***</sup></td><td></td><td></td><td></td></tr><tr><td style=\"text-align:left\"></td><td></td><td></td><td></td><td></td><td></td><td>(1.771)</td><td></td><td></td><td></td></tr><tr><td style=\"text-align:left\">MPR</td><td></td><td></td><td></td><td></td><td></td><td></td><td>5.906<sup>***</sup></td><td></td><td></td></tr><tr><td style=\"text-align:left\"></td><td></td><td></td><td></td><td></td><td></td><td></td><td>(1.056)</td><td></td><td></td></tr><tr><td style=\"text-align:left\">UPR</td><td></td><td></td><td></td><td></td><td></td><td></td><td></td><td>49.486<sup>***</sup></td><td></td></tr><tr><td style=\"text-align:left\"></td><td></td><td></td><td></td><td></td><td></td><td></td><td></td><td>(2.765)</td><td></td></tr><tr><td style=\"text-align:left\">PC_ratios</td><td></td><td></td><td></td><td></td><td></td><td></td><td></td><td></td><td>18.349<sup>***</sup></td></tr><tr><td style=\"text-align:left\"></td><td></td><td></td><td></td><td></td><td></td><td></td><td></td><td></td><td>(1.532)</td></tr><td colspan=\"10\" style=\"border-bottom: 1px solid black\"></td></tr><tr><td style=\"text-align: left\">Observations</td><td>2,760</td><td>2,760</td><td>2,760</td><td>2,760</td><td>2,760</td><td>2,760</td><td>2,760</td><td>2,760</td><td>2,760</td></tr><tr><td style=\"text-align: left\">R<sup>2</sup></td><td>0.001</td><td>0.347</td><td>0.118</td><td>0.388</td><td>0.082</td><td>0.101</td><td>0.007</td><td>0.628</td><td>0.302</td></tr><tr><td style=\"text-align: left\">Adjusted R<sup>2</sup></td><td>0.001</td><td>0.346</td><td>0.117</td><td>0.388</td><td>0.082</td><td>0.100</td><td>0.007</td><td>0.628</td><td>0.302</td></tr><tr><td style=\"text-align: left\">Residual Std. Error</td><td>9.989 (df=2758)</td><td>8.079 (df=2758)</td><td>9.388 (df=2758)</td><td>7.820 (df=2758)</td><td>9.574 (df=2758)</td><td>9.479 (df=2758)</td><td>9.959 (df=2758)</td><td>6.096 (df=2758)</td><td>8.349 (df=2758)</td></tr><tr><td style=\"text-align: left\">F Statistic</td><td>5.108<sup>**</sup> (df=1; 2758)</td><td>114.730<sup>***</sup> (df=1; 2758)</td><td>103.496<sup>***</sup> (df=1; 2758)</td><td>114.235<sup>***</sup> (df=1; 2758)</td><td>145.094<sup>***</sup> (df=1; 2758)</td><td>115.653<sup>***</sup> (df=1; 2758)</td><td>31.304<sup>***</sup> (df=1; 2758)</td><td>320.316<sup>***</sup> (df=1; 2758)</td><td>143.374<sup>***</sup> (df=1; 2758)</td></tr><tr><td colspan=\"10\" style=\"border-bottom: 1px solid black\"></td></tr><tr><td style=\"text-align: left\">Note:</td>\n",
              " <td colspan=\"9\" style=\"text-align: right\">\n",
              "  <sup>*</sup>p&lt;0.1;\n",
              "  <sup>**</sup>p&lt;0.05;\n",
              "  <sup>***</sup>p&lt;0.01\n",
              " </td></tr></table>"
            ],
            "text/plain": [
              "<IPython.core.display.HTML object>"
            ]
          },
          "metadata": {},
          "execution_count": 188
        }
      ]
    },
    {
      "cell_type": "code",
      "metadata": {
        "colab": {
          "base_uri": "https://localhost:8080/"
        },
        "id": "xqv_mfRCjbsN",
        "outputId": "6a3fb791-f9c1-4f65-e771-d2f139946c57"
      },
      "source": [
        "print(results1.summary())"
      ],
      "execution_count": null,
      "outputs": [
        {
          "output_type": "stream",
          "name": "stdout",
          "text": [
            "                            OLS Regression Results                            \n",
            "==============================================================================\n",
            "Dep. Variable:          ROI360_future   R-squared:                       0.001\n",
            "Model:                            OLS   Adj. R-squared:                  0.001\n",
            "Method:                 Least Squares   F-statistic:                     5.108\n",
            "Date:                Fri, 08 Oct 2021   Prob (F-statistic):             0.0239\n",
            "Time:                        11:39:33   Log-Likelihood:                -10267.\n",
            "No. Observations:                2760   AIC:                         2.054e+04\n",
            "Df Residuals:                    2758   BIC:                         2.055e+04\n",
            "Df Model:                           1                                         \n",
            "Covariance Type:                  HAC                                         \n",
            "==============================================================================\n",
            "                 coef    std err          z      P>|z|      [0.025      0.975]\n",
            "------------------------------------------------------------------------------\n",
            "Intercept      6.1113      0.990      6.173      0.000       4.171       8.052\n",
            "Past100       -2.2167      0.981     -2.260      0.024      -4.139      -0.294\n",
            "==============================================================================\n",
            "Omnibus:                     2543.037   Durbin-Watson:                   0.010\n",
            "Prob(Omnibus):                  0.000   Jarque-Bera (JB):            72941.564\n",
            "Skew:                           4.541   Prob(JB):                         0.00\n",
            "Kurtosis:                      26.490   Cond. No.                         11.4\n",
            "==============================================================================\n",
            "\n",
            "Warnings:\n",
            "[1] Standard Errors are heteroscedasticity and autocorrelation robust (HAC) using 1 lags and without small sample correction\n"
          ]
        }
      ]
    },
    {
      "cell_type": "code",
      "metadata": {
        "id": "8Fbcx6MZscBH"
      },
      "source": [
        ""
      ],
      "execution_count": null,
      "outputs": []
    }
  ]
}