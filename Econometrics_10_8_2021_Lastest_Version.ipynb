{
  "nbformat": 4,
  "nbformat_minor": 0,
  "metadata": {
    "colab": {
      "name": "Econometrics_10_8_2021 Lastest Version.ipynb",
      "provenance": [],
      "collapsed_sections": [
        "xuOtNV6fallr",
        "Q2fSREFrfMg1",
        "wiO58pjdk9A3"
      ],
      "machine_shape": "hm",
      "authorship_tag": "ABX9TyPep7bcEZxps/uapRUUQlHo",
      "include_colab_link": true
    },
    "kernelspec": {
      "name": "python3",
      "display_name": "Python 3"
    },
    "language_info": {
      "name": "python"
    }
  },
  "cells": [
    {
      "cell_type": "markdown",
      "metadata": {
        "id": "view-in-github",
        "colab_type": "text"
      },
      "source": [
        "<a href=\"https://colab.research.google.com/github/sunshineluyao/CV_ML/blob/master/Econometrics_10_8_2021_Lastest_Version.ipynb\" target=\"_parent\"><img src=\"https://colab.research.google.com/assets/colab-badge.svg\" alt=\"Open In Colab\"/></a>"
      ]
    },
    {
      "cell_type": "markdown",
      "metadata": {
        "id": "a1FcpD04FeT_"
      },
      "source": [
        "# data source: \n",
        "\n",
        "https://github.com/sunshineluyao/CVML2021\n",
        "\n",
        "# Code Source: For previous updates:\n",
        "\n",
        "https://github.com/sunshineluyao/CV_ML/tree/master/Data2020"
      ]
    },
    {
      "cell_type": "code",
      "metadata": {
        "id": "5I7kRf91D3j5"
      },
      "source": [
        "import pandas as pd \n",
        "import numpy as np\n",
        "###show all columns\n",
        "pd.set_option('display.max_columns', None)\n",
        "pd.set_option('display.max_rows', None)"
      ],
      "execution_count": 2,
      "outputs": []
    },
    {
      "cell_type": "code",
      "metadata": {
        "colab": {
          "base_uri": "https://localhost:8080/"
        },
        "id": "4qgRXfieWjQ5",
        "outputId": "d71e7af1-1d02-4c0f-d724-cebf02c475b3"
      },
      "source": [
        "from google.colab import drive\n",
        "drive.mount('/content/drive')\n",
        "print('Authenticated')"
      ],
      "execution_count": null,
      "outputs": [
        {
          "output_type": "stream",
          "name": "stdout",
          "text": [
            "Mounted at /content/drive\n",
            "Authenticated\n"
          ]
        }
      ]
    },
    {
      "cell_type": "code",
      "metadata": {
        "colab": {
          "base_uri": "https://localhost:8080/",
          "height": 394
        },
        "id": "82AjWbhAG7kk",
        "outputId": "ccc2d899-5a5c-4822-8c6c-96e4643cb27a"
      },
      "source": [
        "df=pd.read_csv('https://raw.githubusercontent.com/sunshineluyao/CVML2021/main/BTC_2020_12_31.csv',index_col='Unnamed: 0')\n",
        "df.head()"
      ],
      "execution_count": null,
      "outputs": [
        {
          "output_type": "execute_result",
          "data": {
            "text/html": [
              "<div>\n",
              "<style scoped>\n",
              "    .dataframe tbody tr th:only-of-type {\n",
              "        vertical-align: middle;\n",
              "    }\n",
              "\n",
              "    .dataframe tbody tr th {\n",
              "        vertical-align: top;\n",
              "    }\n",
              "\n",
              "    .dataframe thead th {\n",
              "        text-align: right;\n",
              "    }\n",
              "</style>\n",
              "<table border=\"1\" class=\"dataframe\">\n",
              "  <thead>\n",
              "    <tr style=\"text-align: right;\">\n",
              "      <th></th>\n",
              "      <th>AdrActCnt</th>\n",
              "      <th>BlkCnt</th>\n",
              "      <th>BlkSizeByte</th>\n",
              "      <th>BlkSizeMeanByte</th>\n",
              "      <th>CapMVRVCur</th>\n",
              "      <th>CapMrktCurUSD</th>\n",
              "      <th>CapRealUSD</th>\n",
              "      <th>DiffMean</th>\n",
              "      <th>FeeMeanNtv</th>\n",
              "      <th>FeeMeanUSD</th>\n",
              "      <th>FeeMedNtv</th>\n",
              "      <th>FeeMedUSD</th>\n",
              "      <th>FeeTotNtv</th>\n",
              "      <th>FeeTotUSD</th>\n",
              "      <th>HashRate</th>\n",
              "      <th>IssContNtv</th>\n",
              "      <th>IssContPctAnn</th>\n",
              "      <th>IssContUSD</th>\n",
              "      <th>IssTotNtv</th>\n",
              "      <th>IssTotUSD</th>\n",
              "      <th>NVTAdj</th>\n",
              "      <th>NVTAdj90</th>\n",
              "      <th>PriceBTC</th>\n",
              "      <th>PriceUSD</th>\n",
              "      <th>ROI1yr</th>\n",
              "      <th>ROI30d</th>\n",
              "      <th>SplyCur</th>\n",
              "      <th>SplyExpFut10yrCMBI</th>\n",
              "      <th>SplyFF</th>\n",
              "      <th>TxCnt</th>\n",
              "      <th>TxTfrCnt</th>\n",
              "      <th>TxTfrValAdjNtv</th>\n",
              "      <th>TxTfrValAdjUSD</th>\n",
              "      <th>TxTfrValMeanNtv</th>\n",
              "      <th>TxTfrValMeanUSD</th>\n",
              "      <th>TxTfrValMedNtv</th>\n",
              "      <th>TxTfrValMedUSD</th>\n",
              "      <th>TxTfrValNtv</th>\n",
              "      <th>TxTfrValUSD</th>\n",
              "      <th>VtyDayRet180d</th>\n",
              "      <th>VtyDayRet30d</th>\n",
              "      <th>VtyDayRet60d</th>\n",
              "      <th>Volume</th>\n",
              "      <th>Annualized_DilutionRate</th>\n",
              "      <th>Total daily transaction volume</th>\n",
              "      <th>Velocity</th>\n",
              "      <th>The daily revenue of bitcoin miners</th>\n",
              "      <th>The accumulated revenue of bitcoin miners</th>\n",
              "      <th>P/E Ratio</th>\n",
              "      <th>Metcalfe</th>\n",
              "      <th>PM</th>\n",
              "      <th>&lt;1d</th>\n",
              "      <th>1d ~ 1m</th>\n",
              "      <th>1m ~ 1q</th>\n",
              "      <th>1q ~ 6m</th>\n",
              "      <th>6m ~ 1y</th>\n",
              "      <th>1y ~ 2y</th>\n",
              "      <th>2y ~ 3y</th>\n",
              "      <th>3y ~ 4y</th>\n",
              "      <th>4y ~ 5y</th>\n",
              "      <th>5y~10y</th>\n",
              "      <th>&gt;10y</th>\n",
              "      <th>One-year staking ratio</th>\n",
              "      <th>Two-year staking ratio</th>\n",
              "      <th>Three-year staking ratio</th>\n",
              "      <th>Four-year staking ratio</th>\n",
              "      <th>Five-year staking ratio</th>\n",
              "      <th>Ten-year staking ratio</th>\n",
              "      <th>Token Utility</th>\n",
              "      <th>PU Ratio</th>\n",
              "      <th>volatility30</th>\n",
              "      <th>volatility60</th>\n",
              "      <th>volatility90</th>\n",
              "      <th>volatility180</th>\n",
              "      <th>Token Utility_volatility</th>\n",
              "      <th>PU Ratio_volatility</th>\n",
              "    </tr>\n",
              "  </thead>\n",
              "  <tbody>\n",
              "    <tr>\n",
              "      <th>2009-01-03</th>\n",
              "      <td>0.0</td>\n",
              "      <td>0.0</td>\n",
              "      <td>0.0</td>\n",
              "      <td>NaN</td>\n",
              "      <td>NaN</td>\n",
              "      <td>NaN</td>\n",
              "      <td>0.0</td>\n",
              "      <td>NaN</td>\n",
              "      <td>NaN</td>\n",
              "      <td>NaN</td>\n",
              "      <td>NaN</td>\n",
              "      <td>NaN</td>\n",
              "      <td>0.0</td>\n",
              "      <td>NaN</td>\n",
              "      <td>NaN</td>\n",
              "      <td>NaN</td>\n",
              "      <td>NaN</td>\n",
              "      <td>NaN</td>\n",
              "      <td>NaN</td>\n",
              "      <td>NaN</td>\n",
              "      <td>NaN</td>\n",
              "      <td>NaN</td>\n",
              "      <td>1.0</td>\n",
              "      <td>NaN</td>\n",
              "      <td>NaN</td>\n",
              "      <td>NaN</td>\n",
              "      <td>0.0</td>\n",
              "      <td>NaN</td>\n",
              "      <td>0.0</td>\n",
              "      <td>0.0</td>\n",
              "      <td>0.0</td>\n",
              "      <td>0.0</td>\n",
              "      <td>NaN</td>\n",
              "      <td>NaN</td>\n",
              "      <td>NaN</td>\n",
              "      <td>NaN</td>\n",
              "      <td>NaN</td>\n",
              "      <td>0.0</td>\n",
              "      <td>NaN</td>\n",
              "      <td>NaN</td>\n",
              "      <td>NaN</td>\n",
              "      <td>NaN</td>\n",
              "      <td>NaN</td>\n",
              "      <td>NaN</td>\n",
              "      <td>NaN</td>\n",
              "      <td>NaN</td>\n",
              "      <td>NaN</td>\n",
              "      <td>NaN</td>\n",
              "      <td>NaN</td>\n",
              "      <td>0.0</td>\n",
              "      <td>NaN</td>\n",
              "      <td>1.0</td>\n",
              "      <td>0.0</td>\n",
              "      <td>0.0</td>\n",
              "      <td>0.0</td>\n",
              "      <td>0.0</td>\n",
              "      <td>0.0</td>\n",
              "      <td>0.0</td>\n",
              "      <td>0.0</td>\n",
              "      <td>0.0</td>\n",
              "      <td>0.0</td>\n",
              "      <td>0.0</td>\n",
              "      <td>0.0</td>\n",
              "      <td>0.0</td>\n",
              "      <td>0.0</td>\n",
              "      <td>0.0</td>\n",
              "      <td>0.0</td>\n",
              "      <td>0.0</td>\n",
              "      <td>NaN</td>\n",
              "      <td>NaN</td>\n",
              "      <td>NaN</td>\n",
              "      <td>NaN</td>\n",
              "      <td>NaN</td>\n",
              "      <td>NaN</td>\n",
              "      <td>NaN</td>\n",
              "      <td>NaN</td>\n",
              "    </tr>\n",
              "    <tr>\n",
              "      <th>2009-01-04</th>\n",
              "      <td>0.0</td>\n",
              "      <td>0.0</td>\n",
              "      <td>0.0</td>\n",
              "      <td>NaN</td>\n",
              "      <td>NaN</td>\n",
              "      <td>NaN</td>\n",
              "      <td>0.0</td>\n",
              "      <td>NaN</td>\n",
              "      <td>NaN</td>\n",
              "      <td>NaN</td>\n",
              "      <td>NaN</td>\n",
              "      <td>NaN</td>\n",
              "      <td>0.0</td>\n",
              "      <td>NaN</td>\n",
              "      <td>NaN</td>\n",
              "      <td>NaN</td>\n",
              "      <td>NaN</td>\n",
              "      <td>NaN</td>\n",
              "      <td>NaN</td>\n",
              "      <td>NaN</td>\n",
              "      <td>NaN</td>\n",
              "      <td>NaN</td>\n",
              "      <td>1.0</td>\n",
              "      <td>NaN</td>\n",
              "      <td>NaN</td>\n",
              "      <td>NaN</td>\n",
              "      <td>0.0</td>\n",
              "      <td>NaN</td>\n",
              "      <td>0.0</td>\n",
              "      <td>0.0</td>\n",
              "      <td>0.0</td>\n",
              "      <td>0.0</td>\n",
              "      <td>NaN</td>\n",
              "      <td>NaN</td>\n",
              "      <td>NaN</td>\n",
              "      <td>NaN</td>\n",
              "      <td>NaN</td>\n",
              "      <td>0.0</td>\n",
              "      <td>NaN</td>\n",
              "      <td>NaN</td>\n",
              "      <td>NaN</td>\n",
              "      <td>NaN</td>\n",
              "      <td>NaN</td>\n",
              "      <td>NaN</td>\n",
              "      <td>NaN</td>\n",
              "      <td>NaN</td>\n",
              "      <td>NaN</td>\n",
              "      <td>NaN</td>\n",
              "      <td>NaN</td>\n",
              "      <td>0.0</td>\n",
              "      <td>NaN</td>\n",
              "      <td>0.0</td>\n",
              "      <td>1.0</td>\n",
              "      <td>0.0</td>\n",
              "      <td>0.0</td>\n",
              "      <td>0.0</td>\n",
              "      <td>0.0</td>\n",
              "      <td>0.0</td>\n",
              "      <td>0.0</td>\n",
              "      <td>0.0</td>\n",
              "      <td>0.0</td>\n",
              "      <td>0.0</td>\n",
              "      <td>0.0</td>\n",
              "      <td>0.0</td>\n",
              "      <td>0.0</td>\n",
              "      <td>0.0</td>\n",
              "      <td>0.0</td>\n",
              "      <td>0.0</td>\n",
              "      <td>NaN</td>\n",
              "      <td>NaN</td>\n",
              "      <td>NaN</td>\n",
              "      <td>NaN</td>\n",
              "      <td>NaN</td>\n",
              "      <td>NaN</td>\n",
              "      <td>NaN</td>\n",
              "      <td>NaN</td>\n",
              "    </tr>\n",
              "    <tr>\n",
              "      <th>2009-01-05</th>\n",
              "      <td>0.0</td>\n",
              "      <td>0.0</td>\n",
              "      <td>0.0</td>\n",
              "      <td>NaN</td>\n",
              "      <td>NaN</td>\n",
              "      <td>NaN</td>\n",
              "      <td>0.0</td>\n",
              "      <td>NaN</td>\n",
              "      <td>NaN</td>\n",
              "      <td>NaN</td>\n",
              "      <td>NaN</td>\n",
              "      <td>NaN</td>\n",
              "      <td>0.0</td>\n",
              "      <td>NaN</td>\n",
              "      <td>NaN</td>\n",
              "      <td>NaN</td>\n",
              "      <td>NaN</td>\n",
              "      <td>NaN</td>\n",
              "      <td>NaN</td>\n",
              "      <td>NaN</td>\n",
              "      <td>NaN</td>\n",
              "      <td>NaN</td>\n",
              "      <td>1.0</td>\n",
              "      <td>NaN</td>\n",
              "      <td>NaN</td>\n",
              "      <td>NaN</td>\n",
              "      <td>0.0</td>\n",
              "      <td>NaN</td>\n",
              "      <td>0.0</td>\n",
              "      <td>0.0</td>\n",
              "      <td>0.0</td>\n",
              "      <td>0.0</td>\n",
              "      <td>NaN</td>\n",
              "      <td>NaN</td>\n",
              "      <td>NaN</td>\n",
              "      <td>NaN</td>\n",
              "      <td>NaN</td>\n",
              "      <td>0.0</td>\n",
              "      <td>NaN</td>\n",
              "      <td>NaN</td>\n",
              "      <td>NaN</td>\n",
              "      <td>NaN</td>\n",
              "      <td>NaN</td>\n",
              "      <td>NaN</td>\n",
              "      <td>NaN</td>\n",
              "      <td>NaN</td>\n",
              "      <td>NaN</td>\n",
              "      <td>NaN</td>\n",
              "      <td>NaN</td>\n",
              "      <td>0.0</td>\n",
              "      <td>NaN</td>\n",
              "      <td>0.0</td>\n",
              "      <td>1.0</td>\n",
              "      <td>0.0</td>\n",
              "      <td>0.0</td>\n",
              "      <td>0.0</td>\n",
              "      <td>0.0</td>\n",
              "      <td>0.0</td>\n",
              "      <td>0.0</td>\n",
              "      <td>0.0</td>\n",
              "      <td>0.0</td>\n",
              "      <td>0.0</td>\n",
              "      <td>0.0</td>\n",
              "      <td>0.0</td>\n",
              "      <td>0.0</td>\n",
              "      <td>0.0</td>\n",
              "      <td>0.0</td>\n",
              "      <td>0.0</td>\n",
              "      <td>NaN</td>\n",
              "      <td>NaN</td>\n",
              "      <td>NaN</td>\n",
              "      <td>NaN</td>\n",
              "      <td>NaN</td>\n",
              "      <td>NaN</td>\n",
              "      <td>NaN</td>\n",
              "      <td>NaN</td>\n",
              "    </tr>\n",
              "    <tr>\n",
              "      <th>2009-01-06</th>\n",
              "      <td>0.0</td>\n",
              "      <td>0.0</td>\n",
              "      <td>0.0</td>\n",
              "      <td>NaN</td>\n",
              "      <td>NaN</td>\n",
              "      <td>NaN</td>\n",
              "      <td>0.0</td>\n",
              "      <td>NaN</td>\n",
              "      <td>NaN</td>\n",
              "      <td>NaN</td>\n",
              "      <td>NaN</td>\n",
              "      <td>NaN</td>\n",
              "      <td>0.0</td>\n",
              "      <td>NaN</td>\n",
              "      <td>NaN</td>\n",
              "      <td>NaN</td>\n",
              "      <td>NaN</td>\n",
              "      <td>NaN</td>\n",
              "      <td>NaN</td>\n",
              "      <td>NaN</td>\n",
              "      <td>NaN</td>\n",
              "      <td>NaN</td>\n",
              "      <td>1.0</td>\n",
              "      <td>NaN</td>\n",
              "      <td>NaN</td>\n",
              "      <td>NaN</td>\n",
              "      <td>0.0</td>\n",
              "      <td>NaN</td>\n",
              "      <td>0.0</td>\n",
              "      <td>0.0</td>\n",
              "      <td>0.0</td>\n",
              "      <td>0.0</td>\n",
              "      <td>NaN</td>\n",
              "      <td>NaN</td>\n",
              "      <td>NaN</td>\n",
              "      <td>NaN</td>\n",
              "      <td>NaN</td>\n",
              "      <td>0.0</td>\n",
              "      <td>NaN</td>\n",
              "      <td>NaN</td>\n",
              "      <td>NaN</td>\n",
              "      <td>NaN</td>\n",
              "      <td>NaN</td>\n",
              "      <td>NaN</td>\n",
              "      <td>NaN</td>\n",
              "      <td>NaN</td>\n",
              "      <td>NaN</td>\n",
              "      <td>NaN</td>\n",
              "      <td>NaN</td>\n",
              "      <td>0.0</td>\n",
              "      <td>NaN</td>\n",
              "      <td>0.0</td>\n",
              "      <td>1.0</td>\n",
              "      <td>0.0</td>\n",
              "      <td>0.0</td>\n",
              "      <td>0.0</td>\n",
              "      <td>0.0</td>\n",
              "      <td>0.0</td>\n",
              "      <td>0.0</td>\n",
              "      <td>0.0</td>\n",
              "      <td>0.0</td>\n",
              "      <td>0.0</td>\n",
              "      <td>0.0</td>\n",
              "      <td>0.0</td>\n",
              "      <td>0.0</td>\n",
              "      <td>0.0</td>\n",
              "      <td>0.0</td>\n",
              "      <td>0.0</td>\n",
              "      <td>NaN</td>\n",
              "      <td>NaN</td>\n",
              "      <td>NaN</td>\n",
              "      <td>NaN</td>\n",
              "      <td>NaN</td>\n",
              "      <td>NaN</td>\n",
              "      <td>NaN</td>\n",
              "      <td>NaN</td>\n",
              "    </tr>\n",
              "    <tr>\n",
              "      <th>2009-01-07</th>\n",
              "      <td>0.0</td>\n",
              "      <td>0.0</td>\n",
              "      <td>0.0</td>\n",
              "      <td>NaN</td>\n",
              "      <td>NaN</td>\n",
              "      <td>NaN</td>\n",
              "      <td>0.0</td>\n",
              "      <td>NaN</td>\n",
              "      <td>NaN</td>\n",
              "      <td>NaN</td>\n",
              "      <td>NaN</td>\n",
              "      <td>NaN</td>\n",
              "      <td>0.0</td>\n",
              "      <td>NaN</td>\n",
              "      <td>NaN</td>\n",
              "      <td>NaN</td>\n",
              "      <td>NaN</td>\n",
              "      <td>NaN</td>\n",
              "      <td>NaN</td>\n",
              "      <td>NaN</td>\n",
              "      <td>NaN</td>\n",
              "      <td>NaN</td>\n",
              "      <td>1.0</td>\n",
              "      <td>NaN</td>\n",
              "      <td>NaN</td>\n",
              "      <td>NaN</td>\n",
              "      <td>0.0</td>\n",
              "      <td>NaN</td>\n",
              "      <td>0.0</td>\n",
              "      <td>0.0</td>\n",
              "      <td>0.0</td>\n",
              "      <td>0.0</td>\n",
              "      <td>NaN</td>\n",
              "      <td>NaN</td>\n",
              "      <td>NaN</td>\n",
              "      <td>NaN</td>\n",
              "      <td>NaN</td>\n",
              "      <td>0.0</td>\n",
              "      <td>NaN</td>\n",
              "      <td>NaN</td>\n",
              "      <td>NaN</td>\n",
              "      <td>NaN</td>\n",
              "      <td>NaN</td>\n",
              "      <td>NaN</td>\n",
              "      <td>NaN</td>\n",
              "      <td>NaN</td>\n",
              "      <td>NaN</td>\n",
              "      <td>NaN</td>\n",
              "      <td>NaN</td>\n",
              "      <td>0.0</td>\n",
              "      <td>NaN</td>\n",
              "      <td>0.0</td>\n",
              "      <td>1.0</td>\n",
              "      <td>0.0</td>\n",
              "      <td>0.0</td>\n",
              "      <td>0.0</td>\n",
              "      <td>0.0</td>\n",
              "      <td>0.0</td>\n",
              "      <td>0.0</td>\n",
              "      <td>0.0</td>\n",
              "      <td>0.0</td>\n",
              "      <td>0.0</td>\n",
              "      <td>0.0</td>\n",
              "      <td>0.0</td>\n",
              "      <td>0.0</td>\n",
              "      <td>0.0</td>\n",
              "      <td>0.0</td>\n",
              "      <td>0.0</td>\n",
              "      <td>NaN</td>\n",
              "      <td>NaN</td>\n",
              "      <td>NaN</td>\n",
              "      <td>NaN</td>\n",
              "      <td>NaN</td>\n",
              "      <td>NaN</td>\n",
              "      <td>NaN</td>\n",
              "      <td>NaN</td>\n",
              "    </tr>\n",
              "  </tbody>\n",
              "</table>\n",
              "</div>"
            ],
            "text/plain": [
              "            AdrActCnt  BlkCnt  BlkSizeByte  BlkSizeMeanByte  CapMVRVCur  \\\n",
              "2009-01-03        0.0     0.0          0.0              NaN         NaN   \n",
              "2009-01-04        0.0     0.0          0.0              NaN         NaN   \n",
              "2009-01-05        0.0     0.0          0.0              NaN         NaN   \n",
              "2009-01-06        0.0     0.0          0.0              NaN         NaN   \n",
              "2009-01-07        0.0     0.0          0.0              NaN         NaN   \n",
              "\n",
              "            CapMrktCurUSD  CapRealUSD  DiffMean  FeeMeanNtv  FeeMeanUSD  \\\n",
              "2009-01-03            NaN         0.0       NaN         NaN         NaN   \n",
              "2009-01-04            NaN         0.0       NaN         NaN         NaN   \n",
              "2009-01-05            NaN         0.0       NaN         NaN         NaN   \n",
              "2009-01-06            NaN         0.0       NaN         NaN         NaN   \n",
              "2009-01-07            NaN         0.0       NaN         NaN         NaN   \n",
              "\n",
              "            FeeMedNtv  FeeMedUSD  FeeTotNtv  FeeTotUSD  HashRate  IssContNtv  \\\n",
              "2009-01-03        NaN        NaN        0.0        NaN       NaN         NaN   \n",
              "2009-01-04        NaN        NaN        0.0        NaN       NaN         NaN   \n",
              "2009-01-05        NaN        NaN        0.0        NaN       NaN         NaN   \n",
              "2009-01-06        NaN        NaN        0.0        NaN       NaN         NaN   \n",
              "2009-01-07        NaN        NaN        0.0        NaN       NaN         NaN   \n",
              "\n",
              "            IssContPctAnn  IssContUSD  IssTotNtv  IssTotUSD  NVTAdj  NVTAdj90  \\\n",
              "2009-01-03            NaN         NaN        NaN        NaN     NaN       NaN   \n",
              "2009-01-04            NaN         NaN        NaN        NaN     NaN       NaN   \n",
              "2009-01-05            NaN         NaN        NaN        NaN     NaN       NaN   \n",
              "2009-01-06            NaN         NaN        NaN        NaN     NaN       NaN   \n",
              "2009-01-07            NaN         NaN        NaN        NaN     NaN       NaN   \n",
              "\n",
              "            PriceBTC  PriceUSD  ROI1yr  ROI30d  SplyCur  SplyExpFut10yrCMBI  \\\n",
              "2009-01-03       1.0       NaN     NaN     NaN      0.0                 NaN   \n",
              "2009-01-04       1.0       NaN     NaN     NaN      0.0                 NaN   \n",
              "2009-01-05       1.0       NaN     NaN     NaN      0.0                 NaN   \n",
              "2009-01-06       1.0       NaN     NaN     NaN      0.0                 NaN   \n",
              "2009-01-07       1.0       NaN     NaN     NaN      0.0                 NaN   \n",
              "\n",
              "            SplyFF  TxCnt  TxTfrCnt  TxTfrValAdjNtv  TxTfrValAdjUSD  \\\n",
              "2009-01-03     0.0    0.0       0.0             0.0             NaN   \n",
              "2009-01-04     0.0    0.0       0.0             0.0             NaN   \n",
              "2009-01-05     0.0    0.0       0.0             0.0             NaN   \n",
              "2009-01-06     0.0    0.0       0.0             0.0             NaN   \n",
              "2009-01-07     0.0    0.0       0.0             0.0             NaN   \n",
              "\n",
              "            TxTfrValMeanNtv  TxTfrValMeanUSD  TxTfrValMedNtv  TxTfrValMedUSD  \\\n",
              "2009-01-03              NaN              NaN             NaN             NaN   \n",
              "2009-01-04              NaN              NaN             NaN             NaN   \n",
              "2009-01-05              NaN              NaN             NaN             NaN   \n",
              "2009-01-06              NaN              NaN             NaN             NaN   \n",
              "2009-01-07              NaN              NaN             NaN             NaN   \n",
              "\n",
              "            TxTfrValNtv  TxTfrValUSD  VtyDayRet180d  VtyDayRet30d  \\\n",
              "2009-01-03          0.0          NaN            NaN           NaN   \n",
              "2009-01-04          0.0          NaN            NaN           NaN   \n",
              "2009-01-05          0.0          NaN            NaN           NaN   \n",
              "2009-01-06          0.0          NaN            NaN           NaN   \n",
              "2009-01-07          0.0          NaN            NaN           NaN   \n",
              "\n",
              "            VtyDayRet60d  Volume  Annualized_DilutionRate  \\\n",
              "2009-01-03           NaN     NaN                      NaN   \n",
              "2009-01-04           NaN     NaN                      NaN   \n",
              "2009-01-05           NaN     NaN                      NaN   \n",
              "2009-01-06           NaN     NaN                      NaN   \n",
              "2009-01-07           NaN     NaN                      NaN   \n",
              "\n",
              "            Total daily transaction volume  Velocity  \\\n",
              "2009-01-03                             NaN       NaN   \n",
              "2009-01-04                             NaN       NaN   \n",
              "2009-01-05                             NaN       NaN   \n",
              "2009-01-06                             NaN       NaN   \n",
              "2009-01-07                             NaN       NaN   \n",
              "\n",
              "            The daily revenue of bitcoin miners  \\\n",
              "2009-01-03                                  NaN   \n",
              "2009-01-04                                  NaN   \n",
              "2009-01-05                                  NaN   \n",
              "2009-01-06                                  NaN   \n",
              "2009-01-07                                  NaN   \n",
              "\n",
              "            The accumulated revenue of bitcoin miners  P/E Ratio  Metcalfe  \\\n",
              "2009-01-03                                        NaN        NaN       0.0   \n",
              "2009-01-04                                        NaN        NaN       0.0   \n",
              "2009-01-05                                        NaN        NaN       0.0   \n",
              "2009-01-06                                        NaN        NaN       0.0   \n",
              "2009-01-07                                        NaN        NaN       0.0   \n",
              "\n",
              "            PM  <1d  1d ~ 1m  1m ~ 1q  1q ~ 6m  6m ~ 1y  1y ~ 2y  2y ~ 3y  \\\n",
              "2009-01-03 NaN  1.0      0.0      0.0      0.0      0.0      0.0      0.0   \n",
              "2009-01-04 NaN  0.0      1.0      0.0      0.0      0.0      0.0      0.0   \n",
              "2009-01-05 NaN  0.0      1.0      0.0      0.0      0.0      0.0      0.0   \n",
              "2009-01-06 NaN  0.0      1.0      0.0      0.0      0.0      0.0      0.0   \n",
              "2009-01-07 NaN  0.0      1.0      0.0      0.0      0.0      0.0      0.0   \n",
              "\n",
              "            3y ~ 4y  4y ~ 5y   5y~10y  >10y  One-year staking ratio  \\\n",
              "2009-01-03      0.0      0.0      0.0   0.0                     0.0   \n",
              "2009-01-04      0.0      0.0      0.0   0.0                     0.0   \n",
              "2009-01-05      0.0      0.0      0.0   0.0                     0.0   \n",
              "2009-01-06      0.0      0.0      0.0   0.0                     0.0   \n",
              "2009-01-07      0.0      0.0      0.0   0.0                     0.0   \n",
              "\n",
              "            Two-year staking ratio  Three-year staking ratio  \\\n",
              "2009-01-03                     0.0                       0.0   \n",
              "2009-01-04                     0.0                       0.0   \n",
              "2009-01-05                     0.0                       0.0   \n",
              "2009-01-06                     0.0                       0.0   \n",
              "2009-01-07                     0.0                       0.0   \n",
              "\n",
              "            Four-year staking ratio  Five-year staking ratio  \\\n",
              "2009-01-03                      0.0                      0.0   \n",
              "2009-01-04                      0.0                      0.0   \n",
              "2009-01-05                      0.0                      0.0   \n",
              "2009-01-06                      0.0                      0.0   \n",
              "2009-01-07                      0.0                      0.0   \n",
              "\n",
              "            Ten-year staking ratio  Token Utility  PU Ratio  volatility30  \\\n",
              "2009-01-03                     0.0            NaN       NaN           NaN   \n",
              "2009-01-04                     0.0            NaN       NaN           NaN   \n",
              "2009-01-05                     0.0            NaN       NaN           NaN   \n",
              "2009-01-06                     0.0            NaN       NaN           NaN   \n",
              "2009-01-07                     0.0            NaN       NaN           NaN   \n",
              "\n",
              "            volatility60  volatility90  volatility180  \\\n",
              "2009-01-03           NaN           NaN            NaN   \n",
              "2009-01-04           NaN           NaN            NaN   \n",
              "2009-01-05           NaN           NaN            NaN   \n",
              "2009-01-06           NaN           NaN            NaN   \n",
              "2009-01-07           NaN           NaN            NaN   \n",
              "\n",
              "            Token Utility_volatility  PU Ratio_volatility  \n",
              "2009-01-03                       NaN                  NaN  \n",
              "2009-01-04                       NaN                  NaN  \n",
              "2009-01-05                       NaN                  NaN  \n",
              "2009-01-06                       NaN                  NaN  \n",
              "2009-01-07                       NaN                  NaN  "
            ]
          },
          "metadata": {},
          "execution_count": 3
        }
      ]
    },
    {
      "cell_type": "markdown",
      "metadata": {
        "id": "Vp25IlObHVgx"
      },
      "source": [
        "# Generate return for different time ranges"
      ]
    },
    {
      "cell_type": "code",
      "metadata": {
        "id": "CQodJ-cZG-p5"
      },
      "source": [
        "df[\"ROI1\"] =df['PriceUSD'].pct_change(1)\n",
        "df[\"ROI7\"] =df['PriceUSD'].pct_change(7)\n",
        "df[\"ROI30\"] =df['PriceUSD'].pct_change(30)\n",
        "df[\"ROI90\"] =df['PriceUSD'].pct_change(90)\n",
        "df[\"ROI180\"] =df['PriceUSD'].pct_change(180)\n",
        "df[\"ROI360\"] =df['PriceUSD'].pct_change(360)"
      ],
      "execution_count": null,
      "outputs": []
    },
    {
      "cell_type": "code",
      "metadata": {
        "colab": {
          "base_uri": "https://localhost:8080/",
          "height": 204
        },
        "id": "nMmA9hZXJG2A",
        "outputId": "e278f59b-9902-40e1-c2e2-bd9dac514263"
      },
      "source": [
        "columns_ROI = [\"ROI1\", \"ROI7\",\"ROI30\",\"ROI90\",\"ROI180\",\"ROI360\"]\n",
        "df_ROI = df[columns_ROI].dropna()\n",
        "df_ROI.head()"
      ],
      "execution_count": null,
      "outputs": [
        {
          "output_type": "execute_result",
          "data": {
            "text/html": [
              "<div>\n",
              "<style scoped>\n",
              "    .dataframe tbody tr th:only-of-type {\n",
              "        vertical-align: middle;\n",
              "    }\n",
              "\n",
              "    .dataframe tbody tr th {\n",
              "        vertical-align: top;\n",
              "    }\n",
              "\n",
              "    .dataframe thead th {\n",
              "        text-align: right;\n",
              "    }\n",
              "</style>\n",
              "<table border=\"1\" class=\"dataframe\">\n",
              "  <thead>\n",
              "    <tr style=\"text-align: right;\">\n",
              "      <th></th>\n",
              "      <th>ROI1</th>\n",
              "      <th>ROI7</th>\n",
              "      <th>ROI30</th>\n",
              "      <th>ROI90</th>\n",
              "      <th>ROI180</th>\n",
              "      <th>ROI360</th>\n",
              "    </tr>\n",
              "  </thead>\n",
              "  <tbody>\n",
              "    <tr>\n",
              "      <th>2011-07-13</th>\n",
              "      <td>-0.003553</td>\n",
              "      <td>-0.050516</td>\n",
              "      <td>-0.285067</td>\n",
              "      <td>12.990625</td>\n",
              "      <td>33.929509</td>\n",
              "      <td>161.761586</td>\n",
              "    </tr>\n",
              "    <tr>\n",
              "      <th>2011-07-14</th>\n",
              "      <td>0.001898</td>\n",
              "      <td>-0.054018</td>\n",
              "      <td>-0.273125</td>\n",
              "      <td>13.230311</td>\n",
              "      <td>35.264183</td>\n",
              "      <td>172.242259</td>\n",
              "    </tr>\n",
              "    <tr>\n",
              "      <th>2011-07-15</th>\n",
              "      <td>-0.013687</td>\n",
              "      <td>-0.034453</td>\n",
              "      <td>-0.290676</td>\n",
              "      <td>12.191245</td>\n",
              "      <td>34.694797</td>\n",
              "      <td>183.736145</td>\n",
              "    </tr>\n",
              "    <tr>\n",
              "      <th>2011-07-16</th>\n",
              "      <td>-0.006759</td>\n",
              "      <td>-0.046478</td>\n",
              "      <td>-0.235161</td>\n",
              "      <td>11.487755</td>\n",
              "      <td>38.236278</td>\n",
              "      <td>172.160546</td>\n",
              "    </tr>\n",
              "    <tr>\n",
              "      <th>2011-07-17</th>\n",
              "      <td>-0.033176</td>\n",
              "      <td>-0.093333</td>\n",
              "      <td>-0.141110</td>\n",
              "      <td>10.534497</td>\n",
              "      <td>41.359613</td>\n",
              "      <td>225.752004</td>\n",
              "    </tr>\n",
              "  </tbody>\n",
              "</table>\n",
              "</div>"
            ],
            "text/plain": [
              "                ROI1      ROI7     ROI30      ROI90     ROI180      ROI360\n",
              "2011-07-13 -0.003553 -0.050516 -0.285067  12.990625  33.929509  161.761586\n",
              "2011-07-14  0.001898 -0.054018 -0.273125  13.230311  35.264183  172.242259\n",
              "2011-07-15 -0.013687 -0.034453 -0.290676  12.191245  34.694797  183.736145\n",
              "2011-07-16 -0.006759 -0.046478 -0.235161  11.487755  38.236278  172.160546\n",
              "2011-07-17 -0.033176 -0.093333 -0.141110  10.534497  41.359613  225.752004"
            ]
          },
          "metadata": {},
          "execution_count": 5
        }
      ]
    },
    {
      "cell_type": "code",
      "metadata": {
        "colab": {
          "base_uri": "https://localhost:8080/",
          "height": 204
        },
        "id": "NENzZ0XLZ09x",
        "outputId": "5dc7a0c6-e5c7-430d-c058-005ac12058cc"
      },
      "source": [
        "df_ROI.tail()"
      ],
      "execution_count": null,
      "outputs": [
        {
          "output_type": "execute_result",
          "data": {
            "text/html": [
              "<div>\n",
              "<style scoped>\n",
              "    .dataframe tbody tr th:only-of-type {\n",
              "        vertical-align: middle;\n",
              "    }\n",
              "\n",
              "    .dataframe tbody tr th {\n",
              "        vertical-align: top;\n",
              "    }\n",
              "\n",
              "    .dataframe thead th {\n",
              "        text-align: right;\n",
              "    }\n",
              "</style>\n",
              "<table border=\"1\" class=\"dataframe\">\n",
              "  <thead>\n",
              "    <tr style=\"text-align: right;\">\n",
              "      <th></th>\n",
              "      <th>ROI1</th>\n",
              "      <th>ROI7</th>\n",
              "      <th>ROI30</th>\n",
              "      <th>ROI90</th>\n",
              "      <th>ROI180</th>\n",
              "      <th>ROI360</th>\n",
              "    </tr>\n",
              "  </thead>\n",
              "  <tbody>\n",
              "    <tr>\n",
              "      <th>2020-12-27</th>\n",
              "      <td>-0.001783</td>\n",
              "      <td>0.123353</td>\n",
              "      <td>0.545519</td>\n",
              "      <td>1.463870</td>\n",
              "      <td>1.890524</td>\n",
              "      <td>2.804739</td>\n",
              "    </tr>\n",
              "    <tr>\n",
              "      <th>2020-12-28</th>\n",
              "      <td>0.023022</td>\n",
              "      <td>0.178831</td>\n",
              "      <td>0.523740</td>\n",
              "      <td>1.494142</td>\n",
              "      <td>1.925912</td>\n",
              "      <td>2.696269</td>\n",
              "    </tr>\n",
              "    <tr>\n",
              "      <th>2020-12-29</th>\n",
              "      <td>0.007095</td>\n",
              "      <td>0.146245</td>\n",
              "      <td>0.496971</td>\n",
              "      <td>1.527879</td>\n",
              "      <td>1.994287</td>\n",
              "      <td>2.708375</td>\n",
              "    </tr>\n",
              "    <tr>\n",
              "      <th>2020-12-30</th>\n",
              "      <td>0.059249</td>\n",
              "      <td>0.237580</td>\n",
              "      <td>0.466844</td>\n",
              "      <td>1.719492</td>\n",
              "      <td>2.181383</td>\n",
              "      <td>2.926825</td>\n",
              "    </tr>\n",
              "    <tr>\n",
              "      <th>2020-12-31</th>\n",
              "      <td>0.006173</td>\n",
              "      <td>0.224191</td>\n",
              "      <td>0.542069</td>\n",
              "      <td>1.745731</td>\n",
              "      <td>2.180142</td>\n",
              "      <td>2.737243</td>\n",
              "    </tr>\n",
              "  </tbody>\n",
              "</table>\n",
              "</div>"
            ],
            "text/plain": [
              "                ROI1      ROI7     ROI30     ROI90    ROI180    ROI360\n",
              "2020-12-27 -0.001783  0.123353  0.545519  1.463870  1.890524  2.804739\n",
              "2020-12-28  0.023022  0.178831  0.523740  1.494142  1.925912  2.696269\n",
              "2020-12-29  0.007095  0.146245  0.496971  1.527879  1.994287  2.708375\n",
              "2020-12-30  0.059249  0.237580  0.466844  1.719492  2.181383  2.926825\n",
              "2020-12-31  0.006173  0.224191  0.542069  1.745731  2.180142  2.737243"
            ]
          },
          "metadata": {},
          "execution_count": 6
        }
      ]
    },
    {
      "cell_type": "code",
      "metadata": {
        "colab": {
          "base_uri": "https://localhost:8080/"
        },
        "id": "5wUcHHRtaFzz",
        "outputId": "7185561b-55e9-46b8-91a5-6c9fca691e19"
      },
      "source": [
        "df_ROI['ROI1'].count()"
      ],
      "execution_count": null,
      "outputs": [
        {
          "output_type": "execute_result",
          "data": {
            "text/plain": [
              "3460"
            ]
          },
          "metadata": {},
          "execution_count": 7
        }
      ]
    },
    {
      "cell_type": "code",
      "metadata": {
        "colab": {
          "base_uri": "https://localhost:8080/",
          "height": 838
        },
        "id": "WRVwF4B2OYDA",
        "outputId": "609e06da-0c90-461e-fe59-062210e5e708"
      },
      "source": [
        "import matplotlib.pyplot as plt\n",
        "import seaborn as sns, numpy as np\n",
        "sns.set_style(\"white\")\n",
        "fig, ax = plt.subplots(2, 3, figsize=(18, 10))\n",
        "sns.distplot(ax=ax[0, 0],x=df_ROI.ROI1, axlabel=\"daily return\")\n",
        "sns.distplot(ax=ax[0, 1],x=df_ROI.ROI7, axlabel=\"7-day return\")\n",
        "sns.distplot(ax=ax[0, 2],x=df_ROI.ROI30, axlabel=\"30-day return\")\n",
        "sns.distplot(ax=ax[1, 0],x=df_ROI.ROI90, axlabel=\"90-day return\")\n",
        "sns.distplot(ax=ax[1, 1],x=df_ROI.ROI180, axlabel=\"180-day return\")\n",
        "sns.distplot(ax=ax[1, 2],x=df_ROI.ROI360, axlabel=\"360-day return\")\n",
        "plt.savefig('/content/drive/MyDrive/DeFi/CVML2021/ROI.png')\n",
        "plt.show()"
      ],
      "execution_count": null,
      "outputs": [
        {
          "output_type": "stream",
          "name": "stderr",
          "text": [
            "/usr/local/lib/python3.7/dist-packages/seaborn/distributions.py:2619: FutureWarning: `distplot` is a deprecated function and will be removed in a future version. Please adapt your code to use either `displot` (a figure-level function with similar flexibility) or `histplot` (an axes-level function for histograms).\n",
            "  warnings.warn(msg, FutureWarning)\n",
            "/usr/local/lib/python3.7/dist-packages/seaborn/distributions.py:2619: FutureWarning: `distplot` is a deprecated function and will be removed in a future version. Please adapt your code to use either `displot` (a figure-level function with similar flexibility) or `histplot` (an axes-level function for histograms).\n",
            "  warnings.warn(msg, FutureWarning)\n",
            "/usr/local/lib/python3.7/dist-packages/seaborn/distributions.py:2619: FutureWarning: `distplot` is a deprecated function and will be removed in a future version. Please adapt your code to use either `displot` (a figure-level function with similar flexibility) or `histplot` (an axes-level function for histograms).\n",
            "  warnings.warn(msg, FutureWarning)\n",
            "/usr/local/lib/python3.7/dist-packages/seaborn/distributions.py:2619: FutureWarning: `distplot` is a deprecated function and will be removed in a future version. Please adapt your code to use either `displot` (a figure-level function with similar flexibility) or `histplot` (an axes-level function for histograms).\n",
            "  warnings.warn(msg, FutureWarning)\n",
            "/usr/local/lib/python3.7/dist-packages/seaborn/distributions.py:2619: FutureWarning: `distplot` is a deprecated function and will be removed in a future version. Please adapt your code to use either `displot` (a figure-level function with similar flexibility) or `histplot` (an axes-level function for histograms).\n",
            "  warnings.warn(msg, FutureWarning)\n",
            "/usr/local/lib/python3.7/dist-packages/seaborn/distributions.py:2619: FutureWarning: `distplot` is a deprecated function and will be removed in a future version. Please adapt your code to use either `displot` (a figure-level function with similar flexibility) or `histplot` (an axes-level function for histograms).\n",
            "  warnings.warn(msg, FutureWarning)\n"
          ]
        },
        {
          "output_type": "display_data",
          "data": {
            "image/png": "[encoded data removed]",
            "text/plain": [
              "<Figure size 1296x720 with 6 Axes>"
            ]
          },
          "metadata": {}
        }
      ]
    },
    {
      "cell_type": "code",
      "metadata": {
        "id": "YEYgzhhLJ1ya"
      },
      "source": [
        "df_ROI_agg=df_ROI.agg([\"mean\",\"std\",\"skew\",\"kurt\"], axis=0)"
      ],
      "execution_count": null,
      "outputs": []
    },
    {
      "cell_type": "code",
      "metadata": {
        "colab": {
          "base_uri": "https://localhost:8080/",
          "height": 235
        },
        "id": "O04bM3diL6fj",
        "outputId": "67b2e5b9-6fcd-4596-d62c-e988bed0bee5"
      },
      "source": [
        "df_ROI_agg =df_ROI_agg.transpose()\n",
        "df_ROI_agg"
      ],
      "execution_count": null,
      "outputs": [
        {
          "output_type": "execute_result",
          "data": {
            "text/html": [
              "<div>\n",
              "<style scoped>\n",
              "    .dataframe tbody tr th:only-of-type {\n",
              "        vertical-align: middle;\n",
              "    }\n",
              "\n",
              "    .dataframe tbody tr th {\n",
              "        vertical-align: top;\n",
              "    }\n",
              "\n",
              "    .dataframe thead th {\n",
              "        text-align: right;\n",
              "    }\n",
              "</style>\n",
              "<table border=\"1\" class=\"dataframe\">\n",
              "  <thead>\n",
              "    <tr style=\"text-align: right;\">\n",
              "      <th></th>\n",
              "      <th>mean</th>\n",
              "      <th>std</th>\n",
              "      <th>skew</th>\n",
              "      <th>kurt</th>\n",
              "    </tr>\n",
              "  </thead>\n",
              "  <tbody>\n",
              "    <tr>\n",
              "      <th>ROI1</th>\n",
              "      <td>0.003343</td>\n",
              "      <td>0.047077</td>\n",
              "      <td>-0.206956</td>\n",
              "      <td>13.327667</td>\n",
              "    </tr>\n",
              "    <tr>\n",
              "      <th>ROI7</th>\n",
              "      <td>0.023624</td>\n",
              "      <td>0.132050</td>\n",
              "      <td>1.117996</td>\n",
              "      <td>7.291459</td>\n",
              "    </tr>\n",
              "    <tr>\n",
              "      <th>ROI30</th>\n",
              "      <td>0.118321</td>\n",
              "      <td>0.430599</td>\n",
              "      <td>4.155114</td>\n",
              "      <td>28.805420</td>\n",
              "    </tr>\n",
              "    <tr>\n",
              "      <th>ROI90</th>\n",
              "      <td>0.517465</td>\n",
              "      <td>1.393044</td>\n",
              "      <td>4.190716</td>\n",
              "      <td>23.867260</td>\n",
              "    </tr>\n",
              "    <tr>\n",
              "      <th>ROI180</th>\n",
              "      <td>1.394251</td>\n",
              "      <td>3.261427</td>\n",
              "      <td>5.832102</td>\n",
              "      <td>50.868819</td>\n",
              "    </tr>\n",
              "    <tr>\n",
              "      <th>ROI360</th>\n",
              "      <td>8.085476</td>\n",
              "      <td>24.853241</td>\n",
              "      <td>5.987535</td>\n",
              "      <td>41.536407</td>\n",
              "    </tr>\n",
              "  </tbody>\n",
              "</table>\n",
              "</div>"
            ],
            "text/plain": [
              "            mean        std      skew       kurt\n",
              "ROI1    0.003343   0.047077 -0.206956  13.327667\n",
              "ROI7    0.023624   0.132050  1.117996   7.291459\n",
              "ROI30   0.118321   0.430599  4.155114  28.805420\n",
              "ROI90   0.517465   1.393044  4.190716  23.867260\n",
              "ROI180  1.394251   3.261427  5.832102  50.868819\n",
              "ROI360  8.085476  24.853241  5.987535  41.536407"
            ]
          },
          "metadata": {},
          "execution_count": 10
        }
      ]
    },
    {
      "cell_type": "code",
      "metadata": {
        "colab": {
          "base_uri": "https://localhost:8080/"
        },
        "id": "MYnjiyYmNFw7",
        "outputId": "c607b53f-4112-4fc8-d5c5-efba977ed285"
      },
      "source": [
        "df_ROI_agg.columns"
      ],
      "execution_count": null,
      "outputs": [
        {
          "output_type": "execute_result",
          "data": {
            "text/plain": [
              "Index(['mean', 'std', 'skew', 'kurt'], dtype='object')"
            ]
          },
          "metadata": {},
          "execution_count": 11
        }
      ]
    },
    {
      "cell_type": "code",
      "metadata": {
        "colab": {
          "base_uri": "https://localhost:8080/"
        },
        "id": "FseVJyQZNKRW",
        "outputId": "39172a20-5156-4d9a-ad3d-53e614bff448"
      },
      "source": [
        "df_ROI_agg = df_ROI_agg.astype(\"float64\")\n",
        "df_ROI_agg.dtypes"
      ],
      "execution_count": null,
      "outputs": [
        {
          "output_type": "execute_result",
          "data": {
            "text/plain": [
              "mean    float64\n",
              "std     float64\n",
              "skew    float64\n",
              "kurt    float64\n",
              "dtype: object"
            ]
          },
          "metadata": {},
          "execution_count": 12
        }
      ]
    },
    {
      "cell_type": "code",
      "metadata": {
        "colab": {
          "base_uri": "https://localhost:8080/",
          "height": 235
        },
        "id": "hnhmntYZM1PL",
        "outputId": "443b99b3-3882-4a11-9b0e-3c47e565a058"
      },
      "source": [
        "df_ROI_agg[\"shape_ratio\"] = df_ROI_agg[\"mean\"]/df_ROI_agg[\"std\"]\n",
        "pd.options.display.float_format = '{:.2%}'.format\n",
        "df_ROI_agg"
      ],
      "execution_count": null,
      "outputs": [
        {
          "output_type": "execute_result",
          "data": {
            "text/html": [
              "<div>\n",
              "<style scoped>\n",
              "    .dataframe tbody tr th:only-of-type {\n",
              "        vertical-align: middle;\n",
              "    }\n",
              "\n",
              "    .dataframe tbody tr th {\n",
              "        vertical-align: top;\n",
              "    }\n",
              "\n",
              "    .dataframe thead th {\n",
              "        text-align: right;\n",
              "    }\n",
              "</style>\n",
              "<table border=\"1\" class=\"dataframe\">\n",
              "  <thead>\n",
              "    <tr style=\"text-align: right;\">\n",
              "      <th></th>\n",
              "      <th>mean</th>\n",
              "      <th>std</th>\n",
              "      <th>skew</th>\n",
              "      <th>kurt</th>\n",
              "      <th>shape_ratio</th>\n",
              "    </tr>\n",
              "  </thead>\n",
              "  <tbody>\n",
              "    <tr>\n",
              "      <th>ROI1</th>\n",
              "      <td>0.33%</td>\n",
              "      <td>4.71%</td>\n",
              "      <td>-20.70%</td>\n",
              "      <td>1332.77%</td>\n",
              "      <td>7.10%</td>\n",
              "    </tr>\n",
              "    <tr>\n",
              "      <th>ROI7</th>\n",
              "      <td>2.36%</td>\n",
              "      <td>13.20%</td>\n",
              "      <td>111.80%</td>\n",
              "      <td>729.15%</td>\n",
              "      <td>17.89%</td>\n",
              "    </tr>\n",
              "    <tr>\n",
              "      <th>ROI30</th>\n",
              "      <td>11.83%</td>\n",
              "      <td>43.06%</td>\n",
              "      <td>415.51%</td>\n",
              "      <td>2880.54%</td>\n",
              "      <td>27.48%</td>\n",
              "    </tr>\n",
              "    <tr>\n",
              "      <th>ROI90</th>\n",
              "      <td>51.75%</td>\n",
              "      <td>139.30%</td>\n",
              "      <td>419.07%</td>\n",
              "      <td>2386.73%</td>\n",
              "      <td>37.15%</td>\n",
              "    </tr>\n",
              "    <tr>\n",
              "      <th>ROI180</th>\n",
              "      <td>139.43%</td>\n",
              "      <td>326.14%</td>\n",
              "      <td>583.21%</td>\n",
              "      <td>5086.88%</td>\n",
              "      <td>42.75%</td>\n",
              "    </tr>\n",
              "    <tr>\n",
              "      <th>ROI360</th>\n",
              "      <td>808.55%</td>\n",
              "      <td>2485.32%</td>\n",
              "      <td>598.75%</td>\n",
              "      <td>4153.64%</td>\n",
              "      <td>32.53%</td>\n",
              "    </tr>\n",
              "  </tbody>\n",
              "</table>\n",
              "</div>"
            ],
            "text/plain": [
              "          mean      std    skew     kurt  shape_ratio\n",
              "ROI1     0.33%    4.71% -20.70% 1332.77%        7.10%\n",
              "ROI7     2.36%   13.20% 111.80%  729.15%       17.89%\n",
              "ROI30   11.83%   43.06% 415.51% 2880.54%       27.48%\n",
              "ROI90   51.75%  139.30% 419.07% 2386.73%       37.15%\n",
              "ROI180 139.43%  326.14% 583.21% 5086.88%       42.75%\n",
              "ROI360 808.55% 2485.32% 598.75% 4153.64%       32.53%"
            ]
          },
          "metadata": {},
          "execution_count": 13
        }
      ]
    },
    {
      "cell_type": "code",
      "metadata": {
        "id": "m-5C2Q9IUUAa"
      },
      "source": [
        "pd.options.display.float_format = '{:.4f}'.format"
      ],
      "execution_count": null,
      "outputs": []
    },
    {
      "cell_type": "code",
      "metadata": {
        "colab": {
          "base_uri": "https://localhost:8080/",
          "height": 235
        },
        "id": "MlgbVrVXUghK",
        "outputId": "d3592eb5-e73d-4074-beb9-bd200abe5fa6"
      },
      "source": [
        "df_ROI_agg"
      ],
      "execution_count": null,
      "outputs": [
        {
          "output_type": "execute_result",
          "data": {
            "text/html": [
              "<div>\n",
              "<style scoped>\n",
              "    .dataframe tbody tr th:only-of-type {\n",
              "        vertical-align: middle;\n",
              "    }\n",
              "\n",
              "    .dataframe tbody tr th {\n",
              "        vertical-align: top;\n",
              "    }\n",
              "\n",
              "    .dataframe thead th {\n",
              "        text-align: right;\n",
              "    }\n",
              "</style>\n",
              "<table border=\"1\" class=\"dataframe\">\n",
              "  <thead>\n",
              "    <tr style=\"text-align: right;\">\n",
              "      <th></th>\n",
              "      <th>mean</th>\n",
              "      <th>std</th>\n",
              "      <th>skew</th>\n",
              "      <th>kurt</th>\n",
              "      <th>shape_ratio</th>\n",
              "    </tr>\n",
              "  </thead>\n",
              "  <tbody>\n",
              "    <tr>\n",
              "      <th>ROI1</th>\n",
              "      <td>0.0033</td>\n",
              "      <td>0.0471</td>\n",
              "      <td>-0.2070</td>\n",
              "      <td>13.3277</td>\n",
              "      <td>0.0710</td>\n",
              "    </tr>\n",
              "    <tr>\n",
              "      <th>ROI7</th>\n",
              "      <td>0.0236</td>\n",
              "      <td>0.1320</td>\n",
              "      <td>1.1180</td>\n",
              "      <td>7.2915</td>\n",
              "      <td>0.1789</td>\n",
              "    </tr>\n",
              "    <tr>\n",
              "      <th>ROI30</th>\n",
              "      <td>0.1183</td>\n",
              "      <td>0.4306</td>\n",
              "      <td>4.1551</td>\n",
              "      <td>28.8054</td>\n",
              "      <td>0.2748</td>\n",
              "    </tr>\n",
              "    <tr>\n",
              "      <th>ROI90</th>\n",
              "      <td>0.5175</td>\n",
              "      <td>1.3930</td>\n",
              "      <td>4.1907</td>\n",
              "      <td>23.8673</td>\n",
              "      <td>0.3715</td>\n",
              "    </tr>\n",
              "    <tr>\n",
              "      <th>ROI180</th>\n",
              "      <td>1.3943</td>\n",
              "      <td>3.2614</td>\n",
              "      <td>5.8321</td>\n",
              "      <td>50.8688</td>\n",
              "      <td>0.4275</td>\n",
              "    </tr>\n",
              "    <tr>\n",
              "      <th>ROI360</th>\n",
              "      <td>8.0855</td>\n",
              "      <td>24.8532</td>\n",
              "      <td>5.9875</td>\n",
              "      <td>41.5364</td>\n",
              "      <td>0.3253</td>\n",
              "    </tr>\n",
              "  </tbody>\n",
              "</table>\n",
              "</div>"
            ],
            "text/plain": [
              "         mean     std    skew    kurt  shape_ratio\n",
              "ROI1   0.0033  0.0471 -0.2070 13.3277       0.0710\n",
              "ROI7   0.0236  0.1320  1.1180  7.2915       0.1789\n",
              "ROI30  0.1183  0.4306  4.1551 28.8054       0.2748\n",
              "ROI90  0.5175  1.3930  4.1907 23.8673       0.3715\n",
              "ROI180 1.3943  3.2614  5.8321 50.8688       0.4275\n",
              "ROI360 8.0855 24.8532  5.9875 41.5364       0.3253"
            ]
          },
          "metadata": {},
          "execution_count": 15
        }
      ]
    },
    {
      "cell_type": "markdown",
      "metadata": {
        "id": "ssy6Yt1Qfniu"
      },
      "source": [
        "# calculate t-statistics"
      ]
    },
    {
      "cell_type": "code",
      "metadata": {
        "colab": {
          "base_uri": "https://localhost:8080/"
        },
        "id": "3gkhVw5nfxQi",
        "outputId": "76816fb5-5b19-4f37-c46b-2920b4bb5f19"
      },
      "source": [
        "import statsmodels.api as sm\n",
        "import statsmodels.formula.api as smf"
      ],
      "execution_count": null,
      "outputs": [
        {
          "output_type": "stream",
          "name": "stderr",
          "text": [
            "/usr/local/lib/python3.7/dist-packages/statsmodels/tools/_testing.py:19: FutureWarning: pandas.util.testing is deprecated. Use the functions in the public API at pandas.testing instead.\n",
            "  import pandas.util.testing as tm\n"
          ]
        }
      ]
    },
    {
      "cell_type": "code",
      "metadata": {
        "colab": {
          "base_uri": "https://localhost:8080/"
        },
        "id": "N39wU-YOfmsJ",
        "outputId": "b5ac1c9c-d549-441d-a93e-246270518790"
      },
      "source": [
        "reg = smf.ols('ROI360 ~ 1', data=df_ROI).fit(cov_type='HAC',cov_kwds={'maxlags':1})\n",
        "print(reg.summary())"
      ],
      "execution_count": null,
      "outputs": [
        {
          "output_type": "stream",
          "name": "stdout",
          "text": [
            "                            OLS Regression Results                            \n",
            "==============================================================================\n",
            "Dep. Variable:                 ROI360   R-squared:                       0.000\n",
            "Model:                            OLS   Adj. R-squared:                  0.000\n",
            "Method:                 Least Squares   F-statistic:                       nan\n",
            "Date:                Fri, 08 Oct 2021   Prob (F-statistic):                nan\n",
            "Time:                        10:43:58   Log-Likelihood:                -16026.\n",
            "No. Observations:                3460   AIC:                         3.205e+04\n",
            "Df Residuals:                    3459   BIC:                         3.206e+04\n",
            "Df Model:                           0                                         \n",
            "Covariance Type:                  HAC                                         \n",
            "==============================================================================\n",
            "                 coef    std err          z      P>|z|      [0.025      0.975]\n",
            "------------------------------------------------------------------------------\n",
            "Intercept      8.0855      0.596     13.569      0.000       6.918       9.253\n",
            "==============================================================================\n",
            "Omnibus:                     3912.349   Durbin-Watson:                   0.010\n",
            "Prob(Omnibus):                  0.000   Jarque-Bera (JB):           268643.995\n",
            "Skew:                           5.985   Prob(JB):                         0.00\n",
            "Kurtosis:                      44.475   Cond. No.                         1.00\n",
            "==============================================================================\n",
            "\n",
            "Warnings:\n",
            "[1] Standard Errors are heteroscedasticity and autocorrelation robust (HAC) using 1 lags and without small sample correction\n"
          ]
        }
      ]
    },
    {
      "cell_type": "code",
      "metadata": {
        "colab": {
          "base_uri": "https://localhost:8080/"
        },
        "id": "L0WXDPtOY9XP",
        "outputId": "dbf7a1ea-f634-4afd-ef0b-48f6f2346143"
      },
      "source": [
        "cd /content/drive/MyDrive/DeFi/CVML2021"
      ],
      "execution_count": null,
      "outputs": [
        {
          "output_type": "stream",
          "name": "stdout",
          "text": [
            "/content/drive/MyDrive/DeFi/CVML2021\n"
          ]
        }
      ]
    },
    {
      "cell_type": "code",
      "metadata": {
        "id": "esgA3ISTUh_S"
      },
      "source": [
        "df_ROI_agg.to_excel(\"output.xlsx\") "
      ],
      "execution_count": null,
      "outputs": []
    },
    {
      "cell_type": "markdown",
      "metadata": {
        "id": "xuOtNV6fallr"
      },
      "source": [
        "# miracles and disasters"
      ]
    },
    {
      "cell_type": "code",
      "metadata": {
        "id": "cGXUSmIzY7zg"
      },
      "source": [
        "disaster5=df_ROI[df_ROI[\"ROI1\"]<=-0.05].count()[\"ROI1\"]\n",
        "disaster10=df_ROI[df_ROI[\"ROI1\"]<=-0.1].count()[\"ROI1\"]\n",
        "disaster20=df_ROI[df_ROI[\"ROI1\"]<=-0.2].count()[\"ROI1\"]\n",
        "disaster30=df_ROI[df_ROI[\"ROI1\"]<=-0.3].count()[\"ROI1\"]"
      ],
      "execution_count": null,
      "outputs": []
    },
    {
      "cell_type": "code",
      "metadata": {
        "colab": {
          "base_uri": "https://localhost:8080/"
        },
        "id": "m_GdTqApbN8S",
        "outputId": "4b3a5437-9b7f-4484-b6ed-664e4f90d4c3"
      },
      "source": [
        "[disaster5, disaster10,disaster20, disaster30]"
      ],
      "execution_count": null,
      "outputs": [
        {
          "output_type": "execute_result",
          "data": {
            "text/plain": [
              "[255, 70, 12, 4]"
            ]
          },
          "metadata": {},
          "execution_count": 30
        }
      ]
    },
    {
      "cell_type": "code",
      "metadata": {
        "colab": {
          "base_uri": "https://localhost:8080/"
        },
        "id": "lt9CvNFXc1WV",
        "outputId": "02d03bef-1754-4de4-d86b-7e382c24c39f"
      },
      "source": [
        "[disaster5, disaster10,disaster20, disaster30]/df_ROI['ROI1'].count()"
      ],
      "execution_count": null,
      "outputs": [
        {
          "output_type": "execute_result",
          "data": {
            "text/plain": [
              "array([0.07369942, 0.02023121, 0.00346821, 0.00115607])"
            ]
          },
          "metadata": {},
          "execution_count": 31
        }
      ]
    },
    {
      "cell_type": "code",
      "metadata": {
        "id": "-_u0mAAHdFp4"
      },
      "source": [
        "miracle5=df_ROI[df_ROI[\"ROI1\"]>=0.05].count()[\"ROI1\"]\n",
        "miracle10=df_ROI[df_ROI[\"ROI1\"]>=0.1].count()[\"ROI1\"]\n",
        "miracle20=df_ROI[df_ROI[\"ROI1\"]>=0.2].count()[\"ROI1\"]\n",
        "miracle30=df_ROI[df_ROI[\"ROI1\"]>=0.3].count()[\"ROI1\"]"
      ],
      "execution_count": null,
      "outputs": []
    },
    {
      "cell_type": "code",
      "metadata": {
        "colab": {
          "base_uri": "https://localhost:8080/"
        },
        "id": "23vAFw9YdlI5",
        "outputId": "793ddb6e-bfd3-4518-fc1a-ea9626f2cd1f"
      },
      "source": [
        "[miracle5, miracle10,miracle20, miracle30]"
      ],
      "execution_count": null,
      "outputs": [
        {
          "output_type": "execute_result",
          "data": {
            "text/plain": [
              "[309, 96, 16, 4]"
            ]
          },
          "metadata": {},
          "execution_count": 33
        }
      ]
    },
    {
      "cell_type": "code",
      "metadata": {
        "colab": {
          "base_uri": "https://localhost:8080/"
        },
        "id": "vhozjegwdpq7",
        "outputId": "4e5f126a-ede6-44cb-d02b-ced84b8f4b0e"
      },
      "source": [
        "[miracle5, miracle10,miracle20, miracle30]/df_ROI['ROI1'].count()"
      ],
      "execution_count": null,
      "outputs": [
        {
          "output_type": "execute_result",
          "data": {
            "text/plain": [
              "array([0.08930636, 0.02774566, 0.00462428, 0.00115607])"
            ]
          },
          "metadata": {},
          "execution_count": 34
        }
      ]
    },
    {
      "cell_type": "code",
      "metadata": {
        "colab": {
          "base_uri": "https://localhost:8080/"
        },
        "id": "ZgJ_Lyn7gN7g",
        "outputId": "1d95a31d-9215-4cc3-a3d8-a88fb0e1f11a"
      },
      "source": [
        "df_ROI[df_ROI[\"ROI1\"]>=0].count()[\"ROI1\"]/df[\"ROI1\"].count()"
      ],
      "execution_count": null,
      "outputs": [
        {
          "output_type": "execute_result",
          "data": {
            "text/plain": [
              "0.49227546478135636"
            ]
          },
          "metadata": {},
          "execution_count": 36
        }
      ]
    },
    {
      "cell_type": "code",
      "metadata": {
        "colab": {
          "base_uri": "https://localhost:8080/"
        },
        "id": "dkNw19tfgXdy",
        "outputId": "12ae903c-c671-4307-f5a8-60f61ab20495"
      },
      "source": [
        "df_ROI[df_ROI[\"ROI7\"]>=0].count()[\"ROI7\"]/df[\"ROI7\"].count()"
      ],
      "execution_count": null,
      "outputs": [
        {
          "output_type": "execute_result",
          "data": {
            "text/plain": [
              "0.5145554681353265"
            ]
          },
          "metadata": {},
          "execution_count": 37
        }
      ]
    },
    {
      "cell_type": "code",
      "metadata": {
        "colab": {
          "base_uri": "https://localhost:8080/"
        },
        "id": "DNQB2nxggadh",
        "outputId": "b1bfe247-b2a2-4e1a-c34d-d9558c7bcc9f"
      },
      "source": [
        "df_ROI[df_ROI[\"ROI30\"]>=0].count()[\"ROI7\"]/df[\"ROI7\"].count()"
      ],
      "execution_count": null,
      "outputs": [
        {
          "output_type": "execute_result",
          "data": {
            "text/plain": [
              "0.5234723314975085"
            ]
          },
          "metadata": {},
          "execution_count": 38
        }
      ]
    },
    {
      "cell_type": "code",
      "metadata": {
        "colab": {
          "base_uri": "https://localhost:8080/"
        },
        "id": "q-mA17cJgcuy",
        "outputId": "d7cb690e-98ab-4ab4-956f-d73197e6745e"
      },
      "source": [
        "df_ROI[df_ROI[\"ROI90\"]>=0].count()[\"ROI7\"]/df[\"ROI7\"].count()"
      ],
      "execution_count": null,
      "outputs": [
        {
          "output_type": "execute_result",
          "data": {
            "text/plain": [
              "0.5654340414371886"
            ]
          },
          "metadata": {},
          "execution_count": 39
        }
      ]
    },
    {
      "cell_type": "code",
      "metadata": {
        "colab": {
          "base_uri": "https://localhost:8080/"
        },
        "id": "NoGmBdz5gd_h",
        "outputId": "181c1e01-1a6e-4369-8590-126875383505"
      },
      "source": [
        "df_ROI[df_ROI[\"ROI180\"]>=0].count()[\"ROI7\"]/df[\"ROI7\"].count()"
      ],
      "execution_count": null,
      "outputs": [
        {
          "output_type": "execute_result",
          "data": {
            "text/plain": [
              "0.6060844479412536"
            ]
          },
          "metadata": {},
          "execution_count": 40
        }
      ]
    },
    {
      "cell_type": "code",
      "metadata": {
        "colab": {
          "base_uri": "https://localhost:8080/"
        },
        "id": "v0xkJn7lgf8O",
        "outputId": "b20aa016-c563-4b3a-bb61-a596161d68ae"
      },
      "source": [
        "df_ROI[df_ROI[\"ROI360\"]>=0].count()[\"ROI7\"]/df[\"ROI7\"].count()"
      ],
      "execution_count": null,
      "outputs": [
        {
          "output_type": "execute_result",
          "data": {
            "text/plain": [
              "0.7149226330972988"
            ]
          },
          "metadata": {},
          "execution_count": 41
        }
      ]
    },
    {
      "cell_type": "markdown",
      "metadata": {
        "id": "Q2fSREFrfMg1"
      },
      "source": [
        "# Cryptocurrency Value Ratios"
      ]
    },
    {
      "cell_type": "code",
      "metadata": {
        "id": "dAy_mE-LfR5O"
      },
      "source": [
        "df[\"Past100\"]=-df[\"PriceUSD\"].pct_change(700)"
      ],
      "execution_count": null,
      "outputs": []
    },
    {
      "cell_type": "code",
      "metadata": {
        "id": "sHe1escSg93p"
      },
      "source": [
        "df[\"AMR\"] = df[\"AdrActCnt\"]/df[\"CapMrktCurUSD\"]"
      ],
      "execution_count": null,
      "outputs": []
    },
    {
      "cell_type": "code",
      "metadata": {
        "id": "zjBh5xxmhgJN"
      },
      "source": [
        "df['TMR'] = df[\"TxTfrValAdjUSD\"]/df[\"CapMrktCurUSD\"]"
      ],
      "execution_count": null,
      "outputs": []
    },
    {
      "cell_type": "code",
      "metadata": {
        "id": "3deBsMUZjmGh"
      },
      "source": [
        "df['PMR'] = df['TxTfrCnt']/df[\"CapMrktCurUSD\"]"
      ],
      "execution_count": null,
      "outputs": []
    },
    {
      "cell_type": "code",
      "metadata": {
        "id": "Nxw0dKyZj31f"
      },
      "source": [
        "df['EPR'] =1/df[\"P/E Ratio\"]"
      ],
      "execution_count": null,
      "outputs": []
    },
    {
      "cell_type": "code",
      "metadata": {
        "id": "vcKlcB32j_-L"
      },
      "source": [
        "df['TVN']=1/df['NVTAdj90']"
      ],
      "execution_count": null,
      "outputs": []
    },
    {
      "cell_type": "code",
      "metadata": {
        "id": "o9aHi8WekOLW"
      },
      "source": [
        "df[\"MPR\"]=1/df['PM']"
      ],
      "execution_count": null,
      "outputs": []
    },
    {
      "cell_type": "code",
      "metadata": {
        "id": "f-xw8WAikX6R"
      },
      "source": [
        "df['UPR']=1/df[\"PU Ratio\"]"
      ],
      "execution_count": null,
      "outputs": []
    },
    {
      "cell_type": "code",
      "metadata": {
        "id": "rsuxHTHEkbmO"
      },
      "source": [
        "columns_Ratio = [\"Past100\",\"AMR\",'TMR','PMR','EPR','TVN',\"MPR\",'UPR']"
      ],
      "execution_count": null,
      "outputs": []
    },
    {
      "cell_type": "code",
      "metadata": {
        "id": "nDCrGYQZknu8",
        "colab": {
          "base_uri": "https://localhost:8080/"
        },
        "outputId": "7f7dd265-e965-4857-9f9d-de6351659226"
      },
      "source": [
        "df_Ratio =df[columns_Ratio]\n",
        "df_Ratio.head()"
      ],
      "execution_count": null,
      "outputs": [
        {
          "output_type": "execute_result",
          "data": {
            "text/html": [
              "<div>\n",
              "<style scoped>\n",
              "    .dataframe tbody tr th:only-of-type {\n",
              "        vertical-align: middle;\n",
              "    }\n",
              "\n",
              "    .dataframe tbody tr th {\n",
              "        vertical-align: top;\n",
              "    }\n",
              "\n",
              "    .dataframe thead th {\n",
              "        text-align: right;\n",
              "    }\n",
              "</style>\n",
              "<table border=\"1\" class=\"dataframe\">\n",
              "  <thead>\n",
              "    <tr style=\"text-align: right;\">\n",
              "      <th></th>\n",
              "      <th>Past100</th>\n",
              "      <th>AMR</th>\n",
              "      <th>TMR</th>\n",
              "      <th>PMR</th>\n",
              "      <th>EPR</th>\n",
              "      <th>TVN</th>\n",
              "      <th>MPR</th>\n",
              "      <th>UPR</th>\n",
              "    </tr>\n",
              "  </thead>\n",
              "  <tbody>\n",
              "    <tr>\n",
              "      <th>2009-01-03</th>\n",
              "      <td>nan</td>\n",
              "      <td>nan</td>\n",
              "      <td>nan</td>\n",
              "      <td>nan</td>\n",
              "      <td>nan</td>\n",
              "      <td>nan</td>\n",
              "      <td>nan</td>\n",
              "      <td>nan</td>\n",
              "    </tr>\n",
              "    <tr>\n",
              "      <th>2009-01-04</th>\n",
              "      <td>nan</td>\n",
              "      <td>nan</td>\n",
              "      <td>nan</td>\n",
              "      <td>nan</td>\n",
              "      <td>nan</td>\n",
              "      <td>nan</td>\n",
              "      <td>nan</td>\n",
              "      <td>nan</td>\n",
              "    </tr>\n",
              "    <tr>\n",
              "      <th>2009-01-05</th>\n",
              "      <td>nan</td>\n",
              "      <td>nan</td>\n",
              "      <td>nan</td>\n",
              "      <td>nan</td>\n",
              "      <td>nan</td>\n",
              "      <td>nan</td>\n",
              "      <td>nan</td>\n",
              "      <td>nan</td>\n",
              "    </tr>\n",
              "    <tr>\n",
              "      <th>2009-01-06</th>\n",
              "      <td>nan</td>\n",
              "      <td>nan</td>\n",
              "      <td>nan</td>\n",
              "      <td>nan</td>\n",
              "      <td>nan</td>\n",
              "      <td>nan</td>\n",
              "      <td>nan</td>\n",
              "      <td>nan</td>\n",
              "    </tr>\n",
              "    <tr>\n",
              "      <th>2009-01-07</th>\n",
              "      <td>nan</td>\n",
              "      <td>nan</td>\n",
              "      <td>nan</td>\n",
              "      <td>nan</td>\n",
              "      <td>nan</td>\n",
              "      <td>nan</td>\n",
              "      <td>nan</td>\n",
              "      <td>nan</td>\n",
              "    </tr>\n",
              "  </tbody>\n",
              "</table>\n",
              "</div>"
            ],
            "text/plain": [
              "            Past100  AMR  TMR  PMR  EPR  TVN  MPR  UPR\n",
              "2009-01-03      nan  nan  nan  nan  nan  nan  nan  nan\n",
              "2009-01-04      nan  nan  nan  nan  nan  nan  nan  nan\n",
              "2009-01-05      nan  nan  nan  nan  nan  nan  nan  nan\n",
              "2009-01-06      nan  nan  nan  nan  nan  nan  nan  nan\n",
              "2009-01-07      nan  nan  nan  nan  nan  nan  nan  nan"
            ]
          },
          "metadata": {},
          "execution_count": 111
        }
      ]
    },
    {
      "cell_type": "code",
      "metadata": {
        "id": "VAnw47D8l8IP",
        "colab": {
          "base_uri": "https://localhost:8080/"
        },
        "outputId": "f91941c8-4df8-42b3-9dcd-190ad77c1792"
      },
      "source": [
        "df_Ratio = df_Ratio.dropna()\n",
        "df_Ratio.head()"
      ],
      "execution_count": null,
      "outputs": [
        {
          "output_type": "execute_result",
          "data": {
            "text/html": [
              "<div>\n",
              "<style scoped>\n",
              "    .dataframe tbody tr th:only-of-type {\n",
              "        vertical-align: middle;\n",
              "    }\n",
              "\n",
              "    .dataframe tbody tr th {\n",
              "        vertical-align: top;\n",
              "    }\n",
              "\n",
              "    .dataframe thead th {\n",
              "        text-align: right;\n",
              "    }\n",
              "</style>\n",
              "<table border=\"1\" class=\"dataframe\">\n",
              "  <thead>\n",
              "    <tr style=\"text-align: right;\">\n",
              "      <th></th>\n",
              "      <th>Past100</th>\n",
              "      <th>AMR</th>\n",
              "      <th>TMR</th>\n",
              "      <th>PMR</th>\n",
              "      <th>EPR</th>\n",
              "      <th>TVN</th>\n",
              "      <th>MPR</th>\n",
              "      <th>UPR</th>\n",
              "    </tr>\n",
              "  </thead>\n",
              "  <tbody>\n",
              "    <tr>\n",
              "      <th>2012-06-17</th>\n",
              "      <td>-71.2270</td>\n",
              "      <td>0.0007</td>\n",
              "      <td>0.0297</td>\n",
              "      <td>0.0017</td>\n",
              "      <td>0.3245</td>\n",
              "      <td>0.0226</td>\n",
              "      <td>2.5450</td>\n",
              "      <td>0.5313</td>\n",
              "    </tr>\n",
              "    <tr>\n",
              "      <th>2012-06-18</th>\n",
              "      <td>-77.1045</td>\n",
              "      <td>0.0006</td>\n",
              "      <td>0.0322</td>\n",
              "      <td>0.0014</td>\n",
              "      <td>0.3459</td>\n",
              "      <td>0.0224</td>\n",
              "      <td>2.1455</td>\n",
              "      <td>0.5155</td>\n",
              "    </tr>\n",
              "    <tr>\n",
              "      <th>2012-06-19</th>\n",
              "      <td>-85.9039</td>\n",
              "      <td>0.0006</td>\n",
              "      <td>0.0365</td>\n",
              "      <td>0.0013</td>\n",
              "      <td>0.2905</td>\n",
              "      <td>0.0219</td>\n",
              "      <td>2.0391</td>\n",
              "      <td>0.4916</td>\n",
              "    </tr>\n",
              "    <tr>\n",
              "      <th>2012-06-20</th>\n",
              "      <td>-83.5222</td>\n",
              "      <td>0.0005</td>\n",
              "      <td>0.0400</td>\n",
              "      <td>0.0012</td>\n",
              "      <td>0.2862</td>\n",
              "      <td>0.0215</td>\n",
              "      <td>1.6022</td>\n",
              "      <td>0.4686</td>\n",
              "    </tr>\n",
              "    <tr>\n",
              "      <th>2012-06-21</th>\n",
              "      <td>-113.1148</td>\n",
              "      <td>0.0005</td>\n",
              "      <td>0.0285</td>\n",
              "      <td>0.0010</td>\n",
              "      <td>0.2686</td>\n",
              "      <td>0.0218</td>\n",
              "      <td>1.3094</td>\n",
              "      <td>0.4751</td>\n",
              "    </tr>\n",
              "  </tbody>\n",
              "</table>\n",
              "</div>"
            ],
            "text/plain": [
              "             Past100    AMR    TMR    PMR    EPR    TVN    MPR    UPR\n",
              "2012-06-17  -71.2270 0.0007 0.0297 0.0017 0.3245 0.0226 2.5450 0.5313\n",
              "2012-06-18  -77.1045 0.0006 0.0322 0.0014 0.3459 0.0224 2.1455 0.5155\n",
              "2012-06-19  -85.9039 0.0006 0.0365 0.0013 0.2905 0.0219 2.0391 0.4916\n",
              "2012-06-20  -83.5222 0.0005 0.0400 0.0012 0.2862 0.0215 1.6022 0.4686\n",
              "2012-06-21 -113.1148 0.0005 0.0285 0.0010 0.2686 0.0218 1.3094 0.4751"
            ]
          },
          "metadata": {},
          "execution_count": 112
        }
      ]
    },
    {
      "cell_type": "markdown",
      "metadata": {
        "id": "wiO58pjdk9A3"
      },
      "source": [
        "# first principal component\n",
        "\n",
        "https://scikit-learn.org/stable/auto_examples/cross_decomposition/plot_pcr_vs_pls.html"
      ]
    },
    {
      "cell_type": "code",
      "metadata": {
        "id": "C3S3EJZYkql4"
      },
      "source": [
        "import numpy as np\n",
        "import matplotlib.pyplot as plt\n",
        "from sklearn.decomposition import PCA\n",
        "from sklearn import preprocessing"
      ],
      "execution_count": null,
      "outputs": []
    },
    {
      "cell_type": "code",
      "metadata": {
        "id": "QZDGtRLs1Ggu"
      },
      "source": [
        "scaler = preprocessing.MinMaxScaler()\n",
        "min_max_scaler = preprocessing.MinMaxScaler()"
      ],
      "execution_count": null,
      "outputs": []
    },
    {
      "cell_type": "code",
      "metadata": {
        "colab": {
          "base_uri": "https://localhost:8080/"
        },
        "id": "aOTNEHj22udr",
        "outputId": "1f8f71d3-8c27-4a6c-9d09-1e043a79bd75"
      },
      "source": [
        "scaled_df_Ratio = pd.DataFrame(min_max_scaler.fit_transform(df_Ratio), columns=df_Ratio.columns, index=df_Ratio.index)\n",
        "scaled_df_Ratio.head()"
      ],
      "execution_count": null,
      "outputs": [
        {
          "output_type": "execute_result",
          "data": {
            "text/html": [
              "<div>\n",
              "<style scoped>\n",
              "    .dataframe tbody tr th:only-of-type {\n",
              "        vertical-align: middle;\n",
              "    }\n",
              "\n",
              "    .dataframe tbody tr th {\n",
              "        vertical-align: top;\n",
              "    }\n",
              "\n",
              "    .dataframe thead th {\n",
              "        text-align: right;\n",
              "    }\n",
              "</style>\n",
              "<table border=\"1\" class=\"dataframe\">\n",
              "  <thead>\n",
              "    <tr style=\"text-align: right;\">\n",
              "      <th></th>\n",
              "      <th>Past100</th>\n",
              "      <th>AMR</th>\n",
              "      <th>TMR</th>\n",
              "      <th>PMR</th>\n",
              "      <th>EPR</th>\n",
              "      <th>TVN</th>\n",
              "      <th>MPR</th>\n",
              "      <th>UPR</th>\n",
              "    </tr>\n",
              "  </thead>\n",
              "  <tbody>\n",
              "    <tr>\n",
              "      <th>2012-06-17</th>\n",
              "      <td>0.7249</td>\n",
              "      <td>0.9112</td>\n",
              "      <td>0.2433</td>\n",
              "      <td>1.0000</td>\n",
              "      <td>0.9354</td>\n",
              "      <td>0.4158</td>\n",
              "      <td>0.1997</td>\n",
              "      <td>0.6279</td>\n",
              "    </tr>\n",
              "    <tr>\n",
              "      <th>2012-06-18</th>\n",
              "      <td>0.7025</td>\n",
              "      <td>0.8282</td>\n",
              "      <td>0.2683</td>\n",
              "      <td>0.8367</td>\n",
              "      <td>1.0000</td>\n",
              "      <td>0.4099</td>\n",
              "      <td>0.1668</td>\n",
              "      <td>0.6092</td>\n",
              "    </tr>\n",
              "    <tr>\n",
              "      <th>2012-06-19</th>\n",
              "      <td>0.6688</td>\n",
              "      <td>0.7952</td>\n",
              "      <td>0.3105</td>\n",
              "      <td>0.8080</td>\n",
              "      <td>0.8326</td>\n",
              "      <td>0.3990</td>\n",
              "      <td>0.1580</td>\n",
              "      <td>0.5808</td>\n",
              "    </tr>\n",
              "    <tr>\n",
              "      <th>2012-06-20</th>\n",
              "      <td>0.6779</td>\n",
              "      <td>0.6934</td>\n",
              "      <td>0.3444</td>\n",
              "      <td>0.7261</td>\n",
              "      <td>0.8196</td>\n",
              "      <td>0.3888</td>\n",
              "      <td>0.1220</td>\n",
              "      <td>0.5536</td>\n",
              "    </tr>\n",
              "    <tr>\n",
              "      <th>2012-06-21</th>\n",
              "      <td>0.5648</td>\n",
              "      <td>0.6272</td>\n",
              "      <td>0.2319</td>\n",
              "      <td>0.5862</td>\n",
              "      <td>0.7667</td>\n",
              "      <td>0.3948</td>\n",
              "      <td>0.0978</td>\n",
              "      <td>0.5613</td>\n",
              "    </tr>\n",
              "  </tbody>\n",
              "</table>\n",
              "</div>"
            ],
            "text/plain": [
              "            Past100    AMR    TMR    PMR    EPR    TVN    MPR    UPR\n",
              "2012-06-17   0.7249 0.9112 0.2433 1.0000 0.9354 0.4158 0.1997 0.6279\n",
              "2012-06-18   0.7025 0.8282 0.2683 0.8367 1.0000 0.4099 0.1668 0.6092\n",
              "2012-06-19   0.6688 0.7952 0.3105 0.8080 0.8326 0.3990 0.1580 0.5808\n",
              "2012-06-20   0.6779 0.6934 0.3444 0.7261 0.8196 0.3888 0.1220 0.5536\n",
              "2012-06-21   0.5648 0.6272 0.2319 0.5862 0.7667 0.3948 0.0978 0.5613"
            ]
          },
          "metadata": {},
          "execution_count": 115
        }
      ]
    },
    {
      "cell_type": "code",
      "metadata": {
        "id": "KsPx2u1PlDml"
      },
      "source": [
        "scaled_df_Ratio[\"PC_ratios\"] = PCA(n_components=1).fit_transform(scaled_df_Ratio)"
      ],
      "execution_count": null,
      "outputs": []
    },
    {
      "cell_type": "code",
      "metadata": {
        "colab": {
          "base_uri": "https://localhost:8080/"
        },
        "id": "_j7kkWI5ocDB",
        "outputId": "b7bf42d0-611a-4af8-d459-193d9337d4ac"
      },
      "source": [
        "scaled_df_Ratio.corr()"
      ],
      "execution_count": null,
      "outputs": [
        {
          "output_type": "execute_result",
          "data": {
            "text/html": [
              "<div>\n",
              "<style scoped>\n",
              "    .dataframe tbody tr th:only-of-type {\n",
              "        vertical-align: middle;\n",
              "    }\n",
              "\n",
              "    .dataframe tbody tr th {\n",
              "        vertical-align: top;\n",
              "    }\n",
              "\n",
              "    .dataframe thead th {\n",
              "        text-align: right;\n",
              "    }\n",
              "</style>\n",
              "<table border=\"1\" class=\"dataframe\">\n",
              "  <thead>\n",
              "    <tr style=\"text-align: right;\">\n",
              "      <th></th>\n",
              "      <th>Past100</th>\n",
              "      <th>AMR</th>\n",
              "      <th>TMR</th>\n",
              "      <th>PMR</th>\n",
              "      <th>EPR</th>\n",
              "      <th>TVN</th>\n",
              "      <th>MPR</th>\n",
              "      <th>UPR</th>\n",
              "      <th>PC_ratios</th>\n",
              "    </tr>\n",
              "  </thead>\n",
              "  <tbody>\n",
              "    <tr>\n",
              "      <th>Past100</th>\n",
              "      <td>1.0000</td>\n",
              "      <td>-0.3930</td>\n",
              "      <td>-0.1559</td>\n",
              "      <td>-0.3949</td>\n",
              "      <td>-0.6487</td>\n",
              "      <td>-0.0300</td>\n",
              "      <td>0.2995</td>\n",
              "      <td>-0.2310</td>\n",
              "      <td>-0.5459</td>\n",
              "    </tr>\n",
              "    <tr>\n",
              "      <th>AMR</th>\n",
              "      <td>-0.3930</td>\n",
              "      <td>1.0000</td>\n",
              "      <td>0.4830</td>\n",
              "      <td>0.9757</td>\n",
              "      <td>0.8081</td>\n",
              "      <td>0.4153</td>\n",
              "      <td>0.1655</td>\n",
              "      <td>0.8822</td>\n",
              "      <td>0.9356</td>\n",
              "    </tr>\n",
              "    <tr>\n",
              "      <th>TMR</th>\n",
              "      <td>-0.1559</td>\n",
              "      <td>0.4830</td>\n",
              "      <td>1.0000</td>\n",
              "      <td>0.4469</td>\n",
              "      <td>0.3863</td>\n",
              "      <td>0.4788</td>\n",
              "      <td>0.4131</td>\n",
              "      <td>0.3994</td>\n",
              "      <td>0.5509</td>\n",
              "    </tr>\n",
              "    <tr>\n",
              "      <th>PMR</th>\n",
              "      <td>-0.3949</td>\n",
              "      <td>0.9757</td>\n",
              "      <td>0.4469</td>\n",
              "      <td>1.0000</td>\n",
              "      <td>0.7830</td>\n",
              "      <td>0.3710</td>\n",
              "      <td>0.0708</td>\n",
              "      <td>0.8947</td>\n",
              "      <td>0.9146</td>\n",
              "    </tr>\n",
              "    <tr>\n",
              "      <th>EPR</th>\n",
              "      <td>-0.6487</td>\n",
              "      <td>0.8081</td>\n",
              "      <td>0.3863</td>\n",
              "      <td>0.7830</td>\n",
              "      <td>1.0000</td>\n",
              "      <td>0.3704</td>\n",
              "      <td>-0.0157</td>\n",
              "      <td>0.6206</td>\n",
              "      <td>0.9094</td>\n",
              "    </tr>\n",
              "    <tr>\n",
              "      <th>TVN</th>\n",
              "      <td>-0.0300</td>\n",
              "      <td>0.4153</td>\n",
              "      <td>0.4788</td>\n",
              "      <td>0.3710</td>\n",
              "      <td>0.3704</td>\n",
              "      <td>1.0000</td>\n",
              "      <td>0.4092</td>\n",
              "      <td>0.4166</td>\n",
              "      <td>0.5771</td>\n",
              "    </tr>\n",
              "    <tr>\n",
              "      <th>MPR</th>\n",
              "      <td>0.2995</td>\n",
              "      <td>0.1655</td>\n",
              "      <td>0.4131</td>\n",
              "      <td>0.0708</td>\n",
              "      <td>-0.0157</td>\n",
              "      <td>0.4092</td>\n",
              "      <td>1.0000</td>\n",
              "      <td>0.0473</td>\n",
              "      <td>0.1330</td>\n",
              "    </tr>\n",
              "    <tr>\n",
              "      <th>UPR</th>\n",
              "      <td>-0.2310</td>\n",
              "      <td>0.8822</td>\n",
              "      <td>0.3994</td>\n",
              "      <td>0.8947</td>\n",
              "      <td>0.6206</td>\n",
              "      <td>0.4166</td>\n",
              "      <td>0.0473</td>\n",
              "      <td>1.0000</td>\n",
              "      <td>0.8324</td>\n",
              "    </tr>\n",
              "    <tr>\n",
              "      <th>PC_ratios</th>\n",
              "      <td>-0.5459</td>\n",
              "      <td>0.9356</td>\n",
              "      <td>0.5509</td>\n",
              "      <td>0.9146</td>\n",
              "      <td>0.9094</td>\n",
              "      <td>0.5771</td>\n",
              "      <td>0.1330</td>\n",
              "      <td>0.8324</td>\n",
              "      <td>1.0000</td>\n",
              "    </tr>\n",
              "  </tbody>\n",
              "</table>\n",
              "</div>"
            ],
            "text/plain": [
              "           Past100     AMR     TMR     PMR     EPR     TVN     MPR     UPR  \\\n",
              "Past100     1.0000 -0.3930 -0.1559 -0.3949 -0.6487 -0.0300  0.2995 -0.2310   \n",
              "AMR        -0.3930  1.0000  0.4830  0.9757  0.8081  0.4153  0.1655  0.8822   \n",
              "TMR        -0.1559  0.4830  1.0000  0.4469  0.3863  0.4788  0.4131  0.3994   \n",
              "PMR        -0.3949  0.9757  0.4469  1.0000  0.7830  0.3710  0.0708  0.8947   \n",
              "EPR        -0.6487  0.8081  0.3863  0.7830  1.0000  0.3704 -0.0157  0.6206   \n",
              "TVN        -0.0300  0.4153  0.4788  0.3710  0.3704  1.0000  0.4092  0.4166   \n",
              "MPR         0.2995  0.1655  0.4131  0.0708 -0.0157  0.4092  1.0000  0.0473   \n",
              "UPR        -0.2310  0.8822  0.3994  0.8947  0.6206  0.4166  0.0473  1.0000   \n",
              "PC_ratios  -0.5459  0.9356  0.5509  0.9146  0.9094  0.5771  0.1330  0.8324   \n",
              "\n",
              "           PC_ratios  \n",
              "Past100      -0.5459  \n",
              "AMR           0.9356  \n",
              "TMR           0.5509  \n",
              "PMR           0.9146  \n",
              "EPR           0.9094  \n",
              "TVN           0.5771  \n",
              "MPR           0.1330  \n",
              "UPR           0.8324  \n",
              "PC_ratios     1.0000  "
            ]
          },
          "metadata": {},
          "execution_count": 117
        }
      ]
    },
    {
      "cell_type": "code",
      "metadata": {
        "id": "11Xs20RXmApl",
        "colab": {
          "base_uri": "https://localhost:8080/"
        },
        "outputId": "72bd9ff6-7b19-459f-b9ca-0e2fcb3bcc21"
      },
      "source": [
        "import seaborn as sns\n",
        "import matplotlib.pyplot as plt\n",
        "# Increase the size of the heatmap.\n",
        "plt.figure(figsize=(18, 8))\n",
        "#triangle\n",
        "import numpy as np\n",
        "mask = np.triu(np.ones_like(scaled_df_Ratio.corr(), dtype=np.bool))\n",
        "fig, ax = plt.subplots(figsize=(16,9))\n",
        "ax = sns.heatmap(scaled_df_Ratio.corr(), mask=mask, vmin=-1, vmax=1, annot=True, cmap='YlGnBu') #control colors: https://www.python-graph-gallery.com/92-control-color-in-seaborn-heatmaps/#:~:text=You%20can%20customize%20the%20colors,heatmap()%20function%20in%20seaborn.&text=It%20is%20also%20possible%20to,vmin%20parameters%20in%20the%20function.\n",
        "ax.set_title('Triangle Correlation Heatmap: Network Features', fontdict={'fontsize':18}, pad=16);"
      ],
      "execution_count": null,
      "outputs": [
        {
          "output_type": "display_data",
          "data": {
            "text/plain": [
              "<Figure size 1296x576 with 0 Axes>"
            ]
          },
          "metadata": {}
        },
        {
          "output_type": "display_data",
          "data": {
            "image/png": "[encoded data removed]",
            "text/plain": [
              "<Figure size 1152x648 with 2 Axes>"
            ]
          },
          "metadata": {}
        }
      ]
    },
    {
      "cell_type": "code",
      "metadata": {
        "id": "44__7YGXkogo"
      },
      "source": [
        "fig.savefig('heatmap_nocbar.png')"
      ],
      "execution_count": null,
      "outputs": []
    },
    {
      "cell_type": "markdown",
      "metadata": {
        "id": "lgS50L_Niz1O"
      },
      "source": [
        "# Regressions"
      ]
    },
    {
      "cell_type": "code",
      "metadata": {
        "id": "__86ICZ4qaHh"
      },
      "source": [
        "import statsmodels.api as sm\n",
        "import statsmodels.formula.api as smf"
      ],
      "execution_count": null,
      "outputs": []
    },
    {
      "cell_type": "code",
      "metadata": {
        "colab": {
          "base_uri": "https://localhost:8080/",
          "height": 204
        },
        "id": "7bng0DGSuIfu",
        "outputId": "516d2f85-e654-403a-807d-7fda72eb1268"
      },
      "source": [
        "df_Regression=df[columns_ROI].merge(scaled_df_Ratio, left_index=True, right_index=True)\n",
        "df_Regression.head()"
      ],
      "execution_count": null,
      "outputs": [
        {
          "output_type": "execute_result",
          "data": {
            "text/html": [
              "<div>\n",
              "<style scoped>\n",
              "    .dataframe tbody tr th:only-of-type {\n",
              "        vertical-align: middle;\n",
              "    }\n",
              "\n",
              "    .dataframe tbody tr th {\n",
              "        vertical-align: top;\n",
              "    }\n",
              "\n",
              "    .dataframe thead th {\n",
              "        text-align: right;\n",
              "    }\n",
              "</style>\n",
              "<table border=\"1\" class=\"dataframe\">\n",
              "  <thead>\n",
              "    <tr style=\"text-align: right;\">\n",
              "      <th></th>\n",
              "      <th>ROI1</th>\n",
              "      <th>ROI7</th>\n",
              "      <th>ROI30</th>\n",
              "      <th>ROI90</th>\n",
              "      <th>ROI180</th>\n",
              "      <th>ROI360</th>\n",
              "      <th>Past100</th>\n",
              "      <th>AMR</th>\n",
              "      <th>TMR</th>\n",
              "      <th>PMR</th>\n",
              "      <th>EPR</th>\n",
              "      <th>TVN</th>\n",
              "      <th>MPR</th>\n",
              "      <th>UPR</th>\n",
              "      <th>PC_ratios</th>\n",
              "    </tr>\n",
              "  </thead>\n",
              "  <tbody>\n",
              "    <tr>\n",
              "      <th>2012-06-17</th>\n",
              "      <td>-0.0379</td>\n",
              "      <td>0.1360</td>\n",
              "      <td>0.2113</td>\n",
              "      <td>0.3252</td>\n",
              "      <td>0.5686</td>\n",
              "      <td>-0.6459</td>\n",
              "      <td>0.7249</td>\n",
              "      <td>0.9112</td>\n",
              "      <td>0.2433</td>\n",
              "      <td>1.0000</td>\n",
              "      <td>0.9354</td>\n",
              "      <td>0.4158</td>\n",
              "      <td>0.1997</td>\n",
              "      <td>0.6279</td>\n",
              "      <td>1.3883</td>\n",
              "    </tr>\n",
              "    <tr>\n",
              "      <th>2012-06-18</th>\n",
              "      <td>0.0179</td>\n",
              "      <td>0.1296</td>\n",
              "      <td>0.2344</td>\n",
              "      <td>0.3064</td>\n",
              "      <td>0.6227</td>\n",
              "      <td>-0.6396</td>\n",
              "      <td>0.7025</td>\n",
              "      <td>0.8282</td>\n",
              "      <td>0.2683</td>\n",
              "      <td>0.8367</td>\n",
              "      <td>1.0000</td>\n",
              "      <td>0.4099</td>\n",
              "      <td>0.1668</td>\n",
              "      <td>0.6092</td>\n",
              "      <td>1.3381</td>\n",
              "    </tr>\n",
              "    <tr>\n",
              "      <th>2012-06-19</th>\n",
              "      <td>0.0292</td>\n",
              "      <td>0.1340</td>\n",
              "      <td>0.2749</td>\n",
              "      <td>0.3482</td>\n",
              "      <td>0.6640</td>\n",
              "      <td>-0.6291</td>\n",
              "      <td>0.6688</td>\n",
              "      <td>0.7952</td>\n",
              "      <td>0.3105</td>\n",
              "      <td>0.8080</td>\n",
              "      <td>0.8326</td>\n",
              "      <td>0.3990</td>\n",
              "      <td>0.1580</td>\n",
              "      <td>0.5808</td>\n",
              "      <td>1.2215</td>\n",
              "    </tr>\n",
              "    <tr>\n",
              "      <th>2012-06-20</th>\n",
              "      <td>0.0306</td>\n",
              "      <td>0.1327</td>\n",
              "      <td>0.3139</td>\n",
              "      <td>0.4152</td>\n",
              "      <td>0.6997</td>\n",
              "      <td>-0.5909</td>\n",
              "      <td>0.6779</td>\n",
              "      <td>0.6934</td>\n",
              "      <td>0.3444</td>\n",
              "      <td>0.7261</td>\n",
              "      <td>0.8196</td>\n",
              "      <td>0.3888</td>\n",
              "      <td>0.1220</td>\n",
              "      <td>0.5536</td>\n",
              "      <td>1.1335</td>\n",
              "    </tr>\n",
              "    <tr>\n",
              "      <th>2012-06-21</th>\n",
              "      <td>-0.0032</td>\n",
              "      <td>0.1191</td>\n",
              "      <td>0.3111</td>\n",
              "      <td>0.4222</td>\n",
              "      <td>0.6937</td>\n",
              "      <td>-0.6017</td>\n",
              "      <td>0.5648</td>\n",
              "      <td>0.6272</td>\n",
              "      <td>0.2319</td>\n",
              "      <td>0.5862</td>\n",
              "      <td>0.7667</td>\n",
              "      <td>0.3948</td>\n",
              "      <td>0.0978</td>\n",
              "      <td>0.5613</td>\n",
              "      <td>1.0456</td>\n",
              "    </tr>\n",
              "  </tbody>\n",
              "</table>\n",
              "</div>"
            ],
            "text/plain": [
              "              ROI1   ROI7  ROI30  ROI90  ROI180  ROI360  Past100    AMR  \\\n",
              "2012-06-17 -0.0379 0.1360 0.2113 0.3252  0.5686 -0.6459   0.7249 0.9112   \n",
              "2012-06-18  0.0179 0.1296 0.2344 0.3064  0.6227 -0.6396   0.7025 0.8282   \n",
              "2012-06-19  0.0292 0.1340 0.2749 0.3482  0.6640 -0.6291   0.6688 0.7952   \n",
              "2012-06-20  0.0306 0.1327 0.3139 0.4152  0.6997 -0.5909   0.6779 0.6934   \n",
              "2012-06-21 -0.0032 0.1191 0.3111 0.4222  0.6937 -0.6017   0.5648 0.6272   \n",
              "\n",
              "              TMR    PMR    EPR    TVN    MPR    UPR  PC_ratios  \n",
              "2012-06-17 0.2433 1.0000 0.9354 0.4158 0.1997 0.6279     1.3883  \n",
              "2012-06-18 0.2683 0.8367 1.0000 0.4099 0.1668 0.6092     1.3381  \n",
              "2012-06-19 0.3105 0.8080 0.8326 0.3990 0.1580 0.5808     1.2215  \n",
              "2012-06-20 0.3444 0.7261 0.8196 0.3888 0.1220 0.5536     1.1335  \n",
              "2012-06-21 0.2319 0.5862 0.7667 0.3948 0.0978 0.5613     1.0456  "
            ]
          },
          "metadata": {},
          "execution_count": 121
        }
      ]
    },
    {
      "cell_type": "code",
      "metadata": {
        "id": "NVvzcHnqqaZ7"
      },
      "source": [
        "df_Regression[\"ROI1_future\"] = df_Regression[\"ROI1\"].shift(-1)\n",
        "df_Regression[\"ROI7_future\"] = df_Regression[\"ROI7\"].shift(-7)\n",
        "df_Regression[\"ROI30_future\"] = df_Regression[\"ROI30\"].shift(-30)\n",
        "df_Regression[\"ROI90_future\"] = df_Regression[\"ROI90\"].shift(-90)\n",
        "df_Regression[\"ROI180_future\"] = df_Regression[\"ROI180\"].shift(-180)\n",
        "df_Regression[\"ROI360_future\"] = df_Regression[\"ROI360\"].shift(-360)"
      ],
      "execution_count": null,
      "outputs": []
    },
    {
      "cell_type": "code",
      "metadata": {
        "id": "niOCRUIg5hGt"
      },
      "source": [
        "columns_Ratio =columns_Ratio+[\"PC_ratios\"]"
      ],
      "execution_count": null,
      "outputs": []
    },
    {
      "cell_type": "code",
      "metadata": {
        "id": "HDO876DarzWR"
      },
      "source": [
        "df_Regression =df_Regression.dropna()"
      ],
      "execution_count": null,
      "outputs": []
    },
    {
      "cell_type": "code",
      "metadata": {
        "id": "j9CdQqfGlVRO"
      },
      "source": [
        "df_Regression.to_csv(\"regression.csv\")"
      ],
      "execution_count": null,
      "outputs": []
    },
    {
      "cell_type": "code",
      "metadata": {
        "colab": {
          "base_uri": "https://localhost:8080/"
        },
        "id": "B9jFen5qtJV9",
        "outputId": "0f54c230-7903-4c78-f2b9-7479dba72126"
      },
      "source": [
        "!pip install stargazer\n",
        "from stargazer.stargazer import Stargazer\n",
        "from IPython.core.display import HTML\n",
        "from IPython.core.display import Latex"
      ],
      "execution_count": null,
      "outputs": [
        {
          "output_type": "stream",
          "name": "stdout",
          "text": [
            "Requirement already satisfied: stargazer in /usr/local/lib/python3.7/dist-packages (0.0.5)\n"
          ]
        }
      ]
    },
    {
      "cell_type": "code",
      "metadata": {
        "id": "YrCs6KWHrktr"
      },
      "source": [
        "results1 = smf.ols('ROI7_future ~ 1+ Past100', data=df_Regression).fit(cov_type='HAC',cov_kwds={'maxlags':1})\n",
        "results2 = smf.ols('ROI7_future ~ 1+ AMR', data=df_Regression).fit(cov_type='HAC',cov_kwds={'maxlags':1})\n",
        "results3 = smf.ols('ROI7_future ~ 1+ TMR', data=df_Regression).fit(cov_type='HAC',cov_kwds={'maxlags':1})\n",
        "results4 = smf.ols('ROI7_future ~ 1+ PMR', data=df_Regression).fit(cov_type='HAC',cov_kwds={'maxlags':1})\n",
        "results5 = smf.ols('ROI7_future ~ 1+ EPR', data=df_Regression).fit(cov_type='HAC',cov_kwds={'maxlags':1})\n",
        "results6 = smf.ols('ROI7_future ~ 1+ TVN', data=df_Regression).fit(cov_type='HAC',cov_kwds={'maxlags':1})\n",
        "results7 = smf.ols('ROI7_future ~ 1+ MPR', data=df_Regression).fit(cov_type='HAC',cov_kwds={'maxlags':1})\n",
        "results8 = smf.ols('ROI7_future ~ 1+ UPR', data=df_Regression).fit(cov_type='HAC',cov_kwds={'maxlags':1})\n",
        "results9 = smf.ols('ROI7_future ~ 1+ PC_ratios', data=df_Regression).fit(cov_type='HAC',cov_kwds={'maxlags':1})"
      ],
      "execution_count": null,
      "outputs": []
    },
    {
      "cell_type": "code",
      "metadata": {
        "colab": {
          "base_uri": "https://localhost:8080/"
        },
        "id": "MG3o_0-xlzA0",
        "outputId": "4b89bea6-d6ac-4885-cbff-894275418f15"
      },
      "source": [
        "print(results1.summary())"
      ],
      "execution_count": null,
      "outputs": [
        {
          "output_type": "stream",
          "name": "stdout",
          "text": [
            "                            OLS Regression Results                            \n",
            "==============================================================================\n",
            "Dep. Variable:            ROI7_future   R-squared:                       0.002\n",
            "Model:                            OLS   Adj. R-squared:                  0.002\n",
            "Method:                 Least Squares   F-statistic:                     1.510\n",
            "Date:                Fri, 08 Oct 2021   Prob (F-statistic):              0.219\n",
            "Time:                        11:20:48   Log-Likelihood:                 1668.3\n",
            "No. Observations:                2760   AIC:                            -3333.\n",
            "Df Residuals:                    2758   BIC:                            -3321.\n",
            "Df Model:                           1                                         \n",
            "Covariance Type:                  HAC                                         \n",
            "==============================================================================\n",
            "                 coef    std err          z      P>|z|      [0.025      0.975]\n",
            "------------------------------------------------------------------------------\n",
            "Intercept      0.0585      0.028      2.115      0.034       0.004       0.113\n",
            "Past100       -0.0358      0.029     -1.229      0.219      -0.093       0.021\n",
            "==============================================================================\n",
            "Omnibus:                      963.916   Durbin-Watson:                   0.276\n",
            "Prob(Omnibus):                  0.000   Jarque-Bera (JB):             8296.044\n",
            "Skew:                           1.408   Prob(JB):                         0.00\n",
            "Kurtosis:                      11.013   Cond. No.                         11.4\n",
            "==============================================================================\n",
            "\n",
            "Warnings:\n",
            "[1] Standard Errors are heteroscedasticity and autocorrelation robust (HAC) using 1 lags and without small sample correction\n"
          ]
        }
      ]
    },
    {
      "cell_type": "code",
      "metadata": {
        "colab": {
          "base_uri": "https://localhost:8080/",
          "height": 681
        },
        "id": "GMaTAp26tPvR",
        "outputId": "fbc6a56b-94a4-427a-dcce-d0f1cc4982d4"
      },
      "source": [
        "stargazer_weekly = Stargazer([results1,results2,results3,results4,results5,results6,results7,results8,results9])\n",
        "stargazer_weekly.title('Prediction on Future 1-week return')\n",
        "stargazer_weekly.significant_digits(3)\n",
        "stargazer_weekly.covariate_order(columns_Ratio)\n",
        "HTML(stargazer_weekly.render_html())"
      ],
      "execution_count": null,
      "outputs": [
        {
          "output_type": "execute_result",
          "data": {
            "text/html": [
              "Prediction on Future 1-week return<br><table style=\"text-align:center\"><tr><td colspan=\"10\" style=\"border-bottom: 1px solid black\"></td></tr><tr><td style=\"text-align:left\"></td><td colspan=\"9\"><em>Dependent variable:ROI7_future</em></td></tr><tr><td style=\"text-align:left\"></td><tr><td style=\"text-align:left\"></td><td>(1)</td><td>(2)</td><td>(3)</td><td>(4)</td><td>(5)</td><td>(6)</td><td>(7)</td><td>(8)</td><td>(9)</td></tr><tr><td colspan=\"10\" style=\"border-bottom: 1px solid black\"></td></tr><tr><td style=\"text-align:left\">Past100</td><td>-0.036<sup></sup></td><td></td><td></td><td></td><td></td><td></td><td></td><td></td><td></td></tr><tr><td style=\"text-align:left\"></td><td>(0.029)</td><td></td><td></td><td></td><td></td><td></td><td></td><td></td><td></td></tr><tr><td style=\"text-align:left\">AMR</td><td></td><td>0.084<sup>***</sup></td><td></td><td></td><td></td><td></td><td></td><td></td><td></td></tr><tr><td style=\"text-align:left\"></td><td></td><td>(0.020)</td><td></td><td></td><td></td><td></td><td></td><td></td><td></td></tr><tr><td style=\"text-align:left\">TMR</td><td></td><td></td><td>0.253<sup>***</sup></td><td></td><td></td><td></td><td></td><td></td><td></td></tr><tr><td style=\"text-align:left\"></td><td></td><td></td><td>(0.040)</td><td></td><td></td><td></td><td></td><td></td><td></td></tr><tr><td style=\"text-align:left\">PMR</td><td></td><td></td><td></td><td>0.102<sup>***</sup></td><td></td><td></td><td></td><td></td><td></td></tr><tr><td style=\"text-align:left\"></td><td></td><td></td><td></td><td>(0.025)</td><td></td><td></td><td></td><td></td><td></td></tr><tr><td style=\"text-align:left\">EPR</td><td></td><td></td><td></td><td></td><td>0.060<sup>***</sup></td><td></td><td></td><td></td><td></td></tr><tr><td style=\"text-align:left\"></td><td></td><td></td><td></td><td></td><td>(0.017)</td><td></td><td></td><td></td><td></td></tr><tr><td style=\"text-align:left\">TVN</td><td></td><td></td><td></td><td></td><td></td><td>0.032<sup></sup></td><td></td><td></td><td></td></tr><tr><td style=\"text-align:left\"></td><td></td><td></td><td></td><td></td><td></td><td>(0.025)</td><td></td><td></td><td></td></tr><tr><td style=\"text-align:left\">MPR</td><td></td><td></td><td></td><td></td><td></td><td></td><td>0.016<sup></sup></td><td></td><td></td></tr><tr><td style=\"text-align:left\"></td><td></td><td></td><td></td><td></td><td></td><td></td><td>(0.019)</td><td></td><td></td></tr><tr><td style=\"text-align:left\">UPR</td><td></td><td></td><td></td><td></td><td></td><td></td><td></td><td>0.071<sup>***</sup></td><td></td></tr><tr><td style=\"text-align:left\"></td><td></td><td></td><td></td><td></td><td></td><td></td><td></td><td>(0.015)</td><td></td></tr><tr><td style=\"text-align:left\">PC_ratios</td><td></td><td></td><td></td><td></td><td></td><td></td><td></td><td></td><td>0.045<sup>***</sup></td></tr><tr><td style=\"text-align:left\"></td><td></td><td></td><td></td><td></td><td></td><td></td><td></td><td></td><td>(0.009)</td></tr><td colspan=\"10\" style=\"border-bottom: 1px solid black\"></td></tr><tr><td style=\"text-align: left\">Observations</td><td>2,760</td><td>2,760</td><td>2,760</td><td>2,760</td><td>2,760</td><td>2,760</td><td>2,760</td><td>2,760</td><td>2,760</td></tr><tr><td style=\"text-align: left\">R<sup>2</sup></td><td>0.002</td><td>0.007</td><td>0.039</td><td>0.007</td><td>0.007</td><td>0.002</td><td>0.000</td><td>0.007</td><td>0.010</td></tr><tr><td style=\"text-align: left\">Adjusted R<sup>2</sup></td><td>0.002</td><td>0.007</td><td>0.039</td><td>0.007</td><td>0.007</td><td>0.001</td><td>-0.000</td><td>0.007</td><td>0.010</td></tr><tr><td style=\"text-align: left\">Residual Std. Error</td><td>0.132 (df=2758)</td><td>0.132 (df=2758)</td><td>0.130 (df=2758)</td><td>0.132 (df=2758)</td><td>0.132 (df=2758)</td><td>0.132 (df=2758)</td><td>0.132 (df=2758)</td><td>0.132 (df=2758)</td><td>0.132 (df=2758)</td></tr><tr><td style=\"text-align: left\">F Statistic</td><td>1.510<sup></sup> (df=1; 2758)</td><td>17.881<sup>***</sup> (df=1; 2758)</td><td>39.622<sup>***</sup> (df=1; 2758)</td><td>17.406<sup>***</sup> (df=1; 2758)</td><td>12.411<sup>***</sup> (df=1; 2758)</td><td>1.737<sup></sup> (df=1; 2758)</td><td>0.714<sup></sup> (df=1; 2758)</td><td>23.190<sup>***</sup> (df=1; 2758)</td><td>26.118<sup>***</sup> (df=1; 2758)</td></tr><tr><td colspan=\"10\" style=\"border-bottom: 1px solid black\"></td></tr><tr><td style=\"text-align: left\">Note:</td>\n",
              " <td colspan=\"9\" style=\"text-align: right\">\n",
              "  <sup>*</sup>p&lt;0.1;\n",
              "  <sup>**</sup>p&lt;0.05;\n",
              "  <sup>***</sup>p&lt;0.01\n",
              " </td></tr></table>"
            ],
            "text/plain": [
              "<IPython.core.display.HTML object>"
            ]
          },
          "metadata": {},
          "execution_count": 144
        }
      ]
    },
    {
      "cell_type": "code",
      "metadata": {
        "id": "rdqpKSt7toq4"
      },
      "source": [
        "results1 = smf.ols('ROI30_future ~ 1+ Past100', data=df_Regression).fit(cov_type='HAC',cov_kwds={'maxlags':1})\n",
        "results2 = smf.ols('ROI30_future ~ 1+ AMR', data=df_Regression).fit(cov_type='HAC',cov_kwds={'maxlags':1})\n",
        "results3 = smf.ols('ROI30_future ~ 1+ TMR', data=df_Regression).fit(cov_type='HAC',cov_kwds={'maxlags':1})\n",
        "results4 = smf.ols('ROI30_future ~ 1+ PMR', data=df_Regression).fit(cov_type='HAC',cov_kwds={'maxlags':1})\n",
        "results5 = smf.ols('ROI30_future ~ 1+ EPR', data=df_Regression).fit(cov_type='HAC',cov_kwds={'maxlags':1})\n",
        "results6 = smf.ols('ROI30_future ~ 1+ TVN', data=df_Regression).fit(cov_type='HAC',cov_kwds={'maxlags':1})\n",
        "results7 = smf.ols('ROI30_future ~ 1+ MPR', data=df_Regression).fit(cov_type='HAC',cov_kwds={'maxlags':1})\n",
        "results8 = smf.ols('ROI30_future ~ 1+ UPR', data=df_Regression).fit(cov_type='HAC',cov_kwds={'maxlags':1})\n",
        "results9 = smf.ols('ROI30_future ~ 1+ PC_ratios', data=df_Regression).fit(cov_type='HAC',cov_kwds={'maxlags':1})"
      ],
      "execution_count": null,
      "outputs": []
    },
    {
      "cell_type": "code",
      "metadata": {
        "colab": {
          "base_uri": "https://localhost:8080/",
          "height": 681
        },
        "id": "kJq-OM31yV3_",
        "outputId": "f9b67e27-b77a-49b9-fb2c-0f2930fe7ebf"
      },
      "source": [
        "stargazer_weekly = Stargazer([results1,results2,results3,results4,results5,results6,results7,results8,results9])\n",
        "stargazer_weekly.title('Prediction on Future 1-week return')\n",
        "stargazer_weekly.significant_digits(3)\n",
        "stargazer_weekly.covariate_order(columns_Ratio)\n",
        "HTML(stargazer_weekly.render_html())"
      ],
      "execution_count": null,
      "outputs": [
        {
          "output_type": "execute_result",
          "data": {
            "text/html": [
              "Prediction on Future 1-week return<br><table style=\"text-align:center\"><tr><td colspan=\"10\" style=\"border-bottom: 1px solid black\"></td></tr><tr><td style=\"text-align:left\"></td><td colspan=\"9\"><em>Dependent variable:ROI30_future</em></td></tr><tr><td style=\"text-align:left\"></td><tr><td style=\"text-align:left\"></td><td>(1)</td><td>(2)</td><td>(3)</td><td>(4)</td><td>(5)</td><td>(6)</td><td>(7)</td><td>(8)</td><td>(9)</td></tr><tr><td colspan=\"10\" style=\"border-bottom: 1px solid black\"></td></tr><tr><td style=\"text-align:left\">Past100</td><td>-0.137<sup>*</sup></td><td></td><td></td><td></td><td></td><td></td><td></td><td></td><td></td></tr><tr><td style=\"text-align:left\"></td><td>(0.082)</td><td></td><td></td><td></td><td></td><td></td><td></td><td></td><td></td></tr><tr><td style=\"text-align:left\">AMR</td><td></td><td>0.448<sup>***</sup></td><td></td><td></td><td></td><td></td><td></td><td></td><td></td></tr><tr><td style=\"text-align:left\"></td><td></td><td>(0.063)</td><td></td><td></td><td></td><td></td><td></td><td></td><td></td></tr><tr><td style=\"text-align:left\">TMR</td><td></td><td></td><td>1.000<sup>***</sup></td><td></td><td></td><td></td><td></td><td></td><td></td></tr><tr><td style=\"text-align:left\"></td><td></td><td></td><td>(0.119)</td><td></td><td></td><td></td><td></td><td></td><td></td></tr><tr><td style=\"text-align:left\">PMR</td><td></td><td></td><td></td><td>0.614<sup>***</sup></td><td></td><td></td><td></td><td></td><td></td></tr><tr><td style=\"text-align:left\"></td><td></td><td></td><td></td><td>(0.087)</td><td></td><td></td><td></td><td></td><td></td></tr><tr><td style=\"text-align:left\">EPR</td><td></td><td></td><td></td><td></td><td>0.327<sup>***</sup></td><td></td><td></td><td></td><td></td></tr><tr><td style=\"text-align:left\"></td><td></td><td></td><td></td><td></td><td>(0.063)</td><td></td><td></td><td></td><td></td></tr><tr><td style=\"text-align:left\">TVN</td><td></td><td></td><td></td><td></td><td></td><td>0.144<sup>**</sup></td><td></td><td></td><td></td></tr><tr><td style=\"text-align:left\"></td><td></td><td></td><td></td><td></td><td></td><td>(0.067)</td><td></td><td></td><td></td></tr><tr><td style=\"text-align:left\">MPR</td><td></td><td></td><td></td><td></td><td></td><td></td><td>-0.021<sup></sup></td><td></td><td></td></tr><tr><td style=\"text-align:left\"></td><td></td><td></td><td></td><td></td><td></td><td></td><td>(0.066)</td><td></td><td></td></tr><tr><td style=\"text-align:left\">UPR</td><td></td><td></td><td></td><td></td><td></td><td></td><td></td><td>0.455<sup>***</sup></td><td></td></tr><tr><td style=\"text-align:left\"></td><td></td><td></td><td></td><td></td><td></td><td></td><td></td><td>(0.055)</td><td></td></tr><tr><td style=\"text-align:left\">PC_ratios</td><td></td><td></td><td></td><td></td><td></td><td></td><td></td><td></td><td>0.238<sup>***</sup></td></tr><tr><td style=\"text-align:left\"></td><td></td><td></td><td></td><td></td><td></td><td></td><td></td><td></td><td>(0.029)</td></tr><td colspan=\"10\" style=\"border-bottom: 1px solid black\"></td></tr><tr><td style=\"text-align: left\">Observations</td><td>2,760</td><td>2,760</td><td>2,760</td><td>2,760</td><td>2,760</td><td>2,760</td><td>2,760</td><td>2,760</td><td>2,760</td></tr><tr><td style=\"text-align: left\">R<sup>2</sup></td><td>0.002</td><td>0.017</td><td>0.052</td><td>0.022</td><td>0.018</td><td>0.003</td><td>0.000</td><td>0.026</td><td>0.025</td></tr><tr><td style=\"text-align: left\">Adjusted R<sup>2</sup></td><td>0.002</td><td>0.017</td><td>0.052</td><td>0.022</td><td>0.018</td><td>0.002</td><td>-0.000</td><td>0.025</td><td>0.024</td></tr><tr><td style=\"text-align: left\">Residual Std. Error</td><td>0.454 (df=2758)</td><td>0.451 (df=2758)</td><td>0.442 (df=2758)</td><td>0.449 (df=2758)</td><td>0.450 (df=2758)</td><td>0.454 (df=2758)</td><td>0.454 (df=2758)</td><td>0.449 (df=2758)</td><td>0.449 (df=2758)</td></tr><tr><td style=\"text-align: left\">F Statistic</td><td>2.767<sup>*</sup> (df=1; 2758)</td><td>50.343<sup>***</sup> (df=1; 2758)</td><td>70.071<sup>***</sup> (df=1; 2758)</td><td>49.955<sup>***</sup> (df=1; 2758)</td><td>26.651<sup>***</sup> (df=1; 2758)</td><td>4.664<sup>**</sup> (df=1; 2758)</td><td>0.103<sup></sup> (df=1; 2758)</td><td>67.975<sup>***</sup> (df=1; 2758)</td><td>66.692<sup>***</sup> (df=1; 2758)</td></tr><tr><td colspan=\"10\" style=\"border-bottom: 1px solid black\"></td></tr><tr><td style=\"text-align: left\">Note:</td>\n",
              " <td colspan=\"9\" style=\"text-align: right\">\n",
              "  <sup>*</sup>p&lt;0.1;\n",
              "  <sup>**</sup>p&lt;0.05;\n",
              "  <sup>***</sup>p&lt;0.01\n",
              " </td></tr></table>"
            ],
            "text/plain": [
              "<IPython.core.display.HTML object>"
            ]
          },
          "metadata": {},
          "execution_count": 155
        }
      ]
    },
    {
      "cell_type": "code",
      "metadata": {
        "colab": {
          "base_uri": "https://localhost:8080/"
        },
        "id": "vXh5JMbopJCQ",
        "outputId": "50b47804-1c33-45f4-9946-8bf1eb16583b"
      },
      "source": [
        "print(results9.summary())"
      ],
      "execution_count": null,
      "outputs": [
        {
          "output_type": "stream",
          "name": "stdout",
          "text": [
            "                            OLS Regression Results                            \n",
            "==============================================================================\n",
            "Dep. Variable:           ROI30_future   R-squared:                       0.025\n",
            "Model:                            OLS   Adj. R-squared:                  0.024\n",
            "Method:                 Least Squares   F-statistic:                     66.69\n",
            "Date:                Fri, 08 Oct 2021   Prob (F-statistic):           4.78e-16\n",
            "Time:                        11:25:13   Log-Likelihood:                -1704.4\n",
            "No. Observations:                2760   AIC:                             3413.\n",
            "Df Residuals:                    2758   BIC:                             3425.\n",
            "Df Model:                           1                                         \n",
            "Covariance Type:                  HAC                                         \n",
            "==============================================================================\n",
            "                 coef    std err          z      P>|z|      [0.025      0.975]\n",
            "------------------------------------------------------------------------------\n",
            "Intercept      0.1281      0.012     10.903      0.000       0.105       0.151\n",
            "PC_ratios      0.2380      0.029      8.166      0.000       0.181       0.295\n",
            "==============================================================================\n",
            "Omnibus:                     2547.202   Durbin-Watson:                   0.048\n",
            "Prob(Omnibus):                  0.000   Jarque-Bera (JB):           106031.397\n",
            "Skew:                           4.373   Prob(JB):                         0.00\n",
            "Kurtosis:                      32.078   Cond. No.                         3.34\n",
            "==============================================================================\n",
            "\n",
            "Warnings:\n",
            "[1] Standard Errors are heteroscedasticity and autocorrelation robust (HAC) using 1 lags and without small sample correction\n"
          ]
        }
      ]
    },
    {
      "cell_type": "code",
      "metadata": {
        "id": "x-K_rTfbyZMC"
      },
      "source": [
        "results1 = smf.ols('ROI90_future ~ 1+ Past100', data=df_Regression).fit(cov_type='HAC',cov_kwds={'maxlags':1})\n",
        "results2 = smf.ols('ROI90_future ~ 1+ AMR', data=df_Regression).fit(cov_type='HAC',cov_kwds={'maxlags':1})\n",
        "results3 = smf.ols('ROI90_future ~ 1+ TMR', data=df_Regression).fit(cov_type='HAC',cov_kwds={'maxlags':1})\n",
        "results4 = smf.ols('ROI90_future ~ 1+ PMR', data=df_Regression).fit(cov_type='HAC',cov_kwds={'maxlags':1})\n",
        "results5 = smf.ols('ROI90_future ~ 1+ EPR', data=df_Regression).fit(cov_type='HAC',cov_kwds={'maxlags':1})\n",
        "results6 = smf.ols('ROI90_future ~ 1+ TVN', data=df_Regression).fit(cov_type='HAC',cov_kwds={'maxlags':1})\n",
        "results7 = smf.ols('ROI90_future ~ 1+ MPR', data=df_Regression).fit(cov_type='HAC',cov_kwds={'maxlags':1})\n",
        "results8 = smf.ols('ROI90_future ~ 1+ UPR', data=df_Regression).fit(cov_type='HAC',cov_kwds={'maxlags':1})\n",
        "results9 = smf.ols('ROI90_future ~ 1+ PC_ratios', data=df_Regression).fit(cov_type='HAC',cov_kwds={'maxlags':1})"
      ],
      "execution_count": null,
      "outputs": []
    },
    {
      "cell_type": "code",
      "metadata": {
        "colab": {
          "base_uri": "https://localhost:8080/",
          "height": 681
        },
        "id": "JACvx5I8yguL",
        "outputId": "d566aa22-b91e-4e04-ad77-25c2edf905ec"
      },
      "source": [
        "stargazer_weekly = Stargazer([results1,results2,results3,results4,results5,results6,results7,results8,results9])\n",
        "stargazer_weekly.title('Prediction on Future 1-week return')\n",
        "stargazer_weekly.significant_digits(3)\n",
        "stargazer_weekly.covariate_order(columns_Ratio)\n",
        "HTML(stargazer_weekly.render_html())"
      ],
      "execution_count": null,
      "outputs": [
        {
          "output_type": "execute_result",
          "data": {
            "text/html": [
              "Prediction on Future 1-week return<br><table style=\"text-align:center\"><tr><td colspan=\"10\" style=\"border-bottom: 1px solid black\"></td></tr><tr><td style=\"text-align:left\"></td><td colspan=\"9\"><em>Dependent variable:ROI90_future</em></td></tr><tr><td style=\"text-align:left\"></td><tr><td style=\"text-align:left\"></td><td>(1)</td><td>(2)</td><td>(3)</td><td>(4)</td><td>(5)</td><td>(6)</td><td>(7)</td><td>(8)</td><td>(9)</td></tr><tr><td colspan=\"10\" style=\"border-bottom: 1px solid black\"></td></tr><tr><td style=\"text-align:left\">Past100</td><td>0.361<sup>***</sup></td><td></td><td></td><td></td><td></td><td></td><td></td><td></td><td></td></tr><tr><td style=\"text-align:left\"></td><td>(0.115)</td><td></td><td></td><td></td><td></td><td></td><td></td><td></td><td></td></tr><tr><td style=\"text-align:left\">AMR</td><td></td><td>2.813<sup>***</sup></td><td></td><td></td><td></td><td></td><td></td><td></td><td></td></tr><tr><td style=\"text-align:left\"></td><td></td><td>(0.470)</td><td></td><td></td><td></td><td></td><td></td><td></td><td></td></tr><tr><td style=\"text-align:left\">TMR</td><td></td><td></td><td>3.587<sup>***</sup></td><td></td><td></td><td></td><td></td><td></td><td></td></tr><tr><td style=\"text-align:left\"></td><td></td><td></td><td>(0.433)</td><td></td><td></td><td></td><td></td><td></td><td></td></tr><tr><td style=\"text-align:left\">PMR</td><td></td><td></td><td></td><td>3.767<sup>***</sup></td><td></td><td></td><td></td><td></td><td></td></tr><tr><td style=\"text-align:left\"></td><td></td><td></td><td></td><td>(0.581)</td><td></td><td></td><td></td><td></td><td></td></tr><tr><td style=\"text-align:left\">EPR</td><td></td><td></td><td></td><td></td><td>1.174<sup>***</sup></td><td></td><td></td><td></td><td></td></tr><tr><td style=\"text-align:left\"></td><td></td><td></td><td></td><td></td><td>(0.177)</td><td></td><td></td><td></td><td></td></tr><tr><td style=\"text-align:left\">TVN</td><td></td><td></td><td></td><td></td><td></td><td>1.586<sup>***</sup></td><td></td><td></td><td></td></tr><tr><td style=\"text-align:left\"></td><td></td><td></td><td></td><td></td><td></td><td>(0.181)</td><td></td><td></td><td></td></tr><tr><td style=\"text-align:left\">MPR</td><td></td><td></td><td></td><td></td><td></td><td></td><td>-0.202<sup></sup></td><td></td><td></td></tr><tr><td style=\"text-align:left\"></td><td></td><td></td><td></td><td></td><td></td><td></td><td>(0.162)</td><td></td><td></td></tr><tr><td style=\"text-align:left\">UPR</td><td></td><td></td><td></td><td></td><td></td><td></td><td></td><td>3.906<sup>***</sup></td><td></td></tr><tr><td style=\"text-align:left\"></td><td></td><td></td><td></td><td></td><td></td><td></td><td></td><td>(0.453)</td><td></td></tr><tr><td style=\"text-align:left\">PC_ratios</td><td></td><td></td><td></td><td></td><td></td><td></td><td></td><td></td><td>1.334<sup>***</sup></td></tr><tr><td style=\"text-align:left\"></td><td></td><td></td><td></td><td></td><td></td><td></td><td></td><td></td><td>(0.186)</td></tr><td colspan=\"10\" style=\"border-bottom: 1px solid black\"></td></tr><tr><td style=\"text-align: left\">Observations</td><td>2,760</td><td>2,760</td><td>2,760</td><td>2,760</td><td>2,760</td><td>2,760</td><td>2,760</td><td>2,760</td><td>2,760</td></tr><tr><td style=\"text-align: left\">R<sup>2</sup></td><td>0.002</td><td>0.076</td><td>0.075</td><td>0.093</td><td>0.026</td><td>0.038</td><td>0.000</td><td>0.211</td><td>0.086</td></tr><tr><td style=\"text-align: left\">Adjusted R<sup>2</sup></td><td>0.001</td><td>0.076</td><td>0.074</td><td>0.093</td><td>0.025</td><td>0.037</td><td>0.000</td><td>0.211</td><td>0.086</td></tr><tr><td style=\"text-align: left\">Residual Std. Error</td><td>1.360 (df=2758)</td><td>1.308 (df=2758)</td><td>1.309 (df=2758)</td><td>1.296 (df=2758)</td><td>1.343 (df=2758)</td><td>1.335 (df=2758)</td><td>1.361 (df=2758)</td><td>1.209 (df=2758)</td><td>1.301 (df=2758)</td></tr><tr><td style=\"text-align: left\">F Statistic</td><td>9.883<sup>***</sup> (df=1; 2758)</td><td>35.788<sup>***</sup> (df=1; 2758)</td><td>68.705<sup>***</sup> (df=1; 2758)</td><td>41.969<sup>***</sup> (df=1; 2758)</td><td>43.981<sup>***</sup> (df=1; 2758)</td><td>77.141<sup>***</sup> (df=1; 2758)</td><td>1.571<sup></sup> (df=1; 2758)</td><td>74.373<sup>***</sup> (df=1; 2758)</td><td>51.233<sup>***</sup> (df=1; 2758)</td></tr><tr><td colspan=\"10\" style=\"border-bottom: 1px solid black\"></td></tr><tr><td style=\"text-align: left\">Note:</td>\n",
              " <td colspan=\"9\" style=\"text-align: right\">\n",
              "  <sup>*</sup>p&lt;0.1;\n",
              "  <sup>**</sup>p&lt;0.05;\n",
              "  <sup>***</sup>p&lt;0.01\n",
              " </td></tr></table>"
            ],
            "text/plain": [
              "<IPython.core.display.HTML object>"
            ]
          },
          "metadata": {},
          "execution_count": 166
        }
      ]
    },
    {
      "cell_type": "code",
      "metadata": {
        "colab": {
          "base_uri": "https://localhost:8080/"
        },
        "id": "syAkoOnTjCyE",
        "outputId": "c85cbfac-35d7-4cca-f2d0-cc50fa1a0d6f"
      },
      "source": [
        "print(results9.summary())"
      ],
      "execution_count": null,
      "outputs": [
        {
          "output_type": "stream",
          "name": "stdout",
          "text": [
            "                            OLS Regression Results                            \n",
            "==============================================================================\n",
            "Dep. Variable:           ROI90_future   R-squared:                       0.086\n",
            "Model:                            OLS   Adj. R-squared:                  0.086\n",
            "Method:                 Least Squares   F-statistic:                     51.23\n",
            "Date:                Fri, 08 Oct 2021   Prob (F-statistic):           1.05e-12\n",
            "Time:                        11:30:38   Log-Likelihood:                -4641.5\n",
            "No. Observations:                2760   AIC:                             9287.\n",
            "Df Residuals:                    2758   BIC:                             9299.\n",
            "Df Model:                           1                                         \n",
            "Covariance Type:                  HAC                                         \n",
            "==============================================================================\n",
            "                 coef    std err          z      P>|z|      [0.025      0.975]\n",
            "------------------------------------------------------------------------------\n",
            "Intercept      0.4874      0.031     15.615      0.000       0.426       0.549\n",
            "PC_ratios      1.3343      0.186      7.158      0.000       0.969       1.700\n",
            "==============================================================================\n",
            "Omnibus:                     2029.046   Durbin-Watson:                   0.032\n",
            "Prob(Omnibus):                  0.000   Jarque-Bera (JB):            36969.447\n",
            "Skew:                           3.357   Prob(JB):                         0.00\n",
            "Kurtosis:                      19.625   Cond. No.                         3.34\n",
            "==============================================================================\n",
            "\n",
            "Warnings:\n",
            "[1] Standard Errors are heteroscedasticity and autocorrelation robust (HAC) using 1 lags and without small sample correction\n"
          ]
        }
      ]
    },
    {
      "cell_type": "code",
      "metadata": {
        "id": "daJtESP-yigh"
      },
      "source": [
        "results1 = smf.ols('ROI180_future ~ 1+ Past100', data=df_Regression).fit(cov_type='HAC',cov_kwds={'maxlags':1})\n",
        "results2 = smf.ols('ROI180_future ~ 1+ AMR', data=df_Regression).fit(cov_type='HAC',cov_kwds={'maxlags':1})\n",
        "results3 = smf.ols('ROI180_future ~ 1+ TMR', data=df_Regression).fit(cov_type='HAC',cov_kwds={'maxlags':1})\n",
        "results4 = smf.ols('ROI180_future ~ 1+ PMR', data=df_Regression).fit(cov_type='HAC',cov_kwds={'maxlags':1})\n",
        "results5 = smf.ols('ROI180_future ~ 1+ EPR', data=df_Regression).fit(cov_type='HAC',cov_kwds={'maxlags':1})\n",
        "results6 = smf.ols('ROI180_future ~ 1+ TVN', data=df_Regression).fit(cov_type='HAC',cov_kwds={'maxlags':1})\n",
        "results7 = smf.ols('ROI180_future ~ 1+ MPR', data=df_Regression).fit(cov_type='HAC',cov_kwds={'maxlags':1})\n",
        "results8 = smf.ols('ROI180_future ~ 1+ UPR', data=df_Regression).fit(cov_type='HAC',cov_kwds={'maxlags':1})\n",
        "results9 = smf.ols('ROI180_future ~ 1+ PC_ratios', data=df_Regression).fit(cov_type='HAC',cov_kwds={'maxlags':1})"
      ],
      "execution_count": null,
      "outputs": []
    },
    {
      "cell_type": "code",
      "metadata": {
        "colab": {
          "base_uri": "https://localhost:8080/",
          "height": 681
        },
        "id": "03fvB-0gyryY",
        "outputId": "315f6139-8e75-40fd-c9c4-a8469005fca8"
      },
      "source": [
        "stargazer_weekly = Stargazer([results1,results2,results3,results4,results5,results6,results7,results8,results9])\n",
        "stargazer_weekly.title('Prediction on Future 1-week return')\n",
        "stargazer_weekly.significant_digits(3)\n",
        "stargazer_weekly.covariate_order(columns_Ratio)\n",
        "HTML(stargazer_weekly.render_html())"
      ],
      "execution_count": null,
      "outputs": [
        {
          "output_type": "execute_result",
          "data": {
            "text/html": [
              "Prediction on Future 1-week return<br><table style=\"text-align:center\"><tr><td colspan=\"10\" style=\"border-bottom: 1px solid black\"></td></tr><tr><td style=\"text-align:left\"></td><td colspan=\"9\"><em>Dependent variable:ROI180_future</em></td></tr><tr><td style=\"text-align:left\"></td><tr><td style=\"text-align:left\"></td><td>(1)</td><td>(2)</td><td>(3)</td><td>(4)</td><td>(5)</td><td>(6)</td><td>(7)</td><td>(8)</td><td>(9)</td></tr><tr><td colspan=\"10\" style=\"border-bottom: 1px solid black\"></td></tr><tr><td style=\"text-align:left\">Past100</td><td>0.663<sup>***</sup></td><td></td><td></td><td></td><td></td><td></td><td></td><td></td><td></td></tr><tr><td style=\"text-align:left\"></td><td>(0.235)</td><td></td><td></td><td></td><td></td><td></td><td></td><td></td><td></td></tr><tr><td style=\"text-align:left\">AMR</td><td></td><td>7.521<sup>***</sup></td><td></td><td></td><td></td><td></td><td></td><td></td><td></td></tr><tr><td style=\"text-align:left\"></td><td></td><td>(0.803)</td><td></td><td></td><td></td><td></td><td></td><td></td><td></td></tr><tr><td style=\"text-align:left\">TMR</td><td></td><td></td><td>7.285<sup>***</sup></td><td></td><td></td><td></td><td></td><td></td><td></td></tr><tr><td style=\"text-align:left\"></td><td></td><td></td><td>(0.597)</td><td></td><td></td><td></td><td></td><td></td><td></td></tr><tr><td style=\"text-align:left\">PMR</td><td></td><td></td><td></td><td>9.286<sup>***</sup></td><td></td><td></td><td></td><td></td><td></td></tr><tr><td style=\"text-align:left\"></td><td></td><td></td><td></td><td>(0.994)</td><td></td><td></td><td></td><td></td><td></td></tr><tr><td style=\"text-align:left\">EPR</td><td></td><td></td><td></td><td></td><td>4.755<sup>***</sup></td><td></td><td></td><td></td><td></td></tr><tr><td style=\"text-align:left\"></td><td></td><td></td><td></td><td></td><td>(0.485)</td><td></td><td></td><td></td><td></td></tr><tr><td style=\"text-align:left\">TVN</td><td></td><td></td><td></td><td></td><td></td><td>6.925<sup>***</sup></td><td></td><td></td><td></td></tr><tr><td style=\"text-align:left\"></td><td></td><td></td><td></td><td></td><td></td><td>(0.473)</td><td></td><td></td><td></td></tr><tr><td style=\"text-align:left\">MPR</td><td></td><td></td><td></td><td></td><td></td><td></td><td>0.184<sup></sup></td><td></td><td></td></tr><tr><td style=\"text-align:left\"></td><td></td><td></td><td></td><td></td><td></td><td></td><td>(0.282)</td><td></td><td></td></tr><tr><td style=\"text-align:left\">UPR</td><td></td><td></td><td></td><td></td><td></td><td></td><td></td><td>8.159<sup>***</sup></td><td></td></tr><tr><td style=\"text-align:left\"></td><td></td><td></td><td></td><td></td><td></td><td></td><td></td><td>(0.544)</td><td></td></tr><tr><td style=\"text-align:left\">PC_ratios</td><td></td><td></td><td></td><td></td><td></td><td></td><td></td><td></td><td>3.873<sup>***</sup></td></tr><tr><td style=\"text-align:left\"></td><td></td><td></td><td></td><td></td><td></td><td></td><td></td><td></td><td>(0.323)</td></tr><td colspan=\"10\" style=\"border-bottom: 1px solid black\"></td></tr><tr><td style=\"text-align: left\">Observations</td><td>2,760</td><td>2,760</td><td>2,760</td><td>2,760</td><td>2,760</td><td>2,760</td><td>2,760</td><td>2,760</td><td>2,760</td></tr><tr><td style=\"text-align: left\">R<sup>2</sup></td><td>0.002</td><td>0.197</td><td>0.112</td><td>0.206</td><td>0.154</td><td>0.260</td><td>0.000</td><td>0.335</td><td>0.264</td></tr><tr><td style=\"text-align: left\">Adjusted R<sup>2</sup></td><td>0.002</td><td>0.197</td><td>0.112</td><td>0.206</td><td>0.154</td><td>0.260</td><td>-0.000</td><td>0.334</td><td>0.264</td></tr><tr><td style=\"text-align: left\">Residual Std. Error</td><td>2.255 (df=2758)</td><td>2.023 (df=2758)</td><td>2.127 (df=2758)</td><td>2.012 (df=2758)</td><td>2.076 (df=2758)</td><td>1.942 (df=2758)</td><td>2.258 (df=2758)</td><td>1.842 (df=2758)</td><td>1.937 (df=2758)</td></tr><tr><td style=\"text-align: left\">F Statistic</td><td>7.965<sup>***</sup> (df=1; 2758)</td><td>87.791<sup>***</sup> (df=1; 2758)</td><td>148.964<sup>***</sup> (df=1; 2758)</td><td>87.283<sup>***</sup> (df=1; 2758)</td><td>95.930<sup>***</sup> (df=1; 2758)</td><td>214.745<sup>***</sup> (df=1; 2758)</td><td>0.425<sup></sup> (df=1; 2758)</td><td>225.172<sup>***</sup> (df=1; 2758)</td><td>143.751<sup>***</sup> (df=1; 2758)</td></tr><tr><td colspan=\"10\" style=\"border-bottom: 1px solid black\"></td></tr><tr><td style=\"text-align: left\">Note:</td>\n",
              " <td colspan=\"9\" style=\"text-align: right\">\n",
              "  <sup>*</sup>p&lt;0.1;\n",
              "  <sup>**</sup>p&lt;0.05;\n",
              "  <sup>***</sup>p&lt;0.01\n",
              " </td></tr></table>"
            ],
            "text/plain": [
              "<IPython.core.display.HTML object>"
            ]
          },
          "metadata": {},
          "execution_count": 177
        }
      ]
    },
    {
      "cell_type": "code",
      "metadata": {
        "colab": {
          "base_uri": "https://localhost:8080/"
        },
        "id": "KpT6GWiLrYmH",
        "outputId": "f9d8e7b6-36f2-4908-ceb6-ee0524f4a36f"
      },
      "source": [
        "print(results9.summary())"
      ],
      "execution_count": null,
      "outputs": [
        {
          "output_type": "stream",
          "name": "stdout",
          "text": [
            "                            OLS Regression Results                            \n",
            "==============================================================================\n",
            "Dep. Variable:          ROI180_future   R-squared:                       0.264\n",
            "Model:                            OLS   Adj. R-squared:                  0.264\n",
            "Method:                 Least Squares   F-statistic:                     143.8\n",
            "Date:                Fri, 08 Oct 2021   Prob (F-statistic):           2.53e-32\n",
            "Time:                        11:35:24   Log-Likelihood:                -5740.2\n",
            "No. Observations:                2760   AIC:                         1.148e+04\n",
            "Df Residuals:                    2758   BIC:                         1.150e+04\n",
            "Df Model:                           1                                         \n",
            "Covariance Type:                  HAC                                         \n",
            "==============================================================================\n",
            "                 coef    std err          z      P>|z|      [0.025      0.975]\n",
            "------------------------------------------------------------------------------\n",
            "Intercept      1.0846      0.046     23.536      0.000       0.994       1.175\n",
            "PC_ratios      3.8730      0.323     11.990      0.000       3.240       4.506\n",
            "==============================================================================\n",
            "Omnibus:                      818.247   Durbin-Watson:                   0.026\n",
            "Prob(Omnibus):                  0.000   Jarque-Bera (JB):             2729.066\n",
            "Skew:                           1.475   Prob(JB):                         0.00\n",
            "Kurtosis:                       6.877   Cond. No.                         3.34\n",
            "==============================================================================\n",
            "\n",
            "Warnings:\n",
            "[1] Standard Errors are heteroscedasticity and autocorrelation robust (HAC) using 1 lags and without small sample correction\n"
          ]
        }
      ]
    },
    {
      "cell_type": "code",
      "metadata": {
        "id": "wDLN81fyzCxH"
      },
      "source": [
        "results1 = smf.ols('ROI360_future ~ 1+ Past100', data=df_Regression).fit(cov_type='HAC',cov_kwds={'maxlags':1})\n",
        "results2 = smf.ols('ROI360_future ~ 1+ AMR', data=df_Regression).fit(cov_type='HAC',cov_kwds={'maxlags':1})\n",
        "results3 = smf.ols('ROI360_future ~ 1+ TMR', data=df_Regression).fit(cov_type='HAC',cov_kwds={'maxlags':1})\n",
        "results4 = smf.ols('ROI360_future ~ 1+ PMR', data=df_Regression).fit(cov_type='HAC',cov_kwds={'maxlags':1})\n",
        "results5 = smf.ols('ROI360_future ~ 1+ EPR', data=df_Regression).fit(cov_type='HAC',cov_kwds={'maxlags':1})\n",
        "results6 = smf.ols('ROI360_future ~ 1+ TVN', data=df_Regression).fit(cov_type='HAC',cov_kwds={'maxlags':1})\n",
        "results7 = smf.ols('ROI360_future ~ 1+ MPR', data=df_Regression).fit(cov_type='HAC',cov_kwds={'maxlags':1})\n",
        "results8 = smf.ols('ROI360_future ~ 1+ UPR', data=df_Regression).fit(cov_type='HAC',cov_kwds={'maxlags':1})\n",
        "results9 = smf.ols('ROI360_future ~ 1+ PC_ratios', data=df_Regression).fit(cov_type='HAC',cov_kwds={'maxlags':1})"
      ],
      "execution_count": null,
      "outputs": []
    },
    {
      "cell_type": "code",
      "metadata": {
        "colab": {
          "base_uri": "https://localhost:8080/",
          "height": 681
        },
        "id": "dWOUPNcjytGR",
        "outputId": "6a3807bd-6dfe-4fd9-b258-5ba17535cc08"
      },
      "source": [
        "stargazer_weekly = Stargazer([results1,results2,results3,results4,results5,results6,results7,results8,results9])\n",
        "stargazer_weekly.title('Prediction on Future 1-week return')\n",
        "stargazer_weekly.significant_digits(3)\n",
        "stargazer_weekly.covariate_order(columns_Ratio)\n",
        "HTML(stargazer_weekly.render_html())"
      ],
      "execution_count": null,
      "outputs": [
        {
          "output_type": "execute_result",
          "data": {
            "text/html": [
              "Prediction on Future 1-week return<br><table style=\"text-align:center\"><tr><td colspan=\"10\" style=\"border-bottom: 1px solid black\"></td></tr><tr><td style=\"text-align:left\"></td><td colspan=\"9\"><em>Dependent variable:ROI360_future</em></td></tr><tr><td style=\"text-align:left\"></td><tr><td style=\"text-align:left\"></td><td>(1)</td><td>(2)</td><td>(3)</td><td>(4)</td><td>(5)</td><td>(6)</td><td>(7)</td><td>(8)</td><td>(9)</td></tr><tr><td colspan=\"10\" style=\"border-bottom: 1px solid black\"></td></tr><tr><td style=\"text-align:left\">Past100</td><td>-2.217<sup>**</sup></td><td></td><td></td><td></td><td></td><td></td><td></td><td></td><td></td></tr><tr><td style=\"text-align:left\"></td><td>(0.981)</td><td></td><td></td><td></td><td></td><td></td><td></td><td></td><td></td></tr><tr><td style=\"text-align:left\">AMR</td><td></td><td>44.139<sup>***</sup></td><td></td><td></td><td></td><td></td><td></td><td></td><td></td></tr><tr><td style=\"text-align:left\"></td><td></td><td>(4.121)</td><td></td><td></td><td></td><td></td><td></td><td></td><td></td></tr><tr><td style=\"text-align:left\">TMR</td><td></td><td></td><td>33.053<sup>***</sup></td><td></td><td></td><td></td><td></td><td></td><td></td></tr><tr><td style=\"text-align:left\"></td><td></td><td></td><td>(3.249)</td><td></td><td></td><td></td><td></td><td></td><td></td></tr><tr><td style=\"text-align:left\">PMR</td><td></td><td></td><td></td><td>56.428<sup>***</sup></td><td></td><td></td><td></td><td></td><td></td></tr><tr><td style=\"text-align:left\"></td><td></td><td></td><td></td><td>(5.280)</td><td></td><td></td><td></td><td></td><td></td></tr><tr><td style=\"text-align:left\">EPR</td><td></td><td></td><td></td><td></td><td>15.392<sup>***</sup></td><td></td><td></td><td></td><td></td></tr><tr><td style=\"text-align:left\"></td><td></td><td></td><td></td><td></td><td>(1.278)</td><td></td><td></td><td></td><td></td></tr><tr><td style=\"text-align:left\">TVN</td><td></td><td></td><td></td><td></td><td></td><td>19.048<sup>***</sup></td><td></td><td></td><td></td></tr><tr><td style=\"text-align:left\"></td><td></td><td></td><td></td><td></td><td></td><td>(1.771)</td><td></td><td></td><td></td></tr><tr><td style=\"text-align:left\">MPR</td><td></td><td></td><td></td><td></td><td></td><td></td><td>5.906<sup>***</sup></td><td></td><td></td></tr><tr><td style=\"text-align:left\"></td><td></td><td></td><td></td><td></td><td></td><td></td><td>(1.056)</td><td></td><td></td></tr><tr><td style=\"text-align:left\">UPR</td><td></td><td></td><td></td><td></td><td></td><td></td><td></td><td>49.486<sup>***</sup></td><td></td></tr><tr><td style=\"text-align:left\"></td><td></td><td></td><td></td><td></td><td></td><td></td><td></td><td>(2.765)</td><td></td></tr><tr><td style=\"text-align:left\">PC_ratios</td><td></td><td></td><td></td><td></td><td></td><td></td><td></td><td></td><td>18.349<sup>***</sup></td></tr><tr><td style=\"text-align:left\"></td><td></td><td></td><td></td><td></td><td></td><td></td><td></td><td></td><td>(1.532)</td></tr><td colspan=\"10\" style=\"border-bottom: 1px solid black\"></td></tr><tr><td style=\"text-align: left\">Observations</td><td>2,760</td><td>2,760</td><td>2,760</td><td>2,760</td><td>2,760</td><td>2,760</td><td>2,760</td><td>2,760</td><td>2,760</td></tr><tr><td style=\"text-align: left\">R<sup>2</sup></td><td>0.001</td><td>0.347</td><td>0.118</td><td>0.388</td><td>0.082</td><td>0.101</td><td>0.007</td><td>0.628</td><td>0.302</td></tr><tr><td style=\"text-align: left\">Adjusted R<sup>2</sup></td><td>0.001</td><td>0.346</td><td>0.117</td><td>0.388</td><td>0.082</td><td>0.100</td><td>0.007</td><td>0.628</td><td>0.302</td></tr><tr><td style=\"text-align: left\">Residual Std. Error</td><td>9.989 (df=2758)</td><td>8.079 (df=2758)</td><td>9.388 (df=2758)</td><td>7.820 (df=2758)</td><td>9.574 (df=2758)</td><td>9.479 (df=2758)</td><td>9.959 (df=2758)</td><td>6.096 (df=2758)</td><td>8.349 (df=2758)</td></tr><tr><td style=\"text-align: left\">F Statistic</td><td>5.108<sup>**</sup> (df=1; 2758)</td><td>114.730<sup>***</sup> (df=1; 2758)</td><td>103.496<sup>***</sup> (df=1; 2758)</td><td>114.235<sup>***</sup> (df=1; 2758)</td><td>145.094<sup>***</sup> (df=1; 2758)</td><td>115.653<sup>***</sup> (df=1; 2758)</td><td>31.304<sup>***</sup> (df=1; 2758)</td><td>320.316<sup>***</sup> (df=1; 2758)</td><td>143.374<sup>***</sup> (df=1; 2758)</td></tr><tr><td colspan=\"10\" style=\"border-bottom: 1px solid black\"></td></tr><tr><td style=\"text-align: left\">Note:</td>\n",
              " <td colspan=\"9\" style=\"text-align: right\">\n",
              "  <sup>*</sup>p&lt;0.1;\n",
              "  <sup>**</sup>p&lt;0.05;\n",
              "  <sup>***</sup>p&lt;0.01\n",
              " </td></tr></table>"
            ],
            "text/plain": [
              "<IPython.core.display.HTML object>"
            ]
          },
          "metadata": {},
          "execution_count": 188
        }
      ]
    },
    {
      "cell_type": "code",
      "metadata": {
        "colab": {
          "base_uri": "https://localhost:8080/"
        },
        "id": "xqv_mfRCjbsN",
        "outputId": "6a3fb791-f9c1-4f65-e771-d2f139946c57"
      },
      "source": [
        "print(results1.summary())"
      ],
      "execution_count": null,
      "outputs": [
        {
          "output_type": "stream",
          "name": "stdout",
          "text": [
            "                            OLS Regression Results                            \n",
            "==============================================================================\n",
            "Dep. Variable:          ROI360_future   R-squared:                       0.001\n",
            "Model:                            OLS   Adj. R-squared:                  0.001\n",
            "Method:                 Least Squares   F-statistic:                     5.108\n",
            "Date:                Fri, 08 Oct 2021   Prob (F-statistic):             0.0239\n",
            "Time:                        11:39:33   Log-Likelihood:                -10267.\n",
            "No. Observations:                2760   AIC:                         2.054e+04\n",
            "Df Residuals:                    2758   BIC:                         2.055e+04\n",
            "Df Model:                           1                                         \n",
            "Covariance Type:                  HAC                                         \n",
            "==============================================================================\n",
            "                 coef    std err          z      P>|z|      [0.025      0.975]\n",
            "------------------------------------------------------------------------------\n",
            "Intercept      6.1113      0.990      6.173      0.000       4.171       8.052\n",
            "Past100       -2.2167      0.981     -2.260      0.024      -4.139      -0.294\n",
            "==============================================================================\n",
            "Omnibus:                     2543.037   Durbin-Watson:                   0.010\n",
            "Prob(Omnibus):                  0.000   Jarque-Bera (JB):            72941.564\n",
            "Skew:                           4.541   Prob(JB):                         0.00\n",
            "Kurtosis:                      26.490   Cond. No.                         11.4\n",
            "==============================================================================\n",
            "\n",
            "Warnings:\n",
            "[1] Standard Errors are heteroscedasticity and autocorrelation robust (HAC) using 1 lags and without small sample correction\n"
          ]
        }
      ]
    },
    {
      "cell_type": "code",
      "metadata": {
        "id": "8Fbcx6MZscBH"
      },
      "source": [
        ""
      ],
      "execution_count": null,
      "outputs": []
    }
  ]
}