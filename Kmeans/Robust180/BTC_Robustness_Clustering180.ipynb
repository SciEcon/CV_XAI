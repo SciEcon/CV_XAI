{
  "nbformat": 4,
  "nbformat_minor": 0,
  "metadata": {
    "kernelspec": {
      "display_name": "Python 3",
      "language": "python",
      "name": "python3"
    },
    "language_info": {
      "codemirror_mode": {
        "name": "ipython",
        "version": 3
      },
      "file_extension": ".py",
      "mimetype": "text/x-python",
      "name": "python",
      "nbconvert_exporter": "python",
      "pygments_lexer": "ipython3",
      "version": "3.7.6"
    },
    "colab": {
      "name": "BTC_Robustness_Clustering180.ipynb",
      "provenance": [],
      "include_colab_link": true
    },
    "accelerator": "GPU"
  },
  "cells": [
    {
      "cell_type": "markdown",
      "metadata": {
        "id": "view-in-github",
        "colab_type": "text"
      },
      "source": [
        "<a href=\"https://colab.research.google.com/github/sunshineluyao/CV_ML/blob/master/Kmeans/Robust180/BTC_Robustness_Clustering180.ipynb\" target=\"_parent\"><img src=\"https://colab.research.google.com/assets/colab-badge.svg\" alt=\"Open In Colab\"/></a>"
      ]
    },
    {
      "cell_type": "code",
      "metadata": {
        "id": "GYamN5ujuxFN",
        "colab_type": "code",
        "colab": {}
      },
      "source": [
        "import pandas as pd \n",
        "import numpy as np"
      ],
      "execution_count": null,
      "outputs": []
    },
    {
      "cell_type": "code",
      "metadata": {
        "id": "jGAIghvcuxFS",
        "colab_type": "code",
        "colab": {}
      },
      "source": [
        "###show all columns\n",
        "pd.set_option('display.max_columns', None)\n",
        "pd.set_option('display.max_rows', None)"
      ],
      "execution_count": null,
      "outputs": []
    },
    {
      "cell_type": "code",
      "metadata": {
        "scrolled": true,
        "id": "tBM2AGEduxFU",
        "colab_type": "code",
        "colab": {
          "base_uri": "https://localhost:8080/",
          "height": 395
        },
        "outputId": "68e7d51b-91ea-4488-af81-a92cac3dee1f"
      },
      "source": [
        "df=pd.read_csv('https://raw.githubusercontent.com/sunshineluyao/Fintech_AI/master/data/btc_Kmeans_2020_07_05.csv')\n",
        "df.head()"
      ],
      "execution_count": null,
      "outputs": [
        {
          "output_type": "execute_result",
          "data": {
            "text/html": [
              "<div>\n",
              "<style scoped>\n",
              "    .dataframe tbody tr th:only-of-type {\n",
              "        vertical-align: middle;\n",
              "    }\n",
              "\n",
              "    .dataframe tbody tr th {\n",
              "        vertical-align: top;\n",
              "    }\n",
              "\n",
              "    .dataframe thead th {\n",
              "        text-align: right;\n",
              "    }\n",
              "</style>\n",
              "<table border=\"1\" class=\"dataframe\">\n",
              "  <thead>\n",
              "    <tr style=\"text-align: right;\">\n",
              "      <th></th>\n",
              "      <th>Unnamed: 0</th>\n",
              "      <th>BlkCnt</th>\n",
              "      <th>IssTotNtv</th>\n",
              "      <th>SplyCur</th>\n",
              "      <th>TxTfrValAdjUSD</th>\n",
              "      <th>CapMrktCurUSD</th>\n",
              "      <th>NVTAdj90</th>\n",
              "      <th>PriceUSD</th>\n",
              "      <th>FeeTotUSD</th>\n",
              "      <th>IssTotUSD</th>\n",
              "      <th>AdrActCnt</th>\n",
              "      <th>Volume</th>\n",
              "      <th>Type</th>\n",
              "      <th>Annualized_DilutionRate</th>\n",
              "      <th>Total daily transaction volume</th>\n",
              "      <th>Velocity</th>\n",
              "      <th>The daily revenue of bitcoin miners</th>\n",
              "      <th>The accumulated revenue of bitcoin miners</th>\n",
              "      <th>P/E Ratio</th>\n",
              "      <th>Metcalfe</th>\n",
              "      <th>PM</th>\n",
              "      <th>&lt;1year</th>\n",
              "      <th>1-2year</th>\n",
              "      <th>2-3year</th>\n",
              "      <th>3-5year</th>\n",
              "      <th>&gt;5year</th>\n",
              "      <th>One-year staking ratio</th>\n",
              "      <th>Two-year staking ratio</th>\n",
              "      <th>Three-year staking ratio</th>\n",
              "      <th>Five-year staking ratio</th>\n",
              "      <th>Token Utility</th>\n",
              "      <th>PU Ratio</th>\n",
              "      <th>volatility30</th>\n",
              "      <th>volatility60</th>\n",
              "      <th>volatility90</th>\n",
              "      <th>volatility180</th>\n",
              "      <th>PU_future90d</th>\n",
              "      <th>NVTAdj90_future90d</th>\n",
              "      <th>PM_future90d</th>\n",
              "      <th>PriceChange30d</th>\n",
              "      <th>PriceChange60d</th>\n",
              "      <th>PriceChange90d</th>\n",
              "      <th>PriceChange180d</th>\n",
              "      <th>future30d_ROI</th>\n",
              "      <th>future60d_ROI</th>\n",
              "      <th>future90d_ROI</th>\n",
              "      <th>future180d_ROI</th>\n",
              "    </tr>\n",
              "  </thead>\n",
              "  <tbody>\n",
              "    <tr>\n",
              "      <th>0</th>\n",
              "      <td>2009-01-03</td>\n",
              "      <td>0.0</td>\n",
              "      <td>NaN</td>\n",
              "      <td>0.0</td>\n",
              "      <td>NaN</td>\n",
              "      <td>NaN</td>\n",
              "      <td>NaN</td>\n",
              "      <td>NaN</td>\n",
              "      <td>NaN</td>\n",
              "      <td>NaN</td>\n",
              "      <td>0.0</td>\n",
              "      <td>NaN</td>\n",
              "      <td>NaN</td>\n",
              "      <td>NaN</td>\n",
              "      <td>NaN</td>\n",
              "      <td>NaN</td>\n",
              "      <td>NaN</td>\n",
              "      <td>NaN</td>\n",
              "      <td>NaN</td>\n",
              "      <td>0.0</td>\n",
              "      <td>NaN</td>\n",
              "      <td>NaN</td>\n",
              "      <td>NaN</td>\n",
              "      <td>NaN</td>\n",
              "      <td>NaN</td>\n",
              "      <td>NaN</td>\n",
              "      <td>NaN</td>\n",
              "      <td>NaN</td>\n",
              "      <td>NaN</td>\n",
              "      <td>NaN</td>\n",
              "      <td>NaN</td>\n",
              "      <td>NaN</td>\n",
              "      <td>NaN</td>\n",
              "      <td>NaN</td>\n",
              "      <td>NaN</td>\n",
              "      <td>NaN</td>\n",
              "      <td>NaN</td>\n",
              "      <td>NaN</td>\n",
              "      <td>NaN</td>\n",
              "      <td>NaN</td>\n",
              "      <td>NaN</td>\n",
              "      <td>NaN</td>\n",
              "      <td>NaN</td>\n",
              "      <td>NaN</td>\n",
              "      <td>NaN</td>\n",
              "      <td>NaN</td>\n",
              "      <td>NaN</td>\n",
              "    </tr>\n",
              "    <tr>\n",
              "      <th>1</th>\n",
              "      <td>2009-01-04</td>\n",
              "      <td>0.0</td>\n",
              "      <td>NaN</td>\n",
              "      <td>0.0</td>\n",
              "      <td>NaN</td>\n",
              "      <td>NaN</td>\n",
              "      <td>NaN</td>\n",
              "      <td>NaN</td>\n",
              "      <td>NaN</td>\n",
              "      <td>NaN</td>\n",
              "      <td>0.0</td>\n",
              "      <td>NaN</td>\n",
              "      <td>NaN</td>\n",
              "      <td>NaN</td>\n",
              "      <td>NaN</td>\n",
              "      <td>NaN</td>\n",
              "      <td>NaN</td>\n",
              "      <td>NaN</td>\n",
              "      <td>NaN</td>\n",
              "      <td>0.0</td>\n",
              "      <td>NaN</td>\n",
              "      <td>NaN</td>\n",
              "      <td>NaN</td>\n",
              "      <td>NaN</td>\n",
              "      <td>NaN</td>\n",
              "      <td>NaN</td>\n",
              "      <td>NaN</td>\n",
              "      <td>NaN</td>\n",
              "      <td>NaN</td>\n",
              "      <td>NaN</td>\n",
              "      <td>NaN</td>\n",
              "      <td>NaN</td>\n",
              "      <td>NaN</td>\n",
              "      <td>NaN</td>\n",
              "      <td>NaN</td>\n",
              "      <td>NaN</td>\n",
              "      <td>NaN</td>\n",
              "      <td>NaN</td>\n",
              "      <td>NaN</td>\n",
              "      <td>NaN</td>\n",
              "      <td>NaN</td>\n",
              "      <td>NaN</td>\n",
              "      <td>NaN</td>\n",
              "      <td>NaN</td>\n",
              "      <td>NaN</td>\n",
              "      <td>NaN</td>\n",
              "      <td>NaN</td>\n",
              "    </tr>\n",
              "    <tr>\n",
              "      <th>2</th>\n",
              "      <td>2009-01-05</td>\n",
              "      <td>0.0</td>\n",
              "      <td>NaN</td>\n",
              "      <td>0.0</td>\n",
              "      <td>NaN</td>\n",
              "      <td>NaN</td>\n",
              "      <td>NaN</td>\n",
              "      <td>NaN</td>\n",
              "      <td>NaN</td>\n",
              "      <td>NaN</td>\n",
              "      <td>0.0</td>\n",
              "      <td>NaN</td>\n",
              "      <td>NaN</td>\n",
              "      <td>NaN</td>\n",
              "      <td>NaN</td>\n",
              "      <td>NaN</td>\n",
              "      <td>NaN</td>\n",
              "      <td>NaN</td>\n",
              "      <td>NaN</td>\n",
              "      <td>0.0</td>\n",
              "      <td>NaN</td>\n",
              "      <td>NaN</td>\n",
              "      <td>NaN</td>\n",
              "      <td>NaN</td>\n",
              "      <td>NaN</td>\n",
              "      <td>NaN</td>\n",
              "      <td>NaN</td>\n",
              "      <td>NaN</td>\n",
              "      <td>NaN</td>\n",
              "      <td>NaN</td>\n",
              "      <td>NaN</td>\n",
              "      <td>NaN</td>\n",
              "      <td>NaN</td>\n",
              "      <td>NaN</td>\n",
              "      <td>NaN</td>\n",
              "      <td>NaN</td>\n",
              "      <td>NaN</td>\n",
              "      <td>NaN</td>\n",
              "      <td>NaN</td>\n",
              "      <td>NaN</td>\n",
              "      <td>NaN</td>\n",
              "      <td>NaN</td>\n",
              "      <td>NaN</td>\n",
              "      <td>NaN</td>\n",
              "      <td>NaN</td>\n",
              "      <td>NaN</td>\n",
              "      <td>NaN</td>\n",
              "    </tr>\n",
              "    <tr>\n",
              "      <th>3</th>\n",
              "      <td>2009-01-06</td>\n",
              "      <td>0.0</td>\n",
              "      <td>NaN</td>\n",
              "      <td>0.0</td>\n",
              "      <td>NaN</td>\n",
              "      <td>NaN</td>\n",
              "      <td>NaN</td>\n",
              "      <td>NaN</td>\n",
              "      <td>NaN</td>\n",
              "      <td>NaN</td>\n",
              "      <td>0.0</td>\n",
              "      <td>NaN</td>\n",
              "      <td>NaN</td>\n",
              "      <td>NaN</td>\n",
              "      <td>NaN</td>\n",
              "      <td>NaN</td>\n",
              "      <td>NaN</td>\n",
              "      <td>NaN</td>\n",
              "      <td>NaN</td>\n",
              "      <td>0.0</td>\n",
              "      <td>NaN</td>\n",
              "      <td>NaN</td>\n",
              "      <td>NaN</td>\n",
              "      <td>NaN</td>\n",
              "      <td>NaN</td>\n",
              "      <td>NaN</td>\n",
              "      <td>NaN</td>\n",
              "      <td>NaN</td>\n",
              "      <td>NaN</td>\n",
              "      <td>NaN</td>\n",
              "      <td>NaN</td>\n",
              "      <td>NaN</td>\n",
              "      <td>NaN</td>\n",
              "      <td>NaN</td>\n",
              "      <td>NaN</td>\n",
              "      <td>NaN</td>\n",
              "      <td>NaN</td>\n",
              "      <td>NaN</td>\n",
              "      <td>NaN</td>\n",
              "      <td>NaN</td>\n",
              "      <td>NaN</td>\n",
              "      <td>NaN</td>\n",
              "      <td>NaN</td>\n",
              "      <td>NaN</td>\n",
              "      <td>NaN</td>\n",
              "      <td>NaN</td>\n",
              "      <td>NaN</td>\n",
              "    </tr>\n",
              "    <tr>\n",
              "      <th>4</th>\n",
              "      <td>2009-01-07</td>\n",
              "      <td>0.0</td>\n",
              "      <td>NaN</td>\n",
              "      <td>0.0</td>\n",
              "      <td>NaN</td>\n",
              "      <td>NaN</td>\n",
              "      <td>NaN</td>\n",
              "      <td>NaN</td>\n",
              "      <td>NaN</td>\n",
              "      <td>NaN</td>\n",
              "      <td>0.0</td>\n",
              "      <td>NaN</td>\n",
              "      <td>NaN</td>\n",
              "      <td>NaN</td>\n",
              "      <td>NaN</td>\n",
              "      <td>NaN</td>\n",
              "      <td>NaN</td>\n",
              "      <td>NaN</td>\n",
              "      <td>NaN</td>\n",
              "      <td>0.0</td>\n",
              "      <td>NaN</td>\n",
              "      <td>NaN</td>\n",
              "      <td>NaN</td>\n",
              "      <td>NaN</td>\n",
              "      <td>NaN</td>\n",
              "      <td>NaN</td>\n",
              "      <td>NaN</td>\n",
              "      <td>NaN</td>\n",
              "      <td>NaN</td>\n",
              "      <td>NaN</td>\n",
              "      <td>NaN</td>\n",
              "      <td>NaN</td>\n",
              "      <td>NaN</td>\n",
              "      <td>NaN</td>\n",
              "      <td>NaN</td>\n",
              "      <td>NaN</td>\n",
              "      <td>NaN</td>\n",
              "      <td>NaN</td>\n",
              "      <td>NaN</td>\n",
              "      <td>NaN</td>\n",
              "      <td>NaN</td>\n",
              "      <td>NaN</td>\n",
              "      <td>NaN</td>\n",
              "      <td>NaN</td>\n",
              "      <td>NaN</td>\n",
              "      <td>NaN</td>\n",
              "      <td>NaN</td>\n",
              "    </tr>\n",
              "  </tbody>\n",
              "</table>\n",
              "</div>"
            ],
            "text/plain": [
              "   Unnamed: 0  BlkCnt  IssTotNtv  SplyCur  TxTfrValAdjUSD  CapMrktCurUSD  \\\n",
              "0  2009-01-03     0.0        NaN      0.0             NaN            NaN   \n",
              "1  2009-01-04     0.0        NaN      0.0             NaN            NaN   \n",
              "2  2009-01-05     0.0        NaN      0.0             NaN            NaN   \n",
              "3  2009-01-06     0.0        NaN      0.0             NaN            NaN   \n",
              "4  2009-01-07     0.0        NaN      0.0             NaN            NaN   \n",
              "\n",
              "   NVTAdj90  PriceUSD  FeeTotUSD  IssTotUSD  AdrActCnt  Volume Type  \\\n",
              "0       NaN       NaN        NaN        NaN        0.0     NaN  NaN   \n",
              "1       NaN       NaN        NaN        NaN        0.0     NaN  NaN   \n",
              "2       NaN       NaN        NaN        NaN        0.0     NaN  NaN   \n",
              "3       NaN       NaN        NaN        NaN        0.0     NaN  NaN   \n",
              "4       NaN       NaN        NaN        NaN        0.0     NaN  NaN   \n",
              "\n",
              "   Annualized_DilutionRate  Total daily transaction volume  Velocity  \\\n",
              "0                      NaN                             NaN       NaN   \n",
              "1                      NaN                             NaN       NaN   \n",
              "2                      NaN                             NaN       NaN   \n",
              "3                      NaN                             NaN       NaN   \n",
              "4                      NaN                             NaN       NaN   \n",
              "\n",
              "   The daily revenue of bitcoin miners  \\\n",
              "0                                  NaN   \n",
              "1                                  NaN   \n",
              "2                                  NaN   \n",
              "3                                  NaN   \n",
              "4                                  NaN   \n",
              "\n",
              "   The accumulated revenue of bitcoin miners  P/E Ratio  Metcalfe  PM  <1year  \\\n",
              "0                                        NaN        NaN       0.0 NaN     NaN   \n",
              "1                                        NaN        NaN       0.0 NaN     NaN   \n",
              "2                                        NaN        NaN       0.0 NaN     NaN   \n",
              "3                                        NaN        NaN       0.0 NaN     NaN   \n",
              "4                                        NaN        NaN       0.0 NaN     NaN   \n",
              "\n",
              "   1-2year  2-3year  3-5year  >5year  One-year staking ratio  \\\n",
              "0      NaN      NaN      NaN     NaN                     NaN   \n",
              "1      NaN      NaN      NaN     NaN                     NaN   \n",
              "2      NaN      NaN      NaN     NaN                     NaN   \n",
              "3      NaN      NaN      NaN     NaN                     NaN   \n",
              "4      NaN      NaN      NaN     NaN                     NaN   \n",
              "\n",
              "   Two-year staking ratio  Three-year staking ratio  Five-year staking ratio  \\\n",
              "0                     NaN                       NaN                      NaN   \n",
              "1                     NaN                       NaN                      NaN   \n",
              "2                     NaN                       NaN                      NaN   \n",
              "3                     NaN                       NaN                      NaN   \n",
              "4                     NaN                       NaN                      NaN   \n",
              "\n",
              "   Token Utility  PU Ratio  volatility30  volatility60  volatility90  \\\n",
              "0            NaN       NaN           NaN           NaN           NaN   \n",
              "1            NaN       NaN           NaN           NaN           NaN   \n",
              "2            NaN       NaN           NaN           NaN           NaN   \n",
              "3            NaN       NaN           NaN           NaN           NaN   \n",
              "4            NaN       NaN           NaN           NaN           NaN   \n",
              "\n",
              "   volatility180  PU_future90d  NVTAdj90_future90d  PM_future90d  \\\n",
              "0            NaN           NaN                 NaN           NaN   \n",
              "1            NaN           NaN                 NaN           NaN   \n",
              "2            NaN           NaN                 NaN           NaN   \n",
              "3            NaN           NaN                 NaN           NaN   \n",
              "4            NaN           NaN                 NaN           NaN   \n",
              "\n",
              "   PriceChange30d  PriceChange60d  PriceChange90d  PriceChange180d  \\\n",
              "0             NaN             NaN             NaN              NaN   \n",
              "1             NaN             NaN             NaN              NaN   \n",
              "2             NaN             NaN             NaN              NaN   \n",
              "3             NaN             NaN             NaN              NaN   \n",
              "4             NaN             NaN             NaN              NaN   \n",
              "\n",
              "   future30d_ROI  future60d_ROI  future90d_ROI  future180d_ROI  \n",
              "0            NaN            NaN            NaN             NaN  \n",
              "1            NaN            NaN            NaN             NaN  \n",
              "2            NaN            NaN            NaN             NaN  \n",
              "3            NaN            NaN            NaN             NaN  \n",
              "4            NaN            NaN            NaN             NaN  "
            ]
          },
          "metadata": {
            "tags": []
          },
          "execution_count": 31
        }
      ]
    },
    {
      "cell_type": "code",
      "metadata": {
        "scrolled": true,
        "id": "l1mTzP4huxFX",
        "colab_type": "code",
        "colab": {
          "base_uri": "https://localhost:8080/",
          "height": 378
        },
        "outputId": "4e63e4cc-45b4-4af9-868e-aa9fc3eebc16"
      },
      "source": [
        "#set \"date\" column as the index\n",
        "df.set_index('Unnamed: 0', inplace=True)\n",
        "#to remove the name of the index\n",
        "df.index.name=None\n",
        "df.tail()"
      ],
      "execution_count": null,
      "outputs": [
        {
          "output_type": "execute_result",
          "data": {
            "text/html": [
              "<div>\n",
              "<style scoped>\n",
              "    .dataframe tbody tr th:only-of-type {\n",
              "        vertical-align: middle;\n",
              "    }\n",
              "\n",
              "    .dataframe tbody tr th {\n",
              "        vertical-align: top;\n",
              "    }\n",
              "\n",
              "    .dataframe thead th {\n",
              "        text-align: right;\n",
              "    }\n",
              "</style>\n",
              "<table border=\"1\" class=\"dataframe\">\n",
              "  <thead>\n",
              "    <tr style=\"text-align: right;\">\n",
              "      <th></th>\n",
              "      <th>BlkCnt</th>\n",
              "      <th>IssTotNtv</th>\n",
              "      <th>SplyCur</th>\n",
              "      <th>TxTfrValAdjUSD</th>\n",
              "      <th>CapMrktCurUSD</th>\n",
              "      <th>NVTAdj90</th>\n",
              "      <th>PriceUSD</th>\n",
              "      <th>FeeTotUSD</th>\n",
              "      <th>IssTotUSD</th>\n",
              "      <th>AdrActCnt</th>\n",
              "      <th>Volume</th>\n",
              "      <th>Type</th>\n",
              "      <th>Annualized_DilutionRate</th>\n",
              "      <th>Total daily transaction volume</th>\n",
              "      <th>Velocity</th>\n",
              "      <th>The daily revenue of bitcoin miners</th>\n",
              "      <th>The accumulated revenue of bitcoin miners</th>\n",
              "      <th>P/E Ratio</th>\n",
              "      <th>Metcalfe</th>\n",
              "      <th>PM</th>\n",
              "      <th>&lt;1year</th>\n",
              "      <th>1-2year</th>\n",
              "      <th>2-3year</th>\n",
              "      <th>3-5year</th>\n",
              "      <th>&gt;5year</th>\n",
              "      <th>One-year staking ratio</th>\n",
              "      <th>Two-year staking ratio</th>\n",
              "      <th>Three-year staking ratio</th>\n",
              "      <th>Five-year staking ratio</th>\n",
              "      <th>Token Utility</th>\n",
              "      <th>PU Ratio</th>\n",
              "      <th>volatility30</th>\n",
              "      <th>volatility60</th>\n",
              "      <th>volatility90</th>\n",
              "      <th>volatility180</th>\n",
              "      <th>PU_future90d</th>\n",
              "      <th>NVTAdj90_future90d</th>\n",
              "      <th>PM_future90d</th>\n",
              "      <th>PriceChange30d</th>\n",
              "      <th>PriceChange60d</th>\n",
              "      <th>PriceChange90d</th>\n",
              "      <th>PriceChange180d</th>\n",
              "      <th>future30d_ROI</th>\n",
              "      <th>future60d_ROI</th>\n",
              "      <th>future90d_ROI</th>\n",
              "      <th>future180d_ROI</th>\n",
              "    </tr>\n",
              "  </thead>\n",
              "  <tbody>\n",
              "    <tr>\n",
              "      <th>2020-06-28</th>\n",
              "      <td>150.0</td>\n",
              "      <td>937.50</td>\n",
              "      <td>1.841734e+07</td>\n",
              "      <td>1.044929e+09</td>\n",
              "      <td>1.677464e+11</td>\n",
              "      <td>84.965505</td>\n",
              "      <td>9108.065675</td>\n",
              "      <td>178764.564868</td>\n",
              "      <td>8.538812e+06</td>\n",
              "      <td>686270.0</td>\n",
              "      <td>1.456087e+10</td>\n",
              "      <td>BTC</td>\n",
              "      <td>1.883975</td>\n",
              "      <td>1.560580e+10</td>\n",
              "      <td>21.670843</td>\n",
              "      <td>8.717576e+06</td>\n",
              "      <td>1.854689e+10</td>\n",
              "      <td>52.718677</td>\n",
              "      <td>4.709665e+11</td>\n",
              "      <td>1.933909</td>\n",
              "      <td>NaN</td>\n",
              "      <td>NaN</td>\n",
              "      <td>NaN</td>\n",
              "      <td>NaN</td>\n",
              "      <td>NaN</td>\n",
              "      <td>NaN</td>\n",
              "      <td>NaN</td>\n",
              "      <td>NaN</td>\n",
              "      <td>NaN</td>\n",
              "      <td>NaN</td>\n",
              "      <td>NaN</td>\n",
              "      <td>0.027537</td>\n",
              "      <td>0.031297</td>\n",
              "      <td>0.033409</td>\n",
              "      <td>0.033409</td>\n",
              "      <td>NaN</td>\n",
              "      <td>NaN</td>\n",
              "      <td>NaN</td>\n",
              "      <td>-3.438650</td>\n",
              "      <td>3.951551</td>\n",
              "      <td>41.497578</td>\n",
              "      <td>27.076373</td>\n",
              "      <td>NaN</td>\n",
              "      <td>NaN</td>\n",
              "      <td>NaN</td>\n",
              "      <td>NaN</td>\n",
              "    </tr>\n",
              "    <tr>\n",
              "      <th>2020-06-29</th>\n",
              "      <td>145.0</td>\n",
              "      <td>906.25</td>\n",
              "      <td>1.841825e+07</td>\n",
              "      <td>1.825444e+09</td>\n",
              "      <td>1.691578e+11</td>\n",
              "      <td>85.628193</td>\n",
              "      <td>9184.247366</td>\n",
              "      <td>308429.074080</td>\n",
              "      <td>8.323224e+06</td>\n",
              "      <td>962232.0</td>\n",
              "      <td>1.646055e+10</td>\n",
              "      <td>BTC</td>\n",
              "      <td>1.879341</td>\n",
              "      <td>1.828599e+10</td>\n",
              "      <td>21.383505</td>\n",
              "      <td>8.631653e+06</td>\n",
              "      <td>1.855552e+10</td>\n",
              "      <td>53.691440</td>\n",
              "      <td>9.258904e+11</td>\n",
              "      <td>0.991937</td>\n",
              "      <td>NaN</td>\n",
              "      <td>NaN</td>\n",
              "      <td>NaN</td>\n",
              "      <td>NaN</td>\n",
              "      <td>NaN</td>\n",
              "      <td>NaN</td>\n",
              "      <td>NaN</td>\n",
              "      <td>NaN</td>\n",
              "      <td>NaN</td>\n",
              "      <td>NaN</td>\n",
              "      <td>NaN</td>\n",
              "      <td>0.027077</td>\n",
              "      <td>0.031259</td>\n",
              "      <td>0.033407</td>\n",
              "      <td>0.033407</td>\n",
              "      <td>NaN</td>\n",
              "      <td>NaN</td>\n",
              "      <td>NaN</td>\n",
              "      <td>-5.235760</td>\n",
              "      <td>6.146684</td>\n",
              "      <td>42.781408</td>\n",
              "      <td>28.081423</td>\n",
              "      <td>NaN</td>\n",
              "      <td>NaN</td>\n",
              "      <td>NaN</td>\n",
              "      <td>NaN</td>\n",
              "    </tr>\n",
              "    <tr>\n",
              "      <th>2020-06-30</th>\n",
              "      <td>147.0</td>\n",
              "      <td>918.75</td>\n",
              "      <td>1.841917e+07</td>\n",
              "      <td>2.063592e+09</td>\n",
              "      <td>1.684243e+11</td>\n",
              "      <td>84.979256</td>\n",
              "      <td>9143.967585</td>\n",
              "      <td>407570.997824</td>\n",
              "      <td>8.401020e+06</td>\n",
              "      <td>926238.0</td>\n",
              "      <td>1.573580e+10</td>\n",
              "      <td>BTC</td>\n",
              "      <td>1.878009</td>\n",
              "      <td>1.779939e+10</td>\n",
              "      <td>21.318103</td>\n",
              "      <td>8.808591e+06</td>\n",
              "      <td>1.856433e+10</td>\n",
              "      <td>52.384807</td>\n",
              "      <td>8.579168e+11</td>\n",
              "      <td>1.065834</td>\n",
              "      <td>NaN</td>\n",
              "      <td>NaN</td>\n",
              "      <td>NaN</td>\n",
              "      <td>NaN</td>\n",
              "      <td>NaN</td>\n",
              "      <td>NaN</td>\n",
              "      <td>NaN</td>\n",
              "      <td>NaN</td>\n",
              "      <td>NaN</td>\n",
              "      <td>NaN</td>\n",
              "      <td>NaN</td>\n",
              "      <td>0.026666</td>\n",
              "      <td>0.031133</td>\n",
              "      <td>0.033284</td>\n",
              "      <td>0.033284</td>\n",
              "      <td>NaN</td>\n",
              "      <td>NaN</td>\n",
              "      <td>NaN</td>\n",
              "      <td>-3.073754</td>\n",
              "      <td>3.257085</td>\n",
              "      <td>37.645885</td>\n",
              "      <td>31.628006</td>\n",
              "      <td>NaN</td>\n",
              "      <td>NaN</td>\n",
              "      <td>NaN</td>\n",
              "      <td>NaN</td>\n",
              "    </tr>\n",
              "    <tr>\n",
              "      <th>2020-07-01</th>\n",
              "      <td>162.0</td>\n",
              "      <td>1012.50</td>\n",
              "      <td>1.842018e+07</td>\n",
              "      <td>2.197590e+09</td>\n",
              "      <td>1.702271e+11</td>\n",
              "      <td>85.716151</td>\n",
              "      <td>9241.339612</td>\n",
              "      <td>573024.429645</td>\n",
              "      <td>9.356856e+06</td>\n",
              "      <td>1078007.0</td>\n",
              "      <td>1.597155e+10</td>\n",
              "      <td>BTC</td>\n",
              "      <td>1.889464</td>\n",
              "      <td>1.816914e+10</td>\n",
              "      <td>20.887828</td>\n",
              "      <td>9.929881e+06</td>\n",
              "      <td>1.857426e+10</td>\n",
              "      <td>46.966900</td>\n",
              "      <td>1.162099e+12</td>\n",
              "      <td>0.795228</td>\n",
              "      <td>NaN</td>\n",
              "      <td>NaN</td>\n",
              "      <td>NaN</td>\n",
              "      <td>NaN</td>\n",
              "      <td>NaN</td>\n",
              "      <td>NaN</td>\n",
              "      <td>NaN</td>\n",
              "      <td>NaN</td>\n",
              "      <td>NaN</td>\n",
              "      <td>NaN</td>\n",
              "      <td>NaN</td>\n",
              "      <td>0.021887</td>\n",
              "      <td>0.031114</td>\n",
              "      <td>0.033233</td>\n",
              "      <td>0.033233</td>\n",
              "      <td>NaN</td>\n",
              "      <td>NaN</td>\n",
              "      <td>NaN</td>\n",
              "      <td>-9.390948</td>\n",
              "      <td>2.941402</td>\n",
              "      <td>36.047259</td>\n",
              "      <td>26.328760</td>\n",
              "      <td>NaN</td>\n",
              "      <td>NaN</td>\n",
              "      <td>NaN</td>\n",
              "      <td>NaN</td>\n",
              "    </tr>\n",
              "    <tr>\n",
              "      <th>2020-07-02</th>\n",
              "      <td>NaN</td>\n",
              "      <td>NaN</td>\n",
              "      <td>NaN</td>\n",
              "      <td>NaN</td>\n",
              "      <td>NaN</td>\n",
              "      <td>NaN</td>\n",
              "      <td>NaN</td>\n",
              "      <td>NaN</td>\n",
              "      <td>NaN</td>\n",
              "      <td>NaN</td>\n",
              "      <td>1.633892e+10</td>\n",
              "      <td>BTC</td>\n",
              "      <td>NaN</td>\n",
              "      <td>NaN</td>\n",
              "      <td>NaN</td>\n",
              "      <td>NaN</td>\n",
              "      <td>NaN</td>\n",
              "      <td>NaN</td>\n",
              "      <td>NaN</td>\n",
              "      <td>NaN</td>\n",
              "      <td>NaN</td>\n",
              "      <td>NaN</td>\n",
              "      <td>NaN</td>\n",
              "      <td>NaN</td>\n",
              "      <td>NaN</td>\n",
              "      <td>NaN</td>\n",
              "      <td>NaN</td>\n",
              "      <td>NaN</td>\n",
              "      <td>NaN</td>\n",
              "      <td>NaN</td>\n",
              "      <td>NaN</td>\n",
              "      <td>0.018210</td>\n",
              "      <td>0.031087</td>\n",
              "      <td>0.033219</td>\n",
              "      <td>0.033219</td>\n",
              "      <td>NaN</td>\n",
              "      <td>NaN</td>\n",
              "      <td>NaN</td>\n",
              "      <td>-2.849002</td>\n",
              "      <td>3.872675</td>\n",
              "      <td>36.870157</td>\n",
              "      <td>25.849557</td>\n",
              "      <td>NaN</td>\n",
              "      <td>NaN</td>\n",
              "      <td>NaN</td>\n",
              "      <td>NaN</td>\n",
              "    </tr>\n",
              "  </tbody>\n",
              "</table>\n",
              "</div>"
            ],
            "text/plain": [
              "            BlkCnt  IssTotNtv       SplyCur  TxTfrValAdjUSD  CapMrktCurUSD  \\\n",
              "2020-06-28   150.0     937.50  1.841734e+07    1.044929e+09   1.677464e+11   \n",
              "2020-06-29   145.0     906.25  1.841825e+07    1.825444e+09   1.691578e+11   \n",
              "2020-06-30   147.0     918.75  1.841917e+07    2.063592e+09   1.684243e+11   \n",
              "2020-07-01   162.0    1012.50  1.842018e+07    2.197590e+09   1.702271e+11   \n",
              "2020-07-02     NaN        NaN           NaN             NaN            NaN   \n",
              "\n",
              "             NVTAdj90     PriceUSD      FeeTotUSD     IssTotUSD  AdrActCnt  \\\n",
              "2020-06-28  84.965505  9108.065675  178764.564868  8.538812e+06   686270.0   \n",
              "2020-06-29  85.628193  9184.247366  308429.074080  8.323224e+06   962232.0   \n",
              "2020-06-30  84.979256  9143.967585  407570.997824  8.401020e+06   926238.0   \n",
              "2020-07-01  85.716151  9241.339612  573024.429645  9.356856e+06  1078007.0   \n",
              "2020-07-02        NaN          NaN            NaN           NaN        NaN   \n",
              "\n",
              "                  Volume Type  Annualized_DilutionRate  \\\n",
              "2020-06-28  1.456087e+10  BTC                 1.883975   \n",
              "2020-06-29  1.646055e+10  BTC                 1.879341   \n",
              "2020-06-30  1.573580e+10  BTC                 1.878009   \n",
              "2020-07-01  1.597155e+10  BTC                 1.889464   \n",
              "2020-07-02  1.633892e+10  BTC                      NaN   \n",
              "\n",
              "            Total daily transaction volume   Velocity  \\\n",
              "2020-06-28                    1.560580e+10  21.670843   \n",
              "2020-06-29                    1.828599e+10  21.383505   \n",
              "2020-06-30                    1.779939e+10  21.318103   \n",
              "2020-07-01                    1.816914e+10  20.887828   \n",
              "2020-07-02                             NaN        NaN   \n",
              "\n",
              "            The daily revenue of bitcoin miners  \\\n",
              "2020-06-28                         8.717576e+06   \n",
              "2020-06-29                         8.631653e+06   \n",
              "2020-06-30                         8.808591e+06   \n",
              "2020-07-01                         9.929881e+06   \n",
              "2020-07-02                                  NaN   \n",
              "\n",
              "            The accumulated revenue of bitcoin miners  P/E Ratio  \\\n",
              "2020-06-28                               1.854689e+10  52.718677   \n",
              "2020-06-29                               1.855552e+10  53.691440   \n",
              "2020-06-30                               1.856433e+10  52.384807   \n",
              "2020-07-01                               1.857426e+10  46.966900   \n",
              "2020-07-02                                        NaN        NaN   \n",
              "\n",
              "                Metcalfe        PM  <1year  1-2year  2-3year  3-5year  >5year  \\\n",
              "2020-06-28  4.709665e+11  1.933909     NaN      NaN      NaN      NaN     NaN   \n",
              "2020-06-29  9.258904e+11  0.991937     NaN      NaN      NaN      NaN     NaN   \n",
              "2020-06-30  8.579168e+11  1.065834     NaN      NaN      NaN      NaN     NaN   \n",
              "2020-07-01  1.162099e+12  0.795228     NaN      NaN      NaN      NaN     NaN   \n",
              "2020-07-02           NaN       NaN     NaN      NaN      NaN      NaN     NaN   \n",
              "\n",
              "            One-year staking ratio  Two-year staking ratio  \\\n",
              "2020-06-28                     NaN                     NaN   \n",
              "2020-06-29                     NaN                     NaN   \n",
              "2020-06-30                     NaN                     NaN   \n",
              "2020-07-01                     NaN                     NaN   \n",
              "2020-07-02                     NaN                     NaN   \n",
              "\n",
              "            Three-year staking ratio  Five-year staking ratio  Token Utility  \\\n",
              "2020-06-28                       NaN                      NaN            NaN   \n",
              "2020-06-29                       NaN                      NaN            NaN   \n",
              "2020-06-30                       NaN                      NaN            NaN   \n",
              "2020-07-01                       NaN                      NaN            NaN   \n",
              "2020-07-02                       NaN                      NaN            NaN   \n",
              "\n",
              "            PU Ratio  volatility30  volatility60  volatility90  volatility180  \\\n",
              "2020-06-28       NaN      0.027537      0.031297      0.033409       0.033409   \n",
              "2020-06-29       NaN      0.027077      0.031259      0.033407       0.033407   \n",
              "2020-06-30       NaN      0.026666      0.031133      0.033284       0.033284   \n",
              "2020-07-01       NaN      0.021887      0.031114      0.033233       0.033233   \n",
              "2020-07-02       NaN      0.018210      0.031087      0.033219       0.033219   \n",
              "\n",
              "            PU_future90d  NVTAdj90_future90d  PM_future90d  PriceChange30d  \\\n",
              "2020-06-28           NaN                 NaN           NaN       -3.438650   \n",
              "2020-06-29           NaN                 NaN           NaN       -5.235760   \n",
              "2020-06-30           NaN                 NaN           NaN       -3.073754   \n",
              "2020-07-01           NaN                 NaN           NaN       -9.390948   \n",
              "2020-07-02           NaN                 NaN           NaN       -2.849002   \n",
              "\n",
              "            PriceChange60d  PriceChange90d  PriceChange180d  future30d_ROI  \\\n",
              "2020-06-28        3.951551       41.497578        27.076373            NaN   \n",
              "2020-06-29        6.146684       42.781408        28.081423            NaN   \n",
              "2020-06-30        3.257085       37.645885        31.628006            NaN   \n",
              "2020-07-01        2.941402       36.047259        26.328760            NaN   \n",
              "2020-07-02        3.872675       36.870157        25.849557            NaN   \n",
              "\n",
              "            future60d_ROI  future90d_ROI  future180d_ROI  \n",
              "2020-06-28            NaN            NaN             NaN  \n",
              "2020-06-29            NaN            NaN             NaN  \n",
              "2020-06-30            NaN            NaN             NaN  \n",
              "2020-07-01            NaN            NaN             NaN  \n",
              "2020-07-02            NaN            NaN             NaN  "
            ]
          },
          "metadata": {
            "tags": []
          },
          "execution_count": 32
        }
      ]
    },
    {
      "cell_type": "code",
      "metadata": {
        "id": "PNFiKsu0uxFa",
        "colab_type": "code",
        "colab": {
          "base_uri": "https://localhost:8080/",
          "height": 55
        },
        "outputId": "c4eb604d-68a4-4519-b491-de8db39e9107"
      },
      "source": [
        "import matplotlib.pyplot as plt\n",
        "print(plt.style.available)\n",
        "####Check different styles here: https://matplotlib.org/3.1.1/gallery/style_sheets/style_sheets_reference.html\n",
        "plt.style.use('seaborn-bright')"
      ],
      "execution_count": null,
      "outputs": [
        {
          "output_type": "stream",
          "text": [
            "['Solarize_Light2', '_classic_test_patch', 'bmh', 'classic', 'dark_background', 'fast', 'fivethirtyeight', 'ggplot', 'grayscale', 'seaborn', 'seaborn-bright', 'seaborn-colorblind', 'seaborn-dark', 'seaborn-dark-palette', 'seaborn-darkgrid', 'seaborn-deep', 'seaborn-muted', 'seaborn-notebook', 'seaborn-paper', 'seaborn-pastel', 'seaborn-poster', 'seaborn-talk', 'seaborn-ticks', 'seaborn-white', 'seaborn-whitegrid', 'tableau-colorblind10']\n"
          ],
          "name": "stdout"
        }
      ]
    },
    {
      "cell_type": "code",
      "metadata": {
        "id": "Kwy78N5GuxFe",
        "colab_type": "code",
        "colab": {}
      },
      "source": [
        "df['PU_future180d']=df['PU Ratio'].shift(-180)\n",
        "df['NVT_future180d']=df['NVTAdj90'].shift(-180)\n",
        "df['PM_future180d']=df['PM'].shift(-180)\n"
      ],
      "execution_count": null,
      "outputs": []
    },
    {
      "cell_type": "code",
      "metadata": {
        "id": "_EyKxv_9uxFh",
        "colab_type": "code",
        "colab": {}
      },
      "source": [
        "df_180=df[['PU Ratio','PU_future180d','NVTAdj90','NVT_future180d','future180d_ROI','PM','PM_future180d']]"
      ],
      "execution_count": null,
      "outputs": []
    },
    {
      "cell_type": "code",
      "metadata": {
        "id": "1sc0BjihuxFl",
        "colab_type": "code",
        "colab": {}
      },
      "source": [
        "df_180=df_180.dropna()"
      ],
      "execution_count": null,
      "outputs": []
    },
    {
      "cell_type": "code",
      "metadata": {
        "id": "qZ3aS5PkuxFn",
        "colab_type": "code",
        "colab": {
          "base_uri": "https://localhost:8080/",
          "height": 202
        },
        "outputId": "6926d175-ad2c-4849-a300-a0b978d0d9f8"
      },
      "source": [
        "df_180.head()"
      ],
      "execution_count": null,
      "outputs": [
        {
          "output_type": "execute_result",
          "data": {
            "text/html": [
              "<div>\n",
              "<style scoped>\n",
              "    .dataframe tbody tr th:only-of-type {\n",
              "        vertical-align: middle;\n",
              "    }\n",
              "\n",
              "    .dataframe tbody tr th {\n",
              "        vertical-align: top;\n",
              "    }\n",
              "\n",
              "    .dataframe thead th {\n",
              "        text-align: right;\n",
              "    }\n",
              "</style>\n",
              "<table border=\"1\" class=\"dataframe\">\n",
              "  <thead>\n",
              "    <tr style=\"text-align: right;\">\n",
              "      <th></th>\n",
              "      <th>PU Ratio</th>\n",
              "      <th>PU_future180d</th>\n",
              "      <th>NVTAdj90</th>\n",
              "      <th>NVT_future180d</th>\n",
              "      <th>future180d_ROI</th>\n",
              "      <th>PM</th>\n",
              "      <th>PM_future180d</th>\n",
              "    </tr>\n",
              "  </thead>\n",
              "  <tbody>\n",
              "    <tr>\n",
              "      <th>2010-10-15</th>\n",
              "      <td>0.463020</td>\n",
              "      <td>1.119958</td>\n",
              "      <td>154.643925</td>\n",
              "      <td>79.217615</td>\n",
              "      <td>786.019103</td>\n",
              "      <td>30.998689</td>\n",
              "      <td>4.099103</td>\n",
              "    </tr>\n",
              "    <tr>\n",
              "      <th>2010-10-16</th>\n",
              "      <td>0.418576</td>\n",
              "      <td>1.288265</td>\n",
              "      <td>144.681892</td>\n",
              "      <td>84.173979</td>\n",
              "      <td>888.742343</td>\n",
              "      <td>11.602674</td>\n",
              "      <td>2.624067</td>\n",
              "    </tr>\n",
              "    <tr>\n",
              "      <th>2010-10-17</th>\n",
              "      <td>0.434648</td>\n",
              "      <td>1.237092</td>\n",
              "      <td>147.263082</td>\n",
              "      <td>82.118080</td>\n",
              "      <td>864.385428</td>\n",
              "      <td>18.085074</td>\n",
              "      <td>5.711558</td>\n",
              "    </tr>\n",
              "    <tr>\n",
              "      <th>2010-10-18</th>\n",
              "      <td>0.432816</td>\n",
              "      <td>1.384352</td>\n",
              "      <td>145.972987</td>\n",
              "      <td>85.980433</td>\n",
              "      <td>922.102400</td>\n",
              "      <td>11.418262</td>\n",
              "      <td>3.980140</td>\n",
              "    </tr>\n",
              "    <tr>\n",
              "      <th>2010-10-19</th>\n",
              "      <td>0.391168</td>\n",
              "      <td>1.484788</td>\n",
              "      <td>137.869691</td>\n",
              "      <td>87.829926</td>\n",
              "      <td>1025.760741</td>\n",
              "      <td>4.899486</td>\n",
              "      <td>5.625993</td>\n",
              "    </tr>\n",
              "  </tbody>\n",
              "</table>\n",
              "</div>"
            ],
            "text/plain": [
              "            PU Ratio  PU_future180d    NVTAdj90  NVT_future180d  \\\n",
              "2010-10-15  0.463020       1.119958  154.643925       79.217615   \n",
              "2010-10-16  0.418576       1.288265  144.681892       84.173979   \n",
              "2010-10-17  0.434648       1.237092  147.263082       82.118080   \n",
              "2010-10-18  0.432816       1.384352  145.972987       85.980433   \n",
              "2010-10-19  0.391168       1.484788  137.869691       87.829926   \n",
              "\n",
              "            future180d_ROI         PM  PM_future180d  \n",
              "2010-10-15      786.019103  30.998689       4.099103  \n",
              "2010-10-16      888.742343  11.602674       2.624067  \n",
              "2010-10-17      864.385428  18.085074       5.711558  \n",
              "2010-10-18      922.102400  11.418262       3.980140  \n",
              "2010-10-19     1025.760741   4.899486       5.625993  "
            ]
          },
          "metadata": {
            "tags": []
          },
          "execution_count": 37
        }
      ]
    },
    {
      "cell_type": "code",
      "metadata": {
        "id": "fOhIlRdezxVY",
        "colab_type": "code",
        "colab": {
          "base_uri": "https://localhost:8080/",
          "height": 202
        },
        "outputId": "227768d5-3d49-40e5-e658-ce232a0b7392"
      },
      "source": [
        "df_180.tail()"
      ],
      "execution_count": null,
      "outputs": [
        {
          "output_type": "execute_result",
          "data": {
            "text/html": [
              "<div>\n",
              "<style scoped>\n",
              "    .dataframe tbody tr th:only-of-type {\n",
              "        vertical-align: middle;\n",
              "    }\n",
              "\n",
              "    .dataframe tbody tr th {\n",
              "        vertical-align: top;\n",
              "    }\n",
              "\n",
              "    .dataframe thead th {\n",
              "        text-align: right;\n",
              "    }\n",
              "</style>\n",
              "<table border=\"1\" class=\"dataframe\">\n",
              "  <thead>\n",
              "    <tr style=\"text-align: right;\">\n",
              "      <th></th>\n",
              "      <th>PU Ratio</th>\n",
              "      <th>PU_future180d</th>\n",
              "      <th>NVTAdj90</th>\n",
              "      <th>NVT_future180d</th>\n",
              "      <th>future180d_ROI</th>\n",
              "      <th>PM</th>\n",
              "      <th>PM_future180d</th>\n",
              "    </tr>\n",
              "  </thead>\n",
              "  <tbody>\n",
              "    <tr>\n",
              "      <th>2019-09-25</th>\n",
              "      <td>42.836382</td>\n",
              "      <td>12.172811</td>\n",
              "      <td>59.499692</td>\n",
              "      <td>61.315945</td>\n",
              "      <td>-23.002288</td>\n",
              "      <td>1.370730</td>\n",
              "      <td>1.455861</td>\n",
              "    </tr>\n",
              "    <tr>\n",
              "      <th>2019-09-26</th>\n",
              "      <td>40.204026</td>\n",
              "      <td>13.134281</td>\n",
              "      <td>57.768579</td>\n",
              "      <td>63.573657</td>\n",
              "      <td>-16.271469</td>\n",
              "      <td>1.478249</td>\n",
              "      <td>1.249921</td>\n",
              "    </tr>\n",
              "    <tr>\n",
              "      <th>2019-09-27</th>\n",
              "      <td>41.306156</td>\n",
              "      <td>12.582958</td>\n",
              "      <td>58.582589</td>\n",
              "      <td>62.632848</td>\n",
              "      <td>-18.283265</td>\n",
              "      <td>1.605682</td>\n",
              "      <td>1.938508</td>\n",
              "    </tr>\n",
              "    <tr>\n",
              "      <th>2019-09-28</th>\n",
              "      <td>41.726024</td>\n",
              "      <td>12.841833</td>\n",
              "      <td>59.040570</td>\n",
              "      <td>63.264534</td>\n",
              "      <td>-17.648407</td>\n",
              "      <td>2.135032</td>\n",
              "      <td>0.853296</td>\n",
              "    </tr>\n",
              "    <tr>\n",
              "      <th>2019-09-29</th>\n",
              "      <td>40.490159</td>\n",
              "      <td>11.868722</td>\n",
              "      <td>58.635547</td>\n",
              "      <td>60.623003</td>\n",
              "      <td>-19.514056</td>\n",
              "      <td>2.531822</td>\n",
              "      <td>0.995063</td>\n",
              "    </tr>\n",
              "  </tbody>\n",
              "</table>\n",
              "</div>"
            ],
            "text/plain": [
              "             PU Ratio  PU_future180d   NVTAdj90  NVT_future180d  \\\n",
              "2019-09-25  42.836382      12.172811  59.499692       61.315945   \n",
              "2019-09-26  40.204026      13.134281  57.768579       63.573657   \n",
              "2019-09-27  41.306156      12.582958  58.582589       62.632848   \n",
              "2019-09-28  41.726024      12.841833  59.040570       63.264534   \n",
              "2019-09-29  40.490159      11.868722  58.635547       60.623003   \n",
              "\n",
              "            future180d_ROI        PM  PM_future180d  \n",
              "2019-09-25      -23.002288  1.370730       1.455861  \n",
              "2019-09-26      -16.271469  1.478249       1.249921  \n",
              "2019-09-27      -18.283265  1.605682       1.938508  \n",
              "2019-09-28      -17.648407  2.135032       0.853296  \n",
              "2019-09-29      -19.514056  2.531822       0.995063  "
            ]
          },
          "metadata": {
            "tags": []
          },
          "execution_count": 38
        }
      ]
    },
    {
      "cell_type": "code",
      "metadata": {
        "id": "FkctcCkpuxFp",
        "colab_type": "code",
        "colab": {}
      },
      "source": [
        "from sklearn.cluster import KMeans"
      ],
      "execution_count": null,
      "outputs": []
    },
    {
      "cell_type": "code",
      "metadata": {
        "id": "5peEFZ9duxFs",
        "colab_type": "code",
        "colab": {
          "base_uri": "https://localhost:8080/",
          "height": 202
        },
        "outputId": "f876771d-f097-4933-852c-e5144ad0484d"
      },
      "source": [
        "### We cluster the data by PU today and after n days\n",
        "model = KMeans(n_clusters=4, random_state=0)\n",
        "model.fit(df_180[['PU Ratio','PU_future180d']])\n",
        "labels180 = model.predict(df_180[['PU Ratio','PU_future180d']])\n",
        "labels180.reshape(-1,1)\n",
        "df_180['labels180']=labels180\n",
        "df_180.head()"
      ],
      "execution_count": null,
      "outputs": [
        {
          "output_type": "execute_result",
          "data": {
            "text/html": [
              "<div>\n",
              "<style scoped>\n",
              "    .dataframe tbody tr th:only-of-type {\n",
              "        vertical-align: middle;\n",
              "    }\n",
              "\n",
              "    .dataframe tbody tr th {\n",
              "        vertical-align: top;\n",
              "    }\n",
              "\n",
              "    .dataframe thead th {\n",
              "        text-align: right;\n",
              "    }\n",
              "</style>\n",
              "<table border=\"1\" class=\"dataframe\">\n",
              "  <thead>\n",
              "    <tr style=\"text-align: right;\">\n",
              "      <th></th>\n",
              "      <th>PU Ratio</th>\n",
              "      <th>PU_future180d</th>\n",
              "      <th>NVTAdj90</th>\n",
              "      <th>NVT_future180d</th>\n",
              "      <th>future180d_ROI</th>\n",
              "      <th>PM</th>\n",
              "      <th>PM_future180d</th>\n",
              "      <th>labels180</th>\n",
              "    </tr>\n",
              "  </thead>\n",
              "  <tbody>\n",
              "    <tr>\n",
              "      <th>2010-10-15</th>\n",
              "      <td>0.463020</td>\n",
              "      <td>1.119958</td>\n",
              "      <td>154.643925</td>\n",
              "      <td>79.217615</td>\n",
              "      <td>786.019103</td>\n",
              "      <td>30.998689</td>\n",
              "      <td>4.099103</td>\n",
              "      <td>0</td>\n",
              "    </tr>\n",
              "    <tr>\n",
              "      <th>2010-10-16</th>\n",
              "      <td>0.418576</td>\n",
              "      <td>1.288265</td>\n",
              "      <td>144.681892</td>\n",
              "      <td>84.173979</td>\n",
              "      <td>888.742343</td>\n",
              "      <td>11.602674</td>\n",
              "      <td>2.624067</td>\n",
              "      <td>0</td>\n",
              "    </tr>\n",
              "    <tr>\n",
              "      <th>2010-10-17</th>\n",
              "      <td>0.434648</td>\n",
              "      <td>1.237092</td>\n",
              "      <td>147.263082</td>\n",
              "      <td>82.118080</td>\n",
              "      <td>864.385428</td>\n",
              "      <td>18.085074</td>\n",
              "      <td>5.711558</td>\n",
              "      <td>0</td>\n",
              "    </tr>\n",
              "    <tr>\n",
              "      <th>2010-10-18</th>\n",
              "      <td>0.432816</td>\n",
              "      <td>1.384352</td>\n",
              "      <td>145.972987</td>\n",
              "      <td>85.980433</td>\n",
              "      <td>922.102400</td>\n",
              "      <td>11.418262</td>\n",
              "      <td>3.980140</td>\n",
              "      <td>0</td>\n",
              "    </tr>\n",
              "    <tr>\n",
              "      <th>2010-10-19</th>\n",
              "      <td>0.391168</td>\n",
              "      <td>1.484788</td>\n",
              "      <td>137.869691</td>\n",
              "      <td>87.829926</td>\n",
              "      <td>1025.760741</td>\n",
              "      <td>4.899486</td>\n",
              "      <td>5.625993</td>\n",
              "      <td>0</td>\n",
              "    </tr>\n",
              "  </tbody>\n",
              "</table>\n",
              "</div>"
            ],
            "text/plain": [
              "            PU Ratio  PU_future180d    NVTAdj90  NVT_future180d  \\\n",
              "2010-10-15  0.463020       1.119958  154.643925       79.217615   \n",
              "2010-10-16  0.418576       1.288265  144.681892       84.173979   \n",
              "2010-10-17  0.434648       1.237092  147.263082       82.118080   \n",
              "2010-10-18  0.432816       1.384352  145.972987       85.980433   \n",
              "2010-10-19  0.391168       1.484788  137.869691       87.829926   \n",
              "\n",
              "            future180d_ROI         PM  PM_future180d  labels180  \n",
              "2010-10-15      786.019103  30.998689       4.099103          0  \n",
              "2010-10-16      888.742343  11.602674       2.624067          0  \n",
              "2010-10-17      864.385428  18.085074       5.711558          0  \n",
              "2010-10-18      922.102400  11.418262       3.980140          0  \n",
              "2010-10-19     1025.760741   4.899486       5.625993          0  "
            ]
          },
          "metadata": {
            "tags": []
          },
          "execution_count": 40
        }
      ]
    },
    {
      "cell_type": "code",
      "metadata": {
        "id": "OrQYbc1juxFw",
        "colab_type": "code",
        "colab": {
          "base_uri": "https://localhost:8080/",
          "height": 171
        },
        "outputId": "3090e76b-40eb-42f6-d843-ea0b3b08fe48"
      },
      "source": [
        "centroids = model.cluster_centers_\n",
        "centroids_x = centroids[:,0]\n",
        "centroids_y = centroids[:,1]\n",
        "centroids=pd.DataFrame(centroids)\n",
        "centroids.columns=['centroids_x','centroids_y']\n",
        "centroids.head()"
      ],
      "execution_count": null,
      "outputs": [
        {
          "output_type": "execute_result",
          "data": {
            "text/html": [
              "<div>\n",
              "<style scoped>\n",
              "    .dataframe tbody tr th:only-of-type {\n",
              "        vertical-align: middle;\n",
              "    }\n",
              "\n",
              "    .dataframe tbody tr th {\n",
              "        vertical-align: top;\n",
              "    }\n",
              "\n",
              "    .dataframe thead th {\n",
              "        text-align: right;\n",
              "    }\n",
              "</style>\n",
              "<table border=\"1\" class=\"dataframe\">\n",
              "  <thead>\n",
              "    <tr style=\"text-align: right;\">\n",
              "      <th></th>\n",
              "      <th>centroids_x</th>\n",
              "      <th>centroids_y</th>\n",
              "    </tr>\n",
              "  </thead>\n",
              "  <tbody>\n",
              "    <tr>\n",
              "      <th>0</th>\n",
              "      <td>17.967704</td>\n",
              "      <td>22.714218</td>\n",
              "    </tr>\n",
              "    <tr>\n",
              "      <th>1</th>\n",
              "      <td>439.204960</td>\n",
              "      <td>96.111355</td>\n",
              "    </tr>\n",
              "    <tr>\n",
              "      <th>2</th>\n",
              "      <td>95.343252</td>\n",
              "      <td>83.985287</td>\n",
              "    </tr>\n",
              "    <tr>\n",
              "      <th>3</th>\n",
              "      <td>38.175529</td>\n",
              "      <td>428.085802</td>\n",
              "    </tr>\n",
              "  </tbody>\n",
              "</table>\n",
              "</div>"
            ],
            "text/plain": [
              "   centroids_x  centroids_y\n",
              "0    17.967704    22.714218\n",
              "1   439.204960    96.111355\n",
              "2    95.343252    83.985287\n",
              "3    38.175529   428.085802"
            ]
          },
          "metadata": {
            "tags": []
          },
          "execution_count": 41
        }
      ]
    },
    {
      "cell_type": "code",
      "metadata": {
        "id": "vyHlhUEZuxFy",
        "colab_type": "code",
        "colab": {}
      },
      "source": [
        "%matplotlib inline\n",
        "import seaborn as sns"
      ],
      "execution_count": null,
      "outputs": []
    },
    {
      "cell_type": "code",
      "metadata": {
        "id": "baH4bQHeuxF0",
        "colab_type": "code",
        "colab": {
          "base_uri": "https://localhost:8080/",
          "height": 781
        },
        "outputId": "a7c701be-7eb6-45a8-bd85-12b88ac56f7f"
      },
      "source": [
        "plt.figure(figsize=(14, 10))\n",
        "sns.lmplot('PU Ratio', 'PU_future180d', data=df_180, hue='labels180', fit_reg=False, legend=True,size=10)\n",
        "plt.scatter(centroids_x, centroids_y, marker='D', s=50, color='black')\n",
        "plt.savefig('PU180_full')"
      ],
      "execution_count": null,
      "outputs": [
        {
          "output_type": "stream",
          "text": [
            "/usr/local/lib/python3.6/dist-packages/seaborn/regression.py:573: UserWarning: The `size` parameter has been renamed to `height`; please update your code.\n",
            "  warnings.warn(msg, UserWarning)\n"
          ],
          "name": "stderr"
        },
        {
          "output_type": "display_data",
          "data": {
            "text/plain": [
              "<Figure size 1008x720 with 0 Axes>"
            ]
          },
          "metadata": {
            "tags": []
          }
        },
        {
          "output_type": "display_data",
          "data": {
            "image/png": "[encoded data removed]",
            "text/plain": [
              "<Figure size 776.375x720 with 1 Axes>"
            ]
          },
          "metadata": {
            "tags": [],
            "needs_background": "light"
          }
        }
      ]
    },
    {
      "cell_type": "code",
      "metadata": {
        "id": "TSkUR5nVuxF3",
        "colab_type": "code",
        "colab": {
          "base_uri": "https://localhost:8080/",
          "height": 171
        },
        "outputId": "7de9863d-3613-48ad-a9e5-e0e5b7991be8"
      },
      "source": [
        "df_180_ROI=df_180[['future180d_ROI','labels180']].groupby('labels180', as_index=False).agg(['min', 'max','mean','std'])\n",
        "df_180_ROI.columns = [\"_\".join(x) for x in df_180_ROI.columns.ravel()]\n",
        "df_180_ROI.index.name=None\n",
        "df_180_ROI.head()"
      ],
      "execution_count": null,
      "outputs": [
        {
          "output_type": "execute_result",
          "data": {
            "text/html": [
              "<div>\n",
              "<style scoped>\n",
              "    .dataframe tbody tr th:only-of-type {\n",
              "        vertical-align: middle;\n",
              "    }\n",
              "\n",
              "    .dataframe tbody tr th {\n",
              "        vertical-align: top;\n",
              "    }\n",
              "\n",
              "    .dataframe thead th {\n",
              "        text-align: right;\n",
              "    }\n",
              "</style>\n",
              "<table border=\"1\" class=\"dataframe\">\n",
              "  <thead>\n",
              "    <tr style=\"text-align: right;\">\n",
              "      <th></th>\n",
              "      <th>future180d_ROI_min</th>\n",
              "      <th>future180d_ROI_max</th>\n",
              "      <th>future180d_ROI_mean</th>\n",
              "      <th>future180d_ROI_std</th>\n",
              "    </tr>\n",
              "  </thead>\n",
              "  <tbody>\n",
              "    <tr>\n",
              "      <th>0</th>\n",
              "      <td>-87.585958</td>\n",
              "      <td>11519.421767</td>\n",
              "      <td>308.755401</td>\n",
              "      <td>936.060043</td>\n",
              "    </tr>\n",
              "    <tr>\n",
              "      <th>1</th>\n",
              "      <td>-66.755748</td>\n",
              "      <td>-24.709613</td>\n",
              "      <td>-48.172903</td>\n",
              "      <td>12.194574</td>\n",
              "    </tr>\n",
              "    <tr>\n",
              "      <th>2</th>\n",
              "      <td>-90.097127</td>\n",
              "      <td>14130.353592</td>\n",
              "      <td>109.360730</td>\n",
              "      <td>687.318016</td>\n",
              "    </tr>\n",
              "    <tr>\n",
              "      <th>3</th>\n",
              "      <td>290.547135</td>\n",
              "      <td>929.905259</td>\n",
              "      <td>530.223730</td>\n",
              "      <td>149.625530</td>\n",
              "    </tr>\n",
              "  </tbody>\n",
              "</table>\n",
              "</div>"
            ],
            "text/plain": [
              "   future180d_ROI_min  future180d_ROI_max  future180d_ROI_mean  \\\n",
              "0          -87.585958        11519.421767           308.755401   \n",
              "1          -66.755748          -24.709613           -48.172903   \n",
              "2          -90.097127        14130.353592           109.360730   \n",
              "3          290.547135          929.905259           530.223730   \n",
              "\n",
              "   future180d_ROI_std  \n",
              "0          936.060043  \n",
              "1           12.194574  \n",
              "2          687.318016  \n",
              "3          149.625530  "
            ]
          },
          "metadata": {
            "tags": []
          },
          "execution_count": 44
        }
      ]
    },
    {
      "cell_type": "code",
      "metadata": {
        "id": "2jiFPU6ouxF5",
        "colab_type": "code",
        "colab": {
          "base_uri": "https://localhost:8080/",
          "height": 294
        },
        "outputId": "06040c67-5e2e-408f-c0c9-1b68944eaf02"
      },
      "source": [
        "df180_PU=df_180[['PU Ratio', 'PU_future180d','labels180']].groupby('labels180').agg(['min', 'max','mean','std'])\n",
        "df180_PU=df180_PU.transpose()\n",
        "df180_PU"
      ],
      "execution_count": null,
      "outputs": [
        {
          "output_type": "execute_result",
          "data": {
            "text/html": [
              "<div>\n",
              "<style scoped>\n",
              "    .dataframe tbody tr th:only-of-type {\n",
              "        vertical-align: middle;\n",
              "    }\n",
              "\n",
              "    .dataframe tbody tr th {\n",
              "        vertical-align: top;\n",
              "    }\n",
              "\n",
              "    .dataframe thead th {\n",
              "        text-align: right;\n",
              "    }\n",
              "</style>\n",
              "<table border=\"1\" class=\"dataframe\">\n",
              "  <thead>\n",
              "    <tr style=\"text-align: right;\">\n",
              "      <th></th>\n",
              "      <th>labels180</th>\n",
              "      <th>0</th>\n",
              "      <th>1</th>\n",
              "      <th>2</th>\n",
              "      <th>3</th>\n",
              "    </tr>\n",
              "  </thead>\n",
              "  <tbody>\n",
              "    <tr>\n",
              "      <th rowspan=\"4\" valign=\"top\">PU Ratio</th>\n",
              "      <th>min</th>\n",
              "      <td>0.331285</td>\n",
              "      <td>269.334754</td>\n",
              "      <td>0.622728</td>\n",
              "      <td>10.419346</td>\n",
              "    </tr>\n",
              "    <tr>\n",
              "      <th>max</th>\n",
              "      <td>88.802758</td>\n",
              "      <td>848.128885</td>\n",
              "      <td>259.290818</td>\n",
              "      <td>73.837379</td>\n",
              "    </tr>\n",
              "    <tr>\n",
              "      <th>mean</th>\n",
              "      <td>18.038258</td>\n",
              "      <td>439.204960</td>\n",
              "      <td>95.426163</td>\n",
              "      <td>38.175529</td>\n",
              "    </tr>\n",
              "    <tr>\n",
              "      <th>std</th>\n",
              "      <td>16.910243</td>\n",
              "      <td>149.643526</td>\n",
              "      <td>47.715320</td>\n",
              "      <td>18.218593</td>\n",
              "    </tr>\n",
              "    <tr>\n",
              "      <th rowspan=\"4\" valign=\"top\">PU_future180d</th>\n",
              "      <th>min</th>\n",
              "      <td>0.331285</td>\n",
              "      <td>52.472002</td>\n",
              "      <td>0.811427</td>\n",
              "      <td>251.507662</td>\n",
              "    </tr>\n",
              "    <tr>\n",
              "      <th>max</th>\n",
              "      <td>107.019877</td>\n",
              "      <td>141.999079</td>\n",
              "      <td>240.559609</td>\n",
              "      <td>848.128885</td>\n",
              "    </tr>\n",
              "    <tr>\n",
              "      <th>mean</th>\n",
              "      <td>22.728182</td>\n",
              "      <td>96.111355</td>\n",
              "      <td>84.167010</td>\n",
              "      <td>428.085802</td>\n",
              "    </tr>\n",
              "    <tr>\n",
              "      <th>std</th>\n",
              "      <td>20.863302</td>\n",
              "      <td>17.141315</td>\n",
              "      <td>52.512141</td>\n",
              "      <td>151.530528</td>\n",
              "    </tr>\n",
              "  </tbody>\n",
              "</table>\n",
              "</div>"
            ],
            "text/plain": [
              "labels180                    0           1           2           3\n",
              "PU Ratio      min     0.331285  269.334754    0.622728   10.419346\n",
              "              max    88.802758  848.128885  259.290818   73.837379\n",
              "              mean   18.038258  439.204960   95.426163   38.175529\n",
              "              std    16.910243  149.643526   47.715320   18.218593\n",
              "PU_future180d min     0.331285   52.472002    0.811427  251.507662\n",
              "              max   107.019877  141.999079  240.559609  848.128885\n",
              "              mean   22.728182   96.111355   84.167010  428.085802\n",
              "              std    20.863302   17.141315   52.512141  151.530528"
            ]
          },
          "metadata": {
            "tags": []
          },
          "execution_count": 45
        }
      ]
    },
    {
      "cell_type": "code",
      "metadata": {
        "id": "GQbyzv6RuxGI",
        "colab_type": "code",
        "colab": {
          "base_uri": "https://localhost:8080/",
          "height": 781
        },
        "outputId": "2d955d74-ec32-4701-b513-d2c85be987c3"
      },
      "source": [
        "plt.figure(figsize=(14, 10))\n",
        "sns.lmplot('PU Ratio', 'PU_future180d', data=df_180, hue='labels180', fit_reg=False, legend=True,size=10)\n",
        "plt.scatter(centroids_x, centroids_y, marker='D', s=50, color='black')\n",
        "plt.axvline(73.84, color='red', linestyle='--')\n",
        "plt.axhline(251.51, color='red', linestyle='--')\n",
        "plt.annotate('The max PU ratio for Category 2 is:73.84',\n",
        "            xy=(130, 700), \n",
        "            horizontalalignment='left', verticalalignment='top',fontsize=12)\n",
        "plt.annotate('The mean PU ratio for Category 2 is:38.18',\n",
        "            xy=(130, 680), \n",
        "            horizontalalignment='left', verticalalignment='top',fontsize=12)\n",
        "plt.annotate('The min PU ratio for Category 2 is:10.42',\n",
        "            xy=(130, 660), \n",
        "            horizontalalignment='left', verticalalignment='top',fontsize=12)\n",
        "\n",
        "plt.annotate('The max PU ratio After 90 days for Category 2 is:848.13',\n",
        "            xy=(130, 300), \n",
        "            horizontalalignment='left', verticalalignment='top',fontsize=12)\n",
        "plt.annotate('The mean PU ratio After 90 days for Category 2 is:428.09',\n",
        "            xy=(130, 320), \n",
        "            horizontalalignment='left', verticalalignment='top',fontsize=12)\n",
        "plt.annotate('The min PU ratio After 90 days for Category 2 is:251.51',\n",
        "            xy=(130, 340), \n",
        "            horizontalalignment='left', verticalalignment='top',fontsize=12)\n",
        "plt.savefig('PU80_full_annoted')"
      ],
      "execution_count": null,
      "outputs": [
        {
          "output_type": "stream",
          "text": [
            "/usr/local/lib/python3.6/dist-packages/seaborn/regression.py:573: UserWarning: The `size` parameter has been renamed to `height`; please update your code.\n",
            "  warnings.warn(msg, UserWarning)\n"
          ],
          "name": "stderr"
        },
        {
          "output_type": "display_data",
          "data": {
            "text/plain": [
              "<Figure size 1008x720 with 0 Axes>"
            ]
          },
          "metadata": {
            "tags": []
          }
        },
        {
          "output_type": "display_data",
          "data": {
            "image/png": "[encoded data removed]",
            "text/plain": [
              "<Figure size 776.375x720 with 1 Axes>"
            ]
          },
          "metadata": {
            "tags": [],
            "needs_background": "light"
          }
        }
      ]
    },
    {
      "cell_type": "code",
      "metadata": {
        "id": "XWC38_hiuxF7",
        "colab_type": "code",
        "colab": {
          "base_uri": "https://localhost:8080/",
          "height": 609
        },
        "outputId": "8ac458a4-9fb2-4e12-bed2-ce433ae6da4e"
      },
      "source": [
        "df180_PU.iloc[0:4].plot(kind='bar',figsize=(14, 10))\n",
        "plt.title('PU ratio on buy-in date by Clustering Categories',fontsize=16)\n",
        "plt.xticks(rotation=360)\n",
        "plt.savefig('180PU_full_buyin')"
      ],
      "execution_count": null,
      "outputs": [
        {
          "output_type": "display_data",
          "data": {
            "image/png": "[encoded data removed]",
            "text/plain": [
              "<Figure size 1008x720 with 1 Axes>"
            ]
          },
          "metadata": {
            "tags": [],
            "needs_background": "light"
          }
        }
      ]
    },
    {
      "cell_type": "code",
      "metadata": {
        "id": "nHeXQhKiuxGA",
        "colab_type": "code",
        "colab": {
          "base_uri": "https://localhost:8080/",
          "height": 610
        },
        "outputId": "502d9059-2086-46d4-e270-e7a175a9e050"
      },
      "source": [
        "df180_PU.iloc[4:8].plot(kind='bar',figsize=(14, 10))\n",
        "plt.title('PU ratio on sell-out date by Clustering Categories',fontsize=16)\n",
        "plt.xticks(rotation=360)\n",
        "plt.savefig('180PU_full_sellout')"
      ],
      "execution_count": null,
      "outputs": [
        {
          "output_type": "display_data",
          "data": {
            "image/png": "[encoded data removed]",
            "text/plain": [
              "<Figure size 1008x720 with 1 Axes>"
            ]
          },
          "metadata": {
            "tags": [],
            "needs_background": "light"
          }
        }
      ]
    },
    {
      "cell_type": "code",
      "metadata": {
        "id": "oXpOZgIluxGD",
        "colab_type": "code",
        "colab": {
          "base_uri": "https://localhost:8080/",
          "height": 171
        },
        "outputId": "63b32468-d815-46ff-cb29-5fe5790af218"
      },
      "source": [
        "df_180_ROI=df_180_ROI.transpose()\n",
        "df_180_ROI.columns=['labels180=0', 'labels180=1','labels180=2', 'labels180=3']\n",
        "df_180_ROI.head()"
      ],
      "execution_count": null,
      "outputs": [
        {
          "output_type": "execute_result",
          "data": {
            "text/html": [
              "<div>\n",
              "<style scoped>\n",
              "    .dataframe tbody tr th:only-of-type {\n",
              "        vertical-align: middle;\n",
              "    }\n",
              "\n",
              "    .dataframe tbody tr th {\n",
              "        vertical-align: top;\n",
              "    }\n",
              "\n",
              "    .dataframe thead th {\n",
              "        text-align: right;\n",
              "    }\n",
              "</style>\n",
              "<table border=\"1\" class=\"dataframe\">\n",
              "  <thead>\n",
              "    <tr style=\"text-align: right;\">\n",
              "      <th></th>\n",
              "      <th>labels180=0</th>\n",
              "      <th>labels180=1</th>\n",
              "      <th>labels180=2</th>\n",
              "      <th>labels180=3</th>\n",
              "    </tr>\n",
              "  </thead>\n",
              "  <tbody>\n",
              "    <tr>\n",
              "      <th>future180d_ROI_min</th>\n",
              "      <td>-87.585958</td>\n",
              "      <td>-66.755748</td>\n",
              "      <td>-90.097127</td>\n",
              "      <td>290.547135</td>\n",
              "    </tr>\n",
              "    <tr>\n",
              "      <th>future180d_ROI_max</th>\n",
              "      <td>11519.421767</td>\n",
              "      <td>-24.709613</td>\n",
              "      <td>14130.353592</td>\n",
              "      <td>929.905259</td>\n",
              "    </tr>\n",
              "    <tr>\n",
              "      <th>future180d_ROI_mean</th>\n",
              "      <td>308.755401</td>\n",
              "      <td>-48.172903</td>\n",
              "      <td>109.360730</td>\n",
              "      <td>530.223730</td>\n",
              "    </tr>\n",
              "    <tr>\n",
              "      <th>future180d_ROI_std</th>\n",
              "      <td>936.060043</td>\n",
              "      <td>12.194574</td>\n",
              "      <td>687.318016</td>\n",
              "      <td>149.625530</td>\n",
              "    </tr>\n",
              "  </tbody>\n",
              "</table>\n",
              "</div>"
            ],
            "text/plain": [
              "                      labels180=0  labels180=1   labels180=2  labels180=3\n",
              "future180d_ROI_min     -87.585958   -66.755748    -90.097127   290.547135\n",
              "future180d_ROI_max   11519.421767   -24.709613  14130.353592   929.905259\n",
              "future180d_ROI_mean    308.755401   -48.172903    109.360730   530.223730\n",
              "future180d_ROI_std     936.060043    12.194574    687.318016   149.625530"
            ]
          },
          "metadata": {
            "tags": []
          },
          "execution_count": 48
        }
      ]
    },
    {
      "cell_type": "code",
      "metadata": {
        "scrolled": true,
        "id": "LLCjLWq6uxGF",
        "colab_type": "code",
        "colab": {
          "base_uri": "https://localhost:8080/",
          "height": 610
        },
        "outputId": "8f53e17b-939d-4a8d-8726-75d73c801740"
      },
      "source": [
        "df_180_ROI.plot(kind='bar',figsize=(14, 10))\n",
        "plt.title('The Statitiscs of Future 180-day ROI by PU Ratio Clustering Categories',fontsize=16)\n",
        "plt.xticks(rotation=360)\n",
        "plt.savefig('180ROI_full')"
      ],
      "execution_count": null,
      "outputs": [
        {
          "output_type": "display_data",
          "data": {
            "image/png": "[encoded data removed]",
            "text/plain": [
              "<Figure size 1008x720 with 1 Axes>"
            ]
          },
          "metadata": {
            "tags": [],
            "needs_background": "light"
          }
        }
      ]
    },
    {
      "cell_type": "code",
      "metadata": {
        "id": "7EMRj-ACuxGK",
        "colab_type": "code",
        "colab": {
          "base_uri": "https://localhost:8080/",
          "height": 202
        },
        "outputId": "393e31e6-9425-4942-9e5b-0b0c8e1d2991"
      },
      "source": [
        "df_180.head()"
      ],
      "execution_count": null,
      "outputs": [
        {
          "output_type": "execute_result",
          "data": {
            "text/html": [
              "<div>\n",
              "<style scoped>\n",
              "    .dataframe tbody tr th:only-of-type {\n",
              "        vertical-align: middle;\n",
              "    }\n",
              "\n",
              "    .dataframe tbody tr th {\n",
              "        vertical-align: top;\n",
              "    }\n",
              "\n",
              "    .dataframe thead th {\n",
              "        text-align: right;\n",
              "    }\n",
              "</style>\n",
              "<table border=\"1\" class=\"dataframe\">\n",
              "  <thead>\n",
              "    <tr style=\"text-align: right;\">\n",
              "      <th></th>\n",
              "      <th>PU Ratio</th>\n",
              "      <th>PU_future180d</th>\n",
              "      <th>NVTAdj90</th>\n",
              "      <th>NVT_future180d</th>\n",
              "      <th>future180d_ROI</th>\n",
              "      <th>PM</th>\n",
              "      <th>PM_future180d</th>\n",
              "      <th>labels180</th>\n",
              "    </tr>\n",
              "  </thead>\n",
              "  <tbody>\n",
              "    <tr>\n",
              "      <th>2010-10-15</th>\n",
              "      <td>0.463020</td>\n",
              "      <td>1.119958</td>\n",
              "      <td>154.643925</td>\n",
              "      <td>79.217615</td>\n",
              "      <td>786.019103</td>\n",
              "      <td>30.998689</td>\n",
              "      <td>4.099103</td>\n",
              "      <td>0</td>\n",
              "    </tr>\n",
              "    <tr>\n",
              "      <th>2010-10-16</th>\n",
              "      <td>0.418576</td>\n",
              "      <td>1.288265</td>\n",
              "      <td>144.681892</td>\n",
              "      <td>84.173979</td>\n",
              "      <td>888.742343</td>\n",
              "      <td>11.602674</td>\n",
              "      <td>2.624067</td>\n",
              "      <td>0</td>\n",
              "    </tr>\n",
              "    <tr>\n",
              "      <th>2010-10-17</th>\n",
              "      <td>0.434648</td>\n",
              "      <td>1.237092</td>\n",
              "      <td>147.263082</td>\n",
              "      <td>82.118080</td>\n",
              "      <td>864.385428</td>\n",
              "      <td>18.085074</td>\n",
              "      <td>5.711558</td>\n",
              "      <td>0</td>\n",
              "    </tr>\n",
              "    <tr>\n",
              "      <th>2010-10-18</th>\n",
              "      <td>0.432816</td>\n",
              "      <td>1.384352</td>\n",
              "      <td>145.972987</td>\n",
              "      <td>85.980433</td>\n",
              "      <td>922.102400</td>\n",
              "      <td>11.418262</td>\n",
              "      <td>3.980140</td>\n",
              "      <td>0</td>\n",
              "    </tr>\n",
              "    <tr>\n",
              "      <th>2010-10-19</th>\n",
              "      <td>0.391168</td>\n",
              "      <td>1.484788</td>\n",
              "      <td>137.869691</td>\n",
              "      <td>87.829926</td>\n",
              "      <td>1025.760741</td>\n",
              "      <td>4.899486</td>\n",
              "      <td>5.625993</td>\n",
              "      <td>0</td>\n",
              "    </tr>\n",
              "  </tbody>\n",
              "</table>\n",
              "</div>"
            ],
            "text/plain": [
              "            PU Ratio  PU_future180d    NVTAdj90  NVT_future180d  \\\n",
              "2010-10-15  0.463020       1.119958  154.643925       79.217615   \n",
              "2010-10-16  0.418576       1.288265  144.681892       84.173979   \n",
              "2010-10-17  0.434648       1.237092  147.263082       82.118080   \n",
              "2010-10-18  0.432816       1.384352  145.972987       85.980433   \n",
              "2010-10-19  0.391168       1.484788  137.869691       87.829926   \n",
              "\n",
              "            future180d_ROI         PM  PM_future180d  labels180  \n",
              "2010-10-15      786.019103  30.998689       4.099103          0  \n",
              "2010-10-16      888.742343  11.602674       2.624067          0  \n",
              "2010-10-17      864.385428  18.085074       5.711558          0  \n",
              "2010-10-18      922.102400  11.418262       3.980140          0  \n",
              "2010-10-19     1025.760741   4.899486       5.625993          0  "
            ]
          },
          "metadata": {
            "tags": []
          },
          "execution_count": 52
        }
      ]
    },
    {
      "cell_type": "code",
      "metadata": {
        "id": "Ju0fbxqquxGM",
        "colab_type": "code",
        "colab": {
          "base_uri": "https://localhost:8080/",
          "height": 202
        },
        "outputId": "00c17318-e0d9-46b6-c453-1d2c0c6bae97"
      },
      "source": [
        "### We cluster the data by NVT today and after n days\n",
        "model = KMeans(n_clusters=4, random_state=0)\n",
        "model.fit(df_180[['NVTAdj90','NVT_future180d']])\n",
        "labels180_NVT = model.predict(df_180[['NVTAdj90','NVT_future180d']])\n",
        "labels180_NVT.reshape(-1,1)\n",
        "df_180['labels180_NVT']=labels180_NVT\n",
        "df_180.head()"
      ],
      "execution_count": null,
      "outputs": [
        {
          "output_type": "execute_result",
          "data": {
            "text/html": [
              "<div>\n",
              "<style scoped>\n",
              "    .dataframe tbody tr th:only-of-type {\n",
              "        vertical-align: middle;\n",
              "    }\n",
              "\n",
              "    .dataframe tbody tr th {\n",
              "        vertical-align: top;\n",
              "    }\n",
              "\n",
              "    .dataframe thead th {\n",
              "        text-align: right;\n",
              "    }\n",
              "</style>\n",
              "<table border=\"1\" class=\"dataframe\">\n",
              "  <thead>\n",
              "    <tr style=\"text-align: right;\">\n",
              "      <th></th>\n",
              "      <th>PU Ratio</th>\n",
              "      <th>PU_future180d</th>\n",
              "      <th>NVTAdj90</th>\n",
              "      <th>NVT_future180d</th>\n",
              "      <th>future180d_ROI</th>\n",
              "      <th>PM</th>\n",
              "      <th>PM_future180d</th>\n",
              "      <th>labels180</th>\n",
              "      <th>labels180_NVT</th>\n",
              "    </tr>\n",
              "  </thead>\n",
              "  <tbody>\n",
              "    <tr>\n",
              "      <th>2010-10-15</th>\n",
              "      <td>0.463020</td>\n",
              "      <td>1.119958</td>\n",
              "      <td>154.643925</td>\n",
              "      <td>79.217615</td>\n",
              "      <td>786.019103</td>\n",
              "      <td>30.998689</td>\n",
              "      <td>4.099103</td>\n",
              "      <td>0</td>\n",
              "      <td>3</td>\n",
              "    </tr>\n",
              "    <tr>\n",
              "      <th>2010-10-16</th>\n",
              "      <td>0.418576</td>\n",
              "      <td>1.288265</td>\n",
              "      <td>144.681892</td>\n",
              "      <td>84.173979</td>\n",
              "      <td>888.742343</td>\n",
              "      <td>11.602674</td>\n",
              "      <td>2.624067</td>\n",
              "      <td>0</td>\n",
              "      <td>3</td>\n",
              "    </tr>\n",
              "    <tr>\n",
              "      <th>2010-10-17</th>\n",
              "      <td>0.434648</td>\n",
              "      <td>1.237092</td>\n",
              "      <td>147.263082</td>\n",
              "      <td>82.118080</td>\n",
              "      <td>864.385428</td>\n",
              "      <td>18.085074</td>\n",
              "      <td>5.711558</td>\n",
              "      <td>0</td>\n",
              "      <td>3</td>\n",
              "    </tr>\n",
              "    <tr>\n",
              "      <th>2010-10-18</th>\n",
              "      <td>0.432816</td>\n",
              "      <td>1.384352</td>\n",
              "      <td>145.972987</td>\n",
              "      <td>85.980433</td>\n",
              "      <td>922.102400</td>\n",
              "      <td>11.418262</td>\n",
              "      <td>3.980140</td>\n",
              "      <td>0</td>\n",
              "      <td>3</td>\n",
              "    </tr>\n",
              "    <tr>\n",
              "      <th>2010-10-19</th>\n",
              "      <td>0.391168</td>\n",
              "      <td>1.484788</td>\n",
              "      <td>137.869691</td>\n",
              "      <td>87.829926</td>\n",
              "      <td>1025.760741</td>\n",
              "      <td>4.899486</td>\n",
              "      <td>5.625993</td>\n",
              "      <td>0</td>\n",
              "      <td>3</td>\n",
              "    </tr>\n",
              "  </tbody>\n",
              "</table>\n",
              "</div>"
            ],
            "text/plain": [
              "            PU Ratio  PU_future180d    NVTAdj90  NVT_future180d  \\\n",
              "2010-10-15  0.463020       1.119958  154.643925       79.217615   \n",
              "2010-10-16  0.418576       1.288265  144.681892       84.173979   \n",
              "2010-10-17  0.434648       1.237092  147.263082       82.118080   \n",
              "2010-10-18  0.432816       1.384352  145.972987       85.980433   \n",
              "2010-10-19  0.391168       1.484788  137.869691       87.829926   \n",
              "\n",
              "            future180d_ROI         PM  PM_future180d  labels180  labels180_NVT  \n",
              "2010-10-15      786.019103  30.998689       4.099103          0              3  \n",
              "2010-10-16      888.742343  11.602674       2.624067          0              3  \n",
              "2010-10-17      864.385428  18.085074       5.711558          0              3  \n",
              "2010-10-18      922.102400  11.418262       3.980140          0              3  \n",
              "2010-10-19     1025.760741   4.899486       5.625993          0              3  "
            ]
          },
          "metadata": {
            "tags": []
          },
          "execution_count": 53
        }
      ]
    },
    {
      "cell_type": "code",
      "metadata": {
        "id": "kSpuvjBruxGP",
        "colab_type": "code",
        "colab": {
          "base_uri": "https://localhost:8080/",
          "height": 171
        },
        "outputId": "d63bbb5c-3415-4e38-bf8d-88abba5d95d3"
      },
      "source": [
        "centroids = model.cluster_centers_\n",
        "centroids_x = centroids[:,0]\n",
        "centroids_y = centroids[:,1]\n",
        "centroids=pd.DataFrame(centroids)\n",
        "centroids.columns=['centroids_x','centroids_y']\n",
        "centroids.head()"
      ],
      "execution_count": null,
      "outputs": [
        {
          "output_type": "execute_result",
          "data": {
            "text/html": [
              "<div>\n",
              "<style scoped>\n",
              "    .dataframe tbody tr th:only-of-type {\n",
              "        vertical-align: middle;\n",
              "    }\n",
              "\n",
              "    .dataframe tbody tr th {\n",
              "        vertical-align: top;\n",
              "    }\n",
              "\n",
              "    .dataframe thead th {\n",
              "        text-align: right;\n",
              "    }\n",
              "</style>\n",
              "<table border=\"1\" class=\"dataframe\">\n",
              "  <thead>\n",
              "    <tr style=\"text-align: right;\">\n",
              "      <th></th>\n",
              "      <th>centroids_x</th>\n",
              "      <th>centroids_y</th>\n",
              "    </tr>\n",
              "  </thead>\n",
              "  <tbody>\n",
              "    <tr>\n",
              "      <th>0</th>\n",
              "      <td>64.306418</td>\n",
              "      <td>73.199650</td>\n",
              "    </tr>\n",
              "    <tr>\n",
              "      <th>1</th>\n",
              "      <td>43.643854</td>\n",
              "      <td>42.314276</td>\n",
              "    </tr>\n",
              "    <tr>\n",
              "      <th>2</th>\n",
              "      <td>171.845717</td>\n",
              "      <td>150.274746</td>\n",
              "    </tr>\n",
              "    <tr>\n",
              "      <th>3</th>\n",
              "      <td>151.402087</td>\n",
              "      <td>35.603974</td>\n",
              "    </tr>\n",
              "  </tbody>\n",
              "</table>\n",
              "</div>"
            ],
            "text/plain": [
              "   centroids_x  centroids_y\n",
              "0    64.306418    73.199650\n",
              "1    43.643854    42.314276\n",
              "2   171.845717   150.274746\n",
              "3   151.402087    35.603974"
            ]
          },
          "metadata": {
            "tags": []
          },
          "execution_count": 54
        }
      ]
    },
    {
      "cell_type": "code",
      "metadata": {
        "id": "lv9WM0KLuxGT",
        "colab_type": "code",
        "colab": {
          "base_uri": "https://localhost:8080/",
          "height": 781
        },
        "outputId": "ddab0b61-0f50-4d66-b6be-4b4e30e0f140"
      },
      "source": [
        "plt.figure(figsize=(14, 10))\n",
        "sns.lmplot('NVTAdj90', 'NVT_future180d', data=df_180, hue='labels180_NVT', fit_reg=False, legend=True,size=10)\n",
        "plt.scatter(centroids_x, centroids_y, marker='D', s=50, color='black')\n",
        "plt.savefig('NVT180_full')"
      ],
      "execution_count": null,
      "outputs": [
        {
          "output_type": "stream",
          "text": [
            "/usr/local/lib/python3.6/dist-packages/seaborn/regression.py:573: UserWarning: The `size` parameter has been renamed to `height`; please update your code.\n",
            "  warnings.warn(msg, UserWarning)\n"
          ],
          "name": "stderr"
        },
        {
          "output_type": "display_data",
          "data": {
            "text/plain": [
              "<Figure size 1008x720 with 0 Axes>"
            ]
          },
          "metadata": {
            "tags": []
          }
        },
        {
          "output_type": "display_data",
          "data": {
            "image/png": "[encoded data removed]",
            "text/plain": [
              "<Figure size 801.75x720 with 1 Axes>"
            ]
          },
          "metadata": {
            "tags": [],
            "needs_background": "light"
          }
        }
      ]
    },
    {
      "cell_type": "code",
      "metadata": {
        "id": "j3cfy2EtuxGV",
        "colab_type": "code",
        "colab": {
          "base_uri": "https://localhost:8080/",
          "height": 171
        },
        "outputId": "b286e3b2-a8bb-4928-b493-1bb408f313e4"
      },
      "source": [
        "df_180_ROI=df_180[['future180d_ROI','labels180_NVT']].groupby('labels180_NVT', as_index=False).agg(['min', 'max','mean','std'])\n",
        "df_180_ROI.columns = [\"_\".join(x) for x in df_180_ROI.columns.ravel()]\n",
        "df_180_ROI.index.name=None\n",
        "df_180_ROI.head()"
      ],
      "execution_count": null,
      "outputs": [
        {
          "output_type": "execute_result",
          "data": {
            "text/html": [
              "<div>\n",
              "<style scoped>\n",
              "    .dataframe tbody tr th:only-of-type {\n",
              "        vertical-align: middle;\n",
              "    }\n",
              "\n",
              "    .dataframe tbody tr th {\n",
              "        vertical-align: top;\n",
              "    }\n",
              "\n",
              "    .dataframe thead th {\n",
              "        text-align: right;\n",
              "    }\n",
              "</style>\n",
              "<table border=\"1\" class=\"dataframe\">\n",
              "  <thead>\n",
              "    <tr style=\"text-align: right;\">\n",
              "      <th></th>\n",
              "      <th>future180d_ROI_min</th>\n",
              "      <th>future180d_ROI_max</th>\n",
              "      <th>future180d_ROI_mean</th>\n",
              "      <th>future180d_ROI_std</th>\n",
              "    </tr>\n",
              "  </thead>\n",
              "  <tbody>\n",
              "    <tr>\n",
              "      <th>0</th>\n",
              "      <td>-72.154165</td>\n",
              "      <td>7921.296584</td>\n",
              "      <td>60.506527</td>\n",
              "      <td>339.370298</td>\n",
              "    </tr>\n",
              "    <tr>\n",
              "      <th>1</th>\n",
              "      <td>-83.624579</td>\n",
              "      <td>1421.459550</td>\n",
              "      <td>173.142789</td>\n",
              "      <td>231.321935</td>\n",
              "    </tr>\n",
              "    <tr>\n",
              "      <th>2</th>\n",
              "      <td>733.502203</td>\n",
              "      <td>14130.353592</td>\n",
              "      <td>3647.908616</td>\n",
              "      <td>3261.507428</td>\n",
              "    </tr>\n",
              "    <tr>\n",
              "      <th>3</th>\n",
              "      <td>-90.097127</td>\n",
              "      <td>7339.569520</td>\n",
              "      <td>1478.502973</td>\n",
              "      <td>2073.005443</td>\n",
              "    </tr>\n",
              "  </tbody>\n",
              "</table>\n",
              "</div>"
            ],
            "text/plain": [
              "   future180d_ROI_min  future180d_ROI_max  future180d_ROI_mean  \\\n",
              "0          -72.154165         7921.296584            60.506527   \n",
              "1          -83.624579         1421.459550           173.142789   \n",
              "2          733.502203        14130.353592          3647.908616   \n",
              "3          -90.097127         7339.569520          1478.502973   \n",
              "\n",
              "   future180d_ROI_std  \n",
              "0          339.370298  \n",
              "1          231.321935  \n",
              "2         3261.507428  \n",
              "3         2073.005443  "
            ]
          },
          "metadata": {
            "tags": []
          },
          "execution_count": 56
        }
      ]
    },
    {
      "cell_type": "code",
      "metadata": {
        "id": "_XFFiqxOuxGX",
        "colab_type": "code",
        "colab": {
          "base_uri": "https://localhost:8080/",
          "height": 294
        },
        "outputId": "377e9866-cc8e-40d2-a57a-2795737a4a83"
      },
      "source": [
        "df180_NVT=df_180[['NVTAdj90', 'NVT_future180d','labels180_NVT']].groupby('labels180_NVT').agg(['min', 'max','mean','std'])\n",
        "df180_NVT=df180_NVT.transpose()\n",
        "df180_NVT"
      ],
      "execution_count": null,
      "outputs": [
        {
          "output_type": "execute_result",
          "data": {
            "text/html": [
              "<div>\n",
              "<style scoped>\n",
              "    .dataframe tbody tr th:only-of-type {\n",
              "        vertical-align: middle;\n",
              "    }\n",
              "\n",
              "    .dataframe tbody tr th {\n",
              "        vertical-align: top;\n",
              "    }\n",
              "\n",
              "    .dataframe thead th {\n",
              "        text-align: right;\n",
              "    }\n",
              "</style>\n",
              "<table border=\"1\" class=\"dataframe\">\n",
              "  <thead>\n",
              "    <tr style=\"text-align: right;\">\n",
              "      <th></th>\n",
              "      <th>labels180_NVT</th>\n",
              "      <th>0</th>\n",
              "      <th>1</th>\n",
              "      <th>2</th>\n",
              "      <th>3</th>\n",
              "    </tr>\n",
              "  </thead>\n",
              "  <tbody>\n",
              "    <tr>\n",
              "      <th rowspan=\"4\" valign=\"top\">NVTAdj90</th>\n",
              "      <th>min</th>\n",
              "      <td>26.661871</td>\n",
              "      <td>11.810125</td>\n",
              "      <td>106.856060</td>\n",
              "      <td>96.893294</td>\n",
              "    </tr>\n",
              "    <tr>\n",
              "      <th>max</th>\n",
              "      <td>124.403714</td>\n",
              "      <td>95.832027</td>\n",
              "      <td>355.931337</td>\n",
              "      <td>256.362055</td>\n",
              "    </tr>\n",
              "    <tr>\n",
              "      <th>mean</th>\n",
              "      <td>64.306418</td>\n",
              "      <td>43.643854</td>\n",
              "      <td>171.845717</td>\n",
              "      <td>151.402087</td>\n",
              "    </tr>\n",
              "    <tr>\n",
              "      <th>std</th>\n",
              "      <td>18.665100</td>\n",
              "      <td>12.720376</td>\n",
              "      <td>47.798626</td>\n",
              "      <td>36.813903</td>\n",
              "    </tr>\n",
              "    <tr>\n",
              "      <th rowspan=\"4\" valign=\"top\">NVT_future180d</th>\n",
              "      <th>min</th>\n",
              "      <td>33.930015</td>\n",
              "      <td>11.818506</td>\n",
              "      <td>97.857132</td>\n",
              "      <td>11.810125</td>\n",
              "    </tr>\n",
              "    <tr>\n",
              "      <th>max</th>\n",
              "      <td>154.082818</td>\n",
              "      <td>74.036997</td>\n",
              "      <td>256.362055</td>\n",
              "      <td>90.874008</td>\n",
              "    </tr>\n",
              "    <tr>\n",
              "      <th>mean</th>\n",
              "      <td>73.199650</td>\n",
              "      <td>42.314276</td>\n",
              "      <td>150.274746</td>\n",
              "      <td>35.603974</td>\n",
              "    </tr>\n",
              "    <tr>\n",
              "      <th>std</th>\n",
              "      <td>16.347130</td>\n",
              "      <td>9.030486</td>\n",
              "      <td>37.037233</td>\n",
              "      <td>19.213055</td>\n",
              "    </tr>\n",
              "  </tbody>\n",
              "</table>\n",
              "</div>"
            ],
            "text/plain": [
              "labels180_NVT                 0          1           2           3\n",
              "NVTAdj90       min    26.661871  11.810125  106.856060   96.893294\n",
              "               max   124.403714  95.832027  355.931337  256.362055\n",
              "               mean   64.306418  43.643854  171.845717  151.402087\n",
              "               std    18.665100  12.720376   47.798626   36.813903\n",
              "NVT_future180d min    33.930015  11.818506   97.857132   11.810125\n",
              "               max   154.082818  74.036997  256.362055   90.874008\n",
              "               mean   73.199650  42.314276  150.274746   35.603974\n",
              "               std    16.347130   9.030486   37.037233   19.213055"
            ]
          },
          "metadata": {
            "tags": []
          },
          "execution_count": 58
        }
      ]
    },
    {
      "cell_type": "code",
      "metadata": {
        "id": "QRURAMmVuxGZ",
        "colab_type": "code",
        "colab": {
          "base_uri": "https://localhost:8080/",
          "height": 609
        },
        "outputId": "98e379d4-3cb0-4381-eb8a-31c1deedb3dd"
      },
      "source": [
        "df180_NVT.iloc[0:4].plot(kind='bar',figsize=(14, 10))\n",
        "plt.title('NVT ratio on buy-in date by Clustering Categories',fontsize=16)\n",
        "plt.xticks(rotation=360)\n",
        "plt.savefig('180NVT_full_buyin')"
      ],
      "execution_count": null,
      "outputs": [
        {
          "output_type": "display_data",
          "data": {
            "image/png": "[encoded data removed]",
            "text/plain": [
              "<Figure size 1008x720 with 1 Axes>"
            ]
          },
          "metadata": {
            "tags": [],
            "needs_background": "light"
          }
        }
      ]
    },
    {
      "cell_type": "code",
      "metadata": {
        "id": "-USkLyJ0uxGb",
        "colab_type": "code",
        "colab": {
          "base_uri": "https://localhost:8080/",
          "height": 610
        },
        "outputId": "1df0d3e2-916e-469e-ff47-dc471acae3f2"
      },
      "source": [
        "df180_NVT.iloc[4:8].plot(kind='bar',figsize=(14, 10))\n",
        "plt.title('NVT ratio on sell-out date by Clustering Categories',fontsize=16)\n",
        "plt.xticks(rotation=360)\n",
        "plt.savefig('180NVT_full_sellout')"
      ],
      "execution_count": null,
      "outputs": [
        {
          "output_type": "display_data",
          "data": {
            "image/png": "[encoded data removed]",
            "text/plain": [
              "<Figure size 1008x720 with 1 Axes>"
            ]
          },
          "metadata": {
            "tags": [],
            "needs_background": "light"
          }
        }
      ]
    },
    {
      "cell_type": "code",
      "metadata": {
        "id": "aSvgyCMHuxGe",
        "colab_type": "code",
        "colab": {
          "base_uri": "https://localhost:8080/",
          "height": 171
        },
        "outputId": "7f6c8dac-7e55-4d9c-a3a2-d6500642928f"
      },
      "source": [
        "df_180_ROI=df_180_ROI.transpose()\n",
        "df_180_ROI.columns=['labels180_NVT=0', 'labels180_NVT=1','labels180_NVT=2', 'labels180_NVT=3']\n",
        "df_180_ROI.head()"
      ],
      "execution_count": null,
      "outputs": [
        {
          "output_type": "execute_result",
          "data": {
            "text/html": [
              "<div>\n",
              "<style scoped>\n",
              "    .dataframe tbody tr th:only-of-type {\n",
              "        vertical-align: middle;\n",
              "    }\n",
              "\n",
              "    .dataframe tbody tr th {\n",
              "        vertical-align: top;\n",
              "    }\n",
              "\n",
              "    .dataframe thead th {\n",
              "        text-align: right;\n",
              "    }\n",
              "</style>\n",
              "<table border=\"1\" class=\"dataframe\">\n",
              "  <thead>\n",
              "    <tr style=\"text-align: right;\">\n",
              "      <th></th>\n",
              "      <th>labels180_NVT=0</th>\n",
              "      <th>labels180_NVT=1</th>\n",
              "      <th>labels180_NVT=2</th>\n",
              "      <th>labels180_NVT=3</th>\n",
              "    </tr>\n",
              "  </thead>\n",
              "  <tbody>\n",
              "    <tr>\n",
              "      <th>future180d_ROI_min</th>\n",
              "      <td>-72.154165</td>\n",
              "      <td>-83.624579</td>\n",
              "      <td>733.502203</td>\n",
              "      <td>-90.097127</td>\n",
              "    </tr>\n",
              "    <tr>\n",
              "      <th>future180d_ROI_max</th>\n",
              "      <td>7921.296584</td>\n",
              "      <td>1421.459550</td>\n",
              "      <td>14130.353592</td>\n",
              "      <td>7339.569520</td>\n",
              "    </tr>\n",
              "    <tr>\n",
              "      <th>future180d_ROI_mean</th>\n",
              "      <td>60.506527</td>\n",
              "      <td>173.142789</td>\n",
              "      <td>3647.908616</td>\n",
              "      <td>1478.502973</td>\n",
              "    </tr>\n",
              "    <tr>\n",
              "      <th>future180d_ROI_std</th>\n",
              "      <td>339.370298</td>\n",
              "      <td>231.321935</td>\n",
              "      <td>3261.507428</td>\n",
              "      <td>2073.005443</td>\n",
              "    </tr>\n",
              "  </tbody>\n",
              "</table>\n",
              "</div>"
            ],
            "text/plain": [
              "                     labels180_NVT=0  labels180_NVT=1  labels180_NVT=2  \\\n",
              "future180d_ROI_min        -72.154165       -83.624579       733.502203   \n",
              "future180d_ROI_max       7921.296584      1421.459550     14130.353592   \n",
              "future180d_ROI_mean        60.506527       173.142789      3647.908616   \n",
              "future180d_ROI_std        339.370298       231.321935      3261.507428   \n",
              "\n",
              "                     labels180_NVT=3  \n",
              "future180d_ROI_min        -90.097127  \n",
              "future180d_ROI_max       7339.569520  \n",
              "future180d_ROI_mean      1478.502973  \n",
              "future180d_ROI_std       2073.005443  "
            ]
          },
          "metadata": {
            "tags": []
          },
          "execution_count": 61
        }
      ]
    },
    {
      "cell_type": "code",
      "metadata": {
        "id": "m4KZoIx_uxGg",
        "colab_type": "code",
        "colab": {
          "base_uri": "https://localhost:8080/",
          "height": 610
        },
        "outputId": "5b13d51a-a0dd-4fab-9d4c-0eaf7db9bfca"
      },
      "source": [
        "df_180_ROI.plot(kind='bar',figsize=(14, 10))\n",
        "plt.title('The Statitiscs of Future 180-day ROI by NVT Ratio Clustering Categories',fontsize=16)\n",
        "plt.xticks(rotation=360)\n",
        "plt.savefig('180ROI_full_NVT')"
      ],
      "execution_count": null,
      "outputs": [
        {
          "output_type": "display_data",
          "data": {
            "image/png": "[encoded data removed]",
            "text/plain": [
              "<Figure size 1008x720 with 1 Axes>"
            ]
          },
          "metadata": {
            "tags": [],
            "needs_background": "light"
          }
        }
      ]
    },
    {
      "cell_type": "code",
      "metadata": {
        "id": "6D5p2JgG00Xe",
        "colab_type": "code",
        "colab": {
          "base_uri": "https://localhost:8080/",
          "height": 202
        },
        "outputId": "cb2b26a4-3a6d-444b-8207-df35222e0360"
      },
      "source": [
        "model = KMeans(n_clusters=4, random_state=0)\n",
        "model.fit(df_180[['PM','PM_future180d']])\n",
        "labels180 = model.predict(df_180[['PM','PM_future180d']])\n",
        "labels180.reshape(-1,1)\n",
        "df_180['labels180']=labels180\n",
        "df_180.head()"
      ],
      "execution_count": null,
      "outputs": [
        {
          "output_type": "execute_result",
          "data": {
            "text/html": [
              "<div>\n",
              "<style scoped>\n",
              "    .dataframe tbody tr th:only-of-type {\n",
              "        vertical-align: middle;\n",
              "    }\n",
              "\n",
              "    .dataframe tbody tr th {\n",
              "        vertical-align: top;\n",
              "    }\n",
              "\n",
              "    .dataframe thead th {\n",
              "        text-align: right;\n",
              "    }\n",
              "</style>\n",
              "<table border=\"1\" class=\"dataframe\">\n",
              "  <thead>\n",
              "    <tr style=\"text-align: right;\">\n",
              "      <th></th>\n",
              "      <th>PU Ratio</th>\n",
              "      <th>PU_future180d</th>\n",
              "      <th>NVTAdj90</th>\n",
              "      <th>NVT_future180d</th>\n",
              "      <th>future180d_ROI</th>\n",
              "      <th>PM</th>\n",
              "      <th>PM_future180d</th>\n",
              "      <th>labels180</th>\n",
              "      <th>labels180_NVT</th>\n",
              "    </tr>\n",
              "  </thead>\n",
              "  <tbody>\n",
              "    <tr>\n",
              "      <th>2010-10-15</th>\n",
              "      <td>0.463020</td>\n",
              "      <td>1.119958</td>\n",
              "      <td>154.643925</td>\n",
              "      <td>79.217615</td>\n",
              "      <td>786.019103</td>\n",
              "      <td>30.998689</td>\n",
              "      <td>4.099103</td>\n",
              "      <td>2</td>\n",
              "      <td>3</td>\n",
              "    </tr>\n",
              "    <tr>\n",
              "      <th>2010-10-16</th>\n",
              "      <td>0.418576</td>\n",
              "      <td>1.288265</td>\n",
              "      <td>144.681892</td>\n",
              "      <td>84.173979</td>\n",
              "      <td>888.742343</td>\n",
              "      <td>11.602674</td>\n",
              "      <td>2.624067</td>\n",
              "      <td>2</td>\n",
              "      <td>3</td>\n",
              "    </tr>\n",
              "    <tr>\n",
              "      <th>2010-10-17</th>\n",
              "      <td>0.434648</td>\n",
              "      <td>1.237092</td>\n",
              "      <td>147.263082</td>\n",
              "      <td>82.118080</td>\n",
              "      <td>864.385428</td>\n",
              "      <td>18.085074</td>\n",
              "      <td>5.711558</td>\n",
              "      <td>2</td>\n",
              "      <td>3</td>\n",
              "    </tr>\n",
              "    <tr>\n",
              "      <th>2010-10-18</th>\n",
              "      <td>0.432816</td>\n",
              "      <td>1.384352</td>\n",
              "      <td>145.972987</td>\n",
              "      <td>85.980433</td>\n",
              "      <td>922.102400</td>\n",
              "      <td>11.418262</td>\n",
              "      <td>3.980140</td>\n",
              "      <td>2</td>\n",
              "      <td>3</td>\n",
              "    </tr>\n",
              "    <tr>\n",
              "      <th>2010-10-19</th>\n",
              "      <td>0.391168</td>\n",
              "      <td>1.484788</td>\n",
              "      <td>137.869691</td>\n",
              "      <td>87.829926</td>\n",
              "      <td>1025.760741</td>\n",
              "      <td>4.899486</td>\n",
              "      <td>5.625993</td>\n",
              "      <td>0</td>\n",
              "      <td>3</td>\n",
              "    </tr>\n",
              "  </tbody>\n",
              "</table>\n",
              "</div>"
            ],
            "text/plain": [
              "            PU Ratio  PU_future180d    NVTAdj90  NVT_future180d  \\\n",
              "2010-10-15  0.463020       1.119958  154.643925       79.217615   \n",
              "2010-10-16  0.418576       1.288265  144.681892       84.173979   \n",
              "2010-10-17  0.434648       1.237092  147.263082       82.118080   \n",
              "2010-10-18  0.432816       1.384352  145.972987       85.980433   \n",
              "2010-10-19  0.391168       1.484788  137.869691       87.829926   \n",
              "\n",
              "            future180d_ROI         PM  PM_future180d  labels180  labels180_NVT  \n",
              "2010-10-15      786.019103  30.998689       4.099103          2              3  \n",
              "2010-10-16      888.742343  11.602674       2.624067          2              3  \n",
              "2010-10-17      864.385428  18.085074       5.711558          2              3  \n",
              "2010-10-18      922.102400  11.418262       3.980140          2              3  \n",
              "2010-10-19     1025.760741   4.899486       5.625993          0              3  "
            ]
          },
          "metadata": {
            "tags": []
          },
          "execution_count": 63
        }
      ]
    },
    {
      "cell_type": "code",
      "metadata": {
        "id": "odu77Y5Q1EDo",
        "colab_type": "code",
        "colab": {
          "base_uri": "https://localhost:8080/",
          "height": 171
        },
        "outputId": "a207c3e2-b2d0-4072-fbf8-893195d511be"
      },
      "source": [
        "centroids = model.cluster_centers_\n",
        "centroids_x = centroids[:,0]\n",
        "centroids_y = centroids[:,1]\n",
        "centroids=pd.DataFrame(centroids)\n",
        "centroids.columns=['centroids_x','centroids_y']\n",
        "centroids.head()"
      ],
      "execution_count": null,
      "outputs": [
        {
          "output_type": "execute_result",
          "data": {
            "text/html": [
              "<div>\n",
              "<style scoped>\n",
              "    .dataframe tbody tr th:only-of-type {\n",
              "        vertical-align: middle;\n",
              "    }\n",
              "\n",
              "    .dataframe tbody tr th {\n",
              "        vertical-align: top;\n",
              "    }\n",
              "\n",
              "    .dataframe thead th {\n",
              "        text-align: right;\n",
              "    }\n",
              "</style>\n",
              "<table border=\"1\" class=\"dataframe\">\n",
              "  <thead>\n",
              "    <tr style=\"text-align: right;\">\n",
              "      <th></th>\n",
              "      <th>centroids_x</th>\n",
              "      <th>centroids_y</th>\n",
              "    </tr>\n",
              "  </thead>\n",
              "  <tbody>\n",
              "    <tr>\n",
              "      <th>0</th>\n",
              "      <td>1.436474</td>\n",
              "      <td>1.260126</td>\n",
              "    </tr>\n",
              "    <tr>\n",
              "      <th>1</th>\n",
              "      <td>49.837862</td>\n",
              "      <td>5.148512</td>\n",
              "    </tr>\n",
              "    <tr>\n",
              "      <th>2</th>\n",
              "      <td>19.092676</td>\n",
              "      <td>3.321805</td>\n",
              "    </tr>\n",
              "    <tr>\n",
              "      <th>3</th>\n",
              "      <td>105.480729</td>\n",
              "      <td>8.705485</td>\n",
              "    </tr>\n",
              "  </tbody>\n",
              "</table>\n",
              "</div>"
            ],
            "text/plain": [
              "   centroids_x  centroids_y\n",
              "0     1.436474     1.260126\n",
              "1    49.837862     5.148512\n",
              "2    19.092676     3.321805\n",
              "3   105.480729     8.705485"
            ]
          },
          "metadata": {
            "tags": []
          },
          "execution_count": 64
        }
      ]
    },
    {
      "cell_type": "code",
      "metadata": {
        "id": "zWCUC5QZ1HOe",
        "colab_type": "code",
        "colab": {
          "base_uri": "https://localhost:8080/",
          "height": 781
        },
        "outputId": "e711af62-9a59-43ba-c094-d0312735de46"
      },
      "source": [
        "plt.figure(figsize=(14, 10))\n",
        "sns.lmplot('PM','PM_future180d', data=df_180, hue='labels180', fit_reg=False, legend=True,size=10)\n",
        "plt.scatter(centroids_x, centroids_y, marker='D', s=50, color='black')\n",
        "plt.savefig('PM180_full')"
      ],
      "execution_count": null,
      "outputs": [
        {
          "output_type": "stream",
          "text": [
            "/usr/local/lib/python3.6/dist-packages/seaborn/regression.py:573: UserWarning: The `size` parameter has been renamed to `height`; please update your code.\n",
            "  warnings.warn(msg, UserWarning)\n"
          ],
          "name": "stderr"
        },
        {
          "output_type": "display_data",
          "data": {
            "text/plain": [
              "<Figure size 1008x720 with 0 Axes>"
            ]
          },
          "metadata": {
            "tags": []
          }
        },
        {
          "output_type": "display_data",
          "data": {
            "image/png": "[encoded data removed]",
            "text/plain": [
              "<Figure size 776.375x720 with 1 Axes>"
            ]
          },
          "metadata": {
            "tags": [],
            "needs_background": "light"
          }
        }
      ]
    },
    {
      "cell_type": "code",
      "metadata": {
        "id": "0WXtoSG21JLe",
        "colab_type": "code",
        "colab": {
          "base_uri": "https://localhost:8080/",
          "height": 171
        },
        "outputId": "d2a87d27-5640-4979-8ff9-751413205228"
      },
      "source": [
        "df_180_ROI=df_180[['future180d_ROI','labels180']].groupby('labels180', as_index=False).agg(['min', 'max','mean','std'])\n",
        "df_180_ROI.columns = [\"_\".join(x) for x in df_180_ROI.columns.ravel()]\n",
        "df_180_ROI.index.name=None\n",
        "df_180_ROI.head()"
      ],
      "execution_count": null,
      "outputs": [
        {
          "output_type": "execute_result",
          "data": {
            "text/html": [
              "<div>\n",
              "<style scoped>\n",
              "    .dataframe tbody tr th:only-of-type {\n",
              "        vertical-align: middle;\n",
              "    }\n",
              "\n",
              "    .dataframe tbody tr th {\n",
              "        vertical-align: top;\n",
              "    }\n",
              "\n",
              "    .dataframe thead th {\n",
              "        text-align: right;\n",
              "    }\n",
              "</style>\n",
              "<table border=\"1\" class=\"dataframe\">\n",
              "  <thead>\n",
              "    <tr style=\"text-align: right;\">\n",
              "      <th></th>\n",
              "      <th>future180d_ROI_min</th>\n",
              "      <th>future180d_ROI_max</th>\n",
              "      <th>future180d_ROI_mean</th>\n",
              "      <th>future180d_ROI_std</th>\n",
              "    </tr>\n",
              "  </thead>\n",
              "  <tbody>\n",
              "    <tr>\n",
              "      <th>0</th>\n",
              "      <td>-90.097127</td>\n",
              "      <td>6380.407411</td>\n",
              "      <td>133.100603</td>\n",
              "      <td>279.892110</td>\n",
              "    </tr>\n",
              "    <tr>\n",
              "      <th>1</th>\n",
              "      <td>683.000046</td>\n",
              "      <td>14130.353592</td>\n",
              "      <td>3109.623434</td>\n",
              "      <td>2936.933079</td>\n",
              "    </tr>\n",
              "    <tr>\n",
              "      <th>2</th>\n",
              "      <td>-51.750187</td>\n",
              "      <td>12527.431587</td>\n",
              "      <td>3798.382864</td>\n",
              "      <td>2713.549561</td>\n",
              "    </tr>\n",
              "    <tr>\n",
              "      <th>3</th>\n",
              "      <td>733.886349</td>\n",
              "      <td>2195.245904</td>\n",
              "      <td>1588.496284</td>\n",
              "      <td>638.324696</td>\n",
              "    </tr>\n",
              "  </tbody>\n",
              "</table>\n",
              "</div>"
            ],
            "text/plain": [
              "   future180d_ROI_min  future180d_ROI_max  future180d_ROI_mean  \\\n",
              "0          -90.097127         6380.407411           133.100603   \n",
              "1          683.000046        14130.353592          3109.623434   \n",
              "2          -51.750187        12527.431587          3798.382864   \n",
              "3          733.886349         2195.245904          1588.496284   \n",
              "\n",
              "   future180d_ROI_std  \n",
              "0          279.892110  \n",
              "1         2936.933079  \n",
              "2         2713.549561  \n",
              "3          638.324696  "
            ]
          },
          "metadata": {
            "tags": []
          },
          "execution_count": 66
        }
      ]
    },
    {
      "cell_type": "code",
      "metadata": {
        "id": "mN1oo-4V1Mf-",
        "colab_type": "code",
        "colab": {
          "base_uri": "https://localhost:8080/",
          "height": 294
        },
        "outputId": "3748f125-6301-400a-c883-1a3ee61059db"
      },
      "source": [
        "df180_PM=df_180[['PM','PM_future180d','labels180']].groupby('labels180').agg(['min', 'max','mean','std'])\n",
        "df180_PM=df180_PM.transpose()\n",
        "df180_PM"
      ],
      "execution_count": null,
      "outputs": [
        {
          "output_type": "execute_result",
          "data": {
            "text/html": [
              "<div>\n",
              "<style scoped>\n",
              "    .dataframe tbody tr th:only-of-type {\n",
              "        vertical-align: middle;\n",
              "    }\n",
              "\n",
              "    .dataframe tbody tr th {\n",
              "        vertical-align: top;\n",
              "    }\n",
              "\n",
              "    .dataframe thead th {\n",
              "        text-align: right;\n",
              "    }\n",
              "</style>\n",
              "<table border=\"1\" class=\"dataframe\">\n",
              "  <thead>\n",
              "    <tr style=\"text-align: right;\">\n",
              "      <th></th>\n",
              "      <th>labels180</th>\n",
              "      <th>0</th>\n",
              "      <th>1</th>\n",
              "      <th>2</th>\n",
              "      <th>3</th>\n",
              "    </tr>\n",
              "  </thead>\n",
              "  <tbody>\n",
              "    <tr>\n",
              "      <th rowspan=\"4\" valign=\"top\">PM</th>\n",
              "      <th>min</th>\n",
              "      <td>0.081659</td>\n",
              "      <td>34.732677</td>\n",
              "      <td>9.865902</td>\n",
              "      <td>80.100067</td>\n",
              "    </tr>\n",
              "    <tr>\n",
              "      <th>max</th>\n",
              "      <td>9.977635</td>\n",
              "      <td>71.973830</td>\n",
              "      <td>32.631956</td>\n",
              "      <td>128.418139</td>\n",
              "    </tr>\n",
              "    <tr>\n",
              "      <th>mean</th>\n",
              "      <td>1.436474</td>\n",
              "      <td>49.837862</td>\n",
              "      <td>19.092676</td>\n",
              "      <td>105.480729</td>\n",
              "    </tr>\n",
              "    <tr>\n",
              "      <th>std</th>\n",
              "      <td>1.400546</td>\n",
              "      <td>10.954156</td>\n",
              "      <td>6.694704</td>\n",
              "      <td>21.176344</td>\n",
              "    </tr>\n",
              "    <tr>\n",
              "      <th rowspan=\"4\" valign=\"top\">PM_future180d</th>\n",
              "      <th>min</th>\n",
              "      <td>0.081659</td>\n",
              "      <td>1.830157</td>\n",
              "      <td>1.277352</td>\n",
              "      <td>5.615563</td>\n",
              "    </tr>\n",
              "    <tr>\n",
              "      <th>max</th>\n",
              "      <td>9.781603</td>\n",
              "      <td>11.224044</td>\n",
              "      <td>9.100518</td>\n",
              "      <td>11.943117</td>\n",
              "    </tr>\n",
              "    <tr>\n",
              "      <th>mean</th>\n",
              "      <td>1.260126</td>\n",
              "      <td>5.148512</td>\n",
              "      <td>3.321805</td>\n",
              "      <td>8.705485</td>\n",
              "    </tr>\n",
              "    <tr>\n",
              "      <th>std</th>\n",
              "      <td>1.004483</td>\n",
              "      <td>2.358666</td>\n",
              "      <td>1.745244</td>\n",
              "      <td>3.098419</td>\n",
              "    </tr>\n",
              "  </tbody>\n",
              "</table>\n",
              "</div>"
            ],
            "text/plain": [
              "labels180                  0          1          2           3\n",
              "PM            min   0.081659  34.732677   9.865902   80.100067\n",
              "              max   9.977635  71.973830  32.631956  128.418139\n",
              "              mean  1.436474  49.837862  19.092676  105.480729\n",
              "              std   1.400546  10.954156   6.694704   21.176344\n",
              "PM_future180d min   0.081659   1.830157   1.277352    5.615563\n",
              "              max   9.781603  11.224044   9.100518   11.943117\n",
              "              mean  1.260126   5.148512   3.321805    8.705485\n",
              "              std   1.004483   2.358666   1.745244    3.098419"
            ]
          },
          "metadata": {
            "tags": []
          },
          "execution_count": 67
        }
      ]
    },
    {
      "cell_type": "code",
      "metadata": {
        "id": "YcZJBkfW1l41",
        "colab_type": "code",
        "colab": {
          "base_uri": "https://localhost:8080/",
          "height": 609
        },
        "outputId": "6742428b-730f-4608-b6fe-f272903f0d5e"
      },
      "source": [
        "df180_PM.iloc[0:4].plot(kind='bar',figsize=(14, 10))\n",
        "plt.title('PM ratio on buy-in date by Clustering Categories',fontsize=16)\n",
        "plt.xticks(rotation=360)\n",
        "plt.savefig('180PM_full_buyin')"
      ],
      "execution_count": null,
      "outputs": [
        {
          "output_type": "display_data",
          "data": {
            "image/png": "[encoded data removed]",
            "text/plain": [
              "<Figure size 1008x720 with 1 Axes>"
            ]
          },
          "metadata": {
            "tags": [],
            "needs_background": "light"
          }
        }
      ]
    },
    {
      "cell_type": "code",
      "metadata": {
        "id": "a2I3qvU32ucA",
        "colab_type": "code",
        "colab": {
          "base_uri": "https://localhost:8080/",
          "height": 610
        },
        "outputId": "52822c78-7090-4a00-b6e6-102572a535d0"
      },
      "source": [
        "df180_PM.iloc[4:8].plot(kind='bar',figsize=(14, 10))\n",
        "plt.title('PM ratio on sell-out date by Clustering Categories',fontsize=16)\n",
        "plt.xticks(rotation=360)\n",
        "plt.savefig('180PM_full_sell-out')"
      ],
      "execution_count": null,
      "outputs": [
        {
          "output_type": "display_data",
          "data": {
            "image/png": "[encoded data removed]",
            "text/plain": [
              "<Figure size 1008x720 with 1 Axes>"
            ]
          },
          "metadata": {
            "tags": [],
            "needs_background": "light"
          }
        }
      ]
    },
    {
      "cell_type": "code",
      "metadata": {
        "id": "qoHKVGP71Oan",
        "colab_type": "code",
        "colab": {
          "base_uri": "https://localhost:8080/",
          "height": 171
        },
        "outputId": "4c962add-d45b-48ab-d8cc-8e079592e6da"
      },
      "source": [
        "df_180_ROI=df_180_ROI.transpose()\n",
        "df_180_ROI.columns=['labels180=0', 'labels180=1','labels180=2', 'labels180=3']\n",
        "df_180_ROI.head()"
      ],
      "execution_count": null,
      "outputs": [
        {
          "output_type": "execute_result",
          "data": {
            "text/html": [
              "<div>\n",
              "<style scoped>\n",
              "    .dataframe tbody tr th:only-of-type {\n",
              "        vertical-align: middle;\n",
              "    }\n",
              "\n",
              "    .dataframe tbody tr th {\n",
              "        vertical-align: top;\n",
              "    }\n",
              "\n",
              "    .dataframe thead th {\n",
              "        text-align: right;\n",
              "    }\n",
              "</style>\n",
              "<table border=\"1\" class=\"dataframe\">\n",
              "  <thead>\n",
              "    <tr style=\"text-align: right;\">\n",
              "      <th></th>\n",
              "      <th>labels180=0</th>\n",
              "      <th>labels180=1</th>\n",
              "      <th>labels180=2</th>\n",
              "      <th>labels180=3</th>\n",
              "    </tr>\n",
              "  </thead>\n",
              "  <tbody>\n",
              "    <tr>\n",
              "      <th>future180d_ROI_min</th>\n",
              "      <td>-90.097127</td>\n",
              "      <td>683.000046</td>\n",
              "      <td>-51.750187</td>\n",
              "      <td>733.886349</td>\n",
              "    </tr>\n",
              "    <tr>\n",
              "      <th>future180d_ROI_max</th>\n",
              "      <td>6380.407411</td>\n",
              "      <td>14130.353592</td>\n",
              "      <td>12527.431587</td>\n",
              "      <td>2195.245904</td>\n",
              "    </tr>\n",
              "    <tr>\n",
              "      <th>future180d_ROI_mean</th>\n",
              "      <td>133.100603</td>\n",
              "      <td>3109.623434</td>\n",
              "      <td>3798.382864</td>\n",
              "      <td>1588.496284</td>\n",
              "    </tr>\n",
              "    <tr>\n",
              "      <th>future180d_ROI_std</th>\n",
              "      <td>279.892110</td>\n",
              "      <td>2936.933079</td>\n",
              "      <td>2713.549561</td>\n",
              "      <td>638.324696</td>\n",
              "    </tr>\n",
              "  </tbody>\n",
              "</table>\n",
              "</div>"
            ],
            "text/plain": [
              "                     labels180=0   labels180=1   labels180=2  labels180=3\n",
              "future180d_ROI_min    -90.097127    683.000046    -51.750187   733.886349\n",
              "future180d_ROI_max   6380.407411  14130.353592  12527.431587  2195.245904\n",
              "future180d_ROI_mean   133.100603   3109.623434   3798.382864  1588.496284\n",
              "future180d_ROI_std    279.892110   2936.933079   2713.549561   638.324696"
            ]
          },
          "metadata": {
            "tags": []
          },
          "execution_count": 70
        }
      ]
    },
    {
      "cell_type": "code",
      "metadata": {
        "id": "dbBLspgg1QWN",
        "colab_type": "code",
        "colab": {
          "base_uri": "https://localhost:8080/",
          "height": 610
        },
        "outputId": "58afb25e-2e80-49d2-b085-6c056030a577"
      },
      "source": [
        "df_180_ROI.plot(kind='bar',figsize=(14, 10))\n",
        "plt.title('The Statitiscs of Future 180-day ROI by PM Ratio Clustering Categories',fontsize=16)\n",
        "plt.xticks(rotation=360)\n",
        "plt.savefig('180ROI_fullPM')"
      ],
      "execution_count": null,
      "outputs": [
        {
          "output_type": "display_data",
          "data": {
            "image/png": "[encoded data removed]",
            "text/plain": [
              "<Figure size 1008x720 with 1 Axes>"
            ]
          },
          "metadata": {
            "tags": [],
            "needs_background": "light"
          }
        }
      ]
    },
    {
      "cell_type": "code",
      "metadata": {
        "id": "P0I3Iv0f1UVg",
        "colab_type": "code",
        "colab": {}
      },
      "source": [
        "df.to_csv('btc_Kmeans_robust180_2020_07_05.csv')"
      ],
      "execution_count": null,
      "outputs": []
    },
    {
      "cell_type": "code",
      "metadata": {
        "id": "g82sXT4Y3KL1",
        "colab_type": "code",
        "colab": {}
      },
      "source": [
        ""
      ],
      "execution_count": null,
      "outputs": []
    }
  ]
}