{
  "nbformat": 4,
  "nbformat_minor": 0,
  "metadata": {
    "kernelspec": {
      "display_name": "Python 3",
      "language": "python",
      "name": "python3"
    },
    "language_info": {
      "codemirror_mode": {
        "name": "ipython",
        "version": 3
      },
      "file_extension": ".py",
      "mimetype": "text/x-python",
      "name": "python",
      "nbconvert_exporter": "python",
      "pygments_lexer": "ipython3",
      "version": "3.7.6"
    },
    "colab": {
      "name": "BTC_Robustness_Clustering60.ipynb",
      "provenance": [],
      "include_colab_link": true
    }
  },
  "cells": [
    {
      "cell_type": "markdown",
      "metadata": {
        "id": "view-in-github",
        "colab_type": "text"
      },
      "source": [
        "<a href=\"https://colab.research.google.com/github/sunshineluyao/CV_ML/blob/master/Kmeans/Robust60/BTC_Robustness_Clustering60.ipynb\" target=\"_parent\"><img src=\"https://colab.research.google.com/assets/colab-badge.svg\" alt=\"Open In Colab\"/></a>"
      ]
    },
    {
      "cell_type": "code",
      "metadata": {
        "id": "GYamN5ujuxFN",
        "colab_type": "code",
        "colab": {}
      },
      "source": [
        "import pandas as pd \n",
        "import numpy as np"
      ],
      "execution_count": null,
      "outputs": []
    },
    {
      "cell_type": "code",
      "metadata": {
        "id": "jGAIghvcuxFS",
        "colab_type": "code",
        "colab": {}
      },
      "source": [
        "###show all columns\n",
        "pd.set_option('display.max_columns', None)\n",
        "pd.set_option('display.max_rows', None)"
      ],
      "execution_count": null,
      "outputs": []
    },
    {
      "cell_type": "code",
      "metadata": {
        "scrolled": true,
        "id": "tBM2AGEduxFU",
        "colab_type": "code",
        "colab": {
          "base_uri": "https://localhost:8080/",
          "height": 395
        },
        "outputId": "d3237ef6-e2b5-44bf-a71f-ef88911c40b2"
      },
      "source": [
        "df=pd.read_csv('https://raw.githubusercontent.com/sunshineluyao/Fintech_AI/master/data/btc_Kmeans_robust180_2020_07_05.csv')\n",
        "df.head()"
      ],
      "execution_count": null,
      "outputs": [
        {
          "output_type": "execute_result",
          "data": {
            "text/html": [
              "<div>\n",
              "<style scoped>\n",
              "    .dataframe tbody tr th:only-of-type {\n",
              "        vertical-align: middle;\n",
              "    }\n",
              "\n",
              "    .dataframe tbody tr th {\n",
              "        vertical-align: top;\n",
              "    }\n",
              "\n",
              "    .dataframe thead th {\n",
              "        text-align: right;\n",
              "    }\n",
              "</style>\n",
              "<table border=\"1\" class=\"dataframe\">\n",
              "  <thead>\n",
              "    <tr style=\"text-align: right;\">\n",
              "      <th></th>\n",
              "      <th>Unnamed: 0</th>\n",
              "      <th>BlkCnt</th>\n",
              "      <th>IssTotNtv</th>\n",
              "      <th>SplyCur</th>\n",
              "      <th>TxTfrValAdjUSD</th>\n",
              "      <th>CapMrktCurUSD</th>\n",
              "      <th>NVTAdj90</th>\n",
              "      <th>PriceUSD</th>\n",
              "      <th>FeeTotUSD</th>\n",
              "      <th>IssTotUSD</th>\n",
              "      <th>AdrActCnt</th>\n",
              "      <th>Volume</th>\n",
              "      <th>Type</th>\n",
              "      <th>Annualized_DilutionRate</th>\n",
              "      <th>Total daily transaction volume</th>\n",
              "      <th>Velocity</th>\n",
              "      <th>The daily revenue of bitcoin miners</th>\n",
              "      <th>The accumulated revenue of bitcoin miners</th>\n",
              "      <th>P/E Ratio</th>\n",
              "      <th>Metcalfe</th>\n",
              "      <th>PM</th>\n",
              "      <th>&lt;1year</th>\n",
              "      <th>1-2year</th>\n",
              "      <th>2-3year</th>\n",
              "      <th>3-5year</th>\n",
              "      <th>&gt;5year</th>\n",
              "      <th>One-year staking ratio</th>\n",
              "      <th>Two-year staking ratio</th>\n",
              "      <th>Three-year staking ratio</th>\n",
              "      <th>Five-year staking ratio</th>\n",
              "      <th>Token Utility</th>\n",
              "      <th>PU Ratio</th>\n",
              "      <th>volatility30</th>\n",
              "      <th>volatility60</th>\n",
              "      <th>volatility90</th>\n",
              "      <th>volatility180</th>\n",
              "      <th>PU_future90d</th>\n",
              "      <th>NVTAdj90_future90d</th>\n",
              "      <th>PM_future90d</th>\n",
              "      <th>PriceChange30d</th>\n",
              "      <th>PriceChange60d</th>\n",
              "      <th>PriceChange90d</th>\n",
              "      <th>PriceChange180d</th>\n",
              "      <th>future30d_ROI</th>\n",
              "      <th>future60d_ROI</th>\n",
              "      <th>future90d_ROI</th>\n",
              "      <th>future180d_ROI</th>\n",
              "      <th>PU_future180d</th>\n",
              "      <th>NVT_future180d</th>\n",
              "      <th>PM_future180d</th>\n",
              "    </tr>\n",
              "  </thead>\n",
              "  <tbody>\n",
              "    <tr>\n",
              "      <th>0</th>\n",
              "      <td>2009-01-03</td>\n",
              "      <td>0.0</td>\n",
              "      <td>NaN</td>\n",
              "      <td>0.0</td>\n",
              "      <td>NaN</td>\n",
              "      <td>NaN</td>\n",
              "      <td>NaN</td>\n",
              "      <td>NaN</td>\n",
              "      <td>NaN</td>\n",
              "      <td>NaN</td>\n",
              "      <td>0.0</td>\n",
              "      <td>NaN</td>\n",
              "      <td>NaN</td>\n",
              "      <td>NaN</td>\n",
              "      <td>NaN</td>\n",
              "      <td>NaN</td>\n",
              "      <td>NaN</td>\n",
              "      <td>NaN</td>\n",
              "      <td>NaN</td>\n",
              "      <td>0.0</td>\n",
              "      <td>NaN</td>\n",
              "      <td>NaN</td>\n",
              "      <td>NaN</td>\n",
              "      <td>NaN</td>\n",
              "      <td>NaN</td>\n",
              "      <td>NaN</td>\n",
              "      <td>NaN</td>\n",
              "      <td>NaN</td>\n",
              "      <td>NaN</td>\n",
              "      <td>NaN</td>\n",
              "      <td>NaN</td>\n",
              "      <td>NaN</td>\n",
              "      <td>NaN</td>\n",
              "      <td>NaN</td>\n",
              "      <td>NaN</td>\n",
              "      <td>NaN</td>\n",
              "      <td>NaN</td>\n",
              "      <td>NaN</td>\n",
              "      <td>NaN</td>\n",
              "      <td>NaN</td>\n",
              "      <td>NaN</td>\n",
              "      <td>NaN</td>\n",
              "      <td>NaN</td>\n",
              "      <td>NaN</td>\n",
              "      <td>NaN</td>\n",
              "      <td>NaN</td>\n",
              "      <td>NaN</td>\n",
              "      <td>NaN</td>\n",
              "      <td>NaN</td>\n",
              "      <td>NaN</td>\n",
              "    </tr>\n",
              "    <tr>\n",
              "      <th>1</th>\n",
              "      <td>2009-01-04</td>\n",
              "      <td>0.0</td>\n",
              "      <td>NaN</td>\n",
              "      <td>0.0</td>\n",
              "      <td>NaN</td>\n",
              "      <td>NaN</td>\n",
              "      <td>NaN</td>\n",
              "      <td>NaN</td>\n",
              "      <td>NaN</td>\n",
              "      <td>NaN</td>\n",
              "      <td>0.0</td>\n",
              "      <td>NaN</td>\n",
              "      <td>NaN</td>\n",
              "      <td>NaN</td>\n",
              "      <td>NaN</td>\n",
              "      <td>NaN</td>\n",
              "      <td>NaN</td>\n",
              "      <td>NaN</td>\n",
              "      <td>NaN</td>\n",
              "      <td>0.0</td>\n",
              "      <td>NaN</td>\n",
              "      <td>NaN</td>\n",
              "      <td>NaN</td>\n",
              "      <td>NaN</td>\n",
              "      <td>NaN</td>\n",
              "      <td>NaN</td>\n",
              "      <td>NaN</td>\n",
              "      <td>NaN</td>\n",
              "      <td>NaN</td>\n",
              "      <td>NaN</td>\n",
              "      <td>NaN</td>\n",
              "      <td>NaN</td>\n",
              "      <td>NaN</td>\n",
              "      <td>NaN</td>\n",
              "      <td>NaN</td>\n",
              "      <td>NaN</td>\n",
              "      <td>NaN</td>\n",
              "      <td>NaN</td>\n",
              "      <td>NaN</td>\n",
              "      <td>NaN</td>\n",
              "      <td>NaN</td>\n",
              "      <td>NaN</td>\n",
              "      <td>NaN</td>\n",
              "      <td>NaN</td>\n",
              "      <td>NaN</td>\n",
              "      <td>NaN</td>\n",
              "      <td>NaN</td>\n",
              "      <td>NaN</td>\n",
              "      <td>NaN</td>\n",
              "      <td>NaN</td>\n",
              "    </tr>\n",
              "    <tr>\n",
              "      <th>2</th>\n",
              "      <td>2009-01-05</td>\n",
              "      <td>0.0</td>\n",
              "      <td>NaN</td>\n",
              "      <td>0.0</td>\n",
              "      <td>NaN</td>\n",
              "      <td>NaN</td>\n",
              "      <td>NaN</td>\n",
              "      <td>NaN</td>\n",
              "      <td>NaN</td>\n",
              "      <td>NaN</td>\n",
              "      <td>0.0</td>\n",
              "      <td>NaN</td>\n",
              "      <td>NaN</td>\n",
              "      <td>NaN</td>\n",
              "      <td>NaN</td>\n",
              "      <td>NaN</td>\n",
              "      <td>NaN</td>\n",
              "      <td>NaN</td>\n",
              "      <td>NaN</td>\n",
              "      <td>0.0</td>\n",
              "      <td>NaN</td>\n",
              "      <td>NaN</td>\n",
              "      <td>NaN</td>\n",
              "      <td>NaN</td>\n",
              "      <td>NaN</td>\n",
              "      <td>NaN</td>\n",
              "      <td>NaN</td>\n",
              "      <td>NaN</td>\n",
              "      <td>NaN</td>\n",
              "      <td>NaN</td>\n",
              "      <td>NaN</td>\n",
              "      <td>NaN</td>\n",
              "      <td>NaN</td>\n",
              "      <td>NaN</td>\n",
              "      <td>NaN</td>\n",
              "      <td>NaN</td>\n",
              "      <td>NaN</td>\n",
              "      <td>NaN</td>\n",
              "      <td>NaN</td>\n",
              "      <td>NaN</td>\n",
              "      <td>NaN</td>\n",
              "      <td>NaN</td>\n",
              "      <td>NaN</td>\n",
              "      <td>NaN</td>\n",
              "      <td>NaN</td>\n",
              "      <td>NaN</td>\n",
              "      <td>NaN</td>\n",
              "      <td>NaN</td>\n",
              "      <td>NaN</td>\n",
              "      <td>NaN</td>\n",
              "    </tr>\n",
              "    <tr>\n",
              "      <th>3</th>\n",
              "      <td>2009-01-06</td>\n",
              "      <td>0.0</td>\n",
              "      <td>NaN</td>\n",
              "      <td>0.0</td>\n",
              "      <td>NaN</td>\n",
              "      <td>NaN</td>\n",
              "      <td>NaN</td>\n",
              "      <td>NaN</td>\n",
              "      <td>NaN</td>\n",
              "      <td>NaN</td>\n",
              "      <td>0.0</td>\n",
              "      <td>NaN</td>\n",
              "      <td>NaN</td>\n",
              "      <td>NaN</td>\n",
              "      <td>NaN</td>\n",
              "      <td>NaN</td>\n",
              "      <td>NaN</td>\n",
              "      <td>NaN</td>\n",
              "      <td>NaN</td>\n",
              "      <td>0.0</td>\n",
              "      <td>NaN</td>\n",
              "      <td>NaN</td>\n",
              "      <td>NaN</td>\n",
              "      <td>NaN</td>\n",
              "      <td>NaN</td>\n",
              "      <td>NaN</td>\n",
              "      <td>NaN</td>\n",
              "      <td>NaN</td>\n",
              "      <td>NaN</td>\n",
              "      <td>NaN</td>\n",
              "      <td>NaN</td>\n",
              "      <td>NaN</td>\n",
              "      <td>NaN</td>\n",
              "      <td>NaN</td>\n",
              "      <td>NaN</td>\n",
              "      <td>NaN</td>\n",
              "      <td>NaN</td>\n",
              "      <td>NaN</td>\n",
              "      <td>NaN</td>\n",
              "      <td>NaN</td>\n",
              "      <td>NaN</td>\n",
              "      <td>NaN</td>\n",
              "      <td>NaN</td>\n",
              "      <td>NaN</td>\n",
              "      <td>NaN</td>\n",
              "      <td>NaN</td>\n",
              "      <td>NaN</td>\n",
              "      <td>NaN</td>\n",
              "      <td>NaN</td>\n",
              "      <td>NaN</td>\n",
              "    </tr>\n",
              "    <tr>\n",
              "      <th>4</th>\n",
              "      <td>2009-01-07</td>\n",
              "      <td>0.0</td>\n",
              "      <td>NaN</td>\n",
              "      <td>0.0</td>\n",
              "      <td>NaN</td>\n",
              "      <td>NaN</td>\n",
              "      <td>NaN</td>\n",
              "      <td>NaN</td>\n",
              "      <td>NaN</td>\n",
              "      <td>NaN</td>\n",
              "      <td>0.0</td>\n",
              "      <td>NaN</td>\n",
              "      <td>NaN</td>\n",
              "      <td>NaN</td>\n",
              "      <td>NaN</td>\n",
              "      <td>NaN</td>\n",
              "      <td>NaN</td>\n",
              "      <td>NaN</td>\n",
              "      <td>NaN</td>\n",
              "      <td>0.0</td>\n",
              "      <td>NaN</td>\n",
              "      <td>NaN</td>\n",
              "      <td>NaN</td>\n",
              "      <td>NaN</td>\n",
              "      <td>NaN</td>\n",
              "      <td>NaN</td>\n",
              "      <td>NaN</td>\n",
              "      <td>NaN</td>\n",
              "      <td>NaN</td>\n",
              "      <td>NaN</td>\n",
              "      <td>NaN</td>\n",
              "      <td>NaN</td>\n",
              "      <td>NaN</td>\n",
              "      <td>NaN</td>\n",
              "      <td>NaN</td>\n",
              "      <td>NaN</td>\n",
              "      <td>NaN</td>\n",
              "      <td>NaN</td>\n",
              "      <td>NaN</td>\n",
              "      <td>NaN</td>\n",
              "      <td>NaN</td>\n",
              "      <td>NaN</td>\n",
              "      <td>NaN</td>\n",
              "      <td>NaN</td>\n",
              "      <td>NaN</td>\n",
              "      <td>NaN</td>\n",
              "      <td>NaN</td>\n",
              "      <td>NaN</td>\n",
              "      <td>NaN</td>\n",
              "      <td>NaN</td>\n",
              "    </tr>\n",
              "  </tbody>\n",
              "</table>\n",
              "</div>"
            ],
            "text/plain": [
              "   Unnamed: 0  BlkCnt  IssTotNtv  SplyCur  TxTfrValAdjUSD  CapMrktCurUSD  \\\n",
              "0  2009-01-03     0.0        NaN      0.0             NaN            NaN   \n",
              "1  2009-01-04     0.0        NaN      0.0             NaN            NaN   \n",
              "2  2009-01-05     0.0        NaN      0.0             NaN            NaN   \n",
              "3  2009-01-06     0.0        NaN      0.0             NaN            NaN   \n",
              "4  2009-01-07     0.0        NaN      0.0             NaN            NaN   \n",
              "\n",
              "   NVTAdj90  PriceUSD  FeeTotUSD  IssTotUSD  AdrActCnt  Volume Type  \\\n",
              "0       NaN       NaN        NaN        NaN        0.0     NaN  NaN   \n",
              "1       NaN       NaN        NaN        NaN        0.0     NaN  NaN   \n",
              "2       NaN       NaN        NaN        NaN        0.0     NaN  NaN   \n",
              "3       NaN       NaN        NaN        NaN        0.0     NaN  NaN   \n",
              "4       NaN       NaN        NaN        NaN        0.0     NaN  NaN   \n",
              "\n",
              "   Annualized_DilutionRate  Total daily transaction volume  Velocity  \\\n",
              "0                      NaN                             NaN       NaN   \n",
              "1                      NaN                             NaN       NaN   \n",
              "2                      NaN                             NaN       NaN   \n",
              "3                      NaN                             NaN       NaN   \n",
              "4                      NaN                             NaN       NaN   \n",
              "\n",
              "   The daily revenue of bitcoin miners  \\\n",
              "0                                  NaN   \n",
              "1                                  NaN   \n",
              "2                                  NaN   \n",
              "3                                  NaN   \n",
              "4                                  NaN   \n",
              "\n",
              "   The accumulated revenue of bitcoin miners  P/E Ratio  Metcalfe  PM  <1year  \\\n",
              "0                                        NaN        NaN       0.0 NaN     NaN   \n",
              "1                                        NaN        NaN       0.0 NaN     NaN   \n",
              "2                                        NaN        NaN       0.0 NaN     NaN   \n",
              "3                                        NaN        NaN       0.0 NaN     NaN   \n",
              "4                                        NaN        NaN       0.0 NaN     NaN   \n",
              "\n",
              "   1-2year  2-3year  3-5year  >5year  One-year staking ratio  \\\n",
              "0      NaN      NaN      NaN     NaN                     NaN   \n",
              "1      NaN      NaN      NaN     NaN                     NaN   \n",
              "2      NaN      NaN      NaN     NaN                     NaN   \n",
              "3      NaN      NaN      NaN     NaN                     NaN   \n",
              "4      NaN      NaN      NaN     NaN                     NaN   \n",
              "\n",
              "   Two-year staking ratio  Three-year staking ratio  Five-year staking ratio  \\\n",
              "0                     NaN                       NaN                      NaN   \n",
              "1                     NaN                       NaN                      NaN   \n",
              "2                     NaN                       NaN                      NaN   \n",
              "3                     NaN                       NaN                      NaN   \n",
              "4                     NaN                       NaN                      NaN   \n",
              "\n",
              "   Token Utility  PU Ratio  volatility30  volatility60  volatility90  \\\n",
              "0            NaN       NaN           NaN           NaN           NaN   \n",
              "1            NaN       NaN           NaN           NaN           NaN   \n",
              "2            NaN       NaN           NaN           NaN           NaN   \n",
              "3            NaN       NaN           NaN           NaN           NaN   \n",
              "4            NaN       NaN           NaN           NaN           NaN   \n",
              "\n",
              "   volatility180  PU_future90d  NVTAdj90_future90d  PM_future90d  \\\n",
              "0            NaN           NaN                 NaN           NaN   \n",
              "1            NaN           NaN                 NaN           NaN   \n",
              "2            NaN           NaN                 NaN           NaN   \n",
              "3            NaN           NaN                 NaN           NaN   \n",
              "4            NaN           NaN                 NaN           NaN   \n",
              "\n",
              "   PriceChange30d  PriceChange60d  PriceChange90d  PriceChange180d  \\\n",
              "0             NaN             NaN             NaN              NaN   \n",
              "1             NaN             NaN             NaN              NaN   \n",
              "2             NaN             NaN             NaN              NaN   \n",
              "3             NaN             NaN             NaN              NaN   \n",
              "4             NaN             NaN             NaN              NaN   \n",
              "\n",
              "   future30d_ROI  future60d_ROI  future90d_ROI  future180d_ROI  PU_future180d  \\\n",
              "0            NaN            NaN            NaN             NaN            NaN   \n",
              "1            NaN            NaN            NaN             NaN            NaN   \n",
              "2            NaN            NaN            NaN             NaN            NaN   \n",
              "3            NaN            NaN            NaN             NaN            NaN   \n",
              "4            NaN            NaN            NaN             NaN            NaN   \n",
              "\n",
              "   NVT_future180d  PM_future180d  \n",
              "0             NaN            NaN  \n",
              "1             NaN            NaN  \n",
              "2             NaN            NaN  \n",
              "3             NaN            NaN  \n",
              "4             NaN            NaN  "
            ]
          },
          "metadata": {
            "tags": []
          },
          "execution_count": 10
        }
      ]
    },
    {
      "cell_type": "code",
      "metadata": {
        "scrolled": true,
        "id": "l1mTzP4huxFX",
        "colab_type": "code",
        "colab": {
          "base_uri": "https://localhost:8080/",
          "height": 378
        },
        "outputId": "653ea43f-3ccc-4c09-c192-9a1dcc226b41"
      },
      "source": [
        "#set \"date\" column as the index\n",
        "df.set_index('Unnamed: 0', inplace=True)\n",
        "#to remove the name of the index\n",
        "df.index.name=None\n",
        "df.tail()"
      ],
      "execution_count": null,
      "outputs": [
        {
          "output_type": "execute_result",
          "data": {
            "text/html": [
              "<div>\n",
              "<style scoped>\n",
              "    .dataframe tbody tr th:only-of-type {\n",
              "        vertical-align: middle;\n",
              "    }\n",
              "\n",
              "    .dataframe tbody tr th {\n",
              "        vertical-align: top;\n",
              "    }\n",
              "\n",
              "    .dataframe thead th {\n",
              "        text-align: right;\n",
              "    }\n",
              "</style>\n",
              "<table border=\"1\" class=\"dataframe\">\n",
              "  <thead>\n",
              "    <tr style=\"text-align: right;\">\n",
              "      <th></th>\n",
              "      <th>BlkCnt</th>\n",
              "      <th>IssTotNtv</th>\n",
              "      <th>SplyCur</th>\n",
              "      <th>TxTfrValAdjUSD</th>\n",
              "      <th>CapMrktCurUSD</th>\n",
              "      <th>NVTAdj90</th>\n",
              "      <th>PriceUSD</th>\n",
              "      <th>FeeTotUSD</th>\n",
              "      <th>IssTotUSD</th>\n",
              "      <th>AdrActCnt</th>\n",
              "      <th>Volume</th>\n",
              "      <th>Type</th>\n",
              "      <th>Annualized_DilutionRate</th>\n",
              "      <th>Total daily transaction volume</th>\n",
              "      <th>Velocity</th>\n",
              "      <th>The daily revenue of bitcoin miners</th>\n",
              "      <th>The accumulated revenue of bitcoin miners</th>\n",
              "      <th>P/E Ratio</th>\n",
              "      <th>Metcalfe</th>\n",
              "      <th>PM</th>\n",
              "      <th>&lt;1year</th>\n",
              "      <th>1-2year</th>\n",
              "      <th>2-3year</th>\n",
              "      <th>3-5year</th>\n",
              "      <th>&gt;5year</th>\n",
              "      <th>One-year staking ratio</th>\n",
              "      <th>Two-year staking ratio</th>\n",
              "      <th>Three-year staking ratio</th>\n",
              "      <th>Five-year staking ratio</th>\n",
              "      <th>Token Utility</th>\n",
              "      <th>PU Ratio</th>\n",
              "      <th>volatility30</th>\n",
              "      <th>volatility60</th>\n",
              "      <th>volatility90</th>\n",
              "      <th>volatility180</th>\n",
              "      <th>PU_future90d</th>\n",
              "      <th>NVTAdj90_future90d</th>\n",
              "      <th>PM_future90d</th>\n",
              "      <th>PriceChange30d</th>\n",
              "      <th>PriceChange60d</th>\n",
              "      <th>PriceChange90d</th>\n",
              "      <th>PriceChange180d</th>\n",
              "      <th>future30d_ROI</th>\n",
              "      <th>future60d_ROI</th>\n",
              "      <th>future90d_ROI</th>\n",
              "      <th>future180d_ROI</th>\n",
              "      <th>PU_future180d</th>\n",
              "      <th>NVT_future180d</th>\n",
              "      <th>PM_future180d</th>\n",
              "    </tr>\n",
              "  </thead>\n",
              "  <tbody>\n",
              "    <tr>\n",
              "      <th>2020-06-28</th>\n",
              "      <td>150.0</td>\n",
              "      <td>937.50</td>\n",
              "      <td>1.841734e+07</td>\n",
              "      <td>1.044929e+09</td>\n",
              "      <td>1.677464e+11</td>\n",
              "      <td>84.965505</td>\n",
              "      <td>9108.065675</td>\n",
              "      <td>178764.564868</td>\n",
              "      <td>8.538812e+06</td>\n",
              "      <td>686270.0</td>\n",
              "      <td>1.456087e+10</td>\n",
              "      <td>BTC</td>\n",
              "      <td>1.883975</td>\n",
              "      <td>1.560580e+10</td>\n",
              "      <td>21.670843</td>\n",
              "      <td>8.717576e+06</td>\n",
              "      <td>1.854689e+10</td>\n",
              "      <td>52.718677</td>\n",
              "      <td>4.709665e+11</td>\n",
              "      <td>1.933909</td>\n",
              "      <td>NaN</td>\n",
              "      <td>NaN</td>\n",
              "      <td>NaN</td>\n",
              "      <td>NaN</td>\n",
              "      <td>NaN</td>\n",
              "      <td>NaN</td>\n",
              "      <td>NaN</td>\n",
              "      <td>NaN</td>\n",
              "      <td>NaN</td>\n",
              "      <td>NaN</td>\n",
              "      <td>NaN</td>\n",
              "      <td>0.027537</td>\n",
              "      <td>0.031297</td>\n",
              "      <td>0.033409</td>\n",
              "      <td>0.033409</td>\n",
              "      <td>NaN</td>\n",
              "      <td>NaN</td>\n",
              "      <td>NaN</td>\n",
              "      <td>-3.438650</td>\n",
              "      <td>3.951551</td>\n",
              "      <td>41.497578</td>\n",
              "      <td>27.076373</td>\n",
              "      <td>NaN</td>\n",
              "      <td>NaN</td>\n",
              "      <td>NaN</td>\n",
              "      <td>NaN</td>\n",
              "      <td>NaN</td>\n",
              "      <td>NaN</td>\n",
              "      <td>NaN</td>\n",
              "    </tr>\n",
              "    <tr>\n",
              "      <th>2020-06-29</th>\n",
              "      <td>145.0</td>\n",
              "      <td>906.25</td>\n",
              "      <td>1.841825e+07</td>\n",
              "      <td>1.825444e+09</td>\n",
              "      <td>1.691578e+11</td>\n",
              "      <td>85.628193</td>\n",
              "      <td>9184.247366</td>\n",
              "      <td>308429.074080</td>\n",
              "      <td>8.323224e+06</td>\n",
              "      <td>962232.0</td>\n",
              "      <td>1.646055e+10</td>\n",
              "      <td>BTC</td>\n",
              "      <td>1.879341</td>\n",
              "      <td>1.828599e+10</td>\n",
              "      <td>21.383505</td>\n",
              "      <td>8.631653e+06</td>\n",
              "      <td>1.855552e+10</td>\n",
              "      <td>53.691440</td>\n",
              "      <td>9.258904e+11</td>\n",
              "      <td>0.991937</td>\n",
              "      <td>NaN</td>\n",
              "      <td>NaN</td>\n",
              "      <td>NaN</td>\n",
              "      <td>NaN</td>\n",
              "      <td>NaN</td>\n",
              "      <td>NaN</td>\n",
              "      <td>NaN</td>\n",
              "      <td>NaN</td>\n",
              "      <td>NaN</td>\n",
              "      <td>NaN</td>\n",
              "      <td>NaN</td>\n",
              "      <td>0.027077</td>\n",
              "      <td>0.031259</td>\n",
              "      <td>0.033407</td>\n",
              "      <td>0.033407</td>\n",
              "      <td>NaN</td>\n",
              "      <td>NaN</td>\n",
              "      <td>NaN</td>\n",
              "      <td>-5.235760</td>\n",
              "      <td>6.146684</td>\n",
              "      <td>42.781408</td>\n",
              "      <td>28.081423</td>\n",
              "      <td>NaN</td>\n",
              "      <td>NaN</td>\n",
              "      <td>NaN</td>\n",
              "      <td>NaN</td>\n",
              "      <td>NaN</td>\n",
              "      <td>NaN</td>\n",
              "      <td>NaN</td>\n",
              "    </tr>\n",
              "    <tr>\n",
              "      <th>2020-06-30</th>\n",
              "      <td>147.0</td>\n",
              "      <td>918.75</td>\n",
              "      <td>1.841917e+07</td>\n",
              "      <td>2.063592e+09</td>\n",
              "      <td>1.684243e+11</td>\n",
              "      <td>84.979256</td>\n",
              "      <td>9143.967585</td>\n",
              "      <td>407570.997824</td>\n",
              "      <td>8.401020e+06</td>\n",
              "      <td>926238.0</td>\n",
              "      <td>1.573580e+10</td>\n",
              "      <td>BTC</td>\n",
              "      <td>1.878009</td>\n",
              "      <td>1.779939e+10</td>\n",
              "      <td>21.318103</td>\n",
              "      <td>8.808591e+06</td>\n",
              "      <td>1.856433e+10</td>\n",
              "      <td>52.384807</td>\n",
              "      <td>8.579168e+11</td>\n",
              "      <td>1.065834</td>\n",
              "      <td>NaN</td>\n",
              "      <td>NaN</td>\n",
              "      <td>NaN</td>\n",
              "      <td>NaN</td>\n",
              "      <td>NaN</td>\n",
              "      <td>NaN</td>\n",
              "      <td>NaN</td>\n",
              "      <td>NaN</td>\n",
              "      <td>NaN</td>\n",
              "      <td>NaN</td>\n",
              "      <td>NaN</td>\n",
              "      <td>0.026666</td>\n",
              "      <td>0.031133</td>\n",
              "      <td>0.033284</td>\n",
              "      <td>0.033284</td>\n",
              "      <td>NaN</td>\n",
              "      <td>NaN</td>\n",
              "      <td>NaN</td>\n",
              "      <td>-3.073754</td>\n",
              "      <td>3.257085</td>\n",
              "      <td>37.645885</td>\n",
              "      <td>31.628006</td>\n",
              "      <td>NaN</td>\n",
              "      <td>NaN</td>\n",
              "      <td>NaN</td>\n",
              "      <td>NaN</td>\n",
              "      <td>NaN</td>\n",
              "      <td>NaN</td>\n",
              "      <td>NaN</td>\n",
              "    </tr>\n",
              "    <tr>\n",
              "      <th>2020-07-01</th>\n",
              "      <td>162.0</td>\n",
              "      <td>1012.50</td>\n",
              "      <td>1.842018e+07</td>\n",
              "      <td>2.197590e+09</td>\n",
              "      <td>1.702271e+11</td>\n",
              "      <td>85.716151</td>\n",
              "      <td>9241.339612</td>\n",
              "      <td>573024.429645</td>\n",
              "      <td>9.356856e+06</td>\n",
              "      <td>1078007.0</td>\n",
              "      <td>1.597155e+10</td>\n",
              "      <td>BTC</td>\n",
              "      <td>1.889464</td>\n",
              "      <td>1.816914e+10</td>\n",
              "      <td>20.887828</td>\n",
              "      <td>9.929881e+06</td>\n",
              "      <td>1.857426e+10</td>\n",
              "      <td>46.966900</td>\n",
              "      <td>1.162099e+12</td>\n",
              "      <td>0.795228</td>\n",
              "      <td>NaN</td>\n",
              "      <td>NaN</td>\n",
              "      <td>NaN</td>\n",
              "      <td>NaN</td>\n",
              "      <td>NaN</td>\n",
              "      <td>NaN</td>\n",
              "      <td>NaN</td>\n",
              "      <td>NaN</td>\n",
              "      <td>NaN</td>\n",
              "      <td>NaN</td>\n",
              "      <td>NaN</td>\n",
              "      <td>0.021887</td>\n",
              "      <td>0.031114</td>\n",
              "      <td>0.033233</td>\n",
              "      <td>0.033233</td>\n",
              "      <td>NaN</td>\n",
              "      <td>NaN</td>\n",
              "      <td>NaN</td>\n",
              "      <td>-9.390948</td>\n",
              "      <td>2.941402</td>\n",
              "      <td>36.047259</td>\n",
              "      <td>26.328760</td>\n",
              "      <td>NaN</td>\n",
              "      <td>NaN</td>\n",
              "      <td>NaN</td>\n",
              "      <td>NaN</td>\n",
              "      <td>NaN</td>\n",
              "      <td>NaN</td>\n",
              "      <td>NaN</td>\n",
              "    </tr>\n",
              "    <tr>\n",
              "      <th>2020-07-02</th>\n",
              "      <td>NaN</td>\n",
              "      <td>NaN</td>\n",
              "      <td>NaN</td>\n",
              "      <td>NaN</td>\n",
              "      <td>NaN</td>\n",
              "      <td>NaN</td>\n",
              "      <td>NaN</td>\n",
              "      <td>NaN</td>\n",
              "      <td>NaN</td>\n",
              "      <td>NaN</td>\n",
              "      <td>1.633892e+10</td>\n",
              "      <td>BTC</td>\n",
              "      <td>NaN</td>\n",
              "      <td>NaN</td>\n",
              "      <td>NaN</td>\n",
              "      <td>NaN</td>\n",
              "      <td>NaN</td>\n",
              "      <td>NaN</td>\n",
              "      <td>NaN</td>\n",
              "      <td>NaN</td>\n",
              "      <td>NaN</td>\n",
              "      <td>NaN</td>\n",
              "      <td>NaN</td>\n",
              "      <td>NaN</td>\n",
              "      <td>NaN</td>\n",
              "      <td>NaN</td>\n",
              "      <td>NaN</td>\n",
              "      <td>NaN</td>\n",
              "      <td>NaN</td>\n",
              "      <td>NaN</td>\n",
              "      <td>NaN</td>\n",
              "      <td>0.018210</td>\n",
              "      <td>0.031087</td>\n",
              "      <td>0.033219</td>\n",
              "      <td>0.033219</td>\n",
              "      <td>NaN</td>\n",
              "      <td>NaN</td>\n",
              "      <td>NaN</td>\n",
              "      <td>-2.849002</td>\n",
              "      <td>3.872675</td>\n",
              "      <td>36.870157</td>\n",
              "      <td>25.849557</td>\n",
              "      <td>NaN</td>\n",
              "      <td>NaN</td>\n",
              "      <td>NaN</td>\n",
              "      <td>NaN</td>\n",
              "      <td>NaN</td>\n",
              "      <td>NaN</td>\n",
              "      <td>NaN</td>\n",
              "    </tr>\n",
              "  </tbody>\n",
              "</table>\n",
              "</div>"
            ],
            "text/plain": [
              "            BlkCnt  IssTotNtv       SplyCur  TxTfrValAdjUSD  CapMrktCurUSD  \\\n",
              "2020-06-28   150.0     937.50  1.841734e+07    1.044929e+09   1.677464e+11   \n",
              "2020-06-29   145.0     906.25  1.841825e+07    1.825444e+09   1.691578e+11   \n",
              "2020-06-30   147.0     918.75  1.841917e+07    2.063592e+09   1.684243e+11   \n",
              "2020-07-01   162.0    1012.50  1.842018e+07    2.197590e+09   1.702271e+11   \n",
              "2020-07-02     NaN        NaN           NaN             NaN            NaN   \n",
              "\n",
              "             NVTAdj90     PriceUSD      FeeTotUSD     IssTotUSD  AdrActCnt  \\\n",
              "2020-06-28  84.965505  9108.065675  178764.564868  8.538812e+06   686270.0   \n",
              "2020-06-29  85.628193  9184.247366  308429.074080  8.323224e+06   962232.0   \n",
              "2020-06-30  84.979256  9143.967585  407570.997824  8.401020e+06   926238.0   \n",
              "2020-07-01  85.716151  9241.339612  573024.429645  9.356856e+06  1078007.0   \n",
              "2020-07-02        NaN          NaN            NaN           NaN        NaN   \n",
              "\n",
              "                  Volume Type  Annualized_DilutionRate  \\\n",
              "2020-06-28  1.456087e+10  BTC                 1.883975   \n",
              "2020-06-29  1.646055e+10  BTC                 1.879341   \n",
              "2020-06-30  1.573580e+10  BTC                 1.878009   \n",
              "2020-07-01  1.597155e+10  BTC                 1.889464   \n",
              "2020-07-02  1.633892e+10  BTC                      NaN   \n",
              "\n",
              "            Total daily transaction volume   Velocity  \\\n",
              "2020-06-28                    1.560580e+10  21.670843   \n",
              "2020-06-29                    1.828599e+10  21.383505   \n",
              "2020-06-30                    1.779939e+10  21.318103   \n",
              "2020-07-01                    1.816914e+10  20.887828   \n",
              "2020-07-02                             NaN        NaN   \n",
              "\n",
              "            The daily revenue of bitcoin miners  \\\n",
              "2020-06-28                         8.717576e+06   \n",
              "2020-06-29                         8.631653e+06   \n",
              "2020-06-30                         8.808591e+06   \n",
              "2020-07-01                         9.929881e+06   \n",
              "2020-07-02                                  NaN   \n",
              "\n",
              "            The accumulated revenue of bitcoin miners  P/E Ratio  \\\n",
              "2020-06-28                               1.854689e+10  52.718677   \n",
              "2020-06-29                               1.855552e+10  53.691440   \n",
              "2020-06-30                               1.856433e+10  52.384807   \n",
              "2020-07-01                               1.857426e+10  46.966900   \n",
              "2020-07-02                                        NaN        NaN   \n",
              "\n",
              "                Metcalfe        PM  <1year  1-2year  2-3year  3-5year  >5year  \\\n",
              "2020-06-28  4.709665e+11  1.933909     NaN      NaN      NaN      NaN     NaN   \n",
              "2020-06-29  9.258904e+11  0.991937     NaN      NaN      NaN      NaN     NaN   \n",
              "2020-06-30  8.579168e+11  1.065834     NaN      NaN      NaN      NaN     NaN   \n",
              "2020-07-01  1.162099e+12  0.795228     NaN      NaN      NaN      NaN     NaN   \n",
              "2020-07-02           NaN       NaN     NaN      NaN      NaN      NaN     NaN   \n",
              "\n",
              "            One-year staking ratio  Two-year staking ratio  \\\n",
              "2020-06-28                     NaN                     NaN   \n",
              "2020-06-29                     NaN                     NaN   \n",
              "2020-06-30                     NaN                     NaN   \n",
              "2020-07-01                     NaN                     NaN   \n",
              "2020-07-02                     NaN                     NaN   \n",
              "\n",
              "            Three-year staking ratio  Five-year staking ratio  Token Utility  \\\n",
              "2020-06-28                       NaN                      NaN            NaN   \n",
              "2020-06-29                       NaN                      NaN            NaN   \n",
              "2020-06-30                       NaN                      NaN            NaN   \n",
              "2020-07-01                       NaN                      NaN            NaN   \n",
              "2020-07-02                       NaN                      NaN            NaN   \n",
              "\n",
              "            PU Ratio  volatility30  volatility60  volatility90  volatility180  \\\n",
              "2020-06-28       NaN      0.027537      0.031297      0.033409       0.033409   \n",
              "2020-06-29       NaN      0.027077      0.031259      0.033407       0.033407   \n",
              "2020-06-30       NaN      0.026666      0.031133      0.033284       0.033284   \n",
              "2020-07-01       NaN      0.021887      0.031114      0.033233       0.033233   \n",
              "2020-07-02       NaN      0.018210      0.031087      0.033219       0.033219   \n",
              "\n",
              "            PU_future90d  NVTAdj90_future90d  PM_future90d  PriceChange30d  \\\n",
              "2020-06-28           NaN                 NaN           NaN       -3.438650   \n",
              "2020-06-29           NaN                 NaN           NaN       -5.235760   \n",
              "2020-06-30           NaN                 NaN           NaN       -3.073754   \n",
              "2020-07-01           NaN                 NaN           NaN       -9.390948   \n",
              "2020-07-02           NaN                 NaN           NaN       -2.849002   \n",
              "\n",
              "            PriceChange60d  PriceChange90d  PriceChange180d  future30d_ROI  \\\n",
              "2020-06-28        3.951551       41.497578        27.076373            NaN   \n",
              "2020-06-29        6.146684       42.781408        28.081423            NaN   \n",
              "2020-06-30        3.257085       37.645885        31.628006            NaN   \n",
              "2020-07-01        2.941402       36.047259        26.328760            NaN   \n",
              "2020-07-02        3.872675       36.870157        25.849557            NaN   \n",
              "\n",
              "            future60d_ROI  future90d_ROI  future180d_ROI  PU_future180d  \\\n",
              "2020-06-28            NaN            NaN             NaN            NaN   \n",
              "2020-06-29            NaN            NaN             NaN            NaN   \n",
              "2020-06-30            NaN            NaN             NaN            NaN   \n",
              "2020-07-01            NaN            NaN             NaN            NaN   \n",
              "2020-07-02            NaN            NaN             NaN            NaN   \n",
              "\n",
              "            NVT_future180d  PM_future180d  \n",
              "2020-06-28             NaN            NaN  \n",
              "2020-06-29             NaN            NaN  \n",
              "2020-06-30             NaN            NaN  \n",
              "2020-07-01             NaN            NaN  \n",
              "2020-07-02             NaN            NaN  "
            ]
          },
          "metadata": {
            "tags": []
          },
          "execution_count": 11
        }
      ]
    },
    {
      "cell_type": "code",
      "metadata": {
        "id": "PNFiKsu0uxFa",
        "colab_type": "code",
        "colab": {
          "base_uri": "https://localhost:8080/",
          "height": 55
        },
        "outputId": "b1e1b278-503e-4a3d-f3ee-9cb46f51b071"
      },
      "source": [
        "import matplotlib.pyplot as plt\n",
        "print(plt.style.available)\n",
        "####Check different styles here: https://matplotlib.org/3.1.1/gallery/style_sheets/style_sheets_reference.html\n",
        "plt.style.use('seaborn-bright')"
      ],
      "execution_count": null,
      "outputs": [
        {
          "output_type": "stream",
          "text": [
            "['Solarize_Light2', '_classic_test_patch', 'bmh', 'classic', 'dark_background', 'fast', 'fivethirtyeight', 'ggplot', 'grayscale', 'seaborn', 'seaborn-bright', 'seaborn-colorblind', 'seaborn-dark', 'seaborn-dark-palette', 'seaborn-darkgrid', 'seaborn-deep', 'seaborn-muted', 'seaborn-notebook', 'seaborn-paper', 'seaborn-pastel', 'seaborn-poster', 'seaborn-talk', 'seaborn-ticks', 'seaborn-white', 'seaborn-whitegrid', 'tableau-colorblind10']\n"
          ],
          "name": "stdout"
        }
      ]
    },
    {
      "cell_type": "code",
      "metadata": {
        "id": "Kwy78N5GuxFe",
        "colab_type": "code",
        "colab": {}
      },
      "source": [
        "df['PU_future60d']=df['PU Ratio'].shift(-60)\n",
        "df['NVT_future60d']=df['NVTAdj90'].shift(-60)\n",
        "df['PM_future60d']=df['PM'].shift(-60)\n"
      ],
      "execution_count": null,
      "outputs": []
    },
    {
      "cell_type": "code",
      "metadata": {
        "id": "_EyKxv_9uxFh",
        "colab_type": "code",
        "colab": {}
      },
      "source": [
        "df_60=df[['PU Ratio','PU_future60d','NVTAdj90','NVT_future60d','future60d_ROI','PM','PM_future60d']]"
      ],
      "execution_count": null,
      "outputs": []
    },
    {
      "cell_type": "code",
      "metadata": {
        "id": "1sc0BjihuxFl",
        "colab_type": "code",
        "colab": {}
      },
      "source": [
        "df_60=df_60.dropna()"
      ],
      "execution_count": null,
      "outputs": []
    },
    {
      "cell_type": "code",
      "metadata": {
        "id": "qZ3aS5PkuxFn",
        "colab_type": "code",
        "colab": {
          "base_uri": "https://localhost:8080/",
          "height": 202
        },
        "outputId": "50c05486-db60-462b-c04e-8afd279f4696"
      },
      "source": [
        "df_60.head()"
      ],
      "execution_count": null,
      "outputs": [
        {
          "output_type": "execute_result",
          "data": {
            "text/html": [
              "<div>\n",
              "<style scoped>\n",
              "    .dataframe tbody tr th:only-of-type {\n",
              "        vertical-align: middle;\n",
              "    }\n",
              "\n",
              "    .dataframe tbody tr th {\n",
              "        vertical-align: top;\n",
              "    }\n",
              "\n",
              "    .dataframe thead th {\n",
              "        text-align: right;\n",
              "    }\n",
              "</style>\n",
              "<table border=\"1\" class=\"dataframe\">\n",
              "  <thead>\n",
              "    <tr style=\"text-align: right;\">\n",
              "      <th></th>\n",
              "      <th>PU Ratio</th>\n",
              "      <th>PU_future60d</th>\n",
              "      <th>NVTAdj90</th>\n",
              "      <th>NVT_future60d</th>\n",
              "      <th>future60d_ROI</th>\n",
              "      <th>PM</th>\n",
              "      <th>PM_future60d</th>\n",
              "    </tr>\n",
              "  </thead>\n",
              "  <tbody>\n",
              "    <tr>\n",
              "      <th>2010-10-15</th>\n",
              "      <td>0.463020</td>\n",
              "      <td>0.846304</td>\n",
              "      <td>154.643925</td>\n",
              "      <td>127.697990</td>\n",
              "      <td>134.942857</td>\n",
              "      <td>30.998689</td>\n",
              "      <td>20.276851</td>\n",
              "    </tr>\n",
              "    <tr>\n",
              "      <th>2010-10-16</th>\n",
              "      <td>0.418576</td>\n",
              "      <td>0.790610</td>\n",
              "      <td>144.681892</td>\n",
              "      <td>123.638562</td>\n",
              "      <td>137.623762</td>\n",
              "      <td>11.602674</td>\n",
              "      <td>20.538081</td>\n",
              "    </tr>\n",
              "    <tr>\n",
              "      <th>2010-10-17</th>\n",
              "      <td>0.434648</td>\n",
              "      <td>0.848591</td>\n",
              "      <td>147.263082</td>\n",
              "      <td>128.368660</td>\n",
              "      <td>145.058824</td>\n",
              "      <td>18.085074</td>\n",
              "      <td>27.464631</td>\n",
              "    </tr>\n",
              "    <tr>\n",
              "      <th>2010-10-18</th>\n",
              "      <td>0.432816</td>\n",
              "      <td>0.784172</td>\n",
              "      <td>145.972987</td>\n",
              "      <td>124.403714</td>\n",
              "      <td>136.968570</td>\n",
              "      <td>11.418262</td>\n",
              "      <td>38.393389</td>\n",
              "    </tr>\n",
              "    <tr>\n",
              "      <th>2010-10-19</th>\n",
              "      <td>0.391168</td>\n",
              "      <td>0.753379</td>\n",
              "      <td>137.869691</td>\n",
              "      <td>122.980495</td>\n",
              "      <td>147.065731</td>\n",
              "      <td>4.899486</td>\n",
              "      <td>31.191718</td>\n",
              "    </tr>\n",
              "  </tbody>\n",
              "</table>\n",
              "</div>"
            ],
            "text/plain": [
              "            PU Ratio  PU_future60d    NVTAdj90  NVT_future60d  future60d_ROI  \\\n",
              "2010-10-15  0.463020      0.846304  154.643925     127.697990     134.942857   \n",
              "2010-10-16  0.418576      0.790610  144.681892     123.638562     137.623762   \n",
              "2010-10-17  0.434648      0.848591  147.263082     128.368660     145.058824   \n",
              "2010-10-18  0.432816      0.784172  145.972987     124.403714     136.968570   \n",
              "2010-10-19  0.391168      0.753379  137.869691     122.980495     147.065731   \n",
              "\n",
              "                   PM  PM_future60d  \n",
              "2010-10-15  30.998689     20.276851  \n",
              "2010-10-16  11.602674     20.538081  \n",
              "2010-10-17  18.085074     27.464631  \n",
              "2010-10-18  11.418262     38.393389  \n",
              "2010-10-19   4.899486     31.191718  "
            ]
          },
          "metadata": {
            "tags": []
          },
          "execution_count": 16
        }
      ]
    },
    {
      "cell_type": "code",
      "metadata": {
        "id": "fOhIlRdezxVY",
        "colab_type": "code",
        "colab": {
          "base_uri": "https://localhost:8080/",
          "height": 202
        },
        "outputId": "8d982ba1-1e96-4635-f53d-c1612144e34d"
      },
      "source": [
        "df_60.tail()"
      ],
      "execution_count": null,
      "outputs": [
        {
          "output_type": "execute_result",
          "data": {
            "text/html": [
              "<div>\n",
              "<style scoped>\n",
              "    .dataframe tbody tr th:only-of-type {\n",
              "        vertical-align: middle;\n",
              "    }\n",
              "\n",
              "    .dataframe tbody tr th {\n",
              "        vertical-align: top;\n",
              "    }\n",
              "\n",
              "    .dataframe thead th {\n",
              "        text-align: right;\n",
              "    }\n",
              "</style>\n",
              "<table border=\"1\" class=\"dataframe\">\n",
              "  <thead>\n",
              "    <tr style=\"text-align: right;\">\n",
              "      <th></th>\n",
              "      <th>PU Ratio</th>\n",
              "      <th>PU_future60d</th>\n",
              "      <th>NVTAdj90</th>\n",
              "      <th>NVT_future60d</th>\n",
              "      <th>future60d_ROI</th>\n",
              "      <th>PM</th>\n",
              "      <th>PM_future60d</th>\n",
              "    </tr>\n",
              "  </thead>\n",
              "  <tbody>\n",
              "    <tr>\n",
              "      <th>2020-01-23</th>\n",
              "      <td>32.357123</td>\n",
              "      <td>12.172811</td>\n",
              "      <td>86.503052</td>\n",
              "      <td>61.315945</td>\n",
              "      <td>-22.470590</td>\n",
              "      <td>1.341353</td>\n",
              "      <td>1.455861</td>\n",
              "    </tr>\n",
              "    <tr>\n",
              "      <th>2020-01-24</th>\n",
              "      <td>33.296773</td>\n",
              "      <td>13.134281</td>\n",
              "      <td>87.661535</td>\n",
              "      <td>63.573657</td>\n",
              "      <td>-19.568525</td>\n",
              "      <td>1.624652</td>\n",
              "      <td>1.249921</td>\n",
              "    </tr>\n",
              "    <tr>\n",
              "      <th>2020-01-25</th>\n",
              "      <td>32.873474</td>\n",
              "      <td>12.582958</td>\n",
              "      <td>87.176746</td>\n",
              "      <td>62.632848</td>\n",
              "      <td>-19.830441</td>\n",
              "      <td>1.881499</td>\n",
              "      <td>1.938508</td>\n",
              "    </tr>\n",
              "    <tr>\n",
              "      <th>2020-01-26</th>\n",
              "      <td>34.843963</td>\n",
              "      <td>12.841833</td>\n",
              "      <td>90.787382</td>\n",
              "      <td>63.264534</td>\n",
              "      <td>-21.220446</td>\n",
              "      <td>2.887484</td>\n",
              "      <td>0.853296</td>\n",
              "    </tr>\n",
              "    <tr>\n",
              "      <th>2020-01-27</th>\n",
              "      <td>37.409096</td>\n",
              "      <td>11.868722</td>\n",
              "      <td>94.497962</td>\n",
              "      <td>60.623003</td>\n",
              "      <td>-27.085766</td>\n",
              "      <td>1.685565</td>\n",
              "      <td>0.995063</td>\n",
              "    </tr>\n",
              "  </tbody>\n",
              "</table>\n",
              "</div>"
            ],
            "text/plain": [
              "             PU Ratio  PU_future60d   NVTAdj90  NVT_future60d  future60d_ROI  \\\n",
              "2020-01-23  32.357123     12.172811  86.503052      61.315945     -22.470590   \n",
              "2020-01-24  33.296773     13.134281  87.661535      63.573657     -19.568525   \n",
              "2020-01-25  32.873474     12.582958  87.176746      62.632848     -19.830441   \n",
              "2020-01-26  34.843963     12.841833  90.787382      63.264534     -21.220446   \n",
              "2020-01-27  37.409096     11.868722  94.497962      60.623003     -27.085766   \n",
              "\n",
              "                  PM  PM_future60d  \n",
              "2020-01-23  1.341353      1.455861  \n",
              "2020-01-24  1.624652      1.249921  \n",
              "2020-01-25  1.881499      1.938508  \n",
              "2020-01-26  2.887484      0.853296  \n",
              "2020-01-27  1.685565      0.995063  "
            ]
          },
          "metadata": {
            "tags": []
          },
          "execution_count": 17
        }
      ]
    },
    {
      "cell_type": "code",
      "metadata": {
        "id": "FkctcCkpuxFp",
        "colab_type": "code",
        "colab": {}
      },
      "source": [
        "from sklearn.cluster import KMeans"
      ],
      "execution_count": null,
      "outputs": []
    },
    {
      "cell_type": "code",
      "metadata": {
        "id": "5peEFZ9duxFs",
        "colab_type": "code",
        "colab": {
          "base_uri": "https://localhost:8080/",
          "height": 202
        },
        "outputId": "6361fd7c-d128-4912-de53-6dc4e19cd200"
      },
      "source": [
        "### We cluster the data by PU today and after n days\n",
        "model = KMeans(n_clusters=4, random_state=0)\n",
        "model.fit(df_60[['PU Ratio','PU_future60d']])\n",
        "labels60 = model.predict(df_60[['PU Ratio','PU_future60d']])\n",
        "labels60.reshape(-1,1)\n",
        "df_60['labels60']=labels60\n",
        "df_60.head()"
      ],
      "execution_count": null,
      "outputs": [
        {
          "output_type": "execute_result",
          "data": {
            "text/html": [
              "<div>\n",
              "<style scoped>\n",
              "    .dataframe tbody tr th:only-of-type {\n",
              "        vertical-align: middle;\n",
              "    }\n",
              "\n",
              "    .dataframe tbody tr th {\n",
              "        vertical-align: top;\n",
              "    }\n",
              "\n",
              "    .dataframe thead th {\n",
              "        text-align: right;\n",
              "    }\n",
              "</style>\n",
              "<table border=\"1\" class=\"dataframe\">\n",
              "  <thead>\n",
              "    <tr style=\"text-align: right;\">\n",
              "      <th></th>\n",
              "      <th>PU Ratio</th>\n",
              "      <th>PU_future60d</th>\n",
              "      <th>NVTAdj90</th>\n",
              "      <th>NVT_future60d</th>\n",
              "      <th>future60d_ROI</th>\n",
              "      <th>PM</th>\n",
              "      <th>PM_future60d</th>\n",
              "      <th>labels60</th>\n",
              "    </tr>\n",
              "  </thead>\n",
              "  <tbody>\n",
              "    <tr>\n",
              "      <th>2010-10-15</th>\n",
              "      <td>0.463020</td>\n",
              "      <td>0.846304</td>\n",
              "      <td>154.643925</td>\n",
              "      <td>127.697990</td>\n",
              "      <td>134.942857</td>\n",
              "      <td>30.998689</td>\n",
              "      <td>20.276851</td>\n",
              "      <td>1</td>\n",
              "    </tr>\n",
              "    <tr>\n",
              "      <th>2010-10-16</th>\n",
              "      <td>0.418576</td>\n",
              "      <td>0.790610</td>\n",
              "      <td>144.681892</td>\n",
              "      <td>123.638562</td>\n",
              "      <td>137.623762</td>\n",
              "      <td>11.602674</td>\n",
              "      <td>20.538081</td>\n",
              "      <td>1</td>\n",
              "    </tr>\n",
              "    <tr>\n",
              "      <th>2010-10-17</th>\n",
              "      <td>0.434648</td>\n",
              "      <td>0.848591</td>\n",
              "      <td>147.263082</td>\n",
              "      <td>128.368660</td>\n",
              "      <td>145.058824</td>\n",
              "      <td>18.085074</td>\n",
              "      <td>27.464631</td>\n",
              "      <td>1</td>\n",
              "    </tr>\n",
              "    <tr>\n",
              "      <th>2010-10-18</th>\n",
              "      <td>0.432816</td>\n",
              "      <td>0.784172</td>\n",
              "      <td>145.972987</td>\n",
              "      <td>124.403714</td>\n",
              "      <td>136.968570</td>\n",
              "      <td>11.418262</td>\n",
              "      <td>38.393389</td>\n",
              "      <td>1</td>\n",
              "    </tr>\n",
              "    <tr>\n",
              "      <th>2010-10-19</th>\n",
              "      <td>0.391168</td>\n",
              "      <td>0.753379</td>\n",
              "      <td>137.869691</td>\n",
              "      <td>122.980495</td>\n",
              "      <td>147.065731</td>\n",
              "      <td>4.899486</td>\n",
              "      <td>31.191718</td>\n",
              "      <td>1</td>\n",
              "    </tr>\n",
              "  </tbody>\n",
              "</table>\n",
              "</div>"
            ],
            "text/plain": [
              "            PU Ratio  PU_future60d    NVTAdj90  NVT_future60d  future60d_ROI  \\\n",
              "2010-10-15  0.463020      0.846304  154.643925     127.697990     134.942857   \n",
              "2010-10-16  0.418576      0.790610  144.681892     123.638562     137.623762   \n",
              "2010-10-17  0.434648      0.848591  147.263082     128.368660     145.058824   \n",
              "2010-10-18  0.432816      0.784172  145.972987     124.403714     136.968570   \n",
              "2010-10-19  0.391168      0.753379  137.869691     122.980495     147.065731   \n",
              "\n",
              "                   PM  PM_future60d  labels60  \n",
              "2010-10-15  30.998689     20.276851         1  \n",
              "2010-10-16  11.602674     20.538081         1  \n",
              "2010-10-17  18.085074     27.464631         1  \n",
              "2010-10-18  11.418262     38.393389         1  \n",
              "2010-10-19   4.899486     31.191718         1  "
            ]
          },
          "metadata": {
            "tags": []
          },
          "execution_count": 19
        }
      ]
    },
    {
      "cell_type": "code",
      "metadata": {
        "id": "OrQYbc1juxFw",
        "colab_type": "code",
        "colab": {
          "base_uri": "https://localhost:8080/",
          "height": 171
        },
        "outputId": "005717da-786e-4b61-a56c-5b24618dbeb3"
      },
      "source": [
        "centroids = model.cluster_centers_\n",
        "centroids_x = centroids[:,0]\n",
        "centroids_y = centroids[:,1]\n",
        "centroids=pd.DataFrame(centroids)\n",
        "centroids.columns=['centroids_x','centroids_y']\n",
        "centroids.head()"
      ],
      "execution_count": null,
      "outputs": [
        {
          "output_type": "execute_result",
          "data": {
            "text/html": [
              "<div>\n",
              "<style scoped>\n",
              "    .dataframe tbody tr th:only-of-type {\n",
              "        vertical-align: middle;\n",
              "    }\n",
              "\n",
              "    .dataframe tbody tr th {\n",
              "        vertical-align: top;\n",
              "    }\n",
              "\n",
              "    .dataframe thead th {\n",
              "        text-align: right;\n",
              "    }\n",
              "</style>\n",
              "<table border=\"1\" class=\"dataframe\">\n",
              "  <thead>\n",
              "    <tr style=\"text-align: right;\">\n",
              "      <th></th>\n",
              "      <th>centroids_x</th>\n",
              "      <th>centroids_y</th>\n",
              "    </tr>\n",
              "  </thead>\n",
              "  <tbody>\n",
              "    <tr>\n",
              "      <th>0</th>\n",
              "      <td>98.825756</td>\n",
              "      <td>97.112594</td>\n",
              "    </tr>\n",
              "    <tr>\n",
              "      <th>1</th>\n",
              "      <td>18.277702</td>\n",
              "      <td>19.061443</td>\n",
              "    </tr>\n",
              "    <tr>\n",
              "      <th>2</th>\n",
              "      <td>444.836885</td>\n",
              "      <td>111.437276</td>\n",
              "    </tr>\n",
              "    <tr>\n",
              "      <th>3</th>\n",
              "      <td>99.627462</td>\n",
              "      <td>439.204960</td>\n",
              "    </tr>\n",
              "  </tbody>\n",
              "</table>\n",
              "</div>"
            ],
            "text/plain": [
              "   centroids_x  centroids_y\n",
              "0    98.825756    97.112594\n",
              "1    18.277702    19.061443\n",
              "2   444.836885   111.437276\n",
              "3    99.627462   439.204960"
            ]
          },
          "metadata": {
            "tags": []
          },
          "execution_count": 20
        }
      ]
    },
    {
      "cell_type": "code",
      "metadata": {
        "id": "vyHlhUEZuxFy",
        "colab_type": "code",
        "colab": {
          "base_uri": "https://localhost:8080/",
          "height": 72
        },
        "outputId": "ace41a06-9022-4418-fff1-eefe62aeb0b4"
      },
      "source": [
        "%matplotlib inline\n",
        "import seaborn as sns"
      ],
      "execution_count": null,
      "outputs": [
        {
          "output_type": "stream",
          "text": [
            "/usr/local/lib/python3.6/dist-packages/statsmodels/tools/_testing.py:19: FutureWarning: pandas.util.testing is deprecated. Use the functions in the public API at pandas.testing instead.\n",
            "  import pandas.util.testing as tm\n"
          ],
          "name": "stderr"
        }
      ]
    },
    {
      "cell_type": "code",
      "metadata": {
        "id": "baH4bQHeuxF0",
        "colab_type": "code",
        "colab": {
          "base_uri": "https://localhost:8080/",
          "height": 781
        },
        "outputId": "b7ee4264-6841-4695-81c5-c019ac879201"
      },
      "source": [
        "plt.figure(figsize=(14, 10))\n",
        "sns.lmplot('PU Ratio', 'PU_future60d', data=df_60, hue='labels60', fit_reg=False, legend=True,size=10)\n",
        "plt.scatter(centroids_x, centroids_y, marker='D', s=50, color='black')\n",
        "plt.savefig('PU60_full')"
      ],
      "execution_count": 23,
      "outputs": [
        {
          "output_type": "stream",
          "text": [
            "/usr/local/lib/python3.6/dist-packages/seaborn/regression.py:573: UserWarning: The `size` parameter has been renamed to `height`; please update your code.\n",
            "  warnings.warn(msg, UserWarning)\n"
          ],
          "name": "stderr"
        },
        {
          "output_type": "display_data",
          "data": {
            "text/plain": [
              "<Figure size 1008x720 with 0 Axes>"
            ]
          },
          "metadata": {
            "tags": []
          }
        },
        {
          "output_type": "display_data",
          "data": {
            "image/png": "[encoded data removed]",
            "text/plain": [
              "<Figure size 770.125x720 with 1 Axes>"
            ]
          },
          "metadata": {
            "tags": [],
            "needs_background": "light"
          }
        }
      ]
    },
    {
      "cell_type": "code",
      "metadata": {
        "id": "TSkUR5nVuxF3",
        "colab_type": "code",
        "colab": {
          "base_uri": "https://localhost:8080/",
          "height": 171
        },
        "outputId": "4f4f0fbe-b27e-4677-d4c9-7d3f208742ad"
      },
      "source": [
        "df_60_ROI=df_60[['future60d_ROI','labels60']].groupby('labels60', as_index=False).agg(['min', 'max','mean','std'])\n",
        "df_60_ROI.columns = [\"_\".join(x) for x in df_60_ROI.columns.ravel()]\n",
        "df_60_ROI.index.name=None\n",
        "df_60_ROI.head()"
      ],
      "execution_count": 24,
      "outputs": [
        {
          "output_type": "execute_result",
          "data": {
            "text/html": [
              "<div>\n",
              "<style scoped>\n",
              "    .dataframe tbody tr th:only-of-type {\n",
              "        vertical-align: middle;\n",
              "    }\n",
              "\n",
              "    .dataframe tbody tr th {\n",
              "        vertical-align: top;\n",
              "    }\n",
              "\n",
              "    .dataframe thead th {\n",
              "        text-align: right;\n",
              "    }\n",
              "</style>\n",
              "<table border=\"1\" class=\"dataframe\">\n",
              "  <thead>\n",
              "    <tr style=\"text-align: right;\">\n",
              "      <th></th>\n",
              "      <th>future60d_ROI_min</th>\n",
              "      <th>future60d_ROI_max</th>\n",
              "      <th>future60d_ROI_mean</th>\n",
              "      <th>future60d_ROI_std</th>\n",
              "    </tr>\n",
              "  </thead>\n",
              "  <tbody>\n",
              "    <tr>\n",
              "      <th>0</th>\n",
              "      <td>-72.993433</td>\n",
              "      <td>3854.704094</td>\n",
              "      <td>27.074604</td>\n",
              "      <td>211.689726</td>\n",
              "    </tr>\n",
              "    <tr>\n",
              "      <th>1</th>\n",
              "      <td>-80.651775</td>\n",
              "      <td>3022.836529</td>\n",
              "      <td>57.034190</td>\n",
              "      <td>198.101769</td>\n",
              "    </tr>\n",
              "    <tr>\n",
              "      <th>2</th>\n",
              "      <td>-59.784966</td>\n",
              "      <td>20.531380</td>\n",
              "      <td>-25.633132</td>\n",
              "      <td>19.805913</td>\n",
              "    </tr>\n",
              "    <tr>\n",
              "      <th>3</th>\n",
              "      <td>91.156702</td>\n",
              "      <td>834.920849</td>\n",
              "      <td>300.810466</td>\n",
              "      <td>238.209134</td>\n",
              "    </tr>\n",
              "  </tbody>\n",
              "</table>\n",
              "</div>"
            ],
            "text/plain": [
              "   future60d_ROI_min  future60d_ROI_max  future60d_ROI_mean  future60d_ROI_std\n",
              "0         -72.993433        3854.704094           27.074604         211.689726\n",
              "1         -80.651775        3022.836529           57.034190         198.101769\n",
              "2         -59.784966          20.531380          -25.633132          19.805913\n",
              "3          91.156702         834.920849          300.810466         238.209134"
            ]
          },
          "metadata": {
            "tags": []
          },
          "execution_count": 24
        }
      ]
    },
    {
      "cell_type": "code",
      "metadata": {
        "id": "2jiFPU6ouxF5",
        "colab_type": "code",
        "colab": {
          "base_uri": "https://localhost:8080/",
          "height": 294
        },
        "outputId": "8312a793-f5eb-4d19-ff76-9ee72e5e8c03"
      },
      "source": [
        "df60_PU=df_60[['PU Ratio', 'PU_future60d','labels60']].groupby('labels60').agg(['min', 'max','mean','std'])\n",
        "df60_PU=df60_PU.transpose()\n",
        "df60_PU"
      ],
      "execution_count": 25,
      "outputs": [
        {
          "output_type": "execute_result",
          "data": {
            "text/html": [
              "<div>\n",
              "<style scoped>\n",
              "    .dataframe tbody tr th:only-of-type {\n",
              "        vertical-align: middle;\n",
              "    }\n",
              "\n",
              "    .dataframe tbody tr th {\n",
              "        vertical-align: top;\n",
              "    }\n",
              "\n",
              "    .dataframe thead th {\n",
              "        text-align: right;\n",
              "    }\n",
              "</style>\n",
              "<table border=\"1\" class=\"dataframe\">\n",
              "  <thead>\n",
              "    <tr style=\"text-align: right;\">\n",
              "      <th></th>\n",
              "      <th>labels60</th>\n",
              "      <th>0</th>\n",
              "      <th>1</th>\n",
              "      <th>2</th>\n",
              "      <th>3</th>\n",
              "    </tr>\n",
              "  </thead>\n",
              "  <tbody>\n",
              "    <tr>\n",
              "      <th rowspan=\"4\" valign=\"top\">PU Ratio</th>\n",
              "      <th>min</th>\n",
              "      <td>0.686449</td>\n",
              "      <td>0.331285</td>\n",
              "      <td>274.294364</td>\n",
              "      <td>16.025319</td>\n",
              "    </tr>\n",
              "    <tr>\n",
              "      <th>max</th>\n",
              "      <td>271.159673</td>\n",
              "      <td>106.712495</td>\n",
              "      <td>848.128885</td>\n",
              "      <td>201.440103</td>\n",
              "    </tr>\n",
              "    <tr>\n",
              "      <th>mean</th>\n",
              "      <td>98.825756</td>\n",
              "      <td>18.277702</td>\n",
              "      <td>444.836885</td>\n",
              "      <td>99.627462</td>\n",
              "    </tr>\n",
              "    <tr>\n",
              "      <th>std</th>\n",
              "      <td>42.649648</td>\n",
              "      <td>16.296131</td>\n",
              "      <td>148.836508</td>\n",
              "      <td>57.197275</td>\n",
              "    </tr>\n",
              "    <tr>\n",
              "      <th rowspan=\"4\" valign=\"top\">PU_future60d</th>\n",
              "      <th>min</th>\n",
              "      <td>1.739404</td>\n",
              "      <td>0.331285</td>\n",
              "      <td>52.141711</td>\n",
              "      <td>269.334754</td>\n",
              "    </tr>\n",
              "    <tr>\n",
              "      <th>max</th>\n",
              "      <td>259.290818</td>\n",
              "      <td>106.712495</td>\n",
              "      <td>153.641104</td>\n",
              "      <td>848.128885</td>\n",
              "    </tr>\n",
              "    <tr>\n",
              "      <th>mean</th>\n",
              "      <td>97.112594</td>\n",
              "      <td>19.061443</td>\n",
              "      <td>111.437276</td>\n",
              "      <td>439.204960</td>\n",
              "    </tr>\n",
              "    <tr>\n",
              "      <th>std</th>\n",
              "      <td>44.258792</td>\n",
              "      <td>16.639015</td>\n",
              "      <td>24.506832</td>\n",
              "      <td>149.643526</td>\n",
              "    </tr>\n",
              "  </tbody>\n",
              "</table>\n",
              "</div>"
            ],
            "text/plain": [
              "labels60                    0           1           2           3\n",
              "PU Ratio     min     0.686449    0.331285  274.294364   16.025319\n",
              "             max   271.159673  106.712495  848.128885  201.440103\n",
              "             mean   98.825756   18.277702  444.836885   99.627462\n",
              "             std    42.649648   16.296131  148.836508   57.197275\n",
              "PU_future60d min     1.739404    0.331285   52.141711  269.334754\n",
              "             max   259.290818  106.712495  153.641104  848.128885\n",
              "             mean   97.112594   19.061443  111.437276  439.204960\n",
              "             std    44.258792   16.639015   24.506832  149.643526"
            ]
          },
          "metadata": {
            "tags": []
          },
          "execution_count": 25
        }
      ]
    },
    {
      "cell_type": "code",
      "metadata": {
        "id": "GQbyzv6RuxGI",
        "colab_type": "code",
        "colab": {
          "base_uri": "https://localhost:8080/",
          "height": 781
        },
        "outputId": "bdf1f0fc-40f9-4297-c44b-82ae47c3fc76"
      },
      "source": [
        "plt.figure(figsize=(14, 10))\n",
        "sns.lmplot('PU Ratio', 'PU_future60d', data=df_60, hue='labels60', fit_reg=False, legend=True,size=10)\n",
        "plt.scatter(centroids_x, centroids_y, marker='D', s=50, color='black')\n",
        "plt.axvline(201.44, color='red', linestyle='--')\n",
        "plt.axhline(269.33, color='red', linestyle='--')\n",
        "plt.annotate('The max PU ratio for Category 2 is:201.44',\n",
        "            xy=(220, 700), \n",
        "            horizontalalignment='left', verticalalignment='top',fontsize=12)\n",
        "plt.annotate('The mean PU ratio for Category 2 is:99.63',\n",
        "            xy=(220, 680), \n",
        "            horizontalalignment='left', verticalalignment='top',fontsize=12)\n",
        "plt.annotate('The min PU ratio for Category 2 is:16.03',\n",
        "            xy=(220, 660), \n",
        "            horizontalalignment='left', verticalalignment='top',fontsize=12)\n",
        "\n",
        "plt.annotate('The max PU ratio After 90 days for Category 2 is:848.13',\n",
        "            xy=(220, 300), \n",
        "            horizontalalignment='left', verticalalignment='top',fontsize=12)\n",
        "plt.annotate('The mean PU ratio After 90 days for Category 2 is:439.20',\n",
        "            xy=(220, 320), \n",
        "            horizontalalignment='left', verticalalignment='top',fontsize=12)\n",
        "plt.annotate('The min PU ratio After 90 days for Category 2 is:269.33',\n",
        "            xy=(220, 340), \n",
        "            horizontalalignment='left', verticalalignment='top',fontsize=12)\n",
        "plt.savefig('PU90_full_annoted')"
      ],
      "execution_count": 31,
      "outputs": [
        {
          "output_type": "stream",
          "text": [
            "/usr/local/lib/python3.6/dist-packages/seaborn/regression.py:573: UserWarning: The `size` parameter has been renamed to `height`; please update your code.\n",
            "  warnings.warn(msg, UserWarning)\n"
          ],
          "name": "stderr"
        },
        {
          "output_type": "display_data",
          "data": {
            "text/plain": [
              "<Figure size 1008x720 with 0 Axes>"
            ]
          },
          "metadata": {
            "tags": []
          }
        },
        {
          "output_type": "display_data",
          "data": {
            "image/png": "[encoded data removed]",
            "text/plain": [
              "<Figure size 770.125x720 with 1 Axes>"
            ]
          },
          "metadata": {
            "tags": [],
            "needs_background": "light"
          }
        }
      ]
    },
    {
      "cell_type": "code",
      "metadata": {
        "id": "XWC38_hiuxF7",
        "colab_type": "code",
        "colab": {
          "base_uri": "https://localhost:8080/",
          "height": 609
        },
        "outputId": "47856e6c-9d10-494f-a421-928a58682fe9"
      },
      "source": [
        "df60_PU.iloc[0:4].plot(kind='bar',figsize=(14, 10))\n",
        "plt.title('PU ratio on buy-in date by Clustering Categories',fontsize=16)\n",
        "plt.xticks(rotation=360)\n",
        "plt.savefig('60PU_full_buyin')"
      ],
      "execution_count": 26,
      "outputs": [
        {
          "output_type": "display_data",
          "data": {
            "image/png": "[encoded data removed]",
            "text/plain": [
              "<Figure size 1008x720 with 1 Axes>"
            ]
          },
          "metadata": {
            "tags": [],
            "needs_background": "light"
          }
        }
      ]
    },
    {
      "cell_type": "code",
      "metadata": {
        "id": "nHeXQhKiuxGA",
        "colab_type": "code",
        "colab": {
          "base_uri": "https://localhost:8080/",
          "height": 610
        },
        "outputId": "b5493662-0283-4ade-804d-d2446445451e"
      },
      "source": [
        "df60_PU.iloc[4:8].plot(kind='bar',figsize=(14, 10))\n",
        "plt.title('PU ratio on sell-out date by Clustering Categories',fontsize=16)\n",
        "plt.xticks(rotation=360)\n",
        "plt.savefig('60PU_full_sellout')"
      ],
      "execution_count": 27,
      "outputs": [
        {
          "output_type": "display_data",
          "data": {
            "image/png": "[encoded data removed]",
            "text/plain": [
              "<Figure size 1008x720 with 1 Axes>"
            ]
          },
          "metadata": {
            "tags": [],
            "needs_background": "light"
          }
        }
      ]
    },
    {
      "cell_type": "code",
      "metadata": {
        "id": "oXpOZgIluxGD",
        "colab_type": "code",
        "colab": {
          "base_uri": "https://localhost:8080/",
          "height": 171
        },
        "outputId": "8f6f3cbc-983d-47c5-81ac-c9b859733aa9"
      },
      "source": [
        "df_60_ROI=df_60_ROI.transpose()\n",
        "df_60_ROI.columns=['labels60=0', 'labels60=1','labels60=2', 'labels60=3']\n",
        "df_60_ROI.head()"
      ],
      "execution_count": 28,
      "outputs": [
        {
          "output_type": "execute_result",
          "data": {
            "text/html": [
              "<div>\n",
              "<style scoped>\n",
              "    .dataframe tbody tr th:only-of-type {\n",
              "        vertical-align: middle;\n",
              "    }\n",
              "\n",
              "    .dataframe tbody tr th {\n",
              "        vertical-align: top;\n",
              "    }\n",
              "\n",
              "    .dataframe thead th {\n",
              "        text-align: right;\n",
              "    }\n",
              "</style>\n",
              "<table border=\"1\" class=\"dataframe\">\n",
              "  <thead>\n",
              "    <tr style=\"text-align: right;\">\n",
              "      <th></th>\n",
              "      <th>labels60=0</th>\n",
              "      <th>labels60=1</th>\n",
              "      <th>labels60=2</th>\n",
              "      <th>labels60=3</th>\n",
              "    </tr>\n",
              "  </thead>\n",
              "  <tbody>\n",
              "    <tr>\n",
              "      <th>future60d_ROI_min</th>\n",
              "      <td>-72.993433</td>\n",
              "      <td>-80.651775</td>\n",
              "      <td>-59.784966</td>\n",
              "      <td>91.156702</td>\n",
              "    </tr>\n",
              "    <tr>\n",
              "      <th>future60d_ROI_max</th>\n",
              "      <td>3854.704094</td>\n",
              "      <td>3022.836529</td>\n",
              "      <td>20.531380</td>\n",
              "      <td>834.920849</td>\n",
              "    </tr>\n",
              "    <tr>\n",
              "      <th>future60d_ROI_mean</th>\n",
              "      <td>27.074604</td>\n",
              "      <td>57.034190</td>\n",
              "      <td>-25.633132</td>\n",
              "      <td>300.810466</td>\n",
              "    </tr>\n",
              "    <tr>\n",
              "      <th>future60d_ROI_std</th>\n",
              "      <td>211.689726</td>\n",
              "      <td>198.101769</td>\n",
              "      <td>19.805913</td>\n",
              "      <td>238.209134</td>\n",
              "    </tr>\n",
              "  </tbody>\n",
              "</table>\n",
              "</div>"
            ],
            "text/plain": [
              "                     labels60=0   labels60=1  labels60=2  labels60=3\n",
              "future60d_ROI_min    -72.993433   -80.651775  -59.784966   91.156702\n",
              "future60d_ROI_max   3854.704094  3022.836529   20.531380  834.920849\n",
              "future60d_ROI_mean    27.074604    57.034190  -25.633132  300.810466\n",
              "future60d_ROI_std    211.689726   198.101769   19.805913  238.209134"
            ]
          },
          "metadata": {
            "tags": []
          },
          "execution_count": 28
        }
      ]
    },
    {
      "cell_type": "code",
      "metadata": {
        "scrolled": true,
        "id": "LLCjLWq6uxGF",
        "colab_type": "code",
        "colab": {
          "base_uri": "https://localhost:8080/",
          "height": 610
        },
        "outputId": "c300e77d-aa91-470e-c9f7-a0082600e73b"
      },
      "source": [
        "df_60_ROI.plot(kind='bar',figsize=(14, 10))\n",
        "plt.title('The Statitiscs of Future 60-day ROI by PU Ratio Clustering Categories',fontsize=16)\n",
        "plt.xticks(rotation=360)\n",
        "plt.savefig('60ROI_full')"
      ],
      "execution_count": 29,
      "outputs": [
        {
          "output_type": "display_data",
          "data": {
            "image/png": "[encoded data removed]",
            "text/plain": [
              "<Figure size 1008x720 with 1 Axes>"
            ]
          },
          "metadata": {
            "tags": [],
            "needs_background": "light"
          }
        }
      ]
    },
    {
      "cell_type": "code",
      "metadata": {
        "id": "7EMRj-ACuxGK",
        "colab_type": "code",
        "colab": {
          "base_uri": "https://localhost:8080/",
          "height": 202
        },
        "outputId": "6518c267-5d4a-4ca3-b4a2-261738371926"
      },
      "source": [
        "df_60.head()"
      ],
      "execution_count": 32,
      "outputs": [
        {
          "output_type": "execute_result",
          "data": {
            "text/html": [
              "<div>\n",
              "<style scoped>\n",
              "    .dataframe tbody tr th:only-of-type {\n",
              "        vertical-align: middle;\n",
              "    }\n",
              "\n",
              "    .dataframe tbody tr th {\n",
              "        vertical-align: top;\n",
              "    }\n",
              "\n",
              "    .dataframe thead th {\n",
              "        text-align: right;\n",
              "    }\n",
              "</style>\n",
              "<table border=\"1\" class=\"dataframe\">\n",
              "  <thead>\n",
              "    <tr style=\"text-align: right;\">\n",
              "      <th></th>\n",
              "      <th>PU Ratio</th>\n",
              "      <th>PU_future60d</th>\n",
              "      <th>NVTAdj90</th>\n",
              "      <th>NVT_future60d</th>\n",
              "      <th>future60d_ROI</th>\n",
              "      <th>PM</th>\n",
              "      <th>PM_future60d</th>\n",
              "      <th>labels60</th>\n",
              "    </tr>\n",
              "  </thead>\n",
              "  <tbody>\n",
              "    <tr>\n",
              "      <th>2010-10-15</th>\n",
              "      <td>0.463020</td>\n",
              "      <td>0.846304</td>\n",
              "      <td>154.643925</td>\n",
              "      <td>127.697990</td>\n",
              "      <td>134.942857</td>\n",
              "      <td>30.998689</td>\n",
              "      <td>20.276851</td>\n",
              "      <td>1</td>\n",
              "    </tr>\n",
              "    <tr>\n",
              "      <th>2010-10-16</th>\n",
              "      <td>0.418576</td>\n",
              "      <td>0.790610</td>\n",
              "      <td>144.681892</td>\n",
              "      <td>123.638562</td>\n",
              "      <td>137.623762</td>\n",
              "      <td>11.602674</td>\n",
              "      <td>20.538081</td>\n",
              "      <td>1</td>\n",
              "    </tr>\n",
              "    <tr>\n",
              "      <th>2010-10-17</th>\n",
              "      <td>0.434648</td>\n",
              "      <td>0.848591</td>\n",
              "      <td>147.263082</td>\n",
              "      <td>128.368660</td>\n",
              "      <td>145.058824</td>\n",
              "      <td>18.085074</td>\n",
              "      <td>27.464631</td>\n",
              "      <td>1</td>\n",
              "    </tr>\n",
              "    <tr>\n",
              "      <th>2010-10-18</th>\n",
              "      <td>0.432816</td>\n",
              "      <td>0.784172</td>\n",
              "      <td>145.972987</td>\n",
              "      <td>124.403714</td>\n",
              "      <td>136.968570</td>\n",
              "      <td>11.418262</td>\n",
              "      <td>38.393389</td>\n",
              "      <td>1</td>\n",
              "    </tr>\n",
              "    <tr>\n",
              "      <th>2010-10-19</th>\n",
              "      <td>0.391168</td>\n",
              "      <td>0.753379</td>\n",
              "      <td>137.869691</td>\n",
              "      <td>122.980495</td>\n",
              "      <td>147.065731</td>\n",
              "      <td>4.899486</td>\n",
              "      <td>31.191718</td>\n",
              "      <td>1</td>\n",
              "    </tr>\n",
              "  </tbody>\n",
              "</table>\n",
              "</div>"
            ],
            "text/plain": [
              "            PU Ratio  PU_future60d    NVTAdj90  NVT_future60d  future60d_ROI  \\\n",
              "2010-10-15  0.463020      0.846304  154.643925     127.697990     134.942857   \n",
              "2010-10-16  0.418576      0.790610  144.681892     123.638562     137.623762   \n",
              "2010-10-17  0.434648      0.848591  147.263082     128.368660     145.058824   \n",
              "2010-10-18  0.432816      0.784172  145.972987     124.403714     136.968570   \n",
              "2010-10-19  0.391168      0.753379  137.869691     122.980495     147.065731   \n",
              "\n",
              "                   PM  PM_future60d  labels60  \n",
              "2010-10-15  30.998689     20.276851         1  \n",
              "2010-10-16  11.602674     20.538081         1  \n",
              "2010-10-17  18.085074     27.464631         1  \n",
              "2010-10-18  11.418262     38.393389         1  \n",
              "2010-10-19   4.899486     31.191718         1  "
            ]
          },
          "metadata": {
            "tags": []
          },
          "execution_count": 32
        }
      ]
    },
    {
      "cell_type": "code",
      "metadata": {
        "id": "Ju0fbxqquxGM",
        "colab_type": "code",
        "colab": {
          "base_uri": "https://localhost:8080/",
          "height": 202
        },
        "outputId": "6e6b840e-a309-4cdd-918a-051b75ac03f9"
      },
      "source": [
        "### We cluster the data by NVT today and after n days\n",
        "model = KMeans(n_clusters=4, random_state=0)\n",
        "model.fit(df_60[['NVTAdj90','NVT_future60d']])\n",
        "labels60_NVT = model.predict(df_60[['NVTAdj90','NVT_future60d']])\n",
        "labels60_NVT.reshape(-1,1)\n",
        "df_60['labels60_NVT']=labels60_NVT\n",
        "df_60.head()"
      ],
      "execution_count": 33,
      "outputs": [
        {
          "output_type": "execute_result",
          "data": {
            "text/html": [
              "<div>\n",
              "<style scoped>\n",
              "    .dataframe tbody tr th:only-of-type {\n",
              "        vertical-align: middle;\n",
              "    }\n",
              "\n",
              "    .dataframe tbody tr th {\n",
              "        vertical-align: top;\n",
              "    }\n",
              "\n",
              "    .dataframe thead th {\n",
              "        text-align: right;\n",
              "    }\n",
              "</style>\n",
              "<table border=\"1\" class=\"dataframe\">\n",
              "  <thead>\n",
              "    <tr style=\"text-align: right;\">\n",
              "      <th></th>\n",
              "      <th>PU Ratio</th>\n",
              "      <th>PU_future60d</th>\n",
              "      <th>NVTAdj90</th>\n",
              "      <th>NVT_future60d</th>\n",
              "      <th>future60d_ROI</th>\n",
              "      <th>PM</th>\n",
              "      <th>PM_future60d</th>\n",
              "      <th>labels60</th>\n",
              "      <th>labels60_NVT</th>\n",
              "    </tr>\n",
              "  </thead>\n",
              "  <tbody>\n",
              "    <tr>\n",
              "      <th>2010-10-15</th>\n",
              "      <td>0.463020</td>\n",
              "      <td>0.846304</td>\n",
              "      <td>154.643925</td>\n",
              "      <td>127.697990</td>\n",
              "      <td>134.942857</td>\n",
              "      <td>30.998689</td>\n",
              "      <td>20.276851</td>\n",
              "      <td>1</td>\n",
              "      <td>1</td>\n",
              "    </tr>\n",
              "    <tr>\n",
              "      <th>2010-10-16</th>\n",
              "      <td>0.418576</td>\n",
              "      <td>0.790610</td>\n",
              "      <td>144.681892</td>\n",
              "      <td>123.638562</td>\n",
              "      <td>137.623762</td>\n",
              "      <td>11.602674</td>\n",
              "      <td>20.538081</td>\n",
              "      <td>1</td>\n",
              "      <td>1</td>\n",
              "    </tr>\n",
              "    <tr>\n",
              "      <th>2010-10-17</th>\n",
              "      <td>0.434648</td>\n",
              "      <td>0.848591</td>\n",
              "      <td>147.263082</td>\n",
              "      <td>128.368660</td>\n",
              "      <td>145.058824</td>\n",
              "      <td>18.085074</td>\n",
              "      <td>27.464631</td>\n",
              "      <td>1</td>\n",
              "      <td>1</td>\n",
              "    </tr>\n",
              "    <tr>\n",
              "      <th>2010-10-18</th>\n",
              "      <td>0.432816</td>\n",
              "      <td>0.784172</td>\n",
              "      <td>145.972987</td>\n",
              "      <td>124.403714</td>\n",
              "      <td>136.968570</td>\n",
              "      <td>11.418262</td>\n",
              "      <td>38.393389</td>\n",
              "      <td>1</td>\n",
              "      <td>1</td>\n",
              "    </tr>\n",
              "    <tr>\n",
              "      <th>2010-10-19</th>\n",
              "      <td>0.391168</td>\n",
              "      <td>0.753379</td>\n",
              "      <td>137.869691</td>\n",
              "      <td>122.980495</td>\n",
              "      <td>147.065731</td>\n",
              "      <td>4.899486</td>\n",
              "      <td>31.191718</td>\n",
              "      <td>1</td>\n",
              "      <td>1</td>\n",
              "    </tr>\n",
              "  </tbody>\n",
              "</table>\n",
              "</div>"
            ],
            "text/plain": [
              "            PU Ratio  PU_future60d    NVTAdj90  NVT_future60d  future60d_ROI  \\\n",
              "2010-10-15  0.463020      0.846304  154.643925     127.697990     134.942857   \n",
              "2010-10-16  0.418576      0.790610  144.681892     123.638562     137.623762   \n",
              "2010-10-17  0.434648      0.848591  147.263082     128.368660     145.058824   \n",
              "2010-10-18  0.432816      0.784172  145.972987     124.403714     136.968570   \n",
              "2010-10-19  0.391168      0.753379  137.869691     122.980495     147.065731   \n",
              "\n",
              "                   PM  PM_future60d  labels60  labels60_NVT  \n",
              "2010-10-15  30.998689     20.276851         1             1  \n",
              "2010-10-16  11.602674     20.538081         1             1  \n",
              "2010-10-17  18.085074     27.464631         1             1  \n",
              "2010-10-18  11.418262     38.393389         1             1  \n",
              "2010-10-19   4.899486     31.191718         1             1  "
            ]
          },
          "metadata": {
            "tags": []
          },
          "execution_count": 33
        }
      ]
    },
    {
      "cell_type": "code",
      "metadata": {
        "id": "kSpuvjBruxGP",
        "colab_type": "code",
        "colab": {
          "base_uri": "https://localhost:8080/",
          "height": 171
        },
        "outputId": "9b019def-9c10-41df-e9e8-241b75c0456b"
      },
      "source": [
        "centroids = model.cluster_centers_\n",
        "centroids_x = centroids[:,0]\n",
        "centroids_y = centroids[:,1]\n",
        "centroids=pd.DataFrame(centroids)\n",
        "centroids.columns=['centroids_x','centroids_y']\n",
        "centroids.head()"
      ],
      "execution_count": 34,
      "outputs": [
        {
          "output_type": "execute_result",
          "data": {
            "text/html": [
              "<div>\n",
              "<style scoped>\n",
              "    .dataframe tbody tr th:only-of-type {\n",
              "        vertical-align: middle;\n",
              "    }\n",
              "\n",
              "    .dataframe tbody tr th {\n",
              "        vertical-align: top;\n",
              "    }\n",
              "\n",
              "    .dataframe thead th {\n",
              "        text-align: right;\n",
              "    }\n",
              "</style>\n",
              "<table border=\"1\" class=\"dataframe\">\n",
              "  <thead>\n",
              "    <tr style=\"text-align: right;\">\n",
              "      <th></th>\n",
              "      <th>centroids_x</th>\n",
              "      <th>centroids_y</th>\n",
              "    </tr>\n",
              "  </thead>\n",
              "  <tbody>\n",
              "    <tr>\n",
              "      <th>0</th>\n",
              "      <td>42.440936</td>\n",
              "      <td>42.708961</td>\n",
              "    </tr>\n",
              "    <tr>\n",
              "      <th>1</th>\n",
              "      <td>176.274494</td>\n",
              "      <td>79.674620</td>\n",
              "    </tr>\n",
              "    <tr>\n",
              "      <th>2</th>\n",
              "      <td>71.796194</td>\n",
              "      <td>73.866309</td>\n",
              "    </tr>\n",
              "    <tr>\n",
              "      <th>3</th>\n",
              "      <td>122.336008</td>\n",
              "      <td>180.539350</td>\n",
              "    </tr>\n",
              "  </tbody>\n",
              "</table>\n",
              "</div>"
            ],
            "text/plain": [
              "   centroids_x  centroids_y\n",
              "0    42.440936    42.708961\n",
              "1   176.274494    79.674620\n",
              "2    71.796194    73.866309\n",
              "3   122.336008   180.539350"
            ]
          },
          "metadata": {
            "tags": []
          },
          "execution_count": 34
        }
      ]
    },
    {
      "cell_type": "code",
      "metadata": {
        "id": "lv9WM0KLuxGT",
        "colab_type": "code",
        "colab": {
          "base_uri": "https://localhost:8080/",
          "height": 781
        },
        "outputId": "e7ff15c3-e7ad-4230-9f44-3d2534c88627"
      },
      "source": [
        "plt.figure(figsize=(14, 10))\n",
        "sns.lmplot('NVTAdj90', 'NVT_future60d', data=df_60, hue='labels60_NVT', fit_reg=False, legend=True,size=10)\n",
        "plt.scatter(centroids_x, centroids_y, marker='D', s=50, color='black')\n",
        "plt.savefig('NVT60_full')"
      ],
      "execution_count": 36,
      "outputs": [
        {
          "output_type": "stream",
          "text": [
            "/usr/local/lib/python3.6/dist-packages/seaborn/regression.py:573: UserWarning: The `size` parameter has been renamed to `height`; please update your code.\n",
            "  warnings.warn(msg, UserWarning)\n"
          ],
          "name": "stderr"
        },
        {
          "output_type": "display_data",
          "data": {
            "text/plain": [
              "<Figure size 1008x720 with 0 Axes>"
            ]
          },
          "metadata": {
            "tags": []
          }
        },
        {
          "output_type": "display_data",
          "data": {
            "image/png": "[encoded data removed]",
            "text/plain": [
              "<Figure size 795.5x720 with 1 Axes>"
            ]
          },
          "metadata": {
            "tags": [],
            "needs_background": "light"
          }
        }
      ]
    },
    {
      "cell_type": "code",
      "metadata": {
        "id": "j3cfy2EtuxGV",
        "colab_type": "code",
        "colab": {
          "base_uri": "https://localhost:8080/",
          "height": 171
        },
        "outputId": "79a03702-18ef-42a6-d4e2-9c6c00658fe7"
      },
      "source": [
        "df_60_ROI=df_60[['future60d_ROI','labels60_NVT']].groupby('labels60_NVT', as_index=False).agg(['min', 'max','mean','std'])\n",
        "df_60_ROI.columns = [\"_\".join(x) for x in df_60_ROI.columns.ravel()]\n",
        "df_60_ROI.index.name=None\n",
        "df_60_ROI.head()"
      ],
      "execution_count": 37,
      "outputs": [
        {
          "output_type": "execute_result",
          "data": {
            "text/html": [
              "<div>\n",
              "<style scoped>\n",
              "    .dataframe tbody tr th:only-of-type {\n",
              "        vertical-align: middle;\n",
              "    }\n",
              "\n",
              "    .dataframe tbody tr th {\n",
              "        vertical-align: top;\n",
              "    }\n",
              "\n",
              "    .dataframe thead th {\n",
              "        text-align: right;\n",
              "    }\n",
              "</style>\n",
              "<table border=\"1\" class=\"dataframe\">\n",
              "  <thead>\n",
              "    <tr style=\"text-align: right;\">\n",
              "      <th></th>\n",
              "      <th>future60d_ROI_min</th>\n",
              "      <th>future60d_ROI_max</th>\n",
              "      <th>future60d_ROI_mean</th>\n",
              "      <th>future60d_ROI_std</th>\n",
              "    </tr>\n",
              "  </thead>\n",
              "  <tbody>\n",
              "    <tr>\n",
              "      <th>0</th>\n",
              "      <td>-80.651775</td>\n",
              "      <td>417.113760</td>\n",
              "      <td>24.601498</td>\n",
              "      <td>59.815656</td>\n",
              "    </tr>\n",
              "    <tr>\n",
              "      <th>1</th>\n",
              "      <td>-72.993433</td>\n",
              "      <td>759.686249</td>\n",
              "      <td>96.529367</td>\n",
              "      <td>131.129605</td>\n",
              "    </tr>\n",
              "    <tr>\n",
              "      <th>2</th>\n",
              "      <td>-59.784966</td>\n",
              "      <td>1926.199968</td>\n",
              "      <td>63.882250</td>\n",
              "      <td>219.385030</td>\n",
              "    </tr>\n",
              "    <tr>\n",
              "      <th>3</th>\n",
              "      <td>21.771066</td>\n",
              "      <td>3854.704094</td>\n",
              "      <td>532.518894</td>\n",
              "      <td>823.018929</td>\n",
              "    </tr>\n",
              "  </tbody>\n",
              "</table>\n",
              "</div>"
            ],
            "text/plain": [
              "   future60d_ROI_min  future60d_ROI_max  future60d_ROI_mean  future60d_ROI_std\n",
              "0         -80.651775         417.113760           24.601498          59.815656\n",
              "1         -72.993433         759.686249           96.529367         131.129605\n",
              "2         -59.784966        1926.199968           63.882250         219.385030\n",
              "3          21.771066        3854.704094          532.518894         823.018929"
            ]
          },
          "metadata": {
            "tags": []
          },
          "execution_count": 37
        }
      ]
    },
    {
      "cell_type": "code",
      "metadata": {
        "id": "_XFFiqxOuxGX",
        "colab_type": "code",
        "colab": {
          "base_uri": "https://localhost:8080/",
          "height": 294
        },
        "outputId": "b1993c63-5eb5-47ca-9fe8-40e102ae2919"
      },
      "source": [
        "df60_NVT=df_60[['NVTAdj90', 'NVT_future60d','labels60_NVT']].groupby('labels60_NVT').agg(['min', 'max','mean','std'])\n",
        "df60_NVT=df60_NVT.transpose()\n",
        "df60_NVT"
      ],
      "execution_count": 38,
      "outputs": [
        {
          "output_type": "execute_result",
          "data": {
            "text/html": [
              "<div>\n",
              "<style scoped>\n",
              "    .dataframe tbody tr th:only-of-type {\n",
              "        vertical-align: middle;\n",
              "    }\n",
              "\n",
              "    .dataframe tbody tr th {\n",
              "        vertical-align: top;\n",
              "    }\n",
              "\n",
              "    .dataframe thead th {\n",
              "        text-align: right;\n",
              "    }\n",
              "</style>\n",
              "<table border=\"1\" class=\"dataframe\">\n",
              "  <thead>\n",
              "    <tr style=\"text-align: right;\">\n",
              "      <th></th>\n",
              "      <th>labels60_NVT</th>\n",
              "      <th>0</th>\n",
              "      <th>1</th>\n",
              "      <th>2</th>\n",
              "      <th>3</th>\n",
              "    </tr>\n",
              "  </thead>\n",
              "  <tbody>\n",
              "    <tr>\n",
              "      <th rowspan=\"4\" valign=\"top\">NVTAdj90</th>\n",
              "      <th>min</th>\n",
              "      <td>11.810125</td>\n",
              "      <td>128.643757</td>\n",
              "      <td>32.052603</td>\n",
              "      <td>55.854084</td>\n",
              "    </tr>\n",
              "    <tr>\n",
              "      <th>max</th>\n",
              "      <td>89.758464</td>\n",
              "      <td>355.931337</td>\n",
              "      <td>125.725166</td>\n",
              "      <td>189.442369</td>\n",
              "    </tr>\n",
              "    <tr>\n",
              "      <th>mean</th>\n",
              "      <td>42.440936</td>\n",
              "      <td>176.274494</td>\n",
              "      <td>71.796194</td>\n",
              "      <td>122.336008</td>\n",
              "    </tr>\n",
              "    <tr>\n",
              "      <th>std</th>\n",
              "      <td>11.464879</td>\n",
              "      <td>38.467310</td>\n",
              "      <td>15.942217</td>\n",
              "      <td>34.095489</td>\n",
              "    </tr>\n",
              "    <tr>\n",
              "      <th rowspan=\"4\" valign=\"top\">NVT_future60d</th>\n",
              "      <th>min</th>\n",
              "      <td>11.810125</td>\n",
              "      <td>14.539792</td>\n",
              "      <td>19.666403</td>\n",
              "      <td>132.630956</td>\n",
              "    </tr>\n",
              "    <tr>\n",
              "      <th>max</th>\n",
              "      <td>74.608385</td>\n",
              "      <td>150.802084</td>\n",
              "      <td>145.973796</td>\n",
              "      <td>256.362055</td>\n",
              "    </tr>\n",
              "    <tr>\n",
              "      <th>mean</th>\n",
              "      <td>42.708961</td>\n",
              "      <td>79.674620</td>\n",
              "      <td>73.866309</td>\n",
              "      <td>180.539350</td>\n",
              "    </tr>\n",
              "    <tr>\n",
              "      <th>std</th>\n",
              "      <td>10.384615</td>\n",
              "      <td>38.923609</td>\n",
              "      <td>18.361119</td>\n",
              "      <td>31.928733</td>\n",
              "    </tr>\n",
              "  </tbody>\n",
              "</table>\n",
              "</div>"
            ],
            "text/plain": [
              "labels60_NVT                0           1           2           3\n",
              "NVTAdj90      min   11.810125  128.643757   32.052603   55.854084\n",
              "              max   89.758464  355.931337  125.725166  189.442369\n",
              "              mean  42.440936  176.274494   71.796194  122.336008\n",
              "              std   11.464879   38.467310   15.942217   34.095489\n",
              "NVT_future60d min   11.810125   14.539792   19.666403  132.630956\n",
              "              max   74.608385  150.802084  145.973796  256.362055\n",
              "              mean  42.708961   79.674620   73.866309  180.539350\n",
              "              std   10.384615   38.923609   18.361119   31.928733"
            ]
          },
          "metadata": {
            "tags": []
          },
          "execution_count": 38
        }
      ]
    },
    {
      "cell_type": "code",
      "metadata": {
        "id": "QRURAMmVuxGZ",
        "colab_type": "code",
        "colab": {
          "base_uri": "https://localhost:8080/",
          "height": 609
        },
        "outputId": "14ca0203-4856-465e-ae4f-f8d6caed950a"
      },
      "source": [
        "df60_NVT.iloc[0:4].plot(kind='bar',figsize=(14, 10))\n",
        "plt.title('NVT ratio on buy-in date by Clustering Categories',fontsize=16)\n",
        "plt.xticks(rotation=360)\n",
        "plt.savefig('60NVT_full_buyin')"
      ],
      "execution_count": 39,
      "outputs": [
        {
          "output_type": "display_data",
          "data": {
            "image/png": "[encoded data removed]",
            "text/plain": [
              "<Figure size 1008x720 with 1 Axes>"
            ]
          },
          "metadata": {
            "tags": [],
            "needs_background": "light"
          }
        }
      ]
    },
    {
      "cell_type": "code",
      "metadata": {
        "id": "-USkLyJ0uxGb",
        "colab_type": "code",
        "colab": {
          "base_uri": "https://localhost:8080/",
          "height": 610
        },
        "outputId": "716039f5-9f01-4115-be2f-c4f989f0b071"
      },
      "source": [
        "df60_NVT.iloc[4:8].plot(kind='bar',figsize=(14, 10))\n",
        "plt.title('NVT ratio on sell-out date by Clustering Categories',fontsize=16)\n",
        "plt.xticks(rotation=360)\n",
        "plt.savefig('60NVT_full_sellout')"
      ],
      "execution_count": 40,
      "outputs": [
        {
          "output_type": "display_data",
          "data": {
            "image/png": "[encoded data removed]",
            "text/plain": [
              "<Figure size 1008x720 with 1 Axes>"
            ]
          },
          "metadata": {
            "tags": [],
            "needs_background": "light"
          }
        }
      ]
    },
    {
      "cell_type": "code",
      "metadata": {
        "id": "aSvgyCMHuxGe",
        "colab_type": "code",
        "colab": {
          "base_uri": "https://localhost:8080/",
          "height": 171
        },
        "outputId": "3861c158-0f77-4291-8be1-e2215b28ce03"
      },
      "source": [
        "df_60_ROI=df_60_ROI.transpose()\n",
        "df_60_ROI.columns=['labels60_NVT=0', 'labels60_NVT=1','labels60_NVT=2', 'labels60_NVT=3']\n",
        "df_60_ROI.head()"
      ],
      "execution_count": 41,
      "outputs": [
        {
          "output_type": "execute_result",
          "data": {
            "text/html": [
              "<div>\n",
              "<style scoped>\n",
              "    .dataframe tbody tr th:only-of-type {\n",
              "        vertical-align: middle;\n",
              "    }\n",
              "\n",
              "    .dataframe tbody tr th {\n",
              "        vertical-align: top;\n",
              "    }\n",
              "\n",
              "    .dataframe thead th {\n",
              "        text-align: right;\n",
              "    }\n",
              "</style>\n",
              "<table border=\"1\" class=\"dataframe\">\n",
              "  <thead>\n",
              "    <tr style=\"text-align: right;\">\n",
              "      <th></th>\n",
              "      <th>labels60_NVT=0</th>\n",
              "      <th>labels60_NVT=1</th>\n",
              "      <th>labels60_NVT=2</th>\n",
              "      <th>labels60_NVT=3</th>\n",
              "    </tr>\n",
              "  </thead>\n",
              "  <tbody>\n",
              "    <tr>\n",
              "      <th>future60d_ROI_min</th>\n",
              "      <td>-80.651775</td>\n",
              "      <td>-72.993433</td>\n",
              "      <td>-59.784966</td>\n",
              "      <td>21.771066</td>\n",
              "    </tr>\n",
              "    <tr>\n",
              "      <th>future60d_ROI_max</th>\n",
              "      <td>417.113760</td>\n",
              "      <td>759.686249</td>\n",
              "      <td>1926.199968</td>\n",
              "      <td>3854.704094</td>\n",
              "    </tr>\n",
              "    <tr>\n",
              "      <th>future60d_ROI_mean</th>\n",
              "      <td>24.601498</td>\n",
              "      <td>96.529367</td>\n",
              "      <td>63.882250</td>\n",
              "      <td>532.518894</td>\n",
              "    </tr>\n",
              "    <tr>\n",
              "      <th>future60d_ROI_std</th>\n",
              "      <td>59.815656</td>\n",
              "      <td>131.129605</td>\n",
              "      <td>219.385030</td>\n",
              "      <td>823.018929</td>\n",
              "    </tr>\n",
              "  </tbody>\n",
              "</table>\n",
              "</div>"
            ],
            "text/plain": [
              "                    labels60_NVT=0  labels60_NVT=1  labels60_NVT=2  \\\n",
              "future60d_ROI_min       -80.651775      -72.993433      -59.784966   \n",
              "future60d_ROI_max       417.113760      759.686249     1926.199968   \n",
              "future60d_ROI_mean       24.601498       96.529367       63.882250   \n",
              "future60d_ROI_std        59.815656      131.129605      219.385030   \n",
              "\n",
              "                    labels60_NVT=3  \n",
              "future60d_ROI_min        21.771066  \n",
              "future60d_ROI_max      3854.704094  \n",
              "future60d_ROI_mean      532.518894  \n",
              "future60d_ROI_std       823.018929  "
            ]
          },
          "metadata": {
            "tags": []
          },
          "execution_count": 41
        }
      ]
    },
    {
      "cell_type": "code",
      "metadata": {
        "id": "m4KZoIx_uxGg",
        "colab_type": "code",
        "colab": {
          "base_uri": "https://localhost:8080/",
          "height": 610
        },
        "outputId": "fd9a77cb-9495-4d20-9098-5b938253b2fd"
      },
      "source": [
        "df_60_ROI.plot(kind='bar',figsize=(14, 10))\n",
        "plt.title('The Statitiscs of Future 60-day ROI by NVT Ratio Clustering Categories',fontsize=16)\n",
        "plt.xticks(rotation=360)\n",
        "plt.savefig('60ROI_full_NVT')"
      ],
      "execution_count": 42,
      "outputs": [
        {
          "output_type": "display_data",
          "data": {
            "image/png": "[encoded data removed]",
            "text/plain": [
              "<Figure size 1008x720 with 1 Axes>"
            ]
          },
          "metadata": {
            "tags": [],
            "needs_background": "light"
          }
        }
      ]
    },
    {
      "cell_type": "code",
      "metadata": {
        "id": "6D5p2JgG00Xe",
        "colab_type": "code",
        "colab": {
          "base_uri": "https://localhost:8080/",
          "height": 202
        },
        "outputId": "601e43e5-ca4a-4d4e-adcf-25ba070dbd1b"
      },
      "source": [
        "model = KMeans(n_clusters=4, random_state=0)\n",
        "model.fit(df_60[['PM','PM_future60d']])\n",
        "labels60 = model.predict(df_60[['PM','PM_future60d']])\n",
        "labels60.reshape(-1,1)\n",
        "df_60['labels60']=labels60\n",
        "df_60.head()"
      ],
      "execution_count": 43,
      "outputs": [
        {
          "output_type": "execute_result",
          "data": {
            "text/html": [
              "<div>\n",
              "<style scoped>\n",
              "    .dataframe tbody tr th:only-of-type {\n",
              "        vertical-align: middle;\n",
              "    }\n",
              "\n",
              "    .dataframe tbody tr th {\n",
              "        vertical-align: top;\n",
              "    }\n",
              "\n",
              "    .dataframe thead th {\n",
              "        text-align: right;\n",
              "    }\n",
              "</style>\n",
              "<table border=\"1\" class=\"dataframe\">\n",
              "  <thead>\n",
              "    <tr style=\"text-align: right;\">\n",
              "      <th></th>\n",
              "      <th>PU Ratio</th>\n",
              "      <th>PU_future60d</th>\n",
              "      <th>NVTAdj90</th>\n",
              "      <th>NVT_future60d</th>\n",
              "      <th>future60d_ROI</th>\n",
              "      <th>PM</th>\n",
              "      <th>PM_future60d</th>\n",
              "      <th>labels60</th>\n",
              "      <th>labels60_NVT</th>\n",
              "    </tr>\n",
              "  </thead>\n",
              "  <tbody>\n",
              "    <tr>\n",
              "      <th>2010-10-15</th>\n",
              "      <td>0.463020</td>\n",
              "      <td>0.846304</td>\n",
              "      <td>154.643925</td>\n",
              "      <td>127.697990</td>\n",
              "      <td>134.942857</td>\n",
              "      <td>30.998689</td>\n",
              "      <td>20.276851</td>\n",
              "      <td>2</td>\n",
              "      <td>1</td>\n",
              "    </tr>\n",
              "    <tr>\n",
              "      <th>2010-10-16</th>\n",
              "      <td>0.418576</td>\n",
              "      <td>0.790610</td>\n",
              "      <td>144.681892</td>\n",
              "      <td>123.638562</td>\n",
              "      <td>137.623762</td>\n",
              "      <td>11.602674</td>\n",
              "      <td>20.538081</td>\n",
              "      <td>2</td>\n",
              "      <td>1</td>\n",
              "    </tr>\n",
              "    <tr>\n",
              "      <th>2010-10-17</th>\n",
              "      <td>0.434648</td>\n",
              "      <td>0.848591</td>\n",
              "      <td>147.263082</td>\n",
              "      <td>128.368660</td>\n",
              "      <td>145.058824</td>\n",
              "      <td>18.085074</td>\n",
              "      <td>27.464631</td>\n",
              "      <td>2</td>\n",
              "      <td>1</td>\n",
              "    </tr>\n",
              "    <tr>\n",
              "      <th>2010-10-18</th>\n",
              "      <td>0.432816</td>\n",
              "      <td>0.784172</td>\n",
              "      <td>145.972987</td>\n",
              "      <td>124.403714</td>\n",
              "      <td>136.968570</td>\n",
              "      <td>11.418262</td>\n",
              "      <td>38.393389</td>\n",
              "      <td>2</td>\n",
              "      <td>1</td>\n",
              "    </tr>\n",
              "    <tr>\n",
              "      <th>2010-10-19</th>\n",
              "      <td>0.391168</td>\n",
              "      <td>0.753379</td>\n",
              "      <td>137.869691</td>\n",
              "      <td>122.980495</td>\n",
              "      <td>147.065731</td>\n",
              "      <td>4.899486</td>\n",
              "      <td>31.191718</td>\n",
              "      <td>2</td>\n",
              "      <td>1</td>\n",
              "    </tr>\n",
              "  </tbody>\n",
              "</table>\n",
              "</div>"
            ],
            "text/plain": [
              "            PU Ratio  PU_future60d    NVTAdj90  NVT_future60d  future60d_ROI  \\\n",
              "2010-10-15  0.463020      0.846304  154.643925     127.697990     134.942857   \n",
              "2010-10-16  0.418576      0.790610  144.681892     123.638562     137.623762   \n",
              "2010-10-17  0.434648      0.848591  147.263082     128.368660     145.058824   \n",
              "2010-10-18  0.432816      0.784172  145.972987     124.403714     136.968570   \n",
              "2010-10-19  0.391168      0.753379  137.869691     122.980495     147.065731   \n",
              "\n",
              "                   PM  PM_future60d  labels60  labels60_NVT  \n",
              "2010-10-15  30.998689     20.276851         2             1  \n",
              "2010-10-16  11.602674     20.538081         2             1  \n",
              "2010-10-17  18.085074     27.464631         2             1  \n",
              "2010-10-18  11.418262     38.393389         2             1  \n",
              "2010-10-19   4.899486     31.191718         2             1  "
            ]
          },
          "metadata": {
            "tags": []
          },
          "execution_count": 43
        }
      ]
    },
    {
      "cell_type": "code",
      "metadata": {
        "id": "odu77Y5Q1EDo",
        "colab_type": "code",
        "colab": {
          "base_uri": "https://localhost:8080/",
          "height": 171
        },
        "outputId": "63d542ad-6765-4049-d6ee-a8702e10730b"
      },
      "source": [
        "centroids = model.cluster_centers_\n",
        "centroids_x = centroids[:,0]\n",
        "centroids_y = centroids[:,1]\n",
        "centroids=pd.DataFrame(centroids)\n",
        "centroids.columns=['centroids_x','centroids_y']\n",
        "centroids.head()"
      ],
      "execution_count": 44,
      "outputs": [
        {
          "output_type": "execute_result",
          "data": {
            "text/html": [
              "<div>\n",
              "<style scoped>\n",
              "    .dataframe tbody tr th:only-of-type {\n",
              "        vertical-align: middle;\n",
              "    }\n",
              "\n",
              "    .dataframe tbody tr th {\n",
              "        vertical-align: top;\n",
              "    }\n",
              "\n",
              "    .dataframe thead th {\n",
              "        text-align: right;\n",
              "    }\n",
              "</style>\n",
              "<table border=\"1\" class=\"dataframe\">\n",
              "  <thead>\n",
              "    <tr style=\"text-align: right;\">\n",
              "      <th></th>\n",
              "      <th>centroids_x</th>\n",
              "      <th>centroids_y</th>\n",
              "    </tr>\n",
              "  </thead>\n",
              "  <tbody>\n",
              "    <tr>\n",
              "      <th>0</th>\n",
              "      <td>1.453086</td>\n",
              "      <td>1.361496</td>\n",
              "    </tr>\n",
              "    <tr>\n",
              "      <th>1</th>\n",
              "      <td>51.015128</td>\n",
              "      <td>19.308073</td>\n",
              "    </tr>\n",
              "    <tr>\n",
              "      <th>2</th>\n",
              "      <td>19.269228</td>\n",
              "      <td>12.267941</td>\n",
              "    </tr>\n",
              "    <tr>\n",
              "      <th>3</th>\n",
              "      <td>113.940949</td>\n",
              "      <td>17.614734</td>\n",
              "    </tr>\n",
              "  </tbody>\n",
              "</table>\n",
              "</div>"
            ],
            "text/plain": [
              "   centroids_x  centroids_y\n",
              "0     1.453086     1.361496\n",
              "1    51.015128    19.308073\n",
              "2    19.269228    12.267941\n",
              "3   113.940949    17.614734"
            ]
          },
          "metadata": {
            "tags": []
          },
          "execution_count": 44
        }
      ]
    },
    {
      "cell_type": "code",
      "metadata": {
        "id": "zWCUC5QZ1HOe",
        "colab_type": "code",
        "colab": {
          "base_uri": "https://localhost:8080/",
          "height": 781
        },
        "outputId": "c5a76c7b-0c69-49d7-9757-488dfd936fd8"
      },
      "source": [
        "plt.figure(figsize=(14, 10))\n",
        "sns.lmplot('PM','PM_future60d', data=df_60, hue='labels60', fit_reg=False, legend=True,size=10)\n",
        "plt.scatter(centroids_x, centroids_y, marker='D', s=50, color='black')\n",
        "plt.savefig('PM60_full')"
      ],
      "execution_count": 45,
      "outputs": [
        {
          "output_type": "stream",
          "text": [
            "/usr/local/lib/python3.6/dist-packages/seaborn/regression.py:573: UserWarning: The `size` parameter has been renamed to `height`; please update your code.\n",
            "  warnings.warn(msg, UserWarning)\n"
          ],
          "name": "stderr"
        },
        {
          "output_type": "display_data",
          "data": {
            "text/plain": [
              "<Figure size 1008x720 with 0 Axes>"
            ]
          },
          "metadata": {
            "tags": []
          }
        },
        {
          "output_type": "display_data",
          "data": {
            "image/png": "[encoded data removed]",
            "text/plain": [
              "<Figure size 770.125x720 with 1 Axes>"
            ]
          },
          "metadata": {
            "tags": [],
            "needs_background": "light"
          }
        }
      ]
    },
    {
      "cell_type": "code",
      "metadata": {
        "id": "0WXtoSG21JLe",
        "colab_type": "code",
        "colab": {
          "base_uri": "https://localhost:8080/",
          "height": 171
        },
        "outputId": "2531c258-4ecd-4ff2-b971-53435f776e00"
      },
      "source": [
        "df_60_ROI=df_60[['future60d_ROI','labels60']].groupby('labels60', as_index=False).agg(['min', 'max','mean','std'])\n",
        "df_60_ROI.columns = [\"_\".join(x) for x in df_60_ROI.columns.ravel()]\n",
        "df_60_ROI.index.name=None\n",
        "df_60_ROI.head()"
      ],
      "execution_count": 46,
      "outputs": [
        {
          "output_type": "execute_result",
          "data": {
            "text/html": [
              "<div>\n",
              "<style scoped>\n",
              "    .dataframe tbody tr th:only-of-type {\n",
              "        vertical-align: middle;\n",
              "    }\n",
              "\n",
              "    .dataframe tbody tr th {\n",
              "        vertical-align: top;\n",
              "    }\n",
              "\n",
              "    .dataframe thead th {\n",
              "        text-align: right;\n",
              "    }\n",
              "</style>\n",
              "<table border=\"1\" class=\"dataframe\">\n",
              "  <thead>\n",
              "    <tr style=\"text-align: right;\">\n",
              "      <th></th>\n",
              "      <th>future60d_ROI_min</th>\n",
              "      <th>future60d_ROI_max</th>\n",
              "      <th>future60d_ROI_mean</th>\n",
              "      <th>future60d_ROI_std</th>\n",
              "    </tr>\n",
              "  </thead>\n",
              "  <tbody>\n",
              "    <tr>\n",
              "      <th>0</th>\n",
              "      <td>-80.651775</td>\n",
              "      <td>3854.704094</td>\n",
              "      <td>49.696183</td>\n",
              "      <td>204.902414</td>\n",
              "    </tr>\n",
              "    <tr>\n",
              "      <th>1</th>\n",
              "      <td>-20.036981</td>\n",
              "      <td>350.000000</td>\n",
              "      <td>83.370389</td>\n",
              "      <td>109.451946</td>\n",
              "    </tr>\n",
              "    <tr>\n",
              "      <th>2</th>\n",
              "      <td>-27.842464</td>\n",
              "      <td>810.483046</td>\n",
              "      <td>181.336388</td>\n",
              "      <td>139.915602</td>\n",
              "    </tr>\n",
              "    <tr>\n",
              "      <th>3</th>\n",
              "      <td>-25.453991</td>\n",
              "      <td>54.798762</td>\n",
              "      <td>17.038612</td>\n",
              "      <td>40.335136</td>\n",
              "    </tr>\n",
              "  </tbody>\n",
              "</table>\n",
              "</div>"
            ],
            "text/plain": [
              "   future60d_ROI_min  future60d_ROI_max  future60d_ROI_mean  future60d_ROI_std\n",
              "0         -80.651775        3854.704094           49.696183         204.902414\n",
              "1         -20.036981         350.000000           83.370389         109.451946\n",
              "2         -27.842464         810.483046          181.336388         139.915602\n",
              "3         -25.453991          54.798762           17.038612          40.335136"
            ]
          },
          "metadata": {
            "tags": []
          },
          "execution_count": 46
        }
      ]
    },
    {
      "cell_type": "code",
      "metadata": {
        "id": "mN1oo-4V1Mf-",
        "colab_type": "code",
        "colab": {
          "base_uri": "https://localhost:8080/",
          "height": 294
        },
        "outputId": "face4252-1722-44c1-f20d-02fedee4306f"
      },
      "source": [
        "df60_PM=df_60[['PM','PM_future60d','labels60']].groupby('labels60').agg(['min', 'max','mean','std'])\n",
        "df60_PM=df60_PM.transpose()\n",
        "df60_PM"
      ],
      "execution_count": 47,
      "outputs": [
        {
          "output_type": "execute_result",
          "data": {
            "text/html": [
              "<div>\n",
              "<style scoped>\n",
              "    .dataframe tbody tr th:only-of-type {\n",
              "        vertical-align: middle;\n",
              "    }\n",
              "\n",
              "    .dataframe tbody tr th {\n",
              "        vertical-align: top;\n",
              "    }\n",
              "\n",
              "    .dataframe thead th {\n",
              "        text-align: right;\n",
              "    }\n",
              "</style>\n",
              "<table border=\"1\" class=\"dataframe\">\n",
              "  <thead>\n",
              "    <tr style=\"text-align: right;\">\n",
              "      <th></th>\n",
              "      <th>labels60</th>\n",
              "      <th>0</th>\n",
              "      <th>1</th>\n",
              "      <th>2</th>\n",
              "      <th>3</th>\n",
              "    </tr>\n",
              "  </thead>\n",
              "  <tbody>\n",
              "    <tr>\n",
              "      <th rowspan=\"4\" valign=\"top\">PM</th>\n",
              "      <th>min</th>\n",
              "      <td>0.081659</td>\n",
              "      <td>29.285917</td>\n",
              "      <td>4.899486</td>\n",
              "      <td>97.428060</td>\n",
              "    </tr>\n",
              "    <tr>\n",
              "      <th>max</th>\n",
              "      <td>11.943117</td>\n",
              "      <td>80.100067</td>\n",
              "      <td>35.803533</td>\n",
              "      <td>128.418139</td>\n",
              "    </tr>\n",
              "    <tr>\n",
              "      <th>mean</th>\n",
              "      <td>1.453086</td>\n",
              "      <td>51.015128</td>\n",
              "      <td>19.269228</td>\n",
              "      <td>113.940949</td>\n",
              "    </tr>\n",
              "    <tr>\n",
              "      <th>std</th>\n",
              "      <td>1.413668</td>\n",
              "      <td>12.128364</td>\n",
              "      <td>7.296822</td>\n",
              "      <td>15.595009</td>\n",
              "    </tr>\n",
              "    <tr>\n",
              "      <th rowspan=\"4\" valign=\"top\">PM_future60d</th>\n",
              "      <th>min</th>\n",
              "      <td>0.081659</td>\n",
              "      <td>3.010047</td>\n",
              "      <td>2.681570</td>\n",
              "      <td>13.338470</td>\n",
              "    </tr>\n",
              "    <tr>\n",
              "      <th>max</th>\n",
              "      <td>19.008926</td>\n",
              "      <td>49.639999</td>\n",
              "      <td>46.100227</td>\n",
              "      <td>26.154253</td>\n",
              "    </tr>\n",
              "    <tr>\n",
              "      <th>mean</th>\n",
              "      <td>1.361496</td>\n",
              "      <td>19.308073</td>\n",
              "      <td>12.267941</td>\n",
              "      <td>17.614734</td>\n",
              "    </tr>\n",
              "    <tr>\n",
              "      <th>std</th>\n",
              "      <td>1.216260</td>\n",
              "      <td>12.225254</td>\n",
              "      <td>9.048408</td>\n",
              "      <td>7.395443</td>\n",
              "    </tr>\n",
              "  </tbody>\n",
              "</table>\n",
              "</div>"
            ],
            "text/plain": [
              "labels60                   0          1          2           3\n",
              "PM           min    0.081659  29.285917   4.899486   97.428060\n",
              "             max   11.943117  80.100067  35.803533  128.418139\n",
              "             mean   1.453086  51.015128  19.269228  113.940949\n",
              "             std    1.413668  12.128364   7.296822   15.595009\n",
              "PM_future60d min    0.081659   3.010047   2.681570   13.338470\n",
              "             max   19.008926  49.639999  46.100227   26.154253\n",
              "             mean   1.361496  19.308073  12.267941   17.614734\n",
              "             std    1.216260  12.225254   9.048408    7.395443"
            ]
          },
          "metadata": {
            "tags": []
          },
          "execution_count": 47
        }
      ]
    },
    {
      "cell_type": "code",
      "metadata": {
        "id": "YcZJBkfW1l41",
        "colab_type": "code",
        "colab": {
          "base_uri": "https://localhost:8080/",
          "height": 609
        },
        "outputId": "e95f32ca-82ff-489d-9df0-b72935c81104"
      },
      "source": [
        "df60_PM.iloc[0:4].plot(kind='bar',figsize=(14, 10))\n",
        "plt.title('PM ratio on buy-in date by Clustering Categories',fontsize=16)\n",
        "plt.xticks(rotation=360)\n",
        "plt.savefig('60PM_full_buyin')"
      ],
      "execution_count": 49,
      "outputs": [
        {
          "output_type": "display_data",
          "data": {
            "image/png": "[encoded data removed]",
            "text/plain": [
              "<Figure size 1008x720 with 1 Axes>"
            ]
          },
          "metadata": {
            "tags": [],
            "needs_background": "light"
          }
        }
      ]
    },
    {
      "cell_type": "code",
      "metadata": {
        "id": "a2I3qvU32ucA",
        "colab_type": "code",
        "colab": {
          "base_uri": "https://localhost:8080/",
          "height": 610
        },
        "outputId": "ded048bc-0743-4b02-bd8b-ab39297ac900"
      },
      "source": [
        "df60_PM.iloc[4:8].plot(kind='bar',figsize=(14, 10))\n",
        "plt.title('PM ratio on sell-out date by Clustering Categories',fontsize=16)\n",
        "plt.xticks(rotation=360)\n",
        "plt.savefig('60PM_full_sell-out')"
      ],
      "execution_count": 50,
      "outputs": [
        {
          "output_type": "display_data",
          "data": {
            "image/png": "[encoded data removed]",
            "text/plain": [
              "<Figure size 1008x720 with 1 Axes>"
            ]
          },
          "metadata": {
            "tags": [],
            "needs_background": "light"
          }
        }
      ]
    },
    {
      "cell_type": "code",
      "metadata": {
        "id": "qoHKVGP71Oan",
        "colab_type": "code",
        "colab": {
          "base_uri": "https://localhost:8080/",
          "height": 171
        },
        "outputId": "bf31e710-ab34-412f-8673-095b4b7cc67a"
      },
      "source": [
        "df_60_ROI=df_60_ROI.transpose()\n",
        "df_60_ROI.columns=['labels60=0', 'labels60=1','labels60=2', 'labels60=3']\n",
        "df_60_ROI.head()"
      ],
      "execution_count": 51,
      "outputs": [
        {
          "output_type": "execute_result",
          "data": {
            "text/html": [
              "<div>\n",
              "<style scoped>\n",
              "    .dataframe tbody tr th:only-of-type {\n",
              "        vertical-align: middle;\n",
              "    }\n",
              "\n",
              "    .dataframe tbody tr th {\n",
              "        vertical-align: top;\n",
              "    }\n",
              "\n",
              "    .dataframe thead th {\n",
              "        text-align: right;\n",
              "    }\n",
              "</style>\n",
              "<table border=\"1\" class=\"dataframe\">\n",
              "  <thead>\n",
              "    <tr style=\"text-align: right;\">\n",
              "      <th></th>\n",
              "      <th>labels60=0</th>\n",
              "      <th>labels60=1</th>\n",
              "      <th>labels60=2</th>\n",
              "      <th>labels60=3</th>\n",
              "    </tr>\n",
              "  </thead>\n",
              "  <tbody>\n",
              "    <tr>\n",
              "      <th>future60d_ROI_min</th>\n",
              "      <td>-80.651775</td>\n",
              "      <td>-20.036981</td>\n",
              "      <td>-27.842464</td>\n",
              "      <td>-25.453991</td>\n",
              "    </tr>\n",
              "    <tr>\n",
              "      <th>future60d_ROI_max</th>\n",
              "      <td>3854.704094</td>\n",
              "      <td>350.000000</td>\n",
              "      <td>810.483046</td>\n",
              "      <td>54.798762</td>\n",
              "    </tr>\n",
              "    <tr>\n",
              "      <th>future60d_ROI_mean</th>\n",
              "      <td>49.696183</td>\n",
              "      <td>83.370389</td>\n",
              "      <td>181.336388</td>\n",
              "      <td>17.038612</td>\n",
              "    </tr>\n",
              "    <tr>\n",
              "      <th>future60d_ROI_std</th>\n",
              "      <td>204.902414</td>\n",
              "      <td>109.451946</td>\n",
              "      <td>139.915602</td>\n",
              "      <td>40.335136</td>\n",
              "    </tr>\n",
              "  </tbody>\n",
              "</table>\n",
              "</div>"
            ],
            "text/plain": [
              "                     labels60=0  labels60=1  labels60=2  labels60=3\n",
              "future60d_ROI_min    -80.651775  -20.036981  -27.842464  -25.453991\n",
              "future60d_ROI_max   3854.704094  350.000000  810.483046   54.798762\n",
              "future60d_ROI_mean    49.696183   83.370389  181.336388   17.038612\n",
              "future60d_ROI_std    204.902414  109.451946  139.915602   40.335136"
            ]
          },
          "metadata": {
            "tags": []
          },
          "execution_count": 51
        }
      ]
    },
    {
      "cell_type": "code",
      "metadata": {
        "id": "dbBLspgg1QWN",
        "colab_type": "code",
        "colab": {
          "base_uri": "https://localhost:8080/",
          "height": 610
        },
        "outputId": "7dd94812-908d-404b-9ead-85e110955c10"
      },
      "source": [
        "df_60_ROI.plot(kind='bar',figsize=(14, 10))\n",
        "plt.title('The Statitiscs of Future 60-day ROI by PM Ratio Clustering Categories',fontsize=16)\n",
        "plt.xticks(rotation=360)\n",
        "plt.savefig('60ROI_fullPM')"
      ],
      "execution_count": 52,
      "outputs": [
        {
          "output_type": "display_data",
          "data": {
            "image/png": "[encoded data removed]",
            "text/plain": [
              "<Figure size 1008x720 with 1 Axes>"
            ]
          },
          "metadata": {
            "tags": [],
            "needs_background": "light"
          }
        }
      ]
    },
    {
      "cell_type": "code",
      "metadata": {
        "id": "P0I3Iv0f1UVg",
        "colab_type": "code",
        "colab": {}
      },
      "source": [
        "df.to_csv('btc_Kmeans_robust60_2020_07_06.csv')"
      ],
      "execution_count": 53,
      "outputs": []
    },
    {
      "cell_type": "code",
      "metadata": {
        "id": "g82sXT4Y3KL1",
        "colab_type": "code",
        "colab": {}
      },
      "source": [
        ""
      ],
      "execution_count": null,
      "outputs": []
    }
  ]
}