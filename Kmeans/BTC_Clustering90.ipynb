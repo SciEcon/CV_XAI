{
  "nbformat": 4,
  "nbformat_minor": 0,
  "metadata": {
    "kernelspec": {
      "display_name": "Python 3",
      "language": "python",
      "name": "python3"
    },
    "language_info": {
      "codemirror_mode": {
        "name": "ipython",
        "version": 3
      },
      "file_extension": ".py",
      "mimetype": "text/x-python",
      "name": "python",
      "nbconvert_exporter": "python",
      "pygments_lexer": "ipython3",
      "version": "3.7.6"
    },
    "colab": {
      "name": "BTC_Clustering90.ipynb",
      "provenance": [],
      "include_colab_link": true
    }
  },
  "cells": [
    {
      "cell_type": "markdown",
      "metadata": {
        "id": "view-in-github",
        "colab_type": "text"
      },
      "source": [
        "<a href=\"https://colab.research.google.com/github/sunshineluyao/CV_ML/blob/master/Kmeans/BTC_Clustering90.ipynb\" target=\"_parent\"><img src=\"https://colab.research.google.com/assets/colab-badge.svg\" alt=\"Open In Colab\"/></a>"
      ]
    },
    {
      "cell_type": "code",
      "metadata": {
        "id": "GYamN5ujuxFN",
        "colab_type": "code",
        "colab": {}
      },
      "source": [
        "import pandas as pd \n",
        "import numpy as np"
      ],
      "execution_count": 45,
      "outputs": []
    },
    {
      "cell_type": "code",
      "metadata": {
        "id": "jGAIghvcuxFS",
        "colab_type": "code",
        "colab": {}
      },
      "source": [
        "###show all columns\n",
        "pd.set_option('display.max_columns', None)\n",
        "pd.set_option('display.max_rows', None)"
      ],
      "execution_count": 46,
      "outputs": []
    },
    {
      "cell_type": "code",
      "metadata": {
        "scrolled": true,
        "id": "tBM2AGEduxFU",
        "colab_type": "code",
        "colab": {
          "base_uri": "https://localhost:8080/",
          "height": 395
        },
        "outputId": "65da842d-8db3-452d-ae2f-19c0c11433cd"
      },
      "source": [
        "df=pd.read_csv('https://raw.githubusercontent.com/sunshineluyao/Fintech_AI/master/data/BTC_2020_07_05.csv')\n",
        "df.head()"
      ],
      "execution_count": 47,
      "outputs": [
        {
          "output_type": "execute_result",
          "data": {
            "text/html": [
              "<div>\n",
              "<style scoped>\n",
              "    .dataframe tbody tr th:only-of-type {\n",
              "        vertical-align: middle;\n",
              "    }\n",
              "\n",
              "    .dataframe tbody tr th {\n",
              "        vertical-align: top;\n",
              "    }\n",
              "\n",
              "    .dataframe thead th {\n",
              "        text-align: right;\n",
              "    }\n",
              "</style>\n",
              "<table border=\"1\" class=\"dataframe\">\n",
              "  <thead>\n",
              "    <tr style=\"text-align: right;\">\n",
              "      <th></th>\n",
              "      <th>Unnamed: 0</th>\n",
              "      <th>BlkCnt</th>\n",
              "      <th>IssTotNtv</th>\n",
              "      <th>SplyCur</th>\n",
              "      <th>TxTfrValAdjUSD</th>\n",
              "      <th>CapMrktCurUSD</th>\n",
              "      <th>NVTAdj90</th>\n",
              "      <th>PriceUSD</th>\n",
              "      <th>FeeTotUSD</th>\n",
              "      <th>IssTotUSD</th>\n",
              "      <th>AdrActCnt</th>\n",
              "      <th>Volume</th>\n",
              "      <th>Type</th>\n",
              "      <th>Annualized_DilutionRate</th>\n",
              "      <th>Total daily transaction volume</th>\n",
              "      <th>Velocity</th>\n",
              "      <th>The daily revenue of bitcoin miners</th>\n",
              "      <th>The accumulated revenue of bitcoin miners</th>\n",
              "      <th>P/E Ratio</th>\n",
              "      <th>Metcalfe</th>\n",
              "      <th>PM</th>\n",
              "      <th>&lt;1year</th>\n",
              "      <th>1-2year</th>\n",
              "      <th>2-3year</th>\n",
              "      <th>3-5year</th>\n",
              "      <th>&gt;5year</th>\n",
              "      <th>One-year staking ratio</th>\n",
              "      <th>Two-year staking ratio</th>\n",
              "      <th>Three-year staking ratio</th>\n",
              "      <th>Five-year staking ratio</th>\n",
              "      <th>Token Utility</th>\n",
              "      <th>PU Ratio</th>\n",
              "      <th>volatility30</th>\n",
              "      <th>volatility60</th>\n",
              "      <th>volatility90</th>\n",
              "      <th>volatility180</th>\n",
              "      <th>Token Utility_volatility</th>\n",
              "      <th>PU Ratio_volatility</th>\n",
              "    </tr>\n",
              "  </thead>\n",
              "  <tbody>\n",
              "    <tr>\n",
              "      <th>0</th>\n",
              "      <td>2009-01-03</td>\n",
              "      <td>0.0</td>\n",
              "      <td>NaN</td>\n",
              "      <td>0.0</td>\n",
              "      <td>NaN</td>\n",
              "      <td>NaN</td>\n",
              "      <td>NaN</td>\n",
              "      <td>NaN</td>\n",
              "      <td>NaN</td>\n",
              "      <td>NaN</td>\n",
              "      <td>0.0</td>\n",
              "      <td>NaN</td>\n",
              "      <td>NaN</td>\n",
              "      <td>NaN</td>\n",
              "      <td>NaN</td>\n",
              "      <td>NaN</td>\n",
              "      <td>NaN</td>\n",
              "      <td>NaN</td>\n",
              "      <td>NaN</td>\n",
              "      <td>0.0</td>\n",
              "      <td>NaN</td>\n",
              "      <td>NaN</td>\n",
              "      <td>NaN</td>\n",
              "      <td>NaN</td>\n",
              "      <td>NaN</td>\n",
              "      <td>NaN</td>\n",
              "      <td>NaN</td>\n",
              "      <td>NaN</td>\n",
              "      <td>NaN</td>\n",
              "      <td>NaN</td>\n",
              "      <td>NaN</td>\n",
              "      <td>NaN</td>\n",
              "      <td>NaN</td>\n",
              "      <td>NaN</td>\n",
              "      <td>NaN</td>\n",
              "      <td>NaN</td>\n",
              "      <td>NaN</td>\n",
              "      <td>NaN</td>\n",
              "    </tr>\n",
              "    <tr>\n",
              "      <th>1</th>\n",
              "      <td>2009-01-04</td>\n",
              "      <td>0.0</td>\n",
              "      <td>NaN</td>\n",
              "      <td>0.0</td>\n",
              "      <td>NaN</td>\n",
              "      <td>NaN</td>\n",
              "      <td>NaN</td>\n",
              "      <td>NaN</td>\n",
              "      <td>NaN</td>\n",
              "      <td>NaN</td>\n",
              "      <td>0.0</td>\n",
              "      <td>NaN</td>\n",
              "      <td>NaN</td>\n",
              "      <td>NaN</td>\n",
              "      <td>NaN</td>\n",
              "      <td>NaN</td>\n",
              "      <td>NaN</td>\n",
              "      <td>NaN</td>\n",
              "      <td>NaN</td>\n",
              "      <td>0.0</td>\n",
              "      <td>NaN</td>\n",
              "      <td>NaN</td>\n",
              "      <td>NaN</td>\n",
              "      <td>NaN</td>\n",
              "      <td>NaN</td>\n",
              "      <td>NaN</td>\n",
              "      <td>NaN</td>\n",
              "      <td>NaN</td>\n",
              "      <td>NaN</td>\n",
              "      <td>NaN</td>\n",
              "      <td>NaN</td>\n",
              "      <td>NaN</td>\n",
              "      <td>NaN</td>\n",
              "      <td>NaN</td>\n",
              "      <td>NaN</td>\n",
              "      <td>NaN</td>\n",
              "      <td>NaN</td>\n",
              "      <td>NaN</td>\n",
              "    </tr>\n",
              "    <tr>\n",
              "      <th>2</th>\n",
              "      <td>2009-01-05</td>\n",
              "      <td>0.0</td>\n",
              "      <td>NaN</td>\n",
              "      <td>0.0</td>\n",
              "      <td>NaN</td>\n",
              "      <td>NaN</td>\n",
              "      <td>NaN</td>\n",
              "      <td>NaN</td>\n",
              "      <td>NaN</td>\n",
              "      <td>NaN</td>\n",
              "      <td>0.0</td>\n",
              "      <td>NaN</td>\n",
              "      <td>NaN</td>\n",
              "      <td>NaN</td>\n",
              "      <td>NaN</td>\n",
              "      <td>NaN</td>\n",
              "      <td>NaN</td>\n",
              "      <td>NaN</td>\n",
              "      <td>NaN</td>\n",
              "      <td>0.0</td>\n",
              "      <td>NaN</td>\n",
              "      <td>NaN</td>\n",
              "      <td>NaN</td>\n",
              "      <td>NaN</td>\n",
              "      <td>NaN</td>\n",
              "      <td>NaN</td>\n",
              "      <td>NaN</td>\n",
              "      <td>NaN</td>\n",
              "      <td>NaN</td>\n",
              "      <td>NaN</td>\n",
              "      <td>NaN</td>\n",
              "      <td>NaN</td>\n",
              "      <td>NaN</td>\n",
              "      <td>NaN</td>\n",
              "      <td>NaN</td>\n",
              "      <td>NaN</td>\n",
              "      <td>NaN</td>\n",
              "      <td>NaN</td>\n",
              "    </tr>\n",
              "    <tr>\n",
              "      <th>3</th>\n",
              "      <td>2009-01-06</td>\n",
              "      <td>0.0</td>\n",
              "      <td>NaN</td>\n",
              "      <td>0.0</td>\n",
              "      <td>NaN</td>\n",
              "      <td>NaN</td>\n",
              "      <td>NaN</td>\n",
              "      <td>NaN</td>\n",
              "      <td>NaN</td>\n",
              "      <td>NaN</td>\n",
              "      <td>0.0</td>\n",
              "      <td>NaN</td>\n",
              "      <td>NaN</td>\n",
              "      <td>NaN</td>\n",
              "      <td>NaN</td>\n",
              "      <td>NaN</td>\n",
              "      <td>NaN</td>\n",
              "      <td>NaN</td>\n",
              "      <td>NaN</td>\n",
              "      <td>0.0</td>\n",
              "      <td>NaN</td>\n",
              "      <td>NaN</td>\n",
              "      <td>NaN</td>\n",
              "      <td>NaN</td>\n",
              "      <td>NaN</td>\n",
              "      <td>NaN</td>\n",
              "      <td>NaN</td>\n",
              "      <td>NaN</td>\n",
              "      <td>NaN</td>\n",
              "      <td>NaN</td>\n",
              "      <td>NaN</td>\n",
              "      <td>NaN</td>\n",
              "      <td>NaN</td>\n",
              "      <td>NaN</td>\n",
              "      <td>NaN</td>\n",
              "      <td>NaN</td>\n",
              "      <td>NaN</td>\n",
              "      <td>NaN</td>\n",
              "    </tr>\n",
              "    <tr>\n",
              "      <th>4</th>\n",
              "      <td>2009-01-07</td>\n",
              "      <td>0.0</td>\n",
              "      <td>NaN</td>\n",
              "      <td>0.0</td>\n",
              "      <td>NaN</td>\n",
              "      <td>NaN</td>\n",
              "      <td>NaN</td>\n",
              "      <td>NaN</td>\n",
              "      <td>NaN</td>\n",
              "      <td>NaN</td>\n",
              "      <td>0.0</td>\n",
              "      <td>NaN</td>\n",
              "      <td>NaN</td>\n",
              "      <td>NaN</td>\n",
              "      <td>NaN</td>\n",
              "      <td>NaN</td>\n",
              "      <td>NaN</td>\n",
              "      <td>NaN</td>\n",
              "      <td>NaN</td>\n",
              "      <td>0.0</td>\n",
              "      <td>NaN</td>\n",
              "      <td>NaN</td>\n",
              "      <td>NaN</td>\n",
              "      <td>NaN</td>\n",
              "      <td>NaN</td>\n",
              "      <td>NaN</td>\n",
              "      <td>NaN</td>\n",
              "      <td>NaN</td>\n",
              "      <td>NaN</td>\n",
              "      <td>NaN</td>\n",
              "      <td>NaN</td>\n",
              "      <td>NaN</td>\n",
              "      <td>NaN</td>\n",
              "      <td>NaN</td>\n",
              "      <td>NaN</td>\n",
              "      <td>NaN</td>\n",
              "      <td>NaN</td>\n",
              "      <td>NaN</td>\n",
              "    </tr>\n",
              "  </tbody>\n",
              "</table>\n",
              "</div>"
            ],
            "text/plain": [
              "   Unnamed: 0  BlkCnt  IssTotNtv  SplyCur  TxTfrValAdjUSD  CapMrktCurUSD  \\\n",
              "0  2009-01-03     0.0        NaN      0.0             NaN            NaN   \n",
              "1  2009-01-04     0.0        NaN      0.0             NaN            NaN   \n",
              "2  2009-01-05     0.0        NaN      0.0             NaN            NaN   \n",
              "3  2009-01-06     0.0        NaN      0.0             NaN            NaN   \n",
              "4  2009-01-07     0.0        NaN      0.0             NaN            NaN   \n",
              "\n",
              "   NVTAdj90  PriceUSD  FeeTotUSD  IssTotUSD  AdrActCnt  Volume Type  \\\n",
              "0       NaN       NaN        NaN        NaN        0.0     NaN  NaN   \n",
              "1       NaN       NaN        NaN        NaN        0.0     NaN  NaN   \n",
              "2       NaN       NaN        NaN        NaN        0.0     NaN  NaN   \n",
              "3       NaN       NaN        NaN        NaN        0.0     NaN  NaN   \n",
              "4       NaN       NaN        NaN        NaN        0.0     NaN  NaN   \n",
              "\n",
              "   Annualized_DilutionRate  Total daily transaction volume  Velocity  \\\n",
              "0                      NaN                             NaN       NaN   \n",
              "1                      NaN                             NaN       NaN   \n",
              "2                      NaN                             NaN       NaN   \n",
              "3                      NaN                             NaN       NaN   \n",
              "4                      NaN                             NaN       NaN   \n",
              "\n",
              "   The daily revenue of bitcoin miners  \\\n",
              "0                                  NaN   \n",
              "1                                  NaN   \n",
              "2                                  NaN   \n",
              "3                                  NaN   \n",
              "4                                  NaN   \n",
              "\n",
              "   The accumulated revenue of bitcoin miners  P/E Ratio  Metcalfe  PM  <1year  \\\n",
              "0                                        NaN        NaN       0.0 NaN     NaN   \n",
              "1                                        NaN        NaN       0.0 NaN     NaN   \n",
              "2                                        NaN        NaN       0.0 NaN     NaN   \n",
              "3                                        NaN        NaN       0.0 NaN     NaN   \n",
              "4                                        NaN        NaN       0.0 NaN     NaN   \n",
              "\n",
              "   1-2year  2-3year  3-5year  >5year  One-year staking ratio  \\\n",
              "0      NaN      NaN      NaN     NaN                     NaN   \n",
              "1      NaN      NaN      NaN     NaN                     NaN   \n",
              "2      NaN      NaN      NaN     NaN                     NaN   \n",
              "3      NaN      NaN      NaN     NaN                     NaN   \n",
              "4      NaN      NaN      NaN     NaN                     NaN   \n",
              "\n",
              "   Two-year staking ratio  Three-year staking ratio  Five-year staking ratio  \\\n",
              "0                     NaN                       NaN                      NaN   \n",
              "1                     NaN                       NaN                      NaN   \n",
              "2                     NaN                       NaN                      NaN   \n",
              "3                     NaN                       NaN                      NaN   \n",
              "4                     NaN                       NaN                      NaN   \n",
              "\n",
              "   Token Utility  PU Ratio  volatility30  volatility60  volatility90  \\\n",
              "0            NaN       NaN           NaN           NaN           NaN   \n",
              "1            NaN       NaN           NaN           NaN           NaN   \n",
              "2            NaN       NaN           NaN           NaN           NaN   \n",
              "3            NaN       NaN           NaN           NaN           NaN   \n",
              "4            NaN       NaN           NaN           NaN           NaN   \n",
              "\n",
              "   volatility180  Token Utility_volatility  PU Ratio_volatility  \n",
              "0            NaN                       NaN                  NaN  \n",
              "1            NaN                       NaN                  NaN  \n",
              "2            NaN                       NaN                  NaN  \n",
              "3            NaN                       NaN                  NaN  \n",
              "4            NaN                       NaN                  NaN  "
            ]
          },
          "metadata": {
            "tags": []
          },
          "execution_count": 47
        }
      ]
    },
    {
      "cell_type": "code",
      "metadata": {
        "scrolled": true,
        "id": "l1mTzP4huxFX",
        "colab_type": "code",
        "colab": {
          "base_uri": "https://localhost:8080/",
          "height": 378
        },
        "outputId": "7c19dad2-f0aa-4e1c-c42d-71d0df54cf40"
      },
      "source": [
        "#set \"date\" column as the index\n",
        "df.set_index('Unnamed: 0', inplace=True)\n",
        "#to remove the name of the index\n",
        "df.index.name=None\n",
        "df.tail()"
      ],
      "execution_count": 48,
      "outputs": [
        {
          "output_type": "execute_result",
          "data": {
            "text/html": [
              "<div>\n",
              "<style scoped>\n",
              "    .dataframe tbody tr th:only-of-type {\n",
              "        vertical-align: middle;\n",
              "    }\n",
              "\n",
              "    .dataframe tbody tr th {\n",
              "        vertical-align: top;\n",
              "    }\n",
              "\n",
              "    .dataframe thead th {\n",
              "        text-align: right;\n",
              "    }\n",
              "</style>\n",
              "<table border=\"1\" class=\"dataframe\">\n",
              "  <thead>\n",
              "    <tr style=\"text-align: right;\">\n",
              "      <th></th>\n",
              "      <th>BlkCnt</th>\n",
              "      <th>IssTotNtv</th>\n",
              "      <th>SplyCur</th>\n",
              "      <th>TxTfrValAdjUSD</th>\n",
              "      <th>CapMrktCurUSD</th>\n",
              "      <th>NVTAdj90</th>\n",
              "      <th>PriceUSD</th>\n",
              "      <th>FeeTotUSD</th>\n",
              "      <th>IssTotUSD</th>\n",
              "      <th>AdrActCnt</th>\n",
              "      <th>Volume</th>\n",
              "      <th>Type</th>\n",
              "      <th>Annualized_DilutionRate</th>\n",
              "      <th>Total daily transaction volume</th>\n",
              "      <th>Velocity</th>\n",
              "      <th>The daily revenue of bitcoin miners</th>\n",
              "      <th>The accumulated revenue of bitcoin miners</th>\n",
              "      <th>P/E Ratio</th>\n",
              "      <th>Metcalfe</th>\n",
              "      <th>PM</th>\n",
              "      <th>&lt;1year</th>\n",
              "      <th>1-2year</th>\n",
              "      <th>2-3year</th>\n",
              "      <th>3-5year</th>\n",
              "      <th>&gt;5year</th>\n",
              "      <th>One-year staking ratio</th>\n",
              "      <th>Two-year staking ratio</th>\n",
              "      <th>Three-year staking ratio</th>\n",
              "      <th>Five-year staking ratio</th>\n",
              "      <th>Token Utility</th>\n",
              "      <th>PU Ratio</th>\n",
              "      <th>volatility30</th>\n",
              "      <th>volatility60</th>\n",
              "      <th>volatility90</th>\n",
              "      <th>volatility180</th>\n",
              "      <th>Token Utility_volatility</th>\n",
              "      <th>PU Ratio_volatility</th>\n",
              "    </tr>\n",
              "  </thead>\n",
              "  <tbody>\n",
              "    <tr>\n",
              "      <th>2020-06-28</th>\n",
              "      <td>150.0</td>\n",
              "      <td>937.50</td>\n",
              "      <td>1.841734e+07</td>\n",
              "      <td>1.044929e+09</td>\n",
              "      <td>1.677464e+11</td>\n",
              "      <td>84.965505</td>\n",
              "      <td>9108.065675</td>\n",
              "      <td>178764.564868</td>\n",
              "      <td>8.538812e+06</td>\n",
              "      <td>686270.0</td>\n",
              "      <td>1.456087e+10</td>\n",
              "      <td>BTC</td>\n",
              "      <td>1.883975</td>\n",
              "      <td>1.560580e+10</td>\n",
              "      <td>21.670843</td>\n",
              "      <td>8.717576e+06</td>\n",
              "      <td>1.854689e+10</td>\n",
              "      <td>52.718677</td>\n",
              "      <td>4.709665e+11</td>\n",
              "      <td>1.933909</td>\n",
              "      <td>NaN</td>\n",
              "      <td>NaN</td>\n",
              "      <td>NaN</td>\n",
              "      <td>NaN</td>\n",
              "      <td>NaN</td>\n",
              "      <td>NaN</td>\n",
              "      <td>NaN</td>\n",
              "      <td>NaN</td>\n",
              "      <td>NaN</td>\n",
              "      <td>NaN</td>\n",
              "      <td>NaN</td>\n",
              "      <td>0.027537</td>\n",
              "      <td>0.031297</td>\n",
              "      <td>0.033409</td>\n",
              "      <td>0.033409</td>\n",
              "      <td>NaN</td>\n",
              "      <td>NaN</td>\n",
              "    </tr>\n",
              "    <tr>\n",
              "      <th>2020-06-29</th>\n",
              "      <td>145.0</td>\n",
              "      <td>906.25</td>\n",
              "      <td>1.841825e+07</td>\n",
              "      <td>1.825444e+09</td>\n",
              "      <td>1.691578e+11</td>\n",
              "      <td>85.628193</td>\n",
              "      <td>9184.247366</td>\n",
              "      <td>308429.074080</td>\n",
              "      <td>8.323224e+06</td>\n",
              "      <td>962232.0</td>\n",
              "      <td>1.646055e+10</td>\n",
              "      <td>BTC</td>\n",
              "      <td>1.879341</td>\n",
              "      <td>1.828599e+10</td>\n",
              "      <td>21.383505</td>\n",
              "      <td>8.631653e+06</td>\n",
              "      <td>1.855552e+10</td>\n",
              "      <td>53.691440</td>\n",
              "      <td>9.258904e+11</td>\n",
              "      <td>0.991937</td>\n",
              "      <td>NaN</td>\n",
              "      <td>NaN</td>\n",
              "      <td>NaN</td>\n",
              "      <td>NaN</td>\n",
              "      <td>NaN</td>\n",
              "      <td>NaN</td>\n",
              "      <td>NaN</td>\n",
              "      <td>NaN</td>\n",
              "      <td>NaN</td>\n",
              "      <td>NaN</td>\n",
              "      <td>NaN</td>\n",
              "      <td>0.027077</td>\n",
              "      <td>0.031259</td>\n",
              "      <td>0.033407</td>\n",
              "      <td>0.033407</td>\n",
              "      <td>NaN</td>\n",
              "      <td>NaN</td>\n",
              "    </tr>\n",
              "    <tr>\n",
              "      <th>2020-06-30</th>\n",
              "      <td>147.0</td>\n",
              "      <td>918.75</td>\n",
              "      <td>1.841917e+07</td>\n",
              "      <td>2.063592e+09</td>\n",
              "      <td>1.684243e+11</td>\n",
              "      <td>84.979256</td>\n",
              "      <td>9143.967585</td>\n",
              "      <td>407570.997824</td>\n",
              "      <td>8.401020e+06</td>\n",
              "      <td>926238.0</td>\n",
              "      <td>1.573580e+10</td>\n",
              "      <td>BTC</td>\n",
              "      <td>1.878009</td>\n",
              "      <td>1.779939e+10</td>\n",
              "      <td>21.318103</td>\n",
              "      <td>8.808591e+06</td>\n",
              "      <td>1.856433e+10</td>\n",
              "      <td>52.384807</td>\n",
              "      <td>8.579168e+11</td>\n",
              "      <td>1.065834</td>\n",
              "      <td>NaN</td>\n",
              "      <td>NaN</td>\n",
              "      <td>NaN</td>\n",
              "      <td>NaN</td>\n",
              "      <td>NaN</td>\n",
              "      <td>NaN</td>\n",
              "      <td>NaN</td>\n",
              "      <td>NaN</td>\n",
              "      <td>NaN</td>\n",
              "      <td>NaN</td>\n",
              "      <td>NaN</td>\n",
              "      <td>0.026666</td>\n",
              "      <td>0.031133</td>\n",
              "      <td>0.033284</td>\n",
              "      <td>0.033284</td>\n",
              "      <td>NaN</td>\n",
              "      <td>NaN</td>\n",
              "    </tr>\n",
              "    <tr>\n",
              "      <th>2020-07-01</th>\n",
              "      <td>162.0</td>\n",
              "      <td>1012.50</td>\n",
              "      <td>1.842018e+07</td>\n",
              "      <td>2.197590e+09</td>\n",
              "      <td>1.702271e+11</td>\n",
              "      <td>85.716151</td>\n",
              "      <td>9241.339612</td>\n",
              "      <td>573024.429645</td>\n",
              "      <td>9.356856e+06</td>\n",
              "      <td>1078007.0</td>\n",
              "      <td>1.597155e+10</td>\n",
              "      <td>BTC</td>\n",
              "      <td>1.889464</td>\n",
              "      <td>1.816914e+10</td>\n",
              "      <td>20.887828</td>\n",
              "      <td>9.929881e+06</td>\n",
              "      <td>1.857426e+10</td>\n",
              "      <td>46.966900</td>\n",
              "      <td>1.162099e+12</td>\n",
              "      <td>0.795228</td>\n",
              "      <td>NaN</td>\n",
              "      <td>NaN</td>\n",
              "      <td>NaN</td>\n",
              "      <td>NaN</td>\n",
              "      <td>NaN</td>\n",
              "      <td>NaN</td>\n",
              "      <td>NaN</td>\n",
              "      <td>NaN</td>\n",
              "      <td>NaN</td>\n",
              "      <td>NaN</td>\n",
              "      <td>NaN</td>\n",
              "      <td>0.021887</td>\n",
              "      <td>0.031114</td>\n",
              "      <td>0.033233</td>\n",
              "      <td>0.033233</td>\n",
              "      <td>NaN</td>\n",
              "      <td>NaN</td>\n",
              "    </tr>\n",
              "    <tr>\n",
              "      <th>2020-07-02</th>\n",
              "      <td>NaN</td>\n",
              "      <td>NaN</td>\n",
              "      <td>NaN</td>\n",
              "      <td>NaN</td>\n",
              "      <td>NaN</td>\n",
              "      <td>NaN</td>\n",
              "      <td>NaN</td>\n",
              "      <td>NaN</td>\n",
              "      <td>NaN</td>\n",
              "      <td>NaN</td>\n",
              "      <td>1.633892e+10</td>\n",
              "      <td>BTC</td>\n",
              "      <td>NaN</td>\n",
              "      <td>NaN</td>\n",
              "      <td>NaN</td>\n",
              "      <td>NaN</td>\n",
              "      <td>NaN</td>\n",
              "      <td>NaN</td>\n",
              "      <td>NaN</td>\n",
              "      <td>NaN</td>\n",
              "      <td>NaN</td>\n",
              "      <td>NaN</td>\n",
              "      <td>NaN</td>\n",
              "      <td>NaN</td>\n",
              "      <td>NaN</td>\n",
              "      <td>NaN</td>\n",
              "      <td>NaN</td>\n",
              "      <td>NaN</td>\n",
              "      <td>NaN</td>\n",
              "      <td>NaN</td>\n",
              "      <td>NaN</td>\n",
              "      <td>0.018210</td>\n",
              "      <td>0.031087</td>\n",
              "      <td>0.033219</td>\n",
              "      <td>0.033219</td>\n",
              "      <td>NaN</td>\n",
              "      <td>NaN</td>\n",
              "    </tr>\n",
              "  </tbody>\n",
              "</table>\n",
              "</div>"
            ],
            "text/plain": [
              "            BlkCnt  IssTotNtv       SplyCur  TxTfrValAdjUSD  CapMrktCurUSD  \\\n",
              "2020-06-28   150.0     937.50  1.841734e+07    1.044929e+09   1.677464e+11   \n",
              "2020-06-29   145.0     906.25  1.841825e+07    1.825444e+09   1.691578e+11   \n",
              "2020-06-30   147.0     918.75  1.841917e+07    2.063592e+09   1.684243e+11   \n",
              "2020-07-01   162.0    1012.50  1.842018e+07    2.197590e+09   1.702271e+11   \n",
              "2020-07-02     NaN        NaN           NaN             NaN            NaN   \n",
              "\n",
              "             NVTAdj90     PriceUSD      FeeTotUSD     IssTotUSD  AdrActCnt  \\\n",
              "2020-06-28  84.965505  9108.065675  178764.564868  8.538812e+06   686270.0   \n",
              "2020-06-29  85.628193  9184.247366  308429.074080  8.323224e+06   962232.0   \n",
              "2020-06-30  84.979256  9143.967585  407570.997824  8.401020e+06   926238.0   \n",
              "2020-07-01  85.716151  9241.339612  573024.429645  9.356856e+06  1078007.0   \n",
              "2020-07-02        NaN          NaN            NaN           NaN        NaN   \n",
              "\n",
              "                  Volume Type  Annualized_DilutionRate  \\\n",
              "2020-06-28  1.456087e+10  BTC                 1.883975   \n",
              "2020-06-29  1.646055e+10  BTC                 1.879341   \n",
              "2020-06-30  1.573580e+10  BTC                 1.878009   \n",
              "2020-07-01  1.597155e+10  BTC                 1.889464   \n",
              "2020-07-02  1.633892e+10  BTC                      NaN   \n",
              "\n",
              "            Total daily transaction volume   Velocity  \\\n",
              "2020-06-28                    1.560580e+10  21.670843   \n",
              "2020-06-29                    1.828599e+10  21.383505   \n",
              "2020-06-30                    1.779939e+10  21.318103   \n",
              "2020-07-01                    1.816914e+10  20.887828   \n",
              "2020-07-02                             NaN        NaN   \n",
              "\n",
              "            The daily revenue of bitcoin miners  \\\n",
              "2020-06-28                         8.717576e+06   \n",
              "2020-06-29                         8.631653e+06   \n",
              "2020-06-30                         8.808591e+06   \n",
              "2020-07-01                         9.929881e+06   \n",
              "2020-07-02                                  NaN   \n",
              "\n",
              "            The accumulated revenue of bitcoin miners  P/E Ratio  \\\n",
              "2020-06-28                               1.854689e+10  52.718677   \n",
              "2020-06-29                               1.855552e+10  53.691440   \n",
              "2020-06-30                               1.856433e+10  52.384807   \n",
              "2020-07-01                               1.857426e+10  46.966900   \n",
              "2020-07-02                                        NaN        NaN   \n",
              "\n",
              "                Metcalfe        PM  <1year  1-2year  2-3year  3-5year  >5year  \\\n",
              "2020-06-28  4.709665e+11  1.933909     NaN      NaN      NaN      NaN     NaN   \n",
              "2020-06-29  9.258904e+11  0.991937     NaN      NaN      NaN      NaN     NaN   \n",
              "2020-06-30  8.579168e+11  1.065834     NaN      NaN      NaN      NaN     NaN   \n",
              "2020-07-01  1.162099e+12  0.795228     NaN      NaN      NaN      NaN     NaN   \n",
              "2020-07-02           NaN       NaN     NaN      NaN      NaN      NaN     NaN   \n",
              "\n",
              "            One-year staking ratio  Two-year staking ratio  \\\n",
              "2020-06-28                     NaN                     NaN   \n",
              "2020-06-29                     NaN                     NaN   \n",
              "2020-06-30                     NaN                     NaN   \n",
              "2020-07-01                     NaN                     NaN   \n",
              "2020-07-02                     NaN                     NaN   \n",
              "\n",
              "            Three-year staking ratio  Five-year staking ratio  Token Utility  \\\n",
              "2020-06-28                       NaN                      NaN            NaN   \n",
              "2020-06-29                       NaN                      NaN            NaN   \n",
              "2020-06-30                       NaN                      NaN            NaN   \n",
              "2020-07-01                       NaN                      NaN            NaN   \n",
              "2020-07-02                       NaN                      NaN            NaN   \n",
              "\n",
              "            PU Ratio  volatility30  volatility60  volatility90  volatility180  \\\n",
              "2020-06-28       NaN      0.027537      0.031297      0.033409       0.033409   \n",
              "2020-06-29       NaN      0.027077      0.031259      0.033407       0.033407   \n",
              "2020-06-30       NaN      0.026666      0.031133      0.033284       0.033284   \n",
              "2020-07-01       NaN      0.021887      0.031114      0.033233       0.033233   \n",
              "2020-07-02       NaN      0.018210      0.031087      0.033219       0.033219   \n",
              "\n",
              "            Token Utility_volatility  PU Ratio_volatility  \n",
              "2020-06-28                       NaN                  NaN  \n",
              "2020-06-29                       NaN                  NaN  \n",
              "2020-06-30                       NaN                  NaN  \n",
              "2020-07-01                       NaN                  NaN  \n",
              "2020-07-02                       NaN                  NaN  "
            ]
          },
          "metadata": {
            "tags": []
          },
          "execution_count": 48
        }
      ]
    },
    {
      "cell_type": "code",
      "metadata": {
        "id": "PNFiKsu0uxFa",
        "colab_type": "code",
        "colab": {
          "base_uri": "https://localhost:8080/",
          "height": 55
        },
        "outputId": "5680180b-a4f6-4ad6-8c89-d99365010939"
      },
      "source": [
        "import matplotlib.pyplot as plt\n",
        "print(plt.style.available)\n",
        "####Check different styles here: https://matplotlib.org/3.1.1/gallery/style_sheets/style_sheets_reference.html\n",
        "plt.style.use('seaborn-bright')"
      ],
      "execution_count": 49,
      "outputs": [
        {
          "output_type": "stream",
          "text": [
            "['Solarize_Light2', '_classic_test_patch', 'bmh', 'classic', 'dark_background', 'fast', 'fivethirtyeight', 'ggplot', 'grayscale', 'seaborn', 'seaborn-bright', 'seaborn-colorblind', 'seaborn-dark', 'seaborn-dark-palette', 'seaborn-darkgrid', 'seaborn-deep', 'seaborn-muted', 'seaborn-notebook', 'seaborn-paper', 'seaborn-pastel', 'seaborn-poster', 'seaborn-talk', 'seaborn-ticks', 'seaborn-white', 'seaborn-whitegrid', 'tableau-colorblind10']\n"
          ],
          "name": "stdout"
        }
      ]
    },
    {
      "cell_type": "code",
      "metadata": {
        "id": "Kwy78N5GuxFe",
        "colab_type": "code",
        "colab": {}
      },
      "source": [
        "df['PU_future90d']=df['PU Ratio'].shift(-90)\n",
        "df['NVTAdj90_future90d']=df['NVTAdj90'].shift(-90)\n",
        "df['PM_future90d']=df['PM'].shift(-90)\n"
      ],
      "execution_count": 50,
      "outputs": []
    },
    {
      "cell_type": "code",
      "metadata": {
        "id": "vsxGoSjyzOgr",
        "colab_type": "code",
        "colab": {}
      },
      "source": [
        "df['PriceChange30d']=100*df['PriceUSD'].pct_change(periods=30)\n",
        "df['PriceChange60d']=100*df['PriceUSD'].pct_change(periods=60)\n",
        "df['PriceChange90d']=100*df['PriceUSD'].pct_change(periods=90)\n",
        "df['PriceChange180d']=100*df['PriceUSD'].pct_change(periods=180)"
      ],
      "execution_count": 51,
      "outputs": []
    },
    {
      "cell_type": "code",
      "metadata": {
        "id": "-JC7Ib06zkC9",
        "colab_type": "code",
        "colab": {}
      },
      "source": [
        "######Calculate the future return in 30, 60, 90 days\n",
        "df['future30d_ROI']=df['PriceChange30d'].shift(-30)\n",
        "df['future60d_ROI']=df['PriceChange60d'].shift(-60)\n",
        "df['future90d_ROI']=df['PriceChange90d'].shift(-90)\n",
        "df['future180d_ROI']=df['PriceChange180d'].shift(-180)"
      ],
      "execution_count": 52,
      "outputs": []
    },
    {
      "cell_type": "code",
      "metadata": {
        "id": "_EyKxv_9uxFh",
        "colab_type": "code",
        "colab": {}
      },
      "source": [
        "df_90=df[['PU Ratio','PU_future90d','NVTAdj90','NVTAdj90_future90d','future90d_ROI','PM','PM_future90d']]"
      ],
      "execution_count": 53,
      "outputs": []
    },
    {
      "cell_type": "code",
      "metadata": {
        "id": "1sc0BjihuxFl",
        "colab_type": "code",
        "colab": {}
      },
      "source": [
        "df_90=df_90.dropna()"
      ],
      "execution_count": 54,
      "outputs": []
    },
    {
      "cell_type": "code",
      "metadata": {
        "id": "qZ3aS5PkuxFn",
        "colab_type": "code",
        "colab": {
          "base_uri": "https://localhost:8080/",
          "height": 202
        },
        "outputId": "8dd93e86-6942-4530-ed82-9fa37892a841"
      },
      "source": [
        "df_90.head()"
      ],
      "execution_count": 55,
      "outputs": [
        {
          "output_type": "execute_result",
          "data": {
            "text/html": [
              "<div>\n",
              "<style scoped>\n",
              "    .dataframe tbody tr th:only-of-type {\n",
              "        vertical-align: middle;\n",
              "    }\n",
              "\n",
              "    .dataframe tbody tr th {\n",
              "        vertical-align: top;\n",
              "    }\n",
              "\n",
              "    .dataframe thead th {\n",
              "        text-align: right;\n",
              "    }\n",
              "</style>\n",
              "<table border=\"1\" class=\"dataframe\">\n",
              "  <thead>\n",
              "    <tr style=\"text-align: right;\">\n",
              "      <th></th>\n",
              "      <th>PU Ratio</th>\n",
              "      <th>PU_future90d</th>\n",
              "      <th>NVTAdj90</th>\n",
              "      <th>NVTAdj90_future90d</th>\n",
              "      <th>future90d_ROI</th>\n",
              "      <th>PM</th>\n",
              "      <th>PM_future90d</th>\n",
              "    </tr>\n",
              "  </thead>\n",
              "  <tbody>\n",
              "    <tr>\n",
              "      <th>2010-10-15</th>\n",
              "      <td>0.463020</td>\n",
              "      <td>0.973481</td>\n",
              "      <td>154.643925</td>\n",
              "      <td>147.755297</td>\n",
              "      <td>202.476190</td>\n",
              "      <td>30.998689</td>\n",
              "      <td>10.989619</td>\n",
              "    </tr>\n",
              "    <tr>\n",
              "      <th>2010-10-16</th>\n",
              "      <td>0.418576</td>\n",
              "      <td>1.519027</td>\n",
              "      <td>144.681892</td>\n",
              "      <td>184.130860</td>\n",
              "      <td>296.029709</td>\n",
              "      <td>11.602674</td>\n",
              "      <td>15.203635</td>\n",
              "    </tr>\n",
              "    <tr>\n",
              "      <th>2010-10-17</th>\n",
              "      <td>0.434648</td>\n",
              "      <td>1.393589</td>\n",
              "      <td>147.263082</td>\n",
              "      <td>175.883298</td>\n",
              "      <td>278.431373</td>\n",
              "      <td>18.085074</td>\n",
              "      <td>19.008926</td>\n",
              "    </tr>\n",
              "    <tr>\n",
              "      <th>2010-10-18</th>\n",
              "      <td>0.432816</td>\n",
              "      <td>1.387447</td>\n",
              "      <td>145.972987</td>\n",
              "      <td>174.852775</td>\n",
              "      <td>277.724609</td>\n",
              "      <td>11.418262</td>\n",
              "      <td>17.167769</td>\n",
              "    </tr>\n",
              "    <tr>\n",
              "      <th>2010-10-19</th>\n",
              "      <td>0.391168</td>\n",
              "      <td>1.125454</td>\n",
              "      <td>137.869691</td>\n",
              "      <td>156.588954</td>\n",
              "      <td>258.296568</td>\n",
              "      <td>4.899486</td>\n",
              "      <td>19.007623</td>\n",
              "    </tr>\n",
              "  </tbody>\n",
              "</table>\n",
              "</div>"
            ],
            "text/plain": [
              "            PU Ratio  PU_future90d    NVTAdj90  NVTAdj90_future90d  \\\n",
              "2010-10-15  0.463020      0.973481  154.643925          147.755297   \n",
              "2010-10-16  0.418576      1.519027  144.681892          184.130860   \n",
              "2010-10-17  0.434648      1.393589  147.263082          175.883298   \n",
              "2010-10-18  0.432816      1.387447  145.972987          174.852775   \n",
              "2010-10-19  0.391168      1.125454  137.869691          156.588954   \n",
              "\n",
              "            future90d_ROI         PM  PM_future90d  \n",
              "2010-10-15     202.476190  30.998689     10.989619  \n",
              "2010-10-16     296.029709  11.602674     15.203635  \n",
              "2010-10-17     278.431373  18.085074     19.008926  \n",
              "2010-10-18     277.724609  11.418262     17.167769  \n",
              "2010-10-19     258.296568   4.899486     19.007623  "
            ]
          },
          "metadata": {
            "tags": []
          },
          "execution_count": 55
        }
      ]
    },
    {
      "cell_type": "code",
      "metadata": {
        "id": "fOhIlRdezxVY",
        "colab_type": "code",
        "colab": {
          "base_uri": "https://localhost:8080/",
          "height": 202
        },
        "outputId": "723a5daf-46ef-4f0d-86e3-b4e3d20d166d"
      },
      "source": [
        "df_90.tail()"
      ],
      "execution_count": 56,
      "outputs": [
        {
          "output_type": "execute_result",
          "data": {
            "text/html": [
              "<div>\n",
              "<style scoped>\n",
              "    .dataframe tbody tr th:only-of-type {\n",
              "        vertical-align: middle;\n",
              "    }\n",
              "\n",
              "    .dataframe tbody tr th {\n",
              "        vertical-align: top;\n",
              "    }\n",
              "\n",
              "    .dataframe thead th {\n",
              "        text-align: right;\n",
              "    }\n",
              "</style>\n",
              "<table border=\"1\" class=\"dataframe\">\n",
              "  <thead>\n",
              "    <tr style=\"text-align: right;\">\n",
              "      <th></th>\n",
              "      <th>PU Ratio</th>\n",
              "      <th>PU_future90d</th>\n",
              "      <th>NVTAdj90</th>\n",
              "      <th>NVTAdj90_future90d</th>\n",
              "      <th>future90d_ROI</th>\n",
              "      <th>PM</th>\n",
              "      <th>PM_future90d</th>\n",
              "    </tr>\n",
              "  </thead>\n",
              "  <tbody>\n",
              "    <tr>\n",
              "      <th>2019-12-24</th>\n",
              "      <td>26.601372</td>\n",
              "      <td>12.172811</td>\n",
              "      <td>73.695387</td>\n",
              "      <td>61.315945</td>\n",
              "      <td>-10.354600</td>\n",
              "      <td>1.715028</td>\n",
              "      <td>1.455861</td>\n",
              "    </tr>\n",
              "    <tr>\n",
              "      <th>2019-12-25</th>\n",
              "      <td>26.287368</td>\n",
              "      <td>13.134281</td>\n",
              "      <td>73.705925</td>\n",
              "      <td>63.573657</td>\n",
              "      <td>-5.786490</td>\n",
              "      <td>2.493285</td>\n",
              "      <td>1.249921</td>\n",
              "    </tr>\n",
              "    <tr>\n",
              "      <th>2019-12-26</th>\n",
              "      <td>26.536360</td>\n",
              "      <td>12.582958</td>\n",
              "      <td>73.984332</td>\n",
              "      <td>62.632848</td>\n",
              "      <td>-7.014538</td>\n",
              "      <td>1.687247</td>\n",
              "      <td>1.938508</td>\n",
              "    </tr>\n",
              "    <tr>\n",
              "      <th>2019-12-27</th>\n",
              "      <td>26.771950</td>\n",
              "      <td>12.841833</td>\n",
              "      <td>74.306351</td>\n",
              "      <td>63.264534</td>\n",
              "      <td>-6.669616</td>\n",
              "      <td>1.388866</td>\n",
              "      <td>0.853296</td>\n",
              "    </tr>\n",
              "    <tr>\n",
              "      <th>2019-12-28</th>\n",
              "      <td>27.081428</td>\n",
              "      <td>11.868722</td>\n",
              "      <td>75.023235</td>\n",
              "      <td>60.623003</td>\n",
              "      <td>-11.165837</td>\n",
              "      <td>1.955882</td>\n",
              "      <td>0.995063</td>\n",
              "    </tr>\n",
              "  </tbody>\n",
              "</table>\n",
              "</div>"
            ],
            "text/plain": [
              "             PU Ratio  PU_future90d   NVTAdj90  NVTAdj90_future90d  \\\n",
              "2019-12-24  26.601372     12.172811  73.695387           61.315945   \n",
              "2019-12-25  26.287368     13.134281  73.705925           63.573657   \n",
              "2019-12-26  26.536360     12.582958  73.984332           62.632848   \n",
              "2019-12-27  26.771950     12.841833  74.306351           63.264534   \n",
              "2019-12-28  27.081428     11.868722  75.023235           60.623003   \n",
              "\n",
              "            future90d_ROI        PM  PM_future90d  \n",
              "2019-12-24     -10.354600  1.715028      1.455861  \n",
              "2019-12-25      -5.786490  2.493285      1.249921  \n",
              "2019-12-26      -7.014538  1.687247      1.938508  \n",
              "2019-12-27      -6.669616  1.388866      0.853296  \n",
              "2019-12-28     -11.165837  1.955882      0.995063  "
            ]
          },
          "metadata": {
            "tags": []
          },
          "execution_count": 56
        }
      ]
    },
    {
      "cell_type": "code",
      "metadata": {
        "id": "FkctcCkpuxFp",
        "colab_type": "code",
        "colab": {}
      },
      "source": [
        "from sklearn.cluster import KMeans"
      ],
      "execution_count": 57,
      "outputs": []
    },
    {
      "cell_type": "code",
      "metadata": {
        "id": "5peEFZ9duxFs",
        "colab_type": "code",
        "colab": {
          "base_uri": "https://localhost:8080/",
          "height": 202
        },
        "outputId": "f59f0a2f-4ed6-49d4-c9c9-f6ad85f76acc"
      },
      "source": [
        "### We cluster the data by PU today and after n days\n",
        "model = KMeans(n_clusters=4, random_state=0)\n",
        "model.fit(df_90[['PU Ratio','PU_future90d']])\n",
        "labels90 = model.predict(df_90[['PU Ratio','PU_future90d']])\n",
        "labels90.reshape(-1,1)\n",
        "df_90['labels90']=labels90\n",
        "df_90.head()"
      ],
      "execution_count": 58,
      "outputs": [
        {
          "output_type": "execute_result",
          "data": {
            "text/html": [
              "<div>\n",
              "<style scoped>\n",
              "    .dataframe tbody tr th:only-of-type {\n",
              "        vertical-align: middle;\n",
              "    }\n",
              "\n",
              "    .dataframe tbody tr th {\n",
              "        vertical-align: top;\n",
              "    }\n",
              "\n",
              "    .dataframe thead th {\n",
              "        text-align: right;\n",
              "    }\n",
              "</style>\n",
              "<table border=\"1\" class=\"dataframe\">\n",
              "  <thead>\n",
              "    <tr style=\"text-align: right;\">\n",
              "      <th></th>\n",
              "      <th>PU Ratio</th>\n",
              "      <th>PU_future90d</th>\n",
              "      <th>NVTAdj90</th>\n",
              "      <th>NVTAdj90_future90d</th>\n",
              "      <th>future90d_ROI</th>\n",
              "      <th>PM</th>\n",
              "      <th>PM_future90d</th>\n",
              "      <th>labels90</th>\n",
              "    </tr>\n",
              "  </thead>\n",
              "  <tbody>\n",
              "    <tr>\n",
              "      <th>2010-10-15</th>\n",
              "      <td>0.463020</td>\n",
              "      <td>0.973481</td>\n",
              "      <td>154.643925</td>\n",
              "      <td>147.755297</td>\n",
              "      <td>202.476190</td>\n",
              "      <td>30.998689</td>\n",
              "      <td>10.989619</td>\n",
              "      <td>0</td>\n",
              "    </tr>\n",
              "    <tr>\n",
              "      <th>2010-10-16</th>\n",
              "      <td>0.418576</td>\n",
              "      <td>1.519027</td>\n",
              "      <td>144.681892</td>\n",
              "      <td>184.130860</td>\n",
              "      <td>296.029709</td>\n",
              "      <td>11.602674</td>\n",
              "      <td>15.203635</td>\n",
              "      <td>0</td>\n",
              "    </tr>\n",
              "    <tr>\n",
              "      <th>2010-10-17</th>\n",
              "      <td>0.434648</td>\n",
              "      <td>1.393589</td>\n",
              "      <td>147.263082</td>\n",
              "      <td>175.883298</td>\n",
              "      <td>278.431373</td>\n",
              "      <td>18.085074</td>\n",
              "      <td>19.008926</td>\n",
              "      <td>0</td>\n",
              "    </tr>\n",
              "    <tr>\n",
              "      <th>2010-10-18</th>\n",
              "      <td>0.432816</td>\n",
              "      <td>1.387447</td>\n",
              "      <td>145.972987</td>\n",
              "      <td>174.852775</td>\n",
              "      <td>277.724609</td>\n",
              "      <td>11.418262</td>\n",
              "      <td>17.167769</td>\n",
              "      <td>0</td>\n",
              "    </tr>\n",
              "    <tr>\n",
              "      <th>2010-10-19</th>\n",
              "      <td>0.391168</td>\n",
              "      <td>1.125454</td>\n",
              "      <td>137.869691</td>\n",
              "      <td>156.588954</td>\n",
              "      <td>258.296568</td>\n",
              "      <td>4.899486</td>\n",
              "      <td>19.007623</td>\n",
              "      <td>0</td>\n",
              "    </tr>\n",
              "  </tbody>\n",
              "</table>\n",
              "</div>"
            ],
            "text/plain": [
              "            PU Ratio  PU_future90d    NVTAdj90  NVTAdj90_future90d  \\\n",
              "2010-10-15  0.463020      0.973481  154.643925          147.755297   \n",
              "2010-10-16  0.418576      1.519027  144.681892          184.130860   \n",
              "2010-10-17  0.434648      1.393589  147.263082          175.883298   \n",
              "2010-10-18  0.432816      1.387447  145.972987          174.852775   \n",
              "2010-10-19  0.391168      1.125454  137.869691          156.588954   \n",
              "\n",
              "            future90d_ROI         PM  PM_future90d  labels90  \n",
              "2010-10-15     202.476190  30.998689     10.989619         0  \n",
              "2010-10-16     296.029709  11.602674     15.203635         0  \n",
              "2010-10-17     278.431373  18.085074     19.008926         0  \n",
              "2010-10-18     277.724609  11.418262     17.167769         0  \n",
              "2010-10-19     258.296568   4.899486     19.007623         0  "
            ]
          },
          "metadata": {
            "tags": []
          },
          "execution_count": 58
        }
      ]
    },
    {
      "cell_type": "code",
      "metadata": {
        "id": "OrQYbc1juxFw",
        "colab_type": "code",
        "colab": {
          "base_uri": "https://localhost:8080/",
          "height": 171
        },
        "outputId": "f990cf96-b8f5-4166-8b44-ae9c839a986c"
      },
      "source": [
        "centroids = model.cluster_centers_\n",
        "centroids_x = centroids[:,0]\n",
        "centroids_y = centroids[:,1]\n",
        "centroids=pd.DataFrame(centroids)\n",
        "centroids.columns=['centroids_x','centroids_y']\n",
        "centroids.head()"
      ],
      "execution_count": 59,
      "outputs": [
        {
          "output_type": "execute_result",
          "data": {
            "text/html": [
              "<div>\n",
              "<style scoped>\n",
              "    .dataframe tbody tr th:only-of-type {\n",
              "        vertical-align: middle;\n",
              "    }\n",
              "\n",
              "    .dataframe tbody tr th {\n",
              "        vertical-align: top;\n",
              "    }\n",
              "\n",
              "    .dataframe thead th {\n",
              "        text-align: right;\n",
              "    }\n",
              "</style>\n",
              "<table border=\"1\" class=\"dataframe\">\n",
              "  <thead>\n",
              "    <tr style=\"text-align: right;\">\n",
              "      <th></th>\n",
              "      <th>centroids_x</th>\n",
              "      <th>centroids_y</th>\n",
              "    </tr>\n",
              "  </thead>\n",
              "  <tbody>\n",
              "    <tr>\n",
              "      <th>0</th>\n",
              "      <td>17.580834</td>\n",
              "      <td>18.912288</td>\n",
              "    </tr>\n",
              "    <tr>\n",
              "      <th>1</th>\n",
              "      <td>439.204960</td>\n",
              "      <td>84.063374</td>\n",
              "    </tr>\n",
              "    <tr>\n",
              "      <th>2</th>\n",
              "      <td>61.436455</td>\n",
              "      <td>439.204960</td>\n",
              "    </tr>\n",
              "    <tr>\n",
              "      <th>3</th>\n",
              "      <td>96.127006</td>\n",
              "      <td>93.787794</td>\n",
              "    </tr>\n",
              "  </tbody>\n",
              "</table>\n",
              "</div>"
            ],
            "text/plain": [
              "   centroids_x  centroids_y\n",
              "0    17.580834    18.912288\n",
              "1   439.204960    84.063374\n",
              "2    61.436455   439.204960\n",
              "3    96.127006    93.787794"
            ]
          },
          "metadata": {
            "tags": []
          },
          "execution_count": 59
        }
      ]
    },
    {
      "cell_type": "code",
      "metadata": {
        "id": "vyHlhUEZuxFy",
        "colab_type": "code",
        "colab": {}
      },
      "source": [
        "%matplotlib inline\n",
        "import seaborn as sns"
      ],
      "execution_count": 60,
      "outputs": []
    },
    {
      "cell_type": "code",
      "metadata": {
        "id": "baH4bQHeuxF0",
        "colab_type": "code",
        "colab": {
          "base_uri": "https://localhost:8080/",
          "height": 801
        },
        "outputId": "2221b8aa-4117-4221-8470-889006a66652"
      },
      "source": [
        "plt.figure(figsize=(14, 10))\n",
        "sns.lmplot('PU Ratio', 'PU_future90d', data=df_90, hue='labels90', fit_reg=False, legend=True,size=10)\n",
        "plt.scatter(centroids_x, centroids_y, marker='D', s=50, color='black')\n",
        "plt.savefig('PU90_full')"
      ],
      "execution_count": 61,
      "outputs": [
        {
          "output_type": "stream",
          "text": [
            "/usr/local/lib/python3.6/dist-packages/seaborn/regression.py:573: UserWarning: The `size` parameter has been renamed to `height`; please update your code.\n",
            "  warnings.warn(msg, UserWarning)\n"
          ],
          "name": "stderr"
        },
        {
          "output_type": "display_data",
          "data": {
            "text/plain": [
              "<Figure size 1008x720 with 0 Axes>"
            ]
          },
          "metadata": {
            "tags": []
          }
        },
        {
          "output_type": "display_data",
          "data": {
            "image/png": "[encoded data removed]",
            "text/plain": [
              "<Figure size 770.125x720 with 1 Axes>"
            ]
          },
          "metadata": {
            "tags": [],
            "needs_background": "light"
          }
        }
      ]
    },
    {
      "cell_type": "code",
      "metadata": {
        "id": "TSkUR5nVuxF3",
        "colab_type": "code",
        "colab": {
          "base_uri": "https://localhost:8080/",
          "height": 171
        },
        "outputId": "e7daa1b9-00e7-4fe9-fc8a-d684d47dbb04"
      },
      "source": [
        "df_90_ROI=df_90[['future90d_ROI','labels90']].groupby('labels90', as_index=False).agg(['min', 'max','mean','std'])\n",
        "df_90_ROI.columns = [\"_\".join(x) for x in df_90_ROI.columns.ravel()]\n",
        "df_90_ROI.index.name=None\n",
        "df_90_ROI.head()"
      ],
      "execution_count": 62,
      "outputs": [
        {
          "output_type": "execute_result",
          "data": {
            "text/html": [
              "<div>\n",
              "<style scoped>\n",
              "    .dataframe tbody tr th:only-of-type {\n",
              "        vertical-align: middle;\n",
              "    }\n",
              "\n",
              "    .dataframe tbody tr th {\n",
              "        vertical-align: top;\n",
              "    }\n",
              "\n",
              "    .dataframe thead th {\n",
              "        text-align: right;\n",
              "    }\n",
              "</style>\n",
              "<table border=\"1\" class=\"dataframe\">\n",
              "  <thead>\n",
              "    <tr style=\"text-align: right;\">\n",
              "      <th></th>\n",
              "      <th>future90d_ROI_min</th>\n",
              "      <th>future90d_ROI_max</th>\n",
              "      <th>future90d_ROI_mean</th>\n",
              "      <th>future90d_ROI_std</th>\n",
              "    </tr>\n",
              "  </thead>\n",
              "  <tbody>\n",
              "    <tr>\n",
              "      <th>0</th>\n",
              "      <td>-83.710800</td>\n",
              "      <td>2602.078891</td>\n",
              "      <td>99.624817</td>\n",
              "      <td>284.165805</td>\n",
              "    </tr>\n",
              "    <tr>\n",
              "      <th>1</th>\n",
              "      <td>-61.350263</td>\n",
              "      <td>8.715075</td>\n",
              "      <td>-37.297839</td>\n",
              "      <td>19.283813</td>\n",
              "    </tr>\n",
              "    <tr>\n",
              "      <th>2</th>\n",
              "      <td>103.261022</td>\n",
              "      <td>827.458889</td>\n",
              "      <td>370.157469</td>\n",
              "      <td>210.292135</td>\n",
              "    </tr>\n",
              "    <tr>\n",
              "      <th>3</th>\n",
              "      <td>-76.415609</td>\n",
              "      <td>3171.652729</td>\n",
              "      <td>45.239593</td>\n",
              "      <td>199.141516</td>\n",
              "    </tr>\n",
              "  </tbody>\n",
              "</table>\n",
              "</div>"
            ],
            "text/plain": [
              "   future90d_ROI_min  future90d_ROI_max  future90d_ROI_mean  future90d_ROI_std\n",
              "0         -83.710800        2602.078891           99.624817         284.165805\n",
              "1         -61.350263           8.715075          -37.297839          19.283813\n",
              "2         103.261022         827.458889          370.157469         210.292135\n",
              "3         -76.415609        3171.652729           45.239593         199.141516"
            ]
          },
          "metadata": {
            "tags": []
          },
          "execution_count": 62
        }
      ]
    },
    {
      "cell_type": "code",
      "metadata": {
        "id": "2jiFPU6ouxF5",
        "colab_type": "code",
        "colab": {
          "base_uri": "https://localhost:8080/",
          "height": 294
        },
        "outputId": "b53b8895-e9b8-4b2f-8d9d-7d4c850c286d"
      },
      "source": [
        "df90_PU=df_90[['PU Ratio', 'PU_future90d','labels90']].groupby('labels90').agg(['min', 'max','mean','std'])\n",
        "df90_PU=df90_PU.transpose()\n",
        "df90_PU"
      ],
      "execution_count": 63,
      "outputs": [
        {
          "output_type": "execute_result",
          "data": {
            "text/html": [
              "<div>\n",
              "<style scoped>\n",
              "    .dataframe tbody tr th:only-of-type {\n",
              "        vertical-align: middle;\n",
              "    }\n",
              "\n",
              "    .dataframe tbody tr th {\n",
              "        vertical-align: top;\n",
              "    }\n",
              "\n",
              "    .dataframe thead th {\n",
              "        text-align: right;\n",
              "    }\n",
              "</style>\n",
              "<table border=\"1\" class=\"dataframe\">\n",
              "  <thead>\n",
              "    <tr style=\"text-align: right;\">\n",
              "      <th></th>\n",
              "      <th>labels90</th>\n",
              "      <th>0</th>\n",
              "      <th>1</th>\n",
              "      <th>2</th>\n",
              "      <th>3</th>\n",
              "    </tr>\n",
              "  </thead>\n",
              "  <tbody>\n",
              "    <tr>\n",
              "      <th rowspan=\"4\" valign=\"top\">PU Ratio</th>\n",
              "      <th>min</th>\n",
              "      <td>0.331285</td>\n",
              "      <td>269.334754</td>\n",
              "      <td>16.973789</td>\n",
              "      <td>1.837719</td>\n",
              "    </tr>\n",
              "    <tr>\n",
              "      <th>max</th>\n",
              "      <td>106.712495</td>\n",
              "      <td>848.128885</td>\n",
              "      <td>118.238575</td>\n",
              "      <td>259.290818</td>\n",
              "    </tr>\n",
              "    <tr>\n",
              "      <th>mean</th>\n",
              "      <td>17.589045</td>\n",
              "      <td>439.204960</td>\n",
              "      <td>61.436455</td>\n",
              "      <td>96.196632</td>\n",
              "    </tr>\n",
              "    <tr>\n",
              "      <th>std</th>\n",
              "      <td>15.900903</td>\n",
              "      <td>149.643526</td>\n",
              "      <td>26.553127</td>\n",
              "      <td>45.046272</td>\n",
              "    </tr>\n",
              "    <tr>\n",
              "      <th rowspan=\"4\" valign=\"top\">PU_future90d</th>\n",
              "      <th>min</th>\n",
              "      <td>0.331285</td>\n",
              "      <td>56.781908</td>\n",
              "      <td>269.334754</td>\n",
              "      <td>1.278521</td>\n",
              "    </tr>\n",
              "    <tr>\n",
              "      <th>max</th>\n",
              "      <td>106.712495</td>\n",
              "      <td>137.662093</td>\n",
              "      <td>848.128885</td>\n",
              "      <td>259.290818</td>\n",
              "    </tr>\n",
              "    <tr>\n",
              "      <th>mean</th>\n",
              "      <td>18.936480</td>\n",
              "      <td>84.063374</td>\n",
              "      <td>439.204960</td>\n",
              "      <td>93.807897</td>\n",
              "    </tr>\n",
              "    <tr>\n",
              "      <th>std</th>\n",
              "      <td>16.666008</td>\n",
              "      <td>20.651437</td>\n",
              "      <td>149.643526</td>\n",
              "      <td>46.480579</td>\n",
              "    </tr>\n",
              "  </tbody>\n",
              "</table>\n",
              "</div>"
            ],
            "text/plain": [
              "labels90                    0           1           2           3\n",
              "PU Ratio     min     0.331285  269.334754   16.973789    1.837719\n",
              "             max   106.712495  848.128885  118.238575  259.290818\n",
              "             mean   17.589045  439.204960   61.436455   96.196632\n",
              "             std    15.900903  149.643526   26.553127   45.046272\n",
              "PU_future90d min     0.331285   56.781908  269.334754    1.278521\n",
              "             max   106.712495  137.662093  848.128885  259.290818\n",
              "             mean   18.936480   84.063374  439.204960   93.807897\n",
              "             std    16.666008   20.651437  149.643526   46.480579"
            ]
          },
          "metadata": {
            "tags": []
          },
          "execution_count": 63
        }
      ]
    },
    {
      "cell_type": "code",
      "metadata": {
        "id": "XWC38_hiuxF7",
        "colab_type": "code",
        "colab": {
          "base_uri": "https://localhost:8080/",
          "height": 609
        },
        "outputId": "ce5161bb-96b5-490c-f7a7-dabfdfe65779"
      },
      "source": [
        "df90_PU.iloc[0:4].plot(kind='bar',figsize=(14, 10))\n",
        "plt.title('PU ratio on buy-in date by Clustering Categories',fontsize=16)\n",
        "plt.xticks(rotation=360)\n",
        "plt.savefig('90PU_full_buyin')"
      ],
      "execution_count": 64,
      "outputs": [
        {
          "output_type": "display_data",
          "data": {
            "image/png": "[encoded data removed]",
            "text/plain": [
              "<Figure size 1008x720 with 1 Axes>"
            ]
          },
          "metadata": {
            "tags": [],
            "needs_background": "light"
          }
        }
      ]
    },
    {
      "cell_type": "code",
      "metadata": {
        "id": "nHeXQhKiuxGA",
        "colab_type": "code",
        "colab": {
          "base_uri": "https://localhost:8080/",
          "height": 610
        },
        "outputId": "e0a467c7-e277-45d7-821e-b27686f75a69"
      },
      "source": [
        "df90_PU.iloc[4:8].plot(kind='bar',figsize=(14, 10))\n",
        "plt.title('PU ratio on sell-out date by Clustering Categories',fontsize=16)\n",
        "plt.xticks(rotation=360)\n",
        "plt.savefig('90PU_full_sellout')"
      ],
      "execution_count": 65,
      "outputs": [
        {
          "output_type": "display_data",
          "data": {
            "image/png": "[encoded data removed]",
            "text/plain": [
              "<Figure size 1008x720 with 1 Axes>"
            ]
          },
          "metadata": {
            "tags": [],
            "needs_background": "light"
          }
        }
      ]
    },
    {
      "cell_type": "code",
      "metadata": {
        "id": "oXpOZgIluxGD",
        "colab_type": "code",
        "colab": {
          "base_uri": "https://localhost:8080/",
          "height": 171
        },
        "outputId": "a8cb6e67-b1ce-41b8-82be-988837673832"
      },
      "source": [
        "df_90_ROI=df_90_ROI.transpose()\n",
        "df_90_ROI.columns=['labels90=0', 'labels90=1','labels90=2', 'labels90=3']\n",
        "df_90_ROI.head()"
      ],
      "execution_count": 66,
      "outputs": [
        {
          "output_type": "execute_result",
          "data": {
            "text/html": [
              "<div>\n",
              "<style scoped>\n",
              "    .dataframe tbody tr th:only-of-type {\n",
              "        vertical-align: middle;\n",
              "    }\n",
              "\n",
              "    .dataframe tbody tr th {\n",
              "        vertical-align: top;\n",
              "    }\n",
              "\n",
              "    .dataframe thead th {\n",
              "        text-align: right;\n",
              "    }\n",
              "</style>\n",
              "<table border=\"1\" class=\"dataframe\">\n",
              "  <thead>\n",
              "    <tr style=\"text-align: right;\">\n",
              "      <th></th>\n",
              "      <th>labels90=0</th>\n",
              "      <th>labels90=1</th>\n",
              "      <th>labels90=2</th>\n",
              "      <th>labels90=3</th>\n",
              "    </tr>\n",
              "  </thead>\n",
              "  <tbody>\n",
              "    <tr>\n",
              "      <th>future90d_ROI_min</th>\n",
              "      <td>-83.710800</td>\n",
              "      <td>-61.350263</td>\n",
              "      <td>103.261022</td>\n",
              "      <td>-76.415609</td>\n",
              "    </tr>\n",
              "    <tr>\n",
              "      <th>future90d_ROI_max</th>\n",
              "      <td>2602.078891</td>\n",
              "      <td>8.715075</td>\n",
              "      <td>827.458889</td>\n",
              "      <td>3171.652729</td>\n",
              "    </tr>\n",
              "    <tr>\n",
              "      <th>future90d_ROI_mean</th>\n",
              "      <td>99.624817</td>\n",
              "      <td>-37.297839</td>\n",
              "      <td>370.157469</td>\n",
              "      <td>45.239593</td>\n",
              "    </tr>\n",
              "    <tr>\n",
              "      <th>future90d_ROI_std</th>\n",
              "      <td>284.165805</td>\n",
              "      <td>19.283813</td>\n",
              "      <td>210.292135</td>\n",
              "      <td>199.141516</td>\n",
              "    </tr>\n",
              "  </tbody>\n",
              "</table>\n",
              "</div>"
            ],
            "text/plain": [
              "                     labels90=0  labels90=1  labels90=2   labels90=3\n",
              "future90d_ROI_min    -83.710800  -61.350263  103.261022   -76.415609\n",
              "future90d_ROI_max   2602.078891    8.715075  827.458889  3171.652729\n",
              "future90d_ROI_mean    99.624817  -37.297839  370.157469    45.239593\n",
              "future90d_ROI_std    284.165805   19.283813  210.292135   199.141516"
            ]
          },
          "metadata": {
            "tags": []
          },
          "execution_count": 66
        }
      ]
    },
    {
      "cell_type": "code",
      "metadata": {
        "scrolled": true,
        "id": "LLCjLWq6uxGF",
        "colab_type": "code",
        "colab": {
          "base_uri": "https://localhost:8080/",
          "height": 610
        },
        "outputId": "2234af02-8acd-4966-ac16-8be1d0c4dee0"
      },
      "source": [
        "df_90_ROI.plot(kind='bar',figsize=(14, 10))\n",
        "plt.title('The Statitiscs of Future 90-day ROI by PU Ratio Clustering Categories',fontsize=16)\n",
        "plt.xticks(rotation=360)\n",
        "plt.savefig('90ROI_full')"
      ],
      "execution_count": 67,
      "outputs": [
        {
          "output_type": "display_data",
          "data": {
            "image/png": "[encoded data removed]",
            "text/plain": [
              "<Figure size 1008x720 with 1 Axes>"
            ]
          },
          "metadata": {
            "tags": [],
            "needs_background": "light"
          }
        }
      ]
    },
    {
      "cell_type": "code",
      "metadata": {
        "id": "GQbyzv6RuxGI",
        "colab_type": "code",
        "colab": {
          "base_uri": "https://localhost:8080/",
          "height": 801
        },
        "outputId": "f4c22f88-65d5-4311-c1e0-dc8ef41e404b"
      },
      "source": [
        "plt.figure(figsize=(14, 10))\n",
        "sns.lmplot('PU Ratio', 'PU_future90d', data=df_90, hue='labels90', fit_reg=False, legend=True,size=10)\n",
        "plt.scatter(centroids_x, centroids_y, marker='D', s=50, color='black')\n",
        "plt.axvline(118.238575, color='red', linestyle='--')\n",
        "plt.axhline(269.335326, color='red', linestyle='--')\n",
        "plt.annotate('The max PU ratio for Category 2 is:118.24',\n",
        "            xy=(130, 700), \n",
        "            horizontalalignment='left', verticalalignment='top',fontsize=12)\n",
        "plt.annotate('The mean PU ratio for Category 2 is:61.44',\n",
        "            xy=(130, 680), \n",
        "            horizontalalignment='left', verticalalignment='top',fontsize=12)\n",
        "plt.annotate('The min PU ratio for Category 2 is:16.97',\n",
        "            xy=(130, 660), \n",
        "            horizontalalignment='left', verticalalignment='top',fontsize=12)\n",
        "\n",
        "plt.annotate('The max PU ratio After 90 days for Category 2 is:848.13',\n",
        "            xy=(130, 300), \n",
        "            horizontalalignment='left', verticalalignment='top',fontsize=12)\n",
        "plt.annotate('The mean PU ratio After 90 days for Category 2 is:439.20',\n",
        "            xy=(130, 320), \n",
        "            horizontalalignment='left', verticalalignment='top',fontsize=12)\n",
        "plt.annotate('The min PU ratio After 90 days for Category 2 is:269.33',\n",
        "            xy=(130, 340), \n",
        "            horizontalalignment='left', verticalalignment='top',fontsize=12)\n",
        "plt.savefig('PU90_full_annoted')"
      ],
      "execution_count": 68,
      "outputs": [
        {
          "output_type": "stream",
          "text": [
            "/usr/local/lib/python3.6/dist-packages/seaborn/regression.py:573: UserWarning: The `size` parameter has been renamed to `height`; please update your code.\n",
            "  warnings.warn(msg, UserWarning)\n"
          ],
          "name": "stderr"
        },
        {
          "output_type": "display_data",
          "data": {
            "text/plain": [
              "<Figure size 1008x720 with 0 Axes>"
            ]
          },
          "metadata": {
            "tags": []
          }
        },
        {
          "output_type": "display_data",
          "data": {
            "image/png": "[encoded data removed]",
            "text/plain": [
              "<Figure size 770.125x720 with 1 Axes>"
            ]
          },
          "metadata": {
            "tags": [],
            "needs_background": "light"
          }
        }
      ]
    },
    {
      "cell_type": "code",
      "metadata": {
        "id": "7EMRj-ACuxGK",
        "colab_type": "code",
        "colab": {
          "base_uri": "https://localhost:8080/",
          "height": 202
        },
        "outputId": "1d57f8d8-25fa-44f1-8ba1-3c90f71c36e1"
      },
      "source": [
        "df_90.head()"
      ],
      "execution_count": 69,
      "outputs": [
        {
          "output_type": "execute_result",
          "data": {
            "text/html": [
              "<div>\n",
              "<style scoped>\n",
              "    .dataframe tbody tr th:only-of-type {\n",
              "        vertical-align: middle;\n",
              "    }\n",
              "\n",
              "    .dataframe tbody tr th {\n",
              "        vertical-align: top;\n",
              "    }\n",
              "\n",
              "    .dataframe thead th {\n",
              "        text-align: right;\n",
              "    }\n",
              "</style>\n",
              "<table border=\"1\" class=\"dataframe\">\n",
              "  <thead>\n",
              "    <tr style=\"text-align: right;\">\n",
              "      <th></th>\n",
              "      <th>PU Ratio</th>\n",
              "      <th>PU_future90d</th>\n",
              "      <th>NVTAdj90</th>\n",
              "      <th>NVTAdj90_future90d</th>\n",
              "      <th>future90d_ROI</th>\n",
              "      <th>PM</th>\n",
              "      <th>PM_future90d</th>\n",
              "      <th>labels90</th>\n",
              "    </tr>\n",
              "  </thead>\n",
              "  <tbody>\n",
              "    <tr>\n",
              "      <th>2010-10-15</th>\n",
              "      <td>0.463020</td>\n",
              "      <td>0.973481</td>\n",
              "      <td>154.643925</td>\n",
              "      <td>147.755297</td>\n",
              "      <td>202.476190</td>\n",
              "      <td>30.998689</td>\n",
              "      <td>10.989619</td>\n",
              "      <td>0</td>\n",
              "    </tr>\n",
              "    <tr>\n",
              "      <th>2010-10-16</th>\n",
              "      <td>0.418576</td>\n",
              "      <td>1.519027</td>\n",
              "      <td>144.681892</td>\n",
              "      <td>184.130860</td>\n",
              "      <td>296.029709</td>\n",
              "      <td>11.602674</td>\n",
              "      <td>15.203635</td>\n",
              "      <td>0</td>\n",
              "    </tr>\n",
              "    <tr>\n",
              "      <th>2010-10-17</th>\n",
              "      <td>0.434648</td>\n",
              "      <td>1.393589</td>\n",
              "      <td>147.263082</td>\n",
              "      <td>175.883298</td>\n",
              "      <td>278.431373</td>\n",
              "      <td>18.085074</td>\n",
              "      <td>19.008926</td>\n",
              "      <td>0</td>\n",
              "    </tr>\n",
              "    <tr>\n",
              "      <th>2010-10-18</th>\n",
              "      <td>0.432816</td>\n",
              "      <td>1.387447</td>\n",
              "      <td>145.972987</td>\n",
              "      <td>174.852775</td>\n",
              "      <td>277.724609</td>\n",
              "      <td>11.418262</td>\n",
              "      <td>17.167769</td>\n",
              "      <td>0</td>\n",
              "    </tr>\n",
              "    <tr>\n",
              "      <th>2010-10-19</th>\n",
              "      <td>0.391168</td>\n",
              "      <td>1.125454</td>\n",
              "      <td>137.869691</td>\n",
              "      <td>156.588954</td>\n",
              "      <td>258.296568</td>\n",
              "      <td>4.899486</td>\n",
              "      <td>19.007623</td>\n",
              "      <td>0</td>\n",
              "    </tr>\n",
              "  </tbody>\n",
              "</table>\n",
              "</div>"
            ],
            "text/plain": [
              "            PU Ratio  PU_future90d    NVTAdj90  NVTAdj90_future90d  \\\n",
              "2010-10-15  0.463020      0.973481  154.643925          147.755297   \n",
              "2010-10-16  0.418576      1.519027  144.681892          184.130860   \n",
              "2010-10-17  0.434648      1.393589  147.263082          175.883298   \n",
              "2010-10-18  0.432816      1.387447  145.972987          174.852775   \n",
              "2010-10-19  0.391168      1.125454  137.869691          156.588954   \n",
              "\n",
              "            future90d_ROI         PM  PM_future90d  labels90  \n",
              "2010-10-15     202.476190  30.998689     10.989619         0  \n",
              "2010-10-16     296.029709  11.602674     15.203635         0  \n",
              "2010-10-17     278.431373  18.085074     19.008926         0  \n",
              "2010-10-18     277.724609  11.418262     17.167769         0  \n",
              "2010-10-19     258.296568   4.899486     19.007623         0  "
            ]
          },
          "metadata": {
            "tags": []
          },
          "execution_count": 69
        }
      ]
    },
    {
      "cell_type": "code",
      "metadata": {
        "id": "Ju0fbxqquxGM",
        "colab_type": "code",
        "colab": {
          "base_uri": "https://localhost:8080/",
          "height": 202
        },
        "outputId": "e3ae26a2-1615-4bf5-f388-a36e6cd1a462"
      },
      "source": [
        "### We cluster the data by NVT today and after n days\n",
        "### We cluster the data by PU today and after n days\n",
        "model = KMeans(n_clusters=4, random_state=0)\n",
        "model.fit(df_90[['NVTAdj90','NVTAdj90_future90d']])\n",
        "labels90_NVT = model.predict(df_90[['NVTAdj90','NVTAdj90_future90d']])\n",
        "labels90_NVT.reshape(-1,1)\n",
        "df_90['labels90_NVT']=labels90_NVT\n",
        "df_90.head()"
      ],
      "execution_count": 70,
      "outputs": [
        {
          "output_type": "execute_result",
          "data": {
            "text/html": [
              "<div>\n",
              "<style scoped>\n",
              "    .dataframe tbody tr th:only-of-type {\n",
              "        vertical-align: middle;\n",
              "    }\n",
              "\n",
              "    .dataframe tbody tr th {\n",
              "        vertical-align: top;\n",
              "    }\n",
              "\n",
              "    .dataframe thead th {\n",
              "        text-align: right;\n",
              "    }\n",
              "</style>\n",
              "<table border=\"1\" class=\"dataframe\">\n",
              "  <thead>\n",
              "    <tr style=\"text-align: right;\">\n",
              "      <th></th>\n",
              "      <th>PU Ratio</th>\n",
              "      <th>PU_future90d</th>\n",
              "      <th>NVTAdj90</th>\n",
              "      <th>NVTAdj90_future90d</th>\n",
              "      <th>future90d_ROI</th>\n",
              "      <th>PM</th>\n",
              "      <th>PM_future90d</th>\n",
              "      <th>labels90</th>\n",
              "      <th>labels90_NVT</th>\n",
              "    </tr>\n",
              "  </thead>\n",
              "  <tbody>\n",
              "    <tr>\n",
              "      <th>2010-10-15</th>\n",
              "      <td>0.463020</td>\n",
              "      <td>0.973481</td>\n",
              "      <td>154.643925</td>\n",
              "      <td>147.755297</td>\n",
              "      <td>202.476190</td>\n",
              "      <td>30.998689</td>\n",
              "      <td>10.989619</td>\n",
              "      <td>0</td>\n",
              "      <td>1</td>\n",
              "    </tr>\n",
              "    <tr>\n",
              "      <th>2010-10-16</th>\n",
              "      <td>0.418576</td>\n",
              "      <td>1.519027</td>\n",
              "      <td>144.681892</td>\n",
              "      <td>184.130860</td>\n",
              "      <td>296.029709</td>\n",
              "      <td>11.602674</td>\n",
              "      <td>15.203635</td>\n",
              "      <td>0</td>\n",
              "      <td>1</td>\n",
              "    </tr>\n",
              "    <tr>\n",
              "      <th>2010-10-17</th>\n",
              "      <td>0.434648</td>\n",
              "      <td>1.393589</td>\n",
              "      <td>147.263082</td>\n",
              "      <td>175.883298</td>\n",
              "      <td>278.431373</td>\n",
              "      <td>18.085074</td>\n",
              "      <td>19.008926</td>\n",
              "      <td>0</td>\n",
              "      <td>1</td>\n",
              "    </tr>\n",
              "    <tr>\n",
              "      <th>2010-10-18</th>\n",
              "      <td>0.432816</td>\n",
              "      <td>1.387447</td>\n",
              "      <td>145.972987</td>\n",
              "      <td>174.852775</td>\n",
              "      <td>277.724609</td>\n",
              "      <td>11.418262</td>\n",
              "      <td>17.167769</td>\n",
              "      <td>0</td>\n",
              "      <td>1</td>\n",
              "    </tr>\n",
              "    <tr>\n",
              "      <th>2010-10-19</th>\n",
              "      <td>0.391168</td>\n",
              "      <td>1.125454</td>\n",
              "      <td>137.869691</td>\n",
              "      <td>156.588954</td>\n",
              "      <td>258.296568</td>\n",
              "      <td>4.899486</td>\n",
              "      <td>19.007623</td>\n",
              "      <td>0</td>\n",
              "      <td>1</td>\n",
              "    </tr>\n",
              "  </tbody>\n",
              "</table>\n",
              "</div>"
            ],
            "text/plain": [
              "            PU Ratio  PU_future90d    NVTAdj90  NVTAdj90_future90d  \\\n",
              "2010-10-15  0.463020      0.973481  154.643925          147.755297   \n",
              "2010-10-16  0.418576      1.519027  144.681892          184.130860   \n",
              "2010-10-17  0.434648      1.393589  147.263082          175.883298   \n",
              "2010-10-18  0.432816      1.387447  145.972987          174.852775   \n",
              "2010-10-19  0.391168      1.125454  137.869691          156.588954   \n",
              "\n",
              "            future90d_ROI         PM  PM_future90d  labels90  labels90_NVT  \n",
              "2010-10-15     202.476190  30.998689     10.989619         0             1  \n",
              "2010-10-16     296.029709  11.602674     15.203635         0             1  \n",
              "2010-10-17     278.431373  18.085074     19.008926         0             1  \n",
              "2010-10-18     277.724609  11.418262     17.167769         0             1  \n",
              "2010-10-19     258.296568   4.899486     19.007623         0             1  "
            ]
          },
          "metadata": {
            "tags": []
          },
          "execution_count": 70
        }
      ]
    },
    {
      "cell_type": "code",
      "metadata": {
        "id": "kSpuvjBruxGP",
        "colab_type": "code",
        "colab": {
          "base_uri": "https://localhost:8080/",
          "height": 171
        },
        "outputId": "a3266806-3de2-4b89-e1a2-d9c30debdbae"
      },
      "source": [
        "centroids = model.cluster_centers_\n",
        "centroids_x = centroids[:,0]\n",
        "centroids_y = centroids[:,1]\n",
        "centroids=pd.DataFrame(centroids)\n",
        "centroids.columns=['centroids_x','centroids_y']\n",
        "centroids.head()"
      ],
      "execution_count": 71,
      "outputs": [
        {
          "output_type": "execute_result",
          "data": {
            "text/html": [
              "<div>\n",
              "<style scoped>\n",
              "    .dataframe tbody tr th:only-of-type {\n",
              "        vertical-align: middle;\n",
              "    }\n",
              "\n",
              "    .dataframe tbody tr th {\n",
              "        vertical-align: top;\n",
              "    }\n",
              "\n",
              "    .dataframe thead th {\n",
              "        text-align: right;\n",
              "    }\n",
              "</style>\n",
              "<table border=\"1\" class=\"dataframe\">\n",
              "  <thead>\n",
              "    <tr style=\"text-align: right;\">\n",
              "      <th></th>\n",
              "      <th>centroids_x</th>\n",
              "      <th>centroids_y</th>\n",
              "    </tr>\n",
              "  </thead>\n",
              "  <tbody>\n",
              "    <tr>\n",
              "      <th>0</th>\n",
              "      <td>43.207564</td>\n",
              "      <td>43.110544</td>\n",
              "    </tr>\n",
              "    <tr>\n",
              "      <th>1</th>\n",
              "      <td>175.388832</td>\n",
              "      <td>167.091708</td>\n",
              "    </tr>\n",
              "    <tr>\n",
              "      <th>2</th>\n",
              "      <td>67.916967</td>\n",
              "      <td>74.394682</td>\n",
              "    </tr>\n",
              "    <tr>\n",
              "      <th>3</th>\n",
              "      <td>135.832168</td>\n",
              "      <td>43.713159</td>\n",
              "    </tr>\n",
              "  </tbody>\n",
              "</table>\n",
              "</div>"
            ],
            "text/plain": [
              "   centroids_x  centroids_y\n",
              "0    43.207564    43.110544\n",
              "1   175.388832   167.091708\n",
              "2    67.916967    74.394682\n",
              "3   135.832168    43.713159"
            ]
          },
          "metadata": {
            "tags": []
          },
          "execution_count": 71
        }
      ]
    },
    {
      "cell_type": "code",
      "metadata": {
        "id": "lv9WM0KLuxGT",
        "colab_type": "code",
        "colab": {
          "base_uri": "https://localhost:8080/",
          "height": 801
        },
        "outputId": "efd0571a-dba9-4065-bb0b-3352c1e777e7"
      },
      "source": [
        "plt.figure(figsize=(14, 10))\n",
        "sns.lmplot('NVTAdj90', 'NVTAdj90_future90d', data=df_90, hue='labels90_NVT', fit_reg=False, legend=True,size=10)\n",
        "plt.scatter(centroids_x, centroids_y, marker='D', s=50, color='black')\n",
        "plt.savefig('NVT90_full')"
      ],
      "execution_count": 72,
      "outputs": [
        {
          "output_type": "stream",
          "text": [
            "/usr/local/lib/python3.6/dist-packages/seaborn/regression.py:573: UserWarning: The `size` parameter has been renamed to `height`; please update your code.\n",
            "  warnings.warn(msg, UserWarning)\n"
          ],
          "name": "stderr"
        },
        {
          "output_type": "display_data",
          "data": {
            "text/plain": [
              "<Figure size 1008x720 with 0 Axes>"
            ]
          },
          "metadata": {
            "tags": []
          }
        },
        {
          "output_type": "display_data",
          "data": {
            "image/png": "[encoded data removed]",
            "text/plain": [
              "<Figure size 795.5x720 with 1 Axes>"
            ]
          },
          "metadata": {
            "tags": [],
            "needs_background": "light"
          }
        }
      ]
    },
    {
      "cell_type": "code",
      "metadata": {
        "id": "j3cfy2EtuxGV",
        "colab_type": "code",
        "colab": {
          "base_uri": "https://localhost:8080/",
          "height": 171
        },
        "outputId": "e9933e5b-5482-4911-caba-9f7662f87cc4"
      },
      "source": [
        "df_90_ROI=df_90[['future90d_ROI','labels90_NVT']].groupby('labels90_NVT', as_index=False).agg(['min', 'max','mean','std'])\n",
        "df_90_ROI.columns = [\"_\".join(x) for x in df_90_ROI.columns.ravel()]\n",
        "df_90_ROI.index.name=None\n",
        "df_90_ROI.head()"
      ],
      "execution_count": 73,
      "outputs": [
        {
          "output_type": "execute_result",
          "data": {
            "text/html": [
              "<div>\n",
              "<style scoped>\n",
              "    .dataframe tbody tr th:only-of-type {\n",
              "        vertical-align: middle;\n",
              "    }\n",
              "\n",
              "    .dataframe tbody tr th {\n",
              "        vertical-align: top;\n",
              "    }\n",
              "\n",
              "    .dataframe thead th {\n",
              "        text-align: right;\n",
              "    }\n",
              "</style>\n",
              "<table border=\"1\" class=\"dataframe\">\n",
              "  <thead>\n",
              "    <tr style=\"text-align: right;\">\n",
              "      <th></th>\n",
              "      <th>future90d_ROI_min</th>\n",
              "      <th>future90d_ROI_max</th>\n",
              "      <th>future90d_ROI_mean</th>\n",
              "      <th>future90d_ROI_std</th>\n",
              "    </tr>\n",
              "  </thead>\n",
              "  <tbody>\n",
              "    <tr>\n",
              "      <th>0</th>\n",
              "      <td>-83.710800</td>\n",
              "      <td>2173.169200</td>\n",
              "      <td>66.553373</td>\n",
              "      <td>190.975457</td>\n",
              "    </tr>\n",
              "    <tr>\n",
              "      <th>1</th>\n",
              "      <td>102.243083</td>\n",
              "      <td>3171.652729</td>\n",
              "      <td>537.587934</td>\n",
              "      <td>592.692882</td>\n",
              "    </tr>\n",
              "    <tr>\n",
              "      <th>2</th>\n",
              "      <td>-56.859098</td>\n",
              "      <td>2258.089533</td>\n",
              "      <td>83.324950</td>\n",
              "      <td>300.529637</td>\n",
              "    </tr>\n",
              "    <tr>\n",
              "      <th>3</th>\n",
              "      <td>-76.415609</td>\n",
              "      <td>1053.449720</td>\n",
              "      <td>116.571633</td>\n",
              "      <td>195.832346</td>\n",
              "    </tr>\n",
              "  </tbody>\n",
              "</table>\n",
              "</div>"
            ],
            "text/plain": [
              "   future90d_ROI_min  future90d_ROI_max  future90d_ROI_mean  future90d_ROI_std\n",
              "0         -83.710800        2173.169200           66.553373         190.975457\n",
              "1         102.243083        3171.652729          537.587934         592.692882\n",
              "2         -56.859098        2258.089533           83.324950         300.529637\n",
              "3         -76.415609        1053.449720          116.571633         195.832346"
            ]
          },
          "metadata": {
            "tags": []
          },
          "execution_count": 73
        }
      ]
    },
    {
      "cell_type": "code",
      "metadata": {
        "id": "_XFFiqxOuxGX",
        "colab_type": "code",
        "colab": {
          "base_uri": "https://localhost:8080/",
          "height": 294
        },
        "outputId": "16258c09-5f4d-4acd-e060-235d4de8a70e"
      },
      "source": [
        "df90_NVT=df_90[['NVTAdj90', 'NVTAdj90_future90d','labels90_NVT']].groupby('labels90_NVT').agg(['min', 'max','mean','std'])\n",
        "df90_NVT=df90_NVT.transpose()\n",
        "df90_NVT"
      ],
      "execution_count": 74,
      "outputs": [
        {
          "output_type": "execute_result",
          "data": {
            "text/html": [
              "<div>\n",
              "<style scoped>\n",
              "    .dataframe tbody tr th:only-of-type {\n",
              "        vertical-align: middle;\n",
              "    }\n",
              "\n",
              "    .dataframe tbody tr th {\n",
              "        vertical-align: top;\n",
              "    }\n",
              "\n",
              "    .dataframe thead th {\n",
              "        text-align: right;\n",
              "    }\n",
              "</style>\n",
              "<table border=\"1\" class=\"dataframe\">\n",
              "  <thead>\n",
              "    <tr style=\"text-align: right;\">\n",
              "      <th></th>\n",
              "      <th>labels90_NVT</th>\n",
              "      <th>0</th>\n",
              "      <th>1</th>\n",
              "      <th>2</th>\n",
              "      <th>3</th>\n",
              "    </tr>\n",
              "  </thead>\n",
              "  <tbody>\n",
              "    <tr>\n",
              "      <th rowspan=\"4\" valign=\"top\">NVTAdj90</th>\n",
              "      <th>min</th>\n",
              "      <td>11.810125</td>\n",
              "      <td>99.115684</td>\n",
              "      <td>30.383771</td>\n",
              "      <td>90.757424</td>\n",
              "    </tr>\n",
              "    <tr>\n",
              "      <th>max</th>\n",
              "      <td>89.119341</td>\n",
              "      <td>355.931337</td>\n",
              "      <td>117.960276</td>\n",
              "      <td>256.362055</td>\n",
              "    </tr>\n",
              "    <tr>\n",
              "      <th>mean</th>\n",
              "      <td>43.207564</td>\n",
              "      <td>175.388832</td>\n",
              "      <td>67.916967</td>\n",
              "      <td>135.832168</td>\n",
              "    </tr>\n",
              "    <tr>\n",
              "      <th>std</th>\n",
              "      <td>12.503944</td>\n",
              "      <td>44.482566</td>\n",
              "      <td>15.817755</td>\n",
              "      <td>30.951150</td>\n",
              "    </tr>\n",
              "    <tr>\n",
              "      <th rowspan=\"4\" valign=\"top\">NVTAdj90_future90d</th>\n",
              "      <th>min</th>\n",
              "      <td>13.714733</td>\n",
              "      <td>97.857132</td>\n",
              "      <td>32.928846</td>\n",
              "      <td>11.810125</td>\n",
              "    </tr>\n",
              "    <tr>\n",
              "      <th>max</th>\n",
              "      <td>75.398931</td>\n",
              "      <td>256.362055</td>\n",
              "      <td>154.082818</td>\n",
              "      <td>106.721038</td>\n",
              "    </tr>\n",
              "    <tr>\n",
              "      <th>mean</th>\n",
              "      <td>43.110544</td>\n",
              "      <td>167.091708</td>\n",
              "      <td>74.394682</td>\n",
              "      <td>43.713159</td>\n",
              "    </tr>\n",
              "    <tr>\n",
              "      <th>std</th>\n",
              "      <td>10.206692</td>\n",
              "      <td>39.148097</td>\n",
              "      <td>16.901373</td>\n",
              "      <td>25.343361</td>\n",
              "    </tr>\n",
              "  </tbody>\n",
              "</table>\n",
              "</div>"
            ],
            "text/plain": [
              "labels90_NVT                     0           1           2           3\n",
              "NVTAdj90           min   11.810125   99.115684   30.383771   90.757424\n",
              "                   max   89.119341  355.931337  117.960276  256.362055\n",
              "                   mean  43.207564  175.388832   67.916967  135.832168\n",
              "                   std   12.503944   44.482566   15.817755   30.951150\n",
              "NVTAdj90_future90d min   13.714733   97.857132   32.928846   11.810125\n",
              "                   max   75.398931  256.362055  154.082818  106.721038\n",
              "                   mean  43.110544  167.091708   74.394682   43.713159\n",
              "                   std   10.206692   39.148097   16.901373   25.343361"
            ]
          },
          "metadata": {
            "tags": []
          },
          "execution_count": 74
        }
      ]
    },
    {
      "cell_type": "code",
      "metadata": {
        "id": "QRURAMmVuxGZ",
        "colab_type": "code",
        "colab": {
          "base_uri": "https://localhost:8080/",
          "height": 609
        },
        "outputId": "38f95890-09e4-4344-b556-4751dd37f30d"
      },
      "source": [
        "df90_NVT.iloc[0:4].plot(kind='bar',figsize=(14, 10))\n",
        "plt.title('NVT ratio on buy-in date by Clustering Categories',fontsize=16)\n",
        "plt.xticks(rotation=360)\n",
        "plt.savefig('90NVT_full_buyin')"
      ],
      "execution_count": 75,
      "outputs": [
        {
          "output_type": "display_data",
          "data": {
            "image/png": "[encoded data removed]",
            "text/plain": [
              "<Figure size 1008x720 with 1 Axes>"
            ]
          },
          "metadata": {
            "tags": [],
            "needs_background": "light"
          }
        }
      ]
    },
    {
      "cell_type": "code",
      "metadata": {
        "id": "-USkLyJ0uxGb",
        "colab_type": "code",
        "colab": {
          "base_uri": "https://localhost:8080/",
          "height": 610
        },
        "outputId": "b9815b42-80d3-4d3c-8590-fb15cc2fa36b"
      },
      "source": [
        "df90_NVT.iloc[4:8].plot(kind='bar',figsize=(14, 10))\n",
        "plt.title('NVT ratio on sell-out date by Clustering Categories',fontsize=16)\n",
        "plt.xticks(rotation=360)\n",
        "plt.savefig('90NVT_full_sellout')"
      ],
      "execution_count": 76,
      "outputs": [
        {
          "output_type": "display_data",
          "data": {
            "image/png": "[encoded data removed]",
            "text/plain": [
              "<Figure size 1008x720 with 1 Axes>"
            ]
          },
          "metadata": {
            "tags": [],
            "needs_background": "light"
          }
        }
      ]
    },
    {
      "cell_type": "code",
      "metadata": {
        "id": "aSvgyCMHuxGe",
        "colab_type": "code",
        "colab": {
          "base_uri": "https://localhost:8080/",
          "height": 171
        },
        "outputId": "5afd4eb7-e050-442e-abca-4fe9b66e6a24"
      },
      "source": [
        "df_90_ROI=df_90_ROI.transpose()\n",
        "df_90_ROI.columns=['labels90_NVT=0', 'labels90_NVT=1','labels90_NVT=2', 'labels90_NVT=3']\n",
        "df_90_ROI.head()"
      ],
      "execution_count": 77,
      "outputs": [
        {
          "output_type": "execute_result",
          "data": {
            "text/html": [
              "<div>\n",
              "<style scoped>\n",
              "    .dataframe tbody tr th:only-of-type {\n",
              "        vertical-align: middle;\n",
              "    }\n",
              "\n",
              "    .dataframe tbody tr th {\n",
              "        vertical-align: top;\n",
              "    }\n",
              "\n",
              "    .dataframe thead th {\n",
              "        text-align: right;\n",
              "    }\n",
              "</style>\n",
              "<table border=\"1\" class=\"dataframe\">\n",
              "  <thead>\n",
              "    <tr style=\"text-align: right;\">\n",
              "      <th></th>\n",
              "      <th>labels90_NVT=0</th>\n",
              "      <th>labels90_NVT=1</th>\n",
              "      <th>labels90_NVT=2</th>\n",
              "      <th>labels90_NVT=3</th>\n",
              "    </tr>\n",
              "  </thead>\n",
              "  <tbody>\n",
              "    <tr>\n",
              "      <th>future90d_ROI_min</th>\n",
              "      <td>-83.710800</td>\n",
              "      <td>102.243083</td>\n",
              "      <td>-56.859098</td>\n",
              "      <td>-76.415609</td>\n",
              "    </tr>\n",
              "    <tr>\n",
              "      <th>future90d_ROI_max</th>\n",
              "      <td>2173.169200</td>\n",
              "      <td>3171.652729</td>\n",
              "      <td>2258.089533</td>\n",
              "      <td>1053.449720</td>\n",
              "    </tr>\n",
              "    <tr>\n",
              "      <th>future90d_ROI_mean</th>\n",
              "      <td>66.553373</td>\n",
              "      <td>537.587934</td>\n",
              "      <td>83.324950</td>\n",
              "      <td>116.571633</td>\n",
              "    </tr>\n",
              "    <tr>\n",
              "      <th>future90d_ROI_std</th>\n",
              "      <td>190.975457</td>\n",
              "      <td>592.692882</td>\n",
              "      <td>300.529637</td>\n",
              "      <td>195.832346</td>\n",
              "    </tr>\n",
              "  </tbody>\n",
              "</table>\n",
              "</div>"
            ],
            "text/plain": [
              "                    labels90_NVT=0  labels90_NVT=1  labels90_NVT=2  \\\n",
              "future90d_ROI_min       -83.710800      102.243083      -56.859098   \n",
              "future90d_ROI_max      2173.169200     3171.652729     2258.089533   \n",
              "future90d_ROI_mean       66.553373      537.587934       83.324950   \n",
              "future90d_ROI_std       190.975457      592.692882      300.529637   \n",
              "\n",
              "                    labels90_NVT=3  \n",
              "future90d_ROI_min       -76.415609  \n",
              "future90d_ROI_max      1053.449720  \n",
              "future90d_ROI_mean      116.571633  \n",
              "future90d_ROI_std       195.832346  "
            ]
          },
          "metadata": {
            "tags": []
          },
          "execution_count": 77
        }
      ]
    },
    {
      "cell_type": "code",
      "metadata": {
        "id": "m4KZoIx_uxGg",
        "colab_type": "code",
        "colab": {
          "base_uri": "https://localhost:8080/",
          "height": 610
        },
        "outputId": "f0ae7c07-4eaa-4454-9fe6-4368dfe6f6e1"
      },
      "source": [
        "df_90_ROI.plot(kind='bar',figsize=(14, 10))\n",
        "plt.title('The Statitiscs of Future 90-day ROI by NVT Ratio Clustering Categories',fontsize=16)\n",
        "plt.xticks(rotation=360)\n",
        "plt.savefig('90ROI_full_NVT')"
      ],
      "execution_count": 78,
      "outputs": [
        {
          "output_type": "display_data",
          "data": {
            "image/png": "[encoded data removed]",
            "text/plain": [
              "<Figure size 1008x720 with 1 Axes>"
            ]
          },
          "metadata": {
            "tags": [],
            "needs_background": "light"
          }
        }
      ]
    },
    {
      "cell_type": "code",
      "metadata": {
        "id": "6D5p2JgG00Xe",
        "colab_type": "code",
        "colab": {
          "base_uri": "https://localhost:8080/",
          "height": 202
        },
        "outputId": "eac92225-ddb4-46b8-e651-3cb2a756bacf"
      },
      "source": [
        "model = KMeans(n_clusters=4, random_state=0)\n",
        "model.fit(df_90[['PM','PM_future90d']])\n",
        "labels90 = model.predict(df_90[['PM','PM_future90d']])\n",
        "labels90.reshape(-1,1)\n",
        "df_90['labels90']=labels90\n",
        "df_90.head()"
      ],
      "execution_count": 79,
      "outputs": [
        {
          "output_type": "execute_result",
          "data": {
            "text/html": [
              "<div>\n",
              "<style scoped>\n",
              "    .dataframe tbody tr th:only-of-type {\n",
              "        vertical-align: middle;\n",
              "    }\n",
              "\n",
              "    .dataframe tbody tr th {\n",
              "        vertical-align: top;\n",
              "    }\n",
              "\n",
              "    .dataframe thead th {\n",
              "        text-align: right;\n",
              "    }\n",
              "</style>\n",
              "<table border=\"1\" class=\"dataframe\">\n",
              "  <thead>\n",
              "    <tr style=\"text-align: right;\">\n",
              "      <th></th>\n",
              "      <th>PU Ratio</th>\n",
              "      <th>PU_future90d</th>\n",
              "      <th>NVTAdj90</th>\n",
              "      <th>NVTAdj90_future90d</th>\n",
              "      <th>future90d_ROI</th>\n",
              "      <th>PM</th>\n",
              "      <th>PM_future90d</th>\n",
              "      <th>labels90</th>\n",
              "      <th>labels90_NVT</th>\n",
              "    </tr>\n",
              "  </thead>\n",
              "  <tbody>\n",
              "    <tr>\n",
              "      <th>2010-10-15</th>\n",
              "      <td>0.463020</td>\n",
              "      <td>0.973481</td>\n",
              "      <td>154.643925</td>\n",
              "      <td>147.755297</td>\n",
              "      <td>202.476190</td>\n",
              "      <td>30.998689</td>\n",
              "      <td>10.989619</td>\n",
              "      <td>1</td>\n",
              "      <td>1</td>\n",
              "    </tr>\n",
              "    <tr>\n",
              "      <th>2010-10-16</th>\n",
              "      <td>0.418576</td>\n",
              "      <td>1.519027</td>\n",
              "      <td>144.681892</td>\n",
              "      <td>184.130860</td>\n",
              "      <td>296.029709</td>\n",
              "      <td>11.602674</td>\n",
              "      <td>15.203635</td>\n",
              "      <td>1</td>\n",
              "      <td>1</td>\n",
              "    </tr>\n",
              "    <tr>\n",
              "      <th>2010-10-17</th>\n",
              "      <td>0.434648</td>\n",
              "      <td>1.393589</td>\n",
              "      <td>147.263082</td>\n",
              "      <td>175.883298</td>\n",
              "      <td>278.431373</td>\n",
              "      <td>18.085074</td>\n",
              "      <td>19.008926</td>\n",
              "      <td>1</td>\n",
              "      <td>1</td>\n",
              "    </tr>\n",
              "    <tr>\n",
              "      <th>2010-10-18</th>\n",
              "      <td>0.432816</td>\n",
              "      <td>1.387447</td>\n",
              "      <td>145.972987</td>\n",
              "      <td>174.852775</td>\n",
              "      <td>277.724609</td>\n",
              "      <td>11.418262</td>\n",
              "      <td>17.167769</td>\n",
              "      <td>1</td>\n",
              "      <td>1</td>\n",
              "    </tr>\n",
              "    <tr>\n",
              "      <th>2010-10-19</th>\n",
              "      <td>0.391168</td>\n",
              "      <td>1.125454</td>\n",
              "      <td>137.869691</td>\n",
              "      <td>156.588954</td>\n",
              "      <td>258.296568</td>\n",
              "      <td>4.899486</td>\n",
              "      <td>19.007623</td>\n",
              "      <td>0</td>\n",
              "      <td>1</td>\n",
              "    </tr>\n",
              "  </tbody>\n",
              "</table>\n",
              "</div>"
            ],
            "text/plain": [
              "            PU Ratio  PU_future90d    NVTAdj90  NVTAdj90_future90d  \\\n",
              "2010-10-15  0.463020      0.973481  154.643925          147.755297   \n",
              "2010-10-16  0.418576      1.519027  144.681892          184.130860   \n",
              "2010-10-17  0.434648      1.393589  147.263082          175.883298   \n",
              "2010-10-18  0.432816      1.387447  145.972987          174.852775   \n",
              "2010-10-19  0.391168      1.125454  137.869691          156.588954   \n",
              "\n",
              "            future90d_ROI         PM  PM_future90d  labels90  labels90_NVT  \n",
              "2010-10-15     202.476190  30.998689     10.989619         1             1  \n",
              "2010-10-16     296.029709  11.602674     15.203635         1             1  \n",
              "2010-10-17     278.431373  18.085074     19.008926         1             1  \n",
              "2010-10-18     277.724609  11.418262     17.167769         1             1  \n",
              "2010-10-19     258.296568   4.899486     19.007623         0             1  "
            ]
          },
          "metadata": {
            "tags": []
          },
          "execution_count": 79
        }
      ]
    },
    {
      "cell_type": "code",
      "metadata": {
        "id": "odu77Y5Q1EDo",
        "colab_type": "code",
        "colab": {
          "base_uri": "https://localhost:8080/",
          "height": 171
        },
        "outputId": "a85b49d1-09c7-4c93-c531-537f0684c166"
      },
      "source": [
        "centroids = model.cluster_centers_\n",
        "centroids_x = centroids[:,0]\n",
        "centroids_y = centroids[:,1]\n",
        "centroids=pd.DataFrame(centroids)\n",
        "centroids.columns=['centroids_x','centroids_y']\n",
        "centroids.head()"
      ],
      "execution_count": 80,
      "outputs": [
        {
          "output_type": "execute_result",
          "data": {
            "text/html": [
              "<div>\n",
              "<style scoped>\n",
              "    .dataframe tbody tr th:only-of-type {\n",
              "        vertical-align: middle;\n",
              "    }\n",
              "\n",
              "    .dataframe tbody tr th {\n",
              "        vertical-align: top;\n",
              "    }\n",
              "\n",
              "    .dataframe thead th {\n",
              "        text-align: right;\n",
              "    }\n",
              "</style>\n",
              "<table border=\"1\" class=\"dataframe\">\n",
              "  <thead>\n",
              "    <tr style=\"text-align: right;\">\n",
              "      <th></th>\n",
              "      <th>centroids_x</th>\n",
              "      <th>centroids_y</th>\n",
              "    </tr>\n",
              "  </thead>\n",
              "  <tbody>\n",
              "    <tr>\n",
              "      <th>0</th>\n",
              "      <td>1.451989</td>\n",
              "      <td>1.331826</td>\n",
              "    </tr>\n",
              "    <tr>\n",
              "      <th>1</th>\n",
              "      <td>19.782012</td>\n",
              "      <td>7.853274</td>\n",
              "    </tr>\n",
              "    <tr>\n",
              "      <th>2</th>\n",
              "      <td>113.940949</td>\n",
              "      <td>18.528135</td>\n",
              "    </tr>\n",
              "    <tr>\n",
              "      <th>3</th>\n",
              "      <td>51.694165</td>\n",
              "      <td>14.142391</td>\n",
              "    </tr>\n",
              "  </tbody>\n",
              "</table>\n",
              "</div>"
            ],
            "text/plain": [
              "   centroids_x  centroids_y\n",
              "0     1.451989     1.331826\n",
              "1    19.782012     7.853274\n",
              "2   113.940949    18.528135\n",
              "3    51.694165    14.142391"
            ]
          },
          "metadata": {
            "tags": []
          },
          "execution_count": 80
        }
      ]
    },
    {
      "cell_type": "code",
      "metadata": {
        "id": "zWCUC5QZ1HOe",
        "colab_type": "code",
        "colab": {
          "base_uri": "https://localhost:8080/",
          "height": 801
        },
        "outputId": "4acc016f-5e82-4b3b-9b68-036fb69945f6"
      },
      "source": [
        "plt.figure(figsize=(14, 10))\n",
        "sns.lmplot('PM','PM_future90d', data=df_90, hue='labels90', fit_reg=False, legend=True,size=10)\n",
        "plt.scatter(centroids_x, centroids_y, marker='D', s=50, color='black')\n",
        "plt.savefig('PM90_full')"
      ],
      "execution_count": 81,
      "outputs": [
        {
          "output_type": "stream",
          "text": [
            "/usr/local/lib/python3.6/dist-packages/seaborn/regression.py:573: UserWarning: The `size` parameter has been renamed to `height`; please update your code.\n",
            "  warnings.warn(msg, UserWarning)\n"
          ],
          "name": "stderr"
        },
        {
          "output_type": "display_data",
          "data": {
            "text/plain": [
              "<Figure size 1008x720 with 0 Axes>"
            ]
          },
          "metadata": {
            "tags": []
          }
        },
        {
          "output_type": "display_data",
          "data": {
            "image/png": "[encoded data removed]",
            "text/plain": [
              "<Figure size 770.125x720 with 1 Axes>"
            ]
          },
          "metadata": {
            "tags": [],
            "needs_background": "light"
          }
        }
      ]
    },
    {
      "cell_type": "code",
      "metadata": {
        "id": "0WXtoSG21JLe",
        "colab_type": "code",
        "colab": {
          "base_uri": "https://localhost:8080/",
          "height": 171
        },
        "outputId": "9396ec89-2afd-4447-bdd6-e2ad24c02647"
      },
      "source": [
        "df_90_ROI=df_90[['future90d_ROI','labels90']].groupby('labels90', as_index=False).agg(['min', 'max','mean','std'])\n",
        "df_90_ROI.columns = [\"_\".join(x) for x in df_90_ROI.columns.ravel()]\n",
        "df_90_ROI.index.name=None\n",
        "df_90_ROI.head()"
      ],
      "execution_count": 82,
      "outputs": [
        {
          "output_type": "execute_result",
          "data": {
            "text/html": [
              "<div>\n",
              "<style scoped>\n",
              "    .dataframe tbody tr th:only-of-type {\n",
              "        vertical-align: middle;\n",
              "    }\n",
              "\n",
              "    .dataframe tbody tr th {\n",
              "        vertical-align: top;\n",
              "    }\n",
              "\n",
              "    .dataframe thead th {\n",
              "        text-align: right;\n",
              "    }\n",
              "</style>\n",
              "<table border=\"1\" class=\"dataframe\">\n",
              "  <thead>\n",
              "    <tr style=\"text-align: right;\">\n",
              "      <th></th>\n",
              "      <th>future90d_ROI_min</th>\n",
              "      <th>future90d_ROI_max</th>\n",
              "      <th>future90d_ROI_mean</th>\n",
              "      <th>future90d_ROI_std</th>\n",
              "    </tr>\n",
              "  </thead>\n",
              "  <tbody>\n",
              "    <tr>\n",
              "      <th>0</th>\n",
              "      <td>-83.710800</td>\n",
              "      <td>3171.652729</td>\n",
              "      <td>82.507299</td>\n",
              "      <td>267.653950</td>\n",
              "    </tr>\n",
              "    <tr>\n",
              "      <th>1</th>\n",
              "      <td>58.665282</td>\n",
              "      <td>654.520264</td>\n",
              "      <td>255.238370</td>\n",
              "      <td>115.198540</td>\n",
              "    </tr>\n",
              "    <tr>\n",
              "      <th>2</th>\n",
              "      <td>102.243083</td>\n",
              "      <td>265.269561</td>\n",
              "      <td>179.493701</td>\n",
              "      <td>81.846918</td>\n",
              "    </tr>\n",
              "    <tr>\n",
              "      <th>3</th>\n",
              "      <td>124.929316</td>\n",
              "      <td>391.235202</td>\n",
              "      <td>261.056437</td>\n",
              "      <td>72.786283</td>\n",
              "    </tr>\n",
              "  </tbody>\n",
              "</table>\n",
              "</div>"
            ],
            "text/plain": [
              "   future90d_ROI_min  future90d_ROI_max  future90d_ROI_mean  future90d_ROI_std\n",
              "0         -83.710800        3171.652729           82.507299         267.653950\n",
              "1          58.665282         654.520264          255.238370         115.198540\n",
              "2         102.243083         265.269561          179.493701          81.846918\n",
              "3         124.929316         391.235202          261.056437          72.786283"
            ]
          },
          "metadata": {
            "tags": []
          },
          "execution_count": 82
        }
      ]
    },
    {
      "cell_type": "code",
      "metadata": {
        "id": "mN1oo-4V1Mf-",
        "colab_type": "code",
        "colab": {
          "base_uri": "https://localhost:8080/",
          "height": 294
        },
        "outputId": "707fe6a7-8487-4912-bee9-6fec7040c50b"
      },
      "source": [
        "df90_PM=df_90[['PM','PM_future90d','labels90']].groupby('labels90').agg(['min', 'max','mean','std'])\n",
        "df90_PM=df90_PM.transpose()\n",
        "df90_PM"
      ],
      "execution_count": 83,
      "outputs": [
        {
          "output_type": "execute_result",
          "data": {
            "text/html": [
              "<div>\n",
              "<style scoped>\n",
              "    .dataframe tbody tr th:only-of-type {\n",
              "        vertical-align: middle;\n",
              "    }\n",
              "\n",
              "    .dataframe tbody tr th {\n",
              "        vertical-align: top;\n",
              "    }\n",
              "\n",
              "    .dataframe thead th {\n",
              "        text-align: right;\n",
              "    }\n",
              "</style>\n",
              "<table border=\"1\" class=\"dataframe\">\n",
              "  <thead>\n",
              "    <tr style=\"text-align: right;\">\n",
              "      <th></th>\n",
              "      <th>labels90</th>\n",
              "      <th>0</th>\n",
              "      <th>1</th>\n",
              "      <th>2</th>\n",
              "      <th>3</th>\n",
              "    </tr>\n",
              "  </thead>\n",
              "  <tbody>\n",
              "    <tr>\n",
              "      <th rowspan=\"4\" valign=\"top\">PM</th>\n",
              "      <th>min</th>\n",
              "      <td>0.081659</td>\n",
              "      <td>9.833799</td>\n",
              "      <td>97.428060</td>\n",
              "      <td>37.052913</td>\n",
              "    </tr>\n",
              "    <tr>\n",
              "      <th>max</th>\n",
              "      <td>11.224044</td>\n",
              "      <td>35.803533</td>\n",
              "      <td>128.418139</td>\n",
              "      <td>80.100067</td>\n",
              "    </tr>\n",
              "    <tr>\n",
              "      <th>mean</th>\n",
              "      <td>1.451989</td>\n",
              "      <td>19.782012</td>\n",
              "      <td>113.940949</td>\n",
              "      <td>51.694165</td>\n",
              "    </tr>\n",
              "    <tr>\n",
              "      <th>std</th>\n",
              "      <td>1.415466</td>\n",
              "      <td>7.027061</td>\n",
              "      <td>15.595009</td>\n",
              "      <td>11.667708</td>\n",
              "    </tr>\n",
              "    <tr>\n",
              "      <th rowspan=\"4\" valign=\"top\">PM_future90d</th>\n",
              "      <th>min</th>\n",
              "      <td>0.081659</td>\n",
              "      <td>1.973925</td>\n",
              "      <td>7.747271</td>\n",
              "      <td>4.213835</td>\n",
              "    </tr>\n",
              "    <tr>\n",
              "      <th>max</th>\n",
              "      <td>19.007623</td>\n",
              "      <td>49.639999</td>\n",
              "      <td>35.803533</td>\n",
              "      <td>46.100227</td>\n",
              "    </tr>\n",
              "    <tr>\n",
              "      <th>mean</th>\n",
              "      <td>1.331826</td>\n",
              "      <td>7.853274</td>\n",
              "      <td>18.528135</td>\n",
              "      <td>14.142391</td>\n",
              "    </tr>\n",
              "    <tr>\n",
              "      <th>std</th>\n",
              "      <td>1.178312</td>\n",
              "      <td>6.241299</td>\n",
              "      <td>15.113659</td>\n",
              "      <td>12.325864</td>\n",
              "    </tr>\n",
              "  </tbody>\n",
              "</table>\n",
              "</div>"
            ],
            "text/plain": [
              "labels90                   0          1           2          3\n",
              "PM           min    0.081659   9.833799   97.428060  37.052913\n",
              "             max   11.224044  35.803533  128.418139  80.100067\n",
              "             mean   1.451989  19.782012  113.940949  51.694165\n",
              "             std    1.415466   7.027061   15.595009  11.667708\n",
              "PM_future90d min    0.081659   1.973925    7.747271   4.213835\n",
              "             max   19.007623  49.639999   35.803533  46.100227\n",
              "             mean   1.331826   7.853274   18.528135  14.142391\n",
              "             std    1.178312   6.241299   15.113659  12.325864"
            ]
          },
          "metadata": {
            "tags": []
          },
          "execution_count": 83
        }
      ]
    },
    {
      "cell_type": "code",
      "metadata": {
        "id": "YcZJBkfW1l41",
        "colab_type": "code",
        "colab": {
          "base_uri": "https://localhost:8080/",
          "height": 609
        },
        "outputId": "363f06db-e955-419e-c532-c24199e4092e"
      },
      "source": [
        "df90_PM.iloc[0:4].plot(kind='bar',figsize=(14, 10))\n",
        "plt.title('PM ratio on buy-in date by Clustering Categories',fontsize=16)\n",
        "plt.xticks(rotation=360)\n",
        "plt.savefig('90PM_full_buyin')"
      ],
      "execution_count": 84,
      "outputs": [
        {
          "output_type": "display_data",
          "data": {
            "image/png": "[encoded data removed]",
            "text/plain": [
              "<Figure size 1008x720 with 1 Axes>"
            ]
          },
          "metadata": {
            "tags": [],
            "needs_background": "light"
          }
        }
      ]
    },
    {
      "cell_type": "code",
      "metadata": {
        "id": "a2I3qvU32ucA",
        "colab_type": "code",
        "colab": {
          "base_uri": "https://localhost:8080/",
          "height": 610
        },
        "outputId": "d5de5490-db81-4d49-82c5-0cf909e0a1ab"
      },
      "source": [
        "df90_PM.iloc[4:8].plot(kind='bar',figsize=(14, 10))\n",
        "plt.title('PM ratio on sell-out date by Clustering Categories',fontsize=16)\n",
        "plt.xticks(rotation=360)\n",
        "plt.savefig('90PM_full_sell-out')"
      ],
      "execution_count": 85,
      "outputs": [
        {
          "output_type": "display_data",
          "data": {
            "image/png": "[encoded data removed]",
            "text/plain": [
              "<Figure size 1008x720 with 1 Axes>"
            ]
          },
          "metadata": {
            "tags": [],
            "needs_background": "light"
          }
        }
      ]
    },
    {
      "cell_type": "code",
      "metadata": {
        "id": "qoHKVGP71Oan",
        "colab_type": "code",
        "colab": {
          "base_uri": "https://localhost:8080/",
          "height": 171
        },
        "outputId": "1d1a10e9-c6f3-4b5b-d6ac-c9ddc6948f20"
      },
      "source": [
        "df_90_ROI=df_90_ROI.transpose()\n",
        "df_90_ROI.columns=['labels90=0', 'labels90=1','labels90=2', 'labels90=3']\n",
        "df_90_ROI.head()"
      ],
      "execution_count": 86,
      "outputs": [
        {
          "output_type": "execute_result",
          "data": {
            "text/html": [
              "<div>\n",
              "<style scoped>\n",
              "    .dataframe tbody tr th:only-of-type {\n",
              "        vertical-align: middle;\n",
              "    }\n",
              "\n",
              "    .dataframe tbody tr th {\n",
              "        vertical-align: top;\n",
              "    }\n",
              "\n",
              "    .dataframe thead th {\n",
              "        text-align: right;\n",
              "    }\n",
              "</style>\n",
              "<table border=\"1\" class=\"dataframe\">\n",
              "  <thead>\n",
              "    <tr style=\"text-align: right;\">\n",
              "      <th></th>\n",
              "      <th>labels90=0</th>\n",
              "      <th>labels90=1</th>\n",
              "      <th>labels90=2</th>\n",
              "      <th>labels90=3</th>\n",
              "    </tr>\n",
              "  </thead>\n",
              "  <tbody>\n",
              "    <tr>\n",
              "      <th>future90d_ROI_min</th>\n",
              "      <td>-83.710800</td>\n",
              "      <td>58.665282</td>\n",
              "      <td>102.243083</td>\n",
              "      <td>124.929316</td>\n",
              "    </tr>\n",
              "    <tr>\n",
              "      <th>future90d_ROI_max</th>\n",
              "      <td>3171.652729</td>\n",
              "      <td>654.520264</td>\n",
              "      <td>265.269561</td>\n",
              "      <td>391.235202</td>\n",
              "    </tr>\n",
              "    <tr>\n",
              "      <th>future90d_ROI_mean</th>\n",
              "      <td>82.507299</td>\n",
              "      <td>255.238370</td>\n",
              "      <td>179.493701</td>\n",
              "      <td>261.056437</td>\n",
              "    </tr>\n",
              "    <tr>\n",
              "      <th>future90d_ROI_std</th>\n",
              "      <td>267.653950</td>\n",
              "      <td>115.198540</td>\n",
              "      <td>81.846918</td>\n",
              "      <td>72.786283</td>\n",
              "    </tr>\n",
              "  </tbody>\n",
              "</table>\n",
              "</div>"
            ],
            "text/plain": [
              "                     labels90=0  labels90=1  labels90=2  labels90=3\n",
              "future90d_ROI_min    -83.710800   58.665282  102.243083  124.929316\n",
              "future90d_ROI_max   3171.652729  654.520264  265.269561  391.235202\n",
              "future90d_ROI_mean    82.507299  255.238370  179.493701  261.056437\n",
              "future90d_ROI_std    267.653950  115.198540   81.846918   72.786283"
            ]
          },
          "metadata": {
            "tags": []
          },
          "execution_count": 86
        }
      ]
    },
    {
      "cell_type": "code",
      "metadata": {
        "id": "dbBLspgg1QWN",
        "colab_type": "code",
        "colab": {
          "base_uri": "https://localhost:8080/",
          "height": 610
        },
        "outputId": "c08af8df-613d-4a50-dad6-e3b9939c012e"
      },
      "source": [
        "df_90_ROI.plot(kind='bar',figsize=(14, 10))\n",
        "plt.title('The Statitiscs of Future 90-day ROI by PM Ratio Clustering Categories',fontsize=16)\n",
        "plt.xticks(rotation=360)\n",
        "plt.savefig('90ROI_fullPM')"
      ],
      "execution_count": 87,
      "outputs": [
        {
          "output_type": "display_data",
          "data": {
            "image/png": "[encoded data removed]",
            "text/plain": [
              "<Figure size 1008x720 with 1 Axes>"
            ]
          },
          "metadata": {
            "tags": [],
            "needs_background": "light"
          }
        }
      ]
    },
    {
      "cell_type": "code",
      "metadata": {
        "id": "P0I3Iv0f1UVg",
        "colab_type": "code",
        "colab": {}
      },
      "source": [
        "df.to_csv('btc_Kmeans_2020_07_05.csv')"
      ],
      "execution_count": 88,
      "outputs": []
    },
    {
      "cell_type": "code",
      "metadata": {
        "id": "g82sXT4Y3KL1",
        "colab_type": "code",
        "colab": {}
      },
      "source": [
        ""
      ],
      "execution_count": 88,
      "outputs": []
    }
  ]
}