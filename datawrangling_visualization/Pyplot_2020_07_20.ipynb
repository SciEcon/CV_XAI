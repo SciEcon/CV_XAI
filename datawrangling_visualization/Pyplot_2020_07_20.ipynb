{
  "nbformat": 4,
  "nbformat_minor": 0,
  "metadata": {
    "colab": {
      "name": "Pyplot_2020_07_03.ipynb",
      "provenance": [],
      "private_outputs": true,
      "mount_file_id": "https://github.com/sunshineluyao/CV_ML/blob/master/datawrangling_visualization/Pyplot_2020_07_03.ipynb",
      "authorship_tag": "ABX9TyPapyeqfCwU/LRGD7oJjZ2h",
      "include_colab_link": true
    },
    "kernelspec": {
      "name": "python3",
      "display_name": "Python 3"
    }
  },
  "cells": [
    {
      "cell_type": "markdown",
      "metadata": {
        "id": "view-in-github",
        "colab_type": "text"
      },
      "source": [
        "<a href=\"https://colab.research.google.com/github/sunshineluyao/CV_ML/blob/master/datawrangling_visualization/Pyplot_2020_07_20.ipynb\" target=\"_parent\"><img src=\"https://colab.research.google.com/assets/colab-badge.svg\" alt=\"Open In Colab\"/></a>"
      ]
    },
    {
      "cell_type": "code",
      "metadata": {
        "id": "ZDm8SLtphqap",
        "colab_type": "code",
        "colab": {}
      },
      "source": [
        "### be sure to provide the raw link\n",
        "import pandas as pd\n",
        "import numpy as np\n",
        "df_Volume=pd.read_csv(\"https://raw.githubusercontent.com/sunshineluyao/Fintech_AI/master/data/Volume_2020_07_02.csv\")\n",
        "df_Volume.head()"
      ],
      "execution_count": null,
      "outputs": []
    },
    {
      "cell_type": "code",
      "metadata": {
        "id": "hIaY6CT-iR8N",
        "colab_type": "code",
        "colab": {}
      },
      "source": [
        "#set \"date\" column as the index\n",
        "df_Volume.set_index('Unnamed: 0', inplace=True)\n",
        "#to remove the name of the index\n",
        "df_Volume.index.name=None\n",
        "df_Volume.tail()"
      ],
      "execution_count": null,
      "outputs": []
    },
    {
      "cell_type": "code",
      "metadata": {
        "id": "_ILdciq9imZL",
        "colab_type": "code",
        "colab": {}
      },
      "source": [
        "df_CM=pd.read_csv(\"https://raw.githubusercontent.com/sunshineluyao/Fintech_AI/master/data/CM_2020_07_01.csv\")\n",
        "df_CM.head()"
      ],
      "execution_count": null,
      "outputs": []
    },
    {
      "cell_type": "code",
      "metadata": {
        "id": "UGCwFjroi5V5",
        "colab_type": "code",
        "colab": {}
      },
      "source": [
        "#set \"date\" column as the index\n",
        "df_CM.set_index('Unnamed: 0', inplace=True)\n",
        "#to remove the name of the index\n",
        "df_CM.index.name=None\n",
        "df_CM.tail()"
      ],
      "execution_count": null,
      "outputs": []
    },
    {
      "cell_type": "code",
      "metadata": {
        "id": "tGafd9TLi-i5",
        "colab_type": "code",
        "colab": {}
      },
      "source": [
        "df_UTXO=pd.read_csv(\"https://raw.githubusercontent.com/sunshineluyao/Fintech_AI/master/data/UTXO_2020_07_03.csv\")\n",
        "df_UTXO.head()"
      ],
      "execution_count": null,
      "outputs": []
    },
    {
      "cell_type": "code",
      "metadata": {
        "id": "w16KdsO2jfsL",
        "colab_type": "code",
        "colab": {}
      },
      "source": [
        "#set \"date\" column as the index\n",
        "df_UTXO.set_index('Unnamed: 0', inplace=True)\n",
        "#to remove the name of the index\n",
        "df_UTXO.index.name=None\n",
        "df_UTXO.tail()"
      ],
      "execution_count": null,
      "outputs": []
    },
    {
      "cell_type": "code",
      "metadata": {
        "id": "KqtvAQZljucg",
        "colab_type": "code",
        "colab": {}
      },
      "source": [
        "###merge two dataframes\n",
        "##merge two datasets on dates that apply to both\n",
        "\n",
        "###pd.merge(left, right, how='inner', on=None, left_on=None, right_on=None,\n",
        "        ### left_index=False, right_index=False, sort=True,\n",
        "         ###suffixes=('_x', '_y'), copy=True, indicator=False,\n",
        "         ###validate=None)\n",
        "df_btc = pd.merge(df_CM, df_Volume, how='outer', left_index=True, right_index=True)\n",
        "df_btc.head()"
      ],
      "execution_count": null,
      "outputs": []
    },
    {
      "cell_type": "code",
      "metadata": {
        "id": "OfPrNjbDuCjp",
        "colab_type": "code",
        "colab": {}
      },
      "source": [
        "df_btc.tail()"
      ],
      "execution_count": null,
      "outputs": []
    },
    {
      "cell_type": "code",
      "metadata": {
        "id": "J6Oln7HNsdVA",
        "colab_type": "code",
        "colab": {}
      },
      "source": [
        "import matplotlib.pyplot as plt\n",
        "import matplotlib.dates as mdates\n",
        "df_btc.index=pd.to_datetime(df_btc.index)"
      ],
      "execution_count": null,
      "outputs": []
    },
    {
      "cell_type": "code",
      "metadata": {
        "id": "QNS-bR9bskUm",
        "colab_type": "code",
        "colab": {}
      },
      "source": [
        "print(plt.style.available)\n",
        "####Check different styles here: https://matplotlib.org/3.1.1/gallery/style_sheets/style_sheets_reference.html"
      ],
      "execution_count": null,
      "outputs": []
    },
    {
      "cell_type": "code",
      "metadata": {
        "id": "x5EPyUU6sl9F",
        "colab_type": "code",
        "colab": {}
      },
      "source": [
        "plt.style.use('seaborn-bright')"
      ],
      "execution_count": null,
      "outputs": []
    },
    {
      "cell_type": "code",
      "metadata": {
        "id": "qt06lBQ6sn2W",
        "colab_type": "code",
        "colab": {}
      },
      "source": [
        "### Plot The number of block produced daily in the Bitcoin system.\n",
        "ax = df_btc['BlkCnt'].plot(color='blue', figsize=(14, 10), linewidth=2, fontsize=16)\n",
        "\n",
        "# Specify the x-axis label in your plot\n",
        "ax.set_xlabel('Date',fontsize=14)\n",
        "\n",
        "# Specify the title in your plot\n",
        "ax.set_title('The number of blocks produced daily in the Bitcoin system from 2009-1-13 to 2020-7-01', fontsize=16)\n",
        "\n",
        "\n",
        "# Show plot\n",
        "plt.savefig('btc_blockdaily')"
      ],
      "execution_count": null,
      "outputs": []
    },
    {
      "cell_type": "code",
      "metadata": {
        "id": "h2gtjOp1s8IA",
        "colab_type": "code",
        "colab": {}
      },
      "source": [
        "print(df_btc['BlkCnt'].mean())"
      ],
      "execution_count": null,
      "outputs": []
    },
    {
      "cell_type": "code",
      "metadata": {
        "id": "kGxq5tLCvG5T",
        "colab_type": "code",
        "colab": {}
      },
      "source": [
        "### Plot The Boxplot for number of block produced daily in the Bitcoin system.\n",
        "###Check the types of plot: https://pandas.pydata.org/pandas-docs/version/0.23.4/generated/pandas.DataFrame.plot.html\n",
        "ax = df_btc['BlkCnt'].plot(kind='box', color='green', figsize=(14, 10), fontsize=16)\n",
        "\n",
        "\n",
        "# Specify the title in your plot\n",
        "ax.set_title('The number of blocks produced daily in the Bitcoin system from 2009-1-13 to 2020-2-13', fontsize=16)\n",
        "ax.set_ylabel('The mean of daily produced blocks is 152.39', fontsize=16)\n",
        "\n",
        "\n",
        "# Add a red horizontal line for the mean\n",
        "ax.axhline(151.80014292520246, color='red', linestyle='--')\n",
        "# Show plot\n",
        "plt.savefig('btc_blockdaily_boxplot')"
      ],
      "execution_count": null,
      "outputs": []
    },
    {
      "cell_type": "code",
      "metadata": {
        "id": "oi3b7R5WvLAi",
        "colab_type": "code",
        "colab": {}
      },
      "source": [
        "plt.show()"
      ],
      "execution_count": null,
      "outputs": []
    },
    {
      "cell_type": "code",
      "metadata": {
        "id": "GVCHwniIvOPB",
        "colab_type": "code",
        "colab": {}
      },
      "source": [
        "#### Plot The number and accumulated number of BTC minted daily in scatter plot and the total BTC minted in line plot\n",
        "###Check all color maps here https://matplotlib.org/3.1.0/tutorials/colors/colormaps.html\n",
        "ax = df_btc[['IssTotNtv','SplyCur']].plot(figsize=(14, 10), linewidth=2, fontsize=16,subplots=True,legend=False, sharex=True, layout=(2,1))\n",
        "ax[0][0].set_title('The number of BTC minted daily from 2009-1-13 to 2020-7-1',fontsize=16)\n",
        "ax[1][0].set_title('The accumulated number of BTC minted daily from 2009-1-13 to 2020-7-1',fontsize=16)\n",
        "ax[0][0].set_ylim([0,15000])\n",
        "# Add a red vertical line for the first halving date\n",
        "ax[0][0].axvline('2012-11-28', color='red', linestyle='--')\n",
        "ax[1][0].axvline('2012-11-28', color='red', linestyle='--')\n",
        "ax[0][0].annotate('the first halving date 2012-11-28',\n",
        "            xy=('2012-12-28', 25000), \n",
        "            horizontalalignment='left', verticalalignment='top',fontsize=12)\n",
        "# Add a red vertical line for the second halving date\n",
        "ax[0][0].axvline('2016-07-09', color='red', linestyle='--')\n",
        "ax[1][0].axvline('2016-07-09', color='red', linestyle='--')\n",
        "ax[0][0].annotate('the second halving date 2016-07-09',\n",
        "            xy=('2016-08-09', 20000), \n",
        "            horizontalalignment='left', verticalalignment='top',fontsize=12)\n",
        "# Add a red vertical line for the third halving date\n",
        "ax[0][0].axvline('2020-05-11', color='red', linestyle='--')\n",
        "ax[1][0].axvline('2020-05-11', color='red', linestyle='--')\n",
        "ax[0][0].annotate('the third halving date 2020-05-11',\n",
        "            xy=('2020-06-11', 20000), \n",
        "            horizontalalignment='left', verticalalignment='top',fontsize=12)\n",
        "plt.savefig('btc_halving')\n"
      ],
      "execution_count": null,
      "outputs": []
    },
    {
      "cell_type": "code",
      "metadata": {
        "id": "sm7n7-Hnv9xb",
        "colab_type": "code",
        "colab": {}
      },
      "source": [
        "####Calculate the annualized Bitcoin dilution rate \n",
        "####More about Rolling average here: https://pandas.pydata.org/pandas-docs/stable/reference/api/pandas.DataFrame.rolling.html\n",
        "####annualized dilution rate in percentage=100*365*the moving average of the number of generated btc in the past 30 days/total generated btc\n",
        "df_btc['Annualized_DilutionRate']=100*365*df_btc['IssTotNtv'].rolling(window=30).mean()/df_btc['SplyCur']"
      ],
      "execution_count": null,
      "outputs": []
    },
    {
      "cell_type": "code",
      "metadata": {
        "id": "mEj4THYGEffK",
        "colab_type": "code",
        "colab": {}
      },
      "source": [
        "### Plot The annualized Bitcoin dilution rate in percentage.\n",
        "ax = df_btc['Annualized_DilutionRate'].plot(color='blue', figsize=(14, 10), linewidth=2, fontsize=16)\n",
        "\n",
        "# Specify the x-axis label in your plot\n",
        "ax.set_xlabel('Date',fontsize=16)\n",
        "\n",
        "# Specify the title in your plot\n",
        "ax.set_title('The annualized Bitcoin dilution rate in percentage from 2009-1-13 to 2020-7-1', fontsize=16)\n",
        "\n",
        "\n",
        "# Show plot\n",
        "plt.savefig('btc_dilution')"
      ],
      "execution_count": null,
      "outputs": []
    },
    {
      "cell_type": "code",
      "metadata": {
        "id": "GpX_loKqErbU",
        "colab_type": "code",
        "colab": {}
      },
      "source": [
        "#### Plot the on-chain transaction volume and off-chain transaction volume\n",
        "ax = df_btc[['TxTfrValAdjUSD','Volume']]['2010-07-18': ].plot(figsize=(14, 10), linewidth=2, fontsize=16,subplots=True,legend=False, sharex=True, layout=(2,1))\n",
        "ax[0][0].set_title('The on-chain daily transaction volume in USD USD from 2010-7-18 to 2020-7-1',fontsize=16)\n",
        "ax[1][0].set_title('The off-chain daily transaction volume in USD from 2013-4-29 to 2020-7-1',fontsize=16)\n",
        "ax[1][0].axvline('2013-12-27', color='red', linestyle='--')\n",
        "ax[1][0].annotate('the first day for recorded positive off-chain transaction volume:2013-12-27',\n",
        "            xy=('2010-08-18', 5000000000), \n",
        "            horizontalalignment='left', verticalalignment='top',fontsize=12)\n",
        "ax[0][0].set_yscale('log')\n",
        "ax[1][0].set_yscale('log')\n",
        "plt.savefig('btc_volume_two.png')"
      ],
      "execution_count": null,
      "outputs": []
    },
    {
      "cell_type": "code",
      "metadata": {
        "id": "gsELIeaTJ1sA",
        "colab_type": "code",
        "colab": {}
      },
      "source": [
        "###calculate the total transaction volume\n",
        "####calculate daily Revenue \n",
        "df_btc['Total daily transaction volume']=df_btc['TxTfrValAdjUSD']+df_btc['Volume']\n",
        "df_btc['Total daily transaction volume']['2010-07-18':'2013-4-28']=df_btc['TxTfrValAdjUSD']['2010-07-18':'2013-4-28']\n",
        "df_btc[['Total daily transaction volume','TxTfrValAdjUSD','Volume']]['2010-07-18':'2013-4-28']"
      ],
      "execution_count": null,
      "outputs": []
    },
    {
      "cell_type": "code",
      "metadata": {
        "id": "f3s29sO6KhbG",
        "colab_type": "code",
        "colab": {}
      },
      "source": [
        "###Plot total daily transaction volume\n",
        "ax = df_btc['Total daily transaction volume']['2010-07-18':].plot(color='blue', figsize=(14, 10), linewidth=2, fontsize=16)\n",
        "\n",
        "# Specify the x-axis label in your plot\n",
        "ax.set_xlabel('Date',fontsize=16)\n",
        "\n",
        "# Specify the title in your plot\n",
        "ax.set_title('The total daily transaction volume from 2010-07-18 to 2020-7-1', fontsize=16)\n",
        "\n",
        "# Show plot\n",
        "ax.set_yscale('log')\n",
        "plt.savefig('btc_volume_total')"
      ],
      "execution_count": null,
      "outputs": []
    },
    {
      "cell_type": "code",
      "metadata": {
        "id": "2Vox5edFKoQH",
        "colab_type": "code",
        "colab": {}
      },
      "source": [
        "####Calculate the velocity\n",
        "####More about Rolling average here: https://pandas.pydata.org/pandas-docs/stable/reference/api/pandas.DataFrame.rolling.html\n",
        "####The velocity in percentage=100*the moving average of the volumn in the past 90 days/total market cap\n",
        "df_btc['Velocity']=100*df_btc['Total daily transaction volume'].rolling(window=90).mean()/df_btc['CapMrktCurUSD']"
      ],
      "execution_count": null,
      "outputs": []
    },
    {
      "cell_type": "code",
      "metadata": {
        "id": "scnI2lzdLIer",
        "colab_type": "code",
        "colab": {}
      },
      "source": [
        "### Plot The Bitcoin velocity in percentage\n",
        "ax = df_btc['Velocity']['2010-07-18':].plot(color='blue', figsize=(14, 10), linewidth=2, fontsize=16)\n",
        "\n",
        "# Specify the x-axis label in your plot\n",
        "ax.set_xlabel('Date',fontsize=16)\n",
        "\n",
        "# Specify the title in your plot\n",
        "ax.set_title('The Bitcoin velocity from 2010-07-18 to 2020-2-13', fontsize=16)\n",
        "\n",
        "# Show plot\n",
        "plt.savefig('btc_velocity')"
      ],
      "execution_count": null,
      "outputs": []
    },
    {
      "cell_type": "code",
      "metadata": {
        "id": "LT_CtHtULNAW",
        "colab_type": "code",
        "colab": {}
      },
      "source": [
        "####Exploring the age of bitcoin\n",
        "df_UTXO.info()\n",
        "###the column marked with y are accumulated values and the column marked with text are interval values"
      ],
      "execution_count": null,
      "outputs": []
    },
    {
      "cell_type": "code",
      "metadata": {
        "id": "nb_ETkcUL1YL",
        "colab_type": "code",
        "colab": {}
      },
      "source": [
        "# check missing value\n",
        "df_UTXO.isnull().sum()"
      ],
      "execution_count": null,
      "outputs": []
    },
    {
      "cell_type": "code",
      "metadata": {
        "id": "utZ0uTB7L50I",
        "colab_type": "code",
        "colab": {}
      },
      "source": [
        "#generate the variable indicating the percentage of bitcoin between <1 year\n",
        "df_UTXO['<1year']=df_UTXO['6-12m, y']\n",
        "df_UTXO.tail()"
      ],
      "execution_count": null,
      "outputs": []
    },
    {
      "cell_type": "code",
      "metadata": {
        "id": "gcT2db2JMADi",
        "colab_type": "code",
        "colab": {}
      },
      "source": [
        "#generate the variable indicating the percentage of bitcoin between 1-2 year\n",
        "df_UTXO['1-2year']=df_UTXO['18-24m, y']-df_UTXO['6-12m, y']\n",
        "df_UTXO['1-2year'].tail()"
      ],
      "execution_count": null,
      "outputs": []
    },
    {
      "cell_type": "code",
      "metadata": {
        "id": "WvZ-aXYYNo5g",
        "colab_type": "code",
        "colab": {}
      },
      "source": [
        "#generate the variable indicating the percentage of bitcoin between 2-3 year\n",
        "df_UTXO['2-3year']=df_UTXO['2-3y, y']-df_UTXO['18-24m, y']\n",
        "df_UTXO['2-3year'].tail()"
      ],
      "execution_count": null,
      "outputs": []
    },
    {
      "cell_type": "code",
      "metadata": {
        "id": "GcRM3Uk6NwkX",
        "colab_type": "code",
        "colab": {}
      },
      "source": [
        "#generate the variable indicating the percentage of bitcoin between 3-5 year\n",
        "df_UTXO['3-5year']=df_UTXO['3-5y, y']-df_UTXO['2-3y, y']\n",
        "df_UTXO['3-5year'].tail()"
      ],
      "execution_count": null,
      "outputs": []
    },
    {
      "cell_type": "code",
      "metadata": {
        "id": "ArGnIcJNN3cB",
        "colab_type": "code",
        "colab": {}
      },
      "source": [
        "#generate the variable indicating the percentage of bitcoin for more than 5 year\n",
        "df_UTXO['>5year']=df_UTXO['>5y, y']-df_UTXO['3-5y, y']\n",
        "df_UTXO['>5year'].tail()"
      ],
      "execution_count": null,
      "outputs": []
    },
    {
      "cell_type": "code",
      "metadata": {
        "id": "_NEQeKHjN-b8",
        "colab_type": "code",
        "colab": {}
      },
      "source": [
        "#check if all adds up to 1\n",
        "df_UTXO['total']=df_UTXO['<1year']+df_UTXO['1-2year']+df_UTXO['2-3year']+df_UTXO['3-5year']+df_UTXO['>5year']\n",
        "df_UTXO.tail()"
      ],
      "execution_count": null,
      "outputs": []
    },
    {
      "cell_type": "code",
      "metadata": {
        "id": "IT-P1YxIOKsk",
        "colab_type": "code",
        "colab": {}
      },
      "source": [
        "range(len(df_UTXO.index))"
      ],
      "execution_count": null,
      "outputs": []
    },
    {
      "cell_type": "code",
      "metadata": {
        "id": "Zh0LdPPTOaQ8",
        "colab_type": "code",
        "colab": {}
      },
      "source": [
        "df_UTXO=df_UTXO[['<1year','1-2year','2-3year','3-5year','>5year']]"
      ],
      "execution_count": null,
      "outputs": []
    },
    {
      "cell_type": "code",
      "metadata": {
        "id": "s6vLWyWJORVT",
        "colab_type": "code",
        "colab": {}
      },
      "source": [
        "df_UTXO[['<1year','1-2year','2-3year','3-5year','>5year']]=100*df_UTXO[['<1year','1-2year','2-3year','3-5year','>5year']]"
      ],
      "execution_count": null,
      "outputs": []
    },
    {
      "cell_type": "code",
      "metadata": {
        "id": "UdVxy52aOqG0",
        "colab_type": "code",
        "colab": {}
      },
      "source": [
        "df_UTXO.index=pd.to_datetime(df_UTXO.index)"
      ],
      "execution_count": null,
      "outputs": []
    },
    {
      "cell_type": "code",
      "metadata": {
        "id": "lJee_OFcOdl0",
        "colab_type": "code",
        "colab": {}
      },
      "source": [
        "plt.figure(figsize=(14, 10))\n",
        "df_UTXO[['<1year','1-2year','2-3year','3-5year','>5year']].plot.area(figsize=(14,10), fontsize=16)\n",
        "plt.xlabel('Date',fontsize=16)\n",
        "plt.ylabel('Percentage',fontsize=16)\n",
        "plt.title('The percentage of BTC with difference ages',fontsize=16)\n",
        "plt.xticks(rotation=70)\n",
        "plt.savefig('btc_StakedAge.png')"
      ],
      "execution_count": null,
      "outputs": []
    },
    {
      "cell_type": "code",
      "metadata": {
        "id": "jXaJ8a0jOhnP",
        "colab_type": "code",
        "colab": {}
      },
      "source": [
        "###Calculate Staking Ratio in different years\n",
        "df_UTXO['One-year staking ratio']=df_UTXO['1-2year']+df_UTXO['2-3year']+df_UTXO['3-5year']+df_UTXO['>5year']\n",
        "df_UTXO['Two-year staking ratio']=df_UTXO['2-3year']+df_UTXO['3-5year']+df_UTXO['>5year']\n",
        "df_UTXO['Three-year staking ratio']=df_UTXO['3-5year']+df_UTXO['>5year']\n",
        "df_UTXO['Five-year staking ratio']=df_UTXO['>5year']\n",
        "df_UTXO.tail()"
      ],
      "execution_count": null,
      "outputs": []
    },
    {
      "cell_type": "code",
      "metadata": {
        "id": "ykCXPnjwPKPf",
        "colab_type": "code",
        "colab": {}
      },
      "source": [
        "plt.figure(figsize=(14, 10))\n",
        "df_UTXO[['One-year staking ratio','Two-year staking ratio','Three-year staking ratio','Five-year staking ratio']].plot(figsize=(14,10), fontsize=16)\n",
        "plt.xlabel('Date',fontsize=16)\n",
        "plt.ylabel('Percentage',fontsize=16)\n",
        "plt.title('The percentage of BTC with difference ages',fontsize=16)\n",
        "plt.xticks(rotation=70)\n",
        "plt.savefig('btc_SR.png')"
      ],
      "execution_count": null,
      "outputs": []
    },
    {
      "cell_type": "code",
      "metadata": {
        "id": "XxGY0GLmPQj_",
        "colab_type": "code",
        "colab": {}
      },
      "source": [
        "#### Plot bitcoin price and the market cap\n",
        "ax = df_btc[['PriceUSD','CapMrktCurUSD']]['2010-07-08': ].plot(figsize=(14, 10), linewidth=2, fontsize=16,subplots=True,legend=False, sharex=True, layout=(2,1))\n",
        "ax[0][0].set_title('The bitcoin price in USD from 2010-7-18 to 2020-7-1',fontsize=16)\n",
        "ax[1][0].set_title('The market cap in USD from 2010-7-18 to 2020-7-1',fontsize=16)\n",
        "plt.savefig('btc_P_M.png')"
      ],
      "execution_count": null,
      "outputs": []
    },
    {
      "cell_type": "code",
      "metadata": {
        "id": "UuLkIbgwPqRJ",
        "colab_type": "code",
        "colab": {}
      },
      "source": [
        "#### Plot bitcoin price and the market cap\n",
        "ax = df_btc[['PriceUSD','CapMrktCurUSD']]['2010-07-08': ].plot(figsize=(14, 10), linewidth=2, fontsize=16,subplots=True,legend=False, sharex=True, layout=(2,1))\n",
        "ax[0][0].set_title('The BTC price in USD from 2010-7-18 to 2020-7-1',fontsize=16)\n",
        "ax[1][0].set_title('The market cap in USD from 2010-7-18 to 2020-7-1',fontsize=16)\n",
        "ax[0][0].set_yscale('log')\n",
        "ax[1][0].set_yscale('log')\n",
        "plt.savefig('btc_P_M_log.png')"
      ],
      "execution_count": null,
      "outputs": []
    },
    {
      "cell_type": "code",
      "metadata": {
        "id": "s8gXF4u9P9BT",
        "colab_type": "code",
        "colab": {}
      },
      "source": [
        "#####plot Miners' revenue in USD: transaction fees and block rewards\n",
        "ax = df_btc[['FeeTotUSD','IssTotUSD']]['2010-07-08': ].plot(figsize=(14, 10), linewidth=2, fontsize=16,subplots=True,legend=False, sharex=True, layout=(2,1))\n",
        "ax[0][0].set_title('The transaction fees in USD from 2010-7-18 to 2020-7-1',fontsize=16)\n",
        "ax[1][0].set_title('The block rewards in USD from 2010-7-18 to 2020-7-1',fontsize=16)\n",
        "plt.savefig('btc_Revenue.png')"
      ],
      "execution_count": null,
      "outputs": []
    },
    {
      "cell_type": "code",
      "metadata": {
        "id": "9Zypnk6xQOWV",
        "colab_type": "code",
        "colab": {}
      },
      "source": [
        "#####plot Miners' revenue in USD: transaction fees and block rewards\n",
        "ax = df_btc[['FeeTotUSD','IssTotUSD']]['2010-07-08': ].plot(figsize=(14, 10), linewidth=2, fontsize=16,subplots=True,legend=False, sharex=True, layout=(2,1))\n",
        "ax[0][0].set_title('The transaction fees in USD from 2010-7-18 to 2020-7-1',fontsize=16)\n",
        "ax[1][0].set_title('The block rewards in USD from 2010-7-18 to 2020-7-1',fontsize=16)\n",
        "ax[0][0].set_yscale('log')\n",
        "ax[1][0].set_yscale('log')\n",
        "ax[0][0].set_ylim([10,100000000])\n",
        "ax[1][0].set_ylim([1000,100000000])\n",
        "plt.savefig('btc_Revenue_log.png')"
      ],
      "execution_count": null,
      "outputs": []
    },
    {
      "cell_type": "code",
      "metadata": {
        "id": "GqgOxtM8QVqW",
        "colab_type": "code",
        "colab": {}
      },
      "source": [
        "####calculate daily Revenue \n",
        "df_btc['The daily revenue of bitcoin miners']=df_btc['IssTotUSD']+df_btc['FeeTotUSD']\n",
        "###calcualte the accumulated revenue \n",
        "df_btc['The accumulated revenue of bitcoin miners']=df_btc['The daily revenue of bitcoin miners'].cumsum()"
      ],
      "execution_count": null,
      "outputs": []
    },
    {
      "cell_type": "code",
      "metadata": {
        "id": "mcazKJ-cQmVM",
        "colab_type": "code",
        "colab": {}
      },
      "source": [
        "#####plot the daily revenue and the accumulated revenue of bitcoin miners\n",
        "ax = df_btc[['The daily revenue of bitcoin miners','The accumulated revenue of bitcoin miners']]['2010-07-08': ].plot(figsize=(14, 10), linewidth=2, fontsize=16,subplots=True,legend=False, sharex=True, layout=(2,1))\n",
        "ax[0][0].set_title('The daily revenue of miners in USD from 2010-7-18 to 2020-7-1',fontsize=16)\n",
        "ax[1][0].set_title('The accumulated revenue of miners in USD from 2010-7-18 to 2020-7-1',fontsize=16)\n",
        "plt.savefig('btc_Revenue_merged.png')"
      ],
      "execution_count": null,
      "outputs": []
    },
    {
      "cell_type": "code",
      "metadata": {
        "id": "GYcZPag6QobA",
        "colab_type": "code",
        "colab": {}
      },
      "source": [
        "####calculate daily Revenue \n",
        "df_btc['The daily revenue of bitcoin miners']=df_btc['IssTotUSD']+df_btc['FeeTotUSD']\n",
        "###calcualte the accumulated revenue \n",
        "df_btc['The accumulated revenue of bitcoin miners']=df_btc['The daily revenue of bitcoin miners'].cumsum()"
      ],
      "execution_count": null,
      "outputs": []
    },
    {
      "cell_type": "code",
      "metadata": {
        "id": "I1Qdu4mDUEB-",
        "colab_type": "code",
        "colab": {}
      },
      "source": [
        "#####plot the daily revenue and the accumulated revenue of bitcoin miners\n",
        "ax = df_btc[['The daily revenue of bitcoin miners','The accumulated revenue of bitcoin miners']]['2010-07-08': ].plot(figsize=(14, 10), linewidth=2, fontsize=16,subplots=True,legend=False, sharex=True, layout=(2,1))\n",
        "ax[0][0].set_title('The daily revenue of miners in USD from 2010-7-18 to 2020-7-1',fontsize=16)\n",
        "ax[1][0].set_title('The accumulated revenue of miners in USD from 2010-7-18 to 2020-7-1',fontsize=16)\n",
        "plt.savefig('btc_Revenue_merged.png')"
      ],
      "execution_count": null,
      "outputs": []
    },
    {
      "cell_type": "code",
      "metadata": {
        "id": "i5JNF3HWUIjK",
        "colab_type": "code",
        "colab": {}
      },
      "source": [
        "#####plot the daily revenue and the accumulated revenue of bitcoin miners\n",
        "ax = df_btc[['The daily revenue of bitcoin miners','The accumulated revenue of bitcoin miners']]['2010-07-08': ].plot(figsize=(14, 10), linewidth=2, fontsize=16,subplots=True,legend=False, sharex=True, layout=(2,1))\n",
        "ax[0][0].set_title('The daily revenue of miners in USD from 2010-7-18 to 2020-7-1',fontsize=16)\n",
        "ax[1][0].set_title('The accumulated revenue of miners in USD from 2010-7-18 to 2020-7-1',fontsize=16)\n",
        "ax[0][0].set_yscale('log')\n",
        "ax[1][0].set_yscale('log')\n",
        "plt.savefig('btc_Revenue_merged_log.png')"
      ],
      "execution_count": null,
      "outputs": []
    },
    {
      "cell_type": "code",
      "metadata": {
        "id": "zvt9VycyUNqp",
        "colab_type": "code",
        "colab": {}
      },
      "source": [
        "###calculate P/E Ratio=MarketCap/365*the moving average of miner's revenue in the past 365 days\n",
        "df_btc['P/E Ratio']=df_btc['CapMrktCurUSD']/(365*df_btc['The daily revenue of bitcoin miners'])"
      ],
      "execution_count": null,
      "outputs": []
    },
    {
      "cell_type": "code",
      "metadata": {
        "id": "TRqkbRlZUTUo",
        "colab_type": "code",
        "colab": {}
      },
      "source": [
        "#####plot the bitcoin price and the PE Ratio\n",
        "ax = df_btc[['PriceUSD','P/E Ratio']]['2010-07-08': ].plot(figsize=(14, 10), linewidth=2, fontsize=16,subplots=True,legend=False, sharex=True, layout=(2,1))\n",
        "ax[0][0].set_title('The BTC price in USD from 2010-7-18 to 2020-7-1',fontsize=16)\n",
        "ax[1][0].set_title('The P/E Ratio from 2010-7-18 to 2020-7-1',fontsize=16)\n",
        "ax[0][0].set_yscale('log')\n",
        "plt.savefig('btc_PE_log.png')"
      ],
      "execution_count": null,
      "outputs": []
    },
    {
      "cell_type": "code",
      "metadata": {
        "id": "BbLUIfLuUXF2",
        "colab_type": "code",
        "colab": {}
      },
      "source": [
        "#####plot the bitcion price and the NVT 90 Adjusted Ration\n",
        "ax = df_btc[['PriceUSD','NVTAdj90']]['2010-07-08': ].plot(figsize=(14, 10), linewidth=2, fontsize=16,subplots=True,legend=False, sharex=True, layout=(2,1))\n",
        "ax[0][0].set_title('The BTC price in USD from 2010-7-18 to 2020-7-1',fontsize=16)\n",
        "ax[1][0].set_title('The NVT Ratio from 2010-7-18 to 2020-7-1',fontsize=16)\n",
        "ax[0][0].set_yscale('log')\n",
        "plt.savefig('btc_NVT_log.png')"
      ],
      "execution_count": null,
      "outputs": []
    },
    {
      "cell_type": "code",
      "metadata": {
        "id": "zDXDPiDKVYex",
        "colab_type": "code",
        "colab": {}
      },
      "source": [
        "df_btc['Metcalfe']=df_btc['AdrActCnt'].pow(2)\n",
        "df_btc['PM']=df_btc['PriceUSD']/df_btc['Metcalfe']*100000000"
      ],
      "execution_count": null,
      "outputs": []
    },
    {
      "cell_type": "code",
      "metadata": {
        "id": "LsYlLyk5WzfF",
        "colab_type": "code",
        "colab": {}
      },
      "source": [
        "fig, ax1 =plt.subplots()\n",
        "ax1 = df_btc['PriceUSD']['2010-7-18': ].plot(figsize=(14, 10), linewidth=2, fontsize=16, color='blue')\n",
        "plt.legend(loc='upper left')\n",
        "ax2=ax1.twinx()\n",
        "ax2=df_btc['PM']['2010-7-18': ].plot(figsize=(14, 10), linewidth=2, fontsize=16,color='green')\n",
        "ax1.set_yscale('log')\n",
        "ax2.set_yscale('log')\n",
        "plt.title('The BTC price in USD and the PM Ratio from 2010-7-18 to 2020-7-1')\n",
        "plt.legend(loc='best')\n",
        "plt.savefig('btc_PTM.png')"
      ],
      "execution_count": null,
      "outputs": []
    },
    {
      "cell_type": "code",
      "metadata": {
        "id": "bA_lsmaJUt1p",
        "colab_type": "code",
        "colab": {}
      },
      "source": [
        "df_btc.index=pd.to_datetime(df_btc.index)\n",
        "df_UTXO.index=pd.to_datetime(df_UTXO.index)\n",
        "df = pd.merge(df_btc, df_UTXO, how='outer', left_index=True, right_index=True)\n",
        "df.head()"
      ],
      "execution_count": null,
      "outputs": []
    },
    {
      "cell_type": "code",
      "metadata": {
        "id": "cLW4c5R4VHfx",
        "colab_type": "code",
        "colab": {}
      },
      "source": [
        "###token utility=100*velocity*staking ratio/(diluation rate*velocity)\n",
        "df['Token Utility']=df['Velocity']*df['One-year staking ratio']/df['Annualized_DilutionRate']"
      ],
      "execution_count": null,
      "outputs": []
    },
    {
      "cell_type": "code",
      "metadata": {
        "id": "PnxFKxDgVNwH",
        "colab_type": "code",
        "colab": {}
      },
      "source": [
        "#####plot the bitcion price and the token utility\n",
        "ax = df[['PriceUSD','Token Utility']]['2010-07-18': ].plot(figsize=(14, 10), linewidth=2, fontsize=16,subplots=True,legend=False, sharex=True, layout=(2,1))\n",
        "ax[0][0].set_title('The BTC price in USD from 2010-7-18 to 2020-7-1',fontsize=16)\n",
        "ax[1][0].set_title('The Token Utility from 2010-07-18 to 2020-3-27',fontsize=16)\n",
        "ax[0][0].set_yscale('log')\n",
        "ax[1][0].set_yscale('log')\n",
        "plt.savefig('btc_TU_log.png')"
      ],
      "execution_count": null,
      "outputs": []
    },
    {
      "cell_type": "code",
      "metadata": {
        "id": "kaHdTfDNXAlW",
        "colab_type": "code",
        "colab": {}
      },
      "source": [
        "fig, ax1 =plt.subplots()\n",
        "ax1 = df['PriceUSD']['2010-12-18': ].plot(figsize=(14, 10), linewidth=2, fontsize=16, color='blue')\n",
        "plt.legend(loc='upper left')\n",
        "ax2=ax1.twinx()\n",
        "ax2=df['Token Utility']['2010-12-18': ].plot(figsize=(14, 10), linewidth=2, fontsize=16,color='green')\n",
        "ax1.set_yscale('log')\n",
        "ax2.set_yscale('log')\n",
        "plt.title('The BTC price in USD and the token utility from 2013-12-27 to 2020-7-1')\n",
        "plt.legend(loc='best')\n",
        "plt.savefig('btc_TU_log_same.png')"
      ],
      "execution_count": null,
      "outputs": []
    },
    {
      "cell_type": "code",
      "metadata": {
        "id": "qQwAkyJoXkrL",
        "colab_type": "code",
        "colab": {}
      },
      "source": [
        "###Calculate PU Ratio\n",
        "df['PU Ratio']=df['PriceUSD']/df['Token Utility']"
      ],
      "execution_count": null,
      "outputs": []
    },
    {
      "cell_type": "code",
      "metadata": {
        "id": "a15uKmdpbYJD",
        "colab_type": "code",
        "colab": {}
      },
      "source": [
        "ax=df['PU Ratio']['2010-07-18': ].plot(figsize=(14, 10), linewidth=2, fontsize=16, color='blue')\n",
        "ax.axhspan(100, 200, color='green', alpha=0.3)\n",
        "ax.axhline(100, color='red', linestyle='--')\n",
        "ax.axhline(200, color='red', linestyle='--')\n",
        "plt.title('The BTC PU Ratio',fontsize=16)\n",
        "plt.savefig('btc_PU.png')"
      ],
      "execution_count": null,
      "outputs": []
    },
    {
      "cell_type": "code",
      "metadata": {
        "id": "mU0_LLaHbi3y",
        "colab_type": "code",
        "colab": {}
      },
      "source": [
        "#####plot the bitcion price and the PU Ratio\n",
        "ax = df[['PriceUSD','PU Ratio']]['2010-07-18': ].plot(figsize=(14, 10), linewidth=2, fontsize=16,subplots=True,legend=False, sharex=True, layout=(2,1))\n",
        "ax[0][0].set_title('The BTC price in USD from 2010-7-18 to 2020-7-1',fontsize=16)\n",
        "ax[1][0].set_title('The PU Ratio from 2010-07-18 to 2020-3-27',fontsize=16)\n",
        "ax[0][0].set_yscale('log')\n",
        "ax[1][0].set_yscale('log')\n",
        "plt.savefig('btc_PU_log.png')"
      ],
      "execution_count": null,
      "outputs": []
    },
    {
      "cell_type": "code",
      "metadata": {
        "id": "hilrYYU7brNi",
        "colab_type": "code",
        "colab": {}
      },
      "source": [
        "fig, ax1 =plt.subplots()\n",
        "ax1 = df['PriceUSD']['2010-07-18': ].plot(figsize=(14, 10), linewidth=2, fontsize=16, color='blue')\n",
        "plt.legend(loc='upper left')\n",
        "ax2=ax1.twinx()\n",
        "ax2=df['PU Ratio']['2010-07-18': ].plot(figsize=(14, 10), linewidth=2, fontsize=16,color='green')\n",
        "ax1.set_yscale('log')\n",
        "ax2.set_yscale('log')\n",
        "plt.title('The BTC price in USD and the PU Ratio from 2010-7-8 to 2020-7-1')\n",
        "####More about linestyle: https://matplotlib.org/3.1.0/gallery/lines_bars_and_markers/linestyles.html\n",
        "ax2.axhline(60, color='red', linestyle='--')\n",
        "ax2.axhline(100, color='red', linestyle='--')\n",
        "ax2.axhspan(60, 100, color='yellow', alpha=0.3)\n",
        "ax2.axhspan(100, 1000, color='pink', alpha=0.3)\n",
        "ax2.axhspan(0, 60, color='green', alpha=0.3)\n",
        "\n",
        "\n",
        "\n",
        "plt.legend(loc='best')\n",
        "plt.savefig('btc_PU_log_same_2.png')"
      ],
      "execution_count": null,
      "outputs": []
    },
    {
      "cell_type": "code",
      "metadata": {
        "id": "7BBo1VL8fTUY",
        "colab_type": "code",
        "colab": {}
      },
      "source": [
        "df.head()"
      ],
      "execution_count": null,
      "outputs": []
    },
    {
      "cell_type": "code",
      "metadata": {
        "id": "HwRz8XbacVrs",
        "colab_type": "code",
        "colab": {}
      },
      "source": [
        "###The definition of the volatility\n",
        "df['volatility30']=(df['PriceUSD'].pct_change(periods=1)).rolling(window=30).std()\n",
        "df['volatility60']=(df['PriceUSD'].pct_change(periods=1)).rolling(window=60).std()\n",
        "df['volatility90']=(df['PriceUSD'].pct_change(periods=1)).rolling(window=90).std()\n",
        "df['volatility180']=(df['PriceUSD'].pct_change(periods=1)).rolling(window=90).std()"
      ],
      "execution_count": null,
      "outputs": []
    },
    {
      "cell_type": "code",
      "metadata": {
        "id": "PG9WSIeKfQsO",
        "colab_type": "code",
        "colab": {}
      },
      "source": [
        "#######plot Volatility using our own calculation\n",
        "ax = df[['volatility30','volatility60','volatility90','volatility180']]['2010-07-18': ].plot(figsize=(14, 10), linewidth=2, fontsize=16,subplots=True,legend=False, sharex=True, layout=(4,1))\n",
        "ax[0][0].set_title('The 30-day volatility from 2010-07-18 to 2020-7-1',fontsize=16)\n",
        "ax[1][0].set_title('The 60-day volatility from 2010-07-18 to 2020-7-1',fontsize=16)\n",
        "ax[2][0].set_title('The 90-day volatility from 2010-07-18 to 2020-7-1',fontsize=16)\n",
        "ax[3][0].set_title('The 180-day volatility from 2010-07-18 to 2020-7-1',fontsize=16)\n",
        "plt.savefig('btc_volatility.png')"
      ],
      "execution_count": null,
      "outputs": []
    },
    {
      "cell_type": "code",
      "metadata": {
        "id": "12VRGzkeK7PA",
        "colab_type": "code",
        "colab": {}
      },
      "source": [
        "####The PU Ration consider 180-day volatility\n",
        "df['Token Utility_volatility']=df['Token Utility']/df['volatility180']*(df['volatility180'].mean())\n",
        "df['PU Ratio_volatility']=df['PriceUSD']/df['Token Utility_volatility']"
      ],
      "execution_count": null,
      "outputs": []
    },
    {
      "cell_type": "code",
      "metadata": {
        "id": "AA2TNVO5LJ2g",
        "colab_type": "code",
        "colab": {}
      },
      "source": [
        "fig, ax1 =plt.subplots()\n",
        "ax1 = df['Token Utility_volatility']['2010-12-18': ].plot(figsize=(14, 10), linewidth=2, fontsize=16, color='blue')\n",
        "plt.legend(loc='upper left')\n",
        "ax2=ax1.twinx()\n",
        "ax2=df['Token Utility']['2010-12-18': ].plot(figsize=(14, 10), linewidth=2, fontsize=16,color='green')\n",
        "ax1.set_yscale('log')\n",
        "ax2.set_yscale('log')\n",
        "plt.title('Token Utility considering volatility or not')\n",
        "plt.legend(loc='best')\n",
        "plt.savefig('btc_TU_V.png')"
      ],
      "execution_count": null,
      "outputs": []
    },
    {
      "cell_type": "code",
      "metadata": {
        "id": "RUtTEuUvLYDq",
        "colab_type": "code",
        "colab": {}
      },
      "source": [
        "fig, ax1 =plt.subplots()\n",
        "ax1 = df['PU Ratio_volatility']['2010-12-18': ].plot(figsize=(14, 10), linewidth=2, fontsize=16, color='blue')\n",
        "plt.legend(loc='upper left')\n",
        "ax2=ax1.twinx()\n",
        "ax2=df['PU Ratio']['2010-12-18': ].plot(figsize=(14, 10), linewidth=2, fontsize=16,color='green')\n",
        "ax1.set_yscale('log')\n",
        "ax2.set_yscale('log')\n",
        "plt.title('PU Ratio considering volatility or not')\n",
        "plt.legend(loc='best')\n",
        "plt.savefig('btc_PU_V.png')"
      ],
      "execution_count": null,
      "outputs": []
    },
    {
      "cell_type": "code",
      "metadata": {
        "id": "BuiCOCLxjHY7",
        "colab_type": "code",
        "colab": {}
      },
      "source": [
        "df.head()"
      ],
      "execution_count": null,
      "outputs": []
    },
    {
      "cell_type": "code",
      "metadata": {
        "id": "tnDj4FXXf8Fo",
        "colab_type": "code",
        "colab": {}
      },
      "source": [
        "df.to_csv('BTC_2020_07_05.csv')"
      ],
      "execution_count": null,
      "outputs": []
    },
    {
      "cell_type": "code",
      "metadata": {
        "id": "ZJ701k6LNvVd",
        "colab_type": "code",
        "colab": {}
      },
      "source": [
        ""
      ],
      "execution_count": null,
      "outputs": []
    }
  ]
}