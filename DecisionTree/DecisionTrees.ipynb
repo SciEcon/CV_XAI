{
  "nbformat": 4,
  "nbformat_minor": 0,
  "metadata": {
    "colab": {
      "name": "DecisionTrees.ipynb",
      "provenance": [],
      "private_outputs": true,
      "authorship_tag": "ABX9TyOS5roXukucScnTN7lmtDP5",
      "include_colab_link": true
    },
    "kernelspec": {
      "name": "python3",
      "display_name": "Python 3"
    }
  },
  "cells": [
    {
      "cell_type": "markdown",
      "metadata": {
        "id": "view-in-github",
        "colab_type": "text"
      },
      "source": [
        "<a href=\"https://colab.research.google.com/github/sunshineluyao/CV_ML/blob/master/DecisionTree/DecisionTrees.ipynb\" target=\"_parent\"><img src=\"https://colab.research.google.com/assets/colab-badge.svg\" alt=\"Open In Colab\"/></a>"
      ]
    },
    {
      "cell_type": "code",
      "metadata": {
        "id": "gbNsTB20A2i1",
        "colab_type": "code",
        "colab": {}
      },
      "source": [
        "import pandas as pd \n",
        "import numpy as np\n",
        "from sklearn.tree import DecisionTreeClassifier # Import Decision Tree Classifier\n",
        "from sklearn import metrics \n",
        "clf = DecisionTreeClassifier()"
      ],
      "execution_count": null,
      "outputs": []
    },
    {
      "cell_type": "code",
      "metadata": {
        "id": "TI-UHwAmBvZ7",
        "colab_type": "code",
        "colab": {}
      },
      "source": [
        "\n",
        "###show all columns\n",
        "pd.set_option('display.max_columns', None)\n",
        "pd.set_option('display.max_rows', None)"
      ],
      "execution_count": null,
      "outputs": []
    },
    {
      "cell_type": "code",
      "metadata": {
        "id": "4V5SN0TTCIHj",
        "colab_type": "code",
        "colab": {}
      },
      "source": [
        "\n",
        "df=pd.read_csv('https://raw.githubusercontent.com/sunshineluyao/Fintech_AI/master/data/btc_Kmeans_2020_07_05.csv')\n",
        "df.head()"
      ],
      "execution_count": null,
      "outputs": []
    },
    {
      "cell_type": "code",
      "metadata": {
        "id": "HP8iVMAaCOJU",
        "colab_type": "code",
        "colab": {}
      },
      "source": [
        "\n",
        "#set \"date\" column as the index\n",
        "df.set_index('Unnamed: 0', inplace=True)\n",
        "#to remove the name of the index\n",
        "df.index.name=None\n",
        "df.tail()"
      ],
      "execution_count": null,
      "outputs": []
    },
    {
      "cell_type": "code",
      "metadata": {
        "id": "afYn9rpWCWsv",
        "colab_type": "code",
        "colab": {}
      },
      "source": [
        "X=df[['PU Ratio','PU_future90d','future90d_ROI']].dropna()\n",
        "X.head()"
      ],
      "execution_count": null,
      "outputs": []
    },
    {
      "cell_type": "code",
      "metadata": {
        "id": "suLWvSYoCpju",
        "colab_type": "code",
        "colab": {}
      },
      "source": [
        "X['market status']=np.where(X['future90d_ROI']> 20,'bull','normal')\n",
        "X.describe(include='all')\n",
        "X.tail()"
      ],
      "execution_count": null,
      "outputs": []
    },
    {
      "cell_type": "code",
      "metadata": {
        "id": "qHTlsl7ICvib",
        "colab_type": "code",
        "colab": {}
      },
      "source": [
        "feature_names=['PU Ratio','PU_future90d']\n",
        "features=X[feature_names]\n",
        "targets=X['market status']"
      ],
      "execution_count": null,
      "outputs": []
    },
    {
      "cell_type": "code",
      "metadata": {
        "id": "-sf-7AwuC1fy",
        "colab_type": "code",
        "colab": {}
      },
      "source": [
        "train_size = int(0.70 * features.shape[0])\n",
        "train_features = features[ :train_size]\n",
        "train_targets = targets[ :train_size]\n",
        "test_features = features[train_size: ]\n",
        "test_targets = targets[train_size: ]"
      ],
      "execution_count": null,
      "outputs": []
    },
    {
      "cell_type": "code",
      "metadata": {
        "id": "LbxrcLs8C4qF",
        "colab_type": "code",
        "colab": {}
      },
      "source": [
        "from sklearn import metrics\n",
        "from sklearn.metrics import accuracy_score"
      ],
      "execution_count": null,
      "outputs": []
    },
    {
      "cell_type": "code",
      "metadata": {
        "id": "owSTKm72C69x",
        "colab_type": "code",
        "colab": {}
      },
      "source": [
        "#####Optimizing Decision Tree Performance\n",
        "# Create Decision Tree classifer object\n",
        "clf = DecisionTreeClassifier(criterion='entropy', max_depth=3,random_state=0)\n",
        "\n",
        "# Train Decision Tree Classifer\n",
        "clf = clf.fit(train_features,train_targets)\n",
        "\n",
        "#Predict the response for test dataset\n",
        "y_pred = clf.predict(test_features)\n",
        "\n",
        "# Compute test set accuracy  \n",
        "acc = accuracy_score(y_pred, test_targets)\n",
        "print(\"Test set accuracy: {:.2f}\".format(acc))"
      ],
      "execution_count": null,
      "outputs": []
    },
    {
      "cell_type": "code",
      "metadata": {
        "id": "m4A6aG5nC8vC",
        "colab_type": "code",
        "colab": {}
      },
      "source": [
        "from sklearn.tree import export_graphviz\n",
        "from sklearn.externals.six import StringIO  \n",
        "from IPython.display import Image  \n",
        "import pydotplus"
      ],
      "execution_count": null,
      "outputs": []
    },
    {
      "cell_type": "code",
      "metadata": {
        "id": "wL_faGh5DFW3",
        "colab_type": "code",
        "colab": {}
      },
      "source": [
        "dot_data = StringIO()\n",
        "export_graphviz(clf, out_file=dot_data,  \n",
        "                filled=True, rounded=True,\n",
        "                special_characters=True,feature_names = feature_names,class_names=['bull','normal'])\n",
        "graph = pydotplus.graph_from_dot_data(dot_data.getvalue())  \n",
        "graph.write_png('BTC.png')\n",
        "Image(graph.create_png())"
      ],
      "execution_count": null,
      "outputs": []
    },
    {
      "cell_type": "code",
      "metadata": {
        "id": "cFshrq5qDKR3",
        "colab_type": "code",
        "colab": {}
      },
      "source": [
        "#####Optimizing Decision Tree Performance\n",
        "# Create Decision Tree classifer object\n",
        "clf = DecisionTreeClassifier(criterion='gini', max_depth=3,random_state=0)\n",
        "\n",
        "# Train Decision Tree Classifer\n",
        "clf = clf.fit(train_features,train_targets)\n",
        "\n",
        "#Predict the response for test dataset\n",
        "y_pred = clf.predict(test_features)\n",
        "\n",
        "# Compute test set accuracy  \n",
        "acc = accuracy_score(y_pred, test_targets)\n",
        "print(\"Test set accuracy: {:.2f}\".format(acc))"
      ],
      "execution_count": null,
      "outputs": []
    },
    {
      "cell_type": "code",
      "metadata": {
        "id": "m2izXE92DpEF",
        "colab_type": "code",
        "colab": {}
      },
      "source": [
        "dot_data = StringIO()\n",
        "export_graphviz(clf, out_file=dot_data,  \n",
        "                filled=True, rounded=True,\n",
        "                special_characters=True,feature_names = feature_names,class_names=['bull','normal'])\n",
        "graph = pydotplus.graph_from_dot_data(dot_data.getvalue())  \n",
        "graph.write_png('BTC.png')\n",
        "Image(graph.create_png())"
      ],
      "execution_count": null,
      "outputs": []
    },
    {
      "cell_type": "code",
      "metadata": {
        "id": "ylmM04wNUQho",
        "colab_type": "code",
        "colab": {}
      },
      "source": [
        "#####Optimizing Decision Tree Performance\n",
        "# Create Decision Tree classifer object\n",
        "clf = DecisionTreeClassifier(criterion='entropy', max_depth=5,random_state=0)\n",
        "\n",
        "# Train Decision Tree Classifer\n",
        "clf = clf.fit(train_features,train_targets)\n",
        "\n",
        "#Predict the response for test dataset\n",
        "y_pred = clf.predict(test_features)\n",
        "\n",
        "# Compute test set accuracy  \n",
        "acc = accuracy_score(y_pred, test_targets)\n",
        "print(\"Test set accuracy: {:.2f}\".format(acc))"
      ],
      "execution_count": null,
      "outputs": []
    },
    {
      "cell_type": "code",
      "metadata": {
        "id": "HvS4ffuZg4-0",
        "colab_type": "code",
        "colab": {}
      },
      "source": [
        "dot_data = StringIO()\n",
        "export_graphviz(clf, out_file=dot_data,  \n",
        "                filled=True, rounded=True,\n",
        "                special_characters=True,feature_names = feature_names,class_names=['bull','normal'])\n",
        "graph = pydotplus.graph_from_dot_data(dot_data.getvalue())  \n",
        "graph.write_png('BTC.png')\n",
        "Image(graph.create_png())"
      ],
      "execution_count": null,
      "outputs": []
    },
    {
      "cell_type": "code",
      "metadata": {
        "id": "yAzTPg2hg729",
        "colab_type": "code",
        "colab": {}
      },
      "source": [
        "#####Optimizing Decision Tree Performance\n",
        "# Create Decision Tree classifer object\n",
        "clf = DecisionTreeClassifier(criterion='gini', max_depth=5,random_state=0)\n",
        "\n",
        "# Train Decision Tree Classifer\n",
        "clf = clf.fit(train_features,train_targets)\n",
        "\n",
        "#Predict the response for test dataset\n",
        "y_pred = clf.predict(test_features)\n",
        "\n",
        "# Compute test set accuracy  \n",
        "acc = accuracy_score(y_pred, test_targets)\n",
        "print(\"Test set accuracy: {:.2f}\".format(acc))"
      ],
      "execution_count": null,
      "outputs": []
    },
    {
      "cell_type": "code",
      "metadata": {
        "id": "Zw9_8soThHGn",
        "colab_type": "code",
        "colab": {}
      },
      "source": [
        "dot_data = StringIO()\n",
        "export_graphviz(clf, out_file=dot_data,  \n",
        "                filled=True, rounded=True,\n",
        "                special_characters=True,feature_names = feature_names,class_names=['bull','normal'])\n",
        "graph = pydotplus.graph_from_dot_data(dot_data.getvalue())  \n",
        "graph.write_png('BTC.png')\n",
        "Image(graph.create_png())"
      ],
      "execution_count": null,
      "outputs": []
    },
    {
      "cell_type": "code",
      "metadata": {
        "id": "pTjvg6HqhIv_",
        "colab_type": "code",
        "colab": {}
      },
      "source": [
        ""
      ],
      "execution_count": null,
      "outputs": []
    }
  ]
}